{
 "cells": [
  {
   "cell_type": "markdown",
   "id": "5636a9c4",
   "metadata": {},
   "source": [
    "# **I. LIBRAIRIES & DATA.py**"
   ]
  },
  {
   "cell_type": "code",
   "execution_count": 110,
   "id": "d40fc432",
   "metadata": {},
   "outputs": [],
   "source": [
    "# Libraries\n",
    "\n",
    "import pandas as pd\n",
    "import numpy as np\n",
    "from functools import reduce\n",
    "from datetime import date\n",
    "from datetime import datetime\n",
    "from datetime import timedelta\n",
    "import matplotlib.pyplot as plt\n",
    "from matplotlib.patches import Rectangle as Rect\n",
    "import plotly.express as px\n",
    "import os\n",
    "\n",
    "# RECUP LA DATA\n",
    "# Retrieve the path to the current foldersw\n",
    "current_path = os.getcwd()\n",
    "\n",
    "# Get the path to the csv file folder - in this case the 'data' file\n",
    "csv_path = os.path.join(current_path, 'data\\\\test')\n",
    "\n",
    "# A EXPLIQUER ICI\n",
    "for file in os.listdir(csv_path):\n",
    "    fd = pd.read_csv(os.path.join(csv_path, file))\n",
    "    globals()[file.rpartition(\".\")[0]] = fd\n",
    "\n",
    "# fillna\n",
    "Moon = Moon.copy()\n",
    "Moon.fillna(0, inplace=True)\n",
    "\n",
    "lat_moon_changes = lat_moon_changes.copy()\n",
    "lat_moon_changes.fillna(0, inplace=True)\n",
    "\n",
    "planet_node = planet_node.copy()\n",
    "planet_node.fillna(0, inplace=True)\n",
    "\n",
    "twoday = datetime.strftime(datetime.now(), \"%Y/%m/%d\")\n",
    "t = pd.to_datetime(twoday)\n",
    "t = pd.to_datetime(t)\n",
    "\n",
    "today = datetime.strftime(datetime.now(), \"%d/%m/%Y\")"
   ]
  },
  {
   "cell_type": "code",
   "execution_count": 2,
   "id": "9588e60e",
   "metadata": {},
   "outputs": [
    {
     "data": {
      "text/plain": [
       "50286.12"
      ]
     },
     "execution_count": 2,
     "metadata": {},
     "output_type": "execute_result"
    }
   ],
   "source": [
    "# FIND NEAREST FUNCTION\n",
    "\n",
    "def find_nearest(array,value): \n",
    "    idx = (np.abs(array-value)).argmin() \n",
    "    return array[idx]\n",
    "\n",
    "helio_cum = helio_cum.copy()\n",
    "ex = helio_cum.Ven.array\n",
    "\n",
    "find_nearest(ex, 50286.12)"
   ]
  },
  {
   "cell_type": "markdown",
   "id": "91e1b765",
   "metadata": {},
   "source": [
    "# **II. MAIN TABLE.py**"
   ]
  },
  {
   "cell_type": "markdown",
   "id": "b479e620",
   "metadata": {},
   "source": [
    "## **II.1 HELIO**"
   ]
  },
  {
   "cell_type": "markdown",
   "id": "3f413c48",
   "metadata": {},
   "source": [
    "### **II.1.1 CUMULATIVE HELIO**"
   ]
  },
  {
   "cell_type": "code",
   "execution_count": 3,
   "id": "7901f2f0",
   "metadata": {},
   "outputs": [
    {
     "data": {
      "text/html": [
       "<div>\n",
       "<style scoped>\n",
       "    .dataframe tbody tr th:only-of-type {\n",
       "        vertical-align: middle;\n",
       "    }\n",
       "\n",
       "    .dataframe tbody tr th {\n",
       "        vertical-align: top;\n",
       "    }\n",
       "\n",
       "    .dataframe thead th {\n",
       "        text-align: right;\n",
       "    }\n",
       "</style>\n",
       "<table border=\"1\" class=\"dataframe\">\n",
       "  <thead>\n",
       "    <tr style=\"text-align: right;\">\n",
       "      <th></th>\n",
       "      <th>Date</th>\n",
       "      <th>Earth</th>\n",
       "      <th>Mer</th>\n",
       "      <th>Ven</th>\n",
       "      <th>Mar</th>\n",
       "      <th>Jup</th>\n",
       "      <th>Sat</th>\n",
       "      <th>Ura</th>\n",
       "      <th>Nep</th>\n",
       "      <th>Plu</th>\n",
       "    </tr>\n",
       "  </thead>\n",
       "  <tbody>\n",
       "    <tr>\n",
       "      <th>31527</th>\n",
       "      <td>28/01/2023</td>\n",
       "      <td>128</td>\n",
       "      <td>203</td>\n",
       "      <td>4</td>\n",
       "      <td>101</td>\n",
       "      <td>15</td>\n",
       "      <td>327</td>\n",
       "      <td>47</td>\n",
       "      <td>354</td>\n",
       "      <td>298</td>\n",
       "    </tr>\n",
       "    <tr>\n",
       "      <th>0</th>\n",
       "      <td>31/10/2008</td>\n",
       "      <td>5129</td>\n",
       "      <td>21287</td>\n",
       "      <td>8334</td>\n",
       "      <td>2746</td>\n",
       "      <td>438</td>\n",
       "      <td>163</td>\n",
       "      <td>57</td>\n",
       "      <td>32</td>\n",
       "      <td>28</td>\n",
       "    </tr>\n",
       "    <tr>\n",
       "      <th>0</th>\n",
       "      <td>03/01/2009</td>\n",
       "      <td>5065</td>\n",
       "      <td>21066</td>\n",
       "      <td>8232</td>\n",
       "      <td>2711</td>\n",
       "      <td>433</td>\n",
       "      <td>161</td>\n",
       "      <td>56</td>\n",
       "      <td>31</td>\n",
       "      <td>28</td>\n",
       "    </tr>\n",
       "    <tr>\n",
       "      <th>0</th>\n",
       "      <td>22/05/2010</td>\n",
       "      <td>4567</td>\n",
       "      <td>18998</td>\n",
       "      <td>7424</td>\n",
       "      <td>2442</td>\n",
       "      <td>388</td>\n",
       "      <td>144</td>\n",
       "      <td>50</td>\n",
       "      <td>28</td>\n",
       "      <td>25</td>\n",
       "    </tr>\n",
       "    <tr>\n",
       "      <th>0</th>\n",
       "      <td>29/11/2013</td>\n",
       "      <td>3300</td>\n",
       "      <td>13695</td>\n",
       "      <td>5363</td>\n",
       "      <td>1760</td>\n",
       "      <td>273</td>\n",
       "      <td>102</td>\n",
       "      <td>37</td>\n",
       "      <td>21</td>\n",
       "      <td>18</td>\n",
       "    </tr>\n",
       "    <tr>\n",
       "      <th>0</th>\n",
       "      <td>17/12/2017</td>\n",
       "      <td>1842</td>\n",
       "      <td>7655</td>\n",
       "      <td>2992</td>\n",
       "      <td>994</td>\n",
       "      <td>158</td>\n",
       "      <td>57</td>\n",
       "      <td>21</td>\n",
       "      <td>12</td>\n",
       "      <td>10</td>\n",
       "    </tr>\n",
       "    <tr>\n",
       "      <th>0</th>\n",
       "      <td>15/12/2018</td>\n",
       "      <td>1484</td>\n",
       "      <td>6156</td>\n",
       "      <td>2411</td>\n",
       "      <td>789</td>\n",
       "      <td>130</td>\n",
       "      <td>46</td>\n",
       "      <td>17</td>\n",
       "      <td>9</td>\n",
       "      <td>8</td>\n",
       "    </tr>\n",
       "    <tr>\n",
       "      <th>0</th>\n",
       "      <td>26/06/2019</td>\n",
       "      <td>1293</td>\n",
       "      <td>5376</td>\n",
       "      <td>2102</td>\n",
       "      <td>691</td>\n",
       "      <td>115</td>\n",
       "      <td>41</td>\n",
       "      <td>15</td>\n",
       "      <td>8</td>\n",
       "      <td>7</td>\n",
       "    </tr>\n",
       "    <tr>\n",
       "      <th>0</th>\n",
       "      <td>12/03/2020</td>\n",
       "      <td>1036</td>\n",
       "      <td>4308</td>\n",
       "      <td>1685</td>\n",
       "      <td>571</td>\n",
       "      <td>93</td>\n",
       "      <td>33</td>\n",
       "      <td>12</td>\n",
       "      <td>7</td>\n",
       "      <td>6</td>\n",
       "    </tr>\n",
       "    <tr>\n",
       "      <th>0</th>\n",
       "      <td>25/04/2021</td>\n",
       "      <td>632</td>\n",
       "      <td>2656</td>\n",
       "      <td>1030</td>\n",
       "      <td>339</td>\n",
       "      <td>58</td>\n",
       "      <td>20</td>\n",
       "      <td>7</td>\n",
       "      <td>4</td>\n",
       "      <td>4</td>\n",
       "    </tr>\n",
       "    <tr>\n",
       "      <th>0</th>\n",
       "      <td>20/07/2021</td>\n",
       "      <td>550</td>\n",
       "      <td>2309</td>\n",
       "      <td>891</td>\n",
       "      <td>301</td>\n",
       "      <td>51</td>\n",
       "      <td>18</td>\n",
       "      <td>6</td>\n",
       "      <td>4</td>\n",
       "      <td>3</td>\n",
       "    </tr>\n",
       "    <tr>\n",
       "      <th>0</th>\n",
       "      <td>20/10/2021</td>\n",
       "      <td>461</td>\n",
       "      <td>1923</td>\n",
       "      <td>745</td>\n",
       "      <td>260</td>\n",
       "      <td>43</td>\n",
       "      <td>15</td>\n",
       "      <td>5</td>\n",
       "      <td>3</td>\n",
       "      <td>3</td>\n",
       "    </tr>\n",
       "    <tr>\n",
       "      <th>0</th>\n",
       "      <td>10/11/2021</td>\n",
       "      <td>440</td>\n",
       "      <td>1815</td>\n",
       "      <td>712</td>\n",
       "      <td>251</td>\n",
       "      <td>41</td>\n",
       "      <td>14</td>\n",
       "      <td>5</td>\n",
       "      <td>3</td>\n",
       "      <td>3</td>\n",
       "    </tr>\n",
       "    <tr>\n",
       "      <th>0</th>\n",
       "      <td>18/06/2022</td>\n",
       "      <td>221</td>\n",
       "      <td>960</td>\n",
       "      <td>359</td>\n",
       "      <td>127</td>\n",
       "      <td>21</td>\n",
       "      <td>7</td>\n",
       "      <td>2</td>\n",
       "      <td>2</td>\n",
       "      <td>2</td>\n",
       "    </tr>\n",
       "  </tbody>\n",
       "</table>\n",
       "</div>"
      ],
      "text/plain": [
       "             Date  Earth    Mer   Ven   Mar  Jup  Sat  Ura  Nep  Plu\n",
       "31527  28/01/2023    128    203     4   101   15  327   47  354  298\n",
       "0      31/10/2008   5129  21287  8334  2746  438  163   57   32   28\n",
       "0      03/01/2009   5065  21066  8232  2711  433  161   56   31   28\n",
       "0      22/05/2010   4567  18998  7424  2442  388  144   50   28   25\n",
       "0      29/11/2013   3300  13695  5363  1760  273  102   37   21   18\n",
       "0      17/12/2017   1842   7655  2992   994  158   57   21   12   10\n",
       "0      15/12/2018   1484   6156  2411   789  130   46   17    9    8\n",
       "0      26/06/2019   1293   5376  2102   691  115   41   15    8    7\n",
       "0      12/03/2020   1036   4308  1685   571   93   33   12    7    6\n",
       "0      25/04/2021    632   2656  1030   339   58   20    7    4    4\n",
       "0      20/07/2021    550   2309   891   301   51   18    6    4    3\n",
       "0      20/10/2021    461   1923   745   260   43   15    5    3    3\n",
       "0      10/11/2021    440   1815   712   251   41   14    5    3    3\n",
       "0      18/06/2022    221    960   359   127   21    7    2    2    2"
      ]
     },
     "execution_count": 3,
     "metadata": {},
     "output_type": "execute_result"
    }
   ],
   "source": [
    "from datetime import datetime\n",
    "\n",
    "today = datetime.strftime(datetime.now(), \"%d/%m/%Y\")\n",
    "\n",
    "helio_cum = helio_cum.copy()\n",
    "\n",
    "for col in helio_cum.columns[1:]:\n",
    "     helio_cum= helio_cum.astype({col: int})\n",
    "\n",
    "cumulative_1 = helio_cum.copy()\n",
    "cumulative_2 = helio_cum.copy()\n",
    "cumulative_3 = helio_cum.copy()\n",
    "cumulative_4 = helio_cum.copy()\n",
    "cumulative_5 = helio_cum.copy()\n",
    "cumulative_6 = helio_cum.copy()\n",
    "cumulative_7 = helio_cum.copy()\n",
    "cumulative_8 = helio_cum.copy()\n",
    "cumulative_9 = helio_cum.copy()\n",
    "cumulative_10 = helio_cum.copy()\n",
    "cumulative_11 = helio_cum.copy()\n",
    "cumulative_12 = helio_cum.copy()\n",
    "cumulative_13 = helio_cum.copy()\n",
    "\n",
    "helio = helio.copy()\n",
    "\n",
    "for col in helio.columns[1:]:\n",
    "     helio= helio.astype({col: int})\n",
    "\n",
    "test = helio_cum.copy()\n",
    "\n",
    "result = helio[helio.Date == today]\n",
    "\n",
    "def cum_hel(df, date):\n",
    "    today = datetime.strftime(datetime.now(), \"%d/%m/%Y\")\n",
    "    return pd.DataFrame(\n",
    "        {\n",
    "            \"Date\": [date],\n",
    "            \"Earth\": df[\"Earth\"][df.Date == today].values\n",
    "            - df[\"Earth\"][df.Date == date].values,\n",
    "            \"Mer\": df[\"Mer\"][df.Date == today].values\n",
    "            - df[\"Mer\"][df.Date == date].values,\n",
    "            \"Ven\": df[\"Ven\"][df.Date == today].values\n",
    "            - df[\"Ven\"][df.Date == date].values,\n",
    "            \"Mar\": df[\"Mar\"][df.Date == today].values\n",
    "            - df[\"Mar\"][df.Date == date].values,\n",
    "            \"Jup\": df[\"Jup\"][df.Date == today].values\n",
    "            - df[\"Jup\"][df.Date == date].values,\n",
    "            \"Sat\": df[\"Sat\"][df.Date == today].values\n",
    "            - df[\"Sat\"][df.Date == date].values,\n",
    "            \"Ura\": df[\"Ura\"][df.Date == today].values\n",
    "            - df[\"Ura\"][df.Date == date].values,\n",
    "            \"Nep\": df[\"Nep\"][df.Date == today].values\n",
    "            - df[\"Nep\"][df.Date == date].values,\n",
    "            \"Plu\": df[\"Plu\"][df.Date == today].values\n",
    "            - df[\"Plu\"][df.Date == date].values,\n",
    "        }\n",
    "    )\n",
    "\n",
    "filtered_dfs = []\n",
    "\n",
    "data = [\n",
    "  (cumulative_1, '31/10/2008'),\n",
    "  (cumulative_2, '03/01/2009'),\n",
    "  (cumulative_3, '22/05/2010'),\n",
    "  (cumulative_4, '29/11/2013'),\n",
    "  (cumulative_5, '17/12/2017'),\n",
    "  (cumulative_6, '15/12/2018'),\n",
    "  (cumulative_7, '26/06/2019'),\n",
    "  (cumulative_8, '12/03/2020'),\n",
    "  (cumulative_9, '25/04/2021'),\n",
    "  (cumulative_10, '20/07/2021'),\n",
    "  (cumulative_11, '20/10/2021'),\n",
    "  (cumulative_12, '10/11/2021'),\n",
    "  (cumulative_13, '18/06/2022'),\n",
    "]\n",
    "\n",
    "for i, (df, date) in enumerate(data):\n",
    "  filtered_dfs.append(cum_hel(df, date))\n",
    "\n",
    "cumm_hel = pd.concat(filtered_dfs)\n",
    "hel = pd.concat([result, cumm_hel])\n",
    "hel = hel.round()\n",
    "\n",
    "for col in hel.columns[1:]:\n",
    "     hel = hel.astype({col: int})\n",
    "     \n",
    "hel"
   ]
  },
  {
   "cell_type": "code",
   "execution_count": 4,
   "id": "96efda86",
   "metadata": {},
   "outputs": [
    {
     "data": {
      "text/html": [
       "<div>\n",
       "<style scoped>\n",
       "    .dataframe tbody tr th:only-of-type {\n",
       "        vertical-align: middle;\n",
       "    }\n",
       "\n",
       "    .dataframe tbody tr th {\n",
       "        vertical-align: top;\n",
       "    }\n",
       "\n",
       "    .dataframe thead th {\n",
       "        text-align: right;\n",
       "    }\n",
       "</style>\n",
       "<table border=\"1\" class=\"dataframe\">\n",
       "  <thead>\n",
       "    <tr style=\"text-align: right;\">\n",
       "      <th></th>\n",
       "      <th>Date</th>\n",
       "      <th>Earth</th>\n",
       "      <th>Mer</th>\n",
       "      <th>Ven</th>\n",
       "      <th>Mar</th>\n",
       "      <th>Jup</th>\n",
       "      <th>Sat</th>\n",
       "      <th>Ura</th>\n",
       "      <th>Nep</th>\n",
       "      <th>Plu</th>\n",
       "    </tr>\n",
       "  </thead>\n",
       "  <tbody>\n",
       "    <tr>\n",
       "      <th>31527</th>\n",
       "      <td>28/01/2023</td>\n",
       "      <td>128</td>\n",
       "      <td>203</td>\n",
       "      <td>4</td>\n",
       "      <td>101</td>\n",
       "      <td>15</td>\n",
       "      <td>327</td>\n",
       "      <td>47</td>\n",
       "      <td>354</td>\n",
       "      <td>298</td>\n",
       "    </tr>\n",
       "  </tbody>\n",
       "</table>\n",
       "</div>"
      ],
      "text/plain": [
       "             Date  Earth  Mer  Ven  Mar  Jup  Sat  Ura  Nep  Plu\n",
       "31527  28/01/2023    128  203    4  101   15  327   47  354  298"
      ]
     },
     "execution_count": 4,
     "metadata": {},
     "output_type": "execute_result"
    }
   ],
   "source": [
    "helio[helio.Date == today]"
   ]
  },
  {
   "cell_type": "code",
   "execution_count": 5,
   "id": "50c3ac75",
   "metadata": {},
   "outputs": [],
   "source": [
    "xx = helio[helio.Date == today]\n",
    "xx.to_csv(os.path.join('C://Users//ASUS//Desktop//ASTROTOOL//streamlit//data','helio.csv'), index= False)"
   ]
  },
  {
   "cell_type": "code",
   "execution_count": 6,
   "id": "e1ec9355",
   "metadata": {},
   "outputs": [],
   "source": [
    "xxx = geo[geo.Date == today]\n",
    "xxx.to_csv(os.path.join('C://Users//ASUS//Desktop//ASTROTOOL//streamlit//data','geo.csv'), index= False)"
   ]
  },
  {
   "cell_type": "markdown",
   "id": "bce61220",
   "metadata": {},
   "source": [
    "### **II.1.2 MOD30 & 360**"
   ]
  },
  {
   "cell_type": "markdown",
   "id": "90b83d92",
   "metadata": {},
   "source": [
    "#### **MOD30**"
   ]
  },
  {
   "cell_type": "code",
   "execution_count": 7,
   "id": "168d7228",
   "metadata": {},
   "outputs": [
    {
     "data": {
      "text/html": [
       "<div>\n",
       "<style scoped>\n",
       "    .dataframe tbody tr th:only-of-type {\n",
       "        vertical-align: middle;\n",
       "    }\n",
       "\n",
       "    .dataframe tbody tr th {\n",
       "        vertical-align: top;\n",
       "    }\n",
       "\n",
       "    .dataframe thead th {\n",
       "        text-align: right;\n",
       "    }\n",
       "</style>\n",
       "<table border=\"1\" class=\"dataframe\">\n",
       "  <thead>\n",
       "    <tr style=\"text-align: right;\">\n",
       "      <th></th>\n",
       "      <th>Date</th>\n",
       "      <th>Earth</th>\n",
       "      <th>Mer</th>\n",
       "      <th>Ven</th>\n",
       "      <th>Mar</th>\n",
       "      <th>Jup</th>\n",
       "      <th>Sat</th>\n",
       "      <th>Ura</th>\n",
       "      <th>Nep</th>\n",
       "      <th>Plu</th>\n",
       "    </tr>\n",
       "  </thead>\n",
       "  <tbody>\n",
       "    <tr>\n",
       "      <th>0</th>\n",
       "      <td>28/01/2023</td>\n",
       "      <td>8</td>\n",
       "      <td>23</td>\n",
       "      <td>4</td>\n",
       "      <td>11</td>\n",
       "      <td>15</td>\n",
       "      <td>27</td>\n",
       "      <td>17</td>\n",
       "      <td>24</td>\n",
       "      <td>28</td>\n",
       "    </tr>\n",
       "  </tbody>\n",
       "</table>\n",
       "</div>"
      ],
      "text/plain": [
       "         Date  Earth  Mer  Ven  Mar  Jup  Sat  Ura  Nep  Plu\n",
       "0  28/01/2023      8   23    4   11   15   27   17   24   28"
      ]
     },
     "execution_count": 7,
     "metadata": {},
     "output_type": "execute_result"
    }
   ],
   "source": [
    "# mod30 (donne qu'elle signe il est)\n",
    "\n",
    "mod = pd.DataFrame({'Date': [today],\n",
    "\n",
    "                                       'Earth': helio['Earth'][helio.Date == today].values\n",
    "                                       % 30,\n",
    "\n",
    "                                       'Mer': helio['Mer'][helio.Date == today].values\n",
    "                                       % 30,\n",
    "                                       \n",
    "                                       'Ven': helio['Ven'][helio.Date == today].values\n",
    "                                       % 30,\n",
    "\n",
    "                                       'Mar': helio['Mar'][helio.Date == today].values\n",
    "                                       % 30,\n",
    "\n",
    "                                       'Jup': helio['Jup'][helio.Date == today].values\n",
    "                                       % 30,\n",
    "                                       \n",
    "                                       'Sat': helio['Sat'][helio.Date == today].values\n",
    "                                       % 30,\n",
    "\n",
    "                                       'Ura': helio['Ura'][helio.Date == today].values\n",
    "                                       % 30,\n",
    "\n",
    "                                       'Nep': helio['Nep'][helio.Date == today].values\n",
    "                                       % 30,\n",
    "                                       \n",
    "                                       'Plu': helio['Plu'][helio.Date == today].values\n",
    "                                       % 30,\n",
    "\n",
    "                                       })\n",
    "\n",
    "\n",
    "mod = mod.round()\n",
    "mod"
   ]
  },
  {
   "cell_type": "code",
   "execution_count": 8,
   "id": "991ea04b",
   "metadata": {},
   "outputs": [
    {
     "data": {
      "text/html": [
       "<div>\n",
       "<style scoped>\n",
       "    .dataframe tbody tr th:only-of-type {\n",
       "        vertical-align: middle;\n",
       "    }\n",
       "\n",
       "    .dataframe tbody tr th {\n",
       "        vertical-align: top;\n",
       "    }\n",
       "\n",
       "    .dataframe thead th {\n",
       "        text-align: right;\n",
       "    }\n",
       "</style>\n",
       "<table border=\"1\" class=\"dataframe\">\n",
       "  <thead>\n",
       "    <tr style=\"text-align: right;\">\n",
       "      <th></th>\n",
       "      <th>Date</th>\n",
       "      <th>Earth</th>\n",
       "      <th>Mer</th>\n",
       "      <th>Ven</th>\n",
       "      <th>Mar</th>\n",
       "      <th>Jup</th>\n",
       "      <th>Sat</th>\n",
       "      <th>Ura</th>\n",
       "      <th>Nep</th>\n",
       "      <th>Plu</th>\n",
       "    </tr>\n",
       "  </thead>\n",
       "  <tbody>\n",
       "    <tr>\n",
       "      <th>0</th>\n",
       "      <td>28/01/2023</td>\n",
       "      <td>Le</td>\n",
       "      <td>Li</td>\n",
       "      <td>Ar</td>\n",
       "      <td>Ca</td>\n",
       "      <td>Ar</td>\n",
       "      <td>Aq</td>\n",
       "      <td>Ta</td>\n",
       "      <td>Pi</td>\n",
       "      <td>Cp</td>\n",
       "    </tr>\n",
       "  </tbody>\n",
       "</table>\n",
       "</div>"
      ],
      "text/plain": [
       "         Date Earth Mer Ven Mar Jup Sat Ura Nep Plu\n",
       "0  28/01/2023    Le  Li  Ar  Ca  Ar  Aq  Ta  Pi  Cp"
      ]
     },
     "execution_count": 8,
     "metadata": {},
     "output_type": "execute_result"
    }
   ],
   "source": [
    "# rrr\n",
    "\n",
    "result2 = result.copy() # rrr\n",
    "\n",
    "for col in result2.columns[1:]:\n",
    "     result2= result2.astype({col: \"int64\"})\n",
    "\n",
    "for col in result2.columns[1:]:\n",
    "     result2= result2.astype({col: \"int64\"})\n",
    "\n",
    "rrr = pd.DataFrame({'Date': [today],\n",
    "\n",
    "                                       'Earth': helio['Earth'][helio.Date == today].values,\n",
    "\n",
    "                                       'Mer': helio['Mer'][helio.Date == today].values,\n",
    "                                       \n",
    "                                       'Ven': helio['Ven'][helio.Date == today].values,\n",
    "\n",
    "                                       'Mar': helio['Mar'][helio.Date == today].values,\n",
    "\n",
    "                                       'Jup': helio['Jup'][helio.Date == today].values,\n",
    "                                       \n",
    "                                       'Sat': helio['Sat'][helio.Date == today].values,\n",
    "\n",
    "                                       'Ura': helio['Ura'][helio.Date == today].values,\n",
    "\n",
    "                                       'Nep': helio['Nep'][helio.Date == today].values,\n",
    "                                       \n",
    "                                       'Plu': helio['Plu'][helio.Date == today].values,\n",
    "\n",
    "                                       })\n",
    "\n",
    "rrr.round()\n",
    "\n",
    "for i in rrr['Earth']: \n",
    "        if (0<=i<=29):\n",
    "            rrr['Earth'] = rrr['Earth'].replace(i, \"Ar\")\n",
    "        elif (30<=i<=59):\n",
    "            rrr['Earth'] = rrr['Earth'].replace(i, \"Ta\")\n",
    "        elif (60<=i<=89):\n",
    "            rrr['Earth'] = rrr['Earth'].replace(i, \"Ge\")\n",
    "        elif (90<=i<=119):\n",
    "            rrr['Earth'] = rrr['Earth'].replace(i, \"Ca\")\n",
    "        elif (120<=i<=149):\n",
    "            rrr['Earth'] = rrr['Earth'].replace(i, \"Le\")\n",
    "        elif (150<=i<=179):\n",
    "            rrr['Earth'] = rrr['Earth'].replace(i, \"Vi\")\n",
    "        elif (180<=i<=209):\n",
    "            rrr['Earth'] = rrr['Earth'].replace(i, \"Li\")\n",
    "        elif (209<=i<=239):\n",
    "            rrr['Earth'] = rrr['Earth'].replace(i, \"Sc\")\n",
    "        elif (240<=i<=269):\n",
    "            rrr['Earth'] = rrr['Earth'].replace(i, \"Sg\")\n",
    "        elif (270<=i<=299):\n",
    "            rrr['Earth'] = rrr['Earth'].replace(i, \"Cp\")\n",
    "        elif (300<=i<=329):\n",
    "            rrr['Earth'] = rrr['Earth'].replace(i, \"Aq\")\n",
    "        elif (330<=i<=359):\n",
    "            rrr['Earth'] = rrr['Earth'].replace(i, \"Pi\")\n",
    "\n",
    "for i in rrr['Mer']: \n",
    "        if (0<=i<=29):\n",
    "            rrr['Mer'] = rrr['Mer'].replace(i, \"Ar\")\n",
    "        elif (30<=i<=59):\n",
    "            rrr['Mer'] = rrr['Mer'].replace(i, \"Ta\")\n",
    "        elif (60<=i<=89):\n",
    "            rrr['Mer'] = rrr['Mer'].replace(i, \"Ge\")\n",
    "        elif (90<=i<=119):\n",
    "            rrr['Mer'] = rrr['Mer'].replace(i, \"Ca\")\n",
    "        elif (120<=i<=149):\n",
    "            rrr['Mer'] = rrr['Mer'].replace(i, \"Le\")\n",
    "        elif (150<=i<=179):\n",
    "            rrr['Mer'] = rrr['Mer'].replace(i, \"Vi\")\n",
    "        elif (180<=i<=209):\n",
    "            rrr['Mer'] = rrr['Mer'].replace(i, \"Li\")\n",
    "        elif (209<=i<=239):\n",
    "            rrr['Mer'] = rrr['Mer'].replace(i, \"Sc\")\n",
    "        elif (240<=i<=269):\n",
    "            rrr['Mer'] = rrr['Mer'].replace(i, \"Sg\")\n",
    "        elif (270<=i<=299):\n",
    "            rrr['Mer'] = rrr['Mer'].replace(i, \"Cp\")\n",
    "        elif (300<=i<=329):\n",
    "            rrr['Mer'] = rrr['Mer'].replace(i, \"Aq\")\n",
    "        elif (330<=i<=359):\n",
    "            rrr['Mer'] = rrr['Mer'].replace(i, \"Pi\")\n",
    "\n",
    "for i in rrr['Ven']: \n",
    "        if (0<=i<=29):\n",
    "            rrr['Ven'] = rrr['Ven'].replace(i, \"Ar\")\n",
    "        elif (30<=i<=59):\n",
    "            rrr['Ven'] = rrr['Ven'].replace(i, \"Ta\")\n",
    "        elif (60<=i<=89):\n",
    "            rrr['Ven'] = rrr['Ven'].replace(i, \"Ge\")\n",
    "        elif (90<=i<=119):\n",
    "            rrr['Ven'] = rrr['Ven'].replace(i, \"Ca\")\n",
    "        elif (120<=i<=149):\n",
    "            rrr['Ven'] = rrr['Ven'].replace(i, \"Le\")\n",
    "        elif (150<=i<=179):\n",
    "            rrr['Ven'] = rrr['Ven'].replace(i, \"Vi\")\n",
    "        elif (180<=i<=209):\n",
    "            rrr['Ven'] = rrr['Ven'].replace(i, \"Li\")\n",
    "        elif (209<=i<=239):\n",
    "            rrr['Ven'] = rrr['Ven'].replace(i, \"Sc\")\n",
    "        elif (240<=i<=269):\n",
    "            rrr['Ven'] = rrr['Ven'].replace(i, \"Sg\")\n",
    "        elif (270<=i<=299):\n",
    "            rrr['Ven'] = rrr['Ven'].replace(i, \"Cp\")\n",
    "        elif (300<=i<=329):\n",
    "            rrr['Ven'] = rrr['Ven'].replace(i, \"Aq\")\n",
    "        elif (330<=i<=359):\n",
    "            rrr['Ven'] = rrr['Ven'].replace(i, \"Pi\")\n",
    "\n",
    "for i in rrr['Mar']: \n",
    "        if (0<=i<=29):\n",
    "            rrr['Mar'] = rrr['Mar'].replace(i, \"Ar\")\n",
    "        elif (30<=i<=59):\n",
    "            rrr['Mar'] = rrr['Mar'].replace(i, \"Ta\")\n",
    "        elif (60<=i<=89):\n",
    "            rrr['Mar'] = rrr['Mar'].replace(i, \"Ge\")\n",
    "        elif (90<=i<=119):\n",
    "            rrr['Mar'] = rrr['Mar'].replace(i, \"Ca\")\n",
    "        elif (120<=i<=149):\n",
    "            rrr['Mar'] = rrr['Mar'].replace(i, \"Le\")\n",
    "        elif (150<=i<=179):\n",
    "            rrr['Mar'] = rrr['Mar'].replace(i, \"Vi\")\n",
    "        elif (180<=i<=209):\n",
    "            rrr['Mar'] = rrr['Mar'].replace(i, \"Li\")\n",
    "        elif (209<=i<=239):\n",
    "            rrr['Mar'] = rrr['Mar'].replace(i, \"Sc\")\n",
    "        elif (240<=i<=269):\n",
    "            rrr['Mar'] = rrr['Mar'].replace(i, \"Sg\")\n",
    "        elif (270<=i<=299):\n",
    "            rrr['Mar'] = rrr['Mar'].replace(i, \"Cp\")\n",
    "        elif (300<=i<=329):\n",
    "            rrr['Mar'] = rrr['Mar'].replace(i, \"Aq\")\n",
    "        elif (330<=i<=359):\n",
    "            rrr['Mar'] = rrr['Mar'].replace(i, \"Pi\")\n",
    "\n",
    "for i in rrr['Jup']: \n",
    "        if (0<=i<=29):\n",
    "            rrr['Jup'] = rrr['Jup'].replace(i, \"Ar\")\n",
    "        elif (30<=i<=59):\n",
    "            rrr['Jup'] = rrr['Jup'].replace(i, \"Ta\")\n",
    "        elif (60<=i<=89):\n",
    "            rrr['Jup'] = rrr['Jup'].replace(i, \"Ge\")\n",
    "        elif (90<=i<=119):\n",
    "            rrr['Jup'] = rrr['Jup'].replace(i, \"Ca\")\n",
    "        elif (120<=i<=149):\n",
    "            rrr['Jup'] = rrr['Jup'].replace(i, \"Le\")\n",
    "        elif (150<=i<=179):\n",
    "            rrr['Jup'] = rrr['Jup'].replace(i, \"Vi\")\n",
    "        elif (180<=i<=209):\n",
    "            rrr['Jup'] = rrr['Jup'].replace(i, \"Li\")\n",
    "        elif (209<=i<=239):\n",
    "            rrr['Jup'] = rrr['Jup'].replace(i, \"Sc\")\n",
    "        elif (240<=i<=269):\n",
    "            rrr['Jup'] = rrr['Jup'].replace(i, \"Sg\")\n",
    "        elif (270<=i<=299):\n",
    "            rrr['Jup'] = rrr['Jup'].replace(i, \"Cp\")\n",
    "        elif (300<=i<=329):\n",
    "            rrr['Jup'] = rrr['Jup'].replace(i, \"Aq\")\n",
    "        elif (330<=i<=360):\n",
    "            rrr['Jup'] = rrr['Jup'].replace(i, \"Pi\")\n",
    "\n",
    "for i in rrr['Sat']: \n",
    "        if (0<=i<=29):\n",
    "            rrr['Sat'] = rrr['Sat'].replace(i, \"Ar\")\n",
    "        elif (30<=i<=59):\n",
    "            rrr['Sat'] = rrr['Sat'].replace(i, \"Ta\")\n",
    "        elif (60<=i<=89):\n",
    "            rrr['Sat'] = rrr['Sat'].replace(i, \"Ge\")\n",
    "        elif (90<=i<=119):\n",
    "            rrr['Sat'] = rrr['Sat'].replace(i, \"Ca\")\n",
    "        elif (120<=i<=149):\n",
    "            rrr['Sat'] = rrr['Sat'].replace(i, \"Le\")\n",
    "        elif (150<=i<=179):\n",
    "            rrr['Sat'] = rrr['Sat'].replace(i, \"Vi\")\n",
    "        elif (180<=i<=209):\n",
    "            rrr['Sat'] = rrr['Sat'].replace(i, \"Li\")\n",
    "        elif (209<=i<=239):\n",
    "            rrr['Sat'] = rrr['Sat'].replace(i, \"Sc\")\n",
    "        elif (240<=i<=269):\n",
    "            rrr['Sat'] = rrr['Sat'].replace(i, \"Sg\")\n",
    "        elif (270<=i<=299):\n",
    "            rrr['Sat'] = rrr['Sat'].replace(i, \"Cp\")\n",
    "        elif (300<=i<=329):\n",
    "            rrr['Sat'] = rrr['Sat'].replace(i, \"Aq\")\n",
    "        elif (330<=i<=359):\n",
    "            rrr['Sat'] = rrr['Sat'].replace(i, \"Pi\")\n",
    "\n",
    "for i in rrr['Ura']: \n",
    "        if (0<=i<=29):\n",
    "            rrr['Ura'] = rrr['Ura'].replace(i, \"Ar\")\n",
    "        elif (30<=i<=59):\n",
    "            rrr['Ura'] = rrr['Ura'].replace(i, \"Ta\")\n",
    "        elif (60<=i<=89):\n",
    "            rrr['Ura'] = rrr['Ura'].replace(i, \"Ge\")\n",
    "        elif (90<=i<=119):\n",
    "            rrr['Ura'] = rrr['Ura'].replace(i, \"Ca\")\n",
    "        elif (120<=i<=149):\n",
    "            rrr['Ura'] = rrr['Ura'].replace(i, \"Le\")\n",
    "        elif (150<=i<=179):\n",
    "            rrr['Ura'] = rrr['Ura'].replace(i, \"Vi\")\n",
    "        elif (180<=i<=209):\n",
    "            rrr['Ura'] = rrr['Ura'].replace(i, \"Li\")\n",
    "        elif (209<=i<=239):\n",
    "            rrr['Ura'] = rrr['Ura'].replace(i, \"Sc\")\n",
    "        elif (240<=i<=269):\n",
    "            rrr['Ura'] = rrr['Ura'].replace(i, \"Sg\")\n",
    "        elif (270<=i<=299):\n",
    "            rrr['Ura'] = rrr['Ura'].replace(i, \"Cp\")\n",
    "        elif (300<=i<=329):\n",
    "            rrr['Ura'] = rrr['Ura'].replace(i, \"Aq\")\n",
    "        elif (330<=i<=360):\n",
    "            rrr['Ura'] = rrr['Ura'].replace(i, \"Pi\")\n",
    "\n",
    "for i in rrr['Nep']: \n",
    "        if (0<=i<=29):\n",
    "            rrr['Nep'] = rrr['Nep'].replace(i, \"Ar\")\n",
    "        elif (30<=i<=59):\n",
    "            rrr['Nep'] = rrr['Nep'].replace(i, \"Ta\")\n",
    "        elif (60<=i<=89):\n",
    "            rrr['Nep'] = rrr['Nep'].replace(i, \"Ge\")\n",
    "        elif (90<=i<=119):\n",
    "            rrr['Nep'] = rrr['Nep'].replace(i, \"Ca\")\n",
    "        elif (120<=i<=149):\n",
    "            rrr['Nep'] = rrr['Nep'].replace(i, \"Le\")\n",
    "        elif (150<=i<=179):\n",
    "            rrr['Nep'] = rrr['Nep'].replace(i, \"Vi\")\n",
    "        elif (180<=i<=209):\n",
    "            rrr['Nep'] = rrr['Nep'].replace(i, \"Li\")\n",
    "        elif (209<=i<=239):\n",
    "            rrr['Nep'] = rrr['Nep'].replace(i, \"Sc\")\n",
    "        elif (240<=i<=269):\n",
    "            rrr['Nep'] = rrr['Nep'].replace(i, \"Sg\")\n",
    "        elif (270<=i<=299):\n",
    "            rrr['Nep'] = rrr['Nep'].replace(i, \"Cp\")\n",
    "        elif (300<=i<=329):\n",
    "            rrr['Nep'] = rrr['Nep'].replace(i, \"Aq\")\n",
    "        elif (330<=i<=360):\n",
    "            rrr['Nep'] = rrr['Nep'].replace(i, \"Pi\")\n",
    "\n",
    "for i in rrr['Plu']: \n",
    "        if (0<=i<=29):\n",
    "            rrr['Plu'] = rrr['Plu'].replace(i, \"Ar\")\n",
    "        elif (30<=i<=59):\n",
    "            rrr['Plu'] = rrr['Plu'].replace(i, \"Ta\")\n",
    "        elif (60<=i<=89):\n",
    "            rrr['Plu'] = rrr['Plu'].replace(i, \"Ge\")\n",
    "        elif (90<=i<=119):\n",
    "            rrr['Plu'] = rrr['Plu'].replace(i, \"Ca\")\n",
    "        elif (120<=i<=149):\n",
    "            rrr['Plu'] = rrr['Plu'].replace(i, \"Le\")\n",
    "        elif (150<=i<=179):\n",
    "            rrr['Plu'] = rrr['Plu'].replace(i, \"Vi\")\n",
    "        elif (180<=i<=209):\n",
    "            rrr['Plu'] = rrr['Plu'].replace(i, \"Li\")\n",
    "        elif (209<=i<=239):\n",
    "            rrr['Plu'] = rrr['Plu'].replace(i, \"Sc\")\n",
    "        elif (240<=i<=269):\n",
    "            rrr['Plu'] = rrr['Plu'].replace(i, \"Sg\")\n",
    "        elif (270<=i<=299):\n",
    "            rrr['Plu'] = rrr['Plu'].replace(i, \"Cp\")\n",
    "        elif (300<=i<=329):\n",
    "            rrr['Plu'] = rrr['Plu'].replace(i, \"Aq\")\n",
    "        elif (330<=i<=359):\n",
    "            rrr['Plu'] = rrr['Plu'].replace(i, \"Pi\")\n",
    "\n",
    "rrr"
   ]
  },
  {
   "cell_type": "code",
   "execution_count": 9,
   "id": "307c8b9c",
   "metadata": {},
   "outputs": [
    {
     "data": {
      "text/html": [
       "<div>\n",
       "<style scoped>\n",
       "    .dataframe tbody tr th:only-of-type {\n",
       "        vertical-align: middle;\n",
       "    }\n",
       "\n",
       "    .dataframe tbody tr th {\n",
       "        vertical-align: top;\n",
       "    }\n",
       "\n",
       "    .dataframe thead th {\n",
       "        text-align: right;\n",
       "    }\n",
       "</style>\n",
       "<table border=\"1\" class=\"dataframe\">\n",
       "  <thead>\n",
       "    <tr style=\"text-align: right;\">\n",
       "      <th></th>\n",
       "      <th>Date</th>\n",
       "      <th>Earth</th>\n",
       "      <th>Mer</th>\n",
       "      <th>Ven</th>\n",
       "      <th>Mar</th>\n",
       "      <th>Jup</th>\n",
       "      <th>Sat</th>\n",
       "      <th>Ura</th>\n",
       "      <th>Nep</th>\n",
       "      <th>Plu</th>\n",
       "    </tr>\n",
       "  </thead>\n",
       "  <tbody>\n",
       "    <tr>\n",
       "      <th>0</th>\n",
       "      <td>28/01/2023</td>\n",
       "      <td>8 | Le</td>\n",
       "      <td>23 | Li</td>\n",
       "      <td>4 | Ar</td>\n",
       "      <td>11 | Ca</td>\n",
       "      <td>15 | Ar</td>\n",
       "      <td>27 | Aq</td>\n",
       "      <td>17 | Ta</td>\n",
       "      <td>24 | Pi</td>\n",
       "      <td>28 | Cp</td>\n",
       "    </tr>\n",
       "  </tbody>\n",
       "</table>\n",
       "</div>"
      ],
      "text/plain": [
       "         Date   Earth      Mer     Ven      Mar      Jup      Sat      Ura  \\\n",
       "0  28/01/2023  8 | Le  23 | Li  4 | Ar  11 | Ca  15 | Ar  27 | Aq  17 | Ta   \n",
       "\n",
       "       Nep      Plu  \n",
       "0  24 | Pi  28 | Cp  "
      ]
     },
     "execution_count": 9,
     "metadata": {},
     "output_type": "execute_result"
    }
   ],
   "source": [
    "mod = mod.round()\n",
    "\n",
    "# STR\n",
    "\n",
    "for col in mod.columns[1:]:\n",
    "     mod = mod.astype({col: str})\n",
    "\n",
    "for col in rrr.columns[1:]:\n",
    "     rrr = rrr.astype({col: str})\n",
    "\n",
    "mod0 = pd.DataFrame({\"Date\": [today]})\n",
    "\n",
    "# GROUPBY MANUALY\n",
    "\n",
    "for col in mod.columns[1:]:\n",
    "    mod0[col] = mod[col] + ' | ' + rrr[col] #.groupby('Date').agg('-'.join).reset_index()\n",
    "    \n",
    "mod0"
   ]
  },
  {
   "cell_type": "markdown",
   "id": "77b7bff5",
   "metadata": {},
   "source": [
    "#### **MOD360**"
   ]
  },
  {
   "cell_type": "markdown",
   "id": "ae760611",
   "metadata": {},
   "source": []
  },
  {
   "cell_type": "code",
   "execution_count": 10,
   "id": "8bef9805",
   "metadata": {},
   "outputs": [
    {
     "data": {
      "text/html": [
       "<div>\n",
       "<style scoped>\n",
       "    .dataframe tbody tr th:only-of-type {\n",
       "        vertical-align: middle;\n",
       "    }\n",
       "\n",
       "    .dataframe tbody tr th {\n",
       "        vertical-align: top;\n",
       "    }\n",
       "\n",
       "    .dataframe thead th {\n",
       "        text-align: right;\n",
       "    }\n",
       "</style>\n",
       "<table border=\"1\" class=\"dataframe\">\n",
       "  <thead>\n",
       "    <tr style=\"text-align: right;\">\n",
       "      <th></th>\n",
       "      <th>Date</th>\n",
       "      <th>Earth</th>\n",
       "      <th>Mer</th>\n",
       "      <th>Ven</th>\n",
       "      <th>Mar</th>\n",
       "      <th>Jup</th>\n",
       "      <th>Sat</th>\n",
       "      <th>Ura</th>\n",
       "      <th>Nep</th>\n",
       "      <th>Plu</th>\n",
       "    </tr>\n",
       "  </thead>\n",
       "  <tbody>\n",
       "    <tr>\n",
       "      <th>31527</th>\n",
       "      <td>28/01/2023</td>\n",
       "      <td>0</td>\n",
       "      <td>0</td>\n",
       "      <td>0</td>\n",
       "      <td>0</td>\n",
       "      <td>0</td>\n",
       "      <td>0</td>\n",
       "      <td>47</td>\n",
       "      <td>0</td>\n",
       "      <td>0</td>\n",
       "    </tr>\n",
       "    <tr>\n",
       "      <th>0</th>\n",
       "      <td>31/10/2008</td>\n",
       "      <td>14</td>\n",
       "      <td>59</td>\n",
       "      <td>23</td>\n",
       "      <td>7</td>\n",
       "      <td>1</td>\n",
       "      <td>0</td>\n",
       "      <td>57</td>\n",
       "      <td>0</td>\n",
       "      <td>0</td>\n",
       "    </tr>\n",
       "    <tr>\n",
       "      <th>0</th>\n",
       "      <td>03/01/2009</td>\n",
       "      <td>14</td>\n",
       "      <td>58</td>\n",
       "      <td>22</td>\n",
       "      <td>7</td>\n",
       "      <td>1</td>\n",
       "      <td>0</td>\n",
       "      <td>56</td>\n",
       "      <td>0</td>\n",
       "      <td>0</td>\n",
       "    </tr>\n",
       "    <tr>\n",
       "      <th>0</th>\n",
       "      <td>22/05/2010</td>\n",
       "      <td>12</td>\n",
       "      <td>52</td>\n",
       "      <td>20</td>\n",
       "      <td>6</td>\n",
       "      <td>1</td>\n",
       "      <td>0</td>\n",
       "      <td>50</td>\n",
       "      <td>0</td>\n",
       "      <td>0</td>\n",
       "    </tr>\n",
       "    <tr>\n",
       "      <th>0</th>\n",
       "      <td>29/11/2013</td>\n",
       "      <td>9</td>\n",
       "      <td>38</td>\n",
       "      <td>14</td>\n",
       "      <td>4</td>\n",
       "      <td>0</td>\n",
       "      <td>0</td>\n",
       "      <td>37</td>\n",
       "      <td>0</td>\n",
       "      <td>0</td>\n",
       "    </tr>\n",
       "    <tr>\n",
       "      <th>0</th>\n",
       "      <td>17/12/2017</td>\n",
       "      <td>5</td>\n",
       "      <td>21</td>\n",
       "      <td>8</td>\n",
       "      <td>2</td>\n",
       "      <td>0</td>\n",
       "      <td>0</td>\n",
       "      <td>21</td>\n",
       "      <td>0</td>\n",
       "      <td>0</td>\n",
       "    </tr>\n",
       "    <tr>\n",
       "      <th>0</th>\n",
       "      <td>15/12/2018</td>\n",
       "      <td>4</td>\n",
       "      <td>17</td>\n",
       "      <td>6</td>\n",
       "      <td>2</td>\n",
       "      <td>0</td>\n",
       "      <td>0</td>\n",
       "      <td>17</td>\n",
       "      <td>0</td>\n",
       "      <td>0</td>\n",
       "    </tr>\n",
       "    <tr>\n",
       "      <th>0</th>\n",
       "      <td>26/06/2019</td>\n",
       "      <td>3</td>\n",
       "      <td>14</td>\n",
       "      <td>5</td>\n",
       "      <td>1</td>\n",
       "      <td>0</td>\n",
       "      <td>0</td>\n",
       "      <td>15</td>\n",
       "      <td>0</td>\n",
       "      <td>0</td>\n",
       "    </tr>\n",
       "    <tr>\n",
       "      <th>0</th>\n",
       "      <td>12/03/2020</td>\n",
       "      <td>2</td>\n",
       "      <td>11</td>\n",
       "      <td>4</td>\n",
       "      <td>1</td>\n",
       "      <td>0</td>\n",
       "      <td>0</td>\n",
       "      <td>12</td>\n",
       "      <td>0</td>\n",
       "      <td>0</td>\n",
       "    </tr>\n",
       "    <tr>\n",
       "      <th>0</th>\n",
       "      <td>25/04/2021</td>\n",
       "      <td>1</td>\n",
       "      <td>7</td>\n",
       "      <td>2</td>\n",
       "      <td>0</td>\n",
       "      <td>0</td>\n",
       "      <td>0</td>\n",
       "      <td>7</td>\n",
       "      <td>0</td>\n",
       "      <td>0</td>\n",
       "    </tr>\n",
       "    <tr>\n",
       "      <th>0</th>\n",
       "      <td>20/07/2021</td>\n",
       "      <td>1</td>\n",
       "      <td>6</td>\n",
       "      <td>2</td>\n",
       "      <td>0</td>\n",
       "      <td>0</td>\n",
       "      <td>0</td>\n",
       "      <td>6</td>\n",
       "      <td>0</td>\n",
       "      <td>0</td>\n",
       "    </tr>\n",
       "    <tr>\n",
       "      <th>0</th>\n",
       "      <td>20/10/2021</td>\n",
       "      <td>1</td>\n",
       "      <td>5</td>\n",
       "      <td>2</td>\n",
       "      <td>0</td>\n",
       "      <td>0</td>\n",
       "      <td>0</td>\n",
       "      <td>5</td>\n",
       "      <td>0</td>\n",
       "      <td>0</td>\n",
       "    </tr>\n",
       "    <tr>\n",
       "      <th>0</th>\n",
       "      <td>10/11/2021</td>\n",
       "      <td>1</td>\n",
       "      <td>5</td>\n",
       "      <td>1</td>\n",
       "      <td>0</td>\n",
       "      <td>0</td>\n",
       "      <td>0</td>\n",
       "      <td>5</td>\n",
       "      <td>0</td>\n",
       "      <td>0</td>\n",
       "    </tr>\n",
       "    <tr>\n",
       "      <th>0</th>\n",
       "      <td>18/06/2022</td>\n",
       "      <td>0</td>\n",
       "      <td>2</td>\n",
       "      <td>0</td>\n",
       "      <td>0</td>\n",
       "      <td>0</td>\n",
       "      <td>0</td>\n",
       "      <td>2</td>\n",
       "      <td>0</td>\n",
       "      <td>0</td>\n",
       "    </tr>\n",
       "  </tbody>\n",
       "</table>\n",
       "</div>"
      ],
      "text/plain": [
       "             Date  Earth  Mer  Ven  Mar  Jup  Sat  Ura  Nep  Plu\n",
       "31527  28/01/2023      0    0    0    0    0    0   47    0    0\n",
       "0      31/10/2008     14   59   23    7    1    0   57    0    0\n",
       "0      03/01/2009     14   58   22    7    1    0   56    0    0\n",
       "0      22/05/2010     12   52   20    6    1    0   50    0    0\n",
       "0      29/11/2013      9   38   14    4    0    0   37    0    0\n",
       "0      17/12/2017      5   21    8    2    0    0   21    0    0\n",
       "0      15/12/2018      4   17    6    2    0    0   17    0    0\n",
       "0      26/06/2019      3   14    5    1    0    0   15    0    0\n",
       "0      12/03/2020      2   11    4    1    0    0   12    0    0\n",
       "0      25/04/2021      1    7    2    0    0    0    7    0    0\n",
       "0      20/07/2021      1    6    2    0    0    0    6    0    0\n",
       "0      20/10/2021      1    5    2    0    0    0    5    0    0\n",
       "0      10/11/2021      1    5    1    0    0    0    5    0    0\n",
       "0      18/06/2022      0    2    0    0    0    0    2    0    0"
      ]
     },
     "execution_count": 10,
     "metadata": {},
     "output_type": "execute_result"
    }
   ],
   "source": [
    "revgui = hel.copy()\n",
    "\n",
    "revgui['Earth'] = revgui['Earth'] / 360\n",
    "revgui['Mer'] = revgui['Mer'] / 360\n",
    "revgui['Ven'] = revgui['Ven'] / 360\n",
    "revgui['Mar'] = revgui['Mar'] / 360\n",
    "revgui['Jup'] = revgui['Jup'] / 360\n",
    "revgui['Sat'] = revgui['Sat'] / 360\n",
    "revgui['Nep'] = revgui['Nep'] / 360\n",
    "revgui['Plu'] = revgui['Plu'] / 360\n",
    "\n",
    "for col in revgui.columns[1:]:\n",
    "     revgui = revgui.astype({col: int})\n",
    "     \n",
    "revgui"
   ]
  },
  {
   "cell_type": "code",
   "execution_count": 11,
   "id": "947f1099",
   "metadata": {},
   "outputs": [
    {
     "data": {
      "text/html": [
       "<div>\n",
       "<style scoped>\n",
       "    .dataframe tbody tr th:only-of-type {\n",
       "        vertical-align: middle;\n",
       "    }\n",
       "\n",
       "    .dataframe tbody tr th {\n",
       "        vertical-align: top;\n",
       "    }\n",
       "\n",
       "    .dataframe thead th {\n",
       "        text-align: right;\n",
       "    }\n",
       "</style>\n",
       "<table border=\"1\" class=\"dataframe\">\n",
       "  <thead>\n",
       "    <tr style=\"text-align: right;\">\n",
       "      <th></th>\n",
       "      <th>Date</th>\n",
       "      <th>Earth</th>\n",
       "      <th>Mer</th>\n",
       "      <th>Ven</th>\n",
       "      <th>Mar</th>\n",
       "      <th>Jup</th>\n",
       "      <th>Sat</th>\n",
       "      <th>Ura</th>\n",
       "      <th>Nep</th>\n",
       "      <th>Plu</th>\n",
       "    </tr>\n",
       "  </thead>\n",
       "  <tbody>\n",
       "    <tr>\n",
       "      <th>31527</th>\n",
       "      <td>28/01/2023</td>\n",
       "      <td>128</td>\n",
       "      <td>203</td>\n",
       "      <td>4</td>\n",
       "      <td>101</td>\n",
       "      <td>15</td>\n",
       "      <td>327</td>\n",
       "      <td>47</td>\n",
       "      <td>354</td>\n",
       "      <td>298</td>\n",
       "    </tr>\n",
       "    <tr>\n",
       "      <th>0</th>\n",
       "      <td>31/10/2008</td>\n",
       "      <td>5129</td>\n",
       "      <td>21287</td>\n",
       "      <td>8334</td>\n",
       "      <td>2746</td>\n",
       "      <td>438</td>\n",
       "      <td>163</td>\n",
       "      <td>57</td>\n",
       "      <td>32</td>\n",
       "      <td>28</td>\n",
       "    </tr>\n",
       "    <tr>\n",
       "      <th>0</th>\n",
       "      <td>03/01/2009</td>\n",
       "      <td>5065</td>\n",
       "      <td>21066</td>\n",
       "      <td>8232</td>\n",
       "      <td>2711</td>\n",
       "      <td>433</td>\n",
       "      <td>161</td>\n",
       "      <td>56</td>\n",
       "      <td>31</td>\n",
       "      <td>28</td>\n",
       "    </tr>\n",
       "    <tr>\n",
       "      <th>0</th>\n",
       "      <td>22/05/2010</td>\n",
       "      <td>4567</td>\n",
       "      <td>18998</td>\n",
       "      <td>7424</td>\n",
       "      <td>2442</td>\n",
       "      <td>388</td>\n",
       "      <td>144</td>\n",
       "      <td>50</td>\n",
       "      <td>28</td>\n",
       "      <td>25</td>\n",
       "    </tr>\n",
       "    <tr>\n",
       "      <th>0</th>\n",
       "      <td>29/11/2013</td>\n",
       "      <td>3300</td>\n",
       "      <td>13695</td>\n",
       "      <td>5363</td>\n",
       "      <td>1760</td>\n",
       "      <td>273</td>\n",
       "      <td>102</td>\n",
       "      <td>37</td>\n",
       "      <td>21</td>\n",
       "      <td>18</td>\n",
       "    </tr>\n",
       "    <tr>\n",
       "      <th>0</th>\n",
       "      <td>17/12/2017</td>\n",
       "      <td>1842</td>\n",
       "      <td>7655</td>\n",
       "      <td>2992</td>\n",
       "      <td>994</td>\n",
       "      <td>158</td>\n",
       "      <td>57</td>\n",
       "      <td>21</td>\n",
       "      <td>12</td>\n",
       "      <td>10</td>\n",
       "    </tr>\n",
       "    <tr>\n",
       "      <th>0</th>\n",
       "      <td>15/12/2018</td>\n",
       "      <td>1484</td>\n",
       "      <td>6156</td>\n",
       "      <td>2411</td>\n",
       "      <td>789</td>\n",
       "      <td>130</td>\n",
       "      <td>46</td>\n",
       "      <td>17</td>\n",
       "      <td>9</td>\n",
       "      <td>8</td>\n",
       "    </tr>\n",
       "    <tr>\n",
       "      <th>0</th>\n",
       "      <td>26/06/2019</td>\n",
       "      <td>1293</td>\n",
       "      <td>5376</td>\n",
       "      <td>2102</td>\n",
       "      <td>691</td>\n",
       "      <td>115</td>\n",
       "      <td>41</td>\n",
       "      <td>15</td>\n",
       "      <td>8</td>\n",
       "      <td>7</td>\n",
       "    </tr>\n",
       "    <tr>\n",
       "      <th>0</th>\n",
       "      <td>12/03/2020</td>\n",
       "      <td>1036</td>\n",
       "      <td>4308</td>\n",
       "      <td>1685</td>\n",
       "      <td>571</td>\n",
       "      <td>93</td>\n",
       "      <td>33</td>\n",
       "      <td>12</td>\n",
       "      <td>7</td>\n",
       "      <td>6</td>\n",
       "    </tr>\n",
       "    <tr>\n",
       "      <th>0</th>\n",
       "      <td>25/04/2021</td>\n",
       "      <td>632</td>\n",
       "      <td>2656</td>\n",
       "      <td>1030</td>\n",
       "      <td>339</td>\n",
       "      <td>58</td>\n",
       "      <td>20</td>\n",
       "      <td>7</td>\n",
       "      <td>4</td>\n",
       "      <td>4</td>\n",
       "    </tr>\n",
       "    <tr>\n",
       "      <th>0</th>\n",
       "      <td>20/07/2021</td>\n",
       "      <td>550</td>\n",
       "      <td>2309</td>\n",
       "      <td>891</td>\n",
       "      <td>301</td>\n",
       "      <td>51</td>\n",
       "      <td>18</td>\n",
       "      <td>6</td>\n",
       "      <td>4</td>\n",
       "      <td>3</td>\n",
       "    </tr>\n",
       "    <tr>\n",
       "      <th>0</th>\n",
       "      <td>20/10/2021</td>\n",
       "      <td>461</td>\n",
       "      <td>1923</td>\n",
       "      <td>745</td>\n",
       "      <td>260</td>\n",
       "      <td>43</td>\n",
       "      <td>15</td>\n",
       "      <td>5</td>\n",
       "      <td>3</td>\n",
       "      <td>3</td>\n",
       "    </tr>\n",
       "    <tr>\n",
       "      <th>0</th>\n",
       "      <td>10/11/2021</td>\n",
       "      <td>440</td>\n",
       "      <td>1815</td>\n",
       "      <td>712</td>\n",
       "      <td>251</td>\n",
       "      <td>41</td>\n",
       "      <td>14</td>\n",
       "      <td>5</td>\n",
       "      <td>3</td>\n",
       "      <td>3</td>\n",
       "    </tr>\n",
       "    <tr>\n",
       "      <th>0</th>\n",
       "      <td>18/06/2022</td>\n",
       "      <td>221</td>\n",
       "      <td>960</td>\n",
       "      <td>359</td>\n",
       "      <td>127</td>\n",
       "      <td>21</td>\n",
       "      <td>7</td>\n",
       "      <td>2</td>\n",
       "      <td>2</td>\n",
       "      <td>2</td>\n",
       "    </tr>\n",
       "  </tbody>\n",
       "</table>\n",
       "</div>"
      ],
      "text/plain": [
       "             Date  Earth    Mer   Ven   Mar  Jup  Sat  Ura  Nep  Plu\n",
       "31527  28/01/2023    128    203     4   101   15  327   47  354  298\n",
       "0      31/10/2008   5129  21287  8334  2746  438  163   57   32   28\n",
       "0      03/01/2009   5065  21066  8232  2711  433  161   56   31   28\n",
       "0      22/05/2010   4567  18998  7424  2442  388  144   50   28   25\n",
       "0      29/11/2013   3300  13695  5363  1760  273  102   37   21   18\n",
       "0      17/12/2017   1842   7655  2992   994  158   57   21   12   10\n",
       "0      15/12/2018   1484   6156  2411   789  130   46   17    9    8\n",
       "0      26/06/2019   1293   5376  2102   691  115   41   15    8    7\n",
       "0      12/03/2020   1036   4308  1685   571   93   33   12    7    6\n",
       "0      25/04/2021    632   2656  1030   339   58   20    7    4    4\n",
       "0      20/07/2021    550   2309   891   301   51   18    6    4    3\n",
       "0      20/10/2021    461   1923   745   260   43   15    5    3    3\n",
       "0      10/11/2021    440   1815   712   251   41   14    5    3    3\n",
       "0      18/06/2022    221    960   359   127   21    7    2    2    2"
      ]
     },
     "execution_count": 11,
     "metadata": {},
     "output_type": "execute_result"
    }
   ],
   "source": [
    "hexx = hel.copy()\n",
    "hexx"
   ]
  },
  {
   "cell_type": "code",
   "execution_count": 12,
   "id": "e6828307",
   "metadata": {},
   "outputs": [
    {
     "data": {
      "text/html": [
       "<div>\n",
       "<style scoped>\n",
       "    .dataframe tbody tr th:only-of-type {\n",
       "        vertical-align: middle;\n",
       "    }\n",
       "\n",
       "    .dataframe tbody tr th {\n",
       "        vertical-align: top;\n",
       "    }\n",
       "\n",
       "    .dataframe thead th {\n",
       "        text-align: right;\n",
       "    }\n",
       "</style>\n",
       "<table border=\"1\" class=\"dataframe\">\n",
       "  <thead>\n",
       "    <tr style=\"text-align: right;\">\n",
       "      <th></th>\n",
       "      <th>Date</th>\n",
       "      <th>Earth</th>\n",
       "      <th>Mer</th>\n",
       "      <th>Ven</th>\n",
       "      <th>Mar</th>\n",
       "      <th>Jup</th>\n",
       "      <th>Sat</th>\n",
       "      <th>Ura</th>\n",
       "      <th>Nep</th>\n",
       "      <th>Plu</th>\n",
       "    </tr>\n",
       "  </thead>\n",
       "  <tbody>\n",
       "    <tr>\n",
       "      <th>0</th>\n",
       "      <td>31/10/2008</td>\n",
       "      <td>14.0 | 89.0</td>\n",
       "      <td>59.0 | 47.0</td>\n",
       "      <td>23.0 | 54.0</td>\n",
       "      <td>7.0 | 226.0</td>\n",
       "      <td>1.0 | 78.0</td>\n",
       "      <td>0.0 | 163.0</td>\n",
       "      <td>57.0 | 57.0</td>\n",
       "      <td>0.0 | 32.0</td>\n",
       "      <td>0.0 | 28.0</td>\n",
       "    </tr>\n",
       "    <tr>\n",
       "      <th>0</th>\n",
       "      <td>03/01/2009</td>\n",
       "      <td>14.0 | 25.0</td>\n",
       "      <td>58.0 | 186.0</td>\n",
       "      <td>22.0 | 312.0</td>\n",
       "      <td>7.0 | 191.0</td>\n",
       "      <td>1.0 | 73.0</td>\n",
       "      <td>0.0 | 161.0</td>\n",
       "      <td>56.0 | 56.0</td>\n",
       "      <td>0.0 | 31.0</td>\n",
       "      <td>0.0 | 28.0</td>\n",
       "    </tr>\n",
       "    <tr>\n",
       "      <th>0</th>\n",
       "      <td>22/05/2010</td>\n",
       "      <td>12.0 | 247.0</td>\n",
       "      <td>52.0 | 278.0</td>\n",
       "      <td>20.0 | 224.0</td>\n",
       "      <td>6.0 | 282.0</td>\n",
       "      <td>1.0 | 28.0</td>\n",
       "      <td>0.0 | 144.0</td>\n",
       "      <td>50.0 | 50.0</td>\n",
       "      <td>0.0 | 28.0</td>\n",
       "      <td>0.0 | 25.0</td>\n",
       "    </tr>\n",
       "    <tr>\n",
       "      <th>0</th>\n",
       "      <td>29/11/2013</td>\n",
       "      <td>9.0 | 60.0</td>\n",
       "      <td>38.0 | 15.0</td>\n",
       "      <td>14.0 | 323.0</td>\n",
       "      <td>4.0 | 320.0</td>\n",
       "      <td>0.0 | 273.0</td>\n",
       "      <td>0.0 | 102.0</td>\n",
       "      <td>37.0 | 37.0</td>\n",
       "      <td>0.0 | 21.0</td>\n",
       "      <td>0.0 | 18.0</td>\n",
       "    </tr>\n",
       "    <tr>\n",
       "      <th>0</th>\n",
       "      <td>17/12/2017</td>\n",
       "      <td>5.0 | 42.0</td>\n",
       "      <td>21.0 | 95.0</td>\n",
       "      <td>8.0 | 112.0</td>\n",
       "      <td>2.0 | 274.0</td>\n",
       "      <td>0.0 | 158.0</td>\n",
       "      <td>0.0 | 57.0</td>\n",
       "      <td>21.0 | 21.0</td>\n",
       "      <td>0.0 | 12.0</td>\n",
       "      <td>0.0 | 10.0</td>\n",
       "    </tr>\n",
       "    <tr>\n",
       "      <th>0</th>\n",
       "      <td>15/12/2018</td>\n",
       "      <td>4.0 | 44.0</td>\n",
       "      <td>17.0 | 36.0</td>\n",
       "      <td>6.0 | 251.0</td>\n",
       "      <td>2.0 | 69.0</td>\n",
       "      <td>0.0 | 130.0</td>\n",
       "      <td>0.0 | 46.0</td>\n",
       "      <td>17.0 | 17.0</td>\n",
       "      <td>0.0 | 9.0</td>\n",
       "      <td>0.0 | 8.0</td>\n",
       "    </tr>\n",
       "    <tr>\n",
       "      <th>0</th>\n",
       "      <td>26/06/2019</td>\n",
       "      <td>3.0 | 213.0</td>\n",
       "      <td>14.0 | 336.0</td>\n",
       "      <td>5.0 | 302.0</td>\n",
       "      <td>1.0 | 331.0</td>\n",
       "      <td>0.0 | 115.0</td>\n",
       "      <td>0.0 | 41.0</td>\n",
       "      <td>15.0 | 15.0</td>\n",
       "      <td>0.0 | 8.0</td>\n",
       "      <td>0.0 | 7.0</td>\n",
       "    </tr>\n",
       "    <tr>\n",
       "      <th>0</th>\n",
       "      <td>12/03/2020</td>\n",
       "      <td>2.0 | 316.0</td>\n",
       "      <td>11.0 | 348.0</td>\n",
       "      <td>4.0 | 245.0</td>\n",
       "      <td>1.0 | 211.0</td>\n",
       "      <td>0.0 | 93.0</td>\n",
       "      <td>0.0 | 33.0</td>\n",
       "      <td>12.0 | 12.0</td>\n",
       "      <td>0.0 | 7.0</td>\n",
       "      <td>0.0 | 6.0</td>\n",
       "    </tr>\n",
       "    <tr>\n",
       "      <th>0</th>\n",
       "      <td>25/04/2021</td>\n",
       "      <td>1.0 | 272.0</td>\n",
       "      <td>7.0 | 136.0</td>\n",
       "      <td>2.0 | 310.0</td>\n",
       "      <td>0.0 | 339.0</td>\n",
       "      <td>0.0 | 58.0</td>\n",
       "      <td>0.0 | 20.0</td>\n",
       "      <td>7.0 | 7.0</td>\n",
       "      <td>0.0 | 4.0</td>\n",
       "      <td>0.0 | 4.0</td>\n",
       "    </tr>\n",
       "    <tr>\n",
       "      <th>0</th>\n",
       "      <td>20/07/2021</td>\n",
       "      <td>1.0 | 190.0</td>\n",
       "      <td>6.0 | 149.0</td>\n",
       "      <td>2.0 | 171.0</td>\n",
       "      <td>0.0 | 301.0</td>\n",
       "      <td>0.0 | 51.0</td>\n",
       "      <td>0.0 | 18.0</td>\n",
       "      <td>6.0 | 6.0</td>\n",
       "      <td>0.0 | 4.0</td>\n",
       "      <td>0.0 | 3.0</td>\n",
       "    </tr>\n",
       "    <tr>\n",
       "      <th>0</th>\n",
       "      <td>20/10/2021</td>\n",
       "      <td>1.0 | 101.0</td>\n",
       "      <td>5.0 | 123.0</td>\n",
       "      <td>2.0 | 25.0</td>\n",
       "      <td>0.0 | 260.0</td>\n",
       "      <td>0.0 | 43.0</td>\n",
       "      <td>0.0 | 15.0</td>\n",
       "      <td>5.0 | 5.0</td>\n",
       "      <td>0.0 | 3.0</td>\n",
       "      <td>0.0 | 3.0</td>\n",
       "    </tr>\n",
       "    <tr>\n",
       "      <th>0</th>\n",
       "      <td>10/11/2021</td>\n",
       "      <td>1.0 | 80.0</td>\n",
       "      <td>5.0 | 15.0</td>\n",
       "      <td>1.0 | 352.0</td>\n",
       "      <td>0.0 | 251.0</td>\n",
       "      <td>0.0 | 41.0</td>\n",
       "      <td>0.0 | 14.0</td>\n",
       "      <td>5.0 | 5.0</td>\n",
       "      <td>0.0 | 3.0</td>\n",
       "      <td>0.0 | 3.0</td>\n",
       "    </tr>\n",
       "    <tr>\n",
       "      <th>0</th>\n",
       "      <td>18/06/2022</td>\n",
       "      <td>0.0 | 221.0</td>\n",
       "      <td>2.0 | 240.0</td>\n",
       "      <td>0.0 | 359.0</td>\n",
       "      <td>0.0 | 127.0</td>\n",
       "      <td>0.0 | 21.0</td>\n",
       "      <td>0.0 | 7.0</td>\n",
       "      <td>2.0 | 2.0</td>\n",
       "      <td>0.0 | 2.0</td>\n",
       "      <td>0.0 | 2.0</td>\n",
       "    </tr>\n",
       "  </tbody>\n",
       "</table>\n",
       "</div>"
      ],
      "text/plain": [
       "         Date         Earth           Mer           Ven          Mar  \\\n",
       "0  31/10/2008   14.0 | 89.0   59.0 | 47.0   23.0 | 54.0  7.0 | 226.0   \n",
       "0  03/01/2009   14.0 | 25.0  58.0 | 186.0  22.0 | 312.0  7.0 | 191.0   \n",
       "0  22/05/2010  12.0 | 247.0  52.0 | 278.0  20.0 | 224.0  6.0 | 282.0   \n",
       "0  29/11/2013    9.0 | 60.0   38.0 | 15.0  14.0 | 323.0  4.0 | 320.0   \n",
       "0  17/12/2017    5.0 | 42.0   21.0 | 95.0   8.0 | 112.0  2.0 | 274.0   \n",
       "0  15/12/2018    4.0 | 44.0   17.0 | 36.0   6.0 | 251.0   2.0 | 69.0   \n",
       "0  26/06/2019   3.0 | 213.0  14.0 | 336.0   5.0 | 302.0  1.0 | 331.0   \n",
       "0  12/03/2020   2.0 | 316.0  11.0 | 348.0   4.0 | 245.0  1.0 | 211.0   \n",
       "0  25/04/2021   1.0 | 272.0   7.0 | 136.0   2.0 | 310.0  0.0 | 339.0   \n",
       "0  20/07/2021   1.0 | 190.0   6.0 | 149.0   2.0 | 171.0  0.0 | 301.0   \n",
       "0  20/10/2021   1.0 | 101.0   5.0 | 123.0    2.0 | 25.0  0.0 | 260.0   \n",
       "0  10/11/2021    1.0 | 80.0    5.0 | 15.0   1.0 | 352.0  0.0 | 251.0   \n",
       "0  18/06/2022   0.0 | 221.0   2.0 | 240.0   0.0 | 359.0  0.0 | 127.0   \n",
       "\n",
       "           Jup          Sat          Ura         Nep         Plu  \n",
       "0   1.0 | 78.0  0.0 | 163.0  57.0 | 57.0  0.0 | 32.0  0.0 | 28.0  \n",
       "0   1.0 | 73.0  0.0 | 161.0  56.0 | 56.0  0.0 | 31.0  0.0 | 28.0  \n",
       "0   1.0 | 28.0  0.0 | 144.0  50.0 | 50.0  0.0 | 28.0  0.0 | 25.0  \n",
       "0  0.0 | 273.0  0.0 | 102.0  37.0 | 37.0  0.0 | 21.0  0.0 | 18.0  \n",
       "0  0.0 | 158.0   0.0 | 57.0  21.0 | 21.0  0.0 | 12.0  0.0 | 10.0  \n",
       "0  0.0 | 130.0   0.0 | 46.0  17.0 | 17.0   0.0 | 9.0   0.0 | 8.0  \n",
       "0  0.0 | 115.0   0.0 | 41.0  15.0 | 15.0   0.0 | 8.0   0.0 | 7.0  \n",
       "0   0.0 | 93.0   0.0 | 33.0  12.0 | 12.0   0.0 | 7.0   0.0 | 6.0  \n",
       "0   0.0 | 58.0   0.0 | 20.0    7.0 | 7.0   0.0 | 4.0   0.0 | 4.0  \n",
       "0   0.0 | 51.0   0.0 | 18.0    6.0 | 6.0   0.0 | 4.0   0.0 | 3.0  \n",
       "0   0.0 | 43.0   0.0 | 15.0    5.0 | 5.0   0.0 | 3.0   0.0 | 3.0  \n",
       "0   0.0 | 41.0   0.0 | 14.0    5.0 | 5.0   0.0 | 3.0   0.0 | 3.0  \n",
       "0   0.0 | 21.0    0.0 | 7.0    2.0 | 2.0   0.0 | 2.0   0.0 | 2.0  "
      ]
     },
     "execution_count": 12,
     "metadata": {},
     "output_type": "execute_result"
    }
   ],
   "source": [
    "# BON CUM MOD/REV\n",
    "\n",
    "hexx = hel.copy()\n",
    "\n",
    "hexx['Earth'] = hexx['Earth'] / 360\n",
    "hexx['Mer'] = hexx['Mer'] / 360\n",
    "hexx['Ven'] = hexx['Ven'] / 360\n",
    "hexx['Mar'] = hexx['Mar'] / 360\n",
    "hexx['Jup'] = hexx['Jup'] / 360\n",
    "hexx['Sat'] = hexx['Sat'] / 360\n",
    "hexx['Nep'] = hexx['Nep'] / 360\n",
    "hexx['Plu'] = hexx['Plu'] / 360\n",
    "\n",
    "hecc = hel.copy()\n",
    "\n",
    "hecc['Earth'] = hecc['Earth'] % 360\n",
    "hecc['Mer'] = hecc['Mer'] % 360\n",
    "hecc['Ven'] = hecc['Ven'] % 360\n",
    "hecc['Mar'] = hecc['Mar'] % 360\n",
    "hecc['Jup'] = hecc['Jup'] % 360\n",
    "hecc['Sat'] = hecc['Sat'] % 360\n",
    "hecc['Nep'] = hecc['Nep'] % 360\n",
    "hecc['Plu'] = hecc['Plu'] % 360\n",
    "\n",
    "hexx = hexx.iloc[1: , :]\n",
    "hecc = hecc.iloc[1:, :]\n",
    "\n",
    "# ROUNDDOWN\n",
    "\n",
    "hexx = hexx.iloc[::, hexx.columns !='Date'].apply(np.floor)\n",
    "hecc = hecc.iloc[::, hecc.columns !='Date'].apply(np.floor)\n",
    "\n",
    "# STR\n",
    "\n",
    "for col in hexx.columns[::]:\n",
    "     hexx = hexx.astype({col: str})\n",
    "\n",
    "for col in hecc.columns[::]:\n",
    "     hecc = hecc.astype({col: str})\n",
    "\n",
    "puant = pd.DataFrame({\"Date\": cumm_hel['Date']})\n",
    "\n",
    "# GROUPBY MANUALY\n",
    "\n",
    "for col in puant.columns[1:]:\n",
    "     puant = puant.astype({col: int})\n",
    "\n",
    "for col in hexx.columns[::]:\n",
    "    puant[col] = hexx[col] + ' | ' + hecc[col] #.groupby('Date').agg('-'.join).reset_index()\n",
    "\n",
    "puant"
   ]
  },
  {
   "cell_type": "markdown",
   "id": "15efebd3",
   "metadata": {},
   "source": [
    "### **II.1.3 CONCAT**"
   ]
  },
  {
   "cell_type": "code",
   "execution_count": 111,
   "id": "ebe495b0",
   "metadata": {},
   "outputs": [],
   "source": [
    "helio_concat = pd.concat([cumm_hel, puant], axis=0)\n",
    "helio_concat.Date = pd.to_datetime(helio_concat.Date)\n",
    "helio_concat = helio_concat.sort_values(\"Date\", ignore_index=True)\n",
    "helio_concat.Date = helio_concat.Date.dt.strftime(\"%d/%m/%Y\")\n",
    "\n",
    "\n",
    "\n",
    "hcc = pd.concat([result, mod0, helio_concat])\n",
    "\n",
    "hcc.to_csv('C://Users//ASUS//Desktop//ASTROTOOL//streamlit//data','helio_main.csv'), index = False, float_format = '%2f')"
   ]
  },
  {
   "cell_type": "code",
   "execution_count": 112,
   "id": "ca087b78",
   "metadata": {},
   "outputs": [
    {
     "data": {
      "text/html": [
       "<div>\n",
       "<style scoped>\n",
       "    .dataframe tbody tr th:only-of-type {\n",
       "        vertical-align: middle;\n",
       "    }\n",
       "\n",
       "    .dataframe tbody tr th {\n",
       "        vertical-align: top;\n",
       "    }\n",
       "\n",
       "    .dataframe thead th {\n",
       "        text-align: right;\n",
       "    }\n",
       "</style>\n",
       "<table border=\"1\" class=\"dataframe\">\n",
       "  <thead>\n",
       "    <tr style=\"text-align: right;\">\n",
       "      <th></th>\n",
       "      <th>Date</th>\n",
       "      <th>Earth</th>\n",
       "      <th>Mer</th>\n",
       "      <th>Ven</th>\n",
       "      <th>Mar</th>\n",
       "      <th>Jup</th>\n",
       "      <th>Sat</th>\n",
       "      <th>Ura</th>\n",
       "      <th>Nep</th>\n",
       "      <th>Plu</th>\n",
       "    </tr>\n",
       "  </thead>\n",
       "  <tbody>\n",
       "    <tr>\n",
       "      <th>31527</th>\n",
       "      <td>28/01/2023</td>\n",
       "      <td>128</td>\n",
       "      <td>203</td>\n",
       "      <td>4</td>\n",
       "      <td>101</td>\n",
       "      <td>15</td>\n",
       "      <td>327</td>\n",
       "      <td>47</td>\n",
       "      <td>354</td>\n",
       "      <td>298</td>\n",
       "    </tr>\n",
       "    <tr>\n",
       "      <th>0</th>\n",
       "      <td>28/01/2023</td>\n",
       "      <td>8 | Le</td>\n",
       "      <td>23 | Li</td>\n",
       "      <td>4 | Ar</td>\n",
       "      <td>11 | Ca</td>\n",
       "      <td>15 | Ar</td>\n",
       "      <td>27 | Aq</td>\n",
       "      <td>17 | Ta</td>\n",
       "      <td>24 | Pi</td>\n",
       "      <td>28 | Cp</td>\n",
       "    </tr>\n",
       "    <tr>\n",
       "      <th>0</th>\n",
       "      <td>31/10/2008</td>\n",
       "      <td>5129</td>\n",
       "      <td>21287</td>\n",
       "      <td>8334</td>\n",
       "      <td>2746</td>\n",
       "      <td>438</td>\n",
       "      <td>163</td>\n",
       "      <td>57</td>\n",
       "      <td>32</td>\n",
       "      <td>28</td>\n",
       "    </tr>\n",
       "    <tr>\n",
       "      <th>1</th>\n",
       "      <td>31/10/2008</td>\n",
       "      <td>14.0 | 89.0</td>\n",
       "      <td>59.0 | 47.0</td>\n",
       "      <td>23.0 | 54.0</td>\n",
       "      <td>7.0 | 226.0</td>\n",
       "      <td>1.0 | 78.0</td>\n",
       "      <td>0.0 | 163.0</td>\n",
       "      <td>57.0 | 57.0</td>\n",
       "      <td>0.0 | 32.0</td>\n",
       "      <td>0.0 | 28.0</td>\n",
       "    </tr>\n",
       "    <tr>\n",
       "      <th>2</th>\n",
       "      <td>01/03/2009</td>\n",
       "      <td>5065</td>\n",
       "      <td>21066</td>\n",
       "      <td>8232</td>\n",
       "      <td>2711</td>\n",
       "      <td>433</td>\n",
       "      <td>161</td>\n",
       "      <td>56</td>\n",
       "      <td>31</td>\n",
       "      <td>28</td>\n",
       "    </tr>\n",
       "    <tr>\n",
       "      <th>3</th>\n",
       "      <td>01/03/2009</td>\n",
       "      <td>14.0 | 25.0</td>\n",
       "      <td>58.0 | 186.0</td>\n",
       "      <td>22.0 | 312.0</td>\n",
       "      <td>7.0 | 191.0</td>\n",
       "      <td>1.0 | 73.0</td>\n",
       "      <td>0.0 | 161.0</td>\n",
       "      <td>56.0 | 56.0</td>\n",
       "      <td>0.0 | 31.0</td>\n",
       "      <td>0.0 | 28.0</td>\n",
       "    </tr>\n",
       "    <tr>\n",
       "      <th>4</th>\n",
       "      <td>22/05/2010</td>\n",
       "      <td>4567</td>\n",
       "      <td>18998</td>\n",
       "      <td>7424</td>\n",
       "      <td>2442</td>\n",
       "      <td>388</td>\n",
       "      <td>144</td>\n",
       "      <td>50</td>\n",
       "      <td>28</td>\n",
       "      <td>25</td>\n",
       "    </tr>\n",
       "    <tr>\n",
       "      <th>5</th>\n",
       "      <td>22/05/2010</td>\n",
       "      <td>12.0 | 247.0</td>\n",
       "      <td>52.0 | 278.0</td>\n",
       "      <td>20.0 | 224.0</td>\n",
       "      <td>6.0 | 282.0</td>\n",
       "      <td>1.0 | 28.0</td>\n",
       "      <td>0.0 | 144.0</td>\n",
       "      <td>50.0 | 50.0</td>\n",
       "      <td>0.0 | 28.0</td>\n",
       "      <td>0.0 | 25.0</td>\n",
       "    </tr>\n",
       "    <tr>\n",
       "      <th>6</th>\n",
       "      <td>29/11/2013</td>\n",
       "      <td>3300</td>\n",
       "      <td>13695</td>\n",
       "      <td>5363</td>\n",
       "      <td>1760</td>\n",
       "      <td>273</td>\n",
       "      <td>102</td>\n",
       "      <td>37</td>\n",
       "      <td>21</td>\n",
       "      <td>18</td>\n",
       "    </tr>\n",
       "    <tr>\n",
       "      <th>7</th>\n",
       "      <td>29/11/2013</td>\n",
       "      <td>9.0 | 60.0</td>\n",
       "      <td>38.0 | 15.0</td>\n",
       "      <td>14.0 | 323.0</td>\n",
       "      <td>4.0 | 320.0</td>\n",
       "      <td>0.0 | 273.0</td>\n",
       "      <td>0.0 | 102.0</td>\n",
       "      <td>37.0 | 37.0</td>\n",
       "      <td>0.0 | 21.0</td>\n",
       "      <td>0.0 | 18.0</td>\n",
       "    </tr>\n",
       "    <tr>\n",
       "      <th>8</th>\n",
       "      <td>17/12/2017</td>\n",
       "      <td>1842</td>\n",
       "      <td>7655</td>\n",
       "      <td>2992</td>\n",
       "      <td>994</td>\n",
       "      <td>158</td>\n",
       "      <td>57</td>\n",
       "      <td>21</td>\n",
       "      <td>12</td>\n",
       "      <td>10</td>\n",
       "    </tr>\n",
       "    <tr>\n",
       "      <th>9</th>\n",
       "      <td>17/12/2017</td>\n",
       "      <td>5.0 | 42.0</td>\n",
       "      <td>21.0 | 95.0</td>\n",
       "      <td>8.0 | 112.0</td>\n",
       "      <td>2.0 | 274.0</td>\n",
       "      <td>0.0 | 158.0</td>\n",
       "      <td>0.0 | 57.0</td>\n",
       "      <td>21.0 | 21.0</td>\n",
       "      <td>0.0 | 12.0</td>\n",
       "      <td>0.0 | 10.0</td>\n",
       "    </tr>\n",
       "    <tr>\n",
       "      <th>10</th>\n",
       "      <td>15/12/2018</td>\n",
       "      <td>1484</td>\n",
       "      <td>6156</td>\n",
       "      <td>2411</td>\n",
       "      <td>789</td>\n",
       "      <td>130</td>\n",
       "      <td>46</td>\n",
       "      <td>17</td>\n",
       "      <td>9</td>\n",
       "      <td>8</td>\n",
       "    </tr>\n",
       "    <tr>\n",
       "      <th>11</th>\n",
       "      <td>15/12/2018</td>\n",
       "      <td>4.0 | 44.0</td>\n",
       "      <td>17.0 | 36.0</td>\n",
       "      <td>6.0 | 251.0</td>\n",
       "      <td>2.0 | 69.0</td>\n",
       "      <td>0.0 | 130.0</td>\n",
       "      <td>0.0 | 46.0</td>\n",
       "      <td>17.0 | 17.0</td>\n",
       "      <td>0.0 | 9.0</td>\n",
       "      <td>0.0 | 8.0</td>\n",
       "    </tr>\n",
       "    <tr>\n",
       "      <th>12</th>\n",
       "      <td>26/06/2019</td>\n",
       "      <td>3.0 | 213.0</td>\n",
       "      <td>14.0 | 336.0</td>\n",
       "      <td>5.0 | 302.0</td>\n",
       "      <td>1.0 | 331.0</td>\n",
       "      <td>0.0 | 115.0</td>\n",
       "      <td>0.0 | 41.0</td>\n",
       "      <td>15.0 | 15.0</td>\n",
       "      <td>0.0 | 8.0</td>\n",
       "      <td>0.0 | 7.0</td>\n",
       "    </tr>\n",
       "    <tr>\n",
       "      <th>13</th>\n",
       "      <td>26/06/2019</td>\n",
       "      <td>1293</td>\n",
       "      <td>5376</td>\n",
       "      <td>2102</td>\n",
       "      <td>691</td>\n",
       "      <td>115</td>\n",
       "      <td>41</td>\n",
       "      <td>15</td>\n",
       "      <td>8</td>\n",
       "      <td>7</td>\n",
       "    </tr>\n",
       "    <tr>\n",
       "      <th>14</th>\n",
       "      <td>03/12/2020</td>\n",
       "      <td>1036</td>\n",
       "      <td>4308</td>\n",
       "      <td>1685</td>\n",
       "      <td>571</td>\n",
       "      <td>93</td>\n",
       "      <td>33</td>\n",
       "      <td>12</td>\n",
       "      <td>7</td>\n",
       "      <td>6</td>\n",
       "    </tr>\n",
       "    <tr>\n",
       "      <th>15</th>\n",
       "      <td>03/12/2020</td>\n",
       "      <td>2.0 | 316.0</td>\n",
       "      <td>11.0 | 348.0</td>\n",
       "      <td>4.0 | 245.0</td>\n",
       "      <td>1.0 | 211.0</td>\n",
       "      <td>0.0 | 93.0</td>\n",
       "      <td>0.0 | 33.0</td>\n",
       "      <td>12.0 | 12.0</td>\n",
       "      <td>0.0 | 7.0</td>\n",
       "      <td>0.0 | 6.0</td>\n",
       "    </tr>\n",
       "    <tr>\n",
       "      <th>16</th>\n",
       "      <td>25/04/2021</td>\n",
       "      <td>1.0 | 272.0</td>\n",
       "      <td>7.0 | 136.0</td>\n",
       "      <td>2.0 | 310.0</td>\n",
       "      <td>0.0 | 339.0</td>\n",
       "      <td>0.0 | 58.0</td>\n",
       "      <td>0.0 | 20.0</td>\n",
       "      <td>7.0 | 7.0</td>\n",
       "      <td>0.0 | 4.0</td>\n",
       "      <td>0.0 | 4.0</td>\n",
       "    </tr>\n",
       "    <tr>\n",
       "      <th>17</th>\n",
       "      <td>25/04/2021</td>\n",
       "      <td>632</td>\n",
       "      <td>2656</td>\n",
       "      <td>1030</td>\n",
       "      <td>339</td>\n",
       "      <td>58</td>\n",
       "      <td>20</td>\n",
       "      <td>7</td>\n",
       "      <td>4</td>\n",
       "      <td>4</td>\n",
       "    </tr>\n",
       "    <tr>\n",
       "      <th>18</th>\n",
       "      <td>20/07/2021</td>\n",
       "      <td>1.0 | 190.0</td>\n",
       "      <td>6.0 | 149.0</td>\n",
       "      <td>2.0 | 171.0</td>\n",
       "      <td>0.0 | 301.0</td>\n",
       "      <td>0.0 | 51.0</td>\n",
       "      <td>0.0 | 18.0</td>\n",
       "      <td>6.0 | 6.0</td>\n",
       "      <td>0.0 | 4.0</td>\n",
       "      <td>0.0 | 3.0</td>\n",
       "    </tr>\n",
       "    <tr>\n",
       "      <th>19</th>\n",
       "      <td>20/07/2021</td>\n",
       "      <td>550</td>\n",
       "      <td>2309</td>\n",
       "      <td>891</td>\n",
       "      <td>301</td>\n",
       "      <td>51</td>\n",
       "      <td>18</td>\n",
       "      <td>6</td>\n",
       "      <td>4</td>\n",
       "      <td>3</td>\n",
       "    </tr>\n",
       "    <tr>\n",
       "      <th>20</th>\n",
       "      <td>11/10/2021</td>\n",
       "      <td>440</td>\n",
       "      <td>1815</td>\n",
       "      <td>712</td>\n",
       "      <td>251</td>\n",
       "      <td>41</td>\n",
       "      <td>14</td>\n",
       "      <td>5</td>\n",
       "      <td>3</td>\n",
       "      <td>3</td>\n",
       "    </tr>\n",
       "    <tr>\n",
       "      <th>21</th>\n",
       "      <td>11/10/2021</td>\n",
       "      <td>1.0 | 80.0</td>\n",
       "      <td>5.0 | 15.0</td>\n",
       "      <td>1.0 | 352.0</td>\n",
       "      <td>0.0 | 251.0</td>\n",
       "      <td>0.0 | 41.0</td>\n",
       "      <td>0.0 | 14.0</td>\n",
       "      <td>5.0 | 5.0</td>\n",
       "      <td>0.0 | 3.0</td>\n",
       "      <td>0.0 | 3.0</td>\n",
       "    </tr>\n",
       "    <tr>\n",
       "      <th>22</th>\n",
       "      <td>20/10/2021</td>\n",
       "      <td>461</td>\n",
       "      <td>1923</td>\n",
       "      <td>745</td>\n",
       "      <td>260</td>\n",
       "      <td>43</td>\n",
       "      <td>15</td>\n",
       "      <td>5</td>\n",
       "      <td>3</td>\n",
       "      <td>3</td>\n",
       "    </tr>\n",
       "    <tr>\n",
       "      <th>23</th>\n",
       "      <td>20/10/2021</td>\n",
       "      <td>1.0 | 101.0</td>\n",
       "      <td>5.0 | 123.0</td>\n",
       "      <td>2.0 | 25.0</td>\n",
       "      <td>0.0 | 260.0</td>\n",
       "      <td>0.0 | 43.0</td>\n",
       "      <td>0.0 | 15.0</td>\n",
       "      <td>5.0 | 5.0</td>\n",
       "      <td>0.0 | 3.0</td>\n",
       "      <td>0.0 | 3.0</td>\n",
       "    </tr>\n",
       "    <tr>\n",
       "      <th>24</th>\n",
       "      <td>18/06/2022</td>\n",
       "      <td>221</td>\n",
       "      <td>960</td>\n",
       "      <td>359</td>\n",
       "      <td>127</td>\n",
       "      <td>21</td>\n",
       "      <td>7</td>\n",
       "      <td>2</td>\n",
       "      <td>2</td>\n",
       "      <td>2</td>\n",
       "    </tr>\n",
       "    <tr>\n",
       "      <th>25</th>\n",
       "      <td>18/06/2022</td>\n",
       "      <td>0.0 | 221.0</td>\n",
       "      <td>2.0 | 240.0</td>\n",
       "      <td>0.0 | 359.0</td>\n",
       "      <td>0.0 | 127.0</td>\n",
       "      <td>0.0 | 21.0</td>\n",
       "      <td>0.0 | 7.0</td>\n",
       "      <td>2.0 | 2.0</td>\n",
       "      <td>0.0 | 2.0</td>\n",
       "      <td>0.0 | 2.0</td>\n",
       "    </tr>\n",
       "  </tbody>\n",
       "</table>\n",
       "</div>"
      ],
      "text/plain": [
       "             Date         Earth           Mer           Ven          Mar  \\\n",
       "31527  28/01/2023           128           203             4          101   \n",
       "0      28/01/2023        8 | Le       23 | Li        4 | Ar      11 | Ca   \n",
       "0      31/10/2008          5129         21287          8334         2746   \n",
       "1      31/10/2008   14.0 | 89.0   59.0 | 47.0   23.0 | 54.0  7.0 | 226.0   \n",
       "2      01/03/2009          5065         21066          8232         2711   \n",
       "3      01/03/2009   14.0 | 25.0  58.0 | 186.0  22.0 | 312.0  7.0 | 191.0   \n",
       "4      22/05/2010          4567         18998          7424         2442   \n",
       "5      22/05/2010  12.0 | 247.0  52.0 | 278.0  20.0 | 224.0  6.0 | 282.0   \n",
       "6      29/11/2013          3300         13695          5363         1760   \n",
       "7      29/11/2013    9.0 | 60.0   38.0 | 15.0  14.0 | 323.0  4.0 | 320.0   \n",
       "8      17/12/2017          1842          7655          2992          994   \n",
       "9      17/12/2017    5.0 | 42.0   21.0 | 95.0   8.0 | 112.0  2.0 | 274.0   \n",
       "10     15/12/2018          1484          6156          2411          789   \n",
       "11     15/12/2018    4.0 | 44.0   17.0 | 36.0   6.0 | 251.0   2.0 | 69.0   \n",
       "12     26/06/2019   3.0 | 213.0  14.0 | 336.0   5.0 | 302.0  1.0 | 331.0   \n",
       "13     26/06/2019          1293          5376          2102          691   \n",
       "14     03/12/2020          1036          4308          1685          571   \n",
       "15     03/12/2020   2.0 | 316.0  11.0 | 348.0   4.0 | 245.0  1.0 | 211.0   \n",
       "16     25/04/2021   1.0 | 272.0   7.0 | 136.0   2.0 | 310.0  0.0 | 339.0   \n",
       "17     25/04/2021           632          2656          1030          339   \n",
       "18     20/07/2021   1.0 | 190.0   6.0 | 149.0   2.0 | 171.0  0.0 | 301.0   \n",
       "19     20/07/2021           550          2309           891          301   \n",
       "20     11/10/2021           440          1815           712          251   \n",
       "21     11/10/2021    1.0 | 80.0    5.0 | 15.0   1.0 | 352.0  0.0 | 251.0   \n",
       "22     20/10/2021           461          1923           745          260   \n",
       "23     20/10/2021   1.0 | 101.0   5.0 | 123.0    2.0 | 25.0  0.0 | 260.0   \n",
       "24     18/06/2022           221           960           359          127   \n",
       "25     18/06/2022   0.0 | 221.0   2.0 | 240.0   0.0 | 359.0  0.0 | 127.0   \n",
       "\n",
       "               Jup          Sat          Ura         Nep         Plu  \n",
       "31527           15          327           47         354         298  \n",
       "0          15 | Ar      27 | Aq      17 | Ta     24 | Pi     28 | Cp  \n",
       "0              438          163           57          32          28  \n",
       "1       1.0 | 78.0  0.0 | 163.0  57.0 | 57.0  0.0 | 32.0  0.0 | 28.0  \n",
       "2              433          161           56          31          28  \n",
       "3       1.0 | 73.0  0.0 | 161.0  56.0 | 56.0  0.0 | 31.0  0.0 | 28.0  \n",
       "4              388          144           50          28          25  \n",
       "5       1.0 | 28.0  0.0 | 144.0  50.0 | 50.0  0.0 | 28.0  0.0 | 25.0  \n",
       "6              273          102           37          21          18  \n",
       "7      0.0 | 273.0  0.0 | 102.0  37.0 | 37.0  0.0 | 21.0  0.0 | 18.0  \n",
       "8              158           57           21          12          10  \n",
       "9      0.0 | 158.0   0.0 | 57.0  21.0 | 21.0  0.0 | 12.0  0.0 | 10.0  \n",
       "10             130           46           17           9           8  \n",
       "11     0.0 | 130.0   0.0 | 46.0  17.0 | 17.0   0.0 | 9.0   0.0 | 8.0  \n",
       "12     0.0 | 115.0   0.0 | 41.0  15.0 | 15.0   0.0 | 8.0   0.0 | 7.0  \n",
       "13             115           41           15           8           7  \n",
       "14              93           33           12           7           6  \n",
       "15      0.0 | 93.0   0.0 | 33.0  12.0 | 12.0   0.0 | 7.0   0.0 | 6.0  \n",
       "16      0.0 | 58.0   0.0 | 20.0    7.0 | 7.0   0.0 | 4.0   0.0 | 4.0  \n",
       "17              58           20            7           4           4  \n",
       "18      0.0 | 51.0   0.0 | 18.0    6.0 | 6.0   0.0 | 4.0   0.0 | 3.0  \n",
       "19              51           18            6           4           3  \n",
       "20              41           14            5           3           3  \n",
       "21      0.0 | 41.0   0.0 | 14.0    5.0 | 5.0   0.0 | 3.0   0.0 | 3.0  \n",
       "22              43           15            5           3           3  \n",
       "23      0.0 | 43.0   0.0 | 15.0    5.0 | 5.0   0.0 | 3.0   0.0 | 3.0  \n",
       "24              21            7            2           2           2  \n",
       "25      0.0 | 21.0    0.0 | 7.0    2.0 | 2.0   0.0 | 2.0   0.0 | 2.0  "
      ]
     },
     "execution_count": 112,
     "metadata": {},
     "output_type": "execute_result"
    }
   ],
   "source": [
    "hcc"
   ]
  },
  {
   "cell_type": "markdown",
   "id": "4d8713dd",
   "metadata": {},
   "source": [
    "## **II.2 GEO**"
   ]
  },
  {
   "cell_type": "markdown",
   "id": "c26bea0a",
   "metadata": {},
   "source": [
    "### **II.2.1 CUMUL GEO**"
   ]
  },
  {
   "cell_type": "code",
   "execution_count": 15,
   "id": "3ddfda48",
   "metadata": {},
   "outputs": [
    {
     "data": {
      "text/html": [
       "<div>\n",
       "<style scoped>\n",
       "    .dataframe tbody tr th:only-of-type {\n",
       "        vertical-align: middle;\n",
       "    }\n",
       "\n",
       "    .dataframe tbody tr th {\n",
       "        vertical-align: top;\n",
       "    }\n",
       "\n",
       "    .dataframe thead th {\n",
       "        text-align: right;\n",
       "    }\n",
       "</style>\n",
       "<table border=\"1\" class=\"dataframe\">\n",
       "  <thead>\n",
       "    <tr style=\"text-align: right;\">\n",
       "      <th></th>\n",
       "      <th>Date</th>\n",
       "      <th>Moon</th>\n",
       "      <th>Sun</th>\n",
       "      <th>Mer</th>\n",
       "      <th>Ven</th>\n",
       "      <th>Mar</th>\n",
       "      <th>Jup</th>\n",
       "      <th>Sat</th>\n",
       "      <th>Ura</th>\n",
       "      <th>Nep</th>\n",
       "      <th>Plu</th>\n",
       "    </tr>\n",
       "  </thead>\n",
       "  <tbody>\n",
       "    <tr>\n",
       "      <th>31527</th>\n",
       "      <td>28/01/2023</td>\n",
       "      <td>34</td>\n",
       "      <td>308</td>\n",
       "      <td>283</td>\n",
       "      <td>331</td>\n",
       "      <td>69</td>\n",
       "      <td>5</td>\n",
       "      <td>325</td>\n",
       "      <td>44</td>\n",
       "      <td>353</td>\n",
       "      <td>298</td>\n",
       "    </tr>\n",
       "    <tr>\n",
       "      <th>0</th>\n",
       "      <td>31/10/2008</td>\n",
       "      <td>68781</td>\n",
       "      <td>5129</td>\n",
       "      <td>5480</td>\n",
       "      <td>5836</td>\n",
       "      <td>2721</td>\n",
       "      <td>1158</td>\n",
       "      <td>156</td>\n",
       "      <td>416</td>\n",
       "      <td>32</td>\n",
       "      <td>29</td>\n",
       "    </tr>\n",
       "    <tr>\n",
       "      <th>0</th>\n",
       "      <td>03/01/2009</td>\n",
       "      <td>67715</td>\n",
       "      <td>5065</td>\n",
       "      <td>5381</td>\n",
       "      <td>5762</td>\n",
       "      <td>2675</td>\n",
       "      <td>1146</td>\n",
       "      <td>153</td>\n",
       "      <td>416</td>\n",
       "      <td>31</td>\n",
       "      <td>27</td>\n",
       "    </tr>\n",
       "    <tr>\n",
       "      <th>0</th>\n",
       "      <td>22/05/2010</td>\n",
       "      <td>61067</td>\n",
       "      <td>4567</td>\n",
       "      <td>4927</td>\n",
       "      <td>4919</td>\n",
       "      <td>2448</td>\n",
       "      <td>1087</td>\n",
       "      <td>147</td>\n",
       "      <td>405</td>\n",
       "      <td>25</td>\n",
       "      <td>23</td>\n",
       "    </tr>\n",
       "    <tr>\n",
       "      <th>0</th>\n",
       "      <td>29/11/2013</td>\n",
       "      <td>44116</td>\n",
       "      <td>3300</td>\n",
       "      <td>3292</td>\n",
       "      <td>3641</td>\n",
       "      <td>1694</td>\n",
       "      <td>615</td>\n",
       "      <td>98</td>\n",
       "      <td>36</td>\n",
       "      <td>21</td>\n",
       "      <td>18</td>\n",
       "    </tr>\n",
       "    <tr>\n",
       "      <th>0</th>\n",
       "      <td>17/12/2017</td>\n",
       "      <td>24618</td>\n",
       "      <td>1842</td>\n",
       "      <td>1827</td>\n",
       "      <td>1871</td>\n",
       "      <td>935</td>\n",
       "      <td>501</td>\n",
       "      <td>55</td>\n",
       "      <td>20</td>\n",
       "      <td>12</td>\n",
       "      <td>10</td>\n",
       "    </tr>\n",
       "    <tr>\n",
       "      <th>0</th>\n",
       "      <td>15/12/2018</td>\n",
       "      <td>19842</td>\n",
       "      <td>1484</td>\n",
       "      <td>1481</td>\n",
       "      <td>1553</td>\n",
       "      <td>801</td>\n",
       "      <td>477</td>\n",
       "      <td>46</td>\n",
       "      <td>16</td>\n",
       "      <td>10</td>\n",
       "      <td>8</td>\n",
       "    </tr>\n",
       "    <tr>\n",
       "      <th>0</th>\n",
       "      <td>26/06/2019</td>\n",
       "      <td>17299</td>\n",
       "      <td>1293</td>\n",
       "      <td>1244</td>\n",
       "      <td>1330</td>\n",
       "      <td>673</td>\n",
       "      <td>468</td>\n",
       "      <td>37</td>\n",
       "      <td>9</td>\n",
       "      <td>5</td>\n",
       "      <td>6</td>\n",
       "    </tr>\n",
       "    <tr>\n",
       "      <th>0</th>\n",
       "      <td>12/03/2020</td>\n",
       "      <td>13868</td>\n",
       "      <td>1036</td>\n",
       "      <td>1035</td>\n",
       "      <td>1014</td>\n",
       "      <td>503</td>\n",
       "      <td>434</td>\n",
       "      <td>26</td>\n",
       "      <td>11</td>\n",
       "      <td>5</td>\n",
       "      <td>4</td>\n",
       "    </tr>\n",
       "    <tr>\n",
       "      <th>0</th>\n",
       "      <td>25/04/2021</td>\n",
       "      <td>8486</td>\n",
       "      <td>632</td>\n",
       "      <td>601</td>\n",
       "      <td>648</td>\n",
       "      <td>339</td>\n",
       "      <td>398</td>\n",
       "      <td>12</td>\n",
       "      <td>5</td>\n",
       "      <td>2</td>\n",
       "      <td>1</td>\n",
       "    </tr>\n",
       "    <tr>\n",
       "      <th>0</th>\n",
       "      <td>20/07/2021</td>\n",
       "      <td>7349</td>\n",
       "      <td>550</td>\n",
       "      <td>539</td>\n",
       "      <td>544</td>\n",
       "      <td>286</td>\n",
       "      <td>394</td>\n",
       "      <td>14</td>\n",
       "      <td>1</td>\n",
       "      <td>1</td>\n",
       "      <td>3</td>\n",
       "    </tr>\n",
       "    <tr>\n",
       "      <th>0</th>\n",
       "      <td>20/10/2021</td>\n",
       "      <td>6130</td>\n",
       "      <td>461</td>\n",
       "      <td>453</td>\n",
       "      <td>438</td>\n",
       "      <td>227</td>\n",
       "      <td>403</td>\n",
       "      <td>18</td>\n",
       "      <td>2</td>\n",
       "      <td>3</td>\n",
       "      <td>4</td>\n",
       "    </tr>\n",
       "    <tr>\n",
       "      <th>0</th>\n",
       "      <td>10/11/2021</td>\n",
       "      <td>5853</td>\n",
       "      <td>440</td>\n",
       "      <td>426</td>\n",
       "      <td>417</td>\n",
       "      <td>213</td>\n",
       "      <td>402</td>\n",
       "      <td>17</td>\n",
       "      <td>3</td>\n",
       "      <td>3</td>\n",
       "      <td>3</td>\n",
       "    </tr>\n",
       "    <tr>\n",
       "      <th>0</th>\n",
       "      <td>18/06/2022</td>\n",
       "      <td>2955</td>\n",
       "      <td>221</td>\n",
       "      <td>219</td>\n",
       "      <td>277</td>\n",
       "      <td>52</td>\n",
       "      <td>359</td>\n",
       "      <td>0</td>\n",
       "      <td>-2</td>\n",
       "      <td>-2</td>\n",
       "      <td>0</td>\n",
       "    </tr>\n",
       "  </tbody>\n",
       "</table>\n",
       "</div>"
      ],
      "text/plain": [
       "             Date   Moon   Sun   Mer   Ven   Mar   Jup  Sat  Ura  Nep  Plu\n",
       "31527  28/01/2023     34   308   283   331    69     5  325   44  353  298\n",
       "0      31/10/2008  68781  5129  5480  5836  2721  1158  156  416   32   29\n",
       "0      03/01/2009  67715  5065  5381  5762  2675  1146  153  416   31   27\n",
       "0      22/05/2010  61067  4567  4927  4919  2448  1087  147  405   25   23\n",
       "0      29/11/2013  44116  3300  3292  3641  1694   615   98   36   21   18\n",
       "0      17/12/2017  24618  1842  1827  1871   935   501   55   20   12   10\n",
       "0      15/12/2018  19842  1484  1481  1553   801   477   46   16   10    8\n",
       "0      26/06/2019  17299  1293  1244  1330   673   468   37    9    5    6\n",
       "0      12/03/2020  13868  1036  1035  1014   503   434   26   11    5    4\n",
       "0      25/04/2021   8486   632   601   648   339   398   12    5    2    1\n",
       "0      20/07/2021   7349   550   539   544   286   394   14    1    1    3\n",
       "0      20/10/2021   6130   461   453   438   227   403   18    2    3    4\n",
       "0      10/11/2021   5853   440   426   417   213   402   17    3    3    3\n",
       "0      18/06/2022   2955   221   219   277    52   359    0   -2   -2    0"
      ]
     },
     "execution_count": 15,
     "metadata": {},
     "output_type": "execute_result"
    }
   ],
   "source": [
    "from datetime import datetime\n",
    "\n",
    "today = datetime.strftime(datetime.now(), \"%d/%m/%Y\")\n",
    "\n",
    "geo_cum = geo_cum.fillna(111)\n",
    "for col in geo_cum.columns[1:]:\n",
    "     geo_cum = geo_cum.astype({col: int})\n",
    "\n",
    "cumulative_1 = geo_cum.copy()\n",
    "cumulative_2 = geo_cum.copy()\n",
    "cumulative_3 = geo_cum.copy()\n",
    "cumulative_4 = geo_cum.copy()\n",
    "cumulative_5 = geo_cum.copy()\n",
    "cumulative_6 = geo_cum.copy()\n",
    "cumulative_7 = geo_cum.copy()\n",
    "cumulative_8 = geo_cum.copy()\n",
    "cumulative_9 = geo_cum.copy()\n",
    "cumulative_10 = geo_cum.copy()\n",
    "cumulative_11 = geo_cum.copy()\n",
    "cumulative_12 = geo_cum.copy()\n",
    "cumulative_13 = geo_cum.copy()\n",
    "\n",
    "geo = geo.copy()\n",
    "for col in geo.columns[1:]:\n",
    "     geo = geo.astype({col: int})\n",
    "\n",
    "result_g = geo[geo.Date == today]\n",
    "\n",
    "def cum_geo(df, date):\n",
    "    today = datetime.strftime(datetime.now(), \"%d/%m/%Y\")\n",
    "    return pd.DataFrame(\n",
    "        {\n",
    "            \"Date\": [date],\n",
    "            \"Moon\": df[\"Moon\"][df.Date == today].values\n",
    "            - df[\"Moon\"][df.Date == date].values,\n",
    "            \"Sun\": df[\"Sun\"][df.Date == today].values\n",
    "            - df[\"Sun\"][df.Date == date].values,\n",
    "            \"Mer\": df[\"Mer\"][df.Date == today].values\n",
    "            - df[\"Mer\"][df.Date == date].values,\n",
    "            \"Ven\": df[\"Ven\"][df.Date == today].values\n",
    "            - df[\"Ven\"][df.Date == date].values,\n",
    "            \"Mar\": df[\"Mar\"][df.Date == today].values\n",
    "            - df[\"Mar\"][df.Date == date].values,\n",
    "            \"Jup\": df[\"Jup\"][df.Date == today].values\n",
    "            - df[\"Jup\"][df.Date == date].values,\n",
    "            \"Sat\": df[\"Sat\"][df.Date == today].values\n",
    "            - df[\"Sat\"][df.Date == date].values,\n",
    "            \"Ura\": df[\"Ura\"][df.Date == today].values\n",
    "            - df[\"Ura\"][df.Date == date].values,\n",
    "            \"Nep\": df[\"Nep\"][df.Date == today].values\n",
    "            - df[\"Nep\"][df.Date == date].values,\n",
    "            \"Plu\": df[\"Plu\"][df.Date == today].values\n",
    "            - df[\"Plu\"][df.Date == date].values,\n",
    "        }\n",
    "    )\n",
    "\n",
    "filtered_dfs = []\n",
    "\n",
    "data = [\n",
    "  (cumulative_1, '31/10/2008'),\n",
    "  (cumulative_2, '03/01/2009'),\n",
    "  (cumulative_3, '22/05/2010'),\n",
    "  (cumulative_4, '29/11/2013'),\n",
    "  (cumulative_5, '17/12/2017'),\n",
    "  (cumulative_6, '15/12/2018'),\n",
    "  (cumulative_7, '26/06/2019'),\n",
    "  (cumulative_8, '12/03/2020'),\n",
    "  (cumulative_9, '25/04/2021'),\n",
    "  (cumulative_10, '20/07/2021'),\n",
    "  (cumulative_11, '20/10/2021'),\n",
    "  (cumulative_12, '10/11/2021'),\n",
    "  (cumulative_13, '18/06/2022'),\n",
    "]\n",
    "\n",
    "for i, (df, date) in enumerate(data):\n",
    "  filtered_dfs.append(cum_geo(df, date))\n",
    "\n",
    "cumm_geo = pd.concat(filtered_dfs)\n",
    "geol = pd.concat([result_g, cumm_geo])\n",
    "\n",
    "for col in geol.columns[1:]:\n",
    "     geol = geol.astype({col: int})\n",
    "     \n",
    "geol"
   ]
  },
  {
   "cell_type": "markdown",
   "id": "785cfdc1",
   "metadata": {},
   "source": [
    "### **II.2.2 MOD30 & 360 GEO**"
   ]
  },
  {
   "cell_type": "markdown",
   "id": "90b83d92",
   "metadata": {},
   "source": [
    "#### **MOD30**"
   ]
  },
  {
   "cell_type": "code",
   "execution_count": 16,
   "id": "168d7228",
   "metadata": {},
   "outputs": [
    {
     "data": {
      "text/html": [
       "<div>\n",
       "<style scoped>\n",
       "    .dataframe tbody tr th:only-of-type {\n",
       "        vertical-align: middle;\n",
       "    }\n",
       "\n",
       "    .dataframe tbody tr th {\n",
       "        vertical-align: top;\n",
       "    }\n",
       "\n",
       "    .dataframe thead th {\n",
       "        text-align: right;\n",
       "    }\n",
       "</style>\n",
       "<table border=\"1\" class=\"dataframe\">\n",
       "  <thead>\n",
       "    <tr style=\"text-align: right;\">\n",
       "      <th></th>\n",
       "      <th>Date</th>\n",
       "      <th>Moon</th>\n",
       "      <th>Sun</th>\n",
       "      <th>Mer</th>\n",
       "      <th>Ven</th>\n",
       "      <th>Mar</th>\n",
       "      <th>Jup</th>\n",
       "      <th>Sat</th>\n",
       "      <th>Ura</th>\n",
       "      <th>Nep</th>\n",
       "      <th>Plu</th>\n",
       "    </tr>\n",
       "  </thead>\n",
       "  <tbody>\n",
       "    <tr>\n",
       "      <th>0</th>\n",
       "      <td>28/01/2023</td>\n",
       "      <td>4</td>\n",
       "      <td>8</td>\n",
       "      <td>13</td>\n",
       "      <td>1</td>\n",
       "      <td>9</td>\n",
       "      <td>5</td>\n",
       "      <td>25</td>\n",
       "      <td>14</td>\n",
       "      <td>23</td>\n",
       "      <td>28</td>\n",
       "    </tr>\n",
       "  </tbody>\n",
       "</table>\n",
       "</div>"
      ],
      "text/plain": [
       "         Date  Moon  Sun  Mer  Ven  Mar  Jup  Sat  Ura  Nep  Plu\n",
       "0  28/01/2023     4    8   13    1    9    5   25   14   23   28"
      ]
     },
     "execution_count": 16,
     "metadata": {},
     "output_type": "execute_result"
    }
   ],
   "source": [
    "# mod30 (donne qu'elle signe il est)\n",
    "\n",
    "mod_g = pd.DataFrame({'Date': [today],\n",
    "\n",
    "                                       'Moon': result_g['Moon'][result_g.Date == today].values\n",
    "                                       % 30,\n",
    "\n",
    "                                        'Sun': result_g['Sun'][result_g.Date == today].values\n",
    "                                       % 30,\n",
    "\n",
    "                                       'Mer': result_g['Mer'][result_g.Date == today].values\n",
    "                                       % 30,\n",
    "                                       \n",
    "                                       'Ven': result_g['Ven'][result_g.Date == today].values\n",
    "                                       % 30,\n",
    "\n",
    "                                       'Mar': result_g['Mar'][result_g.Date == today].values\n",
    "                                       % 30,\n",
    "\n",
    "                                       'Jup': result_g['Jup'][result_g.Date == today].values\n",
    "                                       % 30,\n",
    "                                       \n",
    "                                       'Sat': result_g['Sat'][result_g.Date == today].values\n",
    "                                       % 30,\n",
    "\n",
    "                                       'Ura': result_g['Ura'][result_g.Date == today].values\n",
    "                                       % 30,\n",
    "\n",
    "                                       'Nep': result_g['Nep'][result_g.Date == today].values\n",
    "                                       % 30,\n",
    "                                       \n",
    "                                       'Plu': result_g['Plu'][result_g.Date == today].values\n",
    "                                       % 30,\n",
    "\n",
    "                                       })\n",
    "\n",
    "mod_g.round()"
   ]
  },
  {
   "cell_type": "code",
   "execution_count": 17,
   "id": "991ea04b",
   "metadata": {},
   "outputs": [
    {
     "data": {
      "text/html": [
       "<div>\n",
       "<style scoped>\n",
       "    .dataframe tbody tr th:only-of-type {\n",
       "        vertical-align: middle;\n",
       "    }\n",
       "\n",
       "    .dataframe tbody tr th {\n",
       "        vertical-align: top;\n",
       "    }\n",
       "\n",
       "    .dataframe thead th {\n",
       "        text-align: right;\n",
       "    }\n",
       "</style>\n",
       "<table border=\"1\" class=\"dataframe\">\n",
       "  <thead>\n",
       "    <tr style=\"text-align: right;\">\n",
       "      <th></th>\n",
       "      <th>Date</th>\n",
       "      <th>Moon</th>\n",
       "      <th>Sun</th>\n",
       "      <th>Mer</th>\n",
       "      <th>Ven</th>\n",
       "      <th>Mar</th>\n",
       "      <th>Jup</th>\n",
       "      <th>Sat</th>\n",
       "      <th>Ura</th>\n",
       "      <th>Nep</th>\n",
       "      <th>Plu</th>\n",
       "    </tr>\n",
       "  </thead>\n",
       "  <tbody>\n",
       "    <tr>\n",
       "      <th>0</th>\n",
       "      <td>28/01/2023</td>\n",
       "      <td>Ta</td>\n",
       "      <td>Aq</td>\n",
       "      <td>Cp</td>\n",
       "      <td>Pi</td>\n",
       "      <td>Ge</td>\n",
       "      <td>Ar</td>\n",
       "      <td>Aq</td>\n",
       "      <td>Ta</td>\n",
       "      <td>Pi</td>\n",
       "      <td>Cp</td>\n",
       "    </tr>\n",
       "  </tbody>\n",
       "</table>\n",
       "</div>"
      ],
      "text/plain": [
       "         Date Moon Sun Mer Ven Mar Jup Sat Ura Nep Plu\n",
       "0  28/01/2023   Ta  Aq  Cp  Pi  Ge  Ar  Aq  Ta  Pi  Cp"
      ]
     },
     "execution_count": 17,
     "metadata": {},
     "output_type": "execute_result"
    }
   ],
   "source": [
    "# rrr\n",
    "\n",
    "# mod30 (donne qu'elle signe il est)\n",
    "\n",
    "rrr_g = result_g.copy() # rrr\n",
    "\n",
    "for col in rrr_g.columns[1:]:\n",
    "     rrr_g= rrr_g.astype({col: \"int64\"})\n",
    "\n",
    "rrr_g = pd.DataFrame({'Date': [today],\n",
    "\n",
    "                                       'Moon': rrr_g['Moon'][rrr_g.Date == today].values\n",
    "                                       ,\n",
    "\n",
    "                                        'Sun': rrr_g['Sun'][rrr_g.Date == today].values\n",
    "                                       ,\n",
    "\n",
    "                                       'Mer': rrr_g['Mer'][rrr_g.Date == today].values\n",
    "                                       ,\n",
    "                                       \n",
    "                                       'Ven': rrr_g['Ven'][rrr_g.Date == today].values\n",
    "                                       ,\n",
    "\n",
    "                                       'Mar': rrr_g['Mar'][rrr_g.Date == today].values\n",
    "                                       ,\n",
    "\n",
    "                                       'Jup': rrr_g['Jup'][rrr_g.Date == today].values\n",
    "                                       ,\n",
    "                                       \n",
    "                                       'Sat': rrr_g['Sat'][rrr_g.Date == today].values\n",
    "                                       ,\n",
    "\n",
    "                                       'Ura': rrr_g['Ura'][rrr_g.Date == today].values\n",
    "                                       ,\n",
    "\n",
    "                                       'Nep': rrr_g['Nep'][rrr_g.Date == today].values\n",
    "                                       ,\n",
    "                                       \n",
    "                                       'Plu': rrr_g['Plu'][rrr_g.Date == today].values\n",
    "                                       ,\n",
    "\n",
    "                                       })\n",
    "\n",
    "rrr_g.round()\n",
    "\n",
    "for i in rrr_g['Moon']: \n",
    "        if (0<=i<=29):\n",
    "            rrr_g['Moon'] = rrr_g['Moon'].replace(i, \"Ar\")\n",
    "        elif (30<=i<=59):\n",
    "            rrr_g['Moon'] = rrr_g['Moon'].replace(i, \"Ta\")\n",
    "        elif (60<=i<=89):\n",
    "            rrr_g['Moon'] = rrr_g['Moon'].replace(i, \"Ge\")\n",
    "        elif (90<=i<=119):\n",
    "            rrr_g['Moon'] = rrr_g['Moon'].replace(i, \"Ca\")\n",
    "        elif (120<=i<=149):\n",
    "            rrr_g['Moon'] = rrr_g['Moon'].replace(i, \"Le\")\n",
    "        elif (150<=i<=179):\n",
    "            rrr_g['Moon'] = rrr_g['Moon'].replace(i, \"Vi\")\n",
    "        elif (180<=i<=209):\n",
    "            rrr_g['Moon'] = rrr_g['Moon'].replace(i, \"Li\")\n",
    "        elif (209<=i<=239):\n",
    "            rrr_g['Moon'] = rrr_g['Moon'].replace(i, \"Sc\")\n",
    "        elif (240<=i<=269):\n",
    "            rrr_g['Moon'] = rrr_g['Moon'].replace(i, \"Sg\")\n",
    "        elif (270<=i<=299):\n",
    "            rrr_g['Moon'] = rrr_g['Moon'].replace(i, \"Cp\")\n",
    "        elif (300<=i<=329):\n",
    "            rrr_g['Moon'] = rrr_g['Moon'].replace(i, \"Aq\")\n",
    "        elif (330<=i<=359):\n",
    "            rrr_g['Moon'] = rrr_g['Moon'].replace(i, \"Pi\")\n",
    "\n",
    "for i in rrr_g['Sun']: \n",
    "        if (0<=i<=29):\n",
    "            rrr_g['Sun'] = rrr_g['Sun'].replace(i, \"Ar\")\n",
    "        elif (30<=i<=59):\n",
    "            rrr_g['Sun'] = rrr_g['Sun'].replace(i, \"Ta\")\n",
    "        elif (60<=i<=89):\n",
    "            rrr_g['Sun'] = rrr_g['Sun'].replace(i, \"Ge\")\n",
    "        elif (90<=i<=119):\n",
    "            rrr_g['Sun'] = rrr_g['Sun'].replace(i, \"Ca\")\n",
    "        elif (120<=i<=149):\n",
    "            rrr_g['Sun'] = rrr_g['Sun'].replace(i, \"Le\")\n",
    "        elif (150<=i<=179):\n",
    "            rrr_g['Sun'] = rrr_g['Sun'].replace(i, \"Vi\")\n",
    "        elif (180<=i<=209):\n",
    "            rrr_g['Sun'] = rrr_g['Sun'].replace(i, \"Li\")\n",
    "        elif (209<=i<=239):\n",
    "            rrr_g['Sun'] = rrr_g['Sun'].replace(i, \"Sc\")\n",
    "        elif (240<=i<=269):\n",
    "            rrr_g['Sun'] = rrr_g['Sun'].replace(i, \"Sg\")\n",
    "        elif (270<=i<=299):\n",
    "            rrr_g['Sun'] = rrr_g['Sun'].replace(i, \"Cp\")\n",
    "        elif (300<=i<=329):\n",
    "            rrr_g['Sun'] = rrr_g['Sun'].replace(i, \"Aq\")\n",
    "        elif (330<=i<=359):\n",
    "            rrr_g['Sun'] = rrr_g['Sun'].replace(i, \"Pi\")\n",
    "\n",
    "for i in rrr_g['Mer']: \n",
    "        if (0<=i<=29):\n",
    "            rrr_g['Mer'] = rrr_g['Mer'].replace(i, \"Ar\")\n",
    "        elif (30<=i<=59):\n",
    "            rrr_g['Mer'] = rrr_g['Mer'].replace(i, \"Ta\")\n",
    "        elif (60<=i<=89):\n",
    "            rrr_g['Mer'] = rrr_g['Mer'].replace(i, \"Ge\")\n",
    "        elif (90<=i<=119):\n",
    "            rrr_g['Mer'] = rrr_g['Mer'].replace(i, \"Ca\")\n",
    "        elif (120<=i<=149):\n",
    "            rrr_g['Mer'] = rrr_g['Mer'].replace(i, \"Le\")\n",
    "        elif (150<=i<=179):\n",
    "            rrr_g['Mer'] = rrr_g['Mer'].replace(i, \"Vi\")\n",
    "        elif (180<=i<=209):\n",
    "            rrr_g['Mer'] = rrr_g['Mer'].replace(i, \"Li\")\n",
    "        elif (209<=i<=239):\n",
    "            rrr_g['Mer'] = rrr_g['Mer'].replace(i, \"Sc\")\n",
    "        elif (240<=i<=269):\n",
    "            rrr_g['Mer'] = rrr_g['Mer'].replace(i, \"Sg\")\n",
    "        elif (270<=i<=299):\n",
    "            rrr_g['Mer'] = rrr_g['Mer'].replace(i, \"Cp\")\n",
    "        elif (300<=i<=329):\n",
    "            rrr_g['Mer'] = rrr_g['Mer'].replace(i, \"Aq\")\n",
    "        elif (330<=i<=359):\n",
    "            rrr_g['Mer'] = rrr_g['Mer'].replace(i, \"Pi\")\n",
    "\n",
    "for i in rrr_g['Ven']: \n",
    "        if (0<=i<=29):\n",
    "            rrr_g['Ven'] = rrr_g['Ven'].replace(i, \"Ar\")\n",
    "        elif (30<=i<=59):\n",
    "            rrr_g['Ven'] = rrr_g['Ven'].replace(i, \"Ta\")\n",
    "        elif (60<=i<=89):\n",
    "            rrr_g['Ven'] = rrr_g['Ven'].replace(i, \"Ge\")\n",
    "        elif (90<=i<=119):\n",
    "            rrr_g['Ven'] = rrr_g['Ven'].replace(i, \"Ca\")\n",
    "        elif (120<=i<=149):\n",
    "            rrr_g['Ven'] = rrr_g['Ven'].replace(i, \"Le\")\n",
    "        elif (150<=i<=179):\n",
    "            rrr_g['Ven'] = rrr_g['Ven'].replace(i, \"Vi\")\n",
    "        elif (180<=i<=209):\n",
    "            rrr_g['Ven'] = rrr_g['Ven'].replace(i, \"Li\")\n",
    "        elif (209<=i<=239):\n",
    "            rrr_g['Ven'] = rrr_g['Ven'].replace(i, \"Sc\")\n",
    "        elif (240<=i<=269):\n",
    "            rrr_g['Ven'] = rrr_g['Ven'].replace(i, \"Sg\")\n",
    "        elif (270<=i<=299):\n",
    "            rrr_g['Ven'] = rrr_g['Ven'].replace(i, \"Cp\")\n",
    "        elif (300<=i<=329):\n",
    "            rrr_g['Ven'] = rrr_g['Ven'].replace(i, \"Aq\")\n",
    "        elif (330<=i<=359):\n",
    "            rrr_g['Ven'] = rrr_g['Ven'].replace(i, \"Pi\")\n",
    "\n",
    "for i in rrr_g['Mar']: \n",
    "        if (0<=i<=29):\n",
    "            rrr_g['Mar'] = rrr_g['Mar'].replace(i, \"Ar\")\n",
    "        elif (30<=i<=59):\n",
    "            rrr_g['Mar'] = rrr_g['Mar'].replace(i, \"Ta\")\n",
    "        elif (60<=i<=89):\n",
    "            rrr_g['Mar'] = rrr_g['Mar'].replace(i, \"Ge\")\n",
    "        elif (90<=i<=119):\n",
    "            rrr_g['Mar'] = rrr_g['Mar'].replace(i, \"Ca\")\n",
    "        elif (120<=i<=149):\n",
    "            rrr_g['Mar'] = rrr_g['Mar'].replace(i, \"Le\")\n",
    "        elif (150<=i<=179):\n",
    "            rrr_g['Mar'] = rrr_g['Mar'].replace(i, \"Vi\")\n",
    "        elif (180<=i<=209):\n",
    "            rrr_g['Mar'] = rrr_g['Mar'].replace(i, \"Li\")\n",
    "        elif (209<=i<=239):\n",
    "            rrr_g['Mar'] = rrr_g['Mar'].replace(i, \"Sc\")\n",
    "        elif (240<=i<=269):\n",
    "            rrr_g['Mar'] = rrr_g['Mar'].replace(i, \"Sg\")\n",
    "        elif (270<=i<=299):\n",
    "            rrr_g['Mar'] = rrr_g['Mar'].replace(i, \"Cp\")\n",
    "        elif (300<=i<=329):\n",
    "            rrr_g['Mar'] = rrr_g['Mar'].replace(i, \"Aq\")\n",
    "        elif (330<=i<=359):\n",
    "            rrr_g['Mar'] = rrr_g['Mar'].replace(i, \"Pi\")\n",
    "\n",
    "for i in rrr_g['Jup']: \n",
    "        if (0<=i<=29):\n",
    "            rrr_g['Jup'] = rrr_g['Jup'].replace(i, \"Ar\")\n",
    "        elif (30<=i<=59):\n",
    "            rrr_g['Jup'] = rrr_g['Jup'].replace(i, \"Ta\")\n",
    "        elif (60<=i<=89):\n",
    "            rrr_g['Jup'] = rrr_g['Jup'].replace(i, \"Ge\")\n",
    "        elif (90<=i<=119):\n",
    "            rrr_g['Jup'] = rrr_g['Jup'].replace(i, \"Ca\")\n",
    "        elif (120<=i<=149):\n",
    "            rrr_g['Jup'] = rrr_g['Jup'].replace(i, \"Le\")\n",
    "        elif (150<=i<=179):\n",
    "            rrr_g['Jup'] = rrr_g['Jup'].replace(i, \"Vi\")\n",
    "        elif (180<=i<=209):\n",
    "            rrr_g['Jup'] = rrr_g['Jup'].replace(i, \"Li\")\n",
    "        elif (209<=i<=239):\n",
    "            rrr_g['Jup'] = rrr_g['Jup'].replace(i, \"Sc\")\n",
    "        elif (240<=i<=269):\n",
    "            rrr_g['Jup'] = rrr_g['Jup'].replace(i, \"Sg\")\n",
    "        elif (270<=i<=299):\n",
    "            rrr_g['Jup'] = rrr_g['Jup'].replace(i, \"Cp\")\n",
    "        elif (300<=i<=329):\n",
    "            rrr_g['Jup'] = rrr_g['Jup'].replace(i, \"Aq\")\n",
    "        elif (330<=i<=359):\n",
    "            rrr_g['Jup'] = rrr_g['Jup'].replace(i, \"Pi\")\n",
    "\n",
    "for i in rrr_g['Sat']: \n",
    "        if (0<=i<=29):\n",
    "            rrr_g['Sat'] = rrr_g['Sat'].replace(i, \"Ar\")\n",
    "        elif (30<=i<=59):\n",
    "            rrr_g['Sat'] = rrr_g['Sat'].replace(i, \"Ta\")\n",
    "        elif (60<=i<=89):\n",
    "            rrr_g['Sat'] = rrr_g['Sat'].replace(i, \"Ge\")\n",
    "        elif (90<=i<=119):\n",
    "            rrr_g['Sat'] = rrr_g['Sat'].replace(i, \"Ca\")\n",
    "        elif (120<=i<=149):\n",
    "            rrr_g['Sat'] = rrr_g['Sat'].replace(i, \"Le\")\n",
    "        elif (150<=i<=179):\n",
    "            rrr_g['Sat'] = rrr_g['Sat'].replace(i, \"Vi\")\n",
    "        elif (180<=i<=209):\n",
    "            rrr_g['Sat'] = rrr_g['Sat'].replace(i, \"Li\")\n",
    "        elif (209<=i<=239):\n",
    "            rrr_g['Sat'] = rrr_g['Sat'].replace(i, \"Sc\")\n",
    "        elif (240<=i<=269):\n",
    "            rrr_g['Sat'] = rrr_g['Sat'].replace(i, \"Sg\")\n",
    "        elif (270<=i<=299):\n",
    "            rrr_g['Sat'] = rrr_g['Sat'].replace(i, \"Cp\")\n",
    "        elif (300<=i<=329):\n",
    "            rrr_g['Sat'] = rrr_g['Sat'].replace(i, \"Aq\")\n",
    "        elif (330<=i<=359):\n",
    "            rrr_g['Sat'] = rrr_g['Sat'].replace(i, \"Pi\")\n",
    "\n",
    "for i in rrr_g['Ura']: \n",
    "        if (0<=i<=29):\n",
    "            rrr_g['Ura'] = rrr_g['Ura'].replace(i, \"Ar\")\n",
    "        elif (30<=i<=59):\n",
    "            rrr_g['Ura'] = rrr_g['Ura'].replace(i, \"Ta\")\n",
    "        elif (60<=i<=89):\n",
    "            rrr_g['Ura'] = rrr_g['Ura'].replace(i, \"Ge\")\n",
    "        elif (90<=i<=119):\n",
    "            rrr_g['Ura'] = rrr_g['Ura'].replace(i, \"Ca\")\n",
    "        elif (120<=i<=149):\n",
    "            rrr_g['Ura'] = rrr_g['Ura'].replace(i, \"Le\")\n",
    "        elif (150<=i<=179):\n",
    "            rrr_g['Ura'] = rrr_g['Ura'].replace(i, \"Vi\")\n",
    "        elif (180<=i<=209):\n",
    "            rrr_g['Ura'] = rrr_g['Ura'].replace(i, \"Li\")\n",
    "        elif (209<=i<=239):\n",
    "            rrr_g['Ura'] = rrr_g['Ura'].replace(i, \"Sc\")\n",
    "        elif (240<=i<=269):\n",
    "            rrr_g['Ura'] = rrr_g['Ura'].replace(i, \"Sg\")\n",
    "        elif (270<=i<=299):\n",
    "            rrr_g['Ura'] = rrr_g['Ura'].replace(i, \"Cp\")\n",
    "        elif (300<=i<=329):\n",
    "            rrr_g['Ura'] = rrr_g['Ura'].replace(i, \"Aq\")\n",
    "        elif (330<=i<=359):\n",
    "            rrr_g['Ura'] = rrr_g['Ura'].replace(i, \"Pi\")\n",
    "\n",
    "for i in rrr_g['Nep']: \n",
    "        if (0<=i<=29):\n",
    "            rrr_g['Nep'] = rrr_g['Nep'].replace(i, \"Ar\")\n",
    "        elif (30<=i<=59):\n",
    "            rrr_g['Nep'] = rrr_g['Nep'].replace(i, \"Ta\")\n",
    "        elif (60<=i<=89):\n",
    "            rrr_g['Nep'] = rrr_g['Nep'].replace(i, \"Ge\")\n",
    "        elif (90<=i<=119):\n",
    "            rrr_g['Nep'] = rrr_g['Nep'].replace(i, \"Ca\")\n",
    "        elif (120<=i<=149):\n",
    "            rrr_g['Nep'] = rrr_g['Nep'].replace(i, \"Le\")\n",
    "        elif (150<=i<=179):\n",
    "            rrr_g['Nep'] = rrr_g['Nep'].replace(i, \"Vi\")\n",
    "        elif (180<=i<=209):\n",
    "            rrr_g['Nep'] = rrr_g['Nep'].replace(i, \"Li\")\n",
    "        elif (209<=i<=239):\n",
    "            rrr_g['Nep'] = rrr_g['Nep'].replace(i, \"Sc\")\n",
    "        elif (240<=i<=269):\n",
    "            rrr_g['Nep'] = rrr_g['Nep'].replace(i, \"Sg\")\n",
    "        elif (270<=i<=299):\n",
    "            rrr_g['Nep'] = rrr_g['Nep'].replace(i, \"Cp\")\n",
    "        elif (300<=i<=329):\n",
    "            rrr_g['Nep'] = rrr_g['Nep'].replace(i, \"Aq\")\n",
    "        elif (330<=i<=359):\n",
    "            rrr_g['Nep'] = rrr_g['Nep'].replace(i, \"Pi\")\n",
    "\n",
    "for i in rrr_g['Plu']: \n",
    "        if (0<=i<=29):\n",
    "            rrr_g['Plu'] = rrr_g['Plu'].replace(i, \"Ar\")\n",
    "        elif (30<=i<=59):\n",
    "            rrr_g['Plu'] = rrr_g['Plu'].replace(i, \"Ta\")\n",
    "        elif (60<=i<=89):\n",
    "            rrr_g['Plu'] = rrr_g['Plu'].replace(i, \"Ge\")\n",
    "        elif (90<=i<=119):\n",
    "            rrr_g['Plu'] = rrr_g['Plu'].replace(i, \"Ca\")\n",
    "        elif (120<=i<=149):\n",
    "            rrr_g['Plu'] = rrr_g['Plu'].replace(i, \"Le\")\n",
    "        elif (150<=i<=179):\n",
    "            rrr_g['Plu'] = rrr_g['Plu'].replace(i, \"Vi\")\n",
    "        elif (180<=i<=209):\n",
    "            rrr_g['Plu'] = rrr_g['Plu'].replace(i, \"Li\")\n",
    "        elif (209<=i<=239):\n",
    "            rrr_g['Plu'] = rrr_g['Plu'].replace(i, \"Sc\")\n",
    "        elif (240<=i<=269):\n",
    "            rrr_g['Plu'] = rrr_g['Plu'].replace(i, \"Sg\")\n",
    "        elif (270<=i<=299):\n",
    "            rrr_g['Plu'] = rrr_g['Plu'].replace(i, \"Cp\")\n",
    "        elif (300<=i<=329):\n",
    "            rrr_g['Plu'] = rrr_g['Plu'].replace(i, \"Aq\")\n",
    "        elif (330<=i<=359):\n",
    "            rrr_g['Plu'] = rrr_g['Plu'].replace(i, \"Pi\")\n",
    "\n",
    "rrr_g"
   ]
  },
  {
   "cell_type": "code",
   "execution_count": 18,
   "id": "307c8b9c",
   "metadata": {},
   "outputs": [
    {
     "data": {
      "text/html": [
       "<div>\n",
       "<style scoped>\n",
       "    .dataframe tbody tr th:only-of-type {\n",
       "        vertical-align: middle;\n",
       "    }\n",
       "\n",
       "    .dataframe tbody tr th {\n",
       "        vertical-align: top;\n",
       "    }\n",
       "\n",
       "    .dataframe thead th {\n",
       "        text-align: right;\n",
       "    }\n",
       "</style>\n",
       "<table border=\"1\" class=\"dataframe\">\n",
       "  <thead>\n",
       "    <tr style=\"text-align: right;\">\n",
       "      <th></th>\n",
       "      <th>Date</th>\n",
       "      <th>Moon</th>\n",
       "      <th>Sun</th>\n",
       "      <th>Mer</th>\n",
       "      <th>Ven</th>\n",
       "      <th>Mar</th>\n",
       "      <th>Jup</th>\n",
       "      <th>Sat</th>\n",
       "      <th>Ura</th>\n",
       "      <th>Nep</th>\n",
       "      <th>Plu</th>\n",
       "    </tr>\n",
       "  </thead>\n",
       "  <tbody>\n",
       "    <tr>\n",
       "      <th>0</th>\n",
       "      <td>28/01/2023</td>\n",
       "      <td>4 | Ta</td>\n",
       "      <td>8 | Aq</td>\n",
       "      <td>13 | Cp</td>\n",
       "      <td>1 | Pi</td>\n",
       "      <td>9 | Ge</td>\n",
       "      <td>5 | Ar</td>\n",
       "      <td>25 | Aq</td>\n",
       "      <td>14 | Ta</td>\n",
       "      <td>23 | Pi</td>\n",
       "      <td>28 | Cp</td>\n",
       "    </tr>\n",
       "  </tbody>\n",
       "</table>\n",
       "</div>"
      ],
      "text/plain": [
       "         Date    Moon     Sun      Mer     Ven     Mar     Jup      Sat  \\\n",
       "0  28/01/2023  4 | Ta  8 | Aq  13 | Cp  1 | Pi  9 | Ge  5 | Ar  25 | Aq   \n",
       "\n",
       "       Ura      Nep      Plu  \n",
       "0  14 | Ta  23 | Pi  28 | Cp  "
      ]
     },
     "execution_count": 18,
     "metadata": {},
     "output_type": "execute_result"
    }
   ],
   "source": [
    "mod_g = mod_g.round()\n",
    "\n",
    "# STR\n",
    "\n",
    "for col in mod_g.columns[1:]:\n",
    "     mod_g = mod_g.astype({col: str})\n",
    "\n",
    "for col in rrr_g.columns[1:]:\n",
    "     rrr_g = rrr_g.astype({col: str})\n",
    "\n",
    "mod0_g = pd.DataFrame({\"Date\": [today]})\n",
    "\n",
    "# GROUPBY MANUALY\n",
    "\n",
    "for col in mod_g.columns[1:]:\n",
    "    mod0_g[col] = mod_g[col] + ' | ' + rrr_g[col] #.groupby('Date').agg('-'.join).reset_index()\n",
    "    \n",
    "mod0_g"
   ]
  },
  {
   "cell_type": "markdown",
   "id": "77b7bff5",
   "metadata": {},
   "source": [
    "#### **MOD360**"
   ]
  },
  {
   "cell_type": "code",
   "execution_count": 19,
   "id": "99e2b31d",
   "metadata": {},
   "outputs": [
    {
     "data": {
      "text/html": [
       "<div>\n",
       "<style scoped>\n",
       "    .dataframe tbody tr th:only-of-type {\n",
       "        vertical-align: middle;\n",
       "    }\n",
       "\n",
       "    .dataframe tbody tr th {\n",
       "        vertical-align: top;\n",
       "    }\n",
       "\n",
       "    .dataframe thead th {\n",
       "        text-align: right;\n",
       "    }\n",
       "</style>\n",
       "<table border=\"1\" class=\"dataframe\">\n",
       "  <thead>\n",
       "    <tr style=\"text-align: right;\">\n",
       "      <th></th>\n",
       "      <th>Date</th>\n",
       "      <th>Moon</th>\n",
       "      <th>Sun</th>\n",
       "      <th>Mer</th>\n",
       "      <th>Ven</th>\n",
       "      <th>Mar</th>\n",
       "      <th>Jup</th>\n",
       "      <th>Sat</th>\n",
       "      <th>Ura</th>\n",
       "      <th>Nep</th>\n",
       "      <th>Plu</th>\n",
       "    </tr>\n",
       "  </thead>\n",
       "  <tbody>\n",
       "    <tr>\n",
       "      <th>0</th>\n",
       "      <td>31/10/2008</td>\n",
       "      <td>191.0 | 21.0</td>\n",
       "      <td>14.0 | 89.0</td>\n",
       "      <td>15.0 | 80.0</td>\n",
       "      <td>16.0 | 76.0</td>\n",
       "      <td>7.0 | 201.0</td>\n",
       "      <td>3.0 | 78.0</td>\n",
       "      <td>0.0 | 156.0</td>\n",
       "      <td>416.0 | 416.0</td>\n",
       "      <td>0.0 | 32.0</td>\n",
       "      <td>0.0 | 29.0</td>\n",
       "    </tr>\n",
       "    <tr>\n",
       "      <th>0</th>\n",
       "      <td>03/01/2009</td>\n",
       "      <td>188.0 | 35.0</td>\n",
       "      <td>14.0 | 25.0</td>\n",
       "      <td>14.0 | 341.0</td>\n",
       "      <td>16.0 | 2.0</td>\n",
       "      <td>7.0 | 155.0</td>\n",
       "      <td>3.0 | 66.0</td>\n",
       "      <td>0.0 | 153.0</td>\n",
       "      <td>416.0 | 416.0</td>\n",
       "      <td>0.0 | 31.0</td>\n",
       "      <td>0.0 | 27.0</td>\n",
       "    </tr>\n",
       "    <tr>\n",
       "      <th>0</th>\n",
       "      <td>22/05/2010</td>\n",
       "      <td>169.0 | 227.0</td>\n",
       "      <td>12.0 | 247.0</td>\n",
       "      <td>13.0 | 247.0</td>\n",
       "      <td>13.0 | 239.0</td>\n",
       "      <td>6.0 | 288.0</td>\n",
       "      <td>3.0 | 7.0</td>\n",
       "      <td>0.0 | 147.0</td>\n",
       "      <td>405.0 | 405.0</td>\n",
       "      <td>0.0 | 25.0</td>\n",
       "      <td>0.0 | 23.0</td>\n",
       "    </tr>\n",
       "    <tr>\n",
       "      <th>0</th>\n",
       "      <td>29/11/2013</td>\n",
       "      <td>122.0 | 196.0</td>\n",
       "      <td>9.0 | 60.0</td>\n",
       "      <td>9.0 | 52.0</td>\n",
       "      <td>10.0 | 41.0</td>\n",
       "      <td>4.0 | 254.0</td>\n",
       "      <td>1.0 | 255.0</td>\n",
       "      <td>0.0 | 98.0</td>\n",
       "      <td>36.0 | 36.0</td>\n",
       "      <td>0.0 | 21.0</td>\n",
       "      <td>0.0 | 18.0</td>\n",
       "    </tr>\n",
       "    <tr>\n",
       "      <th>0</th>\n",
       "      <td>17/12/2017</td>\n",
       "      <td>68.0 | 138.0</td>\n",
       "      <td>5.0 | 42.0</td>\n",
       "      <td>5.0 | 27.0</td>\n",
       "      <td>5.0 | 71.0</td>\n",
       "      <td>2.0 | 215.0</td>\n",
       "      <td>1.0 | 141.0</td>\n",
       "      <td>0.0 | 55.0</td>\n",
       "      <td>20.0 | 20.0</td>\n",
       "      <td>0.0 | 12.0</td>\n",
       "      <td>0.0 | 10.0</td>\n",
       "    </tr>\n",
       "    <tr>\n",
       "      <th>0</th>\n",
       "      <td>15/12/2018</td>\n",
       "      <td>55.0 | 42.0</td>\n",
       "      <td>4.0 | 44.0</td>\n",
       "      <td>4.0 | 41.0</td>\n",
       "      <td>4.0 | 113.0</td>\n",
       "      <td>2.0 | 81.0</td>\n",
       "      <td>1.0 | 117.0</td>\n",
       "      <td>0.0 | 46.0</td>\n",
       "      <td>16.0 | 16.0</td>\n",
       "      <td>0.0 | 10.0</td>\n",
       "      <td>0.0 | 8.0</td>\n",
       "    </tr>\n",
       "    <tr>\n",
       "      <th>0</th>\n",
       "      <td>26/06/2019</td>\n",
       "      <td>48.0 | 19.0</td>\n",
       "      <td>3.0 | 213.0</td>\n",
       "      <td>3.0 | 164.0</td>\n",
       "      <td>3.0 | 250.0</td>\n",
       "      <td>1.0 | 313.0</td>\n",
       "      <td>1.0 | 108.0</td>\n",
       "      <td>0.0 | 37.0</td>\n",
       "      <td>9.0 | 9.0</td>\n",
       "      <td>0.0 | 5.0</td>\n",
       "      <td>0.0 | 6.0</td>\n",
       "    </tr>\n",
       "    <tr>\n",
       "      <th>0</th>\n",
       "      <td>12/03/2020</td>\n",
       "      <td>38.0 | 188.0</td>\n",
       "      <td>2.0 | 316.0</td>\n",
       "      <td>2.0 | 315.0</td>\n",
       "      <td>2.0 | 294.0</td>\n",
       "      <td>1.0 | 143.0</td>\n",
       "      <td>1.0 | 74.0</td>\n",
       "      <td>0.0 | 26.0</td>\n",
       "      <td>11.0 | 11.0</td>\n",
       "      <td>0.0 | 5.0</td>\n",
       "      <td>0.0 | 4.0</td>\n",
       "    </tr>\n",
       "    <tr>\n",
       "      <th>0</th>\n",
       "      <td>25/04/2021</td>\n",
       "      <td>23.0 | 206.0</td>\n",
       "      <td>1.0 | 272.0</td>\n",
       "      <td>1.0 | 241.0</td>\n",
       "      <td>1.0 | 288.0</td>\n",
       "      <td>0.0 | 339.0</td>\n",
       "      <td>1.0 | 38.0</td>\n",
       "      <td>0.0 | 12.0</td>\n",
       "      <td>5.0 | 5.0</td>\n",
       "      <td>0.0 | 2.0</td>\n",
       "      <td>0.0 | 1.0</td>\n",
       "    </tr>\n",
       "    <tr>\n",
       "      <th>0</th>\n",
       "      <td>20/07/2021</td>\n",
       "      <td>20.0 | 149.0</td>\n",
       "      <td>1.0 | 190.0</td>\n",
       "      <td>1.0 | 179.0</td>\n",
       "      <td>1.0 | 184.0</td>\n",
       "      <td>0.0 | 286.0</td>\n",
       "      <td>1.0 | 34.0</td>\n",
       "      <td>0.0 | 14.0</td>\n",
       "      <td>1.0 | 1.0</td>\n",
       "      <td>0.0 | 1.0</td>\n",
       "      <td>0.0 | 3.0</td>\n",
       "    </tr>\n",
       "    <tr>\n",
       "      <th>0</th>\n",
       "      <td>20/10/2021</td>\n",
       "      <td>17.0 | 10.0</td>\n",
       "      <td>1.0 | 101.0</td>\n",
       "      <td>1.0 | 93.0</td>\n",
       "      <td>1.0 | 78.0</td>\n",
       "      <td>0.0 | 227.0</td>\n",
       "      <td>1.0 | 43.0</td>\n",
       "      <td>0.0 | 18.0</td>\n",
       "      <td>2.0 | 2.0</td>\n",
       "      <td>0.0 | 3.0</td>\n",
       "      <td>0.0 | 4.0</td>\n",
       "    </tr>\n",
       "    <tr>\n",
       "      <th>0</th>\n",
       "      <td>10/11/2021</td>\n",
       "      <td>16.0 | 93.0</td>\n",
       "      <td>1.0 | 80.0</td>\n",
       "      <td>1.0 | 66.0</td>\n",
       "      <td>1.0 | 57.0</td>\n",
       "      <td>0.0 | 213.0</td>\n",
       "      <td>1.0 | 42.0</td>\n",
       "      <td>0.0 | 17.0</td>\n",
       "      <td>3.0 | 3.0</td>\n",
       "      <td>0.0 | 3.0</td>\n",
       "      <td>0.0 | 3.0</td>\n",
       "    </tr>\n",
       "    <tr>\n",
       "      <th>0</th>\n",
       "      <td>18/06/2022</td>\n",
       "      <td>8.0 | 75.0</td>\n",
       "      <td>0.0 | 221.0</td>\n",
       "      <td>0.0 | 219.0</td>\n",
       "      <td>0.0 | 277.0</td>\n",
       "      <td>0.0 | 52.0</td>\n",
       "      <td>0.0 | 359.0</td>\n",
       "      <td>0.0 | 0.0</td>\n",
       "      <td>-2.0 | -2.0</td>\n",
       "      <td>-1.0 | 358.0</td>\n",
       "      <td>0.0 | 0.0</td>\n",
       "    </tr>\n",
       "  </tbody>\n",
       "</table>\n",
       "</div>"
      ],
      "text/plain": [
       "         Date           Moon           Sun           Mer           Ven  \\\n",
       "0  31/10/2008   191.0 | 21.0   14.0 | 89.0   15.0 | 80.0   16.0 | 76.0   \n",
       "0  03/01/2009   188.0 | 35.0   14.0 | 25.0  14.0 | 341.0    16.0 | 2.0   \n",
       "0  22/05/2010  169.0 | 227.0  12.0 | 247.0  13.0 | 247.0  13.0 | 239.0   \n",
       "0  29/11/2013  122.0 | 196.0    9.0 | 60.0    9.0 | 52.0   10.0 | 41.0   \n",
       "0  17/12/2017   68.0 | 138.0    5.0 | 42.0    5.0 | 27.0    5.0 | 71.0   \n",
       "0  15/12/2018    55.0 | 42.0    4.0 | 44.0    4.0 | 41.0   4.0 | 113.0   \n",
       "0  26/06/2019    48.0 | 19.0   3.0 | 213.0   3.0 | 164.0   3.0 | 250.0   \n",
       "0  12/03/2020   38.0 | 188.0   2.0 | 316.0   2.0 | 315.0   2.0 | 294.0   \n",
       "0  25/04/2021   23.0 | 206.0   1.0 | 272.0   1.0 | 241.0   1.0 | 288.0   \n",
       "0  20/07/2021   20.0 | 149.0   1.0 | 190.0   1.0 | 179.0   1.0 | 184.0   \n",
       "0  20/10/2021    17.0 | 10.0   1.0 | 101.0    1.0 | 93.0    1.0 | 78.0   \n",
       "0  10/11/2021    16.0 | 93.0    1.0 | 80.0    1.0 | 66.0    1.0 | 57.0   \n",
       "0  18/06/2022     8.0 | 75.0   0.0 | 221.0   0.0 | 219.0   0.0 | 277.0   \n",
       "\n",
       "           Mar          Jup          Sat            Ura           Nep  \\\n",
       "0  7.0 | 201.0   3.0 | 78.0  0.0 | 156.0  416.0 | 416.0    0.0 | 32.0   \n",
       "0  7.0 | 155.0   3.0 | 66.0  0.0 | 153.0  416.0 | 416.0    0.0 | 31.0   \n",
       "0  6.0 | 288.0    3.0 | 7.0  0.0 | 147.0  405.0 | 405.0    0.0 | 25.0   \n",
       "0  4.0 | 254.0  1.0 | 255.0   0.0 | 98.0    36.0 | 36.0    0.0 | 21.0   \n",
       "0  2.0 | 215.0  1.0 | 141.0   0.0 | 55.0    20.0 | 20.0    0.0 | 12.0   \n",
       "0   2.0 | 81.0  1.0 | 117.0   0.0 | 46.0    16.0 | 16.0    0.0 | 10.0   \n",
       "0  1.0 | 313.0  1.0 | 108.0   0.0 | 37.0      9.0 | 9.0     0.0 | 5.0   \n",
       "0  1.0 | 143.0   1.0 | 74.0   0.0 | 26.0    11.0 | 11.0     0.0 | 5.0   \n",
       "0  0.0 | 339.0   1.0 | 38.0   0.0 | 12.0      5.0 | 5.0     0.0 | 2.0   \n",
       "0  0.0 | 286.0   1.0 | 34.0   0.0 | 14.0      1.0 | 1.0     0.0 | 1.0   \n",
       "0  0.0 | 227.0   1.0 | 43.0   0.0 | 18.0      2.0 | 2.0     0.0 | 3.0   \n",
       "0  0.0 | 213.0   1.0 | 42.0   0.0 | 17.0      3.0 | 3.0     0.0 | 3.0   \n",
       "0   0.0 | 52.0  0.0 | 359.0    0.0 | 0.0    -2.0 | -2.0  -1.0 | 358.0   \n",
       "\n",
       "          Plu  \n",
       "0  0.0 | 29.0  \n",
       "0  0.0 | 27.0  \n",
       "0  0.0 | 23.0  \n",
       "0  0.0 | 18.0  \n",
       "0  0.0 | 10.0  \n",
       "0   0.0 | 8.0  \n",
       "0   0.0 | 6.0  \n",
       "0   0.0 | 4.0  \n",
       "0   0.0 | 1.0  \n",
       "0   0.0 | 3.0  \n",
       "0   0.0 | 4.0  \n",
       "0   0.0 | 3.0  \n",
       "0   0.0 | 0.0  "
      ]
     },
     "execution_count": 19,
     "metadata": {},
     "output_type": "execute_result"
    }
   ],
   "source": [
    "# BON CUM MOD/REV\n",
    "\n",
    "gexx = geol.copy()\n",
    "for col in gexx.columns[1:]:\n",
    "     gexx = gexx.astype({col: int})\n",
    "\n",
    "gexx['Moon'] = gexx['Moon'] / 360\n",
    "gexx['Sun'] = gexx['Sun'] / 360\n",
    "gexx['Mer'] = gexx['Mer'] / 360\n",
    "gexx['Ven'] = gexx['Ven'] / 360\n",
    "gexx['Mar'] = gexx['Mar'] / 360\n",
    "gexx['Jup'] = gexx['Jup'] / 360\n",
    "gexx['Sat'] = gexx['Sat'] / 360\n",
    "gexx['Nep'] = gexx['Nep'] / 360\n",
    "gexx['Plu'] = gexx['Plu'] / 360\n",
    "\n",
    "gecc = geol.copy()\n",
    "for col in gecc.columns[1:]:\n",
    "     gecc = gecc.astype({col: int})\n",
    "\n",
    "gecc['Moon'] = gecc['Moon'] % 360\n",
    "gecc['Sun'] = gecc['Sun'] % 360\n",
    "gecc['Mer'] = gecc['Mer'] % 360\n",
    "gecc['Ven'] = gecc['Ven'] % 360\n",
    "gecc['Mar'] = gecc['Mar'] % 360\n",
    "gecc['Jup'] = gecc['Jup'] % 360\n",
    "gecc['Sat'] = gecc['Sat'] % 360\n",
    "gecc['Nep'] = gecc['Nep'] % 360\n",
    "gecc['Plu'] = gecc['Plu'] % 360\n",
    "\n",
    "gexx = gexx.iloc[1: , :]\n",
    "gecc = gecc.iloc[1:, :]\n",
    "\n",
    "# ROUNDDOWN\n",
    "\n",
    "gexx = gexx.iloc[::, gexx.columns !='Date'].apply(np.floor)\n",
    "gecc = gecc.iloc[::, gecc.columns !='Date'].apply(np.floor)\n",
    "\n",
    "# STR\n",
    "\n",
    "for col in gexx.columns[::]:\n",
    "     gexx = gexx.astype({col: str})\n",
    "\n",
    "for col in gecc.columns[::]:\n",
    "     gecc = gecc.astype({col: str})\n",
    "\n",
    "puant_g = pd.DataFrame({\"Date\": cumm_hel['Date']})\n",
    "\n",
    "# GROUPBY MANUALY\n",
    "\n",
    "for col in puant_g.columns[1:]:\n",
    "     puant_g = puant_g.astype({col: int})\n",
    "\n",
    "for col in gexx.columns[::]:\n",
    "    puant_g[col] = gexx[col] + ' | ' + gecc[col] #.groupby('Date').agg('-'.join).reset_index()\n",
    "    \n",
    "puant_g"
   ]
  },
  {
   "cell_type": "markdown",
   "id": "f0e5209d",
   "metadata": {},
   "source": [
    "### **II.2.3 CONCAT**"
   ]
  },
  {
   "cell_type": "code",
   "execution_count": 20,
   "id": "b5954caa",
   "metadata": {},
   "outputs": [],
   "source": [
    "geo_concat = pd.concat([cumm_geo, puant_g], axis=0)\n",
    "geo_concat.Date = pd.to_datetime(geo_concat.Date)\n",
    "geo_concat = geo_concat.sort_values(\"Date\", ignore_index=True)\n",
    "geo_concat.Date = geo_concat.Date.dt.strftime(\"%d/%m/%Y\")\n",
    "\n",
    "gcc = pd.concat([result_g, mod0_g, geo_concat])\n",
    "gcc.to_csv(os.path.join('C://Users//ASUS//Desktop//ASTROTOOL//streamlit//data','geo_main.csv'), index = False, float_format = '%2f')"
   ]
  },
  {
   "cell_type": "markdown",
   "id": "95caa79d",
   "metadata": {},
   "source": [
    "# **III. ASPECTS TABLE & TOOLS.py**"
   ]
  },
  {
   "cell_type": "markdown",
   "id": "4246886e",
   "metadata": {},
   "source": [
    "### **III.1 Aspects H/G TrTr & TrNa**"
   ]
  },
  {
   "cell_type": "markdown",
   "id": "4485de1e",
   "metadata": {},
   "source": [
    "#### **III.1.1 HELIO TrTr & TrNa**"
   ]
  },
  {
   "cell_type": "markdown",
   "id": "cf48277e",
   "metadata": {},
   "source": [
    "#### **inner code**"
   ]
  },
  {
   "cell_type": "code",
   "execution_count": 21,
   "id": "eef82dc2",
   "metadata": {},
   "outputs": [],
   "source": [
    "# HELIO ASPECT TrTr - MADE BY US AUTOMATICALY FINDS INTO DATA\n",
    "\n",
    "#ha = helio_asp\n",
    "#col = []\n",
    "#cols = ha.columns[1:]\n",
    "#df = ha[cols]\n",
    "#Date = list[ha['Date']]\n",
    "\n",
    "#for columns in df.columns:\n",
    "\n",
    "    #globals()[\"liste_%s\"%columns] = []\n",
    "\n",
    "    #for row, i in enumerate(df[columns]):\n",
    "        #if (i >= 0 and i <= 0.03) or (i >= 3.75 and i <= 3.755) or (i >= 7.5 and i <= 7.55) or (i >= 15 and i <= 15.15) or (i >= 22.5 and i <= 22.55) or (i >= 30 and i <= 30.15) or (i >= 36 and i <= 36.15) or (i >= 45 and i <= 45.15) or (i >= 60 and i <= 60.15) or (i >= 72 and i <= 72.15) or (i >= 90 and i <= 90.15) or (i >= 120 and i <= 120.15) or (i >= 135 and i <= 135.15) or (i >= 144 and i <= 144.15) or (i >= 150 and i <= 150.15) or (i >= 180 and i <= 180.15):\n",
    "            #globals()[\"liste_%s\"%columns].append(i)\n",
    "        #else:\n",
    "            #globals()[\"liste_%s\"%columns].append(\" \")\n",
    "\n",
    "#flu = helio_asp[['Date']].copy()\n",
    "#dict = {'Sun_Mer': liste_Sun_Mer, 'Sun_Ven': liste_Sun_Ven, 'Sun_Mar': liste_Sun_Mar, 'Sun_Jup': liste_Sun_Jup, 'Sun_Sat': liste_Sun_Sat, 'Sun_Ura': liste_Sun_Ura, 'Sun_Nep': liste_Sun_Nep, 'Sun_Plu': liste_Sun_Plu, 'Mer_Ven': liste_Mer_Ven, 'Mer_Mar': liste_Mer_Mar, 'Mer_Jup': liste_Mer_Jup, 'Mer_Sat': liste_Mer_Sat, 'Mer_Ura': liste_Mer_Ura, 'Mer_Nep': liste_Mer_Nep, 'Mer_Plu': liste_Mer_Plu, 'Ven_Mar': liste_Ven_Mar, 'Ven_Jup': liste_Ven_Jup, 'Ven_Sat': liste_Ven_Sat, 'Ven_Ura': liste_Ven_Ura, 'Ven_Nep': liste_Ven_Nep, 'Ven_Plu': liste_Ven_Plu, 'Mar_Jup': liste_Mar_Jup, 'Mar_Sat': liste_Mar_Sat, 'Mar_Ura': liste_Mar_Ura, 'Mar_Nep': liste_Mar_Nep, 'Mar_Plu': liste_Mar_Plu, 'Jup_Sat': liste_Jup_Sat, 'Jup_Ura': liste_Jup_Ura, 'Jup_Nep': liste_Jup_Nep, 'Jup_Plu': liste_Jup_Plu, 'Sat_Ura': liste_Sat_Ura, 'Sat_Nep': liste_Sat_Nep, 'Sat_Plu': liste_Sat_Plu, 'Ura_Nep': liste_Ura_Nep, 'Ura_Plu': liste_Ura_Plu, 'Nep_Plu': liste_Nep_Plu} \n",
    "#dfObj = pd.DataFrame(dict)\n",
    "#flu = helio_asp[['Date']].copy()\n",
    "#concat_asp = pd.concat([flu, dfObj], axis=1)\n",
    "\n",
    "#asp_con = concat_asp[concat_asp.Date == today]\n",
    "#asp_con.round()"
   ]
  },
  {
   "cell_type": "code",
   "execution_count": 22,
   "id": "2c36a3c8",
   "metadata": {},
   "outputs": [
    {
     "data": {
      "text/html": [
       "<div>\n",
       "<style scoped>\n",
       "    .dataframe tbody tr th:only-of-type {\n",
       "        vertical-align: middle;\n",
       "    }\n",
       "\n",
       "    .dataframe tbody tr th {\n",
       "        vertical-align: top;\n",
       "    }\n",
       "\n",
       "    .dataframe thead th {\n",
       "        text-align: right;\n",
       "    }\n",
       "</style>\n",
       "<table border=\"1\" class=\"dataframe\">\n",
       "  <thead>\n",
       "    <tr style=\"text-align: right;\">\n",
       "      <th></th>\n",
       "      <th>Date</th>\n",
       "      <th>Points</th>\n",
       "    </tr>\n",
       "  </thead>\n",
       "  <tbody>\n",
       "    <tr>\n",
       "      <th>2358</th>\n",
       "      <td>2023-01-28</td>\n",
       "      <td>5</td>\n",
       "    </tr>\n",
       "    <tr>\n",
       "      <th>2359</th>\n",
       "      <td>2023-01-28</td>\n",
       "      <td>20</td>\n",
       "    </tr>\n",
       "    <tr>\n",
       "      <th>2360</th>\n",
       "      <td>2023-01-29</td>\n",
       "      <td>5</td>\n",
       "    </tr>\n",
       "    <tr>\n",
       "      <th>2361</th>\n",
       "      <td>2023-01-30</td>\n",
       "      <td>10</td>\n",
       "    </tr>\n",
       "    <tr>\n",
       "      <th>2362</th>\n",
       "      <td>2023-01-30</td>\n",
       "      <td>10</td>\n",
       "    </tr>\n",
       "    <tr>\n",
       "      <th>2363</th>\n",
       "      <td>2023-01-30</td>\n",
       "      <td>5</td>\n",
       "    </tr>\n",
       "    <tr>\n",
       "      <th>2366</th>\n",
       "      <td>2023-01-31</td>\n",
       "      <td>10</td>\n",
       "    </tr>\n",
       "    <tr>\n",
       "      <th>2364</th>\n",
       "      <td>2023-01-31</td>\n",
       "      <td>10</td>\n",
       "    </tr>\n",
       "    <tr>\n",
       "      <th>2365</th>\n",
       "      <td>2023-01-31</td>\n",
       "      <td>10</td>\n",
       "    </tr>\n",
       "  </tbody>\n",
       "</table>\n",
       "</div>"
      ],
      "text/plain": [
       "           Date  Points\n",
       "2358 2023-01-28       5\n",
       "2359 2023-01-28      20\n",
       "2360 2023-01-29       5\n",
       "2361 2023-01-30      10\n",
       "2362 2023-01-30      10\n",
       "2363 2023-01-30       5\n",
       "2366 2023-01-31      10\n",
       "2364 2023-01-31      10\n",
       "2365 2023-01-31      10"
      ]
     },
     "execution_count": 22,
     "metadata": {},
     "output_type": "execute_result"
    }
   ],
   "source": [
    "b = points_tr.copy()\n",
    "\n",
    "b.fillna(0, inplace=True)\n",
    "\n",
    "b_h = b[b[\"Type\"] == \"Helio\"]\n",
    "b_g = b[b[\"Type\"] == \"Geo\"]\n",
    "\n",
    "b_h = b_h.drop(['Type'], axis = 1)\n",
    "b_g = b_g.drop(['Type'], axis = 1)\n",
    "b_con = pd.concat([b_h, b_g])\n",
    "\n",
    "b_con['Date'] = pd.to_datetime(b_con['Date'])  \n",
    "\n",
    "start_date = t  - timedelta(days = 1)\n",
    "end_date = t + timedelta(days = 3)\n",
    "\n",
    "mask = (b_con['Date'] > start_date) & (b_con['Date'] <= end_date)\n",
    "b_hits = b_con.loc[mask]\n",
    "b_hits = b_hits.sort_values(by=['Date'], ascending = True)\n",
    "b_trtr = b_hits\n",
    "\n",
    "b_trtr"
   ]
  },
  {
   "cell_type": "code",
   "execution_count": 23,
   "id": "d53e03c2",
   "metadata": {},
   "outputs": [],
   "source": [
    "x = points_na.copy()\n",
    "\n",
    "x.fillna(0, inplace=True)\n",
    "\n",
    "x_h = x[x[\"Type\"] == \"Helio\"]\n",
    "x_g = x[x[\"Type\"] == \"Geo\"]\n",
    "\n",
    "x_h = x_h.drop(['Type'], axis = 1)\n",
    "x_h = x_h.drop(['Angle'], axis = 1)\n",
    "x_h = x_h.drop(['Pair'], axis = 1)\n",
    "\n",
    "x_g = x_g.drop(['Type'], axis = 1)\n",
    "x_g = x_g.drop(['Angle'], axis = 1)\n",
    "x_g = x_g.drop(['Pair'], axis = 1)\n",
    "\n",
    "x_con = pd.concat([x_h, x_g])\n",
    "\n",
    "x_con['Date'] = pd.to_datetime(x_con['Date'])  \n",
    "start_date = t  - timedelta(days = 1)\n",
    "end_date = t + timedelta(days = 120)\n",
    "\n",
    "mask = (x_con['Date'] > start_date) & (x_con['Date'] <= end_date)\n",
    "\n",
    "x_hits = x_con.loc[mask]\n",
    "x_hits = x_hits.sort_values(by=['Date'], ascending = True)\n",
    "x_hi = x_con.loc[mask]\n",
    "x_hi = x_hi.sort_values(by=['Date'], ascending = True)"
   ]
  },
  {
   "cell_type": "markdown",
   "id": "2dade97a",
   "metadata": {},
   "source": [
    "#### **result**"
   ]
  },
  {
   "cell_type": "code",
   "execution_count": 24,
   "id": "52f4b387",
   "metadata": {},
   "outputs": [
    {
     "data": {
      "application/vnd.plotly.v1+json": {
       "config": {
        "plotlyServerURL": "https://plot.ly"
       },
       "data": [
        {
         "alignmentgroup": "True",
         "hovertemplate": "Date=%{x}<br>Points=%{text}<extra></extra>",
         "legendgroup": "",
         "marker": {
          "color": "#636efa",
          "pattern": {
           "shape": ""
          }
         },
         "name": "",
         "offsetgroup": "",
         "orientation": "v",
         "showlegend": false,
         "text": [
          5,
          20,
          5,
          10,
          10,
          5,
          10,
          10,
          10
         ],
         "textposition": "auto",
         "type": "bar",
         "x": [
          "2023-01-28T00:00:00",
          "2023-01-28T00:00:00",
          "2023-01-29T00:00:00",
          "2023-01-30T00:00:00",
          "2023-01-30T00:00:00",
          "2023-01-30T00:00:00",
          "2023-01-31T00:00:00",
          "2023-01-31T00:00:00",
          "2023-01-31T00:00:00"
         ],
         "xaxis": "x",
         "y": [
          5,
          20,
          5,
          10,
          10,
          5,
          10,
          10,
          10
         ],
         "yaxis": "y"
        }
       ],
       "layout": {
        "barmode": "relative",
        "legend": {
         "tracegroupgap": 0
        },
        "template": {
         "data": {
          "bar": [
           {
            "error_x": {
             "color": "#2a3f5f"
            },
            "error_y": {
             "color": "#2a3f5f"
            },
            "marker": {
             "line": {
              "color": "#E5ECF6",
              "width": 0.5
             },
             "pattern": {
              "fillmode": "overlay",
              "size": 10,
              "solidity": 0.2
             }
            },
            "type": "bar"
           }
          ],
          "barpolar": [
           {
            "marker": {
             "line": {
              "color": "#E5ECF6",
              "width": 0.5
             },
             "pattern": {
              "fillmode": "overlay",
              "size": 10,
              "solidity": 0.2
             }
            },
            "type": "barpolar"
           }
          ],
          "carpet": [
           {
            "aaxis": {
             "endlinecolor": "#2a3f5f",
             "gridcolor": "white",
             "linecolor": "white",
             "minorgridcolor": "white",
             "startlinecolor": "#2a3f5f"
            },
            "baxis": {
             "endlinecolor": "#2a3f5f",
             "gridcolor": "white",
             "linecolor": "white",
             "minorgridcolor": "white",
             "startlinecolor": "#2a3f5f"
            },
            "type": "carpet"
           }
          ],
          "choropleth": [
           {
            "colorbar": {
             "outlinewidth": 0,
             "ticks": ""
            },
            "type": "choropleth"
           }
          ],
          "contour": [
           {
            "colorbar": {
             "outlinewidth": 0,
             "ticks": ""
            },
            "colorscale": [
             [
              0,
              "#0d0887"
             ],
             [
              0.1111111111111111,
              "#46039f"
             ],
             [
              0.2222222222222222,
              "#7201a8"
             ],
             [
              0.3333333333333333,
              "#9c179e"
             ],
             [
              0.4444444444444444,
              "#bd3786"
             ],
             [
              0.5555555555555556,
              "#d8576b"
             ],
             [
              0.6666666666666666,
              "#ed7953"
             ],
             [
              0.7777777777777778,
              "#fb9f3a"
             ],
             [
              0.8888888888888888,
              "#fdca26"
             ],
             [
              1,
              "#f0f921"
             ]
            ],
            "type": "contour"
           }
          ],
          "contourcarpet": [
           {
            "colorbar": {
             "outlinewidth": 0,
             "ticks": ""
            },
            "type": "contourcarpet"
           }
          ],
          "heatmap": [
           {
            "colorbar": {
             "outlinewidth": 0,
             "ticks": ""
            },
            "colorscale": [
             [
              0,
              "#0d0887"
             ],
             [
              0.1111111111111111,
              "#46039f"
             ],
             [
              0.2222222222222222,
              "#7201a8"
             ],
             [
              0.3333333333333333,
              "#9c179e"
             ],
             [
              0.4444444444444444,
              "#bd3786"
             ],
             [
              0.5555555555555556,
              "#d8576b"
             ],
             [
              0.6666666666666666,
              "#ed7953"
             ],
             [
              0.7777777777777778,
              "#fb9f3a"
             ],
             [
              0.8888888888888888,
              "#fdca26"
             ],
             [
              1,
              "#f0f921"
             ]
            ],
            "type": "heatmap"
           }
          ],
          "heatmapgl": [
           {
            "colorbar": {
             "outlinewidth": 0,
             "ticks": ""
            },
            "colorscale": [
             [
              0,
              "#0d0887"
             ],
             [
              0.1111111111111111,
              "#46039f"
             ],
             [
              0.2222222222222222,
              "#7201a8"
             ],
             [
              0.3333333333333333,
              "#9c179e"
             ],
             [
              0.4444444444444444,
              "#bd3786"
             ],
             [
              0.5555555555555556,
              "#d8576b"
             ],
             [
              0.6666666666666666,
              "#ed7953"
             ],
             [
              0.7777777777777778,
              "#fb9f3a"
             ],
             [
              0.8888888888888888,
              "#fdca26"
             ],
             [
              1,
              "#f0f921"
             ]
            ],
            "type": "heatmapgl"
           }
          ],
          "histogram": [
           {
            "marker": {
             "pattern": {
              "fillmode": "overlay",
              "size": 10,
              "solidity": 0.2
             }
            },
            "type": "histogram"
           }
          ],
          "histogram2d": [
           {
            "colorbar": {
             "outlinewidth": 0,
             "ticks": ""
            },
            "colorscale": [
             [
              0,
              "#0d0887"
             ],
             [
              0.1111111111111111,
              "#46039f"
             ],
             [
              0.2222222222222222,
              "#7201a8"
             ],
             [
              0.3333333333333333,
              "#9c179e"
             ],
             [
              0.4444444444444444,
              "#bd3786"
             ],
             [
              0.5555555555555556,
              "#d8576b"
             ],
             [
              0.6666666666666666,
              "#ed7953"
             ],
             [
              0.7777777777777778,
              "#fb9f3a"
             ],
             [
              0.8888888888888888,
              "#fdca26"
             ],
             [
              1,
              "#f0f921"
             ]
            ],
            "type": "histogram2d"
           }
          ],
          "histogram2dcontour": [
           {
            "colorbar": {
             "outlinewidth": 0,
             "ticks": ""
            },
            "colorscale": [
             [
              0,
              "#0d0887"
             ],
             [
              0.1111111111111111,
              "#46039f"
             ],
             [
              0.2222222222222222,
              "#7201a8"
             ],
             [
              0.3333333333333333,
              "#9c179e"
             ],
             [
              0.4444444444444444,
              "#bd3786"
             ],
             [
              0.5555555555555556,
              "#d8576b"
             ],
             [
              0.6666666666666666,
              "#ed7953"
             ],
             [
              0.7777777777777778,
              "#fb9f3a"
             ],
             [
              0.8888888888888888,
              "#fdca26"
             ],
             [
              1,
              "#f0f921"
             ]
            ],
            "type": "histogram2dcontour"
           }
          ],
          "mesh3d": [
           {
            "colorbar": {
             "outlinewidth": 0,
             "ticks": ""
            },
            "type": "mesh3d"
           }
          ],
          "parcoords": [
           {
            "line": {
             "colorbar": {
              "outlinewidth": 0,
              "ticks": ""
             }
            },
            "type": "parcoords"
           }
          ],
          "pie": [
           {
            "automargin": true,
            "type": "pie"
           }
          ],
          "scatter": [
           {
            "marker": {
             "colorbar": {
              "outlinewidth": 0,
              "ticks": ""
             }
            },
            "type": "scatter"
           }
          ],
          "scatter3d": [
           {
            "line": {
             "colorbar": {
              "outlinewidth": 0,
              "ticks": ""
             }
            },
            "marker": {
             "colorbar": {
              "outlinewidth": 0,
              "ticks": ""
             }
            },
            "type": "scatter3d"
           }
          ],
          "scattercarpet": [
           {
            "marker": {
             "colorbar": {
              "outlinewidth": 0,
              "ticks": ""
             }
            },
            "type": "scattercarpet"
           }
          ],
          "scattergeo": [
           {
            "marker": {
             "colorbar": {
              "outlinewidth": 0,
              "ticks": ""
             }
            },
            "type": "scattergeo"
           }
          ],
          "scattergl": [
           {
            "marker": {
             "colorbar": {
              "outlinewidth": 0,
              "ticks": ""
             }
            },
            "type": "scattergl"
           }
          ],
          "scattermapbox": [
           {
            "marker": {
             "colorbar": {
              "outlinewidth": 0,
              "ticks": ""
             }
            },
            "type": "scattermapbox"
           }
          ],
          "scatterpolar": [
           {
            "marker": {
             "colorbar": {
              "outlinewidth": 0,
              "ticks": ""
             }
            },
            "type": "scatterpolar"
           }
          ],
          "scatterpolargl": [
           {
            "marker": {
             "colorbar": {
              "outlinewidth": 0,
              "ticks": ""
             }
            },
            "type": "scatterpolargl"
           }
          ],
          "scatterternary": [
           {
            "marker": {
             "colorbar": {
              "outlinewidth": 0,
              "ticks": ""
             }
            },
            "type": "scatterternary"
           }
          ],
          "surface": [
           {
            "colorbar": {
             "outlinewidth": 0,
             "ticks": ""
            },
            "colorscale": [
             [
              0,
              "#0d0887"
             ],
             [
              0.1111111111111111,
              "#46039f"
             ],
             [
              0.2222222222222222,
              "#7201a8"
             ],
             [
              0.3333333333333333,
              "#9c179e"
             ],
             [
              0.4444444444444444,
              "#bd3786"
             ],
             [
              0.5555555555555556,
              "#d8576b"
             ],
             [
              0.6666666666666666,
              "#ed7953"
             ],
             [
              0.7777777777777778,
              "#fb9f3a"
             ],
             [
              0.8888888888888888,
              "#fdca26"
             ],
             [
              1,
              "#f0f921"
             ]
            ],
            "type": "surface"
           }
          ],
          "table": [
           {
            "cells": {
             "fill": {
              "color": "#EBF0F8"
             },
             "line": {
              "color": "white"
             }
            },
            "header": {
             "fill": {
              "color": "#C8D4E3"
             },
             "line": {
              "color": "white"
             }
            },
            "type": "table"
           }
          ]
         },
         "layout": {
          "annotationdefaults": {
           "arrowcolor": "#2a3f5f",
           "arrowhead": 0,
           "arrowwidth": 1
          },
          "autotypenumbers": "strict",
          "coloraxis": {
           "colorbar": {
            "outlinewidth": 0,
            "ticks": ""
           }
          },
          "colorscale": {
           "diverging": [
            [
             0,
             "#8e0152"
            ],
            [
             0.1,
             "#c51b7d"
            ],
            [
             0.2,
             "#de77ae"
            ],
            [
             0.3,
             "#f1b6da"
            ],
            [
             0.4,
             "#fde0ef"
            ],
            [
             0.5,
             "#f7f7f7"
            ],
            [
             0.6,
             "#e6f5d0"
            ],
            [
             0.7,
             "#b8e186"
            ],
            [
             0.8,
             "#7fbc41"
            ],
            [
             0.9,
             "#4d9221"
            ],
            [
             1,
             "#276419"
            ]
           ],
           "sequential": [
            [
             0,
             "#0d0887"
            ],
            [
             0.1111111111111111,
             "#46039f"
            ],
            [
             0.2222222222222222,
             "#7201a8"
            ],
            [
             0.3333333333333333,
             "#9c179e"
            ],
            [
             0.4444444444444444,
             "#bd3786"
            ],
            [
             0.5555555555555556,
             "#d8576b"
            ],
            [
             0.6666666666666666,
             "#ed7953"
            ],
            [
             0.7777777777777778,
             "#fb9f3a"
            ],
            [
             0.8888888888888888,
             "#fdca26"
            ],
            [
             1,
             "#f0f921"
            ]
           ],
           "sequentialminus": [
            [
             0,
             "#0d0887"
            ],
            [
             0.1111111111111111,
             "#46039f"
            ],
            [
             0.2222222222222222,
             "#7201a8"
            ],
            [
             0.3333333333333333,
             "#9c179e"
            ],
            [
             0.4444444444444444,
             "#bd3786"
            ],
            [
             0.5555555555555556,
             "#d8576b"
            ],
            [
             0.6666666666666666,
             "#ed7953"
            ],
            [
             0.7777777777777778,
             "#fb9f3a"
            ],
            [
             0.8888888888888888,
             "#fdca26"
            ],
            [
             1,
             "#f0f921"
            ]
           ]
          },
          "colorway": [
           "#636efa",
           "#EF553B",
           "#00cc96",
           "#ab63fa",
           "#FFA15A",
           "#19d3f3",
           "#FF6692",
           "#B6E880",
           "#FF97FF",
           "#FECB52"
          ],
          "font": {
           "color": "#2a3f5f"
          },
          "geo": {
           "bgcolor": "white",
           "lakecolor": "white",
           "landcolor": "#E5ECF6",
           "showlakes": true,
           "showland": true,
           "subunitcolor": "white"
          },
          "hoverlabel": {
           "align": "left"
          },
          "hovermode": "closest",
          "mapbox": {
           "style": "light"
          },
          "paper_bgcolor": "white",
          "plot_bgcolor": "#E5ECF6",
          "polar": {
           "angularaxis": {
            "gridcolor": "white",
            "linecolor": "white",
            "ticks": ""
           },
           "bgcolor": "#E5ECF6",
           "radialaxis": {
            "gridcolor": "white",
            "linecolor": "white",
            "ticks": ""
           }
          },
          "scene": {
           "xaxis": {
            "backgroundcolor": "#E5ECF6",
            "gridcolor": "white",
            "gridwidth": 2,
            "linecolor": "white",
            "showbackground": true,
            "ticks": "",
            "zerolinecolor": "white"
           },
           "yaxis": {
            "backgroundcolor": "#E5ECF6",
            "gridcolor": "white",
            "gridwidth": 2,
            "linecolor": "white",
            "showbackground": true,
            "ticks": "",
            "zerolinecolor": "white"
           },
           "zaxis": {
            "backgroundcolor": "#E5ECF6",
            "gridcolor": "white",
            "gridwidth": 2,
            "linecolor": "white",
            "showbackground": true,
            "ticks": "",
            "zerolinecolor": "white"
           }
          },
          "shapedefaults": {
           "line": {
            "color": "#2a3f5f"
           }
          },
          "ternary": {
           "aaxis": {
            "gridcolor": "white",
            "linecolor": "white",
            "ticks": ""
           },
           "baxis": {
            "gridcolor": "white",
            "linecolor": "white",
            "ticks": ""
           },
           "bgcolor": "#E5ECF6",
           "caxis": {
            "gridcolor": "white",
            "linecolor": "white",
            "ticks": ""
           }
          },
          "title": {
           "x": 0.05
          },
          "xaxis": {
           "automargin": true,
           "gridcolor": "white",
           "linecolor": "white",
           "ticks": "",
           "title": {
            "standoff": 15
           },
           "zerolinecolor": "white",
           "zerolinewidth": 2
          },
          "yaxis": {
           "automargin": true,
           "gridcolor": "white",
           "linecolor": "white",
           "ticks": "",
           "title": {
            "standoff": 15
           },
           "zerolinecolor": "white",
           "zerolinewidth": 2
          }
         }
        },
        "title": {
         "text": "Aspects TrTr Points"
        },
        "xaxis": {
         "anchor": "y",
         "domain": [
          0,
          1
         ],
         "title": {
          "text": "Date"
         }
        },
        "yaxis": {
         "anchor": "x",
         "domain": [
          0,
          1
         ],
         "title": {
          "text": "Points"
         }
        }
       }
      }
     },
     "metadata": {},
     "output_type": "display_data"
    }
   ],
   "source": [
    "fig = px.bar(b_trtr, x=\"Date\", y=\"Points\", text=\"Points\", title=\"Aspects TrTr Points\")\n",
    "fig.show()"
   ]
  },
  {
   "cell_type": "code",
   "execution_count": 25,
   "id": "d28a694a",
   "metadata": {},
   "outputs": [
    {
     "data": {
      "text/html": [
       "<style type=\"text/css\">\n",
       "</style>\n",
       "<table id=\"T_03b2b_\">\n",
       "  <thead>\n",
       "    <tr>\n",
       "      <th class=\"blank level0\" >&nbsp;</th>\n",
       "      <th class=\"col_heading level0 col0\" >Date</th>\n",
       "      <th class=\"col_heading level0 col1\" >Type</th>\n",
       "      <th class=\"col_heading level0 col2\" >Planets</th>\n",
       "      <th class=\"col_heading level0 col3\" >Angle</th>\n",
       "    </tr>\n",
       "  </thead>\n",
       "  <tbody>\n",
       "  </tbody>\n",
       "</table>\n"
      ],
      "text/plain": [
       "<pandas.io.formats.style.Styler at 0x2117913e760>"
      ]
     },
     "execution_count": 25,
     "metadata": {},
     "output_type": "execute_result"
    }
   ],
   "source": [
    "# H_TrTr\n",
    "\n",
    "TrTr = TrTr.copy()\n",
    "helio_ap = TrTr[TrTr[\"Type\"] == \"Helio\"]\n",
    "helio_TrTr = helio_ap[helio_ap.Date == today]\n",
    "\n",
    "dz_TrTr_Asp = helio_TrTr\n",
    "dz_TrTr_Asp.to_csv(os.path.join('C://Users//ASUS//Desktop//ASTROTOOL//streamlit//data','aspects_h_tr.csv'), index= False)\n",
    "\n",
    "helio_TrTr.style.background_gradient(cmap='Blues')"
   ]
  },
  {
   "cell_type": "code",
   "execution_count": 26,
   "id": "76610896",
   "metadata": {},
   "outputs": [
    {
     "data": {
      "text/html": [
       "<style type=\"text/css\">\n",
       "#T_93caf_row0_col3 {\n",
       "  background-color: #f7fbff;\n",
       "  color: #000000;\n",
       "}\n",
       "</style>\n",
       "<table id=\"T_93caf_\">\n",
       "  <thead>\n",
       "    <tr>\n",
       "      <th class=\"blank level0\" >&nbsp;</th>\n",
       "      <th class=\"col_heading level0 col0\" >Date</th>\n",
       "      <th class=\"col_heading level0 col1\" >Type</th>\n",
       "      <th class=\"col_heading level0 col2\" >Planets</th>\n",
       "      <th class=\"col_heading level0 col3\" >Angle</th>\n",
       "    </tr>\n",
       "  </thead>\n",
       "  <tbody>\n",
       "    <tr>\n",
       "      <th id=\"T_93caf_level0_row0\" class=\"row_heading level0 row0\" >134</th>\n",
       "      <td id=\"T_93caf_row0_col0\" class=\"data row0 col0\" >28/01/2023</td>\n",
       "      <td id=\"T_93caf_row0_col1\" class=\"data row0 col1\" >Helio</td>\n",
       "      <td id=\"T_93caf_row0_col2\" class=\"data row0 col2\" >Jup_Sat</td>\n",
       "      <td id=\"T_93caf_row0_col3\" class=\"data row0 col3\" >30.000000</td>\n",
       "    </tr>\n",
       "  </tbody>\n",
       "</table>\n"
      ],
      "text/plain": [
       "<pandas.io.formats.style.Styler at 0x211767442e0>"
      ]
     },
     "execution_count": 26,
     "metadata": {},
     "output_type": "execute_result"
    }
   ],
   "source": [
    "# H_TrNa\n",
    "\n",
    "TrNa = TrNa.copy()\n",
    "helio_TrNa = TrNa[TrNa[\"Type\"] == \"Helio\"]\n",
    "helio_TrNa = helio_TrNa[helio_TrNa.Date == today]\n",
    "\n",
    "dz_TrNa_Asp = helio_TrNa\n",
    "dz_TrNa_Asp.to_csv(os.path.join('C://Users//ASUS//Desktop//ASTROTOOL//streamlit//data','aspects_h_na.csv'), index= False)\n",
    "\n",
    "helio_TrNa.style.background_gradient(cmap='Blues')"
   ]
  },
  {
   "cell_type": "markdown",
   "id": "d5d2ccfb",
   "metadata": {},
   "source": [
    "#### **III.1.2 GEO TrTr & TrNa**"
   ]
  },
  {
   "cell_type": "code",
   "execution_count": 27,
   "id": "bb8e1b34",
   "metadata": {},
   "outputs": [
    {
     "data": {
      "application/vnd.plotly.v1+json": {
       "config": {
        "plotlyServerURL": "https://plot.ly"
       },
       "data": [
        {
         "alignmentgroup": "True",
         "hovertemplate": "Date=%{x}<br>Points=%{text}<extra></extra>",
         "legendgroup": "",
         "marker": {
          "color": "#636efa",
          "pattern": {
           "shape": ""
          }
         },
         "name": "",
         "offsetgroup": "",
         "orientation": "v",
         "showlegend": false,
         "text": [
          15,
          15,
          15,
          10,
          25,
          15,
          10,
          10,
          15,
          10,
          25,
          15,
          25,
          5,
          25,
          30,
          30,
          15,
          15,
          15,
          10,
          25,
          15,
          25,
          40,
          10,
          35,
          30,
          20,
          15,
          25,
          20,
          15,
          15,
          10,
          30,
          15,
          15,
          10,
          10,
          10
         ],
         "textposition": "auto",
         "type": "bar",
         "x": [
          "2023-01-28T00:00:00",
          "2023-02-06T00:00:00",
          "2023-02-06T00:00:00",
          "2023-02-14T00:00:00",
          "2023-02-17T00:00:00",
          "2023-02-18T00:00:00",
          "2023-02-27T00:00:00",
          "2023-02-27T00:00:00",
          "2023-03-02T00:00:00",
          "2023-03-05T00:00:00",
          "2023-03-06T00:00:00",
          "2023-03-10T00:00:00",
          "2023-03-18T00:00:00",
          "2023-03-18T00:00:00",
          "2023-03-19T00:00:00",
          "2023-03-22T00:00:00",
          "2023-03-23T00:00:00",
          "2023-03-23T00:00:00",
          "2023-03-30T00:00:00",
          "2023-03-31T00:00:00",
          "2023-03-31T00:00:00",
          "2023-04-05T00:00:00",
          "2023-04-06T00:00:00",
          "2023-04-07T00:00:00",
          "2023-04-11T00:00:00",
          "2023-04-14T00:00:00",
          "2023-04-20T00:00:00",
          "2023-04-24T00:00:00",
          "2023-04-24T00:00:00",
          "2023-04-25T00:00:00",
          "2023-04-25T00:00:00",
          "2023-04-26T00:00:00",
          "2023-04-29T00:00:00",
          "2023-05-01T00:00:00",
          "2023-05-02T00:00:00",
          "2023-05-13T00:00:00",
          "2023-05-18T00:00:00",
          "2023-05-18T00:00:00",
          "2023-05-20T00:00:00",
          "2023-05-24T00:00:00",
          "2023-05-24T00:00:00"
         ],
         "xaxis": "x",
         "y": [
          15,
          15,
          15,
          10,
          25,
          15,
          10,
          10,
          15,
          10,
          25,
          15,
          25,
          5,
          25,
          30,
          30,
          15,
          15,
          15,
          10,
          25,
          15,
          25,
          40,
          10,
          35,
          30,
          20,
          15,
          25,
          20,
          15,
          15,
          10,
          30,
          15,
          15,
          10,
          10,
          10
         ],
         "yaxis": "y"
        }
       ],
       "layout": {
        "barmode": "relative",
        "legend": {
         "tracegroupgap": 0
        },
        "template": {
         "data": {
          "bar": [
           {
            "error_x": {
             "color": "#2a3f5f"
            },
            "error_y": {
             "color": "#2a3f5f"
            },
            "marker": {
             "line": {
              "color": "#E5ECF6",
              "width": 0.5
             },
             "pattern": {
              "fillmode": "overlay",
              "size": 10,
              "solidity": 0.2
             }
            },
            "type": "bar"
           }
          ],
          "barpolar": [
           {
            "marker": {
             "line": {
              "color": "#E5ECF6",
              "width": 0.5
             },
             "pattern": {
              "fillmode": "overlay",
              "size": 10,
              "solidity": 0.2
             }
            },
            "type": "barpolar"
           }
          ],
          "carpet": [
           {
            "aaxis": {
             "endlinecolor": "#2a3f5f",
             "gridcolor": "white",
             "linecolor": "white",
             "minorgridcolor": "white",
             "startlinecolor": "#2a3f5f"
            },
            "baxis": {
             "endlinecolor": "#2a3f5f",
             "gridcolor": "white",
             "linecolor": "white",
             "minorgridcolor": "white",
             "startlinecolor": "#2a3f5f"
            },
            "type": "carpet"
           }
          ],
          "choropleth": [
           {
            "colorbar": {
             "outlinewidth": 0,
             "ticks": ""
            },
            "type": "choropleth"
           }
          ],
          "contour": [
           {
            "colorbar": {
             "outlinewidth": 0,
             "ticks": ""
            },
            "colorscale": [
             [
              0,
              "#0d0887"
             ],
             [
              0.1111111111111111,
              "#46039f"
             ],
             [
              0.2222222222222222,
              "#7201a8"
             ],
             [
              0.3333333333333333,
              "#9c179e"
             ],
             [
              0.4444444444444444,
              "#bd3786"
             ],
             [
              0.5555555555555556,
              "#d8576b"
             ],
             [
              0.6666666666666666,
              "#ed7953"
             ],
             [
              0.7777777777777778,
              "#fb9f3a"
             ],
             [
              0.8888888888888888,
              "#fdca26"
             ],
             [
              1,
              "#f0f921"
             ]
            ],
            "type": "contour"
           }
          ],
          "contourcarpet": [
           {
            "colorbar": {
             "outlinewidth": 0,
             "ticks": ""
            },
            "type": "contourcarpet"
           }
          ],
          "heatmap": [
           {
            "colorbar": {
             "outlinewidth": 0,
             "ticks": ""
            },
            "colorscale": [
             [
              0,
              "#0d0887"
             ],
             [
              0.1111111111111111,
              "#46039f"
             ],
             [
              0.2222222222222222,
              "#7201a8"
             ],
             [
              0.3333333333333333,
              "#9c179e"
             ],
             [
              0.4444444444444444,
              "#bd3786"
             ],
             [
              0.5555555555555556,
              "#d8576b"
             ],
             [
              0.6666666666666666,
              "#ed7953"
             ],
             [
              0.7777777777777778,
              "#fb9f3a"
             ],
             [
              0.8888888888888888,
              "#fdca26"
             ],
             [
              1,
              "#f0f921"
             ]
            ],
            "type": "heatmap"
           }
          ],
          "heatmapgl": [
           {
            "colorbar": {
             "outlinewidth": 0,
             "ticks": ""
            },
            "colorscale": [
             [
              0,
              "#0d0887"
             ],
             [
              0.1111111111111111,
              "#46039f"
             ],
             [
              0.2222222222222222,
              "#7201a8"
             ],
             [
              0.3333333333333333,
              "#9c179e"
             ],
             [
              0.4444444444444444,
              "#bd3786"
             ],
             [
              0.5555555555555556,
              "#d8576b"
             ],
             [
              0.6666666666666666,
              "#ed7953"
             ],
             [
              0.7777777777777778,
              "#fb9f3a"
             ],
             [
              0.8888888888888888,
              "#fdca26"
             ],
             [
              1,
              "#f0f921"
             ]
            ],
            "type": "heatmapgl"
           }
          ],
          "histogram": [
           {
            "marker": {
             "pattern": {
              "fillmode": "overlay",
              "size": 10,
              "solidity": 0.2
             }
            },
            "type": "histogram"
           }
          ],
          "histogram2d": [
           {
            "colorbar": {
             "outlinewidth": 0,
             "ticks": ""
            },
            "colorscale": [
             [
              0,
              "#0d0887"
             ],
             [
              0.1111111111111111,
              "#46039f"
             ],
             [
              0.2222222222222222,
              "#7201a8"
             ],
             [
              0.3333333333333333,
              "#9c179e"
             ],
             [
              0.4444444444444444,
              "#bd3786"
             ],
             [
              0.5555555555555556,
              "#d8576b"
             ],
             [
              0.6666666666666666,
              "#ed7953"
             ],
             [
              0.7777777777777778,
              "#fb9f3a"
             ],
             [
              0.8888888888888888,
              "#fdca26"
             ],
             [
              1,
              "#f0f921"
             ]
            ],
            "type": "histogram2d"
           }
          ],
          "histogram2dcontour": [
           {
            "colorbar": {
             "outlinewidth": 0,
             "ticks": ""
            },
            "colorscale": [
             [
              0,
              "#0d0887"
             ],
             [
              0.1111111111111111,
              "#46039f"
             ],
             [
              0.2222222222222222,
              "#7201a8"
             ],
             [
              0.3333333333333333,
              "#9c179e"
             ],
             [
              0.4444444444444444,
              "#bd3786"
             ],
             [
              0.5555555555555556,
              "#d8576b"
             ],
             [
              0.6666666666666666,
              "#ed7953"
             ],
             [
              0.7777777777777778,
              "#fb9f3a"
             ],
             [
              0.8888888888888888,
              "#fdca26"
             ],
             [
              1,
              "#f0f921"
             ]
            ],
            "type": "histogram2dcontour"
           }
          ],
          "mesh3d": [
           {
            "colorbar": {
             "outlinewidth": 0,
             "ticks": ""
            },
            "type": "mesh3d"
           }
          ],
          "parcoords": [
           {
            "line": {
             "colorbar": {
              "outlinewidth": 0,
              "ticks": ""
             }
            },
            "type": "parcoords"
           }
          ],
          "pie": [
           {
            "automargin": true,
            "type": "pie"
           }
          ],
          "scatter": [
           {
            "marker": {
             "colorbar": {
              "outlinewidth": 0,
              "ticks": ""
             }
            },
            "type": "scatter"
           }
          ],
          "scatter3d": [
           {
            "line": {
             "colorbar": {
              "outlinewidth": 0,
              "ticks": ""
             }
            },
            "marker": {
             "colorbar": {
              "outlinewidth": 0,
              "ticks": ""
             }
            },
            "type": "scatter3d"
           }
          ],
          "scattercarpet": [
           {
            "marker": {
             "colorbar": {
              "outlinewidth": 0,
              "ticks": ""
             }
            },
            "type": "scattercarpet"
           }
          ],
          "scattergeo": [
           {
            "marker": {
             "colorbar": {
              "outlinewidth": 0,
              "ticks": ""
             }
            },
            "type": "scattergeo"
           }
          ],
          "scattergl": [
           {
            "marker": {
             "colorbar": {
              "outlinewidth": 0,
              "ticks": ""
             }
            },
            "type": "scattergl"
           }
          ],
          "scattermapbox": [
           {
            "marker": {
             "colorbar": {
              "outlinewidth": 0,
              "ticks": ""
             }
            },
            "type": "scattermapbox"
           }
          ],
          "scatterpolar": [
           {
            "marker": {
             "colorbar": {
              "outlinewidth": 0,
              "ticks": ""
             }
            },
            "type": "scatterpolar"
           }
          ],
          "scatterpolargl": [
           {
            "marker": {
             "colorbar": {
              "outlinewidth": 0,
              "ticks": ""
             }
            },
            "type": "scatterpolargl"
           }
          ],
          "scatterternary": [
           {
            "marker": {
             "colorbar": {
              "outlinewidth": 0,
              "ticks": ""
             }
            },
            "type": "scatterternary"
           }
          ],
          "surface": [
           {
            "colorbar": {
             "outlinewidth": 0,
             "ticks": ""
            },
            "colorscale": [
             [
              0,
              "#0d0887"
             ],
             [
              0.1111111111111111,
              "#46039f"
             ],
             [
              0.2222222222222222,
              "#7201a8"
             ],
             [
              0.3333333333333333,
              "#9c179e"
             ],
             [
              0.4444444444444444,
              "#bd3786"
             ],
             [
              0.5555555555555556,
              "#d8576b"
             ],
             [
              0.6666666666666666,
              "#ed7953"
             ],
             [
              0.7777777777777778,
              "#fb9f3a"
             ],
             [
              0.8888888888888888,
              "#fdca26"
             ],
             [
              1,
              "#f0f921"
             ]
            ],
            "type": "surface"
           }
          ],
          "table": [
           {
            "cells": {
             "fill": {
              "color": "#EBF0F8"
             },
             "line": {
              "color": "white"
             }
            },
            "header": {
             "fill": {
              "color": "#C8D4E3"
             },
             "line": {
              "color": "white"
             }
            },
            "type": "table"
           }
          ]
         },
         "layout": {
          "annotationdefaults": {
           "arrowcolor": "#2a3f5f",
           "arrowhead": 0,
           "arrowwidth": 1
          },
          "autotypenumbers": "strict",
          "coloraxis": {
           "colorbar": {
            "outlinewidth": 0,
            "ticks": ""
           }
          },
          "colorscale": {
           "diverging": [
            [
             0,
             "#8e0152"
            ],
            [
             0.1,
             "#c51b7d"
            ],
            [
             0.2,
             "#de77ae"
            ],
            [
             0.3,
             "#f1b6da"
            ],
            [
             0.4,
             "#fde0ef"
            ],
            [
             0.5,
             "#f7f7f7"
            ],
            [
             0.6,
             "#e6f5d0"
            ],
            [
             0.7,
             "#b8e186"
            ],
            [
             0.8,
             "#7fbc41"
            ],
            [
             0.9,
             "#4d9221"
            ],
            [
             1,
             "#276419"
            ]
           ],
           "sequential": [
            [
             0,
             "#0d0887"
            ],
            [
             0.1111111111111111,
             "#46039f"
            ],
            [
             0.2222222222222222,
             "#7201a8"
            ],
            [
             0.3333333333333333,
             "#9c179e"
            ],
            [
             0.4444444444444444,
             "#bd3786"
            ],
            [
             0.5555555555555556,
             "#d8576b"
            ],
            [
             0.6666666666666666,
             "#ed7953"
            ],
            [
             0.7777777777777778,
             "#fb9f3a"
            ],
            [
             0.8888888888888888,
             "#fdca26"
            ],
            [
             1,
             "#f0f921"
            ]
           ],
           "sequentialminus": [
            [
             0,
             "#0d0887"
            ],
            [
             0.1111111111111111,
             "#46039f"
            ],
            [
             0.2222222222222222,
             "#7201a8"
            ],
            [
             0.3333333333333333,
             "#9c179e"
            ],
            [
             0.4444444444444444,
             "#bd3786"
            ],
            [
             0.5555555555555556,
             "#d8576b"
            ],
            [
             0.6666666666666666,
             "#ed7953"
            ],
            [
             0.7777777777777778,
             "#fb9f3a"
            ],
            [
             0.8888888888888888,
             "#fdca26"
            ],
            [
             1,
             "#f0f921"
            ]
           ]
          },
          "colorway": [
           "#636efa",
           "#EF553B",
           "#00cc96",
           "#ab63fa",
           "#FFA15A",
           "#19d3f3",
           "#FF6692",
           "#B6E880",
           "#FF97FF",
           "#FECB52"
          ],
          "font": {
           "color": "#2a3f5f"
          },
          "geo": {
           "bgcolor": "white",
           "lakecolor": "white",
           "landcolor": "#E5ECF6",
           "showlakes": true,
           "showland": true,
           "subunitcolor": "white"
          },
          "hoverlabel": {
           "align": "left"
          },
          "hovermode": "closest",
          "mapbox": {
           "style": "light"
          },
          "paper_bgcolor": "white",
          "plot_bgcolor": "#E5ECF6",
          "polar": {
           "angularaxis": {
            "gridcolor": "white",
            "linecolor": "white",
            "ticks": ""
           },
           "bgcolor": "#E5ECF6",
           "radialaxis": {
            "gridcolor": "white",
            "linecolor": "white",
            "ticks": ""
           }
          },
          "scene": {
           "xaxis": {
            "backgroundcolor": "#E5ECF6",
            "gridcolor": "white",
            "gridwidth": 2,
            "linecolor": "white",
            "showbackground": true,
            "ticks": "",
            "zerolinecolor": "white"
           },
           "yaxis": {
            "backgroundcolor": "#E5ECF6",
            "gridcolor": "white",
            "gridwidth": 2,
            "linecolor": "white",
            "showbackground": true,
            "ticks": "",
            "zerolinecolor": "white"
           },
           "zaxis": {
            "backgroundcolor": "#E5ECF6",
            "gridcolor": "white",
            "gridwidth": 2,
            "linecolor": "white",
            "showbackground": true,
            "ticks": "",
            "zerolinecolor": "white"
           }
          },
          "shapedefaults": {
           "line": {
            "color": "#2a3f5f"
           }
          },
          "ternary": {
           "aaxis": {
            "gridcolor": "white",
            "linecolor": "white",
            "ticks": ""
           },
           "baxis": {
            "gridcolor": "white",
            "linecolor": "white",
            "ticks": ""
           },
           "bgcolor": "#E5ECF6",
           "caxis": {
            "gridcolor": "white",
            "linecolor": "white",
            "ticks": ""
           }
          },
          "title": {
           "x": 0.05
          },
          "xaxis": {
           "automargin": true,
           "gridcolor": "white",
           "linecolor": "white",
           "ticks": "",
           "title": {
            "standoff": 15
           },
           "zerolinecolor": "white",
           "zerolinewidth": 2
          },
          "yaxis": {
           "automargin": true,
           "gridcolor": "white",
           "linecolor": "white",
           "ticks": "",
           "title": {
            "standoff": 15
           },
           "zerolinecolor": "white",
           "zerolinewidth": 2
          }
         }
        },
        "title": {
         "text": "Aspects TrNa Points"
        },
        "xaxis": {
         "anchor": "y",
         "domain": [
          0,
          1
         ],
         "title": {
          "text": "Date"
         }
        },
        "yaxis": {
         "anchor": "x",
         "domain": [
          0,
          1
         ],
         "title": {
          "text": "Points"
         }
        }
       }
      }
     },
     "metadata": {},
     "output_type": "display_data"
    }
   ],
   "source": [
    "fig = px.bar(x_hi, x=\"Date\", y=\"Points\", text=\"Points\", title=\"Aspects TrNa Points\")\n",
    "fig.show()"
   ]
  },
  {
   "cell_type": "code",
   "execution_count": 28,
   "id": "38bbf270",
   "metadata": {},
   "outputs": [
    {
     "data": {
      "text/html": [
       "<style type=\"text/css\">\n",
       "#T_deca2_row0_col3 {\n",
       "  width: 10em;\n",
       "  height: 80%;\n",
       "  background: linear-gradient(90deg,Blue 100.0%, transparent 100.0%);\n",
       "}\n",
       "#T_deca2_row1_col3 {\n",
       "  width: 10em;\n",
       "  height: 80%;\n",
       "}\n",
       "</style>\n",
       "<table id=\"T_deca2_\">\n",
       "  <thead>\n",
       "    <tr>\n",
       "      <th class=\"blank level0\" >&nbsp;</th>\n",
       "      <th class=\"col_heading level0 col0\" >Date</th>\n",
       "      <th class=\"col_heading level0 col1\" >Type</th>\n",
       "      <th class=\"col_heading level0 col2\" >Planets</th>\n",
       "      <th class=\"col_heading level0 col3\" >Angle</th>\n",
       "    </tr>\n",
       "  </thead>\n",
       "  <tbody>\n",
       "    <tr>\n",
       "      <th id=\"T_deca2_level0_row0\" class=\"row_heading level0 row0\" >2358</th>\n",
       "      <td id=\"T_deca2_row0_col0\" class=\"data row0 col0\" >28/01/2023</td>\n",
       "      <td id=\"T_deca2_row0_col1\" class=\"data row0 col1\" >Geo</td>\n",
       "      <td id=\"T_deca2_row0_col2\" class=\"data row0 col2\" >Ven_Nep</td>\n",
       "      <td id=\"T_deca2_row0_col3\" class=\"data row0 col3\" >22.500000</td>\n",
       "    </tr>\n",
       "    <tr>\n",
       "      <th id=\"T_deca2_level0_row1\" class=\"row_heading level0 row1\" >2359</th>\n",
       "      <td id=\"T_deca2_row1_col0\" class=\"data row1 col0\" >28/01/2023</td>\n",
       "      <td id=\"T_deca2_row1_col1\" class=\"data row1 col1\" >Geo</td>\n",
       "      <td id=\"T_deca2_row1_col2\" class=\"data row1 col2\" >Mer_Plu</td>\n",
       "      <td id=\"T_deca2_row1_col3\" class=\"data row1 col3\" >15.000000</td>\n",
       "    </tr>\n",
       "  </tbody>\n",
       "</table>\n"
      ],
      "text/plain": [
       "<pandas.io.formats.style.Styler at 0x2117644be80>"
      ]
     },
     "execution_count": 28,
     "metadata": {},
     "output_type": "execute_result"
    }
   ],
   "source": [
    "# G_TrTr\n",
    "\n",
    "geo_ap = TrTr[TrTr[\"Type\"] == \"Geo\"]\n",
    "geo_TrTr = geo_ap[geo_ap.Date == today]\n",
    "\n",
    "dz_Gtr_Asp = geo_TrTr\n",
    "dz_Gtr_Asp.to_csv(os.path.join('C://Users//ASUS//Desktop//ASTROTOOL//streamlit//data','aspects_g_tr.csv'), index= False)\n",
    "\n",
    "geo_TrTr.style.bar(subset=[\"Angle\"],color='Blue')"
   ]
  },
  {
   "cell_type": "code",
   "execution_count": 29,
   "id": "8aa91a58",
   "metadata": {},
   "outputs": [
    {
     "data": {
      "text/html": [
       "<style type=\"text/css\">\n",
       "</style>\n",
       "<table id=\"T_4cac1_\">\n",
       "  <thead>\n",
       "    <tr>\n",
       "      <th class=\"blank level0\" >&nbsp;</th>\n",
       "      <th class=\"col_heading level0 col0\" >Date</th>\n",
       "      <th class=\"col_heading level0 col1\" >Type</th>\n",
       "      <th class=\"col_heading level0 col2\" >Planets</th>\n",
       "      <th class=\"col_heading level0 col3\" >Angle</th>\n",
       "    </tr>\n",
       "  </thead>\n",
       "  <tbody>\n",
       "  </tbody>\n",
       "</table>\n"
      ],
      "text/plain": [
       "<pandas.io.formats.style.Styler at 0x21176729cd0>"
      ]
     },
     "execution_count": 29,
     "metadata": {},
     "output_type": "execute_result"
    }
   ],
   "source": [
    "# G_TrNa\n",
    "\n",
    "geo_TrNa = TrNa[TrNa[\"Type\"] == \"Geo\"]\n",
    "geo_TrNa = geo_TrNa[geo_TrNa.Date == today]\n",
    "\n",
    "dz_Gna_Asp = geo_TrNa\n",
    "dz_Gna_Asp.to_csv(os.path.join('C://Users//ASUS//Desktop//ASTROTOOL//streamlit//data','aspects_g_na.csv'), index= False)\n",
    "\n",
    "geo_TrNa.style.background_gradient(cmap='Blues')"
   ]
  },
  {
   "cell_type": "code",
   "execution_count": 30,
   "id": "c1df6dd7",
   "metadata": {},
   "outputs": [],
   "source": [
    "# GEO ASPECTS TrTr\n",
    "\n",
    "#ga = geo_asp_good\n",
    "\n",
    "#col = []\n",
    "#cols = ha.columns[1:]\n",
    "#df = ga[cols]\n",
    "#Date = list[ga['Date']]\n",
    "\n",
    "#for columns in df.columns:\n",
    "\n",
    "    #globals()[\"lizte_%s\"%columns] = []\n",
    "\n",
    "    #for row, i in enumerate(df[columns]):\n",
    "        #if (i >= 0 and i <= 0.03) or (i >= 3.75 and i <= 3.755) or (i >= 7.5 and i <= 7.59) or (i >= 15 and i <= 15.15) or (i >= 22.5 and i <= 22.55) or (i >= 30 and i <= 30.15) or (i >= 36 and i <= 36.15) or (i >= 45 and i <= 45.15) or (i >= 60 and i <= 60.15) or (i >= 72 and i <= 72.15) or (i >= 90 and i <= 90.15) or (i >= 120 and i <= 120.15) or (i >= 135 and i <= 135.15) or (i >= 144 and i <= 144.15) or (i >= 150 and i <= 150.15) or (i >= 180 and i <= 180.15):\n",
    "        #    globals()[\"lizte_%s\"%columns].append(i)\n",
    "        #else:\n",
    "          #  globals()[\"lizte_%s\"%columns].append(\" \")\n",
    "\n",
    "#flu1 = geo_asp_good[['Date']].copy()\n",
    "#dict = {'Sun_Mer': lizte_Sun_Mer, 'Sun_Ven': lizte_Sun_Ven, 'Sun_Mar': lizte_Sun_Mar, 'Sun_Jup': lizte_Sun_Jup, 'Sun_Sat': lizte_Sun_Sat, 'Sun_Ura': lizte_Sun_Ura, 'Sun_Nep': lizte_Sun_Nep, 'Sun_Plu': lizte_Sun_Plu, 'Mer_Ven': lizte_Mer_Ven, 'Mer_Mar': lizte_Mer_Mar, 'Mer_Jup': lizte_Mer_Jup, 'Mer_Sat': lizte_Mer_Sat, 'Mer_Ura': lizte_Mer_Ura, 'Mer_Nep': lizte_Mer_Nep, 'Mer_Plu': lizte_Mer_Plu, 'Ven_Mar': lizte_Ven_Mar, 'Ven_Jup': lizte_Ven_Jup, 'Ven_Sat': lizte_Ven_Sat, 'Ven_Ura': lizte_Ven_Ura, 'Ven_Nep': lizte_Ven_Nep, 'Ven_Plu': lizte_Ven_Plu, 'Mar_Jup': lizte_Mar_Jup, 'Mar_Sat': lizte_Mar_Sat, 'Mar_Ura': lizte_Mar_Ura, 'Mar_Nep': lizte_Mar_Nep, 'Mar_Plu': lizte_Mar_Plu, 'Jup_Sat': lizte_Jup_Sat, 'Jup_Ura': lizte_Jup_Ura, 'Jup_Nep': lizte_Jup_Nep, 'Jup_Plu': lizte_Jup_Plu, 'Sat_Ura': lizte_Sat_Ura, 'Sat_Nep': lizte_Sat_Nep, 'Sat_Plu': lizte_Sat_Plu, 'Ura_Nep': lizte_Ura_Nep, 'Ura_Plu': lizte_Ura_Plu, 'Nep_Plu': lizte_Nep_Plu}\n",
    "#dfObj = pd.DataFrame(dict)\n",
    "#concat_asp_g = pd.concat([flu1, dfObj], axis=1)\n",
    "\n",
    "#geo_con = concat_asp_g[concat_asp_g.Date == today]\n",
    "#geo_con.round()"
   ]
  },
  {
   "cell_type": "markdown",
   "id": "24618374",
   "metadata": {},
   "source": [
    "### **III.2 Retro**"
   ]
  },
  {
   "cell_type": "markdown",
   "id": "de6afc04",
   "metadata": {},
   "source": [
    "*(0 = rien | 1 = RETRO | 2 = RETURN)*"
   ]
  },
  {
   "cell_type": "code",
   "execution_count": 31,
   "id": "d64fb1a9",
   "metadata": {},
   "outputs": [
    {
     "data": {
      "text/html": [
       "<style type=\"text/css\">\n",
       "</style>\n",
       "<table id=\"T_8fcc4_\">\n",
       "  <thead>\n",
       "    <tr>\n",
       "      <th class=\"blank level0\" >&nbsp;</th>\n",
       "      <th class=\"col_heading level0 col0\" >Date</th>\n",
       "      <th class=\"col_heading level0 col1\" >Mer</th>\n",
       "      <th class=\"col_heading level0 col2\" >Ven</th>\n",
       "      <th class=\"col_heading level0 col3\" >Mar</th>\n",
       "      <th class=\"col_heading level0 col4\" >Jup</th>\n",
       "      <th class=\"col_heading level0 col5\" >Sat</th>\n",
       "      <th class=\"col_heading level0 col6\" >Ura</th>\n",
       "      <th class=\"col_heading level0 col7\" >Nep</th>\n",
       "      <th class=\"col_heading level0 col8\" >Plu</th>\n",
       "    </tr>\n",
       "  </thead>\n",
       "  <tbody>\n",
       "  </tbody>\n",
       "</table>\n"
      ],
      "text/plain": [
       "<pandas.io.formats.style.Styler at 0x211765c3ee0>"
      ]
     },
     "execution_count": 31,
     "metadata": {},
     "output_type": "execute_result"
    }
   ],
   "source": [
    "# Remove the nan and fill the empty string\n",
    "retro = retro.copy()\n",
    "\n",
    "retro.fillna('')\n",
    "retro = retro.replace(np.nan,'',regex = True)\n",
    "\n",
    "dz_Retr = retro[retro.Date == today]\n",
    "dz_Retr.to_csv(os.path.join('C://Users//ASUS//Desktop//ASTROTOOL//streamlit//data','retro_asp.csv'), index= False)\n",
    "\n",
    "retro1 = retro[retro.Date == today]\n",
    "retro1.style.background_gradient(cmap='Blues')"
   ]
  },
  {
   "cell_type": "markdown",
   "id": "30b3cc72",
   "metadata": {},
   "source": [
    "### **III.3 Declinations**"
   ]
  },
  {
   "cell_type": "code",
   "execution_count": 32,
   "id": "fa54be62",
   "metadata": {},
   "outputs": [
    {
     "data": {
      "text/html": [
       "<style type=\"text/css\">\n",
       "#T_cab94_row0_col1 {\n",
       "  background-color: #f7fbff;\n",
       "  color: #000000;\n",
       "}\n",
       "</style>\n",
       "<table id=\"T_cab94_\">\n",
       "  <thead>\n",
       "    <tr>\n",
       "      <th class=\"blank level0\" >&nbsp;</th>\n",
       "      <th class=\"col_heading level0 col0\" >Date</th>\n",
       "      <th class=\"col_heading level0 col1\" >Dec/Lat</th>\n",
       "    </tr>\n",
       "  </thead>\n",
       "  <tbody>\n",
       "    <tr>\n",
       "      <th id=\"T_cab94_level0_row0\" class=\"row_heading level0 row0\" >0</th>\n",
       "      <td id=\"T_cab94_row0_col0\" class=\"data row0 col0\" >28/01/2023</td>\n",
       "      <td id=\"T_cab94_row0_col1\" class=\"data row0 col1\" >0.000000</td>\n",
       "    </tr>\n",
       "  </tbody>\n",
       "</table>\n"
      ],
      "text/plain": [
       "<pandas.io.formats.style.Styler at 0x21179305b50>"
      ]
     },
     "execution_count": 32,
     "metadata": {},
     "output_type": "execute_result"
    }
   ],
   "source": [
    "# dec_lat\n",
    "\n",
    "lat_moon_changes = lat_moon_changes.copy()\n",
    "\n",
    "dec_lat = pd.DataFrame({'Date': [today],\n",
    "\n",
    "                                       'Dec/Lat': lat_moon_changes['LatChanges'][lat_moon_changes.Date == today].values\n",
    "                                       + lat_moon_changes['MoonChanges'][lat_moon_changes.Date == today].values,\n",
    "\n",
    "                                       })\n",
    "\n",
    "dz_dec_lat = dec_lat[dec_lat.Date == today]\n",
    "dz_dec_lat.to_csv(os.path.join('C://Users//ASUS//Desktop//ASTROTOOL//streamlit//data','dec_lat.csv'), index= False)\n",
    "\n",
    "dec_lat.style.background_gradient(cmap='Blues')"
   ]
  },
  {
   "cell_type": "markdown",
   "id": "d91eebff",
   "metadata": {},
   "source": [
    "### **III.4 GEO TOOLS**"
   ]
  },
  {
   "cell_type": "code",
   "execution_count": 33,
   "id": "b098fce3",
   "metadata": {},
   "outputs": [
    {
     "data": {
      "text/html": [
       "<style type=\"text/css\">\n",
       "#T_c04b7_row0_col5 {\n",
       "  background-color: #f7fbff;\n",
       "  color: #000000;\n",
       "}\n",
       "</style>\n",
       "<table id=\"T_c04b7_\">\n",
       "  <thead>\n",
       "    <tr>\n",
       "      <th class=\"blank level0\" >&nbsp;</th>\n",
       "      <th class=\"col_heading level0 col0\" >Date</th>\n",
       "      <th class=\"col_heading level0 col1\" >New Moon</th>\n",
       "      <th class=\"col_heading level0 col2\" >Full Moon</th>\n",
       "      <th class=\"col_heading level0 col3\" >Node</th>\n",
       "      <th class=\"col_heading level0 col4\" >Same Dec</th>\n",
       "      <th class=\"col_heading level0 col5\" >Same Lat</th>\n",
       "      <th class=\"col_heading level0 col6\" >Lat Changes</th>\n",
       "      <th class=\"col_heading level0 col7\" >Moon Changes</th>\n",
       "    </tr>\n",
       "  </thead>\n",
       "  <tbody>\n",
       "    <tr>\n",
       "      <th id=\"T_c04b7_level0_row0\" class=\"row_heading level0 row0\" >0</th>\n",
       "      <td id=\"T_c04b7_row0_col0\" class=\"data row0 col0\" >28/01/2023</td>\n",
       "      <td id=\"T_c04b7_row0_col1\" class=\"data row0 col1\" ></td>\n",
       "      <td id=\"T_c04b7_row0_col2\" class=\"data row0 col2\" ></td>\n",
       "      <td id=\"T_c04b7_row0_col3\" class=\"data row0 col3\" ></td>\n",
       "      <td id=\"T_c04b7_row0_col4\" class=\"data row0 col4\" ></td>\n",
       "      <td id=\"T_c04b7_row0_col5\" class=\"data row0 col5\" >5</td>\n",
       "      <td id=\"T_c04b7_row0_col6\" class=\"data row0 col6\" ></td>\n",
       "      <td id=\"T_c04b7_row0_col7\" class=\"data row0 col7\" ></td>\n",
       "    </tr>\n",
       "  </tbody>\n",
       "</table>\n"
      ],
      "text/plain": [
       "<pandas.io.formats.style.Styler at 0x211793685e0>"
      ]
     },
     "execution_count": 33,
     "metadata": {},
     "output_type": "execute_result"
    }
   ],
   "source": [
    "# GEO TOOLS\n",
    "\n",
    "declinations = declinations.copy()\n",
    "latitudes = latitudes.copy()\n",
    "Moon = Moon.copy()\n",
    "planet_node = planet_node.copy()\n",
    "samedec_samelat = samedec_samelat.copy()\n",
    "\n",
    "tools_con = pd.concat([declinations, lat_moon_changes, latitudes, Moon, planet_node, samedec_samelat])\n",
    "\n",
    "tools = pd.DataFrame({'Date': [today],\n",
    "\n",
    "                                       'New Moon': Moon['NewMoon'][Moon.Date == today].values,\n",
    "\n",
    "                                       'Full Moon': Moon['FullMoon'][Moon.Date == today].values,\n",
    "\n",
    "                                       'Node': planet_node['Planet Node'][planet_node.Date == today].values,\n",
    "\n",
    "                                       'Same Dec': samedec_samelat['Same Dec'][samedec_samelat.Date == today].values,        \n",
    "\n",
    "                                       'Same Lat': samedec_samelat['Same Lat'][samedec_samelat.Date == today].values,\n",
    "\n",
    "                                       'Lat Changes': lat_moon_changes['LatChanges'][lat_moon_changes.Date == today].values,    \n",
    "\n",
    "                                       'Moon Changes': lat_moon_changes['MoonChanges'][lat_moon_changes.Date == today].values,\n",
    "\n",
    "                                       'Lat Changes': lat_moon_changes['LatChanges'][lat_moon_changes.Date == today].values,       \n",
    "                                                                                                             \n",
    "})\n",
    "\n",
    "tools.fillna('')\n",
    "tools = tools.replace(0, np.nan)\n",
    "tools = tools.replace(np.nan,'',regex = True)\n",
    "\n",
    "dz_tools = tools[tools.Date == today]\n",
    "dz_tools.to_csv(os.path.join('C://Users//ASUS//Desktop//ASTROTOOL//streamlit//data','tools.csv'), index= False)\n",
    "\n",
    "tools.style.background_gradient(cmap='Blues')"
   ]
  },
  {
   "cell_type": "markdown",
   "id": "d1b42da3",
   "metadata": {},
   "source": [
    "# **IV. SPIRAL TAB.py**"
   ]
  },
  {
   "cell_type": "markdown",
   "id": "fdceb87a",
   "metadata": {},
   "source": [
    "## 1. Code"
   ]
  },
  {
   "cell_type": "code",
   "execution_count": 34,
   "id": "1fdc2a7c",
   "metadata": {},
   "outputs": [
    {
     "data": {
      "text/html": [
       "<style type=\"text/css\">\n",
       "#T_94bed_row0_col1, #T_94bed_row2_col1, #T_94bed_row3_col1, #T_94bed_row4_col1, #T_94bed_row5_col1, #T_94bed_row6_col1, #T_94bed_row7_col1, #T_94bed_row8_col1, #T_94bed_row9_col1, #T_94bed_row10_col1, #T_94bed_row11_col1, #T_94bed_row12_col1, #T_94bed_row13_col1, #T_94bed_row14_col1 {\n",
       "  background-color: #f7fbff;\n",
       "  color: #000000;\n",
       "}\n",
       "#T_94bed_row1_col1 {\n",
       "  background-color: #08306b;\n",
       "  color: #f1f1f1;\n",
       "}\n",
       "</style>\n",
       "<table id=\"T_94bed_\">\n",
       "  <thead>\n",
       "    <tr>\n",
       "      <th class=\"blank level0\" >&nbsp;</th>\n",
       "      <th class=\"col_heading level0 col0\" >Date</th>\n",
       "      <th class=\"col_heading level0 col1\" >Hit</th>\n",
       "    </tr>\n",
       "  </thead>\n",
       "  <tbody>\n",
       "    <tr>\n",
       "      <th id=\"T_94bed_level0_row0\" class=\"row_heading level0 row0\" >233</th>\n",
       "      <td id=\"T_94bed_row0_col0\" class=\"data row0 col0\" >2023-02-07 00:00:00</td>\n",
       "      <td id=\"T_94bed_row0_col1\" class=\"data row0 col1\" >1</td>\n",
       "    </tr>\n",
       "    <tr>\n",
       "      <th id=\"T_94bed_level0_row1\" class=\"row_heading level0 row1\" >74</th>\n",
       "      <td id=\"T_94bed_row1_col0\" class=\"data row1 col0\" >2023-02-13 00:00:00</td>\n",
       "      <td id=\"T_94bed_row1_col1\" class=\"data row1 col1\" >2</td>\n",
       "    </tr>\n",
       "    <tr>\n",
       "      <th id=\"T_94bed_level0_row2\" class=\"row_heading level0 row2\" >558</th>\n",
       "      <td id=\"T_94bed_row2_col0\" class=\"data row2 col0\" >2023-03-03 00:00:00</td>\n",
       "      <td id=\"T_94bed_row2_col1\" class=\"data row2 col1\" >1</td>\n",
       "    </tr>\n",
       "    <tr>\n",
       "      <th id=\"T_94bed_level0_row3\" class=\"row_heading level0 row3\" >127</th>\n",
       "      <td id=\"T_94bed_row3_col0\" class=\"data row3 col0\" >2023-03-04 00:00:00</td>\n",
       "      <td id=\"T_94bed_row3_col1\" class=\"data row3 col1\" >1</td>\n",
       "    </tr>\n",
       "    <tr>\n",
       "      <th id=\"T_94bed_level0_row4\" class=\"row_heading level0 row4\" >441</th>\n",
       "      <td id=\"T_94bed_row4_col0\" class=\"data row4 col0\" >2023-03-11 00:00:00</td>\n",
       "      <td id=\"T_94bed_row4_col1\" class=\"data row4 col1\" >1</td>\n",
       "    </tr>\n",
       "    <tr>\n",
       "      <th id=\"T_94bed_level0_row5\" class=\"row_heading level0 row5\" >503</th>\n",
       "      <td id=\"T_94bed_row5_col0\" class=\"data row5 col0\" >2023-03-12 00:00:00</td>\n",
       "      <td id=\"T_94bed_row5_col1\" class=\"data row5 col1\" >1</td>\n",
       "    </tr>\n",
       "    <tr>\n",
       "      <th id=\"T_94bed_level0_row6\" class=\"row_heading level0 row6\" >418</th>\n",
       "      <td id=\"T_94bed_row6_col0\" class=\"data row6 col0\" >2023-03-20 00:00:00</td>\n",
       "      <td id=\"T_94bed_row6_col1\" class=\"data row6 col1\" >1</td>\n",
       "    </tr>\n",
       "    <tr>\n",
       "      <th id=\"T_94bed_level0_row7\" class=\"row_heading level0 row7\" >531</th>\n",
       "      <td id=\"T_94bed_row7_col0\" class=\"data row7 col0\" >2023-03-22 00:00:00</td>\n",
       "      <td id=\"T_94bed_row7_col1\" class=\"data row7 col1\" >1</td>\n",
       "    </tr>\n",
       "    <tr>\n",
       "      <th id=\"T_94bed_level0_row8\" class=\"row_heading level0 row8\" >327</th>\n",
       "      <td id=\"T_94bed_row8_col0\" class=\"data row8 col0\" >2023-03-23 00:00:00</td>\n",
       "      <td id=\"T_94bed_row8_col1\" class=\"data row8 col1\" >1</td>\n",
       "    </tr>\n",
       "    <tr>\n",
       "      <th id=\"T_94bed_level0_row9\" class=\"row_heading level0 row9\" >282</th>\n",
       "      <td id=\"T_94bed_row9_col0\" class=\"data row9 col0\" >2023-03-24 00:00:00</td>\n",
       "      <td id=\"T_94bed_row9_col1\" class=\"data row9 col1\" >1</td>\n",
       "    </tr>\n",
       "    <tr>\n",
       "      <th id=\"T_94bed_level0_row10\" class=\"row_heading level0 row10\" >478</th>\n",
       "      <td id=\"T_94bed_row10_col0\" class=\"data row10 col0\" >2023-03-30 00:00:00</td>\n",
       "      <td id=\"T_94bed_row10_col1\" class=\"data row10 col1\" >1</td>\n",
       "    </tr>\n",
       "    <tr>\n",
       "      <th id=\"T_94bed_level0_row11\" class=\"row_heading level0 row11\" >326</th>\n",
       "      <td id=\"T_94bed_row11_col0\" class=\"data row11 col0\" >2023-04-02 00:00:00</td>\n",
       "      <td id=\"T_94bed_row11_col1\" class=\"data row11 col1\" >1</td>\n",
       "    </tr>\n",
       "    <tr>\n",
       "      <th id=\"T_94bed_level0_row12\" class=\"row_heading level0 row12\" >419</th>\n",
       "      <td id=\"T_94bed_row12_col0\" class=\"data row12 col0\" >2023-04-05 00:00:00</td>\n",
       "      <td id=\"T_94bed_row12_col1\" class=\"data row12 col1\" >1</td>\n",
       "    </tr>\n",
       "    <tr>\n",
       "      <th id=\"T_94bed_level0_row13\" class=\"row_heading level0 row13\" >185</th>\n",
       "      <td id=\"T_94bed_row13_col0\" class=\"data row13 col0\" >2023-04-13 00:00:00</td>\n",
       "      <td id=\"T_94bed_row13_col1\" class=\"data row13 col1\" >1</td>\n",
       "    </tr>\n",
       "    <tr>\n",
       "      <th id=\"T_94bed_level0_row14\" class=\"row_heading level0 row14\" >128</th>\n",
       "      <td id=\"T_94bed_row14_col0\" class=\"data row14 col0\" >2023-04-17 00:00:00</td>\n",
       "      <td id=\"T_94bed_row14_col1\" class=\"data row14 col1\" >1</td>\n",
       "    </tr>\n",
       "  </tbody>\n",
       "</table>\n"
      ],
      "text/plain": [
       "<pandas.io.formats.style.Styler at 0x21179365520>"
      ]
     },
     "execution_count": 34,
     "metadata": {},
     "output_type": "execute_result"
    }
   ],
   "source": [
    "# Match every dates to cols\n",
    "from datetime import datetime\n",
    "from datetime import timedelta\n",
    "\n",
    "Spiral = Spiral.copy()\n",
    "\n",
    "for col in Spiral.columns[1:]:\n",
    "    Spiral[col] = ((pd.to_datetime(Spiral['Date']) + pd.to_timedelta(f'{col} days'))\n",
    "               .dt.strftime('%d/%m/%Y'))\n",
    "\n",
    "dx = Spiral[1:].unstack().value_counts(ascending=False)\n",
    "\n",
    "dx = pd.DataFrame(dx, columns=['Hit'])\n",
    "\n",
    "dx = dx.reset_index()\n",
    "dx = dx.rename_axis('E', axis=1)\n",
    "dx.columns = dx.columns.str.replace('index', 'Date')\n",
    "dx = dx.rename_axis(None, axis=1)\n",
    "\n",
    "dx['Date'] = pd.to_datetime(dx['Date'])  \n",
    "\n",
    "dayyy = datetime.strftime(datetime.now(), \"%Y/%m/%d\")\n",
    "t = pd.to_datetime(dayyy)\n",
    "t = pd.to_datetime(t)\n",
    "\n",
    "start_date = t  - timedelta(days = 2)\n",
    "end_date = t + timedelta(days = 90)\n",
    "\n",
    "mask = (dx['Date'] > start_date) & (dx['Date'] <= end_date)\n",
    "Spiral_hits = dx.loc[mask]\n",
    "Spiral_hits = Spiral_hits.sort_values(by=['Date'])\n",
    "\n",
    "Spiral_hits.head(15).style.background_gradient(cmap='Blues')"
   ]
  },
  {
   "cell_type": "code",
   "execution_count": 35,
   "id": "478f828c",
   "metadata": {},
   "outputs": [],
   "source": [
    "dz_Spi = Spiral_hits.head(30)\n",
    "dz_Spi.to_csv(os.path.join('C://Users//ASUS//Desktop//ASTROTOOL//streamlit//data','Spi.csv'), index= False)"
   ]
  },
  {
   "cell_type": "markdown",
   "id": "de6bfc06",
   "metadata": {},
   "source": [
    "## 2. Result"
   ]
  },
  {
   "cell_type": "code",
   "execution_count": 36,
   "id": "98ecf9c1",
   "metadata": {},
   "outputs": [
    {
     "data": {
      "application/vnd.plotly.v1+json": {
       "config": {
        "plotlyServerURL": "https://plot.ly"
       },
       "data": [
        {
         "alignmentgroup": "True",
         "hovertemplate": "Date=%{x}<br>Hit=%{y}<extra></extra>",
         "legendgroup": "",
         "marker": {
          "color": "#636efa",
          "pattern": {
           "shape": ""
          }
         },
         "name": "",
         "offsetgroup": "",
         "orientation": "v",
         "showlegend": false,
         "textposition": "auto",
         "type": "bar",
         "x": [
          "2023-02-07T00:00:00",
          "2023-02-13T00:00:00",
          "2023-03-03T00:00:00",
          "2023-03-04T00:00:00",
          "2023-03-11T00:00:00",
          "2023-03-12T00:00:00",
          "2023-03-20T00:00:00",
          "2023-03-22T00:00:00",
          "2023-03-23T00:00:00",
          "2023-03-24T00:00:00",
          "2023-03-30T00:00:00",
          "2023-04-02T00:00:00",
          "2023-04-05T00:00:00",
          "2023-04-13T00:00:00",
          "2023-04-17T00:00:00",
          "2023-04-20T00:00:00",
          "2023-04-24T00:00:00"
         ],
         "xaxis": "x",
         "y": [
          1,
          2,
          1,
          1,
          1,
          1,
          1,
          1,
          1,
          1,
          1,
          1,
          1,
          1,
          1,
          1,
          1
         ],
         "yaxis": "y"
        }
       ],
       "layout": {
        "barmode": "relative",
        "legend": {
         "tracegroupgap": 0
        },
        "margin": {
         "t": 60
        },
        "template": {
         "data": {
          "bar": [
           {
            "error_x": {
             "color": "#2a3f5f"
            },
            "error_y": {
             "color": "#2a3f5f"
            },
            "marker": {
             "line": {
              "color": "#E5ECF6",
              "width": 0.5
             },
             "pattern": {
              "fillmode": "overlay",
              "size": 10,
              "solidity": 0.2
             }
            },
            "type": "bar"
           }
          ],
          "barpolar": [
           {
            "marker": {
             "line": {
              "color": "#E5ECF6",
              "width": 0.5
             },
             "pattern": {
              "fillmode": "overlay",
              "size": 10,
              "solidity": 0.2
             }
            },
            "type": "barpolar"
           }
          ],
          "carpet": [
           {
            "aaxis": {
             "endlinecolor": "#2a3f5f",
             "gridcolor": "white",
             "linecolor": "white",
             "minorgridcolor": "white",
             "startlinecolor": "#2a3f5f"
            },
            "baxis": {
             "endlinecolor": "#2a3f5f",
             "gridcolor": "white",
             "linecolor": "white",
             "minorgridcolor": "white",
             "startlinecolor": "#2a3f5f"
            },
            "type": "carpet"
           }
          ],
          "choropleth": [
           {
            "colorbar": {
             "outlinewidth": 0,
             "ticks": ""
            },
            "type": "choropleth"
           }
          ],
          "contour": [
           {
            "colorbar": {
             "outlinewidth": 0,
             "ticks": ""
            },
            "colorscale": [
             [
              0,
              "#0d0887"
             ],
             [
              0.1111111111111111,
              "#46039f"
             ],
             [
              0.2222222222222222,
              "#7201a8"
             ],
             [
              0.3333333333333333,
              "#9c179e"
             ],
             [
              0.4444444444444444,
              "#bd3786"
             ],
             [
              0.5555555555555556,
              "#d8576b"
             ],
             [
              0.6666666666666666,
              "#ed7953"
             ],
             [
              0.7777777777777778,
              "#fb9f3a"
             ],
             [
              0.8888888888888888,
              "#fdca26"
             ],
             [
              1,
              "#f0f921"
             ]
            ],
            "type": "contour"
           }
          ],
          "contourcarpet": [
           {
            "colorbar": {
             "outlinewidth": 0,
             "ticks": ""
            },
            "type": "contourcarpet"
           }
          ],
          "heatmap": [
           {
            "colorbar": {
             "outlinewidth": 0,
             "ticks": ""
            },
            "colorscale": [
             [
              0,
              "#0d0887"
             ],
             [
              0.1111111111111111,
              "#46039f"
             ],
             [
              0.2222222222222222,
              "#7201a8"
             ],
             [
              0.3333333333333333,
              "#9c179e"
             ],
             [
              0.4444444444444444,
              "#bd3786"
             ],
             [
              0.5555555555555556,
              "#d8576b"
             ],
             [
              0.6666666666666666,
              "#ed7953"
             ],
             [
              0.7777777777777778,
              "#fb9f3a"
             ],
             [
              0.8888888888888888,
              "#fdca26"
             ],
             [
              1,
              "#f0f921"
             ]
            ],
            "type": "heatmap"
           }
          ],
          "heatmapgl": [
           {
            "colorbar": {
             "outlinewidth": 0,
             "ticks": ""
            },
            "colorscale": [
             [
              0,
              "#0d0887"
             ],
             [
              0.1111111111111111,
              "#46039f"
             ],
             [
              0.2222222222222222,
              "#7201a8"
             ],
             [
              0.3333333333333333,
              "#9c179e"
             ],
             [
              0.4444444444444444,
              "#bd3786"
             ],
             [
              0.5555555555555556,
              "#d8576b"
             ],
             [
              0.6666666666666666,
              "#ed7953"
             ],
             [
              0.7777777777777778,
              "#fb9f3a"
             ],
             [
              0.8888888888888888,
              "#fdca26"
             ],
             [
              1,
              "#f0f921"
             ]
            ],
            "type": "heatmapgl"
           }
          ],
          "histogram": [
           {
            "marker": {
             "pattern": {
              "fillmode": "overlay",
              "size": 10,
              "solidity": 0.2
             }
            },
            "type": "histogram"
           }
          ],
          "histogram2d": [
           {
            "colorbar": {
             "outlinewidth": 0,
             "ticks": ""
            },
            "colorscale": [
             [
              0,
              "#0d0887"
             ],
             [
              0.1111111111111111,
              "#46039f"
             ],
             [
              0.2222222222222222,
              "#7201a8"
             ],
             [
              0.3333333333333333,
              "#9c179e"
             ],
             [
              0.4444444444444444,
              "#bd3786"
             ],
             [
              0.5555555555555556,
              "#d8576b"
             ],
             [
              0.6666666666666666,
              "#ed7953"
             ],
             [
              0.7777777777777778,
              "#fb9f3a"
             ],
             [
              0.8888888888888888,
              "#fdca26"
             ],
             [
              1,
              "#f0f921"
             ]
            ],
            "type": "histogram2d"
           }
          ],
          "histogram2dcontour": [
           {
            "colorbar": {
             "outlinewidth": 0,
             "ticks": ""
            },
            "colorscale": [
             [
              0,
              "#0d0887"
             ],
             [
              0.1111111111111111,
              "#46039f"
             ],
             [
              0.2222222222222222,
              "#7201a8"
             ],
             [
              0.3333333333333333,
              "#9c179e"
             ],
             [
              0.4444444444444444,
              "#bd3786"
             ],
             [
              0.5555555555555556,
              "#d8576b"
             ],
             [
              0.6666666666666666,
              "#ed7953"
             ],
             [
              0.7777777777777778,
              "#fb9f3a"
             ],
             [
              0.8888888888888888,
              "#fdca26"
             ],
             [
              1,
              "#f0f921"
             ]
            ],
            "type": "histogram2dcontour"
           }
          ],
          "mesh3d": [
           {
            "colorbar": {
             "outlinewidth": 0,
             "ticks": ""
            },
            "type": "mesh3d"
           }
          ],
          "parcoords": [
           {
            "line": {
             "colorbar": {
              "outlinewidth": 0,
              "ticks": ""
             }
            },
            "type": "parcoords"
           }
          ],
          "pie": [
           {
            "automargin": true,
            "type": "pie"
           }
          ],
          "scatter": [
           {
            "marker": {
             "colorbar": {
              "outlinewidth": 0,
              "ticks": ""
             }
            },
            "type": "scatter"
           }
          ],
          "scatter3d": [
           {
            "line": {
             "colorbar": {
              "outlinewidth": 0,
              "ticks": ""
             }
            },
            "marker": {
             "colorbar": {
              "outlinewidth": 0,
              "ticks": ""
             }
            },
            "type": "scatter3d"
           }
          ],
          "scattercarpet": [
           {
            "marker": {
             "colorbar": {
              "outlinewidth": 0,
              "ticks": ""
             }
            },
            "type": "scattercarpet"
           }
          ],
          "scattergeo": [
           {
            "marker": {
             "colorbar": {
              "outlinewidth": 0,
              "ticks": ""
             }
            },
            "type": "scattergeo"
           }
          ],
          "scattergl": [
           {
            "marker": {
             "colorbar": {
              "outlinewidth": 0,
              "ticks": ""
             }
            },
            "type": "scattergl"
           }
          ],
          "scattermapbox": [
           {
            "marker": {
             "colorbar": {
              "outlinewidth": 0,
              "ticks": ""
             }
            },
            "type": "scattermapbox"
           }
          ],
          "scatterpolar": [
           {
            "marker": {
             "colorbar": {
              "outlinewidth": 0,
              "ticks": ""
             }
            },
            "type": "scatterpolar"
           }
          ],
          "scatterpolargl": [
           {
            "marker": {
             "colorbar": {
              "outlinewidth": 0,
              "ticks": ""
             }
            },
            "type": "scatterpolargl"
           }
          ],
          "scatterternary": [
           {
            "marker": {
             "colorbar": {
              "outlinewidth": 0,
              "ticks": ""
             }
            },
            "type": "scatterternary"
           }
          ],
          "surface": [
           {
            "colorbar": {
             "outlinewidth": 0,
             "ticks": ""
            },
            "colorscale": [
             [
              0,
              "#0d0887"
             ],
             [
              0.1111111111111111,
              "#46039f"
             ],
             [
              0.2222222222222222,
              "#7201a8"
             ],
             [
              0.3333333333333333,
              "#9c179e"
             ],
             [
              0.4444444444444444,
              "#bd3786"
             ],
             [
              0.5555555555555556,
              "#d8576b"
             ],
             [
              0.6666666666666666,
              "#ed7953"
             ],
             [
              0.7777777777777778,
              "#fb9f3a"
             ],
             [
              0.8888888888888888,
              "#fdca26"
             ],
             [
              1,
              "#f0f921"
             ]
            ],
            "type": "surface"
           }
          ],
          "table": [
           {
            "cells": {
             "fill": {
              "color": "#EBF0F8"
             },
             "line": {
              "color": "white"
             }
            },
            "header": {
             "fill": {
              "color": "#C8D4E3"
             },
             "line": {
              "color": "white"
             }
            },
            "type": "table"
           }
          ]
         },
         "layout": {
          "annotationdefaults": {
           "arrowcolor": "#2a3f5f",
           "arrowhead": 0,
           "arrowwidth": 1
          },
          "autotypenumbers": "strict",
          "coloraxis": {
           "colorbar": {
            "outlinewidth": 0,
            "ticks": ""
           }
          },
          "colorscale": {
           "diverging": [
            [
             0,
             "#8e0152"
            ],
            [
             0.1,
             "#c51b7d"
            ],
            [
             0.2,
             "#de77ae"
            ],
            [
             0.3,
             "#f1b6da"
            ],
            [
             0.4,
             "#fde0ef"
            ],
            [
             0.5,
             "#f7f7f7"
            ],
            [
             0.6,
             "#e6f5d0"
            ],
            [
             0.7,
             "#b8e186"
            ],
            [
             0.8,
             "#7fbc41"
            ],
            [
             0.9,
             "#4d9221"
            ],
            [
             1,
             "#276419"
            ]
           ],
           "sequential": [
            [
             0,
             "#0d0887"
            ],
            [
             0.1111111111111111,
             "#46039f"
            ],
            [
             0.2222222222222222,
             "#7201a8"
            ],
            [
             0.3333333333333333,
             "#9c179e"
            ],
            [
             0.4444444444444444,
             "#bd3786"
            ],
            [
             0.5555555555555556,
             "#d8576b"
            ],
            [
             0.6666666666666666,
             "#ed7953"
            ],
            [
             0.7777777777777778,
             "#fb9f3a"
            ],
            [
             0.8888888888888888,
             "#fdca26"
            ],
            [
             1,
             "#f0f921"
            ]
           ],
           "sequentialminus": [
            [
             0,
             "#0d0887"
            ],
            [
             0.1111111111111111,
             "#46039f"
            ],
            [
             0.2222222222222222,
             "#7201a8"
            ],
            [
             0.3333333333333333,
             "#9c179e"
            ],
            [
             0.4444444444444444,
             "#bd3786"
            ],
            [
             0.5555555555555556,
             "#d8576b"
            ],
            [
             0.6666666666666666,
             "#ed7953"
            ],
            [
             0.7777777777777778,
             "#fb9f3a"
            ],
            [
             0.8888888888888888,
             "#fdca26"
            ],
            [
             1,
             "#f0f921"
            ]
           ]
          },
          "colorway": [
           "#636efa",
           "#EF553B",
           "#00cc96",
           "#ab63fa",
           "#FFA15A",
           "#19d3f3",
           "#FF6692",
           "#B6E880",
           "#FF97FF",
           "#FECB52"
          ],
          "font": {
           "color": "#2a3f5f"
          },
          "geo": {
           "bgcolor": "white",
           "lakecolor": "white",
           "landcolor": "#E5ECF6",
           "showlakes": true,
           "showland": true,
           "subunitcolor": "white"
          },
          "hoverlabel": {
           "align": "left"
          },
          "hovermode": "closest",
          "mapbox": {
           "style": "light"
          },
          "paper_bgcolor": "white",
          "plot_bgcolor": "#E5ECF6",
          "polar": {
           "angularaxis": {
            "gridcolor": "white",
            "linecolor": "white",
            "ticks": ""
           },
           "bgcolor": "#E5ECF6",
           "radialaxis": {
            "gridcolor": "white",
            "linecolor": "white",
            "ticks": ""
           }
          },
          "scene": {
           "xaxis": {
            "backgroundcolor": "#E5ECF6",
            "gridcolor": "white",
            "gridwidth": 2,
            "linecolor": "white",
            "showbackground": true,
            "ticks": "",
            "zerolinecolor": "white"
           },
           "yaxis": {
            "backgroundcolor": "#E5ECF6",
            "gridcolor": "white",
            "gridwidth": 2,
            "linecolor": "white",
            "showbackground": true,
            "ticks": "",
            "zerolinecolor": "white"
           },
           "zaxis": {
            "backgroundcolor": "#E5ECF6",
            "gridcolor": "white",
            "gridwidth": 2,
            "linecolor": "white",
            "showbackground": true,
            "ticks": "",
            "zerolinecolor": "white"
           }
          },
          "shapedefaults": {
           "line": {
            "color": "#2a3f5f"
           }
          },
          "ternary": {
           "aaxis": {
            "gridcolor": "white",
            "linecolor": "white",
            "ticks": ""
           },
           "baxis": {
            "gridcolor": "white",
            "linecolor": "white",
            "ticks": ""
           },
           "bgcolor": "#E5ECF6",
           "caxis": {
            "gridcolor": "white",
            "linecolor": "white",
            "ticks": ""
           }
          },
          "title": {
           "x": 0.05
          },
          "xaxis": {
           "automargin": true,
           "gridcolor": "white",
           "linecolor": "white",
           "ticks": "",
           "title": {
            "standoff": 15
           },
           "zerolinecolor": "white",
           "zerolinewidth": 2
          },
          "yaxis": {
           "automargin": true,
           "gridcolor": "white",
           "linecolor": "white",
           "ticks": "",
           "title": {
            "standoff": 15
           },
           "zerolinecolor": "white",
           "zerolinewidth": 2
          }
         }
        },
        "xaxis": {
         "anchor": "y",
         "domain": [
          0,
          1
         ],
         "title": {
          "text": "Date"
         }
        },
        "yaxis": {
         "anchor": "x",
         "domain": [
          0,
          1
         ],
         "title": {
          "text": "Hit"
         }
        }
       }
      }
     },
     "metadata": {},
     "output_type": "display_data"
    }
   ],
   "source": [
    "fig = px.bar(Spiral_hits, x='Date', y='Hit')\n",
    "fig.show()"
   ]
  },
  {
   "cell_type": "markdown",
   "id": "bdaec21e",
   "metadata": {},
   "source": [
    "# **V. NatSq.py**"
   ]
  },
  {
   "cell_type": "markdown",
   "id": "464831e3",
   "metadata": {},
   "source": [
    "## 1. Code"
   ]
  },
  {
   "cell_type": "code",
   "execution_count": 37,
   "id": "65927ca3",
   "metadata": {},
   "outputs": [
    {
     "data": {
      "text/html": [
       "<style type=\"text/css\">\n",
       "#T_cc392_row0_col1 {\n",
       "  background-color: #e3eef9;\n",
       "  color: #000000;\n",
       "}\n",
       "#T_cc392_row1_col1 {\n",
       "  background-color: #f7fbff;\n",
       "  color: #000000;\n",
       "}\n",
       "#T_cc392_row2_col1, #T_cc392_row3_col1 {\n",
       "  background-color: #d0e1f2;\n",
       "  color: #000000;\n",
       "}\n",
       "#T_cc392_row4_col1, #T_cc392_row5_col1 {\n",
       "  background-color: #08306b;\n",
       "  color: #f1f1f1;\n",
       "}\n",
       "#T_cc392_row6_col1, #T_cc392_row9_col1 {\n",
       "  background-color: #2e7ebc;\n",
       "  color: #f1f1f1;\n",
       "}\n",
       "#T_cc392_row7_col1, #T_cc392_row8_col1 {\n",
       "  background-color: #94c4df;\n",
       "  color: #000000;\n",
       "}\n",
       "</style>\n",
       "<table id=\"T_cc392_\">\n",
       "  <thead>\n",
       "    <tr>\n",
       "      <th class=\"blank level0\" >&nbsp;</th>\n",
       "      <th class=\"col_heading level0 col0\" >Date</th>\n",
       "      <th class=\"col_heading level0 col1\" >Hit</th>\n",
       "    </tr>\n",
       "  </thead>\n",
       "  <tbody>\n",
       "    <tr>\n",
       "      <th id=\"T_cc392_level0_row0\" class=\"row_heading level0 row0\" >3016</th>\n",
       "      <td id=\"T_cc392_row0_col0\" class=\"data row0 col0\" >2023-01-27 00:00:00</td>\n",
       "      <td id=\"T_cc392_row0_col1\" class=\"data row0 col1\" >2</td>\n",
       "    </tr>\n",
       "    <tr>\n",
       "      <th id=\"T_cc392_level0_row1\" class=\"row_heading level0 row1\" >5942</th>\n",
       "      <td id=\"T_cc392_row1_col0\" class=\"data row1 col0\" >2023-01-28 00:00:00</td>\n",
       "      <td id=\"T_cc392_row1_col1\" class=\"data row1 col1\" >1</td>\n",
       "    </tr>\n",
       "    <tr>\n",
       "      <th id=\"T_cc392_level0_row2\" class=\"row_heading level0 row2\" >1979</th>\n",
       "      <td id=\"T_cc392_row2_col0\" class=\"data row2 col0\" >2023-01-29 00:00:00</td>\n",
       "      <td id=\"T_cc392_row2_col1\" class=\"data row2 col1\" >3</td>\n",
       "    </tr>\n",
       "    <tr>\n",
       "      <th id=\"T_cc392_level0_row3\" class=\"row_heading level0 row3\" >2637</th>\n",
       "      <td id=\"T_cc392_row3_col0\" class=\"data row3 col0\" >2023-01-30 00:00:00</td>\n",
       "      <td id=\"T_cc392_row3_col1\" class=\"data row3 col1\" >3</td>\n",
       "    </tr>\n",
       "    <tr>\n",
       "      <th id=\"T_cc392_level0_row4\" class=\"row_heading level0 row4\" >63</th>\n",
       "      <td id=\"T_cc392_row4_col0\" class=\"data row4 col0\" >2023-01-31 00:00:00</td>\n",
       "      <td id=\"T_cc392_row4_col1\" class=\"data row4 col1\" >11</td>\n",
       "    </tr>\n",
       "    <tr>\n",
       "      <th id=\"T_cc392_level0_row5\" class=\"row_heading level0 row5\" >77</th>\n",
       "      <td id=\"T_cc392_row5_col0\" class=\"data row5 col0\" >2023-02-01 00:00:00</td>\n",
       "      <td id=\"T_cc392_row5_col1\" class=\"data row5 col1\" >11</td>\n",
       "    </tr>\n",
       "    <tr>\n",
       "      <th id=\"T_cc392_level0_row6\" class=\"row_heading level0 row6\" >258</th>\n",
       "      <td id=\"T_cc392_row6_col0\" class=\"data row6 col0\" >2023-02-02 00:00:00</td>\n",
       "      <td id=\"T_cc392_row6_col1\" class=\"data row6 col1\" >8</td>\n",
       "    </tr>\n",
       "    <tr>\n",
       "      <th id=\"T_cc392_level0_row7\" class=\"row_heading level0 row7\" >877</th>\n",
       "      <td id=\"T_cc392_row7_col0\" class=\"data row7 col0\" >2023-02-03 00:00:00</td>\n",
       "      <td id=\"T_cc392_row7_col1\" class=\"data row7 col1\" >5</td>\n",
       "    </tr>\n",
       "    <tr>\n",
       "      <th id=\"T_cc392_level0_row8\" class=\"row_heading level0 row8\" >873</th>\n",
       "      <td id=\"T_cc392_row8_col0\" class=\"data row8 col0\" >2023-02-04 00:00:00</td>\n",
       "      <td id=\"T_cc392_row8_col1\" class=\"data row8 col1\" >5</td>\n",
       "    </tr>\n",
       "    <tr>\n",
       "      <th id=\"T_cc392_level0_row9\" class=\"row_heading level0 row9\" >289</th>\n",
       "      <td id=\"T_cc392_row9_col0\" class=\"data row9 col0\" >2023-02-05 00:00:00</td>\n",
       "      <td id=\"T_cc392_row9_col1\" class=\"data row9 col1\" >8</td>\n",
       "    </tr>\n",
       "  </tbody>\n",
       "</table>\n"
      ],
      "text/plain": [
       "<pandas.io.formats.style.Styler at 0x21176729f10>"
      ]
     },
     "execution_count": 37,
     "metadata": {},
     "output_type": "execute_result"
    }
   ],
   "source": [
    "NatSq = NatSq.copy()\n",
    "NatSq = NatSq.drop(['Type'], axis=1)\n",
    "\n",
    "# Match every dates to cols\n",
    "\n",
    "for col in NatSq.columns[1:]:\n",
    "    NatSq[col] = ((pd.to_datetime(NatSq['Date']) + pd.to_timedelta(f'{col} days'))\n",
    "               .dt.strftime('%d/%m/%Y'))\n",
    "\n",
    "dx = NatSq[1:].unstack().value_counts(ascending=False)\n",
    "\n",
    "dx = pd.DataFrame(dx, columns=['Hit'])\n",
    "\n",
    "dx = dx.reset_index()\n",
    "dx = dx.rename_axis('E', axis=1)\n",
    "dx.columns = dx.columns.str.replace('index', 'Date')\n",
    "dx = dx.rename_axis(None, axis=1)\n",
    "\n",
    "dx['Date'] = pd.to_datetime(dx['Date'])\n",
    "\n",
    "start_date = t  - timedelta(days = 2)\n",
    "end_date = t + timedelta(days = 90)\n",
    "\n",
    "mask = (dx['Date'] > start_date) & (dx['Date'] <= end_date)\n",
    "NatSq_hits = dx.loc[mask]\n",
    "NatSq_hits = NatSq_hits.sort_values(by=['Date'])\n",
    "\n",
    "NatSq_hits.head(10).style.background_gradient(cmap='Blues')"
   ]
  },
  {
   "cell_type": "code",
   "execution_count": 38,
   "id": "fa2fddba",
   "metadata": {},
   "outputs": [],
   "source": [
    "dz_Nat = NatSq_hits.head(30)\n",
    "dz_Nat.to_csv(os.path.join('C://Users//ASUS//Desktop//ASTROTOOL//streamlit//data','NatSq.csv'), index= False)"
   ]
  },
  {
   "cell_type": "markdown",
   "id": "b061f5a7",
   "metadata": {},
   "source": [
    "## 2. Result"
   ]
  },
  {
   "cell_type": "code",
   "execution_count": 39,
   "id": "1cd1b866",
   "metadata": {},
   "outputs": [
    {
     "data": {
      "application/vnd.plotly.v1+json": {
       "config": {
        "plotlyServerURL": "https://plot.ly"
       },
       "data": [
        {
         "alignmentgroup": "True",
         "hovertemplate": "Date=%{x}<br>Hit=%{y}<extra></extra>",
         "legendgroup": "",
         "marker": {
          "color": "#636efa",
          "pattern": {
           "shape": ""
          }
         },
         "name": "",
         "offsetgroup": "",
         "orientation": "v",
         "showlegend": false,
         "textposition": "auto",
         "type": "bar",
         "x": [
          "2023-01-27T00:00:00",
          "2023-01-28T00:00:00",
          "2023-01-29T00:00:00",
          "2023-01-30T00:00:00",
          "2023-01-31T00:00:00",
          "2023-02-01T00:00:00",
          "2023-02-02T00:00:00",
          "2023-02-03T00:00:00",
          "2023-02-04T00:00:00",
          "2023-02-05T00:00:00",
          "2023-02-06T00:00:00",
          "2023-02-07T00:00:00",
          "2023-02-08T00:00:00",
          "2023-02-09T00:00:00",
          "2023-02-10T00:00:00",
          "2023-02-11T00:00:00",
          "2023-02-12T00:00:00",
          "2023-02-13T00:00:00",
          "2023-02-14T00:00:00",
          "2023-02-15T00:00:00",
          "2023-02-16T00:00:00",
          "2023-02-17T00:00:00",
          "2023-02-18T00:00:00",
          "2023-02-19T00:00:00",
          "2023-02-20T00:00:00",
          "2023-02-21T00:00:00",
          "2023-02-22T00:00:00",
          "2023-02-23T00:00:00",
          "2023-02-24T00:00:00",
          "2023-02-25T00:00:00",
          "2023-02-26T00:00:00",
          "2023-02-27T00:00:00",
          "2023-02-28T00:00:00",
          "2023-03-01T00:00:00",
          "2023-03-02T00:00:00",
          "2023-03-03T00:00:00",
          "2023-03-04T00:00:00",
          "2023-03-05T00:00:00",
          "2023-03-06T00:00:00",
          "2023-03-07T00:00:00",
          "2023-03-08T00:00:00",
          "2023-03-09T00:00:00",
          "2023-03-10T00:00:00",
          "2023-03-11T00:00:00",
          "2023-03-12T00:00:00",
          "2023-03-13T00:00:00",
          "2023-03-14T00:00:00",
          "2023-03-15T00:00:00",
          "2023-03-16T00:00:00",
          "2023-03-17T00:00:00",
          "2023-03-18T00:00:00",
          "2023-03-19T00:00:00",
          "2023-03-20T00:00:00",
          "2023-03-21T00:00:00",
          "2023-03-22T00:00:00",
          "2023-03-23T00:00:00",
          "2023-03-24T00:00:00",
          "2023-03-25T00:00:00",
          "2023-03-26T00:00:00",
          "2023-03-27T00:00:00",
          "2023-03-28T00:00:00",
          "2023-03-29T00:00:00",
          "2023-03-30T00:00:00",
          "2023-03-31T00:00:00",
          "2023-04-01T00:00:00",
          "2023-04-02T00:00:00",
          "2023-04-03T00:00:00",
          "2023-04-04T00:00:00",
          "2023-04-05T00:00:00",
          "2023-04-06T00:00:00",
          "2023-04-07T00:00:00",
          "2023-04-08T00:00:00",
          "2023-04-09T00:00:00",
          "2023-04-10T00:00:00",
          "2023-04-11T00:00:00",
          "2023-04-12T00:00:00",
          "2023-04-13T00:00:00",
          "2023-04-14T00:00:00",
          "2023-04-15T00:00:00",
          "2023-04-16T00:00:00",
          "2023-04-17T00:00:00",
          "2023-04-18T00:00:00",
          "2023-04-19T00:00:00",
          "2023-04-20T00:00:00",
          "2023-04-21T00:00:00",
          "2023-04-22T00:00:00",
          "2023-04-23T00:00:00",
          "2023-04-24T00:00:00",
          "2023-04-25T00:00:00",
          "2023-04-26T00:00:00",
          "2023-04-27T00:00:00",
          "2023-04-28T00:00:00"
         ],
         "xaxis": "x",
         "y": [
          2,
          1,
          3,
          3,
          11,
          11,
          8,
          5,
          5,
          8,
          4,
          6,
          1,
          3,
          1,
          2,
          2,
          4,
          5,
          1,
          3,
          1,
          3,
          3,
          4,
          2,
          1,
          2,
          5,
          3,
          3,
          3,
          10,
          6,
          6,
          9,
          8,
          9,
          2,
          4,
          3,
          4,
          10,
          5,
          4,
          4,
          2,
          2,
          2,
          3,
          7,
          4,
          3,
          1,
          2,
          2,
          6,
          4,
          4,
          4,
          1,
          4,
          5,
          5,
          6,
          4,
          8,
          5,
          5,
          3,
          6,
          4,
          2,
          4,
          2,
          1,
          6,
          1,
          1,
          2,
          2,
          5,
          2,
          2,
          1,
          6,
          2,
          5,
          6,
          4,
          9,
          5
         ],
         "yaxis": "y"
        }
       ],
       "layout": {
        "barmode": "relative",
        "legend": {
         "tracegroupgap": 0
        },
        "margin": {
         "t": 60
        },
        "template": {
         "data": {
          "bar": [
           {
            "error_x": {
             "color": "#2a3f5f"
            },
            "error_y": {
             "color": "#2a3f5f"
            },
            "marker": {
             "line": {
              "color": "#E5ECF6",
              "width": 0.5
             },
             "pattern": {
              "fillmode": "overlay",
              "size": 10,
              "solidity": 0.2
             }
            },
            "type": "bar"
           }
          ],
          "barpolar": [
           {
            "marker": {
             "line": {
              "color": "#E5ECF6",
              "width": 0.5
             },
             "pattern": {
              "fillmode": "overlay",
              "size": 10,
              "solidity": 0.2
             }
            },
            "type": "barpolar"
           }
          ],
          "carpet": [
           {
            "aaxis": {
             "endlinecolor": "#2a3f5f",
             "gridcolor": "white",
             "linecolor": "white",
             "minorgridcolor": "white",
             "startlinecolor": "#2a3f5f"
            },
            "baxis": {
             "endlinecolor": "#2a3f5f",
             "gridcolor": "white",
             "linecolor": "white",
             "minorgridcolor": "white",
             "startlinecolor": "#2a3f5f"
            },
            "type": "carpet"
           }
          ],
          "choropleth": [
           {
            "colorbar": {
             "outlinewidth": 0,
             "ticks": ""
            },
            "type": "choropleth"
           }
          ],
          "contour": [
           {
            "colorbar": {
             "outlinewidth": 0,
             "ticks": ""
            },
            "colorscale": [
             [
              0,
              "#0d0887"
             ],
             [
              0.1111111111111111,
              "#46039f"
             ],
             [
              0.2222222222222222,
              "#7201a8"
             ],
             [
              0.3333333333333333,
              "#9c179e"
             ],
             [
              0.4444444444444444,
              "#bd3786"
             ],
             [
              0.5555555555555556,
              "#d8576b"
             ],
             [
              0.6666666666666666,
              "#ed7953"
             ],
             [
              0.7777777777777778,
              "#fb9f3a"
             ],
             [
              0.8888888888888888,
              "#fdca26"
             ],
             [
              1,
              "#f0f921"
             ]
            ],
            "type": "contour"
           }
          ],
          "contourcarpet": [
           {
            "colorbar": {
             "outlinewidth": 0,
             "ticks": ""
            },
            "type": "contourcarpet"
           }
          ],
          "heatmap": [
           {
            "colorbar": {
             "outlinewidth": 0,
             "ticks": ""
            },
            "colorscale": [
             [
              0,
              "#0d0887"
             ],
             [
              0.1111111111111111,
              "#46039f"
             ],
             [
              0.2222222222222222,
              "#7201a8"
             ],
             [
              0.3333333333333333,
              "#9c179e"
             ],
             [
              0.4444444444444444,
              "#bd3786"
             ],
             [
              0.5555555555555556,
              "#d8576b"
             ],
             [
              0.6666666666666666,
              "#ed7953"
             ],
             [
              0.7777777777777778,
              "#fb9f3a"
             ],
             [
              0.8888888888888888,
              "#fdca26"
             ],
             [
              1,
              "#f0f921"
             ]
            ],
            "type": "heatmap"
           }
          ],
          "heatmapgl": [
           {
            "colorbar": {
             "outlinewidth": 0,
             "ticks": ""
            },
            "colorscale": [
             [
              0,
              "#0d0887"
             ],
             [
              0.1111111111111111,
              "#46039f"
             ],
             [
              0.2222222222222222,
              "#7201a8"
             ],
             [
              0.3333333333333333,
              "#9c179e"
             ],
             [
              0.4444444444444444,
              "#bd3786"
             ],
             [
              0.5555555555555556,
              "#d8576b"
             ],
             [
              0.6666666666666666,
              "#ed7953"
             ],
             [
              0.7777777777777778,
              "#fb9f3a"
             ],
             [
              0.8888888888888888,
              "#fdca26"
             ],
             [
              1,
              "#f0f921"
             ]
            ],
            "type": "heatmapgl"
           }
          ],
          "histogram": [
           {
            "marker": {
             "pattern": {
              "fillmode": "overlay",
              "size": 10,
              "solidity": 0.2
             }
            },
            "type": "histogram"
           }
          ],
          "histogram2d": [
           {
            "colorbar": {
             "outlinewidth": 0,
             "ticks": ""
            },
            "colorscale": [
             [
              0,
              "#0d0887"
             ],
             [
              0.1111111111111111,
              "#46039f"
             ],
             [
              0.2222222222222222,
              "#7201a8"
             ],
             [
              0.3333333333333333,
              "#9c179e"
             ],
             [
              0.4444444444444444,
              "#bd3786"
             ],
             [
              0.5555555555555556,
              "#d8576b"
             ],
             [
              0.6666666666666666,
              "#ed7953"
             ],
             [
              0.7777777777777778,
              "#fb9f3a"
             ],
             [
              0.8888888888888888,
              "#fdca26"
             ],
             [
              1,
              "#f0f921"
             ]
            ],
            "type": "histogram2d"
           }
          ],
          "histogram2dcontour": [
           {
            "colorbar": {
             "outlinewidth": 0,
             "ticks": ""
            },
            "colorscale": [
             [
              0,
              "#0d0887"
             ],
             [
              0.1111111111111111,
              "#46039f"
             ],
             [
              0.2222222222222222,
              "#7201a8"
             ],
             [
              0.3333333333333333,
              "#9c179e"
             ],
             [
              0.4444444444444444,
              "#bd3786"
             ],
             [
              0.5555555555555556,
              "#d8576b"
             ],
             [
              0.6666666666666666,
              "#ed7953"
             ],
             [
              0.7777777777777778,
              "#fb9f3a"
             ],
             [
              0.8888888888888888,
              "#fdca26"
             ],
             [
              1,
              "#f0f921"
             ]
            ],
            "type": "histogram2dcontour"
           }
          ],
          "mesh3d": [
           {
            "colorbar": {
             "outlinewidth": 0,
             "ticks": ""
            },
            "type": "mesh3d"
           }
          ],
          "parcoords": [
           {
            "line": {
             "colorbar": {
              "outlinewidth": 0,
              "ticks": ""
             }
            },
            "type": "parcoords"
           }
          ],
          "pie": [
           {
            "automargin": true,
            "type": "pie"
           }
          ],
          "scatter": [
           {
            "marker": {
             "colorbar": {
              "outlinewidth": 0,
              "ticks": ""
             }
            },
            "type": "scatter"
           }
          ],
          "scatter3d": [
           {
            "line": {
             "colorbar": {
              "outlinewidth": 0,
              "ticks": ""
             }
            },
            "marker": {
             "colorbar": {
              "outlinewidth": 0,
              "ticks": ""
             }
            },
            "type": "scatter3d"
           }
          ],
          "scattercarpet": [
           {
            "marker": {
             "colorbar": {
              "outlinewidth": 0,
              "ticks": ""
             }
            },
            "type": "scattercarpet"
           }
          ],
          "scattergeo": [
           {
            "marker": {
             "colorbar": {
              "outlinewidth": 0,
              "ticks": ""
             }
            },
            "type": "scattergeo"
           }
          ],
          "scattergl": [
           {
            "marker": {
             "colorbar": {
              "outlinewidth": 0,
              "ticks": ""
             }
            },
            "type": "scattergl"
           }
          ],
          "scattermapbox": [
           {
            "marker": {
             "colorbar": {
              "outlinewidth": 0,
              "ticks": ""
             }
            },
            "type": "scattermapbox"
           }
          ],
          "scatterpolar": [
           {
            "marker": {
             "colorbar": {
              "outlinewidth": 0,
              "ticks": ""
             }
            },
            "type": "scatterpolar"
           }
          ],
          "scatterpolargl": [
           {
            "marker": {
             "colorbar": {
              "outlinewidth": 0,
              "ticks": ""
             }
            },
            "type": "scatterpolargl"
           }
          ],
          "scatterternary": [
           {
            "marker": {
             "colorbar": {
              "outlinewidth": 0,
              "ticks": ""
             }
            },
            "type": "scatterternary"
           }
          ],
          "surface": [
           {
            "colorbar": {
             "outlinewidth": 0,
             "ticks": ""
            },
            "colorscale": [
             [
              0,
              "#0d0887"
             ],
             [
              0.1111111111111111,
              "#46039f"
             ],
             [
              0.2222222222222222,
              "#7201a8"
             ],
             [
              0.3333333333333333,
              "#9c179e"
             ],
             [
              0.4444444444444444,
              "#bd3786"
             ],
             [
              0.5555555555555556,
              "#d8576b"
             ],
             [
              0.6666666666666666,
              "#ed7953"
             ],
             [
              0.7777777777777778,
              "#fb9f3a"
             ],
             [
              0.8888888888888888,
              "#fdca26"
             ],
             [
              1,
              "#f0f921"
             ]
            ],
            "type": "surface"
           }
          ],
          "table": [
           {
            "cells": {
             "fill": {
              "color": "#EBF0F8"
             },
             "line": {
              "color": "white"
             }
            },
            "header": {
             "fill": {
              "color": "#C8D4E3"
             },
             "line": {
              "color": "white"
             }
            },
            "type": "table"
           }
          ]
         },
         "layout": {
          "annotationdefaults": {
           "arrowcolor": "#2a3f5f",
           "arrowhead": 0,
           "arrowwidth": 1
          },
          "autotypenumbers": "strict",
          "coloraxis": {
           "colorbar": {
            "outlinewidth": 0,
            "ticks": ""
           }
          },
          "colorscale": {
           "diverging": [
            [
             0,
             "#8e0152"
            ],
            [
             0.1,
             "#c51b7d"
            ],
            [
             0.2,
             "#de77ae"
            ],
            [
             0.3,
             "#f1b6da"
            ],
            [
             0.4,
             "#fde0ef"
            ],
            [
             0.5,
             "#f7f7f7"
            ],
            [
             0.6,
             "#e6f5d0"
            ],
            [
             0.7,
             "#b8e186"
            ],
            [
             0.8,
             "#7fbc41"
            ],
            [
             0.9,
             "#4d9221"
            ],
            [
             1,
             "#276419"
            ]
           ],
           "sequential": [
            [
             0,
             "#0d0887"
            ],
            [
             0.1111111111111111,
             "#46039f"
            ],
            [
             0.2222222222222222,
             "#7201a8"
            ],
            [
             0.3333333333333333,
             "#9c179e"
            ],
            [
             0.4444444444444444,
             "#bd3786"
            ],
            [
             0.5555555555555556,
             "#d8576b"
            ],
            [
             0.6666666666666666,
             "#ed7953"
            ],
            [
             0.7777777777777778,
             "#fb9f3a"
            ],
            [
             0.8888888888888888,
             "#fdca26"
            ],
            [
             1,
             "#f0f921"
            ]
           ],
           "sequentialminus": [
            [
             0,
             "#0d0887"
            ],
            [
             0.1111111111111111,
             "#46039f"
            ],
            [
             0.2222222222222222,
             "#7201a8"
            ],
            [
             0.3333333333333333,
             "#9c179e"
            ],
            [
             0.4444444444444444,
             "#bd3786"
            ],
            [
             0.5555555555555556,
             "#d8576b"
            ],
            [
             0.6666666666666666,
             "#ed7953"
            ],
            [
             0.7777777777777778,
             "#fb9f3a"
            ],
            [
             0.8888888888888888,
             "#fdca26"
            ],
            [
             1,
             "#f0f921"
            ]
           ]
          },
          "colorway": [
           "#636efa",
           "#EF553B",
           "#00cc96",
           "#ab63fa",
           "#FFA15A",
           "#19d3f3",
           "#FF6692",
           "#B6E880",
           "#FF97FF",
           "#FECB52"
          ],
          "font": {
           "color": "#2a3f5f"
          },
          "geo": {
           "bgcolor": "white",
           "lakecolor": "white",
           "landcolor": "#E5ECF6",
           "showlakes": true,
           "showland": true,
           "subunitcolor": "white"
          },
          "hoverlabel": {
           "align": "left"
          },
          "hovermode": "closest",
          "mapbox": {
           "style": "light"
          },
          "paper_bgcolor": "white",
          "plot_bgcolor": "#E5ECF6",
          "polar": {
           "angularaxis": {
            "gridcolor": "white",
            "linecolor": "white",
            "ticks": ""
           },
           "bgcolor": "#E5ECF6",
           "radialaxis": {
            "gridcolor": "white",
            "linecolor": "white",
            "ticks": ""
           }
          },
          "scene": {
           "xaxis": {
            "backgroundcolor": "#E5ECF6",
            "gridcolor": "white",
            "gridwidth": 2,
            "linecolor": "white",
            "showbackground": true,
            "ticks": "",
            "zerolinecolor": "white"
           },
           "yaxis": {
            "backgroundcolor": "#E5ECF6",
            "gridcolor": "white",
            "gridwidth": 2,
            "linecolor": "white",
            "showbackground": true,
            "ticks": "",
            "zerolinecolor": "white"
           },
           "zaxis": {
            "backgroundcolor": "#E5ECF6",
            "gridcolor": "white",
            "gridwidth": 2,
            "linecolor": "white",
            "showbackground": true,
            "ticks": "",
            "zerolinecolor": "white"
           }
          },
          "shapedefaults": {
           "line": {
            "color": "#2a3f5f"
           }
          },
          "ternary": {
           "aaxis": {
            "gridcolor": "white",
            "linecolor": "white",
            "ticks": ""
           },
           "baxis": {
            "gridcolor": "white",
            "linecolor": "white",
            "ticks": ""
           },
           "bgcolor": "#E5ECF6",
           "caxis": {
            "gridcolor": "white",
            "linecolor": "white",
            "ticks": ""
           }
          },
          "title": {
           "x": 0.05
          },
          "xaxis": {
           "automargin": true,
           "gridcolor": "white",
           "linecolor": "white",
           "ticks": "",
           "title": {
            "standoff": 15
           },
           "zerolinecolor": "white",
           "zerolinewidth": 2
          },
          "yaxis": {
           "automargin": true,
           "gridcolor": "white",
           "linecolor": "white",
           "ticks": "",
           "title": {
            "standoff": 15
           },
           "zerolinecolor": "white",
           "zerolinewidth": 2
          }
         }
        },
        "xaxis": {
         "anchor": "y",
         "domain": [
          0,
          1
         ],
         "title": {
          "text": "Date"
         }
        },
        "yaxis": {
         "anchor": "x",
         "domain": [
          0,
          1
         ],
         "title": {
          "text": "Hit"
         }
        }
       }
      }
     },
     "metadata": {},
     "output_type": "display_data"
    }
   ],
   "source": [
    "fig = px.bar(NatSq_hits, x='Date', y='Hit')\n",
    "fig.show()"
   ]
  },
  {
   "cell_type": "markdown",
   "id": "9fd052c5",
   "metadata": {},
   "source": [
    "# **VI. addPrice.py**"
   ]
  },
  {
   "cell_type": "markdown",
   "id": "46b8421e",
   "metadata": {},
   "source": [
    "## 1. Code"
   ]
  },
  {
   "cell_type": "code",
   "execution_count": 40,
   "id": "19ba2933",
   "metadata": {},
   "outputs": [],
   "source": [
    "kek_p = helio.copy()"
   ]
  },
  {
   "cell_type": "code",
   "execution_count": 41,
   "id": "610378a8",
   "metadata": {},
   "outputs": [
    {
     "data": {
      "text/html": [
       "<div>\n",
       "<style scoped>\n",
       "    .dataframe tbody tr th:only-of-type {\n",
       "        vertical-align: middle;\n",
       "    }\n",
       "\n",
       "    .dataframe tbody tr th {\n",
       "        vertical-align: top;\n",
       "    }\n",
       "\n",
       "    .dataframe thead th {\n",
       "        text-align: right;\n",
       "    }\n",
       "</style>\n",
       "<table border=\"1\" class=\"dataframe\">\n",
       "  <thead>\n",
       "    <tr style=\"text-align: right;\">\n",
       "      <th></th>\n",
       "      <th>Date</th>\n",
       "      <th>Earth</th>\n",
       "      <th>Mer</th>\n",
       "      <th>Ven</th>\n",
       "      <th>Mar</th>\n",
       "      <th>Jup</th>\n",
       "      <th>Sat</th>\n",
       "      <th>Ura</th>\n",
       "      <th>Nep</th>\n",
       "      <th>Plu</th>\n",
       "    </tr>\n",
       "  </thead>\n",
       "  <tbody>\n",
       "    <tr>\n",
       "      <th>26325</th>\n",
       "      <td>31/10/2008</td>\n",
       "      <td>38</td>\n",
       "      <td>155</td>\n",
       "      <td>310</td>\n",
       "      <td>235</td>\n",
       "      <td>297</td>\n",
       "      <td>163</td>\n",
       "      <td>351</td>\n",
       "      <td>323</td>\n",
       "      <td>270</td>\n",
       "    </tr>\n",
       "  </tbody>\n",
       "</table>\n",
       "</div>"
      ],
      "text/plain": [
       "             Date  Earth  Mer  Ven  Mar  Jup  Sat  Ura  Nep  Plu\n",
       "26325  31/10/2008     38  155  310  235  297  163  351  323  270"
      ]
     },
     "execution_count": 41,
     "metadata": {},
     "output_type": "execute_result"
    }
   ],
   "source": [
    "hexxx = helio[helio.Date == \"31/10/2008\"]\n",
    "hexxx"
   ]
  },
  {
   "cell_type": "code",
   "execution_count": 42,
   "id": "0bda0cee",
   "metadata": {},
   "outputs": [
    {
     "data": {
      "text/html": [
       "<div>\n",
       "<style scoped>\n",
       "    .dataframe tbody tr th:only-of-type {\n",
       "        vertical-align: middle;\n",
       "    }\n",
       "\n",
       "    .dataframe tbody tr th {\n",
       "        vertical-align: top;\n",
       "    }\n",
       "\n",
       "    .dataframe thead th {\n",
       "        text-align: right;\n",
       "    }\n",
       "</style>\n",
       "<table border=\"1\" class=\"dataframe\">\n",
       "  <thead>\n",
       "    <tr style=\"text-align: right;\">\n",
       "      <th></th>\n",
       "      <th>Date</th>\n",
       "      <th>Price</th>\n",
       "      <th>Earth</th>\n",
       "      <th>Mer</th>\n",
       "      <th>Ven</th>\n",
       "      <th>Mar</th>\n",
       "      <th>Jup</th>\n",
       "      <th>Sat</th>\n",
       "      <th>Ura</th>\n",
       "      <th>Nep</th>\n",
       "      <th>Plu</th>\n",
       "    </tr>\n",
       "  </thead>\n",
       "  <tbody>\n",
       "    <tr>\n",
       "      <th>0</th>\n",
       "      <td>31/10/2008</td>\n",
       "      <td>0</td>\n",
       "      <td>NaN</td>\n",
       "      <td>NaN</td>\n",
       "      <td>NaN</td>\n",
       "      <td>NaN</td>\n",
       "      <td>NaN</td>\n",
       "      <td>NaN</td>\n",
       "      <td>NaN</td>\n",
       "      <td>NaN</td>\n",
       "      <td>NaN</td>\n",
       "    </tr>\n",
       "    <tr>\n",
       "      <th>1</th>\n",
       "      <td>03/01/2009</td>\n",
       "      <td>0</td>\n",
       "      <td>NaN</td>\n",
       "      <td>NaN</td>\n",
       "      <td>NaN</td>\n",
       "      <td>NaN</td>\n",
       "      <td>NaN</td>\n",
       "      <td>NaN</td>\n",
       "      <td>NaN</td>\n",
       "      <td>NaN</td>\n",
       "      <td>NaN</td>\n",
       "    </tr>\n",
       "    <tr>\n",
       "      <th>2</th>\n",
       "      <td>10/04/2013</td>\n",
       "      <td>290</td>\n",
       "      <td>NaN</td>\n",
       "      <td>NaN</td>\n",
       "      <td>NaN</td>\n",
       "      <td>NaN</td>\n",
       "      <td>NaN</td>\n",
       "      <td>NaN</td>\n",
       "      <td>NaN</td>\n",
       "      <td>NaN</td>\n",
       "      <td>NaN</td>\n",
       "    </tr>\n",
       "    <tr>\n",
       "      <th>3</th>\n",
       "      <td>03/07/2013</td>\n",
       "      <td>685</td>\n",
       "      <td>NaN</td>\n",
       "      <td>NaN</td>\n",
       "      <td>NaN</td>\n",
       "      <td>NaN</td>\n",
       "      <td>NaN</td>\n",
       "      <td>NaN</td>\n",
       "      <td>NaN</td>\n",
       "      <td>NaN</td>\n",
       "      <td>NaN</td>\n",
       "    </tr>\n",
       "    <tr>\n",
       "      <th>4</th>\n",
       "      <td>05/10/2013</td>\n",
       "      <td>275</td>\n",
       "      <td>NaN</td>\n",
       "      <td>NaN</td>\n",
       "      <td>NaN</td>\n",
       "      <td>NaN</td>\n",
       "      <td>NaN</td>\n",
       "      <td>NaN</td>\n",
       "      <td>NaN</td>\n",
       "      <td>NaN</td>\n",
       "      <td>NaN</td>\n",
       "    </tr>\n",
       "    <tr>\n",
       "      <th>...</th>\n",
       "      <td>...</td>\n",
       "      <td>...</td>\n",
       "      <td>...</td>\n",
       "      <td>...</td>\n",
       "      <td>...</td>\n",
       "      <td>...</td>\n",
       "      <td>...</td>\n",
       "      <td>...</td>\n",
       "      <td>...</td>\n",
       "      <td>...</td>\n",
       "      <td>...</td>\n",
       "    </tr>\n",
       "    <tr>\n",
       "      <th>57</th>\n",
       "      <td>27/12/2021</td>\n",
       "      <td>52100</td>\n",
       "      <td>NaN</td>\n",
       "      <td>NaN</td>\n",
       "      <td>NaN</td>\n",
       "      <td>NaN</td>\n",
       "      <td>NaN</td>\n",
       "      <td>NaN</td>\n",
       "      <td>NaN</td>\n",
       "      <td>NaN</td>\n",
       "      <td>NaN</td>\n",
       "    </tr>\n",
       "    <tr>\n",
       "      <th>58</th>\n",
       "      <td>24/01/2022</td>\n",
       "      <td>32933</td>\n",
       "      <td>NaN</td>\n",
       "      <td>NaN</td>\n",
       "      <td>NaN</td>\n",
       "      <td>NaN</td>\n",
       "      <td>NaN</td>\n",
       "      <td>NaN</td>\n",
       "      <td>NaN</td>\n",
       "      <td>NaN</td>\n",
       "      <td>NaN</td>\n",
       "    </tr>\n",
       "    <tr>\n",
       "      <th>59</th>\n",
       "      <td>24/02/2022</td>\n",
       "      <td>34425</td>\n",
       "      <td>NaN</td>\n",
       "      <td>NaN</td>\n",
       "      <td>NaN</td>\n",
       "      <td>NaN</td>\n",
       "      <td>NaN</td>\n",
       "      <td>NaN</td>\n",
       "      <td>NaN</td>\n",
       "      <td>NaN</td>\n",
       "      <td>NaN</td>\n",
       "    </tr>\n",
       "    <tr>\n",
       "      <th>60</th>\n",
       "      <td>29/03/2022</td>\n",
       "      <td>48192</td>\n",
       "      <td>NaN</td>\n",
       "      <td>NaN</td>\n",
       "      <td>NaN</td>\n",
       "      <td>NaN</td>\n",
       "      <td>NaN</td>\n",
       "      <td>NaN</td>\n",
       "      <td>NaN</td>\n",
       "      <td>NaN</td>\n",
       "      <td>NaN</td>\n",
       "    </tr>\n",
       "    <tr>\n",
       "      <th>61</th>\n",
       "      <td>18/06/2022</td>\n",
       "      <td>17600</td>\n",
       "      <td>NaN</td>\n",
       "      <td>NaN</td>\n",
       "      <td>NaN</td>\n",
       "      <td>NaN</td>\n",
       "      <td>NaN</td>\n",
       "      <td>NaN</td>\n",
       "      <td>NaN</td>\n",
       "      <td>NaN</td>\n",
       "      <td>NaN</td>\n",
       "    </tr>\n",
       "  </tbody>\n",
       "</table>\n",
       "<p>62 rows × 11 columns</p>\n",
       "</div>"
      ],
      "text/plain": [
       "          Date  Price  Earth  Mer  Ven  Mar  Jup  Sat  Ura  Nep  Plu\n",
       "0   31/10/2008      0    NaN  NaN  NaN  NaN  NaN  NaN  NaN  NaN  NaN\n",
       "1   03/01/2009      0    NaN  NaN  NaN  NaN  NaN  NaN  NaN  NaN  NaN\n",
       "2   10/04/2013    290    NaN  NaN  NaN  NaN  NaN  NaN  NaN  NaN  NaN\n",
       "3   03/07/2013    685    NaN  NaN  NaN  NaN  NaN  NaN  NaN  NaN  NaN\n",
       "4   05/10/2013    275    NaN  NaN  NaN  NaN  NaN  NaN  NaN  NaN  NaN\n",
       "..         ...    ...    ...  ...  ...  ...  ...  ...  ...  ...  ...\n",
       "57  27/12/2021  52100    NaN  NaN  NaN  NaN  NaN  NaN  NaN  NaN  NaN\n",
       "58  24/01/2022  32933    NaN  NaN  NaN  NaN  NaN  NaN  NaN  NaN  NaN\n",
       "59  24/02/2022  34425    NaN  NaN  NaN  NaN  NaN  NaN  NaN  NaN  NaN\n",
       "60  29/03/2022  48192    NaN  NaN  NaN  NaN  NaN  NaN  NaN  NaN  NaN\n",
       "61  18/06/2022  17600    NaN  NaN  NaN  NaN  NaN  NaN  NaN  NaN  NaN\n",
       "\n",
       "[62 rows x 11 columns]"
      ]
     },
     "execution_count": 42,
     "metadata": {},
     "output_type": "execute_result"
    }
   ],
   "source": [
    "pa = priceadd.copy()\n",
    "pa"
   ]
  },
  {
   "cell_type": "code",
   "execution_count": 43,
   "id": "9839319a",
   "metadata": {},
   "outputs": [
    {
     "name": "stderr",
     "output_type": "stream",
     "text": [
      "C:\\Users\\ASUS\\AppData\\Local\\Temp\\ipykernel_15596\\3048188743.py:14: SettingWithCopyWarning:\n",
      "\n",
      "\n",
      "A value is trying to be set on a copy of a slice from a DataFrame\n",
      "\n",
      "See the caveats in the documentation: https://pandas.pydata.org/pandas-docs/stable/user_guide/indexing.html#returning-a-view-versus-a-copy\n",
      "\n"
     ]
    },
    {
     "name": "stdout",
     "output_type": "stream",
     "text": [
      "          Date  Price  Earth    Mer    Ven    Mar    Jup    Sat    Ura    Nep  \\\n",
      "0   31/10/2008      0   38.0  155.0  310.0  235.0  297.0  163.0  351.0  323.0   \n",
      "1   03/01/2009      0  103.0   16.0   52.0  270.0  302.0  166.0  351.0  323.0   \n",
      "2   10/04/2013    290  200.0  280.0   28.0   23.0   82.0  217.0    8.0  333.0   \n",
      "3   03/07/2013    685  281.0  269.0  164.0   70.0   89.0  220.0    9.0  333.0   \n",
      "4   05/10/2013    275   12.0  286.0  314.0  116.0   97.0  223.0   10.0  334.0   \n",
      "..         ...    ...    ...    ...    ...    ...    ...    ...    ...    ...   \n",
      "57  27/12/2021  52100   95.0  333.0   88.0  233.0  338.0  314.0   43.0  352.0   \n",
      "58  24/01/2022  32933  124.0  128.0  133.0  248.0  341.0  315.0   43.0  352.0   \n",
      "59  24/02/2022  34425  155.0  244.0  183.0  265.0  344.0  316.0   44.0  352.0   \n",
      "60  29/03/2022  48192  188.0  350.0  236.0  284.0  347.0  317.0   44.0  352.0   \n",
      "61  18/06/2022  17600  267.0  322.0    5.0  334.0  354.0  320.0   45.0  353.0   \n",
      "\n",
      "      Plu  \n",
      "0   270.0  \n",
      "1   270.0  \n",
      "2   279.0  \n",
      "3   280.0  \n",
      "4   280.0  \n",
      "..    ...  \n",
      "57  296.0  \n",
      "58  296.0  \n",
      "59  296.0  \n",
      "60  296.0  \n",
      "61  297.0  \n",
      "\n",
      "[62 rows x 11 columns]\n"
     ]
    }
   ],
   "source": [
    "outp = pd.DataFrame()\n",
    "\n",
    "for col in pa.columns:\n",
    "    outp[col] = pa[col]\n",
    "\n",
    "    if col not in (\"Date\", \"Price\"):\n",
    "        \n",
    "        for row, _ in helio.iterrows():\n",
    "            date = helio[\"Date\"][row]\n",
    "            dates_list = pa[\"Date\"].to_list()\n",
    "\n",
    "            if date in dates_list:\n",
    "                row_index = dates_list.index(date)\n",
    "                outp[col][row_index] = helio[col][row]\n",
    "\n",
    "output = outp.copy()                \n",
    "\n",
    "print(outp)"
   ]
  },
  {
   "cell_type": "code",
   "execution_count": 44,
   "id": "06b854d7",
   "metadata": {},
   "outputs": [
    {
     "name": "stderr",
     "output_type": "stream",
     "text": [
      "c:\\Users\\ASUS\\AppData\\Local\\Programs\\Python\\Python39\\lib\\site-packages\\pandas\\core\\indexing.py:1732: SettingWithCopyWarning:\n",
      "\n",
      "\n",
      "A value is trying to be set on a copy of a slice from a DataFrame\n",
      "\n",
      "See the caveats in the documentation: https://pandas.pydata.org/pandas-docs/stable/user_guide/indexing.html#returning-a-view-versus-a-copy\n",
      "\n"
     ]
    },
    {
     "data": {
      "text/html": [
       "<div>\n",
       "<style scoped>\n",
       "    .dataframe tbody tr th:only-of-type {\n",
       "        vertical-align: middle;\n",
       "    }\n",
       "\n",
       "    .dataframe tbody tr th {\n",
       "        vertical-align: top;\n",
       "    }\n",
       "\n",
       "    .dataframe thead th {\n",
       "        text-align: right;\n",
       "    }\n",
       "</style>\n",
       "<table border=\"1\" class=\"dataframe\">\n",
       "  <thead>\n",
       "    <tr style=\"text-align: right;\">\n",
       "      <th></th>\n",
       "      <th>Date</th>\n",
       "      <th>Price</th>\n",
       "      <th>Earth</th>\n",
       "      <th>Mer</th>\n",
       "      <th>Ven</th>\n",
       "      <th>Mar</th>\n",
       "      <th>Jup</th>\n",
       "      <th>Sat</th>\n",
       "      <th>Ura</th>\n",
       "      <th>Nep</th>\n",
       "      <th>Plu</th>\n",
       "    </tr>\n",
       "  </thead>\n",
       "  <tbody>\n",
       "    <tr>\n",
       "      <th>0</th>\n",
       "      <td>31/10/2008</td>\n",
       "      <td>0.000</td>\n",
       "      <td>01/11/2030</td>\n",
       "      <td>28/12/2030</td>\n",
       "      <td>24/12/2030</td>\n",
       "      <td>10/07/2029</td>\n",
       "      <td>18/09/2020</td>\n",
       "      <td>02/11/2008</td>\n",
       "      <td>14/01/2009</td>\n",
       "      <td>20/02/2009</td>\n",
       "      <td>05/01/2009</td>\n",
       "    </tr>\n",
       "    <tr>\n",
       "      <th>1</th>\n",
       "      <td>03/01/2009</td>\n",
       "      <td>0.000</td>\n",
       "      <td>03/01/2029</td>\n",
       "      <td>26/11/2024</td>\n",
       "      <td>04/12/2029</td>\n",
       "      <td>12/09/2029</td>\n",
       "      <td>16/11/2020</td>\n",
       "      <td>27/01/2009</td>\n",
       "      <td>14/01/2009</td>\n",
       "      <td>20/02/2009</td>\n",
       "      <td>05/01/2009</td>\n",
       "    </tr>\n",
       "    <tr>\n",
       "      <th>2</th>\n",
       "      <td>10/04/2013</td>\n",
       "      <td>0.290</td>\n",
       "      <td></td>\n",
       "      <td></td>\n",
       "      <td></td>\n",
       "      <td></td>\n",
       "      <td></td>\n",
       "      <td></td>\n",
       "      <td></td>\n",
       "      <td></td>\n",
       "      <td></td>\n",
       "    </tr>\n",
       "    <tr>\n",
       "      <th>3</th>\n",
       "      <td>03/07/2013</td>\n",
       "      <td>0.685</td>\n",
       "      <td></td>\n",
       "      <td></td>\n",
       "      <td></td>\n",
       "      <td></td>\n",
       "      <td></td>\n",
       "      <td></td>\n",
       "      <td></td>\n",
       "      <td></td>\n",
       "      <td></td>\n",
       "    </tr>\n",
       "    <tr>\n",
       "      <th>4</th>\n",
       "      <td>05/10/2013</td>\n",
       "      <td>0.275</td>\n",
       "      <td></td>\n",
       "      <td></td>\n",
       "      <td></td>\n",
       "      <td></td>\n",
       "      <td></td>\n",
       "      <td></td>\n",
       "      <td></td>\n",
       "      <td></td>\n",
       "      <td></td>\n",
       "    </tr>\n",
       "    <tr>\n",
       "      <th>...</th>\n",
       "      <td>...</td>\n",
       "      <td>...</td>\n",
       "      <td>...</td>\n",
       "      <td>...</td>\n",
       "      <td>...</td>\n",
       "      <td>...</td>\n",
       "      <td>...</td>\n",
       "      <td>...</td>\n",
       "      <td>...</td>\n",
       "      <td>...</td>\n",
       "      <td>...</td>\n",
       "    </tr>\n",
       "    <tr>\n",
       "      <th>57</th>\n",
       "      <td>27/12/2021</td>\n",
       "      <td>52.100</td>\n",
       "      <td></td>\n",
       "      <td></td>\n",
       "      <td></td>\n",
       "      <td></td>\n",
       "      <td></td>\n",
       "      <td></td>\n",
       "      <td></td>\n",
       "      <td></td>\n",
       "      <td></td>\n",
       "    </tr>\n",
       "    <tr>\n",
       "      <th>58</th>\n",
       "      <td>24/01/2022</td>\n",
       "      <td>32.933</td>\n",
       "      <td></td>\n",
       "      <td></td>\n",
       "      <td></td>\n",
       "      <td></td>\n",
       "      <td></td>\n",
       "      <td></td>\n",
       "      <td></td>\n",
       "      <td></td>\n",
       "      <td></td>\n",
       "    </tr>\n",
       "    <tr>\n",
       "      <th>59</th>\n",
       "      <td>24/02/2022</td>\n",
       "      <td>34.425</td>\n",
       "      <td></td>\n",
       "      <td></td>\n",
       "      <td></td>\n",
       "      <td></td>\n",
       "      <td></td>\n",
       "      <td></td>\n",
       "      <td></td>\n",
       "      <td></td>\n",
       "      <td></td>\n",
       "    </tr>\n",
       "    <tr>\n",
       "      <th>60</th>\n",
       "      <td>29/03/2022</td>\n",
       "      <td>48.192</td>\n",
       "      <td></td>\n",
       "      <td></td>\n",
       "      <td></td>\n",
       "      <td></td>\n",
       "      <td></td>\n",
       "      <td></td>\n",
       "      <td></td>\n",
       "      <td></td>\n",
       "      <td></td>\n",
       "    </tr>\n",
       "    <tr>\n",
       "      <th>61</th>\n",
       "      <td>18/06/2022</td>\n",
       "      <td>17.600</td>\n",
       "      <td></td>\n",
       "      <td></td>\n",
       "      <td></td>\n",
       "      <td></td>\n",
       "      <td></td>\n",
       "      <td></td>\n",
       "      <td></td>\n",
       "      <td></td>\n",
       "      <td></td>\n",
       "    </tr>\n",
       "  </tbody>\n",
       "</table>\n",
       "<p>62 rows × 11 columns</p>\n",
       "</div>"
      ],
      "text/plain": [
       "          Date   Price       Earth         Mer         Ven         Mar  \\\n",
       "0   31/10/2008   0.000  01/11/2030  28/12/2030  24/12/2030  10/07/2029   \n",
       "1   03/01/2009   0.000  03/01/2029  26/11/2024  04/12/2029  12/09/2029   \n",
       "2   10/04/2013   0.290                                                   \n",
       "3   03/07/2013   0.685                                                   \n",
       "4   05/10/2013   0.275                                                   \n",
       "..         ...     ...         ...         ...         ...         ...   \n",
       "57  27/12/2021  52.100                                                   \n",
       "58  24/01/2022  32.933                                                   \n",
       "59  24/02/2022  34.425                                                   \n",
       "60  29/03/2022  48.192                                                   \n",
       "61  18/06/2022  17.600                                                   \n",
       "\n",
       "           Jup         Sat         Ura         Nep         Plu  \n",
       "0   18/09/2020  02/11/2008  14/01/2009  20/02/2009  05/01/2009  \n",
       "1   16/11/2020  27/01/2009  14/01/2009  20/02/2009  05/01/2009  \n",
       "2                                                               \n",
       "3                                                               \n",
       "4                                                               \n",
       "..         ...         ...         ...         ...         ...  \n",
       "57                                                              \n",
       "58                                                              \n",
       "59                                                              \n",
       "60                                                              \n",
       "61                                                              \n",
       "\n",
       "[62 rows x 11 columns]"
      ]
     },
     "execution_count": 44,
     "metadata": {},
     "output_type": "execute_result"
    }
   ],
   "source": [
    "# PA_1000\n",
    "\n",
    "# Copy price + Initialization of divides (1000,100,10,1,24,etc...)\n",
    "\n",
    "pa1k = output.copy()\n",
    "pa1k.Price = pa1k.Price / 1000 # <- change here\n",
    "\n",
    "# Add price to all planets\n",
    "\n",
    "for i in pa1k.columns[2:]:\n",
    "    pa1k[i] = pa1k[i] + pa1k.Price\n",
    "\n",
    "# if > 360 then -360 so it can stay within the circle \n",
    "\n",
    "for i in pa1k.columns[2:]:\n",
    "    for num, j in enumerate(pa1k[i]):\n",
    "        j = float(j)\n",
    "        if j > 360:\n",
    "            x = j - 360\n",
    "            pa1k[i].iloc[num] = x\n",
    "\n",
    "# for loop to catch which degrees is situated at which date in the future/past\n",
    "\n",
    "for planets in pa1k.columns[2:]:\n",
    "    for num, i in enumerate(pa1k[planets]):\n",
    "        df_copy = helio.copy()\n",
    "        target = df_copy[df_copy[planets] == float(i)]\n",
    "\n",
    "        Date = []\n",
    "\n",
    "        for date in target['Date']:\n",
    "            Date.append(date)\n",
    "\n",
    "        if len(Date) > 0:\n",
    "            Date_ok = Date[-1]\n",
    "            pa1k[planets].iloc[num] = Date_ok\n",
    "        else:\n",
    "            pa1k[planets].iloc[num] = \" \"\n",
    "\n",
    "pa1k"
   ]
  },
  {
   "cell_type": "code",
   "execution_count": 45,
   "id": "130a0fcb",
   "metadata": {},
   "outputs": [
    {
     "name": "stderr",
     "output_type": "stream",
     "text": [
      "c:\\Users\\ASUS\\AppData\\Local\\Programs\\Python\\Python39\\lib\\site-packages\\pandas\\core\\indexing.py:1732: SettingWithCopyWarning:\n",
      "\n",
      "\n",
      "A value is trying to be set on a copy of a slice from a DataFrame\n",
      "\n",
      "See the caveats in the documentation: https://pandas.pydata.org/pandas-docs/stable/user_guide/indexing.html#returning-a-view-versus-a-copy\n",
      "\n"
     ]
    },
    {
     "data": {
      "text/html": [
       "<div>\n",
       "<style scoped>\n",
       "    .dataframe tbody tr th:only-of-type {\n",
       "        vertical-align: middle;\n",
       "    }\n",
       "\n",
       "    .dataframe tbody tr th {\n",
       "        vertical-align: top;\n",
       "    }\n",
       "\n",
       "    .dataframe thead th {\n",
       "        text-align: right;\n",
       "    }\n",
       "</style>\n",
       "<table border=\"1\" class=\"dataframe\">\n",
       "  <thead>\n",
       "    <tr style=\"text-align: right;\">\n",
       "      <th></th>\n",
       "      <th>Date</th>\n",
       "      <th>Price</th>\n",
       "      <th>Earth</th>\n",
       "      <th>Mer</th>\n",
       "      <th>Ven</th>\n",
       "      <th>Mar</th>\n",
       "      <th>Jup</th>\n",
       "      <th>Sat</th>\n",
       "      <th>Ura</th>\n",
       "      <th>Nep</th>\n",
       "      <th>Plu</th>\n",
       "    </tr>\n",
       "  </thead>\n",
       "  <tbody>\n",
       "    <tr>\n",
       "      <th>0</th>\n",
       "      <td>31/10/2008</td>\n",
       "      <td>0.00</td>\n",
       "      <td>01/11/2030</td>\n",
       "      <td>28/12/2030</td>\n",
       "      <td>24/12/2030</td>\n",
       "      <td>10/07/2029</td>\n",
       "      <td>18/09/2020</td>\n",
       "      <td>02/11/2008</td>\n",
       "      <td>14/01/2009</td>\n",
       "      <td>20/02/2009</td>\n",
       "      <td>05/01/2009</td>\n",
       "    </tr>\n",
       "    <tr>\n",
       "      <th>1</th>\n",
       "      <td>03/01/2009</td>\n",
       "      <td>0.00</td>\n",
       "      <td>03/01/2029</td>\n",
       "      <td>26/11/2024</td>\n",
       "      <td>04/12/2029</td>\n",
       "      <td>12/09/2029</td>\n",
       "      <td>16/11/2020</td>\n",
       "      <td>27/01/2009</td>\n",
       "      <td>14/01/2009</td>\n",
       "      <td>20/02/2009</td>\n",
       "      <td>05/01/2009</td>\n",
       "    </tr>\n",
       "    <tr>\n",
       "      <th>2</th>\n",
       "      <td>10/04/2013</td>\n",
       "      <td>2.90</td>\n",
       "      <td></td>\n",
       "      <td></td>\n",
       "      <td></td>\n",
       "      <td></td>\n",
       "      <td></td>\n",
       "      <td></td>\n",
       "      <td></td>\n",
       "      <td></td>\n",
       "      <td></td>\n",
       "    </tr>\n",
       "    <tr>\n",
       "      <th>3</th>\n",
       "      <td>03/07/2013</td>\n",
       "      <td>6.85</td>\n",
       "      <td></td>\n",
       "      <td></td>\n",
       "      <td></td>\n",
       "      <td></td>\n",
       "      <td></td>\n",
       "      <td></td>\n",
       "      <td></td>\n",
       "      <td></td>\n",
       "      <td></td>\n",
       "    </tr>\n",
       "    <tr>\n",
       "      <th>4</th>\n",
       "      <td>05/10/2013</td>\n",
       "      <td>2.75</td>\n",
       "      <td></td>\n",
       "      <td></td>\n",
       "      <td></td>\n",
       "      <td></td>\n",
       "      <td></td>\n",
       "      <td></td>\n",
       "      <td></td>\n",
       "      <td></td>\n",
       "      <td></td>\n",
       "    </tr>\n",
       "    <tr>\n",
       "      <th>...</th>\n",
       "      <td>...</td>\n",
       "      <td>...</td>\n",
       "      <td>...</td>\n",
       "      <td>...</td>\n",
       "      <td>...</td>\n",
       "      <td>...</td>\n",
       "      <td>...</td>\n",
       "      <td>...</td>\n",
       "      <td>...</td>\n",
       "      <td>...</td>\n",
       "      <td>...</td>\n",
       "    </tr>\n",
       "    <tr>\n",
       "      <th>57</th>\n",
       "      <td>27/12/2021</td>\n",
       "      <td>521.00</td>\n",
       "      <td>07/06/2030</td>\n",
       "      <td></td>\n",
       "      <td>05/04/2030</td>\n",
       "      <td></td>\n",
       "      <td></td>\n",
       "      <td></td>\n",
       "      <td>16/02/1974</td>\n",
       "      <td></td>\n",
       "      <td></td>\n",
       "    </tr>\n",
       "    <tr>\n",
       "      <th>58</th>\n",
       "      <td>24/01/2022</td>\n",
       "      <td>329.33</td>\n",
       "      <td></td>\n",
       "      <td></td>\n",
       "      <td></td>\n",
       "      <td></td>\n",
       "      <td></td>\n",
       "      <td></td>\n",
       "      <td></td>\n",
       "      <td></td>\n",
       "      <td></td>\n",
       "    </tr>\n",
       "    <tr>\n",
       "      <th>59</th>\n",
       "      <td>24/02/2022</td>\n",
       "      <td>344.25</td>\n",
       "      <td></td>\n",
       "      <td></td>\n",
       "      <td></td>\n",
       "      <td></td>\n",
       "      <td></td>\n",
       "      <td></td>\n",
       "      <td></td>\n",
       "      <td></td>\n",
       "      <td></td>\n",
       "    </tr>\n",
       "    <tr>\n",
       "      <th>60</th>\n",
       "      <td>29/03/2022</td>\n",
       "      <td>481.92</td>\n",
       "      <td></td>\n",
       "      <td></td>\n",
       "      <td></td>\n",
       "      <td></td>\n",
       "      <td></td>\n",
       "      <td></td>\n",
       "      <td></td>\n",
       "      <td></td>\n",
       "      <td></td>\n",
       "    </tr>\n",
       "    <tr>\n",
       "      <th>61</th>\n",
       "      <td>18/06/2022</td>\n",
       "      <td>176.00</td>\n",
       "      <td>15/12/2030</td>\n",
       "      <td>20/01/2029</td>\n",
       "      <td>04/10/2030</td>\n",
       "      <td>24/11/2030</td>\n",
       "      <td>20/02/2028</td>\n",
       "      <td>05/10/2006</td>\n",
       "      <td>26/10/1977</td>\n",
       "      <td>17/04/1938</td>\n",
       "      <td></td>\n",
       "    </tr>\n",
       "  </tbody>\n",
       "</table>\n",
       "<p>62 rows × 11 columns</p>\n",
       "</div>"
      ],
      "text/plain": [
       "          Date   Price       Earth         Mer         Ven         Mar  \\\n",
       "0   31/10/2008    0.00  01/11/2030  28/12/2030  24/12/2030  10/07/2029   \n",
       "1   03/01/2009    0.00  03/01/2029  26/11/2024  04/12/2029  12/09/2029   \n",
       "2   10/04/2013    2.90                                                   \n",
       "3   03/07/2013    6.85                                                   \n",
       "4   05/10/2013    2.75                                                   \n",
       "..         ...     ...         ...         ...         ...         ...   \n",
       "57  27/12/2021  521.00  07/06/2030              05/04/2030               \n",
       "58  24/01/2022  329.33                                                   \n",
       "59  24/02/2022  344.25                                                   \n",
       "60  29/03/2022  481.92                                                   \n",
       "61  18/06/2022  176.00  15/12/2030  20/01/2029  04/10/2030  24/11/2030   \n",
       "\n",
       "           Jup         Sat         Ura         Nep         Plu  \n",
       "0   18/09/2020  02/11/2008  14/01/2009  20/02/2009  05/01/2009  \n",
       "1   16/11/2020  27/01/2009  14/01/2009  20/02/2009  05/01/2009  \n",
       "2                                                               \n",
       "3                                                               \n",
       "4                                                               \n",
       "..         ...         ...         ...         ...         ...  \n",
       "57                          16/02/1974                          \n",
       "58                                                              \n",
       "59                                                              \n",
       "60                                                              \n",
       "61  20/02/2028  05/10/2006  26/10/1977  17/04/1938              \n",
       "\n",
       "[62 rows x 11 columns]"
      ]
     },
     "execution_count": 45,
     "metadata": {},
     "output_type": "execute_result"
    }
   ],
   "source": [
    "# PA_100\n",
    "\n",
    "# Copy price + Initialization of divides (1000,100,10,1,24,etc...)\n",
    "\n",
    "pa100 = output.copy()\n",
    "pa100.Price = pa100.Price / 100 # <- change here\n",
    "\n",
    "# Add price to all planets\n",
    "\n",
    "for i in pa100.columns[2:]:\n",
    "    pa100[i] = pa100[i] + pa100.Price\n",
    "\n",
    "# if > 360 then -360 so it can stay within the circle \n",
    "\n",
    "for i in pa100.columns[2:]:\n",
    "    for num, j in enumerate(pa100[i]):\n",
    "        j = float(j)\n",
    "        if j > 360:\n",
    "            x = j - 360\n",
    "            pa100[i].iloc[num] = x\n",
    "\n",
    "# for loop to catch which degrees is situated at which date in the future/past\n",
    "\n",
    "for planets in pa100.columns[2:]:\n",
    "    for num, i in enumerate(pa100[planets]):\n",
    "        df_copy = helio.copy()\n",
    "        target = df_copy[df_copy[planets] == float(i)]\n",
    "\n",
    "        Date = []\n",
    "\n",
    "        for date in target['Date']:\n",
    "            Date.append(date)\n",
    "\n",
    "        if len(Date) > 0:\n",
    "            Date_ok = Date[-1]\n",
    "            pa100[planets].iloc[num] = Date_ok\n",
    "        else:\n",
    "            pa100[planets].iloc[num] = \" \"\n",
    "\n",
    "pa100"
   ]
  },
  {
   "cell_type": "code",
   "execution_count": 46,
   "id": "a7c2320e",
   "metadata": {},
   "outputs": [
    {
     "name": "stderr",
     "output_type": "stream",
     "text": [
      "c:\\Users\\ASUS\\AppData\\Local\\Programs\\Python\\Python39\\lib\\site-packages\\pandas\\core\\indexing.py:1732: SettingWithCopyWarning:\n",
      "\n",
      "\n",
      "A value is trying to be set on a copy of a slice from a DataFrame\n",
      "\n",
      "See the caveats in the documentation: https://pandas.pydata.org/pandas-docs/stable/user_guide/indexing.html#returning-a-view-versus-a-copy\n",
      "\n"
     ]
    },
    {
     "data": {
      "text/html": [
       "<div>\n",
       "<style scoped>\n",
       "    .dataframe tbody tr th:only-of-type {\n",
       "        vertical-align: middle;\n",
       "    }\n",
       "\n",
       "    .dataframe tbody tr th {\n",
       "        vertical-align: top;\n",
       "    }\n",
       "\n",
       "    .dataframe thead th {\n",
       "        text-align: right;\n",
       "    }\n",
       "</style>\n",
       "<table border=\"1\" class=\"dataframe\">\n",
       "  <thead>\n",
       "    <tr style=\"text-align: right;\">\n",
       "      <th></th>\n",
       "      <th>Date</th>\n",
       "      <th>Price</th>\n",
       "      <th>Earth</th>\n",
       "      <th>Mer</th>\n",
       "      <th>Ven</th>\n",
       "      <th>Mar</th>\n",
       "      <th>Jup</th>\n",
       "      <th>Sat</th>\n",
       "      <th>Ura</th>\n",
       "      <th>Nep</th>\n",
       "      <th>Plu</th>\n",
       "    </tr>\n",
       "  </thead>\n",
       "  <tbody>\n",
       "    <tr>\n",
       "      <th>0</th>\n",
       "      <td>31/10/2008</td>\n",
       "      <td>0.0</td>\n",
       "      <td>01/11/2030</td>\n",
       "      <td>28/12/2030</td>\n",
       "      <td>24/12/2030</td>\n",
       "      <td>10/07/2029</td>\n",
       "      <td>18/09/2020</td>\n",
       "      <td>02/11/2008</td>\n",
       "      <td>14/01/2009</td>\n",
       "      <td>20/02/2009</td>\n",
       "      <td>05/01/2009</td>\n",
       "    </tr>\n",
       "    <tr>\n",
       "      <th>1</th>\n",
       "      <td>03/01/2009</td>\n",
       "      <td>0.0</td>\n",
       "      <td>03/01/2029</td>\n",
       "      <td>26/11/2024</td>\n",
       "      <td>04/12/2029</td>\n",
       "      <td>12/09/2029</td>\n",
       "      <td>16/11/2020</td>\n",
       "      <td>27/01/2009</td>\n",
       "      <td>14/01/2009</td>\n",
       "      <td>20/02/2009</td>\n",
       "      <td>05/01/2009</td>\n",
       "    </tr>\n",
       "    <tr>\n",
       "      <th>2</th>\n",
       "      <td>10/04/2013</td>\n",
       "      <td>29.0</td>\n",
       "      <td>10/05/2030</td>\n",
       "      <td>18/11/2030</td>\n",
       "      <td>07/12/2029</td>\n",
       "      <td>04/05/2030</td>\n",
       "      <td>01/02/2026</td>\n",
       "      <td>14/11/2015</td>\n",
       "      <td>30/08/2020</td>\n",
       "      <td>26/09/2026</td>\n",
       "      <td>06/06/2029</td>\n",
       "    </tr>\n",
       "    <tr>\n",
       "      <th>3</th>\n",
       "      <td>03/07/2013</td>\n",
       "      <td>68.5</td>\n",
       "      <td></td>\n",
       "      <td></td>\n",
       "      <td></td>\n",
       "      <td></td>\n",
       "      <td></td>\n",
       "      <td></td>\n",
       "      <td></td>\n",
       "      <td></td>\n",
       "      <td></td>\n",
       "    </tr>\n",
       "    <tr>\n",
       "      <th>4</th>\n",
       "      <td>05/10/2013</td>\n",
       "      <td>27.5</td>\n",
       "      <td></td>\n",
       "      <td></td>\n",
       "      <td></td>\n",
       "      <td></td>\n",
       "      <td></td>\n",
       "      <td></td>\n",
       "      <td></td>\n",
       "      <td></td>\n",
       "      <td></td>\n",
       "    </tr>\n",
       "    <tr>\n",
       "      <th>...</th>\n",
       "      <td>...</td>\n",
       "      <td>...</td>\n",
       "      <td>...</td>\n",
       "      <td>...</td>\n",
       "      <td>...</td>\n",
       "      <td>...</td>\n",
       "      <td>...</td>\n",
       "      <td>...</td>\n",
       "      <td>...</td>\n",
       "      <td>...</td>\n",
       "      <td>...</td>\n",
       "    </tr>\n",
       "    <tr>\n",
       "      <th>57</th>\n",
       "      <td>27/12/2021</td>\n",
       "      <td>5210.0</td>\n",
       "      <td></td>\n",
       "      <td></td>\n",
       "      <td></td>\n",
       "      <td></td>\n",
       "      <td></td>\n",
       "      <td></td>\n",
       "      <td></td>\n",
       "      <td></td>\n",
       "      <td></td>\n",
       "    </tr>\n",
       "    <tr>\n",
       "      <th>58</th>\n",
       "      <td>24/01/2022</td>\n",
       "      <td>3293.3</td>\n",
       "      <td></td>\n",
       "      <td></td>\n",
       "      <td></td>\n",
       "      <td></td>\n",
       "      <td></td>\n",
       "      <td></td>\n",
       "      <td></td>\n",
       "      <td></td>\n",
       "      <td></td>\n",
       "    </tr>\n",
       "    <tr>\n",
       "      <th>59</th>\n",
       "      <td>24/02/2022</td>\n",
       "      <td>3442.5</td>\n",
       "      <td></td>\n",
       "      <td></td>\n",
       "      <td></td>\n",
       "      <td></td>\n",
       "      <td></td>\n",
       "      <td></td>\n",
       "      <td></td>\n",
       "      <td></td>\n",
       "      <td></td>\n",
       "    </tr>\n",
       "    <tr>\n",
       "      <th>60</th>\n",
       "      <td>29/03/2022</td>\n",
       "      <td>4819.2</td>\n",
       "      <td></td>\n",
       "      <td></td>\n",
       "      <td></td>\n",
       "      <td></td>\n",
       "      <td></td>\n",
       "      <td></td>\n",
       "      <td></td>\n",
       "      <td></td>\n",
       "      <td></td>\n",
       "    </tr>\n",
       "    <tr>\n",
       "      <th>61</th>\n",
       "      <td>18/06/2022</td>\n",
       "      <td>1760.0</td>\n",
       "      <td></td>\n",
       "      <td></td>\n",
       "      <td></td>\n",
       "      <td></td>\n",
       "      <td></td>\n",
       "      <td></td>\n",
       "      <td></td>\n",
       "      <td></td>\n",
       "      <td></td>\n",
       "    </tr>\n",
       "  </tbody>\n",
       "</table>\n",
       "<p>62 rows × 11 columns</p>\n",
       "</div>"
      ],
      "text/plain": [
       "          Date   Price       Earth         Mer         Ven         Mar  \\\n",
       "0   31/10/2008     0.0  01/11/2030  28/12/2030  24/12/2030  10/07/2029   \n",
       "1   03/01/2009     0.0  03/01/2029  26/11/2024  04/12/2029  12/09/2029   \n",
       "2   10/04/2013    29.0  10/05/2030  18/11/2030  07/12/2029  04/05/2030   \n",
       "3   03/07/2013    68.5                                                   \n",
       "4   05/10/2013    27.5                                                   \n",
       "..         ...     ...         ...         ...         ...         ...   \n",
       "57  27/12/2021  5210.0                                                   \n",
       "58  24/01/2022  3293.3                                                   \n",
       "59  24/02/2022  3442.5                                                   \n",
       "60  29/03/2022  4819.2                                                   \n",
       "61  18/06/2022  1760.0                                                   \n",
       "\n",
       "           Jup         Sat         Ura         Nep         Plu  \n",
       "0   18/09/2020  02/11/2008  14/01/2009  20/02/2009  05/01/2009  \n",
       "1   16/11/2020  27/01/2009  14/01/2009  20/02/2009  05/01/2009  \n",
       "2   01/02/2026  14/11/2015  30/08/2020  26/09/2026  06/06/2029  \n",
       "3                                                               \n",
       "4                                                               \n",
       "..         ...         ...         ...         ...         ...  \n",
       "57                                                              \n",
       "58                                                              \n",
       "59                                                              \n",
       "60                                                              \n",
       "61                                                              \n",
       "\n",
       "[62 rows x 11 columns]"
      ]
     },
     "execution_count": 46,
     "metadata": {},
     "output_type": "execute_result"
    }
   ],
   "source": [
    "# PA_10\n",
    "\n",
    "# Copy price + Initialization of divides (1000,100,10,1,24,etc...)\n",
    "\n",
    "pa10 = output.copy()\n",
    "pa10.Price = pa10.Price / 10 # <- change here\n",
    "\n",
    "# Add price to all planets\n",
    "\n",
    "for i in pa10.columns[2:]:\n",
    "    pa10[i] = pa10[i] + pa10.Price\n",
    "\n",
    "# if > 360 then -360 so it can stay within the circle \n",
    "\n",
    "for i in pa10.columns[2:]:\n",
    "    for num, j in enumerate(pa10[i]):\n",
    "        j = float(j)\n",
    "        if j > 360:\n",
    "            x = j - 360\n",
    "            pa10[i].iloc[num] = x\n",
    "\n",
    "# for loop to catch which degrees is situated at which date in the future/past\n",
    "\n",
    "for planets in pa10.columns[2:]:\n",
    "    for num, i in enumerate(pa10[planets]):\n",
    "        df_copy = helio.copy()\n",
    "        target = df_copy[df_copy[planets] == float(i)]\n",
    "\n",
    "        Date = []\n",
    "\n",
    "        for date in target['Date']:\n",
    "            Date.append(date)\n",
    "\n",
    "        if len(Date) > 0:\n",
    "            Date_ok = Date[-1]\n",
    "            pa10[planets].iloc[num] = Date_ok\n",
    "        else:\n",
    "            pa10[planets].iloc[num] = \" \"\n",
    "\n",
    "pa10"
   ]
  },
  {
   "cell_type": "code",
   "execution_count": 47,
   "id": "d55fe0dc",
   "metadata": {},
   "outputs": [
    {
     "name": "stderr",
     "output_type": "stream",
     "text": [
      "c:\\Users\\ASUS\\AppData\\Local\\Programs\\Python\\Python39\\lib\\site-packages\\pandas\\core\\indexing.py:1732: SettingWithCopyWarning:\n",
      "\n",
      "\n",
      "A value is trying to be set on a copy of a slice from a DataFrame\n",
      "\n",
      "See the caveats in the documentation: https://pandas.pydata.org/pandas-docs/stable/user_guide/indexing.html#returning-a-view-versus-a-copy\n",
      "\n"
     ]
    },
    {
     "data": {
      "text/html": [
       "<div>\n",
       "<style scoped>\n",
       "    .dataframe tbody tr th:only-of-type {\n",
       "        vertical-align: middle;\n",
       "    }\n",
       "\n",
       "    .dataframe tbody tr th {\n",
       "        vertical-align: top;\n",
       "    }\n",
       "\n",
       "    .dataframe thead th {\n",
       "        text-align: right;\n",
       "    }\n",
       "</style>\n",
       "<table border=\"1\" class=\"dataframe\">\n",
       "  <thead>\n",
       "    <tr style=\"text-align: right;\">\n",
       "      <th></th>\n",
       "      <th>Date</th>\n",
       "      <th>Price</th>\n",
       "      <th>Earth</th>\n",
       "      <th>Mer</th>\n",
       "      <th>Ven</th>\n",
       "      <th>Mar</th>\n",
       "      <th>Jup</th>\n",
       "      <th>Sat</th>\n",
       "      <th>Ura</th>\n",
       "      <th>Nep</th>\n",
       "      <th>Plu</th>\n",
       "    </tr>\n",
       "  </thead>\n",
       "  <tbody>\n",
       "    <tr>\n",
       "      <th>0</th>\n",
       "      <td>31/10/2008</td>\n",
       "      <td>0.0</td>\n",
       "      <td>01/11/2030</td>\n",
       "      <td>28/12/2030</td>\n",
       "      <td>24/12/2030</td>\n",
       "      <td>10/07/2029</td>\n",
       "      <td>18/09/2020</td>\n",
       "      <td>02/11/2008</td>\n",
       "      <td>14/01/2009</td>\n",
       "      <td>20/02/2009</td>\n",
       "      <td>05/01/2009</td>\n",
       "    </tr>\n",
       "    <tr>\n",
       "      <th>1</th>\n",
       "      <td>03/01/2009</td>\n",
       "      <td>0.0</td>\n",
       "      <td>03/01/2029</td>\n",
       "      <td>26/11/2024</td>\n",
       "      <td>04/12/2029</td>\n",
       "      <td>12/09/2029</td>\n",
       "      <td>16/11/2020</td>\n",
       "      <td>27/01/2009</td>\n",
       "      <td>14/01/2009</td>\n",
       "      <td>20/02/2009</td>\n",
       "      <td>05/01/2009</td>\n",
       "    </tr>\n",
       "    <tr>\n",
       "      <th>2</th>\n",
       "      <td>10/04/2013</td>\n",
       "      <td>290.0</td>\n",
       "      <td>30/01/2030</td>\n",
       "      <td>28/06/2025</td>\n",
       "      <td>29/12/2030</td>\n",
       "      <td>23/11/2029</td>\n",
       "      <td>05/01/2023</td>\n",
       "      <td>07/08/2007</td>\n",
       "      <td>05/09/1995</td>\n",
       "      <td>09/09/1981</td>\n",
       "      <td>06/01/1984</td>\n",
       "    </tr>\n",
       "    <tr>\n",
       "      <th>3</th>\n",
       "      <td>03/07/2013</td>\n",
       "      <td>685.0</td>\n",
       "      <td></td>\n",
       "      <td></td>\n",
       "      <td></td>\n",
       "      <td></td>\n",
       "      <td></td>\n",
       "      <td></td>\n",
       "      <td>14/09/2004</td>\n",
       "      <td></td>\n",
       "      <td></td>\n",
       "    </tr>\n",
       "    <tr>\n",
       "      <th>4</th>\n",
       "      <td>05/10/2013</td>\n",
       "      <td>275.0</td>\n",
       "      <td>09/07/2030</td>\n",
       "      <td>26/08/2027</td>\n",
       "      <td>03/11/2030</td>\n",
       "      <td>28/03/2030</td>\n",
       "      <td>05/01/2023</td>\n",
       "      <td>29/11/2006</td>\n",
       "      <td>05/07/1992</td>\n",
       "      <td>22/03/1975</td>\n",
       "      <td>13/07/1978</td>\n",
       "    </tr>\n",
       "    <tr>\n",
       "      <th>...</th>\n",
       "      <td>...</td>\n",
       "      <td>...</td>\n",
       "      <td>...</td>\n",
       "      <td>...</td>\n",
       "      <td>...</td>\n",
       "      <td>...</td>\n",
       "      <td>...</td>\n",
       "      <td>...</td>\n",
       "      <td>...</td>\n",
       "      <td>...</td>\n",
       "      <td>...</td>\n",
       "    </tr>\n",
       "    <tr>\n",
       "      <th>57</th>\n",
       "      <td>27/12/2021</td>\n",
       "      <td>52100.0</td>\n",
       "      <td></td>\n",
       "      <td></td>\n",
       "      <td></td>\n",
       "      <td></td>\n",
       "      <td></td>\n",
       "      <td></td>\n",
       "      <td></td>\n",
       "      <td></td>\n",
       "      <td></td>\n",
       "    </tr>\n",
       "    <tr>\n",
       "      <th>58</th>\n",
       "      <td>24/01/2022</td>\n",
       "      <td>32933.0</td>\n",
       "      <td></td>\n",
       "      <td></td>\n",
       "      <td></td>\n",
       "      <td></td>\n",
       "      <td></td>\n",
       "      <td></td>\n",
       "      <td></td>\n",
       "      <td></td>\n",
       "      <td></td>\n",
       "    </tr>\n",
       "    <tr>\n",
       "      <th>59</th>\n",
       "      <td>24/02/2022</td>\n",
       "      <td>34425.0</td>\n",
       "      <td></td>\n",
       "      <td></td>\n",
       "      <td></td>\n",
       "      <td></td>\n",
       "      <td></td>\n",
       "      <td></td>\n",
       "      <td></td>\n",
       "      <td></td>\n",
       "      <td></td>\n",
       "    </tr>\n",
       "    <tr>\n",
       "      <th>60</th>\n",
       "      <td>29/03/2022</td>\n",
       "      <td>48192.0</td>\n",
       "      <td></td>\n",
       "      <td></td>\n",
       "      <td></td>\n",
       "      <td></td>\n",
       "      <td></td>\n",
       "      <td></td>\n",
       "      <td></td>\n",
       "      <td></td>\n",
       "      <td></td>\n",
       "    </tr>\n",
       "    <tr>\n",
       "      <th>61</th>\n",
       "      <td>18/06/2022</td>\n",
       "      <td>17600.0</td>\n",
       "      <td></td>\n",
       "      <td></td>\n",
       "      <td></td>\n",
       "      <td></td>\n",
       "      <td></td>\n",
       "      <td></td>\n",
       "      <td></td>\n",
       "      <td></td>\n",
       "      <td></td>\n",
       "    </tr>\n",
       "  </tbody>\n",
       "</table>\n",
       "<p>62 rows × 11 columns</p>\n",
       "</div>"
      ],
      "text/plain": [
       "          Date    Price       Earth         Mer         Ven         Mar  \\\n",
       "0   31/10/2008      0.0  01/11/2030  28/12/2030  24/12/2030  10/07/2029   \n",
       "1   03/01/2009      0.0  03/01/2029  26/11/2024  04/12/2029  12/09/2029   \n",
       "2   10/04/2013    290.0  30/01/2030  28/06/2025  29/12/2030  23/11/2029   \n",
       "3   03/07/2013    685.0                                                   \n",
       "4   05/10/2013    275.0  09/07/2030  26/08/2027  03/11/2030  28/03/2030   \n",
       "..         ...      ...         ...         ...         ...         ...   \n",
       "57  27/12/2021  52100.0                                                   \n",
       "58  24/01/2022  32933.0                                                   \n",
       "59  24/02/2022  34425.0                                                   \n",
       "60  29/03/2022  48192.0                                                   \n",
       "61  18/06/2022  17600.0                                                   \n",
       "\n",
       "           Jup         Sat         Ura         Nep         Plu  \n",
       "0   18/09/2020  02/11/2008  14/01/2009  20/02/2009  05/01/2009  \n",
       "1   16/11/2020  27/01/2009  14/01/2009  20/02/2009  05/01/2009  \n",
       "2   05/01/2023  07/08/2007  05/09/1995  09/09/1981  06/01/1984  \n",
       "3                           14/09/2004                          \n",
       "4   05/01/2023  29/11/2006  05/07/1992  22/03/1975  13/07/1978  \n",
       "..         ...         ...         ...         ...         ...  \n",
       "57                                                              \n",
       "58                                                              \n",
       "59                                                              \n",
       "60                                                              \n",
       "61                                                              \n",
       "\n",
       "[62 rows x 11 columns]"
      ]
     },
     "execution_count": 47,
     "metadata": {},
     "output_type": "execute_result"
    }
   ],
   "source": [
    "# PA_1\n",
    "\n",
    "# Copy price + Initialization of divides (1000,100,10,1,24,etc...)\n",
    "\n",
    "pa1 = output.copy()\n",
    "pa1.Price = pa1.Price / 1 # <- change here\n",
    "\n",
    "# Add price to all planets\n",
    "\n",
    "for i in pa1.columns[2:]:\n",
    "    pa1[i] = pa1[i] + pa1.Price\n",
    "\n",
    "# if > 360 then -360 so it can stay within the circle \n",
    "\n",
    "for i in pa1.columns[2:]:\n",
    "    for num, j in enumerate(pa1[i]):\n",
    "        j = float(j)\n",
    "        if j > 360:\n",
    "            x = j - 360\n",
    "            pa1[i].iloc[num] = x\n",
    "\n",
    "# for loop to catch which degrees is situated at which date in the future/past\n",
    "\n",
    "for planets in pa1.columns[2:]:\n",
    "    for num, i in enumerate(pa1[planets]):\n",
    "        df_copy = helio.copy()\n",
    "        target = df_copy[df_copy[planets] == float(i)]\n",
    "\n",
    "        Date = []\n",
    "\n",
    "        for date in target['Date']:\n",
    "            Date.append(date)\n",
    "\n",
    "        if len(Date) > 0:\n",
    "            Date_ok = Date[-1]\n",
    "            pa1[planets].iloc[num] = Date_ok\n",
    "        else:\n",
    "            pa1[planets].iloc[num] = \" \"\n",
    "\n",
    "pa1"
   ]
  },
  {
   "cell_type": "code",
   "execution_count": 48,
   "id": "801f55f5",
   "metadata": {},
   "outputs": [
    {
     "name": "stderr",
     "output_type": "stream",
     "text": [
      "c:\\Users\\ASUS\\AppData\\Local\\Programs\\Python\\Python39\\lib\\site-packages\\pandas\\core\\indexing.py:1732: SettingWithCopyWarning:\n",
      "\n",
      "\n",
      "A value is trying to be set on a copy of a slice from a DataFrame\n",
      "\n",
      "See the caveats in the documentation: https://pandas.pydata.org/pandas-docs/stable/user_guide/indexing.html#returning-a-view-versus-a-copy\n",
      "\n"
     ]
    },
    {
     "data": {
      "text/html": [
       "<div>\n",
       "<style scoped>\n",
       "    .dataframe tbody tr th:only-of-type {\n",
       "        vertical-align: middle;\n",
       "    }\n",
       "\n",
       "    .dataframe tbody tr th {\n",
       "        vertical-align: top;\n",
       "    }\n",
       "\n",
       "    .dataframe thead th {\n",
       "        text-align: right;\n",
       "    }\n",
       "</style>\n",
       "<table border=\"1\" class=\"dataframe\">\n",
       "  <thead>\n",
       "    <tr style=\"text-align: right;\">\n",
       "      <th></th>\n",
       "      <th>Date</th>\n",
       "      <th>Price</th>\n",
       "      <th>Earth</th>\n",
       "      <th>Mer</th>\n",
       "      <th>Ven</th>\n",
       "      <th>Mar</th>\n",
       "      <th>Jup</th>\n",
       "      <th>Sat</th>\n",
       "      <th>Ura</th>\n",
       "      <th>Nep</th>\n",
       "      <th>Plu</th>\n",
       "    </tr>\n",
       "  </thead>\n",
       "  <tbody>\n",
       "    <tr>\n",
       "      <th>0</th>\n",
       "      <td>31/10/2008</td>\n",
       "      <td>0.000000</td>\n",
       "      <td>01/11/2030</td>\n",
       "      <td>28/12/2030</td>\n",
       "      <td>24/12/2030</td>\n",
       "      <td>10/07/2029</td>\n",
       "      <td>18/09/2020</td>\n",
       "      <td>02/11/2008</td>\n",
       "      <td>14/01/2009</td>\n",
       "      <td>20/02/2009</td>\n",
       "      <td>05/01/2009</td>\n",
       "    </tr>\n",
       "    <tr>\n",
       "      <th>1</th>\n",
       "      <td>03/01/2009</td>\n",
       "      <td>0.000000</td>\n",
       "      <td>03/01/2029</td>\n",
       "      <td>26/11/2024</td>\n",
       "      <td>04/12/2029</td>\n",
       "      <td>12/09/2029</td>\n",
       "      <td>16/11/2020</td>\n",
       "      <td>27/01/2009</td>\n",
       "      <td>14/01/2009</td>\n",
       "      <td>20/02/2009</td>\n",
       "      <td>05/01/2009</td>\n",
       "    </tr>\n",
       "    <tr>\n",
       "      <th>2</th>\n",
       "      <td>10/04/2013</td>\n",
       "      <td>12.083333</td>\n",
       "      <td></td>\n",
       "      <td></td>\n",
       "      <td></td>\n",
       "      <td></td>\n",
       "      <td></td>\n",
       "      <td></td>\n",
       "      <td></td>\n",
       "      <td></td>\n",
       "      <td></td>\n",
       "    </tr>\n",
       "    <tr>\n",
       "      <th>3</th>\n",
       "      <td>03/07/2013</td>\n",
       "      <td>28.541667</td>\n",
       "      <td></td>\n",
       "      <td></td>\n",
       "      <td></td>\n",
       "      <td></td>\n",
       "      <td></td>\n",
       "      <td></td>\n",
       "      <td></td>\n",
       "      <td></td>\n",
       "      <td></td>\n",
       "    </tr>\n",
       "    <tr>\n",
       "      <th>4</th>\n",
       "      <td>05/10/2013</td>\n",
       "      <td>11.458333</td>\n",
       "      <td></td>\n",
       "      <td></td>\n",
       "      <td></td>\n",
       "      <td></td>\n",
       "      <td></td>\n",
       "      <td></td>\n",
       "      <td></td>\n",
       "      <td></td>\n",
       "      <td></td>\n",
       "    </tr>\n",
       "    <tr>\n",
       "      <th>...</th>\n",
       "      <td>...</td>\n",
       "      <td>...</td>\n",
       "      <td>...</td>\n",
       "      <td>...</td>\n",
       "      <td>...</td>\n",
       "      <td>...</td>\n",
       "      <td>...</td>\n",
       "      <td>...</td>\n",
       "      <td>...</td>\n",
       "      <td>...</td>\n",
       "      <td>...</td>\n",
       "    </tr>\n",
       "    <tr>\n",
       "      <th>57</th>\n",
       "      <td>27/12/2021</td>\n",
       "      <td>2170.833333</td>\n",
       "      <td></td>\n",
       "      <td></td>\n",
       "      <td></td>\n",
       "      <td></td>\n",
       "      <td></td>\n",
       "      <td></td>\n",
       "      <td></td>\n",
       "      <td></td>\n",
       "      <td></td>\n",
       "    </tr>\n",
       "    <tr>\n",
       "      <th>58</th>\n",
       "      <td>24/01/2022</td>\n",
       "      <td>1372.208333</td>\n",
       "      <td></td>\n",
       "      <td></td>\n",
       "      <td></td>\n",
       "      <td></td>\n",
       "      <td></td>\n",
       "      <td></td>\n",
       "      <td></td>\n",
       "      <td></td>\n",
       "      <td></td>\n",
       "    </tr>\n",
       "    <tr>\n",
       "      <th>59</th>\n",
       "      <td>24/02/2022</td>\n",
       "      <td>1434.375000</td>\n",
       "      <td></td>\n",
       "      <td></td>\n",
       "      <td></td>\n",
       "      <td></td>\n",
       "      <td></td>\n",
       "      <td></td>\n",
       "      <td></td>\n",
       "      <td></td>\n",
       "      <td></td>\n",
       "    </tr>\n",
       "    <tr>\n",
       "      <th>60</th>\n",
       "      <td>29/03/2022</td>\n",
       "      <td>2008.000000</td>\n",
       "      <td></td>\n",
       "      <td></td>\n",
       "      <td></td>\n",
       "      <td></td>\n",
       "      <td></td>\n",
       "      <td></td>\n",
       "      <td></td>\n",
       "      <td></td>\n",
       "      <td></td>\n",
       "    </tr>\n",
       "    <tr>\n",
       "      <th>61</th>\n",
       "      <td>18/06/2022</td>\n",
       "      <td>733.333333</td>\n",
       "      <td></td>\n",
       "      <td></td>\n",
       "      <td></td>\n",
       "      <td></td>\n",
       "      <td></td>\n",
       "      <td></td>\n",
       "      <td></td>\n",
       "      <td></td>\n",
       "      <td></td>\n",
       "    </tr>\n",
       "  </tbody>\n",
       "</table>\n",
       "<p>62 rows × 11 columns</p>\n",
       "</div>"
      ],
      "text/plain": [
       "          Date        Price       Earth         Mer         Ven         Mar  \\\n",
       "0   31/10/2008     0.000000  01/11/2030  28/12/2030  24/12/2030  10/07/2029   \n",
       "1   03/01/2009     0.000000  03/01/2029  26/11/2024  04/12/2029  12/09/2029   \n",
       "2   10/04/2013    12.083333                                                   \n",
       "3   03/07/2013    28.541667                                                   \n",
       "4   05/10/2013    11.458333                                                   \n",
       "..         ...          ...         ...         ...         ...         ...   \n",
       "57  27/12/2021  2170.833333                                                   \n",
       "58  24/01/2022  1372.208333                                                   \n",
       "59  24/02/2022  1434.375000                                                   \n",
       "60  29/03/2022  2008.000000                                                   \n",
       "61  18/06/2022   733.333333                                                   \n",
       "\n",
       "           Jup         Sat         Ura         Nep         Plu  \n",
       "0   18/09/2020  02/11/2008  14/01/2009  20/02/2009  05/01/2009  \n",
       "1   16/11/2020  27/01/2009  14/01/2009  20/02/2009  05/01/2009  \n",
       "2                                                               \n",
       "3                                                               \n",
       "4                                                               \n",
       "..         ...         ...         ...         ...         ...  \n",
       "57                                                              \n",
       "58                                                              \n",
       "59                                                              \n",
       "60                                                              \n",
       "61                                                              \n",
       "\n",
       "[62 rows x 11 columns]"
      ]
     },
     "execution_count": 48,
     "metadata": {},
     "output_type": "execute_result"
    }
   ],
   "source": [
    "# PA_24:\n",
    "\n",
    "# Copy price + Initialization of divides (1000,100,10,1,24,etc...)\n",
    "\n",
    "pa24 = output.copy()\n",
    "pa24.Price = pa24.Price / 24 # <- change here\n",
    "\n",
    "# Add price to all planets\n",
    "\n",
    "for i in pa24.columns[2:]:\n",
    "    pa24[i] = pa24[i] + pa24.Price\n",
    "\n",
    "# if > 360 then -360 so it can stay within the circle \n",
    "\n",
    "for i in pa24.columns[2:]:\n",
    "    for num, j in enumerate(pa24[i]):\n",
    "        j = float(j)\n",
    "        if j > 360:\n",
    "            x = j - 360\n",
    "            pa24[i].iloc[num] = x\n",
    "\n",
    "# for loop to catch which degrees is situated at which date in the future/past\n",
    "\n",
    "for planets in pa24.columns[2:]:\n",
    "    for num, i in enumerate(pa24[planets]):\n",
    "        df_copy = helio.copy()\n",
    "        target = df_copy[df_copy[planets] == float(i)]\n",
    "\n",
    "        Date = []\n",
    "\n",
    "        for date in target['Date']:\n",
    "            Date.append(date)\n",
    "\n",
    "        if len(Date) > 0:\n",
    "            Date_ok = Date[-1]\n",
    "            pa24[planets].iloc[num] = Date_ok\n",
    "        else:\n",
    "            pa24[planets].iloc[num] = \" \"\n",
    "\n",
    "pa24"
   ]
  },
  {
   "cell_type": "code",
   "execution_count": 49,
   "id": "9461624c",
   "metadata": {},
   "outputs": [
    {
     "name": "stderr",
     "output_type": "stream",
     "text": [
      "c:\\Users\\ASUS\\AppData\\Local\\Programs\\Python\\Python39\\lib\\site-packages\\pandas\\core\\indexing.py:1732: SettingWithCopyWarning:\n",
      "\n",
      "\n",
      "A value is trying to be set on a copy of a slice from a DataFrame\n",
      "\n",
      "See the caveats in the documentation: https://pandas.pydata.org/pandas-docs/stable/user_guide/indexing.html#returning-a-view-versus-a-copy\n",
      "\n"
     ]
    },
    {
     "data": {
      "text/html": [
       "<div>\n",
       "<style scoped>\n",
       "    .dataframe tbody tr th:only-of-type {\n",
       "        vertical-align: middle;\n",
       "    }\n",
       "\n",
       "    .dataframe tbody tr th {\n",
       "        vertical-align: top;\n",
       "    }\n",
       "\n",
       "    .dataframe thead th {\n",
       "        text-align: right;\n",
       "    }\n",
       "</style>\n",
       "<table border=\"1\" class=\"dataframe\">\n",
       "  <thead>\n",
       "    <tr style=\"text-align: right;\">\n",
       "      <th></th>\n",
       "      <th>Date</th>\n",
       "      <th>Price</th>\n",
       "      <th>Earth</th>\n",
       "      <th>Mer</th>\n",
       "      <th>Ven</th>\n",
       "      <th>Mar</th>\n",
       "      <th>Jup</th>\n",
       "      <th>Sat</th>\n",
       "      <th>Ura</th>\n",
       "      <th>Nep</th>\n",
       "      <th>Plu</th>\n",
       "    </tr>\n",
       "  </thead>\n",
       "  <tbody>\n",
       "    <tr>\n",
       "      <th>0</th>\n",
       "      <td>31/10/2008</td>\n",
       "      <td>0.000000</td>\n",
       "      <td>01/11/2030</td>\n",
       "      <td>28/12/2030</td>\n",
       "      <td>24/12/2030</td>\n",
       "      <td>10/07/2029</td>\n",
       "      <td>18/09/2020</td>\n",
       "      <td>02/11/2008</td>\n",
       "      <td>14/01/2009</td>\n",
       "      <td>20/02/2009</td>\n",
       "      <td>05/01/2009</td>\n",
       "    </tr>\n",
       "    <tr>\n",
       "      <th>1</th>\n",
       "      <td>03/01/2009</td>\n",
       "      <td>0.000000</td>\n",
       "      <td>03/01/2029</td>\n",
       "      <td>26/11/2024</td>\n",
       "      <td>04/12/2029</td>\n",
       "      <td>12/09/2029</td>\n",
       "      <td>16/11/2020</td>\n",
       "      <td>27/01/2009</td>\n",
       "      <td>14/01/2009</td>\n",
       "      <td>20/02/2009</td>\n",
       "      <td>05/01/2009</td>\n",
       "    </tr>\n",
       "    <tr>\n",
       "      <th>2</th>\n",
       "      <td>10/04/2013</td>\n",
       "      <td>1.102662</td>\n",
       "      <td></td>\n",
       "      <td></td>\n",
       "      <td></td>\n",
       "      <td></td>\n",
       "      <td></td>\n",
       "      <td></td>\n",
       "      <td></td>\n",
       "      <td></td>\n",
       "      <td></td>\n",
       "    </tr>\n",
       "    <tr>\n",
       "      <th>3</th>\n",
       "      <td>03/07/2013</td>\n",
       "      <td>2.604563</td>\n",
       "      <td></td>\n",
       "      <td></td>\n",
       "      <td></td>\n",
       "      <td></td>\n",
       "      <td></td>\n",
       "      <td></td>\n",
       "      <td></td>\n",
       "      <td></td>\n",
       "      <td></td>\n",
       "    </tr>\n",
       "    <tr>\n",
       "      <th>4</th>\n",
       "      <td>05/10/2013</td>\n",
       "      <td>1.045627</td>\n",
       "      <td></td>\n",
       "      <td></td>\n",
       "      <td></td>\n",
       "      <td></td>\n",
       "      <td></td>\n",
       "      <td></td>\n",
       "      <td></td>\n",
       "      <td></td>\n",
       "      <td></td>\n",
       "    </tr>\n",
       "    <tr>\n",
       "      <th>...</th>\n",
       "      <td>...</td>\n",
       "      <td>...</td>\n",
       "      <td>...</td>\n",
       "      <td>...</td>\n",
       "      <td>...</td>\n",
       "      <td>...</td>\n",
       "      <td>...</td>\n",
       "      <td>...</td>\n",
       "      <td>...</td>\n",
       "      <td>...</td>\n",
       "      <td>...</td>\n",
       "    </tr>\n",
       "    <tr>\n",
       "      <th>57</th>\n",
       "      <td>27/12/2021</td>\n",
       "      <td>198.098859</td>\n",
       "      <td></td>\n",
       "      <td></td>\n",
       "      <td></td>\n",
       "      <td></td>\n",
       "      <td></td>\n",
       "      <td></td>\n",
       "      <td></td>\n",
       "      <td></td>\n",
       "      <td></td>\n",
       "    </tr>\n",
       "    <tr>\n",
       "      <th>58</th>\n",
       "      <td>24/01/2022</td>\n",
       "      <td>125.220532</td>\n",
       "      <td></td>\n",
       "      <td></td>\n",
       "      <td></td>\n",
       "      <td></td>\n",
       "      <td></td>\n",
       "      <td></td>\n",
       "      <td></td>\n",
       "      <td></td>\n",
       "      <td></td>\n",
       "    </tr>\n",
       "    <tr>\n",
       "      <th>59</th>\n",
       "      <td>24/02/2022</td>\n",
       "      <td>130.893536</td>\n",
       "      <td></td>\n",
       "      <td></td>\n",
       "      <td></td>\n",
       "      <td></td>\n",
       "      <td></td>\n",
       "      <td></td>\n",
       "      <td></td>\n",
       "      <td></td>\n",
       "      <td></td>\n",
       "    </tr>\n",
       "    <tr>\n",
       "      <th>60</th>\n",
       "      <td>29/03/2022</td>\n",
       "      <td>183.239544</td>\n",
       "      <td></td>\n",
       "      <td></td>\n",
       "      <td></td>\n",
       "      <td></td>\n",
       "      <td></td>\n",
       "      <td></td>\n",
       "      <td></td>\n",
       "      <td></td>\n",
       "      <td></td>\n",
       "    </tr>\n",
       "    <tr>\n",
       "      <th>61</th>\n",
       "      <td>18/06/2022</td>\n",
       "      <td>66.920152</td>\n",
       "      <td></td>\n",
       "      <td></td>\n",
       "      <td></td>\n",
       "      <td></td>\n",
       "      <td></td>\n",
       "      <td></td>\n",
       "      <td></td>\n",
       "      <td></td>\n",
       "      <td></td>\n",
       "    </tr>\n",
       "  </tbody>\n",
       "</table>\n",
       "<p>62 rows × 11 columns</p>\n",
       "</div>"
      ],
      "text/plain": [
       "          Date       Price       Earth         Mer         Ven         Mar  \\\n",
       "0   31/10/2008    0.000000  01/11/2030  28/12/2030  24/12/2030  10/07/2029   \n",
       "1   03/01/2009    0.000000  03/01/2029  26/11/2024  04/12/2029  12/09/2029   \n",
       "2   10/04/2013    1.102662                                                   \n",
       "3   03/07/2013    2.604563                                                   \n",
       "4   05/10/2013    1.045627                                                   \n",
       "..         ...         ...         ...         ...         ...         ...   \n",
       "57  27/12/2021  198.098859                                                   \n",
       "58  24/01/2022  125.220532                                                   \n",
       "59  24/02/2022  130.893536                                                   \n",
       "60  29/03/2022  183.239544                                                   \n",
       "61  18/06/2022   66.920152                                                   \n",
       "\n",
       "           Jup         Sat         Ura         Nep         Plu  \n",
       "0   18/09/2020  02/11/2008  14/01/2009  20/02/2009  05/01/2009  \n",
       "1   16/11/2020  27/01/2009  14/01/2009  20/02/2009  05/01/2009  \n",
       "2                                                               \n",
       "3                                                               \n",
       "4                                                               \n",
       "..         ...         ...         ...         ...         ...  \n",
       "57                                                              \n",
       "58                                                              \n",
       "59                                                              \n",
       "60                                                              \n",
       "61                                                              \n",
       "\n",
       "[62 rows x 11 columns]"
      ]
     },
     "execution_count": 49,
     "metadata": {},
     "output_type": "execute_result"
    }
   ],
   "source": [
    "# PA_263:\n",
    "\n",
    "# Copy price + Initialization of divisions\n",
    "# (1000,100,10,1,24,etc...)\n",
    "\n",
    "pa263 = output.copy()\n",
    "pa263.Price = pa263.Price / 263 # <- change here\n",
    "\n",
    "# Add price to all planets\n",
    "\n",
    "for i in pa263.columns[2:]:\n",
    "    pa263[i] = pa263[i] + pa263.Price\n",
    "\n",
    "# if > 360 then -360 so it can stay within the circle \n",
    "\n",
    "for i in pa263.columns[2:]:\n",
    "    for num, j in enumerate(pa263[i]):\n",
    "        j = float(j)\n",
    "        if j > 360:\n",
    "            x = j - 360\n",
    "            pa263[i].iloc[num] = x\n",
    "\n",
    "# for loop to catch which degrees is situated at which date in the future/past\n",
    "\n",
    "for planets in pa263.columns[2:]:\n",
    "    for num, i in enumerate(pa263[planets]):\n",
    "        df_copy = helio.copy()\n",
    "        target = df_copy[df_copy[planets] == float(i)]\n",
    "\n",
    "        Date = []\n",
    "\n",
    "        for date in target['Date']:\n",
    "            Date.append(date)\n",
    "\n",
    "        if len(Date) > 0:\n",
    "            Date_ok = Date[-1]\n",
    "            pa263[planets].iloc[num] = Date_ok\n",
    "        else:\n",
    "            pa263[planets].iloc[num] = \" \"\n",
    "\n",
    "pa263"
   ]
  },
  {
   "cell_type": "code",
   "execution_count": 50,
   "id": "acd37c61",
   "metadata": {},
   "outputs": [
    {
     "name": "stderr",
     "output_type": "stream",
     "text": [
      "c:\\Users\\ASUS\\AppData\\Local\\Programs\\Python\\Python39\\lib\\site-packages\\pandas\\core\\indexing.py:1732: SettingWithCopyWarning:\n",
      "\n",
      "\n",
      "A value is trying to be set on a copy of a slice from a DataFrame\n",
      "\n",
      "See the caveats in the documentation: https://pandas.pydata.org/pandas-docs/stable/user_guide/indexing.html#returning-a-view-versus-a-copy\n",
      "\n"
     ]
    },
    {
     "data": {
      "text/html": [
       "<div>\n",
       "<style scoped>\n",
       "    .dataframe tbody tr th:only-of-type {\n",
       "        vertical-align: middle;\n",
       "    }\n",
       "\n",
       "    .dataframe tbody tr th {\n",
       "        vertical-align: top;\n",
       "    }\n",
       "\n",
       "    .dataframe thead th {\n",
       "        text-align: right;\n",
       "    }\n",
       "</style>\n",
       "<table border=\"1\" class=\"dataframe\">\n",
       "  <thead>\n",
       "    <tr style=\"text-align: right;\">\n",
       "      <th></th>\n",
       "      <th>Date</th>\n",
       "      <th>Price</th>\n",
       "      <th>Earth</th>\n",
       "      <th>Mer</th>\n",
       "      <th>Ven</th>\n",
       "      <th>Mar</th>\n",
       "      <th>Jup</th>\n",
       "      <th>Sat</th>\n",
       "      <th>Ura</th>\n",
       "      <th>Nep</th>\n",
       "      <th>Plu</th>\n",
       "    </tr>\n",
       "  </thead>\n",
       "  <tbody>\n",
       "    <tr>\n",
       "      <th>0</th>\n",
       "      <td>31/10/2008</td>\n",
       "      <td>0.000000</td>\n",
       "      <td>01/11/2030</td>\n",
       "      <td>28/12/2030</td>\n",
       "      <td>24/12/2030</td>\n",
       "      <td>10/07/2029</td>\n",
       "      <td>18/09/2020</td>\n",
       "      <td>02/11/2008</td>\n",
       "      <td>14/01/2009</td>\n",
       "      <td>20/02/2009</td>\n",
       "      <td>05/01/2009</td>\n",
       "    </tr>\n",
       "    <tr>\n",
       "      <th>1</th>\n",
       "      <td>03/01/2009</td>\n",
       "      <td>0.000000</td>\n",
       "      <td>03/01/2029</td>\n",
       "      <td>26/11/2024</td>\n",
       "      <td>04/12/2029</td>\n",
       "      <td>12/09/2029</td>\n",
       "      <td>16/11/2020</td>\n",
       "      <td>27/01/2009</td>\n",
       "      <td>14/01/2009</td>\n",
       "      <td>20/02/2009</td>\n",
       "      <td>05/01/2009</td>\n",
       "    </tr>\n",
       "    <tr>\n",
       "      <th>2</th>\n",
       "      <td>10/04/2013</td>\n",
       "      <td>0.201389</td>\n",
       "      <td></td>\n",
       "      <td></td>\n",
       "      <td></td>\n",
       "      <td></td>\n",
       "      <td></td>\n",
       "      <td></td>\n",
       "      <td></td>\n",
       "      <td></td>\n",
       "      <td></td>\n",
       "    </tr>\n",
       "    <tr>\n",
       "      <th>3</th>\n",
       "      <td>03/07/2013</td>\n",
       "      <td>0.475694</td>\n",
       "      <td></td>\n",
       "      <td></td>\n",
       "      <td></td>\n",
       "      <td></td>\n",
       "      <td></td>\n",
       "      <td></td>\n",
       "      <td></td>\n",
       "      <td></td>\n",
       "      <td></td>\n",
       "    </tr>\n",
       "    <tr>\n",
       "      <th>4</th>\n",
       "      <td>05/10/2013</td>\n",
       "      <td>0.190972</td>\n",
       "      <td></td>\n",
       "      <td></td>\n",
       "      <td></td>\n",
       "      <td></td>\n",
       "      <td></td>\n",
       "      <td></td>\n",
       "      <td></td>\n",
       "      <td></td>\n",
       "      <td></td>\n",
       "    </tr>\n",
       "    <tr>\n",
       "      <th>...</th>\n",
       "      <td>...</td>\n",
       "      <td>...</td>\n",
       "      <td>...</td>\n",
       "      <td>...</td>\n",
       "      <td>...</td>\n",
       "      <td>...</td>\n",
       "      <td>...</td>\n",
       "      <td>...</td>\n",
       "      <td>...</td>\n",
       "      <td>...</td>\n",
       "      <td>...</td>\n",
       "    </tr>\n",
       "    <tr>\n",
       "      <th>57</th>\n",
       "      <td>27/12/2021</td>\n",
       "      <td>36.180556</td>\n",
       "      <td></td>\n",
       "      <td></td>\n",
       "      <td></td>\n",
       "      <td></td>\n",
       "      <td></td>\n",
       "      <td></td>\n",
       "      <td></td>\n",
       "      <td></td>\n",
       "      <td></td>\n",
       "    </tr>\n",
       "    <tr>\n",
       "      <th>58</th>\n",
       "      <td>24/01/2022</td>\n",
       "      <td>22.870139</td>\n",
       "      <td></td>\n",
       "      <td></td>\n",
       "      <td></td>\n",
       "      <td></td>\n",
       "      <td></td>\n",
       "      <td></td>\n",
       "      <td></td>\n",
       "      <td></td>\n",
       "      <td></td>\n",
       "    </tr>\n",
       "    <tr>\n",
       "      <th>59</th>\n",
       "      <td>24/02/2022</td>\n",
       "      <td>23.906250</td>\n",
       "      <td></td>\n",
       "      <td></td>\n",
       "      <td></td>\n",
       "      <td></td>\n",
       "      <td></td>\n",
       "      <td></td>\n",
       "      <td></td>\n",
       "      <td></td>\n",
       "      <td></td>\n",
       "    </tr>\n",
       "    <tr>\n",
       "      <th>60</th>\n",
       "      <td>29/03/2022</td>\n",
       "      <td>33.466667</td>\n",
       "      <td></td>\n",
       "      <td></td>\n",
       "      <td></td>\n",
       "      <td></td>\n",
       "      <td></td>\n",
       "      <td></td>\n",
       "      <td></td>\n",
       "      <td></td>\n",
       "      <td></td>\n",
       "    </tr>\n",
       "    <tr>\n",
       "      <th>61</th>\n",
       "      <td>18/06/2022</td>\n",
       "      <td>12.222222</td>\n",
       "      <td></td>\n",
       "      <td></td>\n",
       "      <td></td>\n",
       "      <td></td>\n",
       "      <td></td>\n",
       "      <td></td>\n",
       "      <td></td>\n",
       "      <td></td>\n",
       "      <td></td>\n",
       "    </tr>\n",
       "  </tbody>\n",
       "</table>\n",
       "<p>62 rows × 11 columns</p>\n",
       "</div>"
      ],
      "text/plain": [
       "          Date      Price       Earth         Mer         Ven         Mar  \\\n",
       "0   31/10/2008   0.000000  01/11/2030  28/12/2030  24/12/2030  10/07/2029   \n",
       "1   03/01/2009   0.000000  03/01/2029  26/11/2024  04/12/2029  12/09/2029   \n",
       "2   10/04/2013   0.201389                                                   \n",
       "3   03/07/2013   0.475694                                                   \n",
       "4   05/10/2013   0.190972                                                   \n",
       "..         ...        ...         ...         ...         ...         ...   \n",
       "57  27/12/2021  36.180556                                                   \n",
       "58  24/01/2022  22.870139                                                   \n",
       "59  24/02/2022  23.906250                                                   \n",
       "60  29/03/2022  33.466667                                                   \n",
       "61  18/06/2022  12.222222                                                   \n",
       "\n",
       "           Jup         Sat         Ura         Nep         Plu  \n",
       "0   18/09/2020  02/11/2008  14/01/2009  20/02/2009  05/01/2009  \n",
       "1   16/11/2020  27/01/2009  14/01/2009  20/02/2009  05/01/2009  \n",
       "2                                                               \n",
       "3                                                               \n",
       "4                                                               \n",
       "..         ...         ...         ...         ...         ...  \n",
       "57                                                              \n",
       "58                                                              \n",
       "59                                                              \n",
       "60                                                              \n",
       "61                                                              \n",
       "\n",
       "[62 rows x 11 columns]"
      ]
     },
     "execution_count": 50,
     "metadata": {},
     "output_type": "execute_result"
    }
   ],
   "source": [
    "# PA_1440:\n",
    "\n",
    "# Copy price + Initialization of divides (1000,100,10,1,24,etc...)\n",
    "\n",
    "pa1440 = output.copy()\n",
    "pa1440.Price = pa1440.Price / 1440 # <- change here\n",
    "\n",
    "# Add price to all planets\n",
    "\n",
    "for i in pa1440.columns[2:]:\n",
    "    pa1440[i] = pa1440[i] + pa1440.Price\n",
    "\n",
    "# if > 360 then -360 so it can stay within the circle \n",
    "\n",
    "for i in pa1440.columns[2:]:\n",
    "    for num, j in enumerate(pa1440[i]):\n",
    "        j = float(j)\n",
    "        if j > 360:\n",
    "            x = j - 360\n",
    "            pa1440[i].iloc[num] = x\n",
    "\n",
    "# for loop to catch which degrees is situated at which date in the future/past\n",
    "\n",
    "for planets in pa1440.columns[2:]:\n",
    "    for num, i in enumerate(pa1440[planets]):\n",
    "        df_copy = helio.copy()\n",
    "        target = df_copy[df_copy[planets] == float(i)]\n",
    "\n",
    "        Date = []\n",
    "\n",
    "        for date in target['Date']:\n",
    "            Date.append(date)\n",
    "\n",
    "        if len(Date) > 0:\n",
    "            Date_ok = Date[-1]\n",
    "            pa1440[planets].iloc[num] = Date_ok\n",
    "        else:\n",
    "            pa1440[planets].iloc[num] = \" \"\n",
    "\n",
    "pa1440"
   ]
  },
  {
   "cell_type": "markdown",
   "id": "15eb8994",
   "metadata": {},
   "source": [
    "#### **HIT addP**"
   ]
  },
  {
   "cell_type": "code",
   "execution_count": 51,
   "id": "bd55d0d0",
   "metadata": {},
   "outputs": [
    {
     "data": {
      "text/html": [
       "<style type=\"text/css\">\n",
       "#T_0fadb_row0_col1, #T_0fadb_row1_col1, #T_0fadb_row2_col1, #T_0fadb_row3_col1, #T_0fadb_row4_col1, #T_0fadb_row5_col1, #T_0fadb_row7_col1, #T_0fadb_row8_col1, #T_0fadb_row9_col1, #T_0fadb_row10_col1 {\n",
       "  background-color: #f7fbff;\n",
       "  color: #000000;\n",
       "}\n",
       "#T_0fadb_row6_col1 {\n",
       "  background-color: #08306b;\n",
       "  color: #f1f1f1;\n",
       "}\n",
       "</style>\n",
       "<table id=\"T_0fadb_\">\n",
       "  <thead>\n",
       "    <tr>\n",
       "      <th class=\"blank level0\" >&nbsp;</th>\n",
       "      <th class=\"col_heading level0 col0\" >Date</th>\n",
       "      <th class=\"col_heading level0 col1\" >Hit</th>\n",
       "    </tr>\n",
       "  </thead>\n",
       "  <tbody>\n",
       "    <tr>\n",
       "      <th id=\"T_0fadb_level0_row0\" class=\"row_heading level0 row0\" >83</th>\n",
       "      <td id=\"T_0fadb_row0_col0\" class=\"data row0 col0\" >2022-11-29 00:00:00</td>\n",
       "      <td id=\"T_0fadb_row0_col1\" class=\"data row0 col1\" >1</td>\n",
       "    </tr>\n",
       "    <tr>\n",
       "      <th id=\"T_0fadb_level0_row1\" class=\"row_heading level0 row1\" >103</th>\n",
       "      <td id=\"T_0fadb_row1_col0\" class=\"data row1 col0\" >2022-12-22 00:00:00</td>\n",
       "      <td id=\"T_0fadb_row1_col1\" class=\"data row1 col1\" >1</td>\n",
       "    </tr>\n",
       "    <tr>\n",
       "      <th id=\"T_0fadb_level0_row2\" class=\"row_heading level0 row2\" >98</th>\n",
       "      <td id=\"T_0fadb_row2_col0\" class=\"data row2 col0\" >2023-02-24 00:00:00</td>\n",
       "      <td id=\"T_0fadb_row2_col1\" class=\"data row2 col1\" >1</td>\n",
       "    </tr>\n",
       "    <tr>\n",
       "      <th id=\"T_0fadb_level0_row3\" class=\"row_heading level0 row3\" >24</th>\n",
       "      <td id=\"T_0fadb_row3_col0\" class=\"data row3 col0\" >2023-06-30 00:00:00</td>\n",
       "      <td id=\"T_0fadb_row3_col1\" class=\"data row3 col1\" >1</td>\n",
       "    </tr>\n",
       "    <tr>\n",
       "      <th id=\"T_0fadb_level0_row4\" class=\"row_heading level0 row4\" >108</th>\n",
       "      <td id=\"T_0fadb_row4_col0\" class=\"data row4 col0\" >2023-07-31 00:00:00</td>\n",
       "      <td id=\"T_0fadb_row4_col1\" class=\"data row4 col1\" >1</td>\n",
       "    </tr>\n",
       "    <tr>\n",
       "      <th id=\"T_0fadb_level0_row5\" class=\"row_heading level0 row5\" >3</th>\n",
       "      <td id=\"T_0fadb_row5_col0\" class=\"data row5 col0\" >2023-11-12 00:00:00</td>\n",
       "      <td id=\"T_0fadb_row5_col1\" class=\"data row5 col1\" >1</td>\n",
       "    </tr>\n",
       "    <tr>\n",
       "      <th id=\"T_0fadb_level0_row6\" class=\"row_heading level0 row6\" >236</th>\n",
       "      <td id=\"T_0fadb_row6_col0\" class=\"data row6 col0\" >2024-11-26 00:00:00</td>\n",
       "      <td id=\"T_0fadb_row6_col1\" class=\"data row6 col1\" >7</td>\n",
       "    </tr>\n",
       "    <tr>\n",
       "      <th id=\"T_0fadb_level0_row7\" class=\"row_heading level0 row7\" >155</th>\n",
       "      <td id=\"T_0fadb_row7_col0\" class=\"data row7 col0\" >2025-02-24 00:00:00</td>\n",
       "      <td id=\"T_0fadb_row7_col1\" class=\"data row7 col1\" >1</td>\n",
       "    </tr>\n",
       "    <tr>\n",
       "      <th id=\"T_0fadb_level0_row8\" class=\"row_heading level0 row8\" >80</th>\n",
       "      <td id=\"T_0fadb_row8_col0\" class=\"data row8 col0\" >2025-05-22 00:00:00</td>\n",
       "      <td id=\"T_0fadb_row8_col1\" class=\"data row8 col1\" >1</td>\n",
       "    </tr>\n",
       "    <tr>\n",
       "      <th id=\"T_0fadb_level0_row9\" class=\"row_heading level0 row9\" >168</th>\n",
       "      <td id=\"T_0fadb_row9_col0\" class=\"data row9 col0\" >2025-06-28 00:00:00</td>\n",
       "      <td id=\"T_0fadb_row9_col1\" class=\"data row9 col1\" >1</td>\n",
       "    </tr>\n",
       "    <tr>\n",
       "      <th id=\"T_0fadb_level0_row10\" class=\"row_heading level0 row10\" >15</th>\n",
       "      <td id=\"T_0fadb_row10_col0\" class=\"data row10 col0\" >2025-11-21 00:00:00</td>\n",
       "      <td id=\"T_0fadb_row10_col1\" class=\"data row10 col1\" >1</td>\n",
       "    </tr>\n",
       "  </tbody>\n",
       "</table>\n"
      ],
      "text/plain": [
       "<pandas.io.formats.style.Styler at 0x21175f4bfa0>"
      ]
     },
     "execution_count": 51,
     "metadata": {},
     "output_type": "execute_result"
    }
   ],
   "source": [
    "total_p = pd.concat([pa1k, pa100, pa10, pa1, pa24, pa263, pa1440])\n",
    "\n",
    "adpod = total_p.copy()\n",
    "adpod = adpod.drop(['Price'], axis=1)\n",
    "\n",
    "good = adpod[1:].unstack().value_counts(ascending=True)\n",
    "\n",
    "good = pd.DataFrame(good, columns=['Hit'])\n",
    "\n",
    "good = good.reset_index()\n",
    "good = good.rename_axis('E', axis=1)\n",
    "good.columns = good.columns.str.replace('index', 'Date')\n",
    "good = good.rename_axis(None, axis=1)\n",
    "\n",
    "start_date = \"10/08/2022\"\n",
    "end_date = \"31/12/2025\"\n",
    "\n",
    "mask = (good['Date'] > start_date) & (good['Date'] <= end_date)\n",
    "good = good.loc[mask]\n",
    "\n",
    "# addp_hits.head(50)\n",
    "\n",
    "good = good.sort_values(by=['Date'], ascending=True)\n",
    "\n",
    "good['Date'] = good['Date'].apply(pd.to_datetime)\n",
    "\n",
    "start_date = \"10/08/2022\"\n",
    "end_date = \"31/12/2025\"\n",
    "\n",
    "mask = (good['Date'] > start_date) & (good['Date'] <= end_date)\n",
    "good = good.loc[mask]\n",
    "\n",
    "# addp_hits.head(50)\n",
    "\n",
    "good = good.sort_values(by=['Date'], ascending=True)\n",
    "good.style.background_gradient(cmap='Blues')"
   ]
  },
  {
   "cell_type": "code",
   "execution_count": 52,
   "id": "8f4c5c71",
   "metadata": {},
   "outputs": [
    {
     "data": {
      "text/html": [
       "<div>\n",
       "<style scoped>\n",
       "    .dataframe tbody tr th:only-of-type {\n",
       "        vertical-align: middle;\n",
       "    }\n",
       "\n",
       "    .dataframe tbody tr th {\n",
       "        vertical-align: top;\n",
       "    }\n",
       "\n",
       "    .dataframe thead th {\n",
       "        text-align: right;\n",
       "    }\n",
       "</style>\n",
       "<table border=\"1\" class=\"dataframe\">\n",
       "  <thead>\n",
       "    <tr style=\"text-align: right;\">\n",
       "      <th></th>\n",
       "      <th>Date</th>\n",
       "      <th>Hit</th>\n",
       "    </tr>\n",
       "  </thead>\n",
       "  <tbody>\n",
       "    <tr>\n",
       "      <th>83</th>\n",
       "      <td>2022-11-29</td>\n",
       "      <td>1</td>\n",
       "    </tr>\n",
       "    <tr>\n",
       "      <th>103</th>\n",
       "      <td>2022-12-22</td>\n",
       "      <td>1</td>\n",
       "    </tr>\n",
       "    <tr>\n",
       "      <th>98</th>\n",
       "      <td>2023-02-24</td>\n",
       "      <td>1</td>\n",
       "    </tr>\n",
       "    <tr>\n",
       "      <th>24</th>\n",
       "      <td>2023-06-30</td>\n",
       "      <td>1</td>\n",
       "    </tr>\n",
       "    <tr>\n",
       "      <th>108</th>\n",
       "      <td>2023-07-31</td>\n",
       "      <td>1</td>\n",
       "    </tr>\n",
       "    <tr>\n",
       "      <th>3</th>\n",
       "      <td>2023-11-12</td>\n",
       "      <td>1</td>\n",
       "    </tr>\n",
       "    <tr>\n",
       "      <th>236</th>\n",
       "      <td>2024-11-26</td>\n",
       "      <td>7</td>\n",
       "    </tr>\n",
       "    <tr>\n",
       "      <th>155</th>\n",
       "      <td>2025-02-24</td>\n",
       "      <td>1</td>\n",
       "    </tr>\n",
       "    <tr>\n",
       "      <th>80</th>\n",
       "      <td>2025-05-22</td>\n",
       "      <td>1</td>\n",
       "    </tr>\n",
       "    <tr>\n",
       "      <th>168</th>\n",
       "      <td>2025-06-28</td>\n",
       "      <td>1</td>\n",
       "    </tr>\n",
       "    <tr>\n",
       "      <th>15</th>\n",
       "      <td>2025-11-21</td>\n",
       "      <td>1</td>\n",
       "    </tr>\n",
       "  </tbody>\n",
       "</table>\n",
       "</div>"
      ],
      "text/plain": [
       "          Date  Hit\n",
       "83  2022-11-29    1\n",
       "103 2022-12-22    1\n",
       "98  2023-02-24    1\n",
       "24  2023-06-30    1\n",
       "108 2023-07-31    1\n",
       "3   2023-11-12    1\n",
       "236 2024-11-26    7\n",
       "155 2025-02-24    1\n",
       "80  2025-05-22    1\n",
       "168 2025-06-28    1\n",
       "15  2025-11-21    1"
      ]
     },
     "execution_count": 52,
     "metadata": {},
     "output_type": "execute_result"
    }
   ],
   "source": [
    "dz_ADDP = good.head(30)\n",
    "dz_ADDP.to_csv(os.path.join('C://Users//ASUS//Desktop//ASTROTOOL//streamlit//data','addPrice.csv'), index= False)\n",
    "dz_ADDP"
   ]
  },
  {
   "cell_type": "markdown",
   "id": "d512f09b",
   "metadata": {},
   "source": [
    "## 2. Result"
   ]
  },
  {
   "cell_type": "code",
   "execution_count": 53,
   "id": "1460a2b4",
   "metadata": {},
   "outputs": [
    {
     "data": {
      "application/vnd.plotly.v1+json": {
       "config": {
        "plotlyServerURL": "https://plot.ly"
       },
       "data": [
        {
         "alignmentgroup": "True",
         "hovertemplate": "Date=%{x}<br>Hit=%{y}<extra></extra>",
         "legendgroup": "",
         "marker": {
          "color": "#636efa",
          "pattern": {
           "shape": ""
          }
         },
         "name": "",
         "offsetgroup": "",
         "orientation": "v",
         "showlegend": false,
         "textposition": "auto",
         "type": "bar",
         "x": [
          "2022-11-29T00:00:00",
          "2022-12-22T00:00:00",
          "2023-02-24T00:00:00",
          "2023-06-30T00:00:00",
          "2023-07-31T00:00:00",
          "2023-11-12T00:00:00",
          "2024-11-26T00:00:00",
          "2025-02-24T00:00:00",
          "2025-05-22T00:00:00",
          "2025-06-28T00:00:00",
          "2025-11-21T00:00:00"
         ],
         "xaxis": "x",
         "y": [
          1,
          1,
          1,
          1,
          1,
          1,
          7,
          1,
          1,
          1,
          1
         ],
         "yaxis": "y"
        }
       ],
       "layout": {
        "barmode": "relative",
        "legend": {
         "tracegroupgap": 0
        },
        "margin": {
         "t": 60
        },
        "template": {
         "data": {
          "bar": [
           {
            "error_x": {
             "color": "#2a3f5f"
            },
            "error_y": {
             "color": "#2a3f5f"
            },
            "marker": {
             "line": {
              "color": "#E5ECF6",
              "width": 0.5
             },
             "pattern": {
              "fillmode": "overlay",
              "size": 10,
              "solidity": 0.2
             }
            },
            "type": "bar"
           }
          ],
          "barpolar": [
           {
            "marker": {
             "line": {
              "color": "#E5ECF6",
              "width": 0.5
             },
             "pattern": {
              "fillmode": "overlay",
              "size": 10,
              "solidity": 0.2
             }
            },
            "type": "barpolar"
           }
          ],
          "carpet": [
           {
            "aaxis": {
             "endlinecolor": "#2a3f5f",
             "gridcolor": "white",
             "linecolor": "white",
             "minorgridcolor": "white",
             "startlinecolor": "#2a3f5f"
            },
            "baxis": {
             "endlinecolor": "#2a3f5f",
             "gridcolor": "white",
             "linecolor": "white",
             "minorgridcolor": "white",
             "startlinecolor": "#2a3f5f"
            },
            "type": "carpet"
           }
          ],
          "choropleth": [
           {
            "colorbar": {
             "outlinewidth": 0,
             "ticks": ""
            },
            "type": "choropleth"
           }
          ],
          "contour": [
           {
            "colorbar": {
             "outlinewidth": 0,
             "ticks": ""
            },
            "colorscale": [
             [
              0,
              "#0d0887"
             ],
             [
              0.1111111111111111,
              "#46039f"
             ],
             [
              0.2222222222222222,
              "#7201a8"
             ],
             [
              0.3333333333333333,
              "#9c179e"
             ],
             [
              0.4444444444444444,
              "#bd3786"
             ],
             [
              0.5555555555555556,
              "#d8576b"
             ],
             [
              0.6666666666666666,
              "#ed7953"
             ],
             [
              0.7777777777777778,
              "#fb9f3a"
             ],
             [
              0.8888888888888888,
              "#fdca26"
             ],
             [
              1,
              "#f0f921"
             ]
            ],
            "type": "contour"
           }
          ],
          "contourcarpet": [
           {
            "colorbar": {
             "outlinewidth": 0,
             "ticks": ""
            },
            "type": "contourcarpet"
           }
          ],
          "heatmap": [
           {
            "colorbar": {
             "outlinewidth": 0,
             "ticks": ""
            },
            "colorscale": [
             [
              0,
              "#0d0887"
             ],
             [
              0.1111111111111111,
              "#46039f"
             ],
             [
              0.2222222222222222,
              "#7201a8"
             ],
             [
              0.3333333333333333,
              "#9c179e"
             ],
             [
              0.4444444444444444,
              "#bd3786"
             ],
             [
              0.5555555555555556,
              "#d8576b"
             ],
             [
              0.6666666666666666,
              "#ed7953"
             ],
             [
              0.7777777777777778,
              "#fb9f3a"
             ],
             [
              0.8888888888888888,
              "#fdca26"
             ],
             [
              1,
              "#f0f921"
             ]
            ],
            "type": "heatmap"
           }
          ],
          "heatmapgl": [
           {
            "colorbar": {
             "outlinewidth": 0,
             "ticks": ""
            },
            "colorscale": [
             [
              0,
              "#0d0887"
             ],
             [
              0.1111111111111111,
              "#46039f"
             ],
             [
              0.2222222222222222,
              "#7201a8"
             ],
             [
              0.3333333333333333,
              "#9c179e"
             ],
             [
              0.4444444444444444,
              "#bd3786"
             ],
             [
              0.5555555555555556,
              "#d8576b"
             ],
             [
              0.6666666666666666,
              "#ed7953"
             ],
             [
              0.7777777777777778,
              "#fb9f3a"
             ],
             [
              0.8888888888888888,
              "#fdca26"
             ],
             [
              1,
              "#f0f921"
             ]
            ],
            "type": "heatmapgl"
           }
          ],
          "histogram": [
           {
            "marker": {
             "pattern": {
              "fillmode": "overlay",
              "size": 10,
              "solidity": 0.2
             }
            },
            "type": "histogram"
           }
          ],
          "histogram2d": [
           {
            "colorbar": {
             "outlinewidth": 0,
             "ticks": ""
            },
            "colorscale": [
             [
              0,
              "#0d0887"
             ],
             [
              0.1111111111111111,
              "#46039f"
             ],
             [
              0.2222222222222222,
              "#7201a8"
             ],
             [
              0.3333333333333333,
              "#9c179e"
             ],
             [
              0.4444444444444444,
              "#bd3786"
             ],
             [
              0.5555555555555556,
              "#d8576b"
             ],
             [
              0.6666666666666666,
              "#ed7953"
             ],
             [
              0.7777777777777778,
              "#fb9f3a"
             ],
             [
              0.8888888888888888,
              "#fdca26"
             ],
             [
              1,
              "#f0f921"
             ]
            ],
            "type": "histogram2d"
           }
          ],
          "histogram2dcontour": [
           {
            "colorbar": {
             "outlinewidth": 0,
             "ticks": ""
            },
            "colorscale": [
             [
              0,
              "#0d0887"
             ],
             [
              0.1111111111111111,
              "#46039f"
             ],
             [
              0.2222222222222222,
              "#7201a8"
             ],
             [
              0.3333333333333333,
              "#9c179e"
             ],
             [
              0.4444444444444444,
              "#bd3786"
             ],
             [
              0.5555555555555556,
              "#d8576b"
             ],
             [
              0.6666666666666666,
              "#ed7953"
             ],
             [
              0.7777777777777778,
              "#fb9f3a"
             ],
             [
              0.8888888888888888,
              "#fdca26"
             ],
             [
              1,
              "#f0f921"
             ]
            ],
            "type": "histogram2dcontour"
           }
          ],
          "mesh3d": [
           {
            "colorbar": {
             "outlinewidth": 0,
             "ticks": ""
            },
            "type": "mesh3d"
           }
          ],
          "parcoords": [
           {
            "line": {
             "colorbar": {
              "outlinewidth": 0,
              "ticks": ""
             }
            },
            "type": "parcoords"
           }
          ],
          "pie": [
           {
            "automargin": true,
            "type": "pie"
           }
          ],
          "scatter": [
           {
            "marker": {
             "colorbar": {
              "outlinewidth": 0,
              "ticks": ""
             }
            },
            "type": "scatter"
           }
          ],
          "scatter3d": [
           {
            "line": {
             "colorbar": {
              "outlinewidth": 0,
              "ticks": ""
             }
            },
            "marker": {
             "colorbar": {
              "outlinewidth": 0,
              "ticks": ""
             }
            },
            "type": "scatter3d"
           }
          ],
          "scattercarpet": [
           {
            "marker": {
             "colorbar": {
              "outlinewidth": 0,
              "ticks": ""
             }
            },
            "type": "scattercarpet"
           }
          ],
          "scattergeo": [
           {
            "marker": {
             "colorbar": {
              "outlinewidth": 0,
              "ticks": ""
             }
            },
            "type": "scattergeo"
           }
          ],
          "scattergl": [
           {
            "marker": {
             "colorbar": {
              "outlinewidth": 0,
              "ticks": ""
             }
            },
            "type": "scattergl"
           }
          ],
          "scattermapbox": [
           {
            "marker": {
             "colorbar": {
              "outlinewidth": 0,
              "ticks": ""
             }
            },
            "type": "scattermapbox"
           }
          ],
          "scatterpolar": [
           {
            "marker": {
             "colorbar": {
              "outlinewidth": 0,
              "ticks": ""
             }
            },
            "type": "scatterpolar"
           }
          ],
          "scatterpolargl": [
           {
            "marker": {
             "colorbar": {
              "outlinewidth": 0,
              "ticks": ""
             }
            },
            "type": "scatterpolargl"
           }
          ],
          "scatterternary": [
           {
            "marker": {
             "colorbar": {
              "outlinewidth": 0,
              "ticks": ""
             }
            },
            "type": "scatterternary"
           }
          ],
          "surface": [
           {
            "colorbar": {
             "outlinewidth": 0,
             "ticks": ""
            },
            "colorscale": [
             [
              0,
              "#0d0887"
             ],
             [
              0.1111111111111111,
              "#46039f"
             ],
             [
              0.2222222222222222,
              "#7201a8"
             ],
             [
              0.3333333333333333,
              "#9c179e"
             ],
             [
              0.4444444444444444,
              "#bd3786"
             ],
             [
              0.5555555555555556,
              "#d8576b"
             ],
             [
              0.6666666666666666,
              "#ed7953"
             ],
             [
              0.7777777777777778,
              "#fb9f3a"
             ],
             [
              0.8888888888888888,
              "#fdca26"
             ],
             [
              1,
              "#f0f921"
             ]
            ],
            "type": "surface"
           }
          ],
          "table": [
           {
            "cells": {
             "fill": {
              "color": "#EBF0F8"
             },
             "line": {
              "color": "white"
             }
            },
            "header": {
             "fill": {
              "color": "#C8D4E3"
             },
             "line": {
              "color": "white"
             }
            },
            "type": "table"
           }
          ]
         },
         "layout": {
          "annotationdefaults": {
           "arrowcolor": "#2a3f5f",
           "arrowhead": 0,
           "arrowwidth": 1
          },
          "autotypenumbers": "strict",
          "coloraxis": {
           "colorbar": {
            "outlinewidth": 0,
            "ticks": ""
           }
          },
          "colorscale": {
           "diverging": [
            [
             0,
             "#8e0152"
            ],
            [
             0.1,
             "#c51b7d"
            ],
            [
             0.2,
             "#de77ae"
            ],
            [
             0.3,
             "#f1b6da"
            ],
            [
             0.4,
             "#fde0ef"
            ],
            [
             0.5,
             "#f7f7f7"
            ],
            [
             0.6,
             "#e6f5d0"
            ],
            [
             0.7,
             "#b8e186"
            ],
            [
             0.8,
             "#7fbc41"
            ],
            [
             0.9,
             "#4d9221"
            ],
            [
             1,
             "#276419"
            ]
           ],
           "sequential": [
            [
             0,
             "#0d0887"
            ],
            [
             0.1111111111111111,
             "#46039f"
            ],
            [
             0.2222222222222222,
             "#7201a8"
            ],
            [
             0.3333333333333333,
             "#9c179e"
            ],
            [
             0.4444444444444444,
             "#bd3786"
            ],
            [
             0.5555555555555556,
             "#d8576b"
            ],
            [
             0.6666666666666666,
             "#ed7953"
            ],
            [
             0.7777777777777778,
             "#fb9f3a"
            ],
            [
             0.8888888888888888,
             "#fdca26"
            ],
            [
             1,
             "#f0f921"
            ]
           ],
           "sequentialminus": [
            [
             0,
             "#0d0887"
            ],
            [
             0.1111111111111111,
             "#46039f"
            ],
            [
             0.2222222222222222,
             "#7201a8"
            ],
            [
             0.3333333333333333,
             "#9c179e"
            ],
            [
             0.4444444444444444,
             "#bd3786"
            ],
            [
             0.5555555555555556,
             "#d8576b"
            ],
            [
             0.6666666666666666,
             "#ed7953"
            ],
            [
             0.7777777777777778,
             "#fb9f3a"
            ],
            [
             0.8888888888888888,
             "#fdca26"
            ],
            [
             1,
             "#f0f921"
            ]
           ]
          },
          "colorway": [
           "#636efa",
           "#EF553B",
           "#00cc96",
           "#ab63fa",
           "#FFA15A",
           "#19d3f3",
           "#FF6692",
           "#B6E880",
           "#FF97FF",
           "#FECB52"
          ],
          "font": {
           "color": "#2a3f5f"
          },
          "geo": {
           "bgcolor": "white",
           "lakecolor": "white",
           "landcolor": "#E5ECF6",
           "showlakes": true,
           "showland": true,
           "subunitcolor": "white"
          },
          "hoverlabel": {
           "align": "left"
          },
          "hovermode": "closest",
          "mapbox": {
           "style": "light"
          },
          "paper_bgcolor": "white",
          "plot_bgcolor": "#E5ECF6",
          "polar": {
           "angularaxis": {
            "gridcolor": "white",
            "linecolor": "white",
            "ticks": ""
           },
           "bgcolor": "#E5ECF6",
           "radialaxis": {
            "gridcolor": "white",
            "linecolor": "white",
            "ticks": ""
           }
          },
          "scene": {
           "xaxis": {
            "backgroundcolor": "#E5ECF6",
            "gridcolor": "white",
            "gridwidth": 2,
            "linecolor": "white",
            "showbackground": true,
            "ticks": "",
            "zerolinecolor": "white"
           },
           "yaxis": {
            "backgroundcolor": "#E5ECF6",
            "gridcolor": "white",
            "gridwidth": 2,
            "linecolor": "white",
            "showbackground": true,
            "ticks": "",
            "zerolinecolor": "white"
           },
           "zaxis": {
            "backgroundcolor": "#E5ECF6",
            "gridcolor": "white",
            "gridwidth": 2,
            "linecolor": "white",
            "showbackground": true,
            "ticks": "",
            "zerolinecolor": "white"
           }
          },
          "shapedefaults": {
           "line": {
            "color": "#2a3f5f"
           }
          },
          "ternary": {
           "aaxis": {
            "gridcolor": "white",
            "linecolor": "white",
            "ticks": ""
           },
           "baxis": {
            "gridcolor": "white",
            "linecolor": "white",
            "ticks": ""
           },
           "bgcolor": "#E5ECF6",
           "caxis": {
            "gridcolor": "white",
            "linecolor": "white",
            "ticks": ""
           }
          },
          "title": {
           "x": 0.05
          },
          "xaxis": {
           "automargin": true,
           "gridcolor": "white",
           "linecolor": "white",
           "ticks": "",
           "title": {
            "standoff": 15
           },
           "zerolinecolor": "white",
           "zerolinewidth": 2
          },
          "yaxis": {
           "automargin": true,
           "gridcolor": "white",
           "linecolor": "white",
           "ticks": "",
           "title": {
            "standoff": 15
           },
           "zerolinecolor": "white",
           "zerolinewidth": 2
          }
         }
        },
        "xaxis": {
         "anchor": "y",
         "domain": [
          0,
          1
         ],
         "title": {
          "text": "Date"
         }
        },
        "yaxis": {
         "anchor": "x",
         "domain": [
          0,
          1
         ],
         "title": {
          "text": "Hit"
         }
        }
       }
      }
     },
     "metadata": {},
     "output_type": "display_data"
    }
   ],
   "source": [
    "fig = px.bar(good, x='Date', y='Hit')\n",
    "fig.show()"
   ]
  },
  {
   "cell_type": "markdown",
   "id": "a9ab2e20",
   "metadata": {},
   "source": [
    "# **VII. TrNa.py**"
   ]
  },
  {
   "cell_type": "markdown",
   "id": "c00917db",
   "metadata": {},
   "source": [
    "## 1. Code"
   ]
  },
  {
   "cell_type": "code",
   "execution_count": 54,
   "id": "fe6220c6",
   "metadata": {},
   "outputs": [
    {
     "data": {
      "text/html": [
       "<style type=\"text/css\">\n",
       "#T_94fc8_row0_col1, #T_94fc8_row1_col1, #T_94fc8_row2_col1 {\n",
       "  background-color: #abd0e6;\n",
       "  color: #000000;\n",
       "}\n",
       "#T_94fc8_row3_col1 {\n",
       "  background-color: #f7fbff;\n",
       "  color: #000000;\n",
       "}\n",
       "#T_94fc8_row4_col1 {\n",
       "  background-color: #08306b;\n",
       "  color: #f1f1f1;\n",
       "}\n",
       "</style>\n",
       "<table id=\"T_94fc8_\">\n",
       "  <thead>\n",
       "    <tr>\n",
       "      <th class=\"blank level0\" >&nbsp;</th>\n",
       "      <th class=\"col_heading level0 col0\" >Date</th>\n",
       "      <th class=\"col_heading level0 col1\" >Hit</th>\n",
       "    </tr>\n",
       "  </thead>\n",
       "  <tbody>\n",
       "    <tr>\n",
       "      <th id=\"T_94fc8_level0_row0\" class=\"row_heading level0 row0\" >134</th>\n",
       "      <td id=\"T_94fc8_row0_col0\" class=\"data row0 col0\" >2023-01-28 00:00:00</td>\n",
       "      <td id=\"T_94fc8_row0_col1\" class=\"data row0 col1\" >15</td>\n",
       "    </tr>\n",
       "    <tr>\n",
       "      <th id=\"T_94fc8_level0_row1\" class=\"row_heading level0 row1\" >186</th>\n",
       "      <td id=\"T_94fc8_row1_col0\" class=\"data row1 col0\" >2023-02-06 00:00:00</td>\n",
       "      <td id=\"T_94fc8_row1_col1\" class=\"data row1 col1\" >15</td>\n",
       "    </tr>\n",
       "    <tr>\n",
       "      <th id=\"T_94fc8_level0_row2\" class=\"row_heading level0 row2\" >185</th>\n",
       "      <td id=\"T_94fc8_row2_col0\" class=\"data row2 col0\" >2023-02-06 00:00:00</td>\n",
       "      <td id=\"T_94fc8_row2_col1\" class=\"data row2 col1\" >15</td>\n",
       "    </tr>\n",
       "    <tr>\n",
       "      <th id=\"T_94fc8_level0_row3\" class=\"row_heading level0 row3\" >141</th>\n",
       "      <td id=\"T_94fc8_row3_col0\" class=\"data row3 col0\" >2023-02-14 00:00:00</td>\n",
       "      <td id=\"T_94fc8_row3_col1\" class=\"data row3 col1\" >10</td>\n",
       "    </tr>\n",
       "    <tr>\n",
       "      <th id=\"T_94fc8_level0_row4\" class=\"row_heading level0 row4\" >142</th>\n",
       "      <td id=\"T_94fc8_row4_col0\" class=\"data row4 col0\" >2023-02-17 00:00:00</td>\n",
       "      <td id=\"T_94fc8_row4_col1\" class=\"data row4 col1\" >25</td>\n",
       "    </tr>\n",
       "  </tbody>\n",
       "</table>\n"
      ],
      "text/plain": [
       "<pandas.io.formats.style.Styler at 0x21179363520>"
      ]
     },
     "execution_count": 54,
     "metadata": {},
     "output_type": "execute_result"
    }
   ],
   "source": [
    "x = points_na.copy()\n",
    "\n",
    "x.fillna(0, inplace=True)\n",
    "\n",
    "x_h = x[x[\"Type\"] == \"Helio\"]\n",
    "x_g = x[x[\"Type\"] == \"Geo\"]\n",
    "\n",
    "x_h = x_h.drop(['Type'], axis = 1)\n",
    "x_h = x_h.drop(['Angle'], axis = 1)\n",
    "x_h = x_h.drop(['Pair'], axis = 1)\n",
    "\n",
    "x_g = x_g.drop(['Type'], axis = 1)\n",
    "x_g = x_g.drop(['Angle'], axis = 1)\n",
    "x_g = x_g.drop(['Pair'], axis = 1)\n",
    "\n",
    "x_con = pd.concat([x_h, x_g])\n",
    "\n",
    "x_con['Date'] = pd.to_datetime(x_con['Date'])  \n",
    "start_date = t  - timedelta(days = 2)\n",
    "end_date = t + timedelta(days = 90)\n",
    "\n",
    "mask = (x_con['Date'] > start_date) & (x_con['Date'] <= end_date)\n",
    "\n",
    "x_hits = x_con.loc[mask]\n",
    "x_hits = x_hits.sort_values(by=['Date'], ascending = True)\n",
    "x_hi = x_con.loc[mask]\n",
    "x_hi = x_hi.sort_values(by=['Date'], ascending = True)\n",
    "x_hi.rename(columns = {'Points':'Hit'}, inplace = True)\n",
    "\n",
    "x_hi.head(5).style.background_gradient(cmap='Blues')"
   ]
  },
  {
   "cell_type": "code",
   "execution_count": 55,
   "id": "71b45a1e",
   "metadata": {},
   "outputs": [
    {
     "data": {
      "text/html": [
       "<div>\n",
       "<style scoped>\n",
       "    .dataframe tbody tr th:only-of-type {\n",
       "        vertical-align: middle;\n",
       "    }\n",
       "\n",
       "    .dataframe tbody tr th {\n",
       "        vertical-align: top;\n",
       "    }\n",
       "\n",
       "    .dataframe thead th {\n",
       "        text-align: right;\n",
       "    }\n",
       "</style>\n",
       "<table border=\"1\" class=\"dataframe\">\n",
       "  <thead>\n",
       "    <tr style=\"text-align: right;\">\n",
       "      <th></th>\n",
       "      <th>Hit</th>\n",
       "    </tr>\n",
       "    <tr>\n",
       "      <th>Date</th>\n",
       "      <th></th>\n",
       "    </tr>\n",
       "  </thead>\n",
       "  <tbody>\n",
       "    <tr>\n",
       "      <th>2023-01-28</th>\n",
       "      <td>15</td>\n",
       "    </tr>\n",
       "    <tr>\n",
       "      <th>2023-02-06</th>\n",
       "      <td>30</td>\n",
       "    </tr>\n",
       "    <tr>\n",
       "      <th>2023-02-14</th>\n",
       "      <td>10</td>\n",
       "    </tr>\n",
       "    <tr>\n",
       "      <th>2023-02-17</th>\n",
       "      <td>25</td>\n",
       "    </tr>\n",
       "    <tr>\n",
       "      <th>2023-02-18</th>\n",
       "      <td>15</td>\n",
       "    </tr>\n",
       "    <tr>\n",
       "      <th>2023-02-27</th>\n",
       "      <td>20</td>\n",
       "    </tr>\n",
       "    <tr>\n",
       "      <th>2023-03-02</th>\n",
       "      <td>15</td>\n",
       "    </tr>\n",
       "    <tr>\n",
       "      <th>2023-03-05</th>\n",
       "      <td>10</td>\n",
       "    </tr>\n",
       "    <tr>\n",
       "      <th>2023-03-06</th>\n",
       "      <td>25</td>\n",
       "    </tr>\n",
       "    <tr>\n",
       "      <th>2023-03-10</th>\n",
       "      <td>15</td>\n",
       "    </tr>\n",
       "    <tr>\n",
       "      <th>2023-03-18</th>\n",
       "      <td>30</td>\n",
       "    </tr>\n",
       "    <tr>\n",
       "      <th>2023-03-19</th>\n",
       "      <td>25</td>\n",
       "    </tr>\n",
       "    <tr>\n",
       "      <th>2023-03-22</th>\n",
       "      <td>30</td>\n",
       "    </tr>\n",
       "    <tr>\n",
       "      <th>2023-03-23</th>\n",
       "      <td>45</td>\n",
       "    </tr>\n",
       "    <tr>\n",
       "      <th>2023-03-30</th>\n",
       "      <td>15</td>\n",
       "    </tr>\n",
       "    <tr>\n",
       "      <th>2023-03-31</th>\n",
       "      <td>25</td>\n",
       "    </tr>\n",
       "    <tr>\n",
       "      <th>2023-04-05</th>\n",
       "      <td>25</td>\n",
       "    </tr>\n",
       "    <tr>\n",
       "      <th>2023-04-06</th>\n",
       "      <td>15</td>\n",
       "    </tr>\n",
       "    <tr>\n",
       "      <th>2023-04-07</th>\n",
       "      <td>25</td>\n",
       "    </tr>\n",
       "    <tr>\n",
       "      <th>2023-04-11</th>\n",
       "      <td>40</td>\n",
       "    </tr>\n",
       "    <tr>\n",
       "      <th>2023-04-14</th>\n",
       "      <td>10</td>\n",
       "    </tr>\n",
       "    <tr>\n",
       "      <th>2023-04-20</th>\n",
       "      <td>35</td>\n",
       "    </tr>\n",
       "    <tr>\n",
       "      <th>2023-04-24</th>\n",
       "      <td>50</td>\n",
       "    </tr>\n",
       "    <tr>\n",
       "      <th>2023-04-25</th>\n",
       "      <td>40</td>\n",
       "    </tr>\n",
       "    <tr>\n",
       "      <th>2023-04-26</th>\n",
       "      <td>20</td>\n",
       "    </tr>\n",
       "  </tbody>\n",
       "</table>\n",
       "</div>"
      ],
      "text/plain": [
       "            Hit\n",
       "Date           \n",
       "2023-01-28   15\n",
       "2023-02-06   30\n",
       "2023-02-14   10\n",
       "2023-02-17   25\n",
       "2023-02-18   15\n",
       "2023-02-27   20\n",
       "2023-03-02   15\n",
       "2023-03-05   10\n",
       "2023-03-06   25\n",
       "2023-03-10   15\n",
       "2023-03-18   30\n",
       "2023-03-19   25\n",
       "2023-03-22   30\n",
       "2023-03-23   45\n",
       "2023-03-30   15\n",
       "2023-03-31   25\n",
       "2023-04-05   25\n",
       "2023-04-06   15\n",
       "2023-04-07   25\n",
       "2023-04-11   40\n",
       "2023-04-14   10\n",
       "2023-04-20   35\n",
       "2023-04-24   50\n",
       "2023-04-25   40\n",
       "2023-04-26   20"
      ]
     },
     "execution_count": 55,
     "metadata": {},
     "output_type": "execute_result"
    }
   ],
   "source": [
    "bbbb = x_hi.groupby(x_hi['Date'].dt.date).sum()\n",
    "bbbb"
   ]
  },
  {
   "cell_type": "code",
   "execution_count": 56,
   "id": "6cb5565d",
   "metadata": {},
   "outputs": [],
   "source": [
    "dz_trna = x_hi.head(30)\n",
    "dz_trna.to_csv(os.path.join('C://Users//ASUS//Desktop//ASTROTOOL//streamlit//data','TrNa.csv'), index= False)"
   ]
  },
  {
   "cell_type": "markdown",
   "id": "4f5c9aaa",
   "metadata": {},
   "source": [
    "## 2. Result"
   ]
  },
  {
   "cell_type": "code",
   "execution_count": 57,
   "id": "643c1e5e",
   "metadata": {},
   "outputs": [
    {
     "data": {
      "application/vnd.plotly.v1+json": {
       "config": {
        "plotlyServerURL": "https://plot.ly"
       },
       "data": [
        {
         "alignmentgroup": "True",
         "hovertemplate": "Date=%{x}<br>Hit=%{y}<extra></extra>",
         "legendgroup": "",
         "marker": {
          "color": "#636efa",
          "pattern": {
           "shape": ""
          }
         },
         "name": "",
         "offsetgroup": "",
         "orientation": "v",
         "showlegend": false,
         "textposition": "auto",
         "type": "bar",
         "x": [
          "2023-01-28T00:00:00",
          "2023-02-06T00:00:00",
          "2023-02-06T00:00:00",
          "2023-02-14T00:00:00",
          "2023-02-17T00:00:00",
          "2023-02-18T00:00:00",
          "2023-02-27T00:00:00",
          "2023-02-27T00:00:00",
          "2023-03-02T00:00:00",
          "2023-03-05T00:00:00",
          "2023-03-06T00:00:00",
          "2023-03-10T00:00:00",
          "2023-03-18T00:00:00",
          "2023-03-18T00:00:00",
          "2023-03-19T00:00:00",
          "2023-03-22T00:00:00",
          "2023-03-23T00:00:00",
          "2023-03-23T00:00:00",
          "2023-03-30T00:00:00",
          "2023-03-31T00:00:00",
          "2023-03-31T00:00:00",
          "2023-04-05T00:00:00",
          "2023-04-06T00:00:00",
          "2023-04-07T00:00:00",
          "2023-04-11T00:00:00",
          "2023-04-14T00:00:00",
          "2023-04-20T00:00:00",
          "2023-04-24T00:00:00",
          "2023-04-24T00:00:00",
          "2023-04-25T00:00:00",
          "2023-04-25T00:00:00",
          "2023-04-26T00:00:00"
         ],
         "xaxis": "x",
         "y": [
          15,
          15,
          15,
          10,
          25,
          15,
          10,
          10,
          15,
          10,
          25,
          15,
          5,
          25,
          25,
          30,
          15,
          30,
          15,
          10,
          15,
          25,
          15,
          25,
          40,
          10,
          35,
          30,
          20,
          15,
          25,
          20
         ],
         "yaxis": "y"
        }
       ],
       "layout": {
        "barmode": "relative",
        "legend": {
         "tracegroupgap": 0
        },
        "margin": {
         "t": 60
        },
        "template": {
         "data": {
          "bar": [
           {
            "error_x": {
             "color": "#2a3f5f"
            },
            "error_y": {
             "color": "#2a3f5f"
            },
            "marker": {
             "line": {
              "color": "#E5ECF6",
              "width": 0.5
             },
             "pattern": {
              "fillmode": "overlay",
              "size": 10,
              "solidity": 0.2
             }
            },
            "type": "bar"
           }
          ],
          "barpolar": [
           {
            "marker": {
             "line": {
              "color": "#E5ECF6",
              "width": 0.5
             },
             "pattern": {
              "fillmode": "overlay",
              "size": 10,
              "solidity": 0.2
             }
            },
            "type": "barpolar"
           }
          ],
          "carpet": [
           {
            "aaxis": {
             "endlinecolor": "#2a3f5f",
             "gridcolor": "white",
             "linecolor": "white",
             "minorgridcolor": "white",
             "startlinecolor": "#2a3f5f"
            },
            "baxis": {
             "endlinecolor": "#2a3f5f",
             "gridcolor": "white",
             "linecolor": "white",
             "minorgridcolor": "white",
             "startlinecolor": "#2a3f5f"
            },
            "type": "carpet"
           }
          ],
          "choropleth": [
           {
            "colorbar": {
             "outlinewidth": 0,
             "ticks": ""
            },
            "type": "choropleth"
           }
          ],
          "contour": [
           {
            "colorbar": {
             "outlinewidth": 0,
             "ticks": ""
            },
            "colorscale": [
             [
              0,
              "#0d0887"
             ],
             [
              0.1111111111111111,
              "#46039f"
             ],
             [
              0.2222222222222222,
              "#7201a8"
             ],
             [
              0.3333333333333333,
              "#9c179e"
             ],
             [
              0.4444444444444444,
              "#bd3786"
             ],
             [
              0.5555555555555556,
              "#d8576b"
             ],
             [
              0.6666666666666666,
              "#ed7953"
             ],
             [
              0.7777777777777778,
              "#fb9f3a"
             ],
             [
              0.8888888888888888,
              "#fdca26"
             ],
             [
              1,
              "#f0f921"
             ]
            ],
            "type": "contour"
           }
          ],
          "contourcarpet": [
           {
            "colorbar": {
             "outlinewidth": 0,
             "ticks": ""
            },
            "type": "contourcarpet"
           }
          ],
          "heatmap": [
           {
            "colorbar": {
             "outlinewidth": 0,
             "ticks": ""
            },
            "colorscale": [
             [
              0,
              "#0d0887"
             ],
             [
              0.1111111111111111,
              "#46039f"
             ],
             [
              0.2222222222222222,
              "#7201a8"
             ],
             [
              0.3333333333333333,
              "#9c179e"
             ],
             [
              0.4444444444444444,
              "#bd3786"
             ],
             [
              0.5555555555555556,
              "#d8576b"
             ],
             [
              0.6666666666666666,
              "#ed7953"
             ],
             [
              0.7777777777777778,
              "#fb9f3a"
             ],
             [
              0.8888888888888888,
              "#fdca26"
             ],
             [
              1,
              "#f0f921"
             ]
            ],
            "type": "heatmap"
           }
          ],
          "heatmapgl": [
           {
            "colorbar": {
             "outlinewidth": 0,
             "ticks": ""
            },
            "colorscale": [
             [
              0,
              "#0d0887"
             ],
             [
              0.1111111111111111,
              "#46039f"
             ],
             [
              0.2222222222222222,
              "#7201a8"
             ],
             [
              0.3333333333333333,
              "#9c179e"
             ],
             [
              0.4444444444444444,
              "#bd3786"
             ],
             [
              0.5555555555555556,
              "#d8576b"
             ],
             [
              0.6666666666666666,
              "#ed7953"
             ],
             [
              0.7777777777777778,
              "#fb9f3a"
             ],
             [
              0.8888888888888888,
              "#fdca26"
             ],
             [
              1,
              "#f0f921"
             ]
            ],
            "type": "heatmapgl"
           }
          ],
          "histogram": [
           {
            "marker": {
             "pattern": {
              "fillmode": "overlay",
              "size": 10,
              "solidity": 0.2
             }
            },
            "type": "histogram"
           }
          ],
          "histogram2d": [
           {
            "colorbar": {
             "outlinewidth": 0,
             "ticks": ""
            },
            "colorscale": [
             [
              0,
              "#0d0887"
             ],
             [
              0.1111111111111111,
              "#46039f"
             ],
             [
              0.2222222222222222,
              "#7201a8"
             ],
             [
              0.3333333333333333,
              "#9c179e"
             ],
             [
              0.4444444444444444,
              "#bd3786"
             ],
             [
              0.5555555555555556,
              "#d8576b"
             ],
             [
              0.6666666666666666,
              "#ed7953"
             ],
             [
              0.7777777777777778,
              "#fb9f3a"
             ],
             [
              0.8888888888888888,
              "#fdca26"
             ],
             [
              1,
              "#f0f921"
             ]
            ],
            "type": "histogram2d"
           }
          ],
          "histogram2dcontour": [
           {
            "colorbar": {
             "outlinewidth": 0,
             "ticks": ""
            },
            "colorscale": [
             [
              0,
              "#0d0887"
             ],
             [
              0.1111111111111111,
              "#46039f"
             ],
             [
              0.2222222222222222,
              "#7201a8"
             ],
             [
              0.3333333333333333,
              "#9c179e"
             ],
             [
              0.4444444444444444,
              "#bd3786"
             ],
             [
              0.5555555555555556,
              "#d8576b"
             ],
             [
              0.6666666666666666,
              "#ed7953"
             ],
             [
              0.7777777777777778,
              "#fb9f3a"
             ],
             [
              0.8888888888888888,
              "#fdca26"
             ],
             [
              1,
              "#f0f921"
             ]
            ],
            "type": "histogram2dcontour"
           }
          ],
          "mesh3d": [
           {
            "colorbar": {
             "outlinewidth": 0,
             "ticks": ""
            },
            "type": "mesh3d"
           }
          ],
          "parcoords": [
           {
            "line": {
             "colorbar": {
              "outlinewidth": 0,
              "ticks": ""
             }
            },
            "type": "parcoords"
           }
          ],
          "pie": [
           {
            "automargin": true,
            "type": "pie"
           }
          ],
          "scatter": [
           {
            "marker": {
             "colorbar": {
              "outlinewidth": 0,
              "ticks": ""
             }
            },
            "type": "scatter"
           }
          ],
          "scatter3d": [
           {
            "line": {
             "colorbar": {
              "outlinewidth": 0,
              "ticks": ""
             }
            },
            "marker": {
             "colorbar": {
              "outlinewidth": 0,
              "ticks": ""
             }
            },
            "type": "scatter3d"
           }
          ],
          "scattercarpet": [
           {
            "marker": {
             "colorbar": {
              "outlinewidth": 0,
              "ticks": ""
             }
            },
            "type": "scattercarpet"
           }
          ],
          "scattergeo": [
           {
            "marker": {
             "colorbar": {
              "outlinewidth": 0,
              "ticks": ""
             }
            },
            "type": "scattergeo"
           }
          ],
          "scattergl": [
           {
            "marker": {
             "colorbar": {
              "outlinewidth": 0,
              "ticks": ""
             }
            },
            "type": "scattergl"
           }
          ],
          "scattermapbox": [
           {
            "marker": {
             "colorbar": {
              "outlinewidth": 0,
              "ticks": ""
             }
            },
            "type": "scattermapbox"
           }
          ],
          "scatterpolar": [
           {
            "marker": {
             "colorbar": {
              "outlinewidth": 0,
              "ticks": ""
             }
            },
            "type": "scatterpolar"
           }
          ],
          "scatterpolargl": [
           {
            "marker": {
             "colorbar": {
              "outlinewidth": 0,
              "ticks": ""
             }
            },
            "type": "scatterpolargl"
           }
          ],
          "scatterternary": [
           {
            "marker": {
             "colorbar": {
              "outlinewidth": 0,
              "ticks": ""
             }
            },
            "type": "scatterternary"
           }
          ],
          "surface": [
           {
            "colorbar": {
             "outlinewidth": 0,
             "ticks": ""
            },
            "colorscale": [
             [
              0,
              "#0d0887"
             ],
             [
              0.1111111111111111,
              "#46039f"
             ],
             [
              0.2222222222222222,
              "#7201a8"
             ],
             [
              0.3333333333333333,
              "#9c179e"
             ],
             [
              0.4444444444444444,
              "#bd3786"
             ],
             [
              0.5555555555555556,
              "#d8576b"
             ],
             [
              0.6666666666666666,
              "#ed7953"
             ],
             [
              0.7777777777777778,
              "#fb9f3a"
             ],
             [
              0.8888888888888888,
              "#fdca26"
             ],
             [
              1,
              "#f0f921"
             ]
            ],
            "type": "surface"
           }
          ],
          "table": [
           {
            "cells": {
             "fill": {
              "color": "#EBF0F8"
             },
             "line": {
              "color": "white"
             }
            },
            "header": {
             "fill": {
              "color": "#C8D4E3"
             },
             "line": {
              "color": "white"
             }
            },
            "type": "table"
           }
          ]
         },
         "layout": {
          "annotationdefaults": {
           "arrowcolor": "#2a3f5f",
           "arrowhead": 0,
           "arrowwidth": 1
          },
          "autotypenumbers": "strict",
          "coloraxis": {
           "colorbar": {
            "outlinewidth": 0,
            "ticks": ""
           }
          },
          "colorscale": {
           "diverging": [
            [
             0,
             "#8e0152"
            ],
            [
             0.1,
             "#c51b7d"
            ],
            [
             0.2,
             "#de77ae"
            ],
            [
             0.3,
             "#f1b6da"
            ],
            [
             0.4,
             "#fde0ef"
            ],
            [
             0.5,
             "#f7f7f7"
            ],
            [
             0.6,
             "#e6f5d0"
            ],
            [
             0.7,
             "#b8e186"
            ],
            [
             0.8,
             "#7fbc41"
            ],
            [
             0.9,
             "#4d9221"
            ],
            [
             1,
             "#276419"
            ]
           ],
           "sequential": [
            [
             0,
             "#0d0887"
            ],
            [
             0.1111111111111111,
             "#46039f"
            ],
            [
             0.2222222222222222,
             "#7201a8"
            ],
            [
             0.3333333333333333,
             "#9c179e"
            ],
            [
             0.4444444444444444,
             "#bd3786"
            ],
            [
             0.5555555555555556,
             "#d8576b"
            ],
            [
             0.6666666666666666,
             "#ed7953"
            ],
            [
             0.7777777777777778,
             "#fb9f3a"
            ],
            [
             0.8888888888888888,
             "#fdca26"
            ],
            [
             1,
             "#f0f921"
            ]
           ],
           "sequentialminus": [
            [
             0,
             "#0d0887"
            ],
            [
             0.1111111111111111,
             "#46039f"
            ],
            [
             0.2222222222222222,
             "#7201a8"
            ],
            [
             0.3333333333333333,
             "#9c179e"
            ],
            [
             0.4444444444444444,
             "#bd3786"
            ],
            [
             0.5555555555555556,
             "#d8576b"
            ],
            [
             0.6666666666666666,
             "#ed7953"
            ],
            [
             0.7777777777777778,
             "#fb9f3a"
            ],
            [
             0.8888888888888888,
             "#fdca26"
            ],
            [
             1,
             "#f0f921"
            ]
           ]
          },
          "colorway": [
           "#636efa",
           "#EF553B",
           "#00cc96",
           "#ab63fa",
           "#FFA15A",
           "#19d3f3",
           "#FF6692",
           "#B6E880",
           "#FF97FF",
           "#FECB52"
          ],
          "font": {
           "color": "#2a3f5f"
          },
          "geo": {
           "bgcolor": "white",
           "lakecolor": "white",
           "landcolor": "#E5ECF6",
           "showlakes": true,
           "showland": true,
           "subunitcolor": "white"
          },
          "hoverlabel": {
           "align": "left"
          },
          "hovermode": "closest",
          "mapbox": {
           "style": "light"
          },
          "paper_bgcolor": "white",
          "plot_bgcolor": "#E5ECF6",
          "polar": {
           "angularaxis": {
            "gridcolor": "white",
            "linecolor": "white",
            "ticks": ""
           },
           "bgcolor": "#E5ECF6",
           "radialaxis": {
            "gridcolor": "white",
            "linecolor": "white",
            "ticks": ""
           }
          },
          "scene": {
           "xaxis": {
            "backgroundcolor": "#E5ECF6",
            "gridcolor": "white",
            "gridwidth": 2,
            "linecolor": "white",
            "showbackground": true,
            "ticks": "",
            "zerolinecolor": "white"
           },
           "yaxis": {
            "backgroundcolor": "#E5ECF6",
            "gridcolor": "white",
            "gridwidth": 2,
            "linecolor": "white",
            "showbackground": true,
            "ticks": "",
            "zerolinecolor": "white"
           },
           "zaxis": {
            "backgroundcolor": "#E5ECF6",
            "gridcolor": "white",
            "gridwidth": 2,
            "linecolor": "white",
            "showbackground": true,
            "ticks": "",
            "zerolinecolor": "white"
           }
          },
          "shapedefaults": {
           "line": {
            "color": "#2a3f5f"
           }
          },
          "ternary": {
           "aaxis": {
            "gridcolor": "white",
            "linecolor": "white",
            "ticks": ""
           },
           "baxis": {
            "gridcolor": "white",
            "linecolor": "white",
            "ticks": ""
           },
           "bgcolor": "#E5ECF6",
           "caxis": {
            "gridcolor": "white",
            "linecolor": "white",
            "ticks": ""
           }
          },
          "title": {
           "x": 0.05
          },
          "xaxis": {
           "automargin": true,
           "gridcolor": "white",
           "linecolor": "white",
           "ticks": "",
           "title": {
            "standoff": 15
           },
           "zerolinecolor": "white",
           "zerolinewidth": 2
          },
          "yaxis": {
           "automargin": true,
           "gridcolor": "white",
           "linecolor": "white",
           "ticks": "",
           "title": {
            "standoff": 15
           },
           "zerolinecolor": "white",
           "zerolinewidth": 2
          }
         }
        },
        "xaxis": {
         "anchor": "y",
         "domain": [
          0,
          1
         ],
         "title": {
          "text": "Date"
         }
        },
        "yaxis": {
         "anchor": "x",
         "domain": [
          0,
          1
         ],
         "title": {
          "text": "Hit"
         }
        }
       }
      }
     },
     "metadata": {},
     "output_type": "display_data"
    }
   ],
   "source": [
    "fig = px.bar(x_hi, x='Date', y='Hit')\n",
    "fig.show()"
   ]
  },
  {
   "cell_type": "markdown",
   "id": "a9ab2e20",
   "metadata": {},
   "source": [
    "# **VIII. TrTr.py**"
   ]
  },
  {
   "cell_type": "markdown",
   "id": "657eb8e8",
   "metadata": {},
   "source": [
    "## 1. Code"
   ]
  },
  {
   "cell_type": "code",
   "execution_count": 58,
   "id": "fe6220c6",
   "metadata": {},
   "outputs": [],
   "source": [
    "b = points_tr.copy()\n",
    "\n",
    "b.fillna(0, inplace=True)\n",
    "\n",
    "b_h = b[b[\"Type\"] == \"Helio\"]\n",
    "b_g = b[b[\"Type\"] == \"Geo\"]\n",
    "\n",
    "b_h = b_h.drop(['Type'], axis = 1)\n",
    "b_g = b_g.drop(['Type'], axis = 1)\n",
    "b_con = pd.concat([b_h, b_g])\n",
    "\n",
    "b_con['Date'] = pd.to_datetime(b_con['Date'])  \n",
    "\n",
    "start_date = t  - timedelta(days = 2)\n",
    "end_date = t + timedelta(days = 90)\n",
    "\n",
    "mask = (b_con['Date'] > start_date) & (b_con['Date'] <= end_date)\n",
    "b_hits = b_con.loc[mask]\n",
    "b_hits = b_hits.sort_values(by=['Date'], ascending = True)\n",
    "b_trtr = b_hits\n",
    "b_trtr.rename(columns = {'Points':'Hit'}, inplace = True)"
   ]
  },
  {
   "cell_type": "code",
   "execution_count": 59,
   "id": "943105f9",
   "metadata": {},
   "outputs": [],
   "source": [
    "dz_TRTR = b_trtr.head(30)\n",
    "dz_TRTR.to_csv(os.path.join('C://Users//ASUS//Desktop//ASTROTOOL//streamlit//data','TrTr.csv'), index= False)"
   ]
  },
  {
   "cell_type": "code",
   "execution_count": 60,
   "id": "9bea577c",
   "metadata": {},
   "outputs": [
    {
     "data": {
      "text/html": [
       "<div>\n",
       "<style scoped>\n",
       "    .dataframe tbody tr th:only-of-type {\n",
       "        vertical-align: middle;\n",
       "    }\n",
       "\n",
       "    .dataframe tbody tr th {\n",
       "        vertical-align: top;\n",
       "    }\n",
       "\n",
       "    .dataframe thead th {\n",
       "        text-align: right;\n",
       "    }\n",
       "</style>\n",
       "<table border=\"1\" class=\"dataframe\">\n",
       "  <thead>\n",
       "    <tr style=\"text-align: right;\">\n",
       "      <th></th>\n",
       "      <th>Hit</th>\n",
       "    </tr>\n",
       "    <tr>\n",
       "      <th>Date</th>\n",
       "      <th></th>\n",
       "    </tr>\n",
       "  </thead>\n",
       "  <tbody>\n",
       "    <tr>\n",
       "      <th>2023-01-27</th>\n",
       "      <td>30</td>\n",
       "    </tr>\n",
       "    <tr>\n",
       "      <th>2023-01-28</th>\n",
       "      <td>25</td>\n",
       "    </tr>\n",
       "    <tr>\n",
       "      <th>2023-01-29</th>\n",
       "      <td>5</td>\n",
       "    </tr>\n",
       "    <tr>\n",
       "      <th>2023-01-30</th>\n",
       "      <td>25</td>\n",
       "    </tr>\n",
       "    <tr>\n",
       "      <th>2023-01-31</th>\n",
       "      <td>30</td>\n",
       "    </tr>\n",
       "    <tr>\n",
       "      <th>...</th>\n",
       "      <td>...</td>\n",
       "    </tr>\n",
       "    <tr>\n",
       "      <th>2023-04-24</th>\n",
       "      <td>35</td>\n",
       "    </tr>\n",
       "    <tr>\n",
       "      <th>2023-04-25</th>\n",
       "      <td>65</td>\n",
       "    </tr>\n",
       "    <tr>\n",
       "      <th>2023-04-26</th>\n",
       "      <td>40</td>\n",
       "    </tr>\n",
       "    <tr>\n",
       "      <th>2023-04-27</th>\n",
       "      <td>15</td>\n",
       "    </tr>\n",
       "    <tr>\n",
       "      <th>2023-04-28</th>\n",
       "      <td>15</td>\n",
       "    </tr>\n",
       "  </tbody>\n",
       "</table>\n",
       "<p>91 rows × 1 columns</p>\n",
       "</div>"
      ],
      "text/plain": [
       "            Hit\n",
       "Date           \n",
       "2023-01-27   30\n",
       "2023-01-28   25\n",
       "2023-01-29    5\n",
       "2023-01-30   25\n",
       "2023-01-31   30\n",
       "...         ...\n",
       "2023-04-24   35\n",
       "2023-04-25   65\n",
       "2023-04-26   40\n",
       "2023-04-27   15\n",
       "2023-04-28   15\n",
       "\n",
       "[91 rows x 1 columns]"
      ]
     },
     "execution_count": 60,
     "metadata": {},
     "output_type": "execute_result"
    }
   ],
   "source": [
    "xxxx = b_trtr.groupby(b_trtr['Date'].dt.date).sum()\n",
    "xxxx"
   ]
  },
  {
   "cell_type": "markdown",
   "id": "d1299443",
   "metadata": {},
   "source": [
    "## 1. Result"
   ]
  },
  {
   "cell_type": "code",
   "execution_count": 61,
   "id": "7bf12a12",
   "metadata": {},
   "outputs": [
    {
     "data": {
      "application/vnd.plotly.v1+json": {
       "config": {
        "plotlyServerURL": "https://plot.ly"
       },
       "data": [
        {
         "alignmentgroup": "True",
         "hovertemplate": "Date=%{x}<br>Hit=%{y}<extra></extra>",
         "legendgroup": "",
         "marker": {
          "color": "#636efa",
          "pattern": {
           "shape": ""
          }
         },
         "name": "",
         "offsetgroup": "",
         "orientation": "v",
         "showlegend": false,
         "textposition": "auto",
         "type": "bar",
         "x": [
          "2023-01-27T00:00:00",
          "2023-01-27T00:00:00",
          "2023-01-27T00:00:00",
          "2023-01-27T00:00:00",
          "2023-01-28T00:00:00",
          "2023-01-28T00:00:00",
          "2023-01-29T00:00:00",
          "2023-01-30T00:00:00",
          "2023-01-30T00:00:00",
          "2023-01-30T00:00:00",
          "2023-01-31T00:00:00",
          "2023-01-31T00:00:00",
          "2023-01-31T00:00:00",
          "2023-02-01T00:00:00",
          "2023-02-01T00:00:00",
          "2023-02-01T00:00:00",
          "2023-02-02T00:00:00",
          "2023-02-02T00:00:00",
          "2023-02-03T00:00:00",
          "2023-02-03T00:00:00",
          "2023-02-03T00:00:00",
          "2023-02-04T00:00:00",
          "2023-02-04T00:00:00",
          "2023-02-04T00:00:00",
          "2023-02-04T00:00:00",
          "2023-02-04T00:00:00",
          "2023-02-05T00:00:00",
          "2023-02-05T00:00:00",
          "2023-02-05T00:00:00",
          "2023-02-05T00:00:00",
          "2023-02-05T00:00:00",
          "2023-02-06T00:00:00",
          "2023-02-07T00:00:00",
          "2023-02-07T00:00:00",
          "2023-02-07T00:00:00",
          "2023-02-07T00:00:00",
          "2023-02-08T00:00:00",
          "2023-02-08T00:00:00",
          "2023-02-08T00:00:00",
          "2023-02-09T00:00:00",
          "2023-02-09T00:00:00",
          "2023-02-09T00:00:00",
          "2023-02-10T00:00:00",
          "2023-02-10T00:00:00",
          "2023-02-10T00:00:00",
          "2023-02-11T00:00:00",
          "2023-02-11T00:00:00",
          "2023-02-11T00:00:00",
          "2023-02-11T00:00:00",
          "2023-02-11T00:00:00",
          "2023-02-12T00:00:00",
          "2023-02-12T00:00:00",
          "2023-02-12T00:00:00",
          "2023-02-13T00:00:00",
          "2023-02-14T00:00:00",
          "2023-02-14T00:00:00",
          "2023-02-14T00:00:00",
          "2023-02-14T00:00:00",
          "2023-02-14T00:00:00",
          "2023-02-14T00:00:00",
          "2023-02-15T00:00:00",
          "2023-02-15T00:00:00",
          "2023-02-15T00:00:00",
          "2023-02-15T00:00:00",
          "2023-02-15T00:00:00",
          "2023-02-16T00:00:00",
          "2023-02-16T00:00:00",
          "2023-02-17T00:00:00",
          "2023-02-17T00:00:00",
          "2023-02-17T00:00:00",
          "2023-02-17T00:00:00",
          "2023-02-18T00:00:00",
          "2023-02-18T00:00:00",
          "2023-02-19T00:00:00",
          "2023-02-19T00:00:00",
          "2023-02-19T00:00:00",
          "2023-02-20T00:00:00",
          "2023-02-20T00:00:00",
          "2023-02-20T00:00:00",
          "2023-02-20T00:00:00",
          "2023-02-20T00:00:00",
          "2023-02-20T00:00:00",
          "2023-02-21T00:00:00",
          "2023-02-21T00:00:00",
          "2023-02-21T00:00:00",
          "2023-02-22T00:00:00",
          "2023-02-22T00:00:00",
          "2023-02-23T00:00:00",
          "2023-02-24T00:00:00",
          "2023-02-24T00:00:00",
          "2023-02-24T00:00:00",
          "2023-02-24T00:00:00",
          "2023-02-25T00:00:00",
          "2023-02-25T00:00:00",
          "2023-02-25T00:00:00",
          "2023-02-25T00:00:00",
          "2023-02-26T00:00:00",
          "2023-02-26T00:00:00",
          "2023-02-26T00:00:00",
          "2023-02-26T00:00:00",
          "2023-02-27T00:00:00",
          "2023-02-27T00:00:00",
          "2023-02-27T00:00:00",
          "2023-02-27T00:00:00",
          "2023-02-28T00:00:00",
          "2023-02-28T00:00:00",
          "2023-02-28T00:00:00",
          "2023-02-28T00:00:00",
          "2023-03-01T00:00:00",
          "2023-03-01T00:00:00",
          "2023-03-01T00:00:00",
          "2023-03-01T00:00:00",
          "2023-03-02T00:00:00",
          "2023-03-02T00:00:00",
          "2023-03-02T00:00:00",
          "2023-03-02T00:00:00",
          "2023-03-02T00:00:00",
          "2023-03-03T00:00:00",
          "2023-03-03T00:00:00",
          "2023-03-03T00:00:00",
          "2023-03-03T00:00:00",
          "2023-03-03T00:00:00",
          "2023-03-03T00:00:00",
          "2023-03-04T00:00:00",
          "2023-03-04T00:00:00",
          "2023-03-04T00:00:00",
          "2023-03-04T00:00:00",
          "2023-03-04T00:00:00",
          "2023-03-04T00:00:00",
          "2023-03-05T00:00:00",
          "2023-03-05T00:00:00",
          "2023-03-05T00:00:00",
          "2023-03-05T00:00:00",
          "2023-03-05T00:00:00",
          "2023-03-06T00:00:00",
          "2023-03-06T00:00:00",
          "2023-03-06T00:00:00",
          "2023-03-06T00:00:00",
          "2023-03-06T00:00:00",
          "2023-03-06T00:00:00",
          "2023-03-06T00:00:00",
          "2023-03-06T00:00:00",
          "2023-03-06T00:00:00",
          "2023-03-07T00:00:00",
          "2023-03-07T00:00:00",
          "2023-03-07T00:00:00",
          "2023-03-08T00:00:00",
          "2023-03-08T00:00:00",
          "2023-03-08T00:00:00",
          "2023-03-09T00:00:00",
          "2023-03-09T00:00:00",
          "2023-03-09T00:00:00",
          "2023-03-09T00:00:00",
          "2023-03-09T00:00:00",
          "2023-03-09T00:00:00",
          "2023-03-10T00:00:00",
          "2023-03-10T00:00:00",
          "2023-03-10T00:00:00",
          "2023-03-11T00:00:00",
          "2023-03-11T00:00:00",
          "2023-03-11T00:00:00",
          "2023-03-11T00:00:00",
          "2023-03-11T00:00:00",
          "2023-03-11T00:00:00",
          "2023-03-11T00:00:00",
          "2023-03-12T00:00:00",
          "2023-03-12T00:00:00",
          "2023-03-12T00:00:00",
          "2023-03-12T00:00:00",
          "2023-03-12T00:00:00",
          "2023-03-12T00:00:00",
          "2023-03-13T00:00:00",
          "2023-03-13T00:00:00",
          "2023-03-13T00:00:00",
          "2023-03-13T00:00:00",
          "2023-03-14T00:00:00",
          "2023-03-14T00:00:00",
          "2023-03-14T00:00:00",
          "2023-03-14T00:00:00",
          "2023-03-14T00:00:00",
          "2023-03-15T00:00:00",
          "2023-03-15T00:00:00",
          "2023-03-15T00:00:00",
          "2023-03-15T00:00:00",
          "2023-03-16T00:00:00",
          "2023-03-16T00:00:00",
          "2023-03-16T00:00:00",
          "2023-03-16T00:00:00",
          "2023-03-16T00:00:00",
          "2023-03-16T00:00:00",
          "2023-03-17T00:00:00",
          "2023-03-17T00:00:00",
          "2023-03-17T00:00:00",
          "2023-03-17T00:00:00",
          "2023-03-17T00:00:00",
          "2023-03-17T00:00:00",
          "2023-03-17T00:00:00",
          "2023-03-18T00:00:00",
          "2023-03-18T00:00:00",
          "2023-03-18T00:00:00",
          "2023-03-18T00:00:00",
          "2023-03-18T00:00:00",
          "2023-03-18T00:00:00",
          "2023-03-19T00:00:00",
          "2023-03-19T00:00:00",
          "2023-03-19T00:00:00",
          "2023-03-19T00:00:00",
          "2023-03-19T00:00:00",
          "2023-03-20T00:00:00",
          "2023-03-20T00:00:00",
          "2023-03-20T00:00:00",
          "2023-03-20T00:00:00",
          "2023-03-20T00:00:00",
          "2023-03-20T00:00:00",
          "2023-03-20T00:00:00",
          "2023-03-20T00:00:00",
          "2023-03-21T00:00:00",
          "2023-03-21T00:00:00",
          "2023-03-21T00:00:00",
          "2023-03-22T00:00:00",
          "2023-03-22T00:00:00",
          "2023-03-22T00:00:00",
          "2023-03-22T00:00:00",
          "2023-03-22T00:00:00",
          "2023-03-22T00:00:00",
          "2023-03-22T00:00:00",
          "2023-03-23T00:00:00",
          "2023-03-23T00:00:00",
          "2023-03-23T00:00:00",
          "2023-03-23T00:00:00",
          "2023-03-23T00:00:00",
          "2023-03-23T00:00:00",
          "2023-03-24T00:00:00",
          "2023-03-24T00:00:00",
          "2023-03-24T00:00:00",
          "2023-03-24T00:00:00",
          "2023-03-24T00:00:00",
          "2023-03-24T00:00:00",
          "2023-03-24T00:00:00",
          "2023-03-24T00:00:00",
          "2023-03-24T00:00:00",
          "2023-03-24T00:00:00",
          "2023-03-24T00:00:00",
          "2023-03-24T00:00:00",
          "2023-03-25T00:00:00",
          "2023-03-25T00:00:00",
          "2023-03-25T00:00:00",
          "2023-03-25T00:00:00",
          "2023-03-25T00:00:00",
          "2023-03-25T00:00:00",
          "2023-03-26T00:00:00",
          "2023-03-26T00:00:00",
          "2023-03-26T00:00:00",
          "2023-03-26T00:00:00",
          "2023-03-26T00:00:00",
          "2023-03-26T00:00:00",
          "2023-03-26T00:00:00",
          "2023-03-27T00:00:00",
          "2023-03-27T00:00:00",
          "2023-03-27T00:00:00",
          "2023-03-27T00:00:00",
          "2023-03-27T00:00:00",
          "2023-03-28T00:00:00",
          "2023-03-28T00:00:00",
          "2023-03-28T00:00:00",
          "2023-03-28T00:00:00",
          "2023-03-28T00:00:00",
          "2023-03-28T00:00:00",
          "2023-03-28T00:00:00",
          "2023-03-29T00:00:00",
          "2023-03-29T00:00:00",
          "2023-03-29T00:00:00",
          "2023-03-29T00:00:00",
          "2023-03-29T00:00:00",
          "2023-03-29T00:00:00",
          "2023-03-29T00:00:00",
          "2023-03-30T00:00:00",
          "2023-03-30T00:00:00",
          "2023-03-30T00:00:00",
          "2023-03-30T00:00:00",
          "2023-03-31T00:00:00",
          "2023-03-31T00:00:00",
          "2023-03-31T00:00:00",
          "2023-03-31T00:00:00",
          "2023-03-31T00:00:00",
          "2023-03-31T00:00:00",
          "2023-03-31T00:00:00",
          "2023-04-01T00:00:00",
          "2023-04-01T00:00:00",
          "2023-04-01T00:00:00",
          "2023-04-01T00:00:00",
          "2023-04-01T00:00:00",
          "2023-04-01T00:00:00",
          "2023-04-01T00:00:00",
          "2023-04-01T00:00:00",
          "2023-04-02T00:00:00",
          "2023-04-02T00:00:00",
          "2023-04-02T00:00:00",
          "2023-04-02T00:00:00",
          "2023-04-02T00:00:00",
          "2023-04-02T00:00:00",
          "2023-04-02T00:00:00",
          "2023-04-02T00:00:00",
          "2023-04-02T00:00:00",
          "2023-04-02T00:00:00",
          "2023-04-02T00:00:00",
          "2023-04-03T00:00:00",
          "2023-04-03T00:00:00",
          "2023-04-03T00:00:00",
          "2023-04-03T00:00:00",
          "2023-04-03T00:00:00",
          "2023-04-03T00:00:00",
          "2023-04-04T00:00:00",
          "2023-04-04T00:00:00",
          "2023-04-05T00:00:00",
          "2023-04-05T00:00:00",
          "2023-04-05T00:00:00",
          "2023-04-05T00:00:00",
          "2023-04-05T00:00:00",
          "2023-04-05T00:00:00",
          "2023-04-06T00:00:00",
          "2023-04-06T00:00:00",
          "2023-04-06T00:00:00",
          "2023-04-06T00:00:00",
          "2023-04-06T00:00:00",
          "2023-04-06T00:00:00",
          "2023-04-06T00:00:00",
          "2023-04-07T00:00:00",
          "2023-04-07T00:00:00",
          "2023-04-07T00:00:00",
          "2023-04-07T00:00:00",
          "2023-04-07T00:00:00",
          "2023-04-07T00:00:00",
          "2023-04-07T00:00:00",
          "2023-04-07T00:00:00",
          "2023-04-08T00:00:00",
          "2023-04-08T00:00:00",
          "2023-04-08T00:00:00",
          "2023-04-08T00:00:00",
          "2023-04-08T00:00:00",
          "2023-04-08T00:00:00",
          "2023-04-09T00:00:00",
          "2023-04-09T00:00:00",
          "2023-04-09T00:00:00",
          "2023-04-09T00:00:00",
          "2023-04-09T00:00:00",
          "2023-04-09T00:00:00",
          "2023-04-10T00:00:00",
          "2023-04-10T00:00:00",
          "2023-04-10T00:00:00",
          "2023-04-10T00:00:00",
          "2023-04-11T00:00:00",
          "2023-04-11T00:00:00",
          "2023-04-11T00:00:00",
          "2023-04-11T00:00:00",
          "2023-04-11T00:00:00",
          "2023-04-11T00:00:00",
          "2023-04-11T00:00:00",
          "2023-04-12T00:00:00",
          "2023-04-12T00:00:00",
          "2023-04-12T00:00:00",
          "2023-04-12T00:00:00",
          "2023-04-12T00:00:00",
          "2023-04-12T00:00:00",
          "2023-04-12T00:00:00",
          "2023-04-13T00:00:00",
          "2023-04-13T00:00:00",
          "2023-04-13T00:00:00",
          "2023-04-15T00:00:00",
          "2023-04-15T00:00:00",
          "2023-04-15T00:00:00",
          "2023-04-15T00:00:00",
          "2023-04-15T00:00:00",
          "2023-04-15T00:00:00",
          "2023-04-16T00:00:00",
          "2023-04-16T00:00:00",
          "2023-04-16T00:00:00",
          "2023-04-17T00:00:00",
          "2023-04-17T00:00:00",
          "2023-04-17T00:00:00",
          "2023-04-17T00:00:00",
          "2023-04-17T00:00:00",
          "2023-04-17T00:00:00",
          "2023-04-18T00:00:00",
          "2023-04-18T00:00:00",
          "2023-04-18T00:00:00",
          "2023-04-18T00:00:00",
          "2023-04-18T00:00:00",
          "2023-04-19T00:00:00",
          "2023-04-19T00:00:00",
          "2023-04-20T00:00:00",
          "2023-04-20T00:00:00",
          "2023-04-20T00:00:00",
          "2023-04-20T00:00:00",
          "2023-04-21T00:00:00",
          "2023-04-21T00:00:00",
          "2023-04-21T00:00:00",
          "2023-04-21T00:00:00",
          "2023-04-21T00:00:00",
          "2023-04-22T00:00:00",
          "2023-04-22T00:00:00",
          "2023-04-22T00:00:00",
          "2023-04-22T00:00:00",
          "2023-04-22T00:00:00",
          "2023-04-22T00:00:00",
          "2023-04-23T00:00:00",
          "2023-04-23T00:00:00",
          "2023-04-23T00:00:00",
          "2023-04-23T00:00:00",
          "2023-04-23T00:00:00",
          "2023-04-24T00:00:00",
          "2023-04-24T00:00:00",
          "2023-04-24T00:00:00",
          "2023-04-25T00:00:00",
          "2023-04-25T00:00:00",
          "2023-04-25T00:00:00",
          "2023-04-25T00:00:00",
          "2023-04-25T00:00:00",
          "2023-04-26T00:00:00",
          "2023-04-26T00:00:00",
          "2023-04-27T00:00:00",
          "2023-04-27T00:00:00",
          "2023-04-28T00:00:00",
          "2023-04-28T00:00:00"
         ],
         "xaxis": "x",
         "y": [
          15,
          10,
          5,
          0,
          20,
          5,
          5,
          5,
          10,
          10,
          10,
          10,
          10,
          15,
          10,
          10,
          15,
          10,
          10,
          10,
          10,
          0,
          25,
          0,
          15,
          25,
          15,
          15,
          35,
          10,
          5,
          10,
          15,
          25,
          10,
          25,
          5,
          5,
          15,
          20,
          5,
          5,
          5,
          20,
          10,
          35,
          5,
          10,
          10,
          5,
          10,
          25,
          5,
          10,
          10,
          10,
          10,
          10,
          25,
          5,
          10,
          25,
          10,
          15,
          10,
          15,
          15,
          25,
          25,
          10,
          15,
          10,
          10,
          5,
          15,
          10,
          10,
          5,
          20,
          15,
          15,
          20,
          10,
          5,
          20,
          5,
          15,
          5,
          10,
          10,
          10,
          10,
          20,
          25,
          5,
          0,
          15,
          15,
          10,
          15,
          15,
          10,
          10,
          20,
          10,
          20,
          10,
          10,
          10,
          5,
          10,
          35,
          25,
          35,
          20,
          15,
          35,
          20,
          10,
          15,
          15,
          25,
          15,
          15,
          15,
          15,
          15,
          15,
          15,
          10,
          0,
          10,
          0,
          15,
          20,
          5,
          20,
          10,
          15,
          5,
          25,
          10,
          20,
          10,
          15,
          10,
          15,
          20,
          5,
          15,
          15,
          5,
          10,
          5,
          15,
          15,
          20,
          5,
          20,
          5,
          20,
          5,
          20,
          35,
          25,
          15,
          10,
          20,
          15,
          15,
          0,
          15,
          5,
          15,
          10,
          25,
          20,
          5,
          10,
          20,
          10,
          15,
          15,
          25,
          20,
          15,
          15,
          25,
          10,
          25,
          35,
          35,
          15,
          10,
          25,
          25,
          25,
          10,
          10,
          10,
          15,
          20,
          20,
          15,
          20,
          10,
          20,
          20,
          20,
          20,
          15,
          20,
          15,
          25,
          25,
          15,
          10,
          20,
          25,
          5,
          15,
          20,
          15,
          35,
          10,
          10,
          20,
          15,
          15,
          0,
          20,
          10,
          15,
          20,
          5,
          5,
          15,
          20,
          20,
          20,
          15,
          35,
          10,
          5,
          20,
          15,
          5,
          5,
          5,
          25,
          25,
          15,
          25,
          25,
          15,
          15,
          15,
          35,
          20,
          10,
          10,
          20,
          25,
          15,
          35,
          20,
          20,
          10,
          15,
          20,
          10,
          15,
          15,
          10,
          25,
          35,
          15,
          25,
          10,
          25,
          20,
          10,
          10,
          15,
          25,
          15,
          15,
          0,
          20,
          20,
          25,
          20,
          5,
          10,
          10,
          15,
          10,
          5,
          10,
          5,
          15,
          15,
          15,
          25,
          35,
          20,
          5,
          10,
          10,
          25,
          25,
          10,
          20,
          35,
          25,
          25,
          5,
          20,
          20,
          20,
          15,
          25,
          35,
          20,
          15,
          20,
          5,
          20,
          20,
          35,
          25,
          15,
          25,
          15,
          20,
          10,
          15,
          5,
          25,
          5,
          10,
          5,
          20,
          15,
          15,
          25,
          10,
          35,
          10,
          10,
          5,
          10,
          15,
          35,
          25,
          25,
          15,
          15,
          25,
          25,
          25,
          15,
          5,
          15,
          0,
          35,
          10,
          20,
          15,
          15,
          25,
          10,
          20,
          15,
          5,
          10,
          10,
          5,
          25,
          25,
          10,
          20,
          10,
          15,
          20,
          10,
          15,
          15,
          0,
          35,
          5,
          15,
          25,
          10,
          25,
          20,
          15,
          25,
          10,
          5,
          5,
          25,
          15,
          15,
          25,
          10,
          20,
          15,
          10,
          25,
          15,
          10,
          10,
          20,
          15,
          10,
          10,
          10,
          35,
          5,
          5,
          10,
          5,
          10
         ],
         "yaxis": "y"
        }
       ],
       "layout": {
        "barmode": "relative",
        "legend": {
         "tracegroupgap": 0
        },
        "margin": {
         "t": 60
        },
        "template": {
         "data": {
          "bar": [
           {
            "error_x": {
             "color": "#2a3f5f"
            },
            "error_y": {
             "color": "#2a3f5f"
            },
            "marker": {
             "line": {
              "color": "#E5ECF6",
              "width": 0.5
             },
             "pattern": {
              "fillmode": "overlay",
              "size": 10,
              "solidity": 0.2
             }
            },
            "type": "bar"
           }
          ],
          "barpolar": [
           {
            "marker": {
             "line": {
              "color": "#E5ECF6",
              "width": 0.5
             },
             "pattern": {
              "fillmode": "overlay",
              "size": 10,
              "solidity": 0.2
             }
            },
            "type": "barpolar"
           }
          ],
          "carpet": [
           {
            "aaxis": {
             "endlinecolor": "#2a3f5f",
             "gridcolor": "white",
             "linecolor": "white",
             "minorgridcolor": "white",
             "startlinecolor": "#2a3f5f"
            },
            "baxis": {
             "endlinecolor": "#2a3f5f",
             "gridcolor": "white",
             "linecolor": "white",
             "minorgridcolor": "white",
             "startlinecolor": "#2a3f5f"
            },
            "type": "carpet"
           }
          ],
          "choropleth": [
           {
            "colorbar": {
             "outlinewidth": 0,
             "ticks": ""
            },
            "type": "choropleth"
           }
          ],
          "contour": [
           {
            "colorbar": {
             "outlinewidth": 0,
             "ticks": ""
            },
            "colorscale": [
             [
              0,
              "#0d0887"
             ],
             [
              0.1111111111111111,
              "#46039f"
             ],
             [
              0.2222222222222222,
              "#7201a8"
             ],
             [
              0.3333333333333333,
              "#9c179e"
             ],
             [
              0.4444444444444444,
              "#bd3786"
             ],
             [
              0.5555555555555556,
              "#d8576b"
             ],
             [
              0.6666666666666666,
              "#ed7953"
             ],
             [
              0.7777777777777778,
              "#fb9f3a"
             ],
             [
              0.8888888888888888,
              "#fdca26"
             ],
             [
              1,
              "#f0f921"
             ]
            ],
            "type": "contour"
           }
          ],
          "contourcarpet": [
           {
            "colorbar": {
             "outlinewidth": 0,
             "ticks": ""
            },
            "type": "contourcarpet"
           }
          ],
          "heatmap": [
           {
            "colorbar": {
             "outlinewidth": 0,
             "ticks": ""
            },
            "colorscale": [
             [
              0,
              "#0d0887"
             ],
             [
              0.1111111111111111,
              "#46039f"
             ],
             [
              0.2222222222222222,
              "#7201a8"
             ],
             [
              0.3333333333333333,
              "#9c179e"
             ],
             [
              0.4444444444444444,
              "#bd3786"
             ],
             [
              0.5555555555555556,
              "#d8576b"
             ],
             [
              0.6666666666666666,
              "#ed7953"
             ],
             [
              0.7777777777777778,
              "#fb9f3a"
             ],
             [
              0.8888888888888888,
              "#fdca26"
             ],
             [
              1,
              "#f0f921"
             ]
            ],
            "type": "heatmap"
           }
          ],
          "heatmapgl": [
           {
            "colorbar": {
             "outlinewidth": 0,
             "ticks": ""
            },
            "colorscale": [
             [
              0,
              "#0d0887"
             ],
             [
              0.1111111111111111,
              "#46039f"
             ],
             [
              0.2222222222222222,
              "#7201a8"
             ],
             [
              0.3333333333333333,
              "#9c179e"
             ],
             [
              0.4444444444444444,
              "#bd3786"
             ],
             [
              0.5555555555555556,
              "#d8576b"
             ],
             [
              0.6666666666666666,
              "#ed7953"
             ],
             [
              0.7777777777777778,
              "#fb9f3a"
             ],
             [
              0.8888888888888888,
              "#fdca26"
             ],
             [
              1,
              "#f0f921"
             ]
            ],
            "type": "heatmapgl"
           }
          ],
          "histogram": [
           {
            "marker": {
             "pattern": {
              "fillmode": "overlay",
              "size": 10,
              "solidity": 0.2
             }
            },
            "type": "histogram"
           }
          ],
          "histogram2d": [
           {
            "colorbar": {
             "outlinewidth": 0,
             "ticks": ""
            },
            "colorscale": [
             [
              0,
              "#0d0887"
             ],
             [
              0.1111111111111111,
              "#46039f"
             ],
             [
              0.2222222222222222,
              "#7201a8"
             ],
             [
              0.3333333333333333,
              "#9c179e"
             ],
             [
              0.4444444444444444,
              "#bd3786"
             ],
             [
              0.5555555555555556,
              "#d8576b"
             ],
             [
              0.6666666666666666,
              "#ed7953"
             ],
             [
              0.7777777777777778,
              "#fb9f3a"
             ],
             [
              0.8888888888888888,
              "#fdca26"
             ],
             [
              1,
              "#f0f921"
             ]
            ],
            "type": "histogram2d"
           }
          ],
          "histogram2dcontour": [
           {
            "colorbar": {
             "outlinewidth": 0,
             "ticks": ""
            },
            "colorscale": [
             [
              0,
              "#0d0887"
             ],
             [
              0.1111111111111111,
              "#46039f"
             ],
             [
              0.2222222222222222,
              "#7201a8"
             ],
             [
              0.3333333333333333,
              "#9c179e"
             ],
             [
              0.4444444444444444,
              "#bd3786"
             ],
             [
              0.5555555555555556,
              "#d8576b"
             ],
             [
              0.6666666666666666,
              "#ed7953"
             ],
             [
              0.7777777777777778,
              "#fb9f3a"
             ],
             [
              0.8888888888888888,
              "#fdca26"
             ],
             [
              1,
              "#f0f921"
             ]
            ],
            "type": "histogram2dcontour"
           }
          ],
          "mesh3d": [
           {
            "colorbar": {
             "outlinewidth": 0,
             "ticks": ""
            },
            "type": "mesh3d"
           }
          ],
          "parcoords": [
           {
            "line": {
             "colorbar": {
              "outlinewidth": 0,
              "ticks": ""
             }
            },
            "type": "parcoords"
           }
          ],
          "pie": [
           {
            "automargin": true,
            "type": "pie"
           }
          ],
          "scatter": [
           {
            "marker": {
             "colorbar": {
              "outlinewidth": 0,
              "ticks": ""
             }
            },
            "type": "scatter"
           }
          ],
          "scatter3d": [
           {
            "line": {
             "colorbar": {
              "outlinewidth": 0,
              "ticks": ""
             }
            },
            "marker": {
             "colorbar": {
              "outlinewidth": 0,
              "ticks": ""
             }
            },
            "type": "scatter3d"
           }
          ],
          "scattercarpet": [
           {
            "marker": {
             "colorbar": {
              "outlinewidth": 0,
              "ticks": ""
             }
            },
            "type": "scattercarpet"
           }
          ],
          "scattergeo": [
           {
            "marker": {
             "colorbar": {
              "outlinewidth": 0,
              "ticks": ""
             }
            },
            "type": "scattergeo"
           }
          ],
          "scattergl": [
           {
            "marker": {
             "colorbar": {
              "outlinewidth": 0,
              "ticks": ""
             }
            },
            "type": "scattergl"
           }
          ],
          "scattermapbox": [
           {
            "marker": {
             "colorbar": {
              "outlinewidth": 0,
              "ticks": ""
             }
            },
            "type": "scattermapbox"
           }
          ],
          "scatterpolar": [
           {
            "marker": {
             "colorbar": {
              "outlinewidth": 0,
              "ticks": ""
             }
            },
            "type": "scatterpolar"
           }
          ],
          "scatterpolargl": [
           {
            "marker": {
             "colorbar": {
              "outlinewidth": 0,
              "ticks": ""
             }
            },
            "type": "scatterpolargl"
           }
          ],
          "scatterternary": [
           {
            "marker": {
             "colorbar": {
              "outlinewidth": 0,
              "ticks": ""
             }
            },
            "type": "scatterternary"
           }
          ],
          "surface": [
           {
            "colorbar": {
             "outlinewidth": 0,
             "ticks": ""
            },
            "colorscale": [
             [
              0,
              "#0d0887"
             ],
             [
              0.1111111111111111,
              "#46039f"
             ],
             [
              0.2222222222222222,
              "#7201a8"
             ],
             [
              0.3333333333333333,
              "#9c179e"
             ],
             [
              0.4444444444444444,
              "#bd3786"
             ],
             [
              0.5555555555555556,
              "#d8576b"
             ],
             [
              0.6666666666666666,
              "#ed7953"
             ],
             [
              0.7777777777777778,
              "#fb9f3a"
             ],
             [
              0.8888888888888888,
              "#fdca26"
             ],
             [
              1,
              "#f0f921"
             ]
            ],
            "type": "surface"
           }
          ],
          "table": [
           {
            "cells": {
             "fill": {
              "color": "#EBF0F8"
             },
             "line": {
              "color": "white"
             }
            },
            "header": {
             "fill": {
              "color": "#C8D4E3"
             },
             "line": {
              "color": "white"
             }
            },
            "type": "table"
           }
          ]
         },
         "layout": {
          "annotationdefaults": {
           "arrowcolor": "#2a3f5f",
           "arrowhead": 0,
           "arrowwidth": 1
          },
          "autotypenumbers": "strict",
          "coloraxis": {
           "colorbar": {
            "outlinewidth": 0,
            "ticks": ""
           }
          },
          "colorscale": {
           "diverging": [
            [
             0,
             "#8e0152"
            ],
            [
             0.1,
             "#c51b7d"
            ],
            [
             0.2,
             "#de77ae"
            ],
            [
             0.3,
             "#f1b6da"
            ],
            [
             0.4,
             "#fde0ef"
            ],
            [
             0.5,
             "#f7f7f7"
            ],
            [
             0.6,
             "#e6f5d0"
            ],
            [
             0.7,
             "#b8e186"
            ],
            [
             0.8,
             "#7fbc41"
            ],
            [
             0.9,
             "#4d9221"
            ],
            [
             1,
             "#276419"
            ]
           ],
           "sequential": [
            [
             0,
             "#0d0887"
            ],
            [
             0.1111111111111111,
             "#46039f"
            ],
            [
             0.2222222222222222,
             "#7201a8"
            ],
            [
             0.3333333333333333,
             "#9c179e"
            ],
            [
             0.4444444444444444,
             "#bd3786"
            ],
            [
             0.5555555555555556,
             "#d8576b"
            ],
            [
             0.6666666666666666,
             "#ed7953"
            ],
            [
             0.7777777777777778,
             "#fb9f3a"
            ],
            [
             0.8888888888888888,
             "#fdca26"
            ],
            [
             1,
             "#f0f921"
            ]
           ],
           "sequentialminus": [
            [
             0,
             "#0d0887"
            ],
            [
             0.1111111111111111,
             "#46039f"
            ],
            [
             0.2222222222222222,
             "#7201a8"
            ],
            [
             0.3333333333333333,
             "#9c179e"
            ],
            [
             0.4444444444444444,
             "#bd3786"
            ],
            [
             0.5555555555555556,
             "#d8576b"
            ],
            [
             0.6666666666666666,
             "#ed7953"
            ],
            [
             0.7777777777777778,
             "#fb9f3a"
            ],
            [
             0.8888888888888888,
             "#fdca26"
            ],
            [
             1,
             "#f0f921"
            ]
           ]
          },
          "colorway": [
           "#636efa",
           "#EF553B",
           "#00cc96",
           "#ab63fa",
           "#FFA15A",
           "#19d3f3",
           "#FF6692",
           "#B6E880",
           "#FF97FF",
           "#FECB52"
          ],
          "font": {
           "color": "#2a3f5f"
          },
          "geo": {
           "bgcolor": "white",
           "lakecolor": "white",
           "landcolor": "#E5ECF6",
           "showlakes": true,
           "showland": true,
           "subunitcolor": "white"
          },
          "hoverlabel": {
           "align": "left"
          },
          "hovermode": "closest",
          "mapbox": {
           "style": "light"
          },
          "paper_bgcolor": "white",
          "plot_bgcolor": "#E5ECF6",
          "polar": {
           "angularaxis": {
            "gridcolor": "white",
            "linecolor": "white",
            "ticks": ""
           },
           "bgcolor": "#E5ECF6",
           "radialaxis": {
            "gridcolor": "white",
            "linecolor": "white",
            "ticks": ""
           }
          },
          "scene": {
           "xaxis": {
            "backgroundcolor": "#E5ECF6",
            "gridcolor": "white",
            "gridwidth": 2,
            "linecolor": "white",
            "showbackground": true,
            "ticks": "",
            "zerolinecolor": "white"
           },
           "yaxis": {
            "backgroundcolor": "#E5ECF6",
            "gridcolor": "white",
            "gridwidth": 2,
            "linecolor": "white",
            "showbackground": true,
            "ticks": "",
            "zerolinecolor": "white"
           },
           "zaxis": {
            "backgroundcolor": "#E5ECF6",
            "gridcolor": "white",
            "gridwidth": 2,
            "linecolor": "white",
            "showbackground": true,
            "ticks": "",
            "zerolinecolor": "white"
           }
          },
          "shapedefaults": {
           "line": {
            "color": "#2a3f5f"
           }
          },
          "ternary": {
           "aaxis": {
            "gridcolor": "white",
            "linecolor": "white",
            "ticks": ""
           },
           "baxis": {
            "gridcolor": "white",
            "linecolor": "white",
            "ticks": ""
           },
           "bgcolor": "#E5ECF6",
           "caxis": {
            "gridcolor": "white",
            "linecolor": "white",
            "ticks": ""
           }
          },
          "title": {
           "x": 0.05
          },
          "xaxis": {
           "automargin": true,
           "gridcolor": "white",
           "linecolor": "white",
           "ticks": "",
           "title": {
            "standoff": 15
           },
           "zerolinecolor": "white",
           "zerolinewidth": 2
          },
          "yaxis": {
           "automargin": true,
           "gridcolor": "white",
           "linecolor": "white",
           "ticks": "",
           "title": {
            "standoff": 15
           },
           "zerolinecolor": "white",
           "zerolinewidth": 2
          }
         }
        },
        "xaxis": {
         "anchor": "y",
         "domain": [
          0,
          1
         ],
         "title": {
          "text": "Date"
         }
        },
        "yaxis": {
         "anchor": "x",
         "domain": [
          0,
          1
         ],
         "title": {
          "text": "Hit"
         }
        }
       }
      }
     },
     "metadata": {},
     "output_type": "display_data"
    }
   ],
   "source": [
    "fig = px.bar(b_trtr, x='Date', y='Hit')\n",
    "fig.show()"
   ]
  },
  {
   "cell_type": "markdown",
   "id": "b037607b",
   "metadata": {},
   "source": [
    "# **IX. MULT.py**"
   ]
  },
  {
   "cell_type": "markdown",
   "id": "fb14465a",
   "metadata": {},
   "source": [
    "## 1. Code"
   ]
  },
  {
   "cell_type": "code",
   "execution_count": 62,
   "id": "01698a7d",
   "metadata": {},
   "outputs": [],
   "source": [
    "m = mult.copy()\n",
    "m.head(5)\n",
    "\n",
    "m['Date1'] = d1 = pd.to_datetime(m['Date1'])\n",
    "m['Date2'] = d2 = pd.to_datetime(m['Date2'])\n",
    "m['Date1'] = m['Date1'].dt.strftime('%Y/%m/%d')\n",
    "m['Date2'] = m['Date2'].dt.strftime('%Y/%m/%d')"
   ]
  },
  {
   "cell_type": "code",
   "execution_count": 63,
   "id": "553af176",
   "metadata": {},
   "outputs": [],
   "source": [
    "# PANDA VERSION\n",
    "\n",
    "#from datetime import datetime \n",
    "\n",
    "#m618 = m.copy()\n",
    "\n",
    "#for i, col in enumerate(m618.columns[2:]):\n",
    "    #df1 = pd.to_datetime(m618['Date1'])\n",
    "    #df2 = pd.to_datetime(m618['Date2'])\n",
    "    #m618[col] =  df2 + ((df2 - df1) * (1.618 ** i))\n",
    "\n",
    "#m618['Date1'] = pd.to_datetime(m618['Date1'])\n",
    "#m618['Date2'] = pd.to_datetime(m618['Date2'])\n",
    "\n",
    "#m618['Date1'] = m618['Date1'].dt.strftime('%Y/%m/%d')\n",
    "#m618['Date2'] = m618['Date2'].dt.strftime('%Y/%m/%d')\n",
    "#m618['1'] = m618['1'].dt.strftime('%Y/%m/%d')\n",
    "#m618['2'] = m618['2'].dt.strftime('%Y/%m/%d')\n",
    "#m618['3'] = m618['3'].dt.strftime('%Y/%m/%d')\n",
    "#m618['4'] = m618['4'].dt.strftime('%Y/%m/%d')\n",
    "#m618['5'] = m618['5'].dt.strftime('%Y/%m/%d')\n",
    "#m618['6'] = m618['6'].dt.strftime('%Y/%m/%d')\n",
    "#m618['7'] = m618['7'].dt.strftime('%Y/%m/%d')\n",
    "#m618['8'] = m618['8'].dt.strftime('%Y/%m/%d')\n",
    "#m618['9'] = m618['9'].dt.strftime('%Y/%m/%d')\n",
    "#m618['10'] = m618['10'].dt.strftime('%Y/%m/%d')\n",
    "\n",
    "#m618"
   ]
  },
  {
   "cell_type": "code",
   "execution_count": 64,
   "metadata": {},
   "outputs": [
    {
     "data": {
      "text/html": [
       "<div>\n",
       "<style scoped>\n",
       "    .dataframe tbody tr th:only-of-type {\n",
       "        vertical-align: middle;\n",
       "    }\n",
       "\n",
       "    .dataframe tbody tr th {\n",
       "        vertical-align: top;\n",
       "    }\n",
       "\n",
       "    .dataframe thead th {\n",
       "        text-align: right;\n",
       "    }\n",
       "</style>\n",
       "<table border=\"1\" class=\"dataframe\">\n",
       "  <thead>\n",
       "    <tr style=\"text-align: right;\">\n",
       "      <th></th>\n",
       "      <th>1</th>\n",
       "      <th>2</th>\n",
       "      <th>3</th>\n",
       "      <th>4</th>\n",
       "      <th>5</th>\n",
       "      <th>6</th>\n",
       "      <th>7</th>\n",
       "      <th>8</th>\n",
       "      <th>9</th>\n",
       "      <th>10</th>\n",
       "    </tr>\n",
       "  </thead>\n",
       "  <tbody>\n",
       "    <tr>\n",
       "      <th>0</th>\n",
       "      <td>2009/04/16</td>\n",
       "      <td>2009/06/19</td>\n",
       "      <td>2009/10/01</td>\n",
       "      <td>2010/03/17</td>\n",
       "      <td>2010/12/13</td>\n",
       "      <td>2012/02/25</td>\n",
       "      <td>2014/02/03</td>\n",
       "      <td>2017/03/28</td>\n",
       "      <td>2022/04/28</td>\n",
       "      <td>2030/07/21</td>\n",
       "    </tr>\n",
       "    <tr>\n",
       "      <th>1</th>\n",
       "      <td>2020/03/04</td>\n",
       "      <td>2024/06/09</td>\n",
       "      <td>2031/05/05</td>\n",
       "      <td>2042/07/04</td>\n",
       "      <td>2060/07/28</td>\n",
       "      <td>2089/10/21</td>\n",
       "      <td>2137/02/08</td>\n",
       "      <td>2213/08/20</td>\n",
       "      <td>1752/11/26</td>\n",
       "      <td>1953/04/02</td>\n",
       "    </tr>\n",
       "    <tr>\n",
       "      <th>2</th>\n",
       "      <td>2013/11/15</td>\n",
       "      <td>2014/02/07</td>\n",
       "      <td>2014/06/23</td>\n",
       "      <td>2015/01/29</td>\n",
       "      <td>2016/01/20</td>\n",
       "      <td>2017/08/18</td>\n",
       "      <td>2020/03/06</td>\n",
       "      <td>2024/04/21</td>\n",
       "      <td>2030/12/24</td>\n",
       "      <td>2041/10/13</td>\n",
       "    </tr>\n",
       "    <tr>\n",
       "      <th>3</th>\n",
       "      <td>2014/03/06</td>\n",
       "      <td>2014/06/08</td>\n",
       "      <td>2014/11/07</td>\n",
       "      <td>2015/07/11</td>\n",
       "      <td>2016/08/12</td>\n",
       "      <td>2018/05/18</td>\n",
       "      <td>2021/03/25</td>\n",
       "      <td>2025/11/06</td>\n",
       "      <td>2033/04/26</td>\n",
       "      <td>2045/05/28</td>\n",
       "    </tr>\n",
       "    <tr>\n",
       "      <th>4</th>\n",
       "      <td>2014/01/15</td>\n",
       "      <td>2014/02/23</td>\n",
       "      <td>2014/04/27</td>\n",
       "      <td>2014/08/07</td>\n",
       "      <td>2015/01/19</td>\n",
       "      <td>2015/10/13</td>\n",
       "      <td>2016/12/19</td>\n",
       "      <td>2018/11/18</td>\n",
       "      <td>2021/12/24</td>\n",
       "      <td>2026/12/30</td>\n",
       "    </tr>\n",
       "    <tr>\n",
       "      <th>...</th>\n",
       "      <td>...</td>\n",
       "      <td>...</td>\n",
       "      <td>...</td>\n",
       "      <td>...</td>\n",
       "      <td>...</td>\n",
       "      <td>...</td>\n",
       "      <td>...</td>\n",
       "      <td>...</td>\n",
       "      <td>...</td>\n",
       "      <td>...</td>\n",
       "    </tr>\n",
       "    <tr>\n",
       "      <th>173</th>\n",
       "      <td>2022/02/22</td>\n",
       "      <td>2022/05/16</td>\n",
       "      <td>2022/09/27</td>\n",
       "      <td>2023/05/02</td>\n",
       "      <td>2024/04/18</td>\n",
       "      <td>2025/11/08</td>\n",
       "      <td>2028/05/16</td>\n",
       "      <td>2032/06/13</td>\n",
       "      <td>2039/01/17</td>\n",
       "      <td>2049/09/20</td>\n",
       "    </tr>\n",
       "    <tr>\n",
       "      <th>174</th>\n",
       "      <td>2022/09/29</td>\n",
       "      <td>2023/03/19</td>\n",
       "      <td>2023/12/21</td>\n",
       "      <td>2025/03/12</td>\n",
       "      <td>2027/03/07</td>\n",
       "      <td>2030/05/22</td>\n",
       "      <td>2035/07/31</td>\n",
       "      <td>2043/12/24</td>\n",
       "      <td>2057/07/26</td>\n",
       "      <td>2079/07/23</td>\n",
       "    </tr>\n",
       "    <tr>\n",
       "      <th>175</th>\n",
       "      <td>2022/08/14</td>\n",
       "      <td>2022/12/17</td>\n",
       "      <td>2023/07/07</td>\n",
       "      <td>2024/05/29</td>\n",
       "      <td>2025/11/10</td>\n",
       "      <td>2028/03/15</td>\n",
       "      <td>2031/12/31</td>\n",
       "      <td>2038/02/20</td>\n",
       "      <td>2048/01/27</td>\n",
       "      <td>2064/02/23</td>\n",
       "    </tr>\n",
       "    <tr>\n",
       "      <th>176</th>\n",
       "      <td>2022/10/02</td>\n",
       "      <td>2023/02/15</td>\n",
       "      <td>2023/09/23</td>\n",
       "      <td>2024/09/13</td>\n",
       "      <td>2026/04/12</td>\n",
       "      <td>2028/10/30</td>\n",
       "      <td>2032/12/16</td>\n",
       "      <td>2039/08/22</td>\n",
       "      <td>2050/06/12</td>\n",
       "      <td>2067/12/08</td>\n",
       "    </tr>\n",
       "    <tr>\n",
       "      <th>177</th>\n",
       "      <td>2022/08/24</td>\n",
       "      <td>2022/11/24</td>\n",
       "      <td>2023/04/22</td>\n",
       "      <td>2023/12/19</td>\n",
       "      <td>2025/01/12</td>\n",
       "      <td>2026/10/04</td>\n",
       "      <td>2029/07/20</td>\n",
       "      <td>2034/01/26</td>\n",
       "      <td>2041/05/19</td>\n",
       "      <td>2053/03/18</td>\n",
       "    </tr>\n",
       "  </tbody>\n",
       "</table>\n",
       "<p>178 rows × 10 columns</p>\n",
       "</div>"
      ],
      "text/plain": [
       "              1           2           3           4           5           6  \\\n",
       "0    2009/04/16  2009/06/19  2009/10/01  2010/03/17  2010/12/13  2012/02/25   \n",
       "1    2020/03/04  2024/06/09  2031/05/05  2042/07/04  2060/07/28  2089/10/21   \n",
       "2    2013/11/15  2014/02/07  2014/06/23  2015/01/29  2016/01/20  2017/08/18   \n",
       "3    2014/03/06  2014/06/08  2014/11/07  2015/07/11  2016/08/12  2018/05/18   \n",
       "4    2014/01/15  2014/02/23  2014/04/27  2014/08/07  2015/01/19  2015/10/13   \n",
       "..          ...         ...         ...         ...         ...         ...   \n",
       "173  2022/02/22  2022/05/16  2022/09/27  2023/05/02  2024/04/18  2025/11/08   \n",
       "174  2022/09/29  2023/03/19  2023/12/21  2025/03/12  2027/03/07  2030/05/22   \n",
       "175  2022/08/14  2022/12/17  2023/07/07  2024/05/29  2025/11/10  2028/03/15   \n",
       "176  2022/10/02  2023/02/15  2023/09/23  2024/09/13  2026/04/12  2028/10/30   \n",
       "177  2022/08/24  2022/11/24  2023/04/22  2023/12/19  2025/01/12  2026/10/04   \n",
       "\n",
       "              7           8           9          10  \n",
       "0    2014/02/03  2017/03/28  2022/04/28  2030/07/21  \n",
       "1    2137/02/08  2213/08/20  1752/11/26  1953/04/02  \n",
       "2    2020/03/06  2024/04/21  2030/12/24  2041/10/13  \n",
       "3    2021/03/25  2025/11/06  2033/04/26  2045/05/28  \n",
       "4    2016/12/19  2018/11/18  2021/12/24  2026/12/30  \n",
       "..          ...         ...         ...         ...  \n",
       "173  2028/05/16  2032/06/13  2039/01/17  2049/09/20  \n",
       "174  2035/07/31  2043/12/24  2057/07/26  2079/07/23  \n",
       "175  2031/12/31  2038/02/20  2048/01/27  2064/02/23  \n",
       "176  2032/12/16  2039/08/22  2050/06/12  2067/12/08  \n",
       "177  2029/07/20  2034/01/26  2041/05/19  2053/03/18  \n",
       "\n",
       "[178 rows x 10 columns]"
      ]
     },
     "execution_count": 64,
     "metadata": {},
     "output_type": "execute_result"
    }
   ],
   "source": [
    "# Vectorization Full 618\n",
    "\n",
    "op618 = (d2 - d1).dt.days.to_numpy().reshape(-1, 1) * (1.618 ** np.arange(1, 11)).reshape(1, -1)\n",
    "m618 = op618.astype('timedelta64[D]') + d2.to_numpy().reshape(-1, 1) \n",
    "\n",
    "m618 = pd.DataFrame(m618, columns=['1', '2', '3', '4', '5','6','7','8','9', '10'])\n",
    "\n",
    "m618['1'] = m618['1'].dt.strftime('%Y/%m/%d')\n",
    "m618['2'] = m618['2'].dt.strftime('%Y/%m/%d')\n",
    "m618['3'] = m618['3'].dt.strftime('%Y/%m/%d')\n",
    "m618['4'] = m618['4'].dt.strftime('%Y/%m/%d')\n",
    "m618['5'] = m618['5'].dt.strftime('%Y/%m/%d')\n",
    "m618['6'] = m618['6'].dt.strftime('%Y/%m/%d')\n",
    "m618['7'] = m618['7'].dt.strftime('%Y/%m/%d')\n",
    "m618['8'] = m618['8'].dt.strftime('%Y/%m/%d')\n",
    "m618['9'] = m618['9'].dt.strftime('%Y/%m/%d')\n",
    "m618['10'] = m618['10'].dt.strftime('%Y/%m/%d')\n",
    "\n",
    "m618"
   ]
  },
  {
   "cell_type": "code",
   "execution_count": 65,
   "id": "caf18607",
   "metadata": {},
   "outputs": [],
   "source": [
    "# Vectorization Full 414\n",
    "\n",
    "op414 = (d2 - d1).dt.days.to_numpy().reshape(-1, 1) * (1.414 ** np.arange(1, 11)).reshape(1, -1)\n",
    "m414 = op414.astype('timedelta64[D]') + d2.to_numpy().reshape(-1, 1) \n",
    "\n",
    "m414 = pd.DataFrame(m414, columns=['1', '2', '3', '4', '5','6','7','8','9', '10'])\n",
    "\n",
    "m414['1'] = m414['1'].dt.strftime('%Y/%m/%d')\n",
    "m414['2'] = m414['2'].dt.strftime('%Y/%m/%d')\n",
    "m414['3'] = m414['3'].dt.strftime('%Y/%m/%d')\n",
    "m414['4'] = m414['4'].dt.strftime('%Y/%m/%d')\n",
    "m414['5'] = m414['5'].dt.strftime('%Y/%m/%d')\n",
    "m414['6'] = m414['6'].dt.strftime('%Y/%m/%d')\n",
    "m414['7'] = m414['7'].dt.strftime('%Y/%m/%d')\n",
    "m414['8'] = m414['8'].dt.strftime('%Y/%m/%d')\n",
    "m414['9'] = m414['9'].dt.strftime('%Y/%m/%d')\n",
    "m414['10'] = m414['10'].dt.strftime('%Y/%m/%d')"
   ]
  },
  {
   "cell_type": "code",
   "execution_count": 66,
   "id": "629e4c24",
   "metadata": {},
   "outputs": [],
   "source": [
    "# Vectorization Full 732\n",
    "\n",
    "op732 = (d2 - d1).dt.days.to_numpy().reshape(-1, 1) * (1.732 ** np.arange(1, 11)).reshape(1, -1)\n",
    "m732 = op732.astype('timedelta64[D]') + d2.to_numpy().reshape(-1, 1) \n",
    "\n",
    "m732 = pd.DataFrame(m732, columns=['1', '2', '3', '4', '5','6','7','8','9', '10'])\n",
    "\n",
    "m732['1'] = m732['1'].dt.strftime('%Y/%m/%d')\n",
    "m732['2'] = m732['2'].dt.strftime('%Y/%m/%d')\n",
    "m732['3'] = m732['3'].dt.strftime('%Y/%m/%d')\n",
    "m732['4'] = m732['4'].dt.strftime('%Y/%m/%d')\n",
    "m732['5'] = m732['5'].dt.strftime('%Y/%m/%d')\n",
    "m732['6'] = m732['6'].dt.strftime('%Y/%m/%d')\n",
    "m732['7'] = m732['7'].dt.strftime('%Y/%m/%d')\n",
    "m732['8'] = m732['8'].dt.strftime('%Y/%m/%d')\n",
    "m732['9'] = m732['9'].dt.strftime('%Y/%m/%d')\n",
    "m732['10'] = m732['10'].dt.strftime('%Y/%m/%d')"
   ]
  },
  {
   "cell_type": "code",
   "execution_count": 67,
   "id": "8bfc0230",
   "metadata": {},
   "outputs": [
    {
     "data": {
      "text/html": [
       "<style type=\"text/css\">\n",
       "#T_07bf0_row0_col1, #T_07bf0_row2_col1, #T_07bf0_row3_col1, #T_07bf0_row6_col1, #T_07bf0_row7_col1, #T_07bf0_row8_col1, #T_07bf0_row9_col1 {\n",
       "  background-color: #f7fbff;\n",
       "  color: #000000;\n",
       "}\n",
       "#T_07bf0_row1_col1 {\n",
       "  background-color: #6aaed6;\n",
       "  color: #f1f1f1;\n",
       "}\n",
       "#T_07bf0_row4_col1, #T_07bf0_row5_col1 {\n",
       "  background-color: #08306b;\n",
       "  color: #f1f1f1;\n",
       "}\n",
       "</style>\n",
       "<table id=\"T_07bf0_\">\n",
       "  <thead>\n",
       "    <tr>\n",
       "      <th class=\"blank level0\" >&nbsp;</th>\n",
       "      <th class=\"col_heading level0 col0\" >Date</th>\n",
       "      <th class=\"col_heading level0 col1\" >Hit</th>\n",
       "    </tr>\n",
       "  </thead>\n",
       "  <tbody>\n",
       "    <tr>\n",
       "      <th id=\"T_07bf0_level0_row0\" class=\"row_heading level0 row0\" >3315</th>\n",
       "      <td id=\"T_07bf0_row0_col0\" class=\"data row0 col0\" >2023-01-28 00:00:00</td>\n",
       "      <td id=\"T_07bf0_row0_col1\" class=\"data row0 col1\" >1</td>\n",
       "    </tr>\n",
       "    <tr>\n",
       "      <th id=\"T_07bf0_level0_row1\" class=\"row_heading level0 row1\" >3549</th>\n",
       "      <td id=\"T_07bf0_row1_col0\" class=\"data row1 col0\" >2023-01-29 00:00:00</td>\n",
       "      <td id=\"T_07bf0_row1_col1\" class=\"data row1 col1\" >2</td>\n",
       "    </tr>\n",
       "    <tr>\n",
       "      <th id=\"T_07bf0_level0_row2\" class=\"row_heading level0 row2\" >2118</th>\n",
       "      <td id=\"T_07bf0_row2_col0\" class=\"data row2 col0\" >2023-01-31 00:00:00</td>\n",
       "      <td id=\"T_07bf0_row2_col1\" class=\"data row2 col1\" >1</td>\n",
       "    </tr>\n",
       "    <tr>\n",
       "      <th id=\"T_07bf0_level0_row3\" class=\"row_heading level0 row3\" >2172</th>\n",
       "      <td id=\"T_07bf0_row3_col0\" class=\"data row3 col0\" >2023-02-01 00:00:00</td>\n",
       "      <td id=\"T_07bf0_row3_col1\" class=\"data row3 col1\" >1</td>\n",
       "    </tr>\n",
       "    <tr>\n",
       "      <th id=\"T_07bf0_level0_row4\" class=\"row_heading level0 row4\" >4060</th>\n",
       "      <td id=\"T_07bf0_row4_col0\" class=\"data row4 col0\" >2023-02-02 00:00:00</td>\n",
       "      <td id=\"T_07bf0_row4_col1\" class=\"data row4 col1\" >3</td>\n",
       "    </tr>\n",
       "    <tr>\n",
       "      <th id=\"T_07bf0_level0_row5\" class=\"row_heading level0 row5\" >4022</th>\n",
       "      <td id=\"T_07bf0_row5_col0\" class=\"data row5 col0\" >2023-02-05 00:00:00</td>\n",
       "      <td id=\"T_07bf0_row5_col1\" class=\"data row5 col1\" >3</td>\n",
       "    </tr>\n",
       "    <tr>\n",
       "      <th id=\"T_07bf0_level0_row6\" class=\"row_heading level0 row6\" >519</th>\n",
       "      <td id=\"T_07bf0_row6_col0\" class=\"data row6 col0\" >2023-02-06 00:00:00</td>\n",
       "      <td id=\"T_07bf0_row6_col1\" class=\"data row6 col1\" >1</td>\n",
       "    </tr>\n",
       "    <tr>\n",
       "      <th id=\"T_07bf0_level0_row7\" class=\"row_heading level0 row7\" >2297</th>\n",
       "      <td id=\"T_07bf0_row7_col0\" class=\"data row7 col0\" >2023-02-07 00:00:00</td>\n",
       "      <td id=\"T_07bf0_row7_col1\" class=\"data row7 col1\" >1</td>\n",
       "    </tr>\n",
       "    <tr>\n",
       "      <th id=\"T_07bf0_level0_row8\" class=\"row_heading level0 row8\" >2207</th>\n",
       "      <td id=\"T_07bf0_row8_col0\" class=\"data row8 col0\" >2023-02-08 00:00:00</td>\n",
       "      <td id=\"T_07bf0_row8_col1\" class=\"data row8 col1\" >1</td>\n",
       "    </tr>\n",
       "    <tr>\n",
       "      <th id=\"T_07bf0_level0_row9\" class=\"row_heading level0 row9\" >843</th>\n",
       "      <td id=\"T_07bf0_row9_col0\" class=\"data row9 col0\" >2023-02-09 00:00:00</td>\n",
       "      <td id=\"T_07bf0_row9_col1\" class=\"data row9 col1\" >1</td>\n",
       "    </tr>\n",
       "  </tbody>\n",
       "</table>\n"
      ],
      "text/plain": [
       "<pandas.io.formats.style.Styler at 0x2117939e460>"
      ]
     },
     "execution_count": 67,
     "metadata": {},
     "output_type": "execute_result"
    }
   ],
   "source": [
    "from datetime import datetime\n",
    "\n",
    "multi = pd.concat([m618, m414, m732])\n",
    "\n",
    "tae = datetime.strftime(datetime.now(), \"%d/%m/%Y\")\n",
    "tx = pd.to_datetime(tae)\n",
    "tx = pd.to_datetime(tx)\n",
    "\n",
    "adpod = multi.copy()\n",
    "\n",
    "good = adpod[1:].unstack().value_counts(ascending=True)\n",
    "\n",
    "good = pd.DataFrame(good, columns=['Hit'])\n",
    "\n",
    "good = good.reset_index()\n",
    "good = good.rename_axis('E', axis=1)\n",
    "good.columns = good.columns.str.replace('index', 'Date')\n",
    "good = good.rename_axis(None, axis=1)\n",
    "\n",
    "start_date = t  - timedelta(days = 2)\n",
    "end_date = t + timedelta(days = 90)\n",
    "\n",
    "good['Date'] = pd.to_datetime(good['Date'])\n",
    "\n",
    "mask = (good['Date'] > start_date) & (good['Date'] <= end_date)\n",
    "good = good.loc[mask]\n",
    "\n",
    "# addp_hits.head(50)\n",
    "\n",
    "mult_hits = good.sort_values(by=['Date'], ascending=True)\n",
    "mult_hits.head(10).style.background_gradient(cmap='Blues')"
   ]
  },
  {
   "cell_type": "code",
   "execution_count": 68,
   "id": "0f444b5f",
   "metadata": {},
   "outputs": [
    {
     "data": {
      "text/html": [
       "<div>\n",
       "<style scoped>\n",
       "    .dataframe tbody tr th:only-of-type {\n",
       "        vertical-align: middle;\n",
       "    }\n",
       "\n",
       "    .dataframe tbody tr th {\n",
       "        vertical-align: top;\n",
       "    }\n",
       "\n",
       "    .dataframe thead th {\n",
       "        text-align: right;\n",
       "    }\n",
       "</style>\n",
       "<table border=\"1\" class=\"dataframe\">\n",
       "  <thead>\n",
       "    <tr style=\"text-align: right;\">\n",
       "      <th></th>\n",
       "      <th>Date</th>\n",
       "      <th>Hit</th>\n",
       "    </tr>\n",
       "  </thead>\n",
       "  <tbody>\n",
       "    <tr>\n",
       "      <th>3315</th>\n",
       "      <td>2023-01-28</td>\n",
       "      <td>1</td>\n",
       "    </tr>\n",
       "    <tr>\n",
       "      <th>3549</th>\n",
       "      <td>2023-01-29</td>\n",
       "      <td>2</td>\n",
       "    </tr>\n",
       "    <tr>\n",
       "      <th>2118</th>\n",
       "      <td>2023-01-31</td>\n",
       "      <td>1</td>\n",
       "    </tr>\n",
       "    <tr>\n",
       "      <th>2172</th>\n",
       "      <td>2023-02-01</td>\n",
       "      <td>1</td>\n",
       "    </tr>\n",
       "    <tr>\n",
       "      <th>4060</th>\n",
       "      <td>2023-02-02</td>\n",
       "      <td>3</td>\n",
       "    </tr>\n",
       "    <tr>\n",
       "      <th>4022</th>\n",
       "      <td>2023-02-05</td>\n",
       "      <td>3</td>\n",
       "    </tr>\n",
       "    <tr>\n",
       "      <th>519</th>\n",
       "      <td>2023-02-06</td>\n",
       "      <td>1</td>\n",
       "    </tr>\n",
       "    <tr>\n",
       "      <th>2297</th>\n",
       "      <td>2023-02-07</td>\n",
       "      <td>1</td>\n",
       "    </tr>\n",
       "    <tr>\n",
       "      <th>2207</th>\n",
       "      <td>2023-02-08</td>\n",
       "      <td>1</td>\n",
       "    </tr>\n",
       "    <tr>\n",
       "      <th>843</th>\n",
       "      <td>2023-02-09</td>\n",
       "      <td>1</td>\n",
       "    </tr>\n",
       "    <tr>\n",
       "      <th>4057</th>\n",
       "      <td>2023-02-10</td>\n",
       "      <td>3</td>\n",
       "    </tr>\n",
       "    <tr>\n",
       "      <th>2327</th>\n",
       "      <td>2023-02-11</td>\n",
       "      <td>1</td>\n",
       "    </tr>\n",
       "    <tr>\n",
       "      <th>3841</th>\n",
       "      <td>2023-02-12</td>\n",
       "      <td>2</td>\n",
       "    </tr>\n",
       "    <tr>\n",
       "      <th>3382</th>\n",
       "      <td>2023-02-15</td>\n",
       "      <td>2</td>\n",
       "    </tr>\n",
       "    <tr>\n",
       "      <th>3018</th>\n",
       "      <td>2023-02-17</td>\n",
       "      <td>1</td>\n",
       "    </tr>\n",
       "    <tr>\n",
       "      <th>2410</th>\n",
       "      <td>2023-02-18</td>\n",
       "      <td>1</td>\n",
       "    </tr>\n",
       "    <tr>\n",
       "      <th>528</th>\n",
       "      <td>2023-02-19</td>\n",
       "      <td>1</td>\n",
       "    </tr>\n",
       "    <tr>\n",
       "      <th>642</th>\n",
       "      <td>2023-02-21</td>\n",
       "      <td>1</td>\n",
       "    </tr>\n",
       "    <tr>\n",
       "      <th>3731</th>\n",
       "      <td>2023-02-22</td>\n",
       "      <td>2</td>\n",
       "    </tr>\n",
       "    <tr>\n",
       "      <th>2329</th>\n",
       "      <td>2023-02-24</td>\n",
       "      <td>1</td>\n",
       "    </tr>\n",
       "    <tr>\n",
       "      <th>945</th>\n",
       "      <td>2023-02-25</td>\n",
       "      <td>1</td>\n",
       "    </tr>\n",
       "    <tr>\n",
       "      <th>2295</th>\n",
       "      <td>2023-02-27</td>\n",
       "      <td>1</td>\n",
       "    </tr>\n",
       "    <tr>\n",
       "      <th>2416</th>\n",
       "      <td>2023-02-28</td>\n",
       "      <td>1</td>\n",
       "    </tr>\n",
       "    <tr>\n",
       "      <th>2988</th>\n",
       "      <td>2023-03-01</td>\n",
       "      <td>1</td>\n",
       "    </tr>\n",
       "    <tr>\n",
       "      <th>3890</th>\n",
       "      <td>2023-03-02</td>\n",
       "      <td>2</td>\n",
       "    </tr>\n",
       "    <tr>\n",
       "      <th>3726</th>\n",
       "      <td>2023-03-07</td>\n",
       "      <td>2</td>\n",
       "    </tr>\n",
       "    <tr>\n",
       "      <th>3121</th>\n",
       "      <td>2023-03-08</td>\n",
       "      <td>1</td>\n",
       "    </tr>\n",
       "    <tr>\n",
       "      <th>2447</th>\n",
       "      <td>2023-03-10</td>\n",
       "      <td>1</td>\n",
       "    </tr>\n",
       "    <tr>\n",
       "      <th>3259</th>\n",
       "      <td>2023-03-12</td>\n",
       "      <td>1</td>\n",
       "    </tr>\n",
       "    <tr>\n",
       "      <th>353</th>\n",
       "      <td>2023-03-13</td>\n",
       "      <td>1</td>\n",
       "    </tr>\n",
       "  </tbody>\n",
       "</table>\n",
       "</div>"
      ],
      "text/plain": [
       "           Date  Hit\n",
       "3315 2023-01-28    1\n",
       "3549 2023-01-29    2\n",
       "2118 2023-01-31    1\n",
       "2172 2023-02-01    1\n",
       "4060 2023-02-02    3\n",
       "4022 2023-02-05    3\n",
       "519  2023-02-06    1\n",
       "2297 2023-02-07    1\n",
       "2207 2023-02-08    1\n",
       "843  2023-02-09    1\n",
       "4057 2023-02-10    3\n",
       "2327 2023-02-11    1\n",
       "3841 2023-02-12    2\n",
       "3382 2023-02-15    2\n",
       "3018 2023-02-17    1\n",
       "2410 2023-02-18    1\n",
       "528  2023-02-19    1\n",
       "642  2023-02-21    1\n",
       "3731 2023-02-22    2\n",
       "2329 2023-02-24    1\n",
       "945  2023-02-25    1\n",
       "2295 2023-02-27    1\n",
       "2416 2023-02-28    1\n",
       "2988 2023-03-01    1\n",
       "3890 2023-03-02    2\n",
       "3726 2023-03-07    2\n",
       "3121 2023-03-08    1\n",
       "2447 2023-03-10    1\n",
       "3259 2023-03-12    1\n",
       "353  2023-03-13    1"
      ]
     },
     "execution_count": 68,
     "metadata": {},
     "output_type": "execute_result"
    }
   ],
   "source": [
    "dz_MULT = mult_hits.head(30)\n",
    "dz_MULT.to_csv(os.path.join('C://Users//ASUS//Desktop//ASTROTOOL//streamlit//data','Mult.csv'), index= False)\n",
    "dz_MULT"
   ]
  },
  {
   "cell_type": "markdown",
   "id": "fdcf1aa8",
   "metadata": {},
   "source": [
    "## 2. Result"
   ]
  },
  {
   "cell_type": "code",
   "execution_count": 69,
   "id": "016fdaf4",
   "metadata": {},
   "outputs": [
    {
     "data": {
      "application/vnd.plotly.v1+json": {
       "config": {
        "plotlyServerURL": "https://plot.ly"
       },
       "data": [
        {
         "alignmentgroup": "True",
         "hovertemplate": "Date=%{x}<br>Hit=%{y}<extra></extra>",
         "legendgroup": "",
         "marker": {
          "color": "#636efa",
          "pattern": {
           "shape": ""
          }
         },
         "name": "",
         "offsetgroup": "",
         "orientation": "v",
         "showlegend": false,
         "textposition": "auto",
         "type": "bar",
         "x": [
          "2023-01-28T00:00:00",
          "2023-01-29T00:00:00",
          "2023-01-31T00:00:00",
          "2023-02-01T00:00:00",
          "2023-02-02T00:00:00",
          "2023-02-05T00:00:00",
          "2023-02-06T00:00:00",
          "2023-02-07T00:00:00",
          "2023-02-08T00:00:00",
          "2023-02-09T00:00:00",
          "2023-02-10T00:00:00",
          "2023-02-11T00:00:00",
          "2023-02-12T00:00:00",
          "2023-02-15T00:00:00",
          "2023-02-17T00:00:00",
          "2023-02-18T00:00:00",
          "2023-02-19T00:00:00",
          "2023-02-21T00:00:00",
          "2023-02-22T00:00:00",
          "2023-02-24T00:00:00",
          "2023-02-25T00:00:00",
          "2023-02-27T00:00:00",
          "2023-02-28T00:00:00",
          "2023-03-01T00:00:00",
          "2023-03-02T00:00:00",
          "2023-03-07T00:00:00",
          "2023-03-08T00:00:00",
          "2023-03-10T00:00:00",
          "2023-03-12T00:00:00",
          "2023-03-13T00:00:00",
          "2023-03-14T00:00:00",
          "2023-03-15T00:00:00",
          "2023-03-17T00:00:00",
          "2023-03-19T00:00:00",
          "2023-03-20T00:00:00",
          "2023-03-21T00:00:00",
          "2023-03-23T00:00:00",
          "2023-03-24T00:00:00",
          "2023-03-25T00:00:00",
          "2023-03-26T00:00:00",
          "2023-03-27T00:00:00",
          "2023-03-28T00:00:00",
          "2023-03-29T00:00:00",
          "2023-03-31T00:00:00",
          "2023-04-03T00:00:00",
          "2023-04-04T00:00:00",
          "2023-04-05T00:00:00",
          "2023-04-07T00:00:00",
          "2023-04-08T00:00:00",
          "2023-04-10T00:00:00",
          "2023-04-11T00:00:00",
          "2023-04-13T00:00:00",
          "2023-04-15T00:00:00",
          "2023-04-16T00:00:00",
          "2023-04-18T00:00:00",
          "2023-04-21T00:00:00",
          "2023-04-22T00:00:00",
          "2023-04-24T00:00:00",
          "2023-04-27T00:00:00"
         ],
         "xaxis": "x",
         "y": [
          1,
          2,
          1,
          1,
          3,
          3,
          1,
          1,
          1,
          1,
          3,
          1,
          2,
          2,
          1,
          1,
          1,
          1,
          2,
          1,
          1,
          1,
          1,
          1,
          2,
          2,
          1,
          1,
          1,
          1,
          2,
          1,
          1,
          2,
          1,
          1,
          1,
          1,
          2,
          2,
          1,
          1,
          2,
          1,
          1,
          2,
          2,
          2,
          1,
          2,
          1,
          2,
          1,
          1,
          1,
          2,
          1,
          1,
          1
         ],
         "yaxis": "y"
        }
       ],
       "layout": {
        "barmode": "relative",
        "legend": {
         "tracegroupgap": 0
        },
        "margin": {
         "t": 60
        },
        "template": {
         "data": {
          "bar": [
           {
            "error_x": {
             "color": "#2a3f5f"
            },
            "error_y": {
             "color": "#2a3f5f"
            },
            "marker": {
             "line": {
              "color": "#E5ECF6",
              "width": 0.5
             },
             "pattern": {
              "fillmode": "overlay",
              "size": 10,
              "solidity": 0.2
             }
            },
            "type": "bar"
           }
          ],
          "barpolar": [
           {
            "marker": {
             "line": {
              "color": "#E5ECF6",
              "width": 0.5
             },
             "pattern": {
              "fillmode": "overlay",
              "size": 10,
              "solidity": 0.2
             }
            },
            "type": "barpolar"
           }
          ],
          "carpet": [
           {
            "aaxis": {
             "endlinecolor": "#2a3f5f",
             "gridcolor": "white",
             "linecolor": "white",
             "minorgridcolor": "white",
             "startlinecolor": "#2a3f5f"
            },
            "baxis": {
             "endlinecolor": "#2a3f5f",
             "gridcolor": "white",
             "linecolor": "white",
             "minorgridcolor": "white",
             "startlinecolor": "#2a3f5f"
            },
            "type": "carpet"
           }
          ],
          "choropleth": [
           {
            "colorbar": {
             "outlinewidth": 0,
             "ticks": ""
            },
            "type": "choropleth"
           }
          ],
          "contour": [
           {
            "colorbar": {
             "outlinewidth": 0,
             "ticks": ""
            },
            "colorscale": [
             [
              0,
              "#0d0887"
             ],
             [
              0.1111111111111111,
              "#46039f"
             ],
             [
              0.2222222222222222,
              "#7201a8"
             ],
             [
              0.3333333333333333,
              "#9c179e"
             ],
             [
              0.4444444444444444,
              "#bd3786"
             ],
             [
              0.5555555555555556,
              "#d8576b"
             ],
             [
              0.6666666666666666,
              "#ed7953"
             ],
             [
              0.7777777777777778,
              "#fb9f3a"
             ],
             [
              0.8888888888888888,
              "#fdca26"
             ],
             [
              1,
              "#f0f921"
             ]
            ],
            "type": "contour"
           }
          ],
          "contourcarpet": [
           {
            "colorbar": {
             "outlinewidth": 0,
             "ticks": ""
            },
            "type": "contourcarpet"
           }
          ],
          "heatmap": [
           {
            "colorbar": {
             "outlinewidth": 0,
             "ticks": ""
            },
            "colorscale": [
             [
              0,
              "#0d0887"
             ],
             [
              0.1111111111111111,
              "#46039f"
             ],
             [
              0.2222222222222222,
              "#7201a8"
             ],
             [
              0.3333333333333333,
              "#9c179e"
             ],
             [
              0.4444444444444444,
              "#bd3786"
             ],
             [
              0.5555555555555556,
              "#d8576b"
             ],
             [
              0.6666666666666666,
              "#ed7953"
             ],
             [
              0.7777777777777778,
              "#fb9f3a"
             ],
             [
              0.8888888888888888,
              "#fdca26"
             ],
             [
              1,
              "#f0f921"
             ]
            ],
            "type": "heatmap"
           }
          ],
          "heatmapgl": [
           {
            "colorbar": {
             "outlinewidth": 0,
             "ticks": ""
            },
            "colorscale": [
             [
              0,
              "#0d0887"
             ],
             [
              0.1111111111111111,
              "#46039f"
             ],
             [
              0.2222222222222222,
              "#7201a8"
             ],
             [
              0.3333333333333333,
              "#9c179e"
             ],
             [
              0.4444444444444444,
              "#bd3786"
             ],
             [
              0.5555555555555556,
              "#d8576b"
             ],
             [
              0.6666666666666666,
              "#ed7953"
             ],
             [
              0.7777777777777778,
              "#fb9f3a"
             ],
             [
              0.8888888888888888,
              "#fdca26"
             ],
             [
              1,
              "#f0f921"
             ]
            ],
            "type": "heatmapgl"
           }
          ],
          "histogram": [
           {
            "marker": {
             "pattern": {
              "fillmode": "overlay",
              "size": 10,
              "solidity": 0.2
             }
            },
            "type": "histogram"
           }
          ],
          "histogram2d": [
           {
            "colorbar": {
             "outlinewidth": 0,
             "ticks": ""
            },
            "colorscale": [
             [
              0,
              "#0d0887"
             ],
             [
              0.1111111111111111,
              "#46039f"
             ],
             [
              0.2222222222222222,
              "#7201a8"
             ],
             [
              0.3333333333333333,
              "#9c179e"
             ],
             [
              0.4444444444444444,
              "#bd3786"
             ],
             [
              0.5555555555555556,
              "#d8576b"
             ],
             [
              0.6666666666666666,
              "#ed7953"
             ],
             [
              0.7777777777777778,
              "#fb9f3a"
             ],
             [
              0.8888888888888888,
              "#fdca26"
             ],
             [
              1,
              "#f0f921"
             ]
            ],
            "type": "histogram2d"
           }
          ],
          "histogram2dcontour": [
           {
            "colorbar": {
             "outlinewidth": 0,
             "ticks": ""
            },
            "colorscale": [
             [
              0,
              "#0d0887"
             ],
             [
              0.1111111111111111,
              "#46039f"
             ],
             [
              0.2222222222222222,
              "#7201a8"
             ],
             [
              0.3333333333333333,
              "#9c179e"
             ],
             [
              0.4444444444444444,
              "#bd3786"
             ],
             [
              0.5555555555555556,
              "#d8576b"
             ],
             [
              0.6666666666666666,
              "#ed7953"
             ],
             [
              0.7777777777777778,
              "#fb9f3a"
             ],
             [
              0.8888888888888888,
              "#fdca26"
             ],
             [
              1,
              "#f0f921"
             ]
            ],
            "type": "histogram2dcontour"
           }
          ],
          "mesh3d": [
           {
            "colorbar": {
             "outlinewidth": 0,
             "ticks": ""
            },
            "type": "mesh3d"
           }
          ],
          "parcoords": [
           {
            "line": {
             "colorbar": {
              "outlinewidth": 0,
              "ticks": ""
             }
            },
            "type": "parcoords"
           }
          ],
          "pie": [
           {
            "automargin": true,
            "type": "pie"
           }
          ],
          "scatter": [
           {
            "marker": {
             "colorbar": {
              "outlinewidth": 0,
              "ticks": ""
             }
            },
            "type": "scatter"
           }
          ],
          "scatter3d": [
           {
            "line": {
             "colorbar": {
              "outlinewidth": 0,
              "ticks": ""
             }
            },
            "marker": {
             "colorbar": {
              "outlinewidth": 0,
              "ticks": ""
             }
            },
            "type": "scatter3d"
           }
          ],
          "scattercarpet": [
           {
            "marker": {
             "colorbar": {
              "outlinewidth": 0,
              "ticks": ""
             }
            },
            "type": "scattercarpet"
           }
          ],
          "scattergeo": [
           {
            "marker": {
             "colorbar": {
              "outlinewidth": 0,
              "ticks": ""
             }
            },
            "type": "scattergeo"
           }
          ],
          "scattergl": [
           {
            "marker": {
             "colorbar": {
              "outlinewidth": 0,
              "ticks": ""
             }
            },
            "type": "scattergl"
           }
          ],
          "scattermapbox": [
           {
            "marker": {
             "colorbar": {
              "outlinewidth": 0,
              "ticks": ""
             }
            },
            "type": "scattermapbox"
           }
          ],
          "scatterpolar": [
           {
            "marker": {
             "colorbar": {
              "outlinewidth": 0,
              "ticks": ""
             }
            },
            "type": "scatterpolar"
           }
          ],
          "scatterpolargl": [
           {
            "marker": {
             "colorbar": {
              "outlinewidth": 0,
              "ticks": ""
             }
            },
            "type": "scatterpolargl"
           }
          ],
          "scatterternary": [
           {
            "marker": {
             "colorbar": {
              "outlinewidth": 0,
              "ticks": ""
             }
            },
            "type": "scatterternary"
           }
          ],
          "surface": [
           {
            "colorbar": {
             "outlinewidth": 0,
             "ticks": ""
            },
            "colorscale": [
             [
              0,
              "#0d0887"
             ],
             [
              0.1111111111111111,
              "#46039f"
             ],
             [
              0.2222222222222222,
              "#7201a8"
             ],
             [
              0.3333333333333333,
              "#9c179e"
             ],
             [
              0.4444444444444444,
              "#bd3786"
             ],
             [
              0.5555555555555556,
              "#d8576b"
             ],
             [
              0.6666666666666666,
              "#ed7953"
             ],
             [
              0.7777777777777778,
              "#fb9f3a"
             ],
             [
              0.8888888888888888,
              "#fdca26"
             ],
             [
              1,
              "#f0f921"
             ]
            ],
            "type": "surface"
           }
          ],
          "table": [
           {
            "cells": {
             "fill": {
              "color": "#EBF0F8"
             },
             "line": {
              "color": "white"
             }
            },
            "header": {
             "fill": {
              "color": "#C8D4E3"
             },
             "line": {
              "color": "white"
             }
            },
            "type": "table"
           }
          ]
         },
         "layout": {
          "annotationdefaults": {
           "arrowcolor": "#2a3f5f",
           "arrowhead": 0,
           "arrowwidth": 1
          },
          "autotypenumbers": "strict",
          "coloraxis": {
           "colorbar": {
            "outlinewidth": 0,
            "ticks": ""
           }
          },
          "colorscale": {
           "diverging": [
            [
             0,
             "#8e0152"
            ],
            [
             0.1,
             "#c51b7d"
            ],
            [
             0.2,
             "#de77ae"
            ],
            [
             0.3,
             "#f1b6da"
            ],
            [
             0.4,
             "#fde0ef"
            ],
            [
             0.5,
             "#f7f7f7"
            ],
            [
             0.6,
             "#e6f5d0"
            ],
            [
             0.7,
             "#b8e186"
            ],
            [
             0.8,
             "#7fbc41"
            ],
            [
             0.9,
             "#4d9221"
            ],
            [
             1,
             "#276419"
            ]
           ],
           "sequential": [
            [
             0,
             "#0d0887"
            ],
            [
             0.1111111111111111,
             "#46039f"
            ],
            [
             0.2222222222222222,
             "#7201a8"
            ],
            [
             0.3333333333333333,
             "#9c179e"
            ],
            [
             0.4444444444444444,
             "#bd3786"
            ],
            [
             0.5555555555555556,
             "#d8576b"
            ],
            [
             0.6666666666666666,
             "#ed7953"
            ],
            [
             0.7777777777777778,
             "#fb9f3a"
            ],
            [
             0.8888888888888888,
             "#fdca26"
            ],
            [
             1,
             "#f0f921"
            ]
           ],
           "sequentialminus": [
            [
             0,
             "#0d0887"
            ],
            [
             0.1111111111111111,
             "#46039f"
            ],
            [
             0.2222222222222222,
             "#7201a8"
            ],
            [
             0.3333333333333333,
             "#9c179e"
            ],
            [
             0.4444444444444444,
             "#bd3786"
            ],
            [
             0.5555555555555556,
             "#d8576b"
            ],
            [
             0.6666666666666666,
             "#ed7953"
            ],
            [
             0.7777777777777778,
             "#fb9f3a"
            ],
            [
             0.8888888888888888,
             "#fdca26"
            ],
            [
             1,
             "#f0f921"
            ]
           ]
          },
          "colorway": [
           "#636efa",
           "#EF553B",
           "#00cc96",
           "#ab63fa",
           "#FFA15A",
           "#19d3f3",
           "#FF6692",
           "#B6E880",
           "#FF97FF",
           "#FECB52"
          ],
          "font": {
           "color": "#2a3f5f"
          },
          "geo": {
           "bgcolor": "white",
           "lakecolor": "white",
           "landcolor": "#E5ECF6",
           "showlakes": true,
           "showland": true,
           "subunitcolor": "white"
          },
          "hoverlabel": {
           "align": "left"
          },
          "hovermode": "closest",
          "mapbox": {
           "style": "light"
          },
          "paper_bgcolor": "white",
          "plot_bgcolor": "#E5ECF6",
          "polar": {
           "angularaxis": {
            "gridcolor": "white",
            "linecolor": "white",
            "ticks": ""
           },
           "bgcolor": "#E5ECF6",
           "radialaxis": {
            "gridcolor": "white",
            "linecolor": "white",
            "ticks": ""
           }
          },
          "scene": {
           "xaxis": {
            "backgroundcolor": "#E5ECF6",
            "gridcolor": "white",
            "gridwidth": 2,
            "linecolor": "white",
            "showbackground": true,
            "ticks": "",
            "zerolinecolor": "white"
           },
           "yaxis": {
            "backgroundcolor": "#E5ECF6",
            "gridcolor": "white",
            "gridwidth": 2,
            "linecolor": "white",
            "showbackground": true,
            "ticks": "",
            "zerolinecolor": "white"
           },
           "zaxis": {
            "backgroundcolor": "#E5ECF6",
            "gridcolor": "white",
            "gridwidth": 2,
            "linecolor": "white",
            "showbackground": true,
            "ticks": "",
            "zerolinecolor": "white"
           }
          },
          "shapedefaults": {
           "line": {
            "color": "#2a3f5f"
           }
          },
          "ternary": {
           "aaxis": {
            "gridcolor": "white",
            "linecolor": "white",
            "ticks": ""
           },
           "baxis": {
            "gridcolor": "white",
            "linecolor": "white",
            "ticks": ""
           },
           "bgcolor": "#E5ECF6",
           "caxis": {
            "gridcolor": "white",
            "linecolor": "white",
            "ticks": ""
           }
          },
          "title": {
           "x": 0.05
          },
          "xaxis": {
           "automargin": true,
           "gridcolor": "white",
           "linecolor": "white",
           "ticks": "",
           "title": {
            "standoff": 15
           },
           "zerolinecolor": "white",
           "zerolinewidth": 2
          },
          "yaxis": {
           "automargin": true,
           "gridcolor": "white",
           "linecolor": "white",
           "ticks": "",
           "title": {
            "standoff": 15
           },
           "zerolinecolor": "white",
           "zerolinewidth": 2
          }
         }
        },
        "xaxis": {
         "anchor": "y",
         "domain": [
          0,
          1
         ],
         "title": {
          "text": "Date"
         }
        },
        "yaxis": {
         "anchor": "x",
         "domain": [
          0,
          1
         ],
         "title": {
          "text": "Hit"
         }
        }
       }
      }
     },
     "metadata": {},
     "output_type": "display_data"
    }
   ],
   "source": [
    "fig = px.bar(mult_hits, x='Date', y='Hit')\n",
    "fig.show()"
   ]
  },
  {
   "cell_type": "markdown",
   "id": "35e1013e",
   "metadata": {},
   "source": [
    "# **X. FutureDates.py**"
   ]
  },
  {
   "cell_type": "markdown",
   "id": "cb4c8b61",
   "metadata": {},
   "source": [
    "## 1. Code"
   ]
  },
  {
   "cell_type": "code",
   "execution_count": 70,
   "id": "4a499cd7",
   "metadata": {},
   "outputs": [
    {
     "name": "stderr",
     "output_type": "stream",
     "text": [
      "C:\\Users\\ASUS\\AppData\\Local\\Temp\\ipykernel_15596\\3124695810.py:17: SettingWithCopyWarning:\n",
      "\n",
      "\n",
      "A value is trying to be set on a copy of a slice from a DataFrame\n",
      "\n",
      "See the caveats in the documentation: https://pandas.pydata.org/pandas-docs/stable/user_guide/indexing.html#returning-a-view-versus-a-copy\n",
      "\n"
     ]
    },
    {
     "data": {
      "text/html": [
       "<div>\n",
       "<style scoped>\n",
       "    .dataframe tbody tr th:only-of-type {\n",
       "        vertical-align: middle;\n",
       "    }\n",
       "\n",
       "    .dataframe tbody tr th {\n",
       "        vertical-align: top;\n",
       "    }\n",
       "\n",
       "    .dataframe thead th {\n",
       "        text-align: right;\n",
       "    }\n",
       "</style>\n",
       "<table border=\"1\" class=\"dataframe\">\n",
       "  <thead>\n",
       "    <tr style=\"text-align: right;\">\n",
       "      <th></th>\n",
       "      <th>Date</th>\n",
       "      <th>Earth</th>\n",
       "      <th>Mer</th>\n",
       "      <th>Ven</th>\n",
       "      <th>Mar</th>\n",
       "      <th>Jup</th>\n",
       "      <th>Sat</th>\n",
       "      <th>Ura</th>\n",
       "    </tr>\n",
       "  </thead>\n",
       "  <tbody>\n",
       "    <tr>\n",
       "      <th>0</th>\n",
       "      <td>31/10/2008</td>\n",
       "      <td>25948.0</td>\n",
       "      <td>107774.0</td>\n",
       "      <td>42177.0</td>\n",
       "      <td>13781.0</td>\n",
       "      <td>2188.0</td>\n",
       "      <td>894.0</td>\n",
       "      <td>313.0</td>\n",
       "    </tr>\n",
       "    <tr>\n",
       "      <th>1</th>\n",
       "      <td>03/01/2009</td>\n",
       "      <td>26012.0</td>\n",
       "      <td>107995.0</td>\n",
       "      <td>42279.0</td>\n",
       "      <td>13816.0</td>\n",
       "      <td>2193.0</td>\n",
       "      <td>896.0</td>\n",
       "      <td>314.0</td>\n",
       "    </tr>\n",
       "    <tr>\n",
       "      <th>2</th>\n",
       "      <td>10/04/2013</td>\n",
       "      <td>27550.0</td>\n",
       "      <td>114378.0</td>\n",
       "      <td>44775.0</td>\n",
       "      <td>14649.0</td>\n",
       "      <td>2333.0</td>\n",
       "      <td>947.0</td>\n",
       "      <td>331.0</td>\n",
       "    </tr>\n",
       "    <tr>\n",
       "      <th>3</th>\n",
       "      <td>03/07/2013</td>\n",
       "      <td>27631.0</td>\n",
       "      <td>114727.0</td>\n",
       "      <td>44911.0</td>\n",
       "      <td>14697.0</td>\n",
       "      <td>2340.0</td>\n",
       "      <td>950.0</td>\n",
       "      <td>332.0</td>\n",
       "    </tr>\n",
       "    <tr>\n",
       "      <th>4</th>\n",
       "      <td>05/10/2013</td>\n",
       "      <td>27722.0</td>\n",
       "      <td>115104.0</td>\n",
       "      <td>45061.0</td>\n",
       "      <td>14742.0</td>\n",
       "      <td>2348.0</td>\n",
       "      <td>953.0</td>\n",
       "      <td>333.0</td>\n",
       "    </tr>\n",
       "    <tr>\n",
       "      <th>...</th>\n",
       "      <td>...</td>\n",
       "      <td>...</td>\n",
       "      <td>...</td>\n",
       "      <td>...</td>\n",
       "      <td>...</td>\n",
       "      <td>...</td>\n",
       "      <td>...</td>\n",
       "      <td>...</td>\n",
       "    </tr>\n",
       "    <tr>\n",
       "      <th>57</th>\n",
       "      <td>27/12/2021</td>\n",
       "      <td>30685.0</td>\n",
       "      <td>127392.0</td>\n",
       "      <td>49875.0</td>\n",
       "      <td>16299.0</td>\n",
       "      <td>2589.0</td>\n",
       "      <td>1044.0</td>\n",
       "      <td>366.0</td>\n",
       "    </tr>\n",
       "    <tr>\n",
       "      <th>58</th>\n",
       "      <td>24/01/2022</td>\n",
       "      <td>30714.0</td>\n",
       "      <td>127546.0</td>\n",
       "      <td>49920.0</td>\n",
       "      <td>16314.0</td>\n",
       "      <td>2592.0</td>\n",
       "      <td>1045.0</td>\n",
       "      <td>366.0</td>\n",
       "    </tr>\n",
       "    <tr>\n",
       "      <th>59</th>\n",
       "      <td>24/02/2022</td>\n",
       "      <td>30745.0</td>\n",
       "      <td>127663.0</td>\n",
       "      <td>49971.0</td>\n",
       "      <td>16331.0</td>\n",
       "      <td>2595.0</td>\n",
       "      <td>1046.0</td>\n",
       "      <td>366.0</td>\n",
       "    </tr>\n",
       "    <tr>\n",
       "      <th>60</th>\n",
       "      <td>29/03/2022</td>\n",
       "      <td>30778.0</td>\n",
       "      <td>127769.0</td>\n",
       "      <td>50024.0</td>\n",
       "      <td>16350.0</td>\n",
       "      <td>2598.0</td>\n",
       "      <td>1047.0</td>\n",
       "      <td>367.0</td>\n",
       "    </tr>\n",
       "    <tr>\n",
       "      <th>61</th>\n",
       "      <td>18/06/2022</td>\n",
       "      <td>30856.0</td>\n",
       "      <td>128101.0</td>\n",
       "      <td>50152.0</td>\n",
       "      <td>16400.0</td>\n",
       "      <td>2605.0</td>\n",
       "      <td>1050.0</td>\n",
       "      <td>368.0</td>\n",
       "    </tr>\n",
       "  </tbody>\n",
       "</table>\n",
       "<p>62 rows × 8 columns</p>\n",
       "</div>"
      ],
      "text/plain": [
       "          Date    Earth       Mer      Ven      Mar     Jup     Sat    Ura\n",
       "0   31/10/2008  25948.0  107774.0  42177.0  13781.0  2188.0   894.0  313.0\n",
       "1   03/01/2009  26012.0  107995.0  42279.0  13816.0  2193.0   896.0  314.0\n",
       "2   10/04/2013  27550.0  114378.0  44775.0  14649.0  2333.0   947.0  331.0\n",
       "3   03/07/2013  27631.0  114727.0  44911.0  14697.0  2340.0   950.0  332.0\n",
       "4   05/10/2013  27722.0  115104.0  45061.0  14742.0  2348.0   953.0  333.0\n",
       "..         ...      ...       ...      ...      ...     ...     ...    ...\n",
       "57  27/12/2021  30685.0  127392.0  49875.0  16299.0  2589.0  1044.0  366.0\n",
       "58  24/01/2022  30714.0  127546.0  49920.0  16314.0  2592.0  1045.0  366.0\n",
       "59  24/02/2022  30745.0  127663.0  49971.0  16331.0  2595.0  1046.0  366.0\n",
       "60  29/03/2022  30778.0  127769.0  50024.0  16350.0  2598.0  1047.0  367.0\n",
       "61  18/06/2022  30856.0  128101.0  50152.0  16400.0  2605.0  1050.0  368.0\n",
       "\n",
       "[62 rows x 8 columns]"
      ]
     },
     "execution_count": 70,
     "metadata": {},
     "output_type": "execute_result"
    }
   ],
   "source": [
    "futdat = FutureDate.copy()\n",
    "helio_cum = helio_cum.copy()\n",
    "\n",
    "fdd = pd.DataFrame()\n",
    "\n",
    "for col in futdat.columns:\n",
    "    fdd[col] = futdat[col]\n",
    "\n",
    "    if col not in (\"Date\", \"Price\"):\n",
    "        \n",
    "        for row, _ in helio_cum.iterrows():\n",
    "            date = helio_cum[\"Date\"][row]\n",
    "            dates_list = futdat[\"Date\"].to_list()\n",
    "\n",
    "            if date in dates_list:\n",
    "                row_index = dates_list.index(date)\n",
    "                fdd[col][row_index] = helio_cum[col][row]\n",
    "\n",
    "fdd"
   ]
  },
  {
   "cell_type": "code",
   "execution_count": 71,
   "id": "f39f2a65",
   "metadata": {},
   "outputs": [
    {
     "name": "stderr",
     "output_type": "stream",
     "text": [
      "c:\\Users\\ASUS\\AppData\\Local\\Programs\\Python\\Python39\\lib\\site-packages\\pandas\\core\\indexing.py:1732: SettingWithCopyWarning:\n",
      "\n",
      "\n",
      "A value is trying to be set on a copy of a slice from a DataFrame\n",
      "\n",
      "See the caveats in the documentation: https://pandas.pydata.org/pandas-docs/stable/user_guide/indexing.html#returning-a-view-versus-a-copy\n",
      "\n"
     ]
    },
    {
     "data": {
      "text/html": [
       "<div>\n",
       "<style scoped>\n",
       "    .dataframe tbody tr th:only-of-type {\n",
       "        vertical-align: middle;\n",
       "    }\n",
       "\n",
       "    .dataframe tbody tr th {\n",
       "        vertical-align: top;\n",
       "    }\n",
       "\n",
       "    .dataframe thead th {\n",
       "        text-align: right;\n",
       "    }\n",
       "</style>\n",
       "<table border=\"1\" class=\"dataframe\">\n",
       "  <thead>\n",
       "    <tr style=\"text-align: right;\">\n",
       "      <th></th>\n",
       "      <th>Date</th>\n",
       "      <th>Earth</th>\n",
       "      <th>Mer</th>\n",
       "      <th>Ven</th>\n",
       "      <th>Mar</th>\n",
       "      <th>Jup</th>\n",
       "      <th>Sat</th>\n",
       "      <th>Ura</th>\n",
       "    </tr>\n",
       "  </thead>\n",
       "  <tbody>\n",
       "    <tr>\n",
       "      <th>0</th>\n",
       "      <td>31/10/2008</td>\n",
       "      <td>15/11/2008</td>\n",
       "      <td></td>\n",
       "      <td></td>\n",
       "      <td>29/11/2008</td>\n",
       "      <td>01/05/2009</td>\n",
       "      <td>06/02/2010</td>\n",
       "      <td>02/09/2012</td>\n",
       "    </tr>\n",
       "    <tr>\n",
       "      <th>1</th>\n",
       "      <td>03/01/2009</td>\n",
       "      <td>17/01/2009</td>\n",
       "      <td></td>\n",
       "      <td></td>\n",
       "      <td>29/01/2009</td>\n",
       "      <td>27/06/2009</td>\n",
       "      <td>06/04/2010</td>\n",
       "      <td>04/12/2012</td>\n",
       "    </tr>\n",
       "    <tr>\n",
       "      <th>2</th>\n",
       "      <td>10/04/2013</td>\n",
       "      <td>25/04/2013</td>\n",
       "      <td>15/04/2013</td>\n",
       "      <td></td>\n",
       "      <td>05/05/2013</td>\n",
       "      <td>06/10/2013</td>\n",
       "      <td>09/08/2014</td>\n",
       "      <td>26/03/2017</td>\n",
       "    </tr>\n",
       "    <tr>\n",
       "      <th>3</th>\n",
       "      <td>03/07/2013</td>\n",
       "      <td>19/07/2013</td>\n",
       "      <td></td>\n",
       "      <td></td>\n",
       "      <td>03/08/2013</td>\n",
       "      <td>29/12/2013</td>\n",
       "      <td>14/11/2014</td>\n",
       "      <td>26/06/2017</td>\n",
       "    </tr>\n",
       "    <tr>\n",
       "      <th>4</th>\n",
       "      <td>05/10/2013</td>\n",
       "      <td>21/10/2013</td>\n",
       "      <td></td>\n",
       "      <td></td>\n",
       "      <td>07/11/2013</td>\n",
       "      <td>04/04/2014</td>\n",
       "      <td>20/02/2015</td>\n",
       "      <td>26/09/2017</td>\n",
       "    </tr>\n",
       "    <tr>\n",
       "      <th>...</th>\n",
       "      <td>...</td>\n",
       "      <td>...</td>\n",
       "      <td>...</td>\n",
       "      <td>...</td>\n",
       "      <td>...</td>\n",
       "      <td>...</td>\n",
       "      <td>...</td>\n",
       "      <td>...</td>\n",
       "    </tr>\n",
       "    <tr>\n",
       "      <th>57</th>\n",
       "      <td>27/12/2021</td>\n",
       "      <td>11/01/2022</td>\n",
       "      <td></td>\n",
       "      <td></td>\n",
       "      <td>24/01/2022</td>\n",
       "      <td>10/06/2022</td>\n",
       "      <td>23/04/2023</td>\n",
       "      <td>05/11/2025</td>\n",
       "    </tr>\n",
       "    <tr>\n",
       "      <th>58</th>\n",
       "      <td>24/01/2022</td>\n",
       "      <td>08/02/2022</td>\n",
       "      <td></td>\n",
       "      <td>02/02/2022</td>\n",
       "      <td>21/02/2022</td>\n",
       "      <td>13/07/2022</td>\n",
       "      <td>24/05/2023</td>\n",
       "      <td>05/11/2025</td>\n",
       "    </tr>\n",
       "    <tr>\n",
       "      <th>59</th>\n",
       "      <td>24/02/2022</td>\n",
       "      <td>11/03/2022</td>\n",
       "      <td></td>\n",
       "      <td></td>\n",
       "      <td>22/03/2022</td>\n",
       "      <td>15/08/2022</td>\n",
       "      <td>25/06/2023</td>\n",
       "      <td>05/11/2025</td>\n",
       "    </tr>\n",
       "    <tr>\n",
       "      <th>60</th>\n",
       "      <td>29/03/2022</td>\n",
       "      <td>13/04/2022</td>\n",
       "      <td></td>\n",
       "      <td></td>\n",
       "      <td>23/04/2022</td>\n",
       "      <td>17/09/2022</td>\n",
       "      <td>26/07/2023</td>\n",
       "      <td>01/02/2026</td>\n",
       "    </tr>\n",
       "    <tr>\n",
       "      <th>61</th>\n",
       "      <td>18/06/2022</td>\n",
       "      <td>03/07/2022</td>\n",
       "      <td>22/06/2022</td>\n",
       "      <td></td>\n",
       "      <td>11/07/2022</td>\n",
       "      <td>02/12/2022</td>\n",
       "      <td>28/10/2023</td>\n",
       "      <td>29/04/2026</td>\n",
       "    </tr>\n",
       "  </tbody>\n",
       "</table>\n",
       "<p>62 rows × 8 columns</p>\n",
       "</div>"
      ],
      "text/plain": [
       "          Date       Earth         Mer         Ven         Mar         Jup  \\\n",
       "0   31/10/2008  15/11/2008                          29/11/2008  01/05/2009   \n",
       "1   03/01/2009  17/01/2009                          29/01/2009  27/06/2009   \n",
       "2   10/04/2013  25/04/2013  15/04/2013              05/05/2013  06/10/2013   \n",
       "3   03/07/2013  19/07/2013                          03/08/2013  29/12/2013   \n",
       "4   05/10/2013  21/10/2013                          07/11/2013  04/04/2014   \n",
       "..         ...         ...         ...         ...         ...         ...   \n",
       "57  27/12/2021  11/01/2022                          24/01/2022  10/06/2022   \n",
       "58  24/01/2022  08/02/2022              02/02/2022  21/02/2022  13/07/2022   \n",
       "59  24/02/2022  11/03/2022                          22/03/2022  15/08/2022   \n",
       "60  29/03/2022  13/04/2022                          23/04/2022  17/09/2022   \n",
       "61  18/06/2022  03/07/2022  22/06/2022              11/07/2022  02/12/2022   \n",
       "\n",
       "           Sat         Ura  \n",
       "0   06/02/2010  02/09/2012  \n",
       "1   06/04/2010  04/12/2012  \n",
       "2   09/08/2014  26/03/2017  \n",
       "3   14/11/2014  26/06/2017  \n",
       "4   20/02/2015  26/09/2017  \n",
       "..         ...         ...  \n",
       "57  23/04/2023  05/11/2025  \n",
       "58  24/05/2023  05/11/2025  \n",
       "59  25/06/2023  05/11/2025  \n",
       "60  26/07/2023  01/02/2026  \n",
       "61  28/10/2023  29/04/2026  \n",
       "\n",
       "[62 rows x 8 columns]"
      ]
     },
     "execution_count": 71,
     "metadata": {},
     "output_type": "execute_result"
    }
   ],
   "source": [
    "# FD15\n",
    "\n",
    "output = pd.DataFrame()\n",
    "\n",
    "output[\"Date\"] = fdd[\"Date\"]\n",
    "\n",
    "for col in fdd.columns[1:]:\n",
    "    output[col] = fdd[col].astype(\"float64\") + 15\n",
    "\n",
    "# Copy price + Initialization of divides (1000,100,10,1,24,etc...)\n",
    "\n",
    "fd15 = output\n",
    "\n",
    "# for loop to catch which degrees is situated at which date in the future/past\n",
    "\n",
    "for planets in fd15.columns[1:]:\n",
    "    for num, i in enumerate(fd15[planets]):\n",
    "        df_copy = helio_cum.copy()\n",
    "        target = df_copy[df_copy[planets] == float(i)]\n",
    "\n",
    "        Date = []\n",
    "\n",
    "        for date in target['Date']:\n",
    "            Date.append(date)\n",
    "\n",
    "        if len(Date) > 0:\n",
    "            Date_ok = Date[-1]\n",
    "            fd15[planets].iloc[num] = Date_ok\n",
    "        else:\n",
    "            fd15[planets].iloc[num] = \" \"\n",
    "\n",
    "fd15"
   ]
  },
  {
   "cell_type": "code",
   "execution_count": 72,
   "id": "cdf23c29",
   "metadata": {},
   "outputs": [
    {
     "name": "stderr",
     "output_type": "stream",
     "text": [
      "c:\\Users\\ASUS\\AppData\\Local\\Programs\\Python\\Python39\\lib\\site-packages\\pandas\\core\\indexing.py:1732: SettingWithCopyWarning:\n",
      "\n",
      "\n",
      "A value is trying to be set on a copy of a slice from a DataFrame\n",
      "\n",
      "See the caveats in the documentation: https://pandas.pydata.org/pandas-docs/stable/user_guide/indexing.html#returning-a-view-versus-a-copy\n",
      "\n"
     ]
    },
    {
     "data": {
      "text/html": [
       "<div>\n",
       "<style scoped>\n",
       "    .dataframe tbody tr th:only-of-type {\n",
       "        vertical-align: middle;\n",
       "    }\n",
       "\n",
       "    .dataframe tbody tr th {\n",
       "        vertical-align: top;\n",
       "    }\n",
       "\n",
       "    .dataframe thead th {\n",
       "        text-align: right;\n",
       "    }\n",
       "</style>\n",
       "<table border=\"1\" class=\"dataframe\">\n",
       "  <thead>\n",
       "    <tr style=\"text-align: right;\">\n",
       "      <th></th>\n",
       "      <th>Date</th>\n",
       "      <th>Earth</th>\n",
       "      <th>Mer</th>\n",
       "      <th>Ven</th>\n",
       "      <th>Mar</th>\n",
       "      <th>Jup</th>\n",
       "      <th>Sat</th>\n",
       "      <th>Ura</th>\n",
       "    </tr>\n",
       "  </thead>\n",
       "  <tbody>\n",
       "    <tr>\n",
       "      <th>0</th>\n",
       "      <td>31/10/2008</td>\n",
       "      <td>30/11/2008</td>\n",
       "      <td>07/11/2008</td>\n",
       "      <td>19/11/2008</td>\n",
       "      <td>26/12/2008</td>\n",
       "      <td>18/10/2009</td>\n",
       "      <td>02/05/2011</td>\n",
       "      <td>23/06/2016</td>\n",
       "    </tr>\n",
       "    <tr>\n",
       "      <th>1</th>\n",
       "      <td>03/01/2009</td>\n",
       "      <td>01/02/2009</td>\n",
       "      <td></td>\n",
       "      <td>22/01/2009</td>\n",
       "      <td>23/02/2009</td>\n",
       "      <td>13/12/2009</td>\n",
       "      <td>02/07/2011</td>\n",
       "      <td>23/09/2016</td>\n",
       "    </tr>\n",
       "    <tr>\n",
       "      <th>2</th>\n",
       "      <td>10/04/2013</td>\n",
       "      <td>11/05/2013</td>\n",
       "      <td></td>\n",
       "      <td>29/04/2013</td>\n",
       "      <td>01/06/2013</td>\n",
       "      <td>04/04/2014</td>\n",
       "      <td>11/12/2015</td>\n",
       "      <td>23/12/2020</td>\n",
       "    </tr>\n",
       "    <tr>\n",
       "      <th>3</th>\n",
       "      <td>03/07/2013</td>\n",
       "      <td>04/08/2013</td>\n",
       "      <td>13/07/2013</td>\n",
       "      <td>22/07/2013</td>\n",
       "      <td>02/09/2013</td>\n",
       "      <td>29/06/2014</td>\n",
       "      <td>19/03/2016</td>\n",
       "      <td>23/03/2021</td>\n",
       "    </tr>\n",
       "    <tr>\n",
       "      <th>4</th>\n",
       "      <td>05/10/2013</td>\n",
       "      <td>05/11/2013</td>\n",
       "      <td></td>\n",
       "      <td>24/10/2013</td>\n",
       "      <td>11/12/2013</td>\n",
       "      <td>06/10/2014</td>\n",
       "      <td>26/06/2016</td>\n",
       "      <td>21/06/2021</td>\n",
       "    </tr>\n",
       "    <tr>\n",
       "      <th>...</th>\n",
       "      <td>...</td>\n",
       "      <td>...</td>\n",
       "      <td>...</td>\n",
       "      <td>...</td>\n",
       "      <td>...</td>\n",
       "      <td>...</td>\n",
       "      <td>...</td>\n",
       "      <td>...</td>\n",
       "    </tr>\n",
       "    <tr>\n",
       "      <th>57</th>\n",
       "      <td>27/12/2021</td>\n",
       "      <td>25/01/2022</td>\n",
       "      <td></td>\n",
       "      <td></td>\n",
       "      <td>21/02/2022</td>\n",
       "      <td>21/11/2022</td>\n",
       "      <td>02/08/2024</td>\n",
       "      <td>29/05/2029</td>\n",
       "    </tr>\n",
       "    <tr>\n",
       "      <th>58</th>\n",
       "      <td>24/01/2022</td>\n",
       "      <td>23/02/2022</td>\n",
       "      <td></td>\n",
       "      <td>11/02/2022</td>\n",
       "      <td>19/03/2022</td>\n",
       "      <td>24/12/2022</td>\n",
       "      <td>01/09/2024</td>\n",
       "      <td>29/05/2029</td>\n",
       "    </tr>\n",
       "    <tr>\n",
       "      <th>59</th>\n",
       "      <td>24/02/2022</td>\n",
       "      <td>26/03/2022</td>\n",
       "      <td>07/03/2022</td>\n",
       "      <td>15/03/2022</td>\n",
       "      <td>16/04/2022</td>\n",
       "      <td>25/01/2023</td>\n",
       "      <td>02/10/2024</td>\n",
       "      <td>29/05/2029</td>\n",
       "    </tr>\n",
       "    <tr>\n",
       "      <th>60</th>\n",
       "      <td>29/03/2022</td>\n",
       "      <td>29/04/2022</td>\n",
       "      <td></td>\n",
       "      <td>17/04/2022</td>\n",
       "      <td>17/05/2022</td>\n",
       "      <td>27/02/2023</td>\n",
       "      <td>02/11/2024</td>\n",
       "      <td>22/08/2029</td>\n",
       "    </tr>\n",
       "    <tr>\n",
       "      <th>61</th>\n",
       "      <td>18/06/2022</td>\n",
       "      <td>19/07/2022</td>\n",
       "      <td></td>\n",
       "      <td>07/07/2022</td>\n",
       "      <td>04/08/2022</td>\n",
       "      <td>15/05/2023</td>\n",
       "      <td>01/02/2025</td>\n",
       "      <td>16/11/2029</td>\n",
       "    </tr>\n",
       "  </tbody>\n",
       "</table>\n",
       "<p>62 rows × 8 columns</p>\n",
       "</div>"
      ],
      "text/plain": [
       "          Date       Earth         Mer         Ven         Mar         Jup  \\\n",
       "0   31/10/2008  30/11/2008  07/11/2008  19/11/2008  26/12/2008  18/10/2009   \n",
       "1   03/01/2009  01/02/2009              22/01/2009  23/02/2009  13/12/2009   \n",
       "2   10/04/2013  11/05/2013              29/04/2013  01/06/2013  04/04/2014   \n",
       "3   03/07/2013  04/08/2013  13/07/2013  22/07/2013  02/09/2013  29/06/2014   \n",
       "4   05/10/2013  05/11/2013              24/10/2013  11/12/2013  06/10/2014   \n",
       "..         ...         ...         ...         ...         ...         ...   \n",
       "57  27/12/2021  25/01/2022                          21/02/2022  21/11/2022   \n",
       "58  24/01/2022  23/02/2022              11/02/2022  19/03/2022  24/12/2022   \n",
       "59  24/02/2022  26/03/2022  07/03/2022  15/03/2022  16/04/2022  25/01/2023   \n",
       "60  29/03/2022  29/04/2022              17/04/2022  17/05/2022  27/02/2023   \n",
       "61  18/06/2022  19/07/2022              07/07/2022  04/08/2022  15/05/2023   \n",
       "\n",
       "           Sat         Ura  \n",
       "0   02/05/2011  23/06/2016  \n",
       "1   02/07/2011  23/09/2016  \n",
       "2   11/12/2015  23/12/2020  \n",
       "3   19/03/2016  23/03/2021  \n",
       "4   26/06/2016  21/06/2021  \n",
       "..         ...         ...  \n",
       "57  02/08/2024  29/05/2029  \n",
       "58  01/09/2024  29/05/2029  \n",
       "59  02/10/2024  29/05/2029  \n",
       "60  02/11/2024  22/08/2029  \n",
       "61  01/02/2025  16/11/2029  \n",
       "\n",
       "[62 rows x 8 columns]"
      ]
     },
     "execution_count": 72,
     "metadata": {},
     "output_type": "execute_result"
    }
   ],
   "source": [
    "# FD30\n",
    "\n",
    "# Copy price + Initialization of divides (1000,100,10,1,24,etc...)\n",
    "\n",
    "output = pd.DataFrame()\n",
    "\n",
    "output[\"Date\"] = fdd[\"Date\"]\n",
    "\n",
    "for col in fdd.columns[1:]:\n",
    "    output[col] = fdd[col].astype(\"float64\") + 30\n",
    "\n",
    "fd30 = output\n",
    "\n",
    "# for loop to catch which degrees is situated at which date in the future/past\n",
    "\n",
    "for planets in fd30.columns[1:]:\n",
    "    for num, i in enumerate(fd30[planets]):\n",
    "        df_copy = helio_cum.copy()\n",
    "        target = df_copy[df_copy[planets] == float(i)]\n",
    "\n",
    "        Date = []\n",
    "\n",
    "        for date in target['Date']:\n",
    "            Date.append(date)\n",
    "\n",
    "        if len(Date) > 0:\n",
    "            Date_ok = Date[-1]\n",
    "            fd30[planets].iloc[num] = Date_ok\n",
    "        else:\n",
    "            fd30[planets].iloc[num] = \" \"\n",
    "\n",
    "fd30"
   ]
  },
  {
   "cell_type": "code",
   "execution_count": 73,
   "id": "551767d4",
   "metadata": {},
   "outputs": [
    {
     "name": "stderr",
     "output_type": "stream",
     "text": [
      "c:\\Users\\ASUS\\AppData\\Local\\Programs\\Python\\Python39\\lib\\site-packages\\pandas\\core\\indexing.py:1732: SettingWithCopyWarning:\n",
      "\n",
      "\n",
      "A value is trying to be set on a copy of a slice from a DataFrame\n",
      "\n",
      "See the caveats in the documentation: https://pandas.pydata.org/pandas-docs/stable/user_guide/indexing.html#returning-a-view-versus-a-copy\n",
      "\n"
     ]
    },
    {
     "data": {
      "text/html": [
       "<div>\n",
       "<style scoped>\n",
       "    .dataframe tbody tr th:only-of-type {\n",
       "        vertical-align: middle;\n",
       "    }\n",
       "\n",
       "    .dataframe tbody tr th {\n",
       "        vertical-align: top;\n",
       "    }\n",
       "\n",
       "    .dataframe thead th {\n",
       "        text-align: right;\n",
       "    }\n",
       "</style>\n",
       "<table border=\"1\" class=\"dataframe\">\n",
       "  <thead>\n",
       "    <tr style=\"text-align: right;\">\n",
       "      <th></th>\n",
       "      <th>Date</th>\n",
       "      <th>Earth</th>\n",
       "      <th>Mer</th>\n",
       "      <th>Ven</th>\n",
       "      <th>Mar</th>\n",
       "      <th>Jup</th>\n",
       "      <th>Sat</th>\n",
       "      <th>Ura</th>\n",
       "    </tr>\n",
       "  </thead>\n",
       "  <tbody>\n",
       "    <tr>\n",
       "      <th>0</th>\n",
       "      <td>31/10/2008</td>\n",
       "      <td>15/12/2008</td>\n",
       "      <td></td>\n",
       "      <td></td>\n",
       "      <td>21/01/2009</td>\n",
       "      <td>03/04/2010</td>\n",
       "      <td>07/08/2012</td>\n",
       "      <td>26/03/2020</td>\n",
       "    </tr>\n",
       "    <tr>\n",
       "      <th>1</th>\n",
       "      <td>03/01/2009</td>\n",
       "      <td>16/02/2009</td>\n",
       "      <td></td>\n",
       "      <td>31/01/2009</td>\n",
       "      <td>19/03/2009</td>\n",
       "      <td>28/05/2010</td>\n",
       "      <td>08/10/2012</td>\n",
       "      <td>25/06/2020</td>\n",
       "    </tr>\n",
       "    <tr>\n",
       "      <th>2</th>\n",
       "      <td>10/04/2013</td>\n",
       "      <td>27/05/2013</td>\n",
       "      <td></td>\n",
       "      <td>08/05/2013</td>\n",
       "      <td>28/06/2013</td>\n",
       "      <td>06/10/2014</td>\n",
       "      <td>20/04/2017</td>\n",
       "      <td>23/08/2024</td>\n",
       "    </tr>\n",
       "    <tr>\n",
       "      <th>3</th>\n",
       "      <td>03/07/2013</td>\n",
       "      <td>19/08/2013</td>\n",
       "      <td></td>\n",
       "      <td>31/07/2013</td>\n",
       "      <td>05/10/2013</td>\n",
       "      <td>02/01/2015</td>\n",
       "      <td>29/07/2017</td>\n",
       "      <td>19/11/2024</td>\n",
       "    </tr>\n",
       "    <tr>\n",
       "      <th>4</th>\n",
       "      <td>05/10/2013</td>\n",
       "      <td>20/11/2013</td>\n",
       "      <td></td>\n",
       "      <td></td>\n",
       "      <td>14/01/2014</td>\n",
       "      <td>13/04/2015</td>\n",
       "      <td>05/11/2017</td>\n",
       "      <td>15/02/2025</td>\n",
       "    </tr>\n",
       "    <tr>\n",
       "      <th>...</th>\n",
       "      <td>...</td>\n",
       "      <td>...</td>\n",
       "      <td>...</td>\n",
       "      <td>...</td>\n",
       "      <td>...</td>\n",
       "      <td>...</td>\n",
       "      <td>...</td>\n",
       "      <td>...</td>\n",
       "    </tr>\n",
       "    <tr>\n",
       "      <th>57</th>\n",
       "      <td>27/12/2021</td>\n",
       "      <td>09/02/2022</td>\n",
       "      <td></td>\n",
       "      <td>24/01/2022</td>\n",
       "      <td>19/03/2022</td>\n",
       "      <td>04/05/2023</td>\n",
       "      <td>30/10/2025</td>\n",
       "      <td></td>\n",
       "    </tr>\n",
       "    <tr>\n",
       "      <th>58</th>\n",
       "      <td>24/01/2022</td>\n",
       "      <td>10/03/2022</td>\n",
       "      <td>02/02/2022</td>\n",
       "      <td></td>\n",
       "      <td>13/04/2022</td>\n",
       "      <td>05/06/2023</td>\n",
       "      <td>29/11/2025</td>\n",
       "      <td></td>\n",
       "    </tr>\n",
       "    <tr>\n",
       "      <th>59</th>\n",
       "      <td>24/02/2022</td>\n",
       "      <td>10/04/2022</td>\n",
       "      <td>12/03/2022</td>\n",
       "      <td>24/03/2022</td>\n",
       "      <td>11/05/2022</td>\n",
       "      <td>08/07/2023</td>\n",
       "      <td>28/12/2025</td>\n",
       "      <td></td>\n",
       "    </tr>\n",
       "    <tr>\n",
       "      <th>60</th>\n",
       "      <td>29/03/2022</td>\n",
       "      <td>14/05/2022</td>\n",
       "      <td></td>\n",
       "      <td></td>\n",
       "      <td>10/06/2022</td>\n",
       "      <td>10/08/2023</td>\n",
       "      <td>27/01/2026</td>\n",
       "      <td></td>\n",
       "    </tr>\n",
       "    <tr>\n",
       "      <th>61</th>\n",
       "      <td>18/06/2022</td>\n",
       "      <td>04/08/2022</td>\n",
       "      <td></td>\n",
       "      <td>16/07/2022</td>\n",
       "      <td>29/08/2022</td>\n",
       "      <td>26/10/2023</td>\n",
       "      <td>26/04/2026</td>\n",
       "      <td></td>\n",
       "    </tr>\n",
       "  </tbody>\n",
       "</table>\n",
       "<p>62 rows × 8 columns</p>\n",
       "</div>"
      ],
      "text/plain": [
       "          Date       Earth         Mer         Ven         Mar         Jup  \\\n",
       "0   31/10/2008  15/12/2008                          21/01/2009  03/04/2010   \n",
       "1   03/01/2009  16/02/2009              31/01/2009  19/03/2009  28/05/2010   \n",
       "2   10/04/2013  27/05/2013              08/05/2013  28/06/2013  06/10/2014   \n",
       "3   03/07/2013  19/08/2013              31/07/2013  05/10/2013  02/01/2015   \n",
       "4   05/10/2013  20/11/2013                          14/01/2014  13/04/2015   \n",
       "..         ...         ...         ...         ...         ...         ...   \n",
       "57  27/12/2021  09/02/2022              24/01/2022  19/03/2022  04/05/2023   \n",
       "58  24/01/2022  10/03/2022  02/02/2022              13/04/2022  05/06/2023   \n",
       "59  24/02/2022  10/04/2022  12/03/2022  24/03/2022  11/05/2022  08/07/2023   \n",
       "60  29/03/2022  14/05/2022                          10/06/2022  10/08/2023   \n",
       "61  18/06/2022  04/08/2022              16/07/2022  29/08/2022  26/10/2023   \n",
       "\n",
       "           Sat         Ura  \n",
       "0   07/08/2012  26/03/2020  \n",
       "1   08/10/2012  25/06/2020  \n",
       "2   20/04/2017  23/08/2024  \n",
       "3   29/07/2017  19/11/2024  \n",
       "4   05/11/2017  15/02/2025  \n",
       "..         ...         ...  \n",
       "57  30/10/2025              \n",
       "58  29/11/2025              \n",
       "59  28/12/2025              \n",
       "60  27/01/2026              \n",
       "61  26/04/2026              \n",
       "\n",
       "[62 rows x 8 columns]"
      ]
     },
     "execution_count": 73,
     "metadata": {},
     "output_type": "execute_result"
    }
   ],
   "source": [
    "# FD45\n",
    "\n",
    "output = pd.DataFrame()\n",
    "\n",
    "output[\"Date\"] = fdd[\"Date\"]\n",
    "\n",
    "for col in fdd.columns[1:]:\n",
    "    output[col] = fdd[col].astype(\"float64\") + 45\n",
    "\n",
    "# Copy price + Initialization of divides (1000,100,10,1,24,etc...)\n",
    "\n",
    "fd45 = output\n",
    "\n",
    "# for loop to catch which degrees is situated at which date in the future/past\n",
    "\n",
    "for planets in fd45.columns[1:]:\n",
    "    for num, i in enumerate(fd45[planets]):\n",
    "        df_copy = helio_cum.copy()\n",
    "        target = df_copy[df_copy[planets] == float(i)]\n",
    "\n",
    "        Date = []\n",
    "\n",
    "        for date in target['Date']:\n",
    "            Date.append(date)\n",
    "\n",
    "        if len(Date) > 0:\n",
    "            Date_ok = Date[-1]\n",
    "            fd45[planets].iloc[num] = Date_ok\n",
    "        else:\n",
    "            fd45[planets].iloc[num] = \" \"\n",
    "\n",
    "fd45"
   ]
  },
  {
   "cell_type": "code",
   "execution_count": 74,
   "id": "b42bf59f",
   "metadata": {},
   "outputs": [
    {
     "name": "stderr",
     "output_type": "stream",
     "text": [
      "c:\\Users\\ASUS\\AppData\\Local\\Programs\\Python\\Python39\\lib\\site-packages\\pandas\\core\\indexing.py:1732: SettingWithCopyWarning:\n",
      "\n",
      "\n",
      "A value is trying to be set on a copy of a slice from a DataFrame\n",
      "\n",
      "See the caveats in the documentation: https://pandas.pydata.org/pandas-docs/stable/user_guide/indexing.html#returning-a-view-versus-a-copy\n",
      "\n"
     ]
    },
    {
     "data": {
      "text/html": [
       "<div>\n",
       "<style scoped>\n",
       "    .dataframe tbody tr th:only-of-type {\n",
       "        vertical-align: middle;\n",
       "    }\n",
       "\n",
       "    .dataframe tbody tr th {\n",
       "        vertical-align: top;\n",
       "    }\n",
       "\n",
       "    .dataframe thead th {\n",
       "        text-align: right;\n",
       "    }\n",
       "</style>\n",
       "<table border=\"1\" class=\"dataframe\">\n",
       "  <thead>\n",
       "    <tr style=\"text-align: right;\">\n",
       "      <th></th>\n",
       "      <th>Date</th>\n",
       "      <th>Earth</th>\n",
       "      <th>Mer</th>\n",
       "      <th>Ven</th>\n",
       "      <th>Mar</th>\n",
       "      <th>Jup</th>\n",
       "      <th>Sat</th>\n",
       "      <th>Ura</th>\n",
       "    </tr>\n",
       "  </thead>\n",
       "  <tbody>\n",
       "    <tr>\n",
       "      <th>0</th>\n",
       "      <td>31/10/2008</td>\n",
       "      <td>30/12/2008</td>\n",
       "      <td></td>\n",
       "      <td>08/12/2008</td>\n",
       "      <td>15/02/2009</td>\n",
       "      <td>15/09/2010</td>\n",
       "      <td>24/11/2013</td>\n",
       "      <td>01/12/2023</td>\n",
       "    </tr>\n",
       "    <tr>\n",
       "      <th>1</th>\n",
       "      <td>03/01/2009</td>\n",
       "      <td>03/03/2009</td>\n",
       "      <td></td>\n",
       "      <td>09/02/2009</td>\n",
       "      <td>12/04/2009</td>\n",
       "      <td>08/11/2010</td>\n",
       "      <td>27/01/2014</td>\n",
       "      <td>28/02/2024</td>\n",
       "    </tr>\n",
       "    <tr>\n",
       "      <th>2</th>\n",
       "      <td>10/04/2013</td>\n",
       "      <td>11/06/2013</td>\n",
       "      <td></td>\n",
       "      <td></td>\n",
       "      <td>28/07/2013</td>\n",
       "      <td>13/04/2015</td>\n",
       "      <td>31/08/2018</td>\n",
       "      <td>24/03/2028</td>\n",
       "    </tr>\n",
       "    <tr>\n",
       "      <th>3</th>\n",
       "      <td>03/07/2013</td>\n",
       "      <td>04/09/2013</td>\n",
       "      <td></td>\n",
       "      <td></td>\n",
       "      <td>07/11/2013</td>\n",
       "      <td>12/07/2015</td>\n",
       "      <td>09/12/2018</td>\n",
       "      <td>19/06/2028</td>\n",
       "    </tr>\n",
       "    <tr>\n",
       "      <th>4</th>\n",
       "      <td>05/10/2013</td>\n",
       "      <td>04/12/2013</td>\n",
       "      <td>22/10/2013</td>\n",
       "      <td>12/11/2013</td>\n",
       "      <td>17/02/2014</td>\n",
       "      <td>23/10/2015</td>\n",
       "      <td>19/03/2019</td>\n",
       "      <td>13/09/2028</td>\n",
       "    </tr>\n",
       "    <tr>\n",
       "      <th>...</th>\n",
       "      <td>...</td>\n",
       "      <td>...</td>\n",
       "      <td>...</td>\n",
       "      <td>...</td>\n",
       "      <td>...</td>\n",
       "      <td>...</td>\n",
       "      <td>...</td>\n",
       "      <td>...</td>\n",
       "    </tr>\n",
       "    <tr>\n",
       "      <th>57</th>\n",
       "      <td>27/12/2021</td>\n",
       "      <td>24/02/2022</td>\n",
       "      <td></td>\n",
       "      <td>02/02/2022</td>\n",
       "      <td>13/04/2022</td>\n",
       "      <td>15/10/2023</td>\n",
       "      <td>14/01/2027</td>\n",
       "      <td></td>\n",
       "    </tr>\n",
       "    <tr>\n",
       "      <th>58</th>\n",
       "      <td>24/01/2022</td>\n",
       "      <td>25/03/2022</td>\n",
       "      <td></td>\n",
       "      <td>02/03/2022</td>\n",
       "      <td>08/05/2022</td>\n",
       "      <td>17/11/2023</td>\n",
       "      <td>12/02/2027</td>\n",
       "      <td></td>\n",
       "    </tr>\n",
       "    <tr>\n",
       "      <th>59</th>\n",
       "      <td>24/02/2022</td>\n",
       "      <td>26/04/2022</td>\n",
       "      <td>17/03/2022</td>\n",
       "      <td></td>\n",
       "      <td>04/06/2022</td>\n",
       "      <td>20/12/2023</td>\n",
       "      <td>13/03/2027</td>\n",
       "      <td></td>\n",
       "    </tr>\n",
       "    <tr>\n",
       "      <th>60</th>\n",
       "      <td>29/03/2022</td>\n",
       "      <td>30/05/2022</td>\n",
       "      <td></td>\n",
       "      <td>06/05/2022</td>\n",
       "      <td>03/07/2022</td>\n",
       "      <td>22/01/2024</td>\n",
       "      <td>11/04/2027</td>\n",
       "      <td></td>\n",
       "    </tr>\n",
       "    <tr>\n",
       "      <th>61</th>\n",
       "      <td>18/06/2022</td>\n",
       "      <td>19/08/2022</td>\n",
       "      <td></td>\n",
       "      <td></td>\n",
       "      <td>23/09/2022</td>\n",
       "      <td>09/04/2024</td>\n",
       "      <td>07/07/2027</td>\n",
       "      <td></td>\n",
       "    </tr>\n",
       "  </tbody>\n",
       "</table>\n",
       "<p>62 rows × 8 columns</p>\n",
       "</div>"
      ],
      "text/plain": [
       "          Date       Earth         Mer         Ven         Mar         Jup  \\\n",
       "0   31/10/2008  30/12/2008              08/12/2008  15/02/2009  15/09/2010   \n",
       "1   03/01/2009  03/03/2009              09/02/2009  12/04/2009  08/11/2010   \n",
       "2   10/04/2013  11/06/2013                          28/07/2013  13/04/2015   \n",
       "3   03/07/2013  04/09/2013                          07/11/2013  12/07/2015   \n",
       "4   05/10/2013  04/12/2013  22/10/2013  12/11/2013  17/02/2014  23/10/2015   \n",
       "..         ...         ...         ...         ...         ...         ...   \n",
       "57  27/12/2021  24/02/2022              02/02/2022  13/04/2022  15/10/2023   \n",
       "58  24/01/2022  25/03/2022              02/03/2022  08/05/2022  17/11/2023   \n",
       "59  24/02/2022  26/04/2022  17/03/2022              04/06/2022  20/12/2023   \n",
       "60  29/03/2022  30/05/2022              06/05/2022  03/07/2022  22/01/2024   \n",
       "61  18/06/2022  19/08/2022                          23/09/2022  09/04/2024   \n",
       "\n",
       "           Sat         Ura  \n",
       "0   24/11/2013  01/12/2023  \n",
       "1   27/01/2014  28/02/2024  \n",
       "2   31/08/2018  24/03/2028  \n",
       "3   09/12/2018  19/06/2028  \n",
       "4   19/03/2019  13/09/2028  \n",
       "..         ...         ...  \n",
       "57  14/01/2027              \n",
       "58  12/02/2027              \n",
       "59  13/03/2027              \n",
       "60  11/04/2027              \n",
       "61  07/07/2027              \n",
       "\n",
       "[62 rows x 8 columns]"
      ]
     },
     "execution_count": 74,
     "metadata": {},
     "output_type": "execute_result"
    }
   ],
   "source": [
    "# FD60\n",
    "\n",
    "output = pd.DataFrame()\n",
    "\n",
    "output[\"Date\"] = fdd[\"Date\"]\n",
    "\n",
    "for col in fdd.columns[1:]:\n",
    "    output[col] = fdd[col].astype(\"float64\") + 60\n",
    "\n",
    "# Copy price + Initialization of divides (1000,100,10,1,24,etc...)\n",
    "\n",
    "fd60 = output\n",
    "\n",
    "# for loop to catch which degrees is situated at which date in the future/past\n",
    "\n",
    "for planets in fd60.columns[1:]:\n",
    "    for num, i in enumerate(fd60[planets]):\n",
    "        df_copy = helio_cum.copy()\n",
    "        target = df_copy[df_copy[planets] == float(i)]\n",
    "\n",
    "        Date = []\n",
    "\n",
    "        for date in target['Date']:\n",
    "            Date.append(date)\n",
    "\n",
    "        if len(Date) > 0:\n",
    "            Date_ok = Date[-1]\n",
    "            fd60[planets].iloc[num] = Date_ok\n",
    "        else:\n",
    "            fd60[planets].iloc[num] = \" \"\n",
    "\n",
    "fd60"
   ]
  },
  {
   "cell_type": "code",
   "execution_count": 75,
   "id": "fa345689",
   "metadata": {},
   "outputs": [
    {
     "name": "stderr",
     "output_type": "stream",
     "text": [
      "c:\\Users\\ASUS\\AppData\\Local\\Programs\\Python\\Python39\\lib\\site-packages\\pandas\\core\\indexing.py:1732: SettingWithCopyWarning:\n",
      "\n",
      "\n",
      "A value is trying to be set on a copy of a slice from a DataFrame\n",
      "\n",
      "See the caveats in the documentation: https://pandas.pydata.org/pandas-docs/stable/user_guide/indexing.html#returning-a-view-versus-a-copy\n",
      "\n"
     ]
    },
    {
     "data": {
      "text/html": [
       "<div>\n",
       "<style scoped>\n",
       "    .dataframe tbody tr th:only-of-type {\n",
       "        vertical-align: middle;\n",
       "    }\n",
       "\n",
       "    .dataframe tbody tr th {\n",
       "        vertical-align: top;\n",
       "    }\n",
       "\n",
       "    .dataframe thead th {\n",
       "        text-align: right;\n",
       "    }\n",
       "</style>\n",
       "<table border=\"1\" class=\"dataframe\">\n",
       "  <thead>\n",
       "    <tr style=\"text-align: right;\">\n",
       "      <th></th>\n",
       "      <th>Date</th>\n",
       "      <th>Earth</th>\n",
       "      <th>Mer</th>\n",
       "      <th>Ven</th>\n",
       "      <th>Mar</th>\n",
       "      <th>Jup</th>\n",
       "      <th>Sat</th>\n",
       "      <th>Ura</th>\n",
       "    </tr>\n",
       "  </thead>\n",
       "  <tbody>\n",
       "    <tr>\n",
       "      <th>0</th>\n",
       "      <td>31/10/2008</td>\n",
       "      <td>11/01/2009</td>\n",
       "      <td></td>\n",
       "      <td></td>\n",
       "      <td>06/03/2009</td>\n",
       "      <td>23/01/2011</td>\n",
       "      <td>16/12/2014</td>\n",
       "      <td>21/10/2026</td>\n",
       "    </tr>\n",
       "    <tr>\n",
       "      <th>1</th>\n",
       "      <td>03/01/2009</td>\n",
       "      <td>15/03/2009</td>\n",
       "      <td></td>\n",
       "      <td>17/02/2009</td>\n",
       "      <td>01/05/2009</td>\n",
       "      <td>19/03/2011</td>\n",
       "      <td>20/02/2015</td>\n",
       "      <td>16/01/2027</td>\n",
       "    </tr>\n",
       "    <tr>\n",
       "      <th>2</th>\n",
       "      <td>10/04/2013</td>\n",
       "      <td>24/06/2013</td>\n",
       "      <td></td>\n",
       "      <td>25/05/2013</td>\n",
       "      <td>21/08/2013</td>\n",
       "      <td>14/09/2015</td>\n",
       "      <td>03/10/2019</td>\n",
       "      <td>30/12/2030</td>\n",
       "    </tr>\n",
       "    <tr>\n",
       "      <th>3</th>\n",
       "      <td>03/07/2013</td>\n",
       "      <td>16/09/2013</td>\n",
       "      <td></td>\n",
       "      <td>17/08/2013</td>\n",
       "      <td>04/12/2013</td>\n",
       "      <td>14/12/2015</td>\n",
       "      <td>11/01/2020</td>\n",
       "      <td></td>\n",
       "    </tr>\n",
       "    <tr>\n",
       "      <th>4</th>\n",
       "      <td>05/10/2013</td>\n",
       "      <td>16/12/2013</td>\n",
       "      <td></td>\n",
       "      <td></td>\n",
       "      <td>16/03/2014</td>\n",
       "      <td>28/03/2016</td>\n",
       "      <td>19/04/2020</td>\n",
       "      <td></td>\n",
       "    </tr>\n",
       "    <tr>\n",
       "      <th>...</th>\n",
       "      <td>...</td>\n",
       "      <td>...</td>\n",
       "      <td>...</td>\n",
       "      <td>...</td>\n",
       "      <td>...</td>\n",
       "      <td>...</td>\n",
       "      <td>...</td>\n",
       "      <td>...</td>\n",
       "    </tr>\n",
       "    <tr>\n",
       "      <th>57</th>\n",
       "      <td>27/12/2021</td>\n",
       "      <td>08/03/2022</td>\n",
       "      <td></td>\n",
       "      <td></td>\n",
       "      <td>03/05/2022</td>\n",
       "      <td>24/02/2024</td>\n",
       "      <td>25/12/2027</td>\n",
       "      <td></td>\n",
       "    </tr>\n",
       "    <tr>\n",
       "      <th>58</th>\n",
       "      <td>24/01/2022</td>\n",
       "      <td>06/04/2022</td>\n",
       "      <td></td>\n",
       "      <td>09/03/2022</td>\n",
       "      <td>27/05/2022</td>\n",
       "      <td>29/03/2024</td>\n",
       "      <td>22/01/2028</td>\n",
       "      <td></td>\n",
       "    </tr>\n",
       "    <tr>\n",
       "      <th>59</th>\n",
       "      <td>24/02/2022</td>\n",
       "      <td>08/05/2022</td>\n",
       "      <td></td>\n",
       "      <td>10/04/2022</td>\n",
       "      <td>22/06/2022</td>\n",
       "      <td>01/05/2024</td>\n",
       "      <td>20/02/2028</td>\n",
       "      <td></td>\n",
       "    </tr>\n",
       "    <tr>\n",
       "      <th>60</th>\n",
       "      <td>29/03/2022</td>\n",
       "      <td>11/06/2022</td>\n",
       "      <td></td>\n",
       "      <td>14/05/2022</td>\n",
       "      <td>22/07/2022</td>\n",
       "      <td>04/06/2024</td>\n",
       "      <td>19/03/2028</td>\n",
       "      <td></td>\n",
       "    </tr>\n",
       "    <tr>\n",
       "      <th>61</th>\n",
       "      <td>18/06/2022</td>\n",
       "      <td>01/09/2022</td>\n",
       "      <td></td>\n",
       "      <td>02/08/2022</td>\n",
       "      <td>14/10/2022</td>\n",
       "      <td>22/08/2024</td>\n",
       "      <td>12/06/2028</td>\n",
       "      <td></td>\n",
       "    </tr>\n",
       "  </tbody>\n",
       "</table>\n",
       "<p>62 rows × 8 columns</p>\n",
       "</div>"
      ],
      "text/plain": [
       "          Date       Earth Mer         Ven         Mar         Jup  \\\n",
       "0   31/10/2008  11/01/2009                  06/03/2009  23/01/2011   \n",
       "1   03/01/2009  15/03/2009      17/02/2009  01/05/2009  19/03/2011   \n",
       "2   10/04/2013  24/06/2013      25/05/2013  21/08/2013  14/09/2015   \n",
       "3   03/07/2013  16/09/2013      17/08/2013  04/12/2013  14/12/2015   \n",
       "4   05/10/2013  16/12/2013                  16/03/2014  28/03/2016   \n",
       "..         ...         ...  ..         ...         ...         ...   \n",
       "57  27/12/2021  08/03/2022                  03/05/2022  24/02/2024   \n",
       "58  24/01/2022  06/04/2022      09/03/2022  27/05/2022  29/03/2024   \n",
       "59  24/02/2022  08/05/2022      10/04/2022  22/06/2022  01/05/2024   \n",
       "60  29/03/2022  11/06/2022      14/05/2022  22/07/2022  04/06/2024   \n",
       "61  18/06/2022  01/09/2022      02/08/2022  14/10/2022  22/08/2024   \n",
       "\n",
       "           Sat         Ura  \n",
       "0   16/12/2014  21/10/2026  \n",
       "1   20/02/2015  16/01/2027  \n",
       "2   03/10/2019  30/12/2030  \n",
       "3   11/01/2020              \n",
       "4   19/04/2020              \n",
       "..         ...         ...  \n",
       "57  25/12/2027              \n",
       "58  22/01/2028              \n",
       "59  20/02/2028              \n",
       "60  19/03/2028              \n",
       "61  12/06/2028              \n",
       "\n",
       "[62 rows x 8 columns]"
      ]
     },
     "execution_count": 75,
     "metadata": {},
     "output_type": "execute_result"
    }
   ],
   "source": [
    "# FD72\n",
    "\n",
    "output = pd.DataFrame()\n",
    "\n",
    "output[\"Date\"] = fdd[\"Date\"]\n",
    "\n",
    "for col in fdd.columns[1:]:\n",
    "    output[col] = fdd[col].astype(\"float64\") + 72\n",
    "\n",
    "# Copy price + Initialization of divides (1000,100,10,1,24,etc...)\n",
    "\n",
    "fd72 = output\n",
    "\n",
    "# for loop to catch which degrees is situated at which date in the future/past\n",
    "\n",
    "for planets in fd72.columns[1:]:\n",
    "    for num, i in enumerate(fd72[planets]):\n",
    "        df_copy = helio_cum.copy()\n",
    "        target = df_copy[df_copy[planets] == float(i)]\n",
    "\n",
    "        Date = []\n",
    "\n",
    "        for date in target['Date']:\n",
    "            Date.append(date)\n",
    "\n",
    "        if len(Date) > 0:\n",
    "            Date_ok = Date[-1]\n",
    "            fd72[planets].iloc[num] = Date_ok\n",
    "        else:\n",
    "            fd72[planets].iloc[num] = \" \"\n",
    "\n",
    "fd72"
   ]
  },
  {
   "cell_type": "code",
   "execution_count": 76,
   "id": "5585c5d1",
   "metadata": {},
   "outputs": [
    {
     "name": "stderr",
     "output_type": "stream",
     "text": [
      "c:\\Users\\ASUS\\AppData\\Local\\Programs\\Python\\Python39\\lib\\site-packages\\pandas\\core\\indexing.py:1732: SettingWithCopyWarning:\n",
      "\n",
      "\n",
      "A value is trying to be set on a copy of a slice from a DataFrame\n",
      "\n",
      "See the caveats in the documentation: https://pandas.pydata.org/pandas-docs/stable/user_guide/indexing.html#returning-a-view-versus-a-copy\n",
      "\n"
     ]
    },
    {
     "data": {
      "text/html": [
       "<div>\n",
       "<style scoped>\n",
       "    .dataframe tbody tr th:only-of-type {\n",
       "        vertical-align: middle;\n",
       "    }\n",
       "\n",
       "    .dataframe tbody tr th {\n",
       "        vertical-align: top;\n",
       "    }\n",
       "\n",
       "    .dataframe thead th {\n",
       "        text-align: right;\n",
       "    }\n",
       "</style>\n",
       "<table border=\"1\" class=\"dataframe\">\n",
       "  <thead>\n",
       "    <tr style=\"text-align: right;\">\n",
       "      <th></th>\n",
       "      <th>Date</th>\n",
       "      <th>Earth</th>\n",
       "      <th>Mer</th>\n",
       "      <th>Ven</th>\n",
       "      <th>Mar</th>\n",
       "      <th>Jup</th>\n",
       "      <th>Sat</th>\n",
       "      <th>Ura</th>\n",
       "    </tr>\n",
       "  </thead>\n",
       "  <tbody>\n",
       "    <tr>\n",
       "      <th>0</th>\n",
       "      <td>31/10/2008</td>\n",
       "      <td>28/01/2009</td>\n",
       "      <td>26/11/2008</td>\n",
       "      <td></td>\n",
       "      <td>04/04/2009</td>\n",
       "      <td>08/08/2011</td>\n",
       "      <td>29/07/2016</td>\n",
       "      <td>30/12/2030</td>\n",
       "    </tr>\n",
       "    <tr>\n",
       "      <th>1</th>\n",
       "      <td>03/01/2009</td>\n",
       "      <td>02/04/2009</td>\n",
       "      <td>18/01/2009</td>\n",
       "      <td>28/02/2009</td>\n",
       "      <td>29/05/2009</td>\n",
       "      <td>01/10/2011</td>\n",
       "      <td>03/10/2016</td>\n",
       "      <td></td>\n",
       "    </tr>\n",
       "    <tr>\n",
       "      <th>2</th>\n",
       "      <td>10/04/2013</td>\n",
       "      <td>13/07/2013</td>\n",
       "      <td></td>\n",
       "      <td>05/06/2013</td>\n",
       "      <td>28/09/2013</td>\n",
       "      <td>06/05/2016</td>\n",
       "      <td>17/05/2021</td>\n",
       "      <td></td>\n",
       "    </tr>\n",
       "    <tr>\n",
       "      <th>3</th>\n",
       "      <td>03/07/2013</td>\n",
       "      <td>04/10/2013</td>\n",
       "      <td></td>\n",
       "      <td>28/08/2013</td>\n",
       "      <td>14/01/2014</td>\n",
       "      <td>06/08/2016</td>\n",
       "      <td>22/08/2021</td>\n",
       "      <td></td>\n",
       "    </tr>\n",
       "    <tr>\n",
       "      <th>4</th>\n",
       "      <td>05/10/2013</td>\n",
       "      <td>03/01/2014</td>\n",
       "      <td></td>\n",
       "      <td></td>\n",
       "      <td>25/04/2014</td>\n",
       "      <td>20/11/2016</td>\n",
       "      <td>28/11/2021</td>\n",
       "      <td></td>\n",
       "    </tr>\n",
       "    <tr>\n",
       "      <th>...</th>\n",
       "      <td>...</td>\n",
       "      <td>...</td>\n",
       "      <td>...</td>\n",
       "      <td>...</td>\n",
       "      <td>...</td>\n",
       "      <td>...</td>\n",
       "      <td>...</td>\n",
       "      <td>...</td>\n",
       "    </tr>\n",
       "    <tr>\n",
       "      <th>57</th>\n",
       "      <td>27/12/2021</td>\n",
       "      <td>26/03/2022</td>\n",
       "      <td></td>\n",
       "      <td></td>\n",
       "      <td>31/05/2022</td>\n",
       "      <td>13/09/2024</td>\n",
       "      <td>12/05/2029</td>\n",
       "      <td></td>\n",
       "    </tr>\n",
       "    <tr>\n",
       "      <th>58</th>\n",
       "      <td>24/01/2022</td>\n",
       "      <td>25/04/2022</td>\n",
       "      <td></td>\n",
       "      <td></td>\n",
       "      <td>24/06/2022</td>\n",
       "      <td>17/10/2024</td>\n",
       "      <td>09/06/2029</td>\n",
       "      <td></td>\n",
       "    </tr>\n",
       "    <tr>\n",
       "      <th>59</th>\n",
       "      <td>24/02/2022</td>\n",
       "      <td>27/05/2022</td>\n",
       "      <td></td>\n",
       "      <td></td>\n",
       "      <td>21/07/2022</td>\n",
       "      <td>21/11/2024</td>\n",
       "      <td>07/07/2029</td>\n",
       "      <td></td>\n",
       "    </tr>\n",
       "    <tr>\n",
       "      <th>60</th>\n",
       "      <td>29/03/2022</td>\n",
       "      <td>30/06/2022</td>\n",
       "      <td></td>\n",
       "      <td>25/05/2022</td>\n",
       "      <td>20/08/2022</td>\n",
       "      <td>25/12/2024</td>\n",
       "      <td>03/08/2029</td>\n",
       "      <td></td>\n",
       "    </tr>\n",
       "    <tr>\n",
       "      <th>61</th>\n",
       "      <td>18/06/2022</td>\n",
       "      <td>19/09/2022</td>\n",
       "      <td></td>\n",
       "      <td>13/08/2022</td>\n",
       "      <td>16/11/2022</td>\n",
       "      <td>16/03/2025</td>\n",
       "      <td>25/10/2029</td>\n",
       "      <td></td>\n",
       "    </tr>\n",
       "  </tbody>\n",
       "</table>\n",
       "<p>62 rows × 8 columns</p>\n",
       "</div>"
      ],
      "text/plain": [
       "          Date       Earth         Mer         Ven         Mar         Jup  \\\n",
       "0   31/10/2008  28/01/2009  26/11/2008              04/04/2009  08/08/2011   \n",
       "1   03/01/2009  02/04/2009  18/01/2009  28/02/2009  29/05/2009  01/10/2011   \n",
       "2   10/04/2013  13/07/2013              05/06/2013  28/09/2013  06/05/2016   \n",
       "3   03/07/2013  04/10/2013              28/08/2013  14/01/2014  06/08/2016   \n",
       "4   05/10/2013  03/01/2014                          25/04/2014  20/11/2016   \n",
       "..         ...         ...         ...         ...         ...         ...   \n",
       "57  27/12/2021  26/03/2022                          31/05/2022  13/09/2024   \n",
       "58  24/01/2022  25/04/2022                          24/06/2022  17/10/2024   \n",
       "59  24/02/2022  27/05/2022                          21/07/2022  21/11/2024   \n",
       "60  29/03/2022  30/06/2022              25/05/2022  20/08/2022  25/12/2024   \n",
       "61  18/06/2022  19/09/2022              13/08/2022  16/11/2022  16/03/2025   \n",
       "\n",
       "           Sat         Ura  \n",
       "0   29/07/2016  30/12/2030  \n",
       "1   03/10/2016              \n",
       "2   17/05/2021              \n",
       "3   22/08/2021              \n",
       "4   28/11/2021              \n",
       "..         ...         ...  \n",
       "57  12/05/2029              \n",
       "58  09/06/2029              \n",
       "59  07/07/2029              \n",
       "60  03/08/2029              \n",
       "61  25/10/2029              \n",
       "\n",
       "[62 rows x 8 columns]"
      ]
     },
     "execution_count": 76,
     "metadata": {},
     "output_type": "execute_result"
    }
   ],
   "source": [
    "# FD90\n",
    "\n",
    "output = pd.DataFrame()\n",
    "\n",
    "output[\"Date\"] = fdd[\"Date\"]\n",
    "\n",
    "for col in fdd.columns[1:]:\n",
    "    output[col] = fdd[col].astype(\"float64\") + 90\n",
    "\n",
    "# Copy price + Initialization of divides (1000,100,10,1,24,etc...)\n",
    "\n",
    "fd90 = output\n",
    "\n",
    "# for loop to catch which degrees is situated at which date in the future/past\n",
    "\n",
    "for planets in fd90.columns[1:]:\n",
    "    for num, i in enumerate(fd90[planets]):\n",
    "        df_copy = helio_cum.copy()\n",
    "        target = df_copy[df_copy[planets] == float(i)]\n",
    "\n",
    "        Date = []\n",
    "\n",
    "        for date in target['Date']:\n",
    "            Date.append(date)\n",
    "\n",
    "        if len(Date) > 0:\n",
    "            Date_ok = Date[-1]\n",
    "            fd90[planets].iloc[num] = Date_ok\n",
    "        else:\n",
    "            fd90[planets].iloc[num] = \" \"\n",
    "\n",
    "fd90"
   ]
  },
  {
   "cell_type": "code",
   "execution_count": 77,
   "id": "d48f79b6",
   "metadata": {},
   "outputs": [
    {
     "name": "stderr",
     "output_type": "stream",
     "text": [
      "c:\\Users\\ASUS\\AppData\\Local\\Programs\\Python\\Python39\\lib\\site-packages\\pandas\\core\\indexing.py:1732: SettingWithCopyWarning:\n",
      "\n",
      "\n",
      "A value is trying to be set on a copy of a slice from a DataFrame\n",
      "\n",
      "See the caveats in the documentation: https://pandas.pydata.org/pandas-docs/stable/user_guide/indexing.html#returning-a-view-versus-a-copy\n",
      "\n"
     ]
    },
    {
     "data": {
      "text/html": [
       "<div>\n",
       "<style scoped>\n",
       "    .dataframe tbody tr th:only-of-type {\n",
       "        vertical-align: middle;\n",
       "    }\n",
       "\n",
       "    .dataframe tbody tr th {\n",
       "        vertical-align: top;\n",
       "    }\n",
       "\n",
       "    .dataframe thead th {\n",
       "        text-align: right;\n",
       "    }\n",
       "</style>\n",
       "<table border=\"1\" class=\"dataframe\">\n",
       "  <thead>\n",
       "    <tr style=\"text-align: right;\">\n",
       "      <th></th>\n",
       "      <th>Date</th>\n",
       "      <th>Earth</th>\n",
       "      <th>Mer</th>\n",
       "      <th>Ven</th>\n",
       "      <th>Mar</th>\n",
       "      <th>Jup</th>\n",
       "      <th>Sat</th>\n",
       "      <th>Ura</th>\n",
       "    </tr>\n",
       "  </thead>\n",
       "  <tbody>\n",
       "    <tr>\n",
       "      <th>0</th>\n",
       "      <td>31/10/2008</td>\n",
       "      <td>27/02/2009</td>\n",
       "      <td>07/12/2008</td>\n",
       "      <td></td>\n",
       "      <td>21/05/2009</td>\n",
       "      <td>03/07/2012</td>\n",
       "      <td>21/04/2019</td>\n",
       "      <td></td>\n",
       "    </tr>\n",
       "    <tr>\n",
       "      <th>1</th>\n",
       "      <td>03/01/2009</td>\n",
       "      <td>03/05/2009</td>\n",
       "      <td></td>\n",
       "      <td>18/03/2009</td>\n",
       "      <td>18/07/2009</td>\n",
       "      <td>28/08/2012</td>\n",
       "      <td>26/06/2019</td>\n",
       "      <td></td>\n",
       "    </tr>\n",
       "    <tr>\n",
       "      <th>2</th>\n",
       "      <td>10/04/2013</td>\n",
       "      <td>13/08/2013</td>\n",
       "      <td></td>\n",
       "      <td></td>\n",
       "      <td>04/12/2013</td>\n",
       "      <td>07/06/2017</td>\n",
       "      <td>29/12/2023</td>\n",
       "      <td></td>\n",
       "    </tr>\n",
       "    <tr>\n",
       "      <th>3</th>\n",
       "      <td>03/07/2013</td>\n",
       "      <td>04/11/2013</td>\n",
       "      <td></td>\n",
       "      <td>16/09/2013</td>\n",
       "      <td>23/03/2014</td>\n",
       "      <td>07/09/2017</td>\n",
       "      <td>31/03/2024</td>\n",
       "      <td></td>\n",
       "    </tr>\n",
       "    <tr>\n",
       "      <th>4</th>\n",
       "      <td>05/10/2013</td>\n",
       "      <td>01/02/2014</td>\n",
       "      <td></td>\n",
       "      <td></td>\n",
       "      <td>25/06/2014</td>\n",
       "      <td>21/12/2017</td>\n",
       "      <td>02/07/2024</td>\n",
       "      <td></td>\n",
       "    </tr>\n",
       "    <tr>\n",
       "      <th>...</th>\n",
       "      <td>...</td>\n",
       "      <td>...</td>\n",
       "      <td>...</td>\n",
       "      <td>...</td>\n",
       "      <td>...</td>\n",
       "      <td>...</td>\n",
       "      <td>...</td>\n",
       "      <td>...</td>\n",
       "    </tr>\n",
       "    <tr>\n",
       "      <th>57</th>\n",
       "      <td>27/12/2021</td>\n",
       "      <td>26/04/2022</td>\n",
       "      <td></td>\n",
       "      <td>11/03/2022</td>\n",
       "      <td>18/07/2022</td>\n",
       "      <td>27/08/2025</td>\n",
       "      <td></td>\n",
       "      <td></td>\n",
       "    </tr>\n",
       "    <tr>\n",
       "      <th>58</th>\n",
       "      <td>24/01/2022</td>\n",
       "      <td>26/05/2022</td>\n",
       "      <td>25/02/2022</td>\n",
       "      <td>08/04/2022</td>\n",
       "      <td>11/08/2022</td>\n",
       "      <td>02/10/2025</td>\n",
       "      <td></td>\n",
       "      <td></td>\n",
       "    </tr>\n",
       "    <tr>\n",
       "      <th>59</th>\n",
       "      <td>24/02/2022</td>\n",
       "      <td>27/06/2022</td>\n",
       "      <td>01/04/2022</td>\n",
       "      <td></td>\n",
       "      <td>08/09/2022</td>\n",
       "      <td>07/11/2025</td>\n",
       "      <td></td>\n",
       "      <td></td>\n",
       "    </tr>\n",
       "    <tr>\n",
       "      <th>60</th>\n",
       "      <td>29/03/2022</td>\n",
       "      <td>01/08/2022</td>\n",
       "      <td>19/04/2022</td>\n",
       "      <td>13/06/2022</td>\n",
       "      <td>10/10/2022</td>\n",
       "      <td>13/12/2025</td>\n",
       "      <td></td>\n",
       "      <td></td>\n",
       "    </tr>\n",
       "    <tr>\n",
       "      <th>61</th>\n",
       "      <td>18/06/2022</td>\n",
       "      <td>20/10/2022</td>\n",
       "      <td></td>\n",
       "      <td></td>\n",
       "      <td>14/01/2023</td>\n",
       "      <td>08/03/2026</td>\n",
       "      <td></td>\n",
       "      <td></td>\n",
       "    </tr>\n",
       "  </tbody>\n",
       "</table>\n",
       "<p>62 rows × 8 columns</p>\n",
       "</div>"
      ],
      "text/plain": [
       "          Date       Earth         Mer         Ven         Mar         Jup  \\\n",
       "0   31/10/2008  27/02/2009  07/12/2008              21/05/2009  03/07/2012   \n",
       "1   03/01/2009  03/05/2009              18/03/2009  18/07/2009  28/08/2012   \n",
       "2   10/04/2013  13/08/2013                          04/12/2013  07/06/2017   \n",
       "3   03/07/2013  04/11/2013              16/09/2013  23/03/2014  07/09/2017   \n",
       "4   05/10/2013  01/02/2014                          25/06/2014  21/12/2017   \n",
       "..         ...         ...         ...         ...         ...         ...   \n",
       "57  27/12/2021  26/04/2022              11/03/2022  18/07/2022  27/08/2025   \n",
       "58  24/01/2022  26/05/2022  25/02/2022  08/04/2022  11/08/2022  02/10/2025   \n",
       "59  24/02/2022  27/06/2022  01/04/2022              08/09/2022  07/11/2025   \n",
       "60  29/03/2022  01/08/2022  19/04/2022  13/06/2022  10/10/2022  13/12/2025   \n",
       "61  18/06/2022  20/10/2022                          14/01/2023  08/03/2026   \n",
       "\n",
       "           Sat Ura  \n",
       "0   21/04/2019      \n",
       "1   26/06/2019      \n",
       "2   29/12/2023      \n",
       "3   31/03/2024      \n",
       "4   02/07/2024      \n",
       "..         ...  ..  \n",
       "57                  \n",
       "58                  \n",
       "59                  \n",
       "60                  \n",
       "61                  \n",
       "\n",
       "[62 rows x 8 columns]"
      ]
     },
     "execution_count": 77,
     "metadata": {},
     "output_type": "execute_result"
    }
   ],
   "source": [
    "# FD120\n",
    "\n",
    "output = pd.DataFrame()\n",
    "\n",
    "output[\"Date\"] = fdd[\"Date\"]\n",
    "\n",
    "for col in fdd.columns[1:]:\n",
    "    output[col] = fdd[col].astype(\"float64\") + 120\n",
    "\n",
    "# Copy price + Initialization of divides (1000,100,10,1,24,etc...)\n",
    "\n",
    "fd120 = output\n",
    "\n",
    "# for loop to catch which degrees is situated at which date in the future/past\n",
    "\n",
    "for planets in fd120.columns[1:]:\n",
    "    for num, i in enumerate(fd120[planets]):\n",
    "        df_copy = helio_cum.copy()\n",
    "        target = df_copy[df_copy[planets] == float(i)]\n",
    "\n",
    "        Date = []\n",
    "\n",
    "        for date in target['Date']:\n",
    "            Date.append(date)\n",
    "\n",
    "        if len(Date) > 0:\n",
    "            Date_ok = Date[-1]\n",
    "            fd120[planets].iloc[num] = Date_ok\n",
    "        else:\n",
    "            fd120[planets].iloc[num] = \" \"\n",
    "\n",
    "fd120"
   ]
  },
  {
   "cell_type": "code",
   "execution_count": 78,
   "id": "a9c30707",
   "metadata": {},
   "outputs": [
    {
     "name": "stderr",
     "output_type": "stream",
     "text": [
      "c:\\Users\\ASUS\\AppData\\Local\\Programs\\Python\\Python39\\lib\\site-packages\\pandas\\core\\indexing.py:1732: SettingWithCopyWarning:\n",
      "\n",
      "\n",
      "A value is trying to be set on a copy of a slice from a DataFrame\n",
      "\n",
      "See the caveats in the documentation: https://pandas.pydata.org/pandas-docs/stable/user_guide/indexing.html#returning-a-view-versus-a-copy\n",
      "\n"
     ]
    },
    {
     "data": {
      "text/html": [
       "<div>\n",
       "<style scoped>\n",
       "    .dataframe tbody tr th:only-of-type {\n",
       "        vertical-align: middle;\n",
       "    }\n",
       "\n",
       "    .dataframe tbody tr th {\n",
       "        vertical-align: top;\n",
       "    }\n",
       "\n",
       "    .dataframe thead th {\n",
       "        text-align: right;\n",
       "    }\n",
       "</style>\n",
       "<table border=\"1\" class=\"dataframe\">\n",
       "  <thead>\n",
       "    <tr style=\"text-align: right;\">\n",
       "      <th></th>\n",
       "      <th>Date</th>\n",
       "      <th>Earth</th>\n",
       "      <th>Mer</th>\n",
       "      <th>Ven</th>\n",
       "      <th>Mar</th>\n",
       "      <th>Jup</th>\n",
       "      <th>Sat</th>\n",
       "      <th>Ura</th>\n",
       "    </tr>\n",
       "  </thead>\n",
       "  <tbody>\n",
       "    <tr>\n",
       "      <th>0</th>\n",
       "      <td>31/10/2008</td>\n",
       "      <td>23/03/2009</td>\n",
       "      <td>15/12/2008</td>\n",
       "      <td>29/01/2009</td>\n",
       "      <td>29/06/2009</td>\n",
       "      <td>02/04/2013</td>\n",
       "      <td>18/06/2021</td>\n",
       "      <td></td>\n",
       "    </tr>\n",
       "    <tr>\n",
       "      <th>1</th>\n",
       "      <td>03/01/2009</td>\n",
       "      <td>28/05/2009</td>\n",
       "      <td>28/01/2009</td>\n",
       "      <td>02/04/2009</td>\n",
       "      <td>29/08/2009</td>\n",
       "      <td>30/05/2013</td>\n",
       "      <td>22/08/2021</td>\n",
       "      <td></td>\n",
       "    </tr>\n",
       "    <tr>\n",
       "      <th>2</th>\n",
       "      <td>10/04/2013</td>\n",
       "      <td>07/09/2013</td>\n",
       "      <td></td>\n",
       "      <td>08/07/2013</td>\n",
       "      <td>28/01/2014</td>\n",
       "      <td>18/04/2018</td>\n",
       "      <td>28/12/2025</td>\n",
       "      <td></td>\n",
       "    </tr>\n",
       "    <tr>\n",
       "      <th>3</th>\n",
       "      <td>03/07/2013</td>\n",
       "      <td></td>\n",
       "      <td></td>\n",
       "      <td>01/10/2013</td>\n",
       "      <td>14/05/2014</td>\n",
       "      <td>18/07/2018</td>\n",
       "      <td>27/03/2026</td>\n",
       "      <td></td>\n",
       "    </tr>\n",
       "    <tr>\n",
       "      <th>4</th>\n",
       "      <td>05/10/2013</td>\n",
       "      <td>25/02/2014</td>\n",
       "      <td></td>\n",
       "      <td>03/01/2014</td>\n",
       "      <td>09/08/2014</td>\n",
       "      <td>29/10/2018</td>\n",
       "      <td>24/06/2026</td>\n",
       "      <td></td>\n",
       "    </tr>\n",
       "    <tr>\n",
       "      <th>...</th>\n",
       "      <td>...</td>\n",
       "      <td>...</td>\n",
       "      <td>...</td>\n",
       "      <td>...</td>\n",
       "      <td>...</td>\n",
       "      <td>...</td>\n",
       "      <td>...</td>\n",
       "      <td>...</td>\n",
       "    </tr>\n",
       "    <tr>\n",
       "      <th>57</th>\n",
       "      <td>27/12/2021</td>\n",
       "      <td>20/05/2022</td>\n",
       "      <td></td>\n",
       "      <td>26/03/2022</td>\n",
       "      <td>25/08/2022</td>\n",
       "      <td>14/06/2026</td>\n",
       "      <td></td>\n",
       "      <td></td>\n",
       "    </tr>\n",
       "    <tr>\n",
       "      <th>58</th>\n",
       "      <td>24/01/2022</td>\n",
       "      <td>20/06/2022</td>\n",
       "      <td>06/03/2022</td>\n",
       "      <td></td>\n",
       "      <td>19/09/2022</td>\n",
       "      <td>21/07/2026</td>\n",
       "      <td></td>\n",
       "      <td></td>\n",
       "    </tr>\n",
       "    <tr>\n",
       "      <th>59</th>\n",
       "      <td>24/02/2022</td>\n",
       "      <td>22/07/2022</td>\n",
       "      <td></td>\n",
       "      <td>26/05/2022</td>\n",
       "      <td>19/10/2022</td>\n",
       "      <td>28/08/2026</td>\n",
       "      <td></td>\n",
       "      <td></td>\n",
       "    </tr>\n",
       "    <tr>\n",
       "      <th>60</th>\n",
       "      <td>29/03/2022</td>\n",
       "      <td>26/08/2022</td>\n",
       "      <td></td>\n",
       "      <td>28/06/2022</td>\n",
       "      <td>23/11/2022</td>\n",
       "      <td>04/10/2026</td>\n",
       "      <td></td>\n",
       "      <td></td>\n",
       "    </tr>\n",
       "    <tr>\n",
       "      <th>61</th>\n",
       "      <td>18/06/2022</td>\n",
       "      <td>13/11/2022</td>\n",
       "      <td></td>\n",
       "      <td></td>\n",
       "      <td>06/03/2023</td>\n",
       "      <td>31/12/2026</td>\n",
       "      <td></td>\n",
       "      <td></td>\n",
       "    </tr>\n",
       "  </tbody>\n",
       "</table>\n",
       "<p>62 rows × 8 columns</p>\n",
       "</div>"
      ],
      "text/plain": [
       "          Date       Earth         Mer         Ven         Mar         Jup  \\\n",
       "0   31/10/2008  23/03/2009  15/12/2008  29/01/2009  29/06/2009  02/04/2013   \n",
       "1   03/01/2009  28/05/2009  28/01/2009  02/04/2009  29/08/2009  30/05/2013   \n",
       "2   10/04/2013  07/09/2013              08/07/2013  28/01/2014  18/04/2018   \n",
       "3   03/07/2013                          01/10/2013  14/05/2014  18/07/2018   \n",
       "4   05/10/2013  25/02/2014              03/01/2014  09/08/2014  29/10/2018   \n",
       "..         ...         ...         ...         ...         ...         ...   \n",
       "57  27/12/2021  20/05/2022              26/03/2022  25/08/2022  14/06/2026   \n",
       "58  24/01/2022  20/06/2022  06/03/2022              19/09/2022  21/07/2026   \n",
       "59  24/02/2022  22/07/2022              26/05/2022  19/10/2022  28/08/2026   \n",
       "60  29/03/2022  26/08/2022              28/06/2022  23/11/2022  04/10/2026   \n",
       "61  18/06/2022  13/11/2022                          06/03/2023  31/12/2026   \n",
       "\n",
       "           Sat Ura  \n",
       "0   18/06/2021      \n",
       "1   22/08/2021      \n",
       "2   28/12/2025      \n",
       "3   27/03/2026      \n",
       "4   24/06/2026      \n",
       "..         ...  ..  \n",
       "57                  \n",
       "58                  \n",
       "59                  \n",
       "60                  \n",
       "61                  \n",
       "\n",
       "[62 rows x 8 columns]"
      ]
     },
     "execution_count": 78,
     "metadata": {},
     "output_type": "execute_result"
    }
   ],
   "source": [
    "# FD144\n",
    "\n",
    "output = pd.DataFrame()\n",
    "\n",
    "output[\"Date\"] = fdd[\"Date\"]\n",
    "\n",
    "for col in fdd.columns[1:]:\n",
    "    output[col] = fdd[col].astype(\"float64\") + 144\n",
    "\n",
    "# Copy price + Initialization of divides (1000,100,10,1,24,etc...)\n",
    "\n",
    "fd144 = output\n",
    "\n",
    "# for loop to catch which degrees is situated at which date in the future/past\n",
    "\n",
    "for planets in fd144.columns[1:]:\n",
    "    for num, i in enumerate(fd144[planets]):\n",
    "        df_copy = helio_cum.copy()\n",
    "        target = df_copy[df_copy[planets] == float(i)]\n",
    "\n",
    "        Date = []\n",
    "\n",
    "        for date in target['Date']:\n",
    "            Date.append(date)\n",
    "\n",
    "        if len(Date) > 0:\n",
    "            Date_ok = Date[-1]\n",
    "            fd144[planets].iloc[num] = Date_ok\n",
    "        else:\n",
    "            fd144[planets].iloc[num] = \" \"\n",
    "\n",
    "fd144"
   ]
  },
  {
   "cell_type": "code",
   "execution_count": 79,
   "id": "226ce79c",
   "metadata": {},
   "outputs": [
    {
     "name": "stderr",
     "output_type": "stream",
     "text": [
      "c:\\Users\\ASUS\\AppData\\Local\\Programs\\Python\\Python39\\lib\\site-packages\\pandas\\core\\indexing.py:1732: SettingWithCopyWarning:\n",
      "\n",
      "\n",
      "A value is trying to be set on a copy of a slice from a DataFrame\n",
      "\n",
      "See the caveats in the documentation: https://pandas.pydata.org/pandas-docs/stable/user_guide/indexing.html#returning-a-view-versus-a-copy\n",
      "\n"
     ]
    },
    {
     "data": {
      "text/html": [
       "<div>\n",
       "<style scoped>\n",
       "    .dataframe tbody tr th:only-of-type {\n",
       "        vertical-align: middle;\n",
       "    }\n",
       "\n",
       "    .dataframe tbody tr th {\n",
       "        vertical-align: top;\n",
       "    }\n",
       "\n",
       "    .dataframe thead th {\n",
       "        text-align: right;\n",
       "    }\n",
       "</style>\n",
       "<table border=\"1\" class=\"dataframe\">\n",
       "  <thead>\n",
       "    <tr style=\"text-align: right;\">\n",
       "      <th></th>\n",
       "      <th>Date</th>\n",
       "      <th>Earth</th>\n",
       "      <th>Mer</th>\n",
       "      <th>Ven</th>\n",
       "      <th>Mar</th>\n",
       "      <th>Jup</th>\n",
       "      <th>Sat</th>\n",
       "      <th>Ura</th>\n",
       "    </tr>\n",
       "  </thead>\n",
       "  <tbody>\n",
       "    <tr>\n",
       "      <th>0</th>\n",
       "      <td>31/10/2008</td>\n",
       "      <td>29/04/2009</td>\n",
       "      <td></td>\n",
       "      <td></td>\n",
       "      <td>30/08/2009</td>\n",
       "      <td>04/06/2014</td>\n",
       "      <td>02/08/2024</td>\n",
       "      <td></td>\n",
       "    </tr>\n",
       "    <tr>\n",
       "      <th>1</th>\n",
       "      <td>03/01/2009</td>\n",
       "      <td>04/07/2009</td>\n",
       "      <td>06/02/2009</td>\n",
       "      <td></td>\n",
       "      <td>06/11/2009</td>\n",
       "      <td>05/08/2014</td>\n",
       "      <td>02/10/2024</td>\n",
       "      <td></td>\n",
       "    </tr>\n",
       "    <tr>\n",
       "      <th>2</th>\n",
       "      <td>10/04/2013</td>\n",
       "      <td>14/10/2013</td>\n",
       "      <td></td>\n",
       "      <td></td>\n",
       "      <td>18/04/2014</td>\n",
       "      <td>22/07/2019</td>\n",
       "      <td>30/10/2028</td>\n",
       "      <td></td>\n",
       "    </tr>\n",
       "    <tr>\n",
       "      <th>3</th>\n",
       "      <td>03/07/2013</td>\n",
       "      <td>02/01/2014</td>\n",
       "      <td></td>\n",
       "      <td>24/10/2013</td>\n",
       "      <td>23/07/2014</td>\n",
       "      <td>16/10/2019</td>\n",
       "      <td>22/01/2029</td>\n",
       "      <td></td>\n",
       "    </tr>\n",
       "    <tr>\n",
       "      <th>4</th>\n",
       "      <td>05/10/2013</td>\n",
       "      <td>02/04/2014</td>\n",
       "      <td></td>\n",
       "      <td></td>\n",
       "      <td>09/10/2014</td>\n",
       "      <td>22/01/2020</td>\n",
       "      <td>15/04/2029</td>\n",
       "      <td></td>\n",
       "    </tr>\n",
       "    <tr>\n",
       "      <th>...</th>\n",
       "      <td>...</td>\n",
       "      <td>...</td>\n",
       "      <td>...</td>\n",
       "      <td>...</td>\n",
       "      <td>...</td>\n",
       "      <td>...</td>\n",
       "      <td>...</td>\n",
       "      <td>...</td>\n",
       "    </tr>\n",
       "    <tr>\n",
       "      <th>57</th>\n",
       "      <td>27/12/2021</td>\n",
       "      <td>27/06/2022</td>\n",
       "      <td></td>\n",
       "      <td>18/04/2022</td>\n",
       "      <td>26/10/2022</td>\n",
       "      <td>14/09/2027</td>\n",
       "      <td></td>\n",
       "      <td></td>\n",
       "    </tr>\n",
       "    <tr>\n",
       "      <th>58</th>\n",
       "      <td>24/01/2022</td>\n",
       "      <td>27/07/2022</td>\n",
       "      <td></td>\n",
       "      <td>16/05/2022</td>\n",
       "      <td>23/11/2022</td>\n",
       "      <td>23/10/2027</td>\n",
       "      <td></td>\n",
       "      <td></td>\n",
       "    </tr>\n",
       "    <tr>\n",
       "      <th>59</th>\n",
       "      <td>24/02/2022</td>\n",
       "      <td>29/08/2022</td>\n",
       "      <td></td>\n",
       "      <td></td>\n",
       "      <td>26/12/2022</td>\n",
       "      <td>01/12/2027</td>\n",
       "      <td></td>\n",
       "      <td></td>\n",
       "    </tr>\n",
       "    <tr>\n",
       "      <th>60</th>\n",
       "      <td>29/03/2022</td>\n",
       "      <td>02/10/2022</td>\n",
       "      <td></td>\n",
       "      <td></td>\n",
       "      <td>03/02/2023</td>\n",
       "      <td>09/01/2028</td>\n",
       "      <td></td>\n",
       "      <td></td>\n",
       "    </tr>\n",
       "    <tr>\n",
       "      <th>61</th>\n",
       "      <td>18/06/2022</td>\n",
       "      <td>18/12/2022</td>\n",
       "      <td></td>\n",
       "      <td></td>\n",
       "      <td>26/05/2023</td>\n",
       "      <td>10/04/2028</td>\n",
       "      <td></td>\n",
       "      <td></td>\n",
       "    </tr>\n",
       "  </tbody>\n",
       "</table>\n",
       "<p>62 rows × 8 columns</p>\n",
       "</div>"
      ],
      "text/plain": [
       "          Date       Earth         Mer         Ven         Mar         Jup  \\\n",
       "0   31/10/2008  29/04/2009                          30/08/2009  04/06/2014   \n",
       "1   03/01/2009  04/07/2009  06/02/2009              06/11/2009  05/08/2014   \n",
       "2   10/04/2013  14/10/2013                          18/04/2014  22/07/2019   \n",
       "3   03/07/2013  02/01/2014              24/10/2013  23/07/2014  16/10/2019   \n",
       "4   05/10/2013  02/04/2014                          09/10/2014  22/01/2020   \n",
       "..         ...         ...         ...         ...         ...         ...   \n",
       "57  27/12/2021  27/06/2022              18/04/2022  26/10/2022  14/09/2027   \n",
       "58  24/01/2022  27/07/2022              16/05/2022  23/11/2022  23/10/2027   \n",
       "59  24/02/2022  29/08/2022                          26/12/2022  01/12/2027   \n",
       "60  29/03/2022  02/10/2022                          03/02/2023  09/01/2028   \n",
       "61  18/06/2022  18/12/2022                          26/05/2023  10/04/2028   \n",
       "\n",
       "           Sat Ura  \n",
       "0   02/08/2024      \n",
       "1   02/10/2024      \n",
       "2   30/10/2028      \n",
       "3   22/01/2029      \n",
       "4   15/04/2029      \n",
       "..         ...  ..  \n",
       "57                  \n",
       "58                  \n",
       "59                  \n",
       "60                  \n",
       "61                  \n",
       "\n",
       "[62 rows x 8 columns]"
      ]
     },
     "execution_count": 79,
     "metadata": {},
     "output_type": "execute_result"
    }
   ],
   "source": [
    "# FD180\n",
    "\n",
    "output = pd.DataFrame()\n",
    "\n",
    "output[\"Date\"] = fdd[\"Date\"]\n",
    "\n",
    "for col in fdd.columns[1:]:\n",
    "    output[col] = fdd[col].astype(\"float64\") + 180\n",
    "\n",
    "# Copy price + Initialization of divides (1000,100,10,1,24,etc...)\n",
    "\n",
    "fd180 = output\n",
    "\n",
    "# for loop to catch which degrees is situated at which date in the future/past\n",
    "\n",
    "for planets in fd180.columns[1:]:\n",
    "    for num, i in enumerate(fd180[planets]):\n",
    "        df_copy = helio_cum.copy()\n",
    "        target = df_copy[df_copy[planets] == float(i)]\n",
    "\n",
    "        Date = []\n",
    "\n",
    "        for date in target['Date']:\n",
    "            Date.append(date)\n",
    "\n",
    "        if len(Date) > 0:\n",
    "            Date_ok = Date[-1]\n",
    "            fd180[planets].iloc[num] = Date_ok\n",
    "        else:\n",
    "            fd180[planets].iloc[num] = \" \"\n",
    "\n",
    "fd180"
   ]
  },
  {
   "cell_type": "code",
   "execution_count": 80,
   "id": "4a605b37",
   "metadata": {},
   "outputs": [
    {
     "name": "stderr",
     "output_type": "stream",
     "text": [
      "c:\\Users\\ASUS\\AppData\\Local\\Programs\\Python\\Python39\\lib\\site-packages\\pandas\\core\\indexing.py:1732: SettingWithCopyWarning:\n",
      "\n",
      "\n",
      "A value is trying to be set on a copy of a slice from a DataFrame\n",
      "\n",
      "See the caveats in the documentation: https://pandas.pydata.org/pandas-docs/stable/user_guide/indexing.html#returning-a-view-versus-a-copy\n",
      "\n"
     ]
    },
    {
     "data": {
      "text/html": [
       "<div>\n",
       "<style scoped>\n",
       "    .dataframe tbody tr th:only-of-type {\n",
       "        vertical-align: middle;\n",
       "    }\n",
       "\n",
       "    .dataframe tbody tr th {\n",
       "        vertical-align: top;\n",
       "    }\n",
       "\n",
       "    .dataframe thead th {\n",
       "        text-align: right;\n",
       "    }\n",
       "</style>\n",
       "<table border=\"1\" class=\"dataframe\">\n",
       "  <thead>\n",
       "    <tr style=\"text-align: right;\">\n",
       "      <th></th>\n",
       "      <th>Date</th>\n",
       "      <th>Earth</th>\n",
       "      <th>Mer</th>\n",
       "      <th>Ven</th>\n",
       "      <th>Mar</th>\n",
       "      <th>Jup</th>\n",
       "      <th>Sat</th>\n",
       "      <th>Ura</th>\n",
       "    </tr>\n",
       "  </thead>\n",
       "  <tbody>\n",
       "    <tr>\n",
       "      <th>0</th>\n",
       "      <td>31/10/2008</td>\n",
       "      <td>01/11/2009</td>\n",
       "      <td>27/01/2009</td>\n",
       "      <td>13/06/2009</td>\n",
       "      <td>18/09/2010</td>\n",
       "      <td>16/09/2020</td>\n",
       "      <td></td>\n",
       "      <td></td>\n",
       "    </tr>\n",
       "    <tr>\n",
       "      <th>1</th>\n",
       "      <td>03/01/2009</td>\n",
       "      <td>03/01/2010</td>\n",
       "      <td>01/04/2009</td>\n",
       "      <td>16/08/2009</td>\n",
       "      <td>21/11/2010</td>\n",
       "      <td>14/11/2020</td>\n",
       "      <td></td>\n",
       "      <td></td>\n",
       "    </tr>\n",
       "    <tr>\n",
       "      <th>2</th>\n",
       "      <td>10/04/2013</td>\n",
       "      <td>10/04/2014</td>\n",
       "      <td></td>\n",
       "      <td></td>\n",
       "      <td>26/02/2015</td>\n",
       "      <td>21/02/2025</td>\n",
       "      <td></td>\n",
       "      <td></td>\n",
       "    </tr>\n",
       "    <tr>\n",
       "      <th>3</th>\n",
       "      <td>03/07/2013</td>\n",
       "      <td>03/07/2014</td>\n",
       "      <td>29/09/2013</td>\n",
       "      <td>13/02/2014</td>\n",
       "      <td>22/05/2015</td>\n",
       "      <td>13/05/2025</td>\n",
       "      <td></td>\n",
       "      <td></td>\n",
       "    </tr>\n",
       "    <tr>\n",
       "      <th>4</th>\n",
       "      <td>05/10/2013</td>\n",
       "      <td>06/10/2014</td>\n",
       "      <td></td>\n",
       "      <td>18/05/2014</td>\n",
       "      <td>23/08/2015</td>\n",
       "      <td>15/08/2025</td>\n",
       "      <td></td>\n",
       "      <td></td>\n",
       "    </tr>\n",
       "    <tr>\n",
       "      <th>...</th>\n",
       "      <td>...</td>\n",
       "      <td>...</td>\n",
       "      <td>...</td>\n",
       "      <td>...</td>\n",
       "      <td>...</td>\n",
       "      <td>...</td>\n",
       "      <td>...</td>\n",
       "      <td>...</td>\n",
       "    </tr>\n",
       "    <tr>\n",
       "      <th>57</th>\n",
       "      <td>27/12/2021</td>\n",
       "      <td>27/12/2022</td>\n",
       "      <td>25/03/2022</td>\n",
       "      <td>09/08/2022</td>\n",
       "      <td>14/11/2023</td>\n",
       "      <td></td>\n",
       "      <td></td>\n",
       "      <td></td>\n",
       "    </tr>\n",
       "    <tr>\n",
       "      <th>58</th>\n",
       "      <td>24/01/2022</td>\n",
       "      <td>25/01/2023</td>\n",
       "      <td></td>\n",
       "      <td></td>\n",
       "      <td>12/12/2023</td>\n",
       "      <td></td>\n",
       "      <td></td>\n",
       "      <td></td>\n",
       "    </tr>\n",
       "    <tr>\n",
       "      <th>59</th>\n",
       "      <td>24/02/2022</td>\n",
       "      <td>24/02/2023</td>\n",
       "      <td>23/05/2022</td>\n",
       "      <td>07/10/2022</td>\n",
       "      <td>12/01/2024</td>\n",
       "      <td></td>\n",
       "      <td></td>\n",
       "      <td></td>\n",
       "    </tr>\n",
       "    <tr>\n",
       "      <th>60</th>\n",
       "      <td>29/03/2022</td>\n",
       "      <td>29/03/2023</td>\n",
       "      <td>25/06/2022</td>\n",
       "      <td>09/11/2022</td>\n",
       "      <td>14/02/2024</td>\n",
       "      <td></td>\n",
       "      <td></td>\n",
       "      <td></td>\n",
       "    </tr>\n",
       "    <tr>\n",
       "      <th>61</th>\n",
       "      <td>18/06/2022</td>\n",
       "      <td>18/06/2023</td>\n",
       "      <td>14/09/2022</td>\n",
       "      <td>29/01/2023</td>\n",
       "      <td>05/05/2024</td>\n",
       "      <td></td>\n",
       "      <td></td>\n",
       "      <td></td>\n",
       "    </tr>\n",
       "  </tbody>\n",
       "</table>\n",
       "<p>62 rows × 8 columns</p>\n",
       "</div>"
      ],
      "text/plain": [
       "          Date       Earth         Mer         Ven         Mar         Jup  \\\n",
       "0   31/10/2008  01/11/2009  27/01/2009  13/06/2009  18/09/2010  16/09/2020   \n",
       "1   03/01/2009  03/01/2010  01/04/2009  16/08/2009  21/11/2010  14/11/2020   \n",
       "2   10/04/2013  10/04/2014                          26/02/2015  21/02/2025   \n",
       "3   03/07/2013  03/07/2014  29/09/2013  13/02/2014  22/05/2015  13/05/2025   \n",
       "4   05/10/2013  06/10/2014              18/05/2014  23/08/2015  15/08/2025   \n",
       "..         ...         ...         ...         ...         ...         ...   \n",
       "57  27/12/2021  27/12/2022  25/03/2022  09/08/2022  14/11/2023               \n",
       "58  24/01/2022  25/01/2023                          12/12/2023               \n",
       "59  24/02/2022  24/02/2023  23/05/2022  07/10/2022  12/01/2024               \n",
       "60  29/03/2022  29/03/2023  25/06/2022  09/11/2022  14/02/2024               \n",
       "61  18/06/2022  18/06/2023  14/09/2022  29/01/2023  05/05/2024               \n",
       "\n",
       "   Sat Ura  \n",
       "0           \n",
       "1           \n",
       "2           \n",
       "3           \n",
       "4           \n",
       "..  ..  ..  \n",
       "57          \n",
       "58          \n",
       "59          \n",
       "60          \n",
       "61          \n",
       "\n",
       "[62 rows x 8 columns]"
      ]
     },
     "execution_count": 80,
     "metadata": {},
     "output_type": "execute_result"
    }
   ],
   "source": [
    "# FD360\n",
    "\n",
    "output = pd.DataFrame()\n",
    "\n",
    "output[\"Date\"] = fdd[\"Date\"]\n",
    "\n",
    "for col in fdd.columns[1:]:\n",
    "    output[col] = fdd[col].astype(\"float64\") + 360\n",
    "\n",
    "# Copy price + Initialization of divides (1000,100,10,1,24,etc...)\n",
    "\n",
    "fd360 = output\n",
    "\n",
    "# for loop to catch which degrees is situated at which date in the future/past\n",
    "\n",
    "for planets in fd360.columns[1:]:\n",
    "    for num, i in enumerate(fd360[planets]):\n",
    "        df_copy = helio_cum.copy()\n",
    "        target = df_copy[df_copy[planets] == float(i)]\n",
    "\n",
    "        Date = []\n",
    "\n",
    "        for date in target['Date']:\n",
    "            Date.append(date)\n",
    "\n",
    "        if len(Date) > 0:\n",
    "            Date_ok = Date[-1]\n",
    "            fd360[planets].iloc[num] = Date_ok\n",
    "        else:\n",
    "            fd360[planets].iloc[num] = \" \"\n",
    "\n",
    "fd360"
   ]
  },
  {
   "cell_type": "code",
   "execution_count": 81,
   "id": "e4986f63",
   "metadata": {},
   "outputs": [
    {
     "name": "stderr",
     "output_type": "stream",
     "text": [
      "c:\\Users\\ASUS\\AppData\\Local\\Programs\\Python\\Python39\\lib\\site-packages\\pandas\\core\\indexing.py:1732: SettingWithCopyWarning:\n",
      "\n",
      "\n",
      "A value is trying to be set on a copy of a slice from a DataFrame\n",
      "\n",
      "See the caveats in the documentation: https://pandas.pydata.org/pandas-docs/stable/user_guide/indexing.html#returning-a-view-versus-a-copy\n",
      "\n"
     ]
    },
    {
     "data": {
      "text/html": [
       "<div>\n",
       "<style scoped>\n",
       "    .dataframe tbody tr th:only-of-type {\n",
       "        vertical-align: middle;\n",
       "    }\n",
       "\n",
       "    .dataframe tbody tr th {\n",
       "        vertical-align: top;\n",
       "    }\n",
       "\n",
       "    .dataframe thead th {\n",
       "        text-align: right;\n",
       "    }\n",
       "</style>\n",
       "<table border=\"1\" class=\"dataframe\">\n",
       "  <thead>\n",
       "    <tr style=\"text-align: right;\">\n",
       "      <th></th>\n",
       "      <th>Date</th>\n",
       "      <th>Earth</th>\n",
       "      <th>Mer</th>\n",
       "      <th>Ven</th>\n",
       "      <th>Mar</th>\n",
       "      <th>Jup</th>\n",
       "      <th>Sat</th>\n",
       "      <th>Ura</th>\n",
       "    </tr>\n",
       "  </thead>\n",
       "  <tbody>\n",
       "    <tr>\n",
       "      <th>0</th>\n",
       "      <td>31/10/2008</td>\n",
       "      <td>01/11/2010</td>\n",
       "      <td>25/04/2009</td>\n",
       "      <td></td>\n",
       "      <td>05/08/2012</td>\n",
       "      <td></td>\n",
       "      <td></td>\n",
       "      <td></td>\n",
       "    </tr>\n",
       "    <tr>\n",
       "      <th>1</th>\n",
       "      <td>03/01/2009</td>\n",
       "      <td>03/01/2011</td>\n",
       "      <td>28/06/2009</td>\n",
       "      <td></td>\n",
       "      <td>08/10/2012</td>\n",
       "      <td></td>\n",
       "      <td></td>\n",
       "      <td></td>\n",
       "    </tr>\n",
       "    <tr>\n",
       "      <th>2</th>\n",
       "      <td>10/04/2013</td>\n",
       "      <td>11/04/2015</td>\n",
       "      <td></td>\n",
       "      <td></td>\n",
       "      <td>13/01/2017</td>\n",
       "      <td></td>\n",
       "      <td></td>\n",
       "      <td></td>\n",
       "    </tr>\n",
       "    <tr>\n",
       "      <th>3</th>\n",
       "      <td>03/07/2013</td>\n",
       "      <td>04/07/2015</td>\n",
       "      <td>26/12/2013</td>\n",
       "      <td></td>\n",
       "      <td>08/04/2017</td>\n",
       "      <td></td>\n",
       "      <td></td>\n",
       "      <td></td>\n",
       "    </tr>\n",
       "    <tr>\n",
       "      <th>4</th>\n",
       "      <td>05/10/2013</td>\n",
       "      <td>06/10/2015</td>\n",
       "      <td></td>\n",
       "      <td></td>\n",
       "      <td>10/07/2017</td>\n",
       "      <td></td>\n",
       "      <td></td>\n",
       "      <td></td>\n",
       "    </tr>\n",
       "    <tr>\n",
       "      <th>...</th>\n",
       "      <td>...</td>\n",
       "      <td>...</td>\n",
       "      <td>...</td>\n",
       "      <td>...</td>\n",
       "      <td>...</td>\n",
       "      <td>...</td>\n",
       "      <td>...</td>\n",
       "      <td>...</td>\n",
       "    </tr>\n",
       "    <tr>\n",
       "      <th>57</th>\n",
       "      <td>27/12/2021</td>\n",
       "      <td>27/12/2023</td>\n",
       "      <td>21/06/2022</td>\n",
       "      <td></td>\n",
       "      <td>30/09/2025</td>\n",
       "      <td></td>\n",
       "      <td></td>\n",
       "      <td></td>\n",
       "    </tr>\n",
       "    <tr>\n",
       "      <th>58</th>\n",
       "      <td>24/01/2022</td>\n",
       "      <td>25/01/2024</td>\n",
       "      <td></td>\n",
       "      <td>18/04/2023</td>\n",
       "      <td>29/10/2025</td>\n",
       "      <td></td>\n",
       "      <td></td>\n",
       "      <td></td>\n",
       "    </tr>\n",
       "    <tr>\n",
       "      <th>59</th>\n",
       "      <td>24/02/2022</td>\n",
       "      <td>25/02/2024</td>\n",
       "      <td>19/08/2022</td>\n",
       "      <td></td>\n",
       "      <td>29/11/2025</td>\n",
       "      <td></td>\n",
       "      <td></td>\n",
       "      <td></td>\n",
       "    </tr>\n",
       "    <tr>\n",
       "      <th>60</th>\n",
       "      <td>29/03/2022</td>\n",
       "      <td>29/03/2024</td>\n",
       "      <td>21/09/2022</td>\n",
       "      <td></td>\n",
       "      <td>01/01/2026</td>\n",
       "      <td></td>\n",
       "      <td></td>\n",
       "      <td></td>\n",
       "    </tr>\n",
       "    <tr>\n",
       "      <th>61</th>\n",
       "      <td>18/06/2022</td>\n",
       "      <td>17/06/2024</td>\n",
       "      <td>11/12/2022</td>\n",
       "      <td></td>\n",
       "      <td>23/03/2026</td>\n",
       "      <td></td>\n",
       "      <td></td>\n",
       "      <td></td>\n",
       "    </tr>\n",
       "  </tbody>\n",
       "</table>\n",
       "<p>62 rows × 8 columns</p>\n",
       "</div>"
      ],
      "text/plain": [
       "          Date       Earth         Mer         Ven         Mar Jup Sat Ura\n",
       "0   31/10/2008  01/11/2010  25/04/2009              05/08/2012            \n",
       "1   03/01/2009  03/01/2011  28/06/2009              08/10/2012            \n",
       "2   10/04/2013  11/04/2015                          13/01/2017            \n",
       "3   03/07/2013  04/07/2015  26/12/2013              08/04/2017            \n",
       "4   05/10/2013  06/10/2015                          10/07/2017            \n",
       "..         ...         ...         ...         ...         ...  ..  ..  ..\n",
       "57  27/12/2021  27/12/2023  21/06/2022              30/09/2025            \n",
       "58  24/01/2022  25/01/2024              18/04/2023  29/10/2025            \n",
       "59  24/02/2022  25/02/2024  19/08/2022              29/11/2025            \n",
       "60  29/03/2022  29/03/2024  21/09/2022              01/01/2026            \n",
       "61  18/06/2022  17/06/2024  11/12/2022              23/03/2026            \n",
       "\n",
       "[62 rows x 8 columns]"
      ]
     },
     "execution_count": 81,
     "metadata": {},
     "output_type": "execute_result"
    }
   ],
   "source": [
    "# FD720\n",
    "\n",
    "output = pd.DataFrame()\n",
    "\n",
    "output[\"Date\"] = fdd[\"Date\"]\n",
    "\n",
    "for col in fdd.columns[1:]:\n",
    "    output[col] = fdd[col].astype(\"float64\") + 720\n",
    "\n",
    "# Copy price + Initialization of divides (1000,100,10,1,24,etc...)\n",
    "\n",
    "fd720 = output\n",
    "\n",
    "# for loop to catch which degrees is situated at which date in the future/past\n",
    "\n",
    "for planets in fd720.columns[1:]:\n",
    "    for num, i in enumerate(fd720[planets]):\n",
    "        df_copy = helio_cum.copy()\n",
    "        target = df_copy[df_copy[planets] == float(i)]\n",
    "\n",
    "        Date = []\n",
    "\n",
    "        for date in target['Date']:\n",
    "            Date.append(date)\n",
    "\n",
    "        if len(Date) > 0:\n",
    "            Date_ok = Date[-1]\n",
    "            fd720[planets].iloc[num] = Date_ok\n",
    "        else:\n",
    "            fd720[planets].iloc[num] = \" \"\n",
    "\n",
    "fd720"
   ]
  },
  {
   "cell_type": "code",
   "execution_count": 82,
   "id": "46c1f383",
   "metadata": {},
   "outputs": [
    {
     "name": "stderr",
     "output_type": "stream",
     "text": [
      "c:\\Users\\ASUS\\AppData\\Local\\Programs\\Python\\Python39\\lib\\site-packages\\pandas\\core\\indexing.py:1732: SettingWithCopyWarning:\n",
      "\n",
      "\n",
      "A value is trying to be set on a copy of a slice from a DataFrame\n",
      "\n",
      "See the caveats in the documentation: https://pandas.pydata.org/pandas-docs/stable/user_guide/indexing.html#returning-a-view-versus-a-copy\n",
      "\n"
     ]
    },
    {
     "data": {
      "text/html": [
       "<div>\n",
       "<style scoped>\n",
       "    .dataframe tbody tr th:only-of-type {\n",
       "        vertical-align: middle;\n",
       "    }\n",
       "\n",
       "    .dataframe tbody tr th {\n",
       "        vertical-align: top;\n",
       "    }\n",
       "\n",
       "    .dataframe thead th {\n",
       "        text-align: right;\n",
       "    }\n",
       "</style>\n",
       "<table border=\"1\" class=\"dataframe\">\n",
       "  <thead>\n",
       "    <tr style=\"text-align: right;\">\n",
       "      <th></th>\n",
       "      <th>Date</th>\n",
       "      <th>Earth</th>\n",
       "      <th>Mer</th>\n",
       "      <th>Ven</th>\n",
       "      <th>Mar</th>\n",
       "      <th>Jup</th>\n",
       "      <th>Sat</th>\n",
       "      <th>Ura</th>\n",
       "    </tr>\n",
       "  </thead>\n",
       "  <tbody>\n",
       "    <tr>\n",
       "      <th>0</th>\n",
       "      <td>31/10/2008</td>\n",
       "      <td>01/11/2011</td>\n",
       "      <td>22/07/2009</td>\n",
       "      <td>05/09/2010</td>\n",
       "      <td>23/06/2014</td>\n",
       "      <td></td>\n",
       "      <td></td>\n",
       "      <td></td>\n",
       "    </tr>\n",
       "    <tr>\n",
       "      <th>1</th>\n",
       "      <td>03/01/2009</td>\n",
       "      <td>03/01/2012</td>\n",
       "      <td>24/09/2009</td>\n",
       "      <td>08/11/2010</td>\n",
       "      <td>26/08/2014</td>\n",
       "      <td></td>\n",
       "      <td></td>\n",
       "      <td></td>\n",
       "    </tr>\n",
       "    <tr>\n",
       "      <th>2</th>\n",
       "      <td>10/04/2013</td>\n",
       "      <td>10/04/2016</td>\n",
       "      <td></td>\n",
       "      <td>13/02/2015</td>\n",
       "      <td>30/11/2018</td>\n",
       "      <td></td>\n",
       "      <td></td>\n",
       "      <td></td>\n",
       "    </tr>\n",
       "    <tr>\n",
       "      <th>3</th>\n",
       "      <td>03/07/2013</td>\n",
       "      <td>03/07/2016</td>\n",
       "      <td></td>\n",
       "      <td>08/05/2015</td>\n",
       "      <td>24/02/2019</td>\n",
       "      <td></td>\n",
       "      <td></td>\n",
       "      <td></td>\n",
       "    </tr>\n",
       "    <tr>\n",
       "      <th>4</th>\n",
       "      <td>05/10/2013</td>\n",
       "      <td>05/10/2016</td>\n",
       "      <td></td>\n",
       "      <td>10/08/2015</td>\n",
       "      <td>27/05/2019</td>\n",
       "      <td></td>\n",
       "      <td></td>\n",
       "      <td></td>\n",
       "    </tr>\n",
       "    <tr>\n",
       "      <th>...</th>\n",
       "      <td>...</td>\n",
       "      <td>...</td>\n",
       "      <td>...</td>\n",
       "      <td>...</td>\n",
       "      <td>...</td>\n",
       "      <td>...</td>\n",
       "      <td>...</td>\n",
       "      <td>...</td>\n",
       "    </tr>\n",
       "    <tr>\n",
       "      <th>57</th>\n",
       "      <td>27/12/2021</td>\n",
       "      <td>27/12/2024</td>\n",
       "      <td>17/09/2022</td>\n",
       "      <td>01/11/2023</td>\n",
       "      <td>18/08/2027</td>\n",
       "      <td></td>\n",
       "      <td></td>\n",
       "      <td></td>\n",
       "    </tr>\n",
       "    <tr>\n",
       "      <th>58</th>\n",
       "      <td>24/01/2022</td>\n",
       "      <td>24/01/2025</td>\n",
       "      <td></td>\n",
       "      <td>29/11/2023</td>\n",
       "      <td>16/09/2027</td>\n",
       "      <td></td>\n",
       "      <td></td>\n",
       "      <td></td>\n",
       "    </tr>\n",
       "    <tr>\n",
       "      <th>59</th>\n",
       "      <td>24/02/2022</td>\n",
       "      <td>24/02/2025</td>\n",
       "      <td>15/11/2022</td>\n",
       "      <td></td>\n",
       "      <td>17/10/2027</td>\n",
       "      <td></td>\n",
       "      <td></td>\n",
       "      <td></td>\n",
       "    </tr>\n",
       "    <tr>\n",
       "      <th>60</th>\n",
       "      <td>29/03/2022</td>\n",
       "      <td>29/03/2025</td>\n",
       "      <td>18/12/2022</td>\n",
       "      <td></td>\n",
       "      <td>19/11/2027</td>\n",
       "      <td></td>\n",
       "      <td></td>\n",
       "      <td></td>\n",
       "    </tr>\n",
       "    <tr>\n",
       "      <th>61</th>\n",
       "      <td>18/06/2022</td>\n",
       "      <td>17/06/2025</td>\n",
       "      <td>09/03/2023</td>\n",
       "      <td>22/04/2024</td>\n",
       "      <td>08/02/2028</td>\n",
       "      <td></td>\n",
       "      <td></td>\n",
       "      <td></td>\n",
       "    </tr>\n",
       "  </tbody>\n",
       "</table>\n",
       "<p>62 rows × 8 columns</p>\n",
       "</div>"
      ],
      "text/plain": [
       "          Date       Earth         Mer         Ven         Mar Jup Sat Ura\n",
       "0   31/10/2008  01/11/2011  22/07/2009  05/09/2010  23/06/2014            \n",
       "1   03/01/2009  03/01/2012  24/09/2009  08/11/2010  26/08/2014            \n",
       "2   10/04/2013  10/04/2016              13/02/2015  30/11/2018            \n",
       "3   03/07/2013  03/07/2016              08/05/2015  24/02/2019            \n",
       "4   05/10/2013  05/10/2016              10/08/2015  27/05/2019            \n",
       "..         ...         ...         ...         ...         ...  ..  ..  ..\n",
       "57  27/12/2021  27/12/2024  17/09/2022  01/11/2023  18/08/2027            \n",
       "58  24/01/2022  24/01/2025              29/11/2023  16/09/2027            \n",
       "59  24/02/2022  24/02/2025  15/11/2022              17/10/2027            \n",
       "60  29/03/2022  29/03/2025  18/12/2022              19/11/2027            \n",
       "61  18/06/2022  17/06/2025  09/03/2023  22/04/2024  08/02/2028            \n",
       "\n",
       "[62 rows x 8 columns]"
      ]
     },
     "execution_count": 82,
     "metadata": {},
     "output_type": "execute_result"
    }
   ],
   "source": [
    "# FD1080\n",
    "\n",
    "output = pd.DataFrame()\n",
    "\n",
    "output[\"Date\"] = fdd[\"Date\"]\n",
    "\n",
    "for col in fdd.columns[1:]:\n",
    "    output[col] = fdd[col].astype(\"float64\") + 1080\n",
    "\n",
    "# Copy price + Initialization of divides (1000,100,10,1,24,etc...)\n",
    "\n",
    "fd1080 = output\n",
    "\n",
    "# for loop to catch which degrees is situated at which date in the future/past\n",
    "\n",
    "for planets in fd1080.columns[1:]:\n",
    "    for num, i in enumerate(fd1080[planets]):\n",
    "        df_copy = helio_cum.copy()\n",
    "        target = df_copy[df_copy[planets] == float(i)]\n",
    "\n",
    "        Date = []\n",
    "\n",
    "        for date in target['Date']:\n",
    "            Date.append(date)\n",
    "\n",
    "        if len(Date) > 0:\n",
    "            Date_ok = Date[-1]\n",
    "            fd1080[planets].iloc[num] = Date_ok\n",
    "        else:\n",
    "            fd1080[planets].iloc[num] = \" \"\n",
    "\n",
    "fd1080"
   ]
  },
  {
   "cell_type": "code",
   "execution_count": 83,
   "id": "addf9fa1",
   "metadata": {},
   "outputs": [
    {
     "name": "stderr",
     "output_type": "stream",
     "text": [
      "c:\\Users\\ASUS\\AppData\\Local\\Programs\\Python\\Python39\\lib\\site-packages\\pandas\\core\\indexing.py:1732: SettingWithCopyWarning:\n",
      "\n",
      "\n",
      "A value is trying to be set on a copy of a slice from a DataFrame\n",
      "\n",
      "See the caveats in the documentation: https://pandas.pydata.org/pandas-docs/stable/user_guide/indexing.html#returning-a-view-versus-a-copy\n",
      "\n"
     ]
    },
    {
     "data": {
      "text/html": [
       "<div>\n",
       "<style scoped>\n",
       "    .dataframe tbody tr th:only-of-type {\n",
       "        vertical-align: middle;\n",
       "    }\n",
       "\n",
       "    .dataframe tbody tr th {\n",
       "        vertical-align: top;\n",
       "    }\n",
       "\n",
       "    .dataframe thead th {\n",
       "        text-align: right;\n",
       "    }\n",
       "</style>\n",
       "<table border=\"1\" class=\"dataframe\">\n",
       "  <thead>\n",
       "    <tr style=\"text-align: right;\">\n",
       "      <th></th>\n",
       "      <th>Date</th>\n",
       "      <th>Earth</th>\n",
       "      <th>Mer</th>\n",
       "      <th>Ven</th>\n",
       "      <th>Mar</th>\n",
       "      <th>Jup</th>\n",
       "      <th>Sat</th>\n",
       "      <th>Ura</th>\n",
       "    </tr>\n",
       "  </thead>\n",
       "  <tbody>\n",
       "    <tr>\n",
       "      <th>0</th>\n",
       "      <td>31/10/2008</td>\n",
       "      <td>31/10/2012</td>\n",
       "      <td>18/10/2009</td>\n",
       "      <td>18/04/2011</td>\n",
       "      <td>10/05/2016</td>\n",
       "      <td></td>\n",
       "      <td></td>\n",
       "      <td></td>\n",
       "    </tr>\n",
       "    <tr>\n",
       "      <th>1</th>\n",
       "      <td>03/01/2009</td>\n",
       "      <td>03/01/2013</td>\n",
       "      <td>21/12/2009</td>\n",
       "      <td>21/06/2011</td>\n",
       "      <td>13/07/2016</td>\n",
       "      <td></td>\n",
       "      <td></td>\n",
       "      <td></td>\n",
       "    </tr>\n",
       "    <tr>\n",
       "      <th>2</th>\n",
       "      <td>10/04/2013</td>\n",
       "      <td>10/04/2017</td>\n",
       "      <td></td>\n",
       "      <td>26/09/2015</td>\n",
       "      <td>17/10/2020</td>\n",
       "      <td></td>\n",
       "      <td></td>\n",
       "      <td></td>\n",
       "    </tr>\n",
       "    <tr>\n",
       "      <th>3</th>\n",
       "      <td>03/07/2013</td>\n",
       "      <td>03/07/2017</td>\n",
       "      <td></td>\n",
       "      <td>19/12/2015</td>\n",
       "      <td>11/01/2021</td>\n",
       "      <td></td>\n",
       "      <td></td>\n",
       "      <td></td>\n",
       "    </tr>\n",
       "    <tr>\n",
       "      <th>4</th>\n",
       "      <td>05/10/2013</td>\n",
       "      <td>05/10/2017</td>\n",
       "      <td></td>\n",
       "      <td>22/03/2016</td>\n",
       "      <td>13/04/2021</td>\n",
       "      <td></td>\n",
       "      <td></td>\n",
       "      <td></td>\n",
       "    </tr>\n",
       "    <tr>\n",
       "      <th>...</th>\n",
       "      <td>...</td>\n",
       "      <td>...</td>\n",
       "      <td>...</td>\n",
       "      <td>...</td>\n",
       "      <td>...</td>\n",
       "      <td>...</td>\n",
       "      <td>...</td>\n",
       "      <td>...</td>\n",
       "    </tr>\n",
       "    <tr>\n",
       "      <th>57</th>\n",
       "      <td>27/12/2021</td>\n",
       "      <td>27/12/2025</td>\n",
       "      <td>14/12/2022</td>\n",
       "      <td>13/06/2024</td>\n",
       "      <td>05/07/2029</td>\n",
       "      <td></td>\n",
       "      <td></td>\n",
       "      <td></td>\n",
       "    </tr>\n",
       "    <tr>\n",
       "      <th>58</th>\n",
       "      <td>24/01/2022</td>\n",
       "      <td>24/01/2026</td>\n",
       "      <td></td>\n",
       "      <td></td>\n",
       "      <td>03/08/2029</td>\n",
       "      <td></td>\n",
       "      <td></td>\n",
       "      <td></td>\n",
       "    </tr>\n",
       "    <tr>\n",
       "      <th>59</th>\n",
       "      <td>24/02/2022</td>\n",
       "      <td>24/02/2026</td>\n",
       "      <td>11/02/2023</td>\n",
       "      <td>11/08/2024</td>\n",
       "      <td>03/09/2029</td>\n",
       "      <td></td>\n",
       "      <td></td>\n",
       "      <td></td>\n",
       "    </tr>\n",
       "    <tr>\n",
       "      <th>60</th>\n",
       "      <td>29/03/2022</td>\n",
       "      <td>29/03/2026</td>\n",
       "      <td>16/03/2023</td>\n",
       "      <td>13/09/2024</td>\n",
       "      <td>06/10/2029</td>\n",
       "      <td></td>\n",
       "      <td></td>\n",
       "      <td></td>\n",
       "    </tr>\n",
       "    <tr>\n",
       "      <th>61</th>\n",
       "      <td>18/06/2022</td>\n",
       "      <td>18/06/2026</td>\n",
       "      <td>05/06/2023</td>\n",
       "      <td>03/12/2024</td>\n",
       "      <td>25/12/2029</td>\n",
       "      <td></td>\n",
       "      <td></td>\n",
       "      <td></td>\n",
       "    </tr>\n",
       "  </tbody>\n",
       "</table>\n",
       "<p>62 rows × 8 columns</p>\n",
       "</div>"
      ],
      "text/plain": [
       "          Date       Earth         Mer         Ven         Mar Jup Sat Ura\n",
       "0   31/10/2008  31/10/2012  18/10/2009  18/04/2011  10/05/2016            \n",
       "1   03/01/2009  03/01/2013  21/12/2009  21/06/2011  13/07/2016            \n",
       "2   10/04/2013  10/04/2017              26/09/2015  17/10/2020            \n",
       "3   03/07/2013  03/07/2017              19/12/2015  11/01/2021            \n",
       "4   05/10/2013  05/10/2017              22/03/2016  13/04/2021            \n",
       "..         ...         ...         ...         ...         ...  ..  ..  ..\n",
       "57  27/12/2021  27/12/2025  14/12/2022  13/06/2024  05/07/2029            \n",
       "58  24/01/2022  24/01/2026                          03/08/2029            \n",
       "59  24/02/2022  24/02/2026  11/02/2023  11/08/2024  03/09/2029            \n",
       "60  29/03/2022  29/03/2026  16/03/2023  13/09/2024  06/10/2029            \n",
       "61  18/06/2022  18/06/2026  05/06/2023  03/12/2024  25/12/2029            \n",
       "\n",
       "[62 rows x 8 columns]"
      ]
     },
     "execution_count": 83,
     "metadata": {},
     "output_type": "execute_result"
    }
   ],
   "source": [
    "# FD1440\n",
    "\n",
    "output = pd.DataFrame()\n",
    "\n",
    "output[\"Date\"] = fdd[\"Date\"]\n",
    "\n",
    "for col in fdd.columns[1:]:\n",
    "    output[col] = fdd[col].astype(\"float64\") + 1440\n",
    "\n",
    "# Copy price + Initialization of divides (1000,100,10,1,24,etc...)\n",
    "\n",
    "fd1440 = output\n",
    "\n",
    "# for loop to catch which degrees is situated at which date in the future/past\n",
    "\n",
    "for planets in fd1440.columns[1:]:\n",
    "    for num, i in enumerate(fd1440[planets]):\n",
    "        df_copy = helio_cum.copy()\n",
    "        target = df_copy[df_copy[planets] == float(i)]\n",
    "\n",
    "        Date = []\n",
    "\n",
    "        for date in target['Date']:\n",
    "            Date.append(date)\n",
    "\n",
    "        if len(Date) > 0:\n",
    "            Date_ok = Date[-1]\n",
    "            fd1440[planets].iloc[num] = Date_ok\n",
    "        else:\n",
    "            fd1440[planets].iloc[num] = \" \"\n",
    "\n",
    "fd1440"
   ]
  },
  {
   "cell_type": "code",
   "execution_count": 84,
   "id": "d97a8ce5",
   "metadata": {},
   "outputs": [
    {
     "name": "stderr",
     "output_type": "stream",
     "text": [
      "c:\\Users\\ASUS\\AppData\\Local\\Programs\\Python\\Python39\\lib\\site-packages\\pandas\\core\\indexing.py:1732: SettingWithCopyWarning:\n",
      "\n",
      "\n",
      "A value is trying to be set on a copy of a slice from a DataFrame\n",
      "\n",
      "See the caveats in the documentation: https://pandas.pydata.org/pandas-docs/stable/user_guide/indexing.html#returning-a-view-versus-a-copy\n",
      "\n"
     ]
    },
    {
     "data": {
      "text/html": [
       "<div>\n",
       "<style scoped>\n",
       "    .dataframe tbody tr th:only-of-type {\n",
       "        vertical-align: middle;\n",
       "    }\n",
       "\n",
       "    .dataframe tbody tr th {\n",
       "        vertical-align: top;\n",
       "    }\n",
       "\n",
       "    .dataframe thead th {\n",
       "        text-align: right;\n",
       "    }\n",
       "</style>\n",
       "<table border=\"1\" class=\"dataframe\">\n",
       "  <thead>\n",
       "    <tr style=\"text-align: right;\">\n",
       "      <th></th>\n",
       "      <th>Date</th>\n",
       "      <th>Earth</th>\n",
       "      <th>Mer</th>\n",
       "      <th>Ven</th>\n",
       "      <th>Mar</th>\n",
       "      <th>Jup</th>\n",
       "      <th>Sat</th>\n",
       "      <th>Ura</th>\n",
       "    </tr>\n",
       "  </thead>\n",
       "  <tbody>\n",
       "    <tr>\n",
       "      <th>0</th>\n",
       "      <td>31/10/2008</td>\n",
       "      <td>01/11/2013</td>\n",
       "      <td></td>\n",
       "      <td></td>\n",
       "      <td>28/03/2018</td>\n",
       "      <td></td>\n",
       "      <td></td>\n",
       "      <td></td>\n",
       "    </tr>\n",
       "    <tr>\n",
       "      <th>1</th>\n",
       "      <td>03/01/2009</td>\n",
       "      <td>03/01/2014</td>\n",
       "      <td>19/03/2010</td>\n",
       "      <td></td>\n",
       "      <td>31/05/2018</td>\n",
       "      <td></td>\n",
       "      <td></td>\n",
       "      <td></td>\n",
       "    </tr>\n",
       "    <tr>\n",
       "      <th>2</th>\n",
       "      <td>10/04/2013</td>\n",
       "      <td>10/04/2018</td>\n",
       "      <td></td>\n",
       "      <td></td>\n",
       "      <td>04/09/2022</td>\n",
       "      <td></td>\n",
       "      <td></td>\n",
       "      <td></td>\n",
       "    </tr>\n",
       "    <tr>\n",
       "      <th>3</th>\n",
       "      <td>03/07/2013</td>\n",
       "      <td>03/07/2018</td>\n",
       "      <td></td>\n",
       "      <td></td>\n",
       "      <td>29/11/2022</td>\n",
       "      <td></td>\n",
       "      <td></td>\n",
       "      <td></td>\n",
       "    </tr>\n",
       "    <tr>\n",
       "      <th>4</th>\n",
       "      <td>05/10/2013</td>\n",
       "      <td>06/10/2018</td>\n",
       "      <td></td>\n",
       "      <td></td>\n",
       "      <td>01/03/2023</td>\n",
       "      <td></td>\n",
       "      <td></td>\n",
       "      <td></td>\n",
       "    </tr>\n",
       "    <tr>\n",
       "      <th>...</th>\n",
       "      <td>...</td>\n",
       "      <td>...</td>\n",
       "      <td>...</td>\n",
       "      <td>...</td>\n",
       "      <td>...</td>\n",
       "      <td>...</td>\n",
       "      <td>...</td>\n",
       "      <td>...</td>\n",
       "    </tr>\n",
       "    <tr>\n",
       "      <th>57</th>\n",
       "      <td>27/12/2021</td>\n",
       "      <td>27/12/2026</td>\n",
       "      <td></td>\n",
       "      <td></td>\n",
       "      <td></td>\n",
       "      <td></td>\n",
       "      <td></td>\n",
       "      <td></td>\n",
       "    </tr>\n",
       "    <tr>\n",
       "      <th>58</th>\n",
       "      <td>24/01/2022</td>\n",
       "      <td>25/01/2027</td>\n",
       "      <td></td>\n",
       "      <td></td>\n",
       "      <td></td>\n",
       "      <td></td>\n",
       "      <td></td>\n",
       "      <td></td>\n",
       "    </tr>\n",
       "    <tr>\n",
       "      <th>59</th>\n",
       "      <td>24/02/2022</td>\n",
       "      <td>24/02/2027</td>\n",
       "      <td>10/05/2023</td>\n",
       "      <td>24/03/2025</td>\n",
       "      <td></td>\n",
       "      <td></td>\n",
       "      <td></td>\n",
       "      <td></td>\n",
       "    </tr>\n",
       "    <tr>\n",
       "      <th>60</th>\n",
       "      <td>29/03/2022</td>\n",
       "      <td>29/03/2027</td>\n",
       "      <td></td>\n",
       "      <td>26/04/2025</td>\n",
       "      <td></td>\n",
       "      <td></td>\n",
       "      <td></td>\n",
       "      <td></td>\n",
       "    </tr>\n",
       "    <tr>\n",
       "      <th>61</th>\n",
       "      <td>18/06/2022</td>\n",
       "      <td>18/06/2027</td>\n",
       "      <td>01/09/2023</td>\n",
       "      <td></td>\n",
       "      <td></td>\n",
       "      <td></td>\n",
       "      <td></td>\n",
       "      <td></td>\n",
       "    </tr>\n",
       "  </tbody>\n",
       "</table>\n",
       "<p>62 rows × 8 columns</p>\n",
       "</div>"
      ],
      "text/plain": [
       "          Date       Earth         Mer         Ven         Mar Jup Sat Ura\n",
       "0   31/10/2008  01/11/2013                          28/03/2018            \n",
       "1   03/01/2009  03/01/2014  19/03/2010              31/05/2018            \n",
       "2   10/04/2013  10/04/2018                          04/09/2022            \n",
       "3   03/07/2013  03/07/2018                          29/11/2022            \n",
       "4   05/10/2013  06/10/2018                          01/03/2023            \n",
       "..         ...         ...         ...         ...         ...  ..  ..  ..\n",
       "57  27/12/2021  27/12/2026                                                \n",
       "58  24/01/2022  25/01/2027                                                \n",
       "59  24/02/2022  24/02/2027  10/05/2023  24/03/2025                        \n",
       "60  29/03/2022  29/03/2027              26/04/2025                        \n",
       "61  18/06/2022  18/06/2027  01/09/2023                                    \n",
       "\n",
       "[62 rows x 8 columns]"
      ]
     },
     "execution_count": 84,
     "metadata": {},
     "output_type": "execute_result"
    }
   ],
   "source": [
    "# FD1800\n",
    "\n",
    "output = pd.DataFrame()\n",
    "\n",
    "output[\"Date\"] = fdd[\"Date\"]\n",
    "\n",
    "for col in fdd.columns[1:]:\n",
    "    output[col] = fdd[col].astype(\"float64\") + 1800\n",
    "\n",
    "# Copy price + Initialization of divides (1000,100,10,1,24,etc...)\n",
    "\n",
    "fd1800 = output\n",
    "\n",
    "# for loop to catch which degrees is situated at which date in the future/past\n",
    "\n",
    "for planets in fd1800.columns[1:]:\n",
    "    for num, i in enumerate(fd1800[planets]):\n",
    "        df_copy = helio_cum.copy()\n",
    "        target = df_copy[df_copy[planets] == float(i)]\n",
    "\n",
    "        Date = []\n",
    "\n",
    "        for date in target['Date']:\n",
    "            Date.append(date)\n",
    "\n",
    "        if len(Date) > 0:\n",
    "            Date_ok = Date[-1]\n",
    "            fd1800[planets].iloc[num] = Date_ok\n",
    "        else:\n",
    "            fd1800[planets].iloc[num] = \" \"\n",
    "\n",
    "fd1800"
   ]
  },
  {
   "cell_type": "code",
   "execution_count": 85,
   "id": "6d247d31",
   "metadata": {},
   "outputs": [
    {
     "data": {
      "text/html": [
       "<style type=\"text/css\">\n",
       "#T_78722_row0_col1, #T_78722_row2_col1, #T_78722_row3_col1, #T_78722_row5_col1, #T_78722_row7_col1, #T_78722_row8_col1, #T_78722_row9_col1, #T_78722_row11_col1, #T_78722_row12_col1, #T_78722_row13_col1, #T_78722_row14_col1, #T_78722_row15_col1, #T_78722_row17_col1, #T_78722_row18_col1, #T_78722_row19_col1, #T_78722_row20_col1, #T_78722_row21_col1, #T_78722_row24_col1, #T_78722_row28_col1, #T_78722_row31_col1 {\n",
       "  background-color: #f7fbff;\n",
       "  color: #000000;\n",
       "}\n",
       "#T_78722_row1_col1, #T_78722_row22_col1, #T_78722_row23_col1, #T_78722_row25_col1, #T_78722_row27_col1, #T_78722_row30_col1 {\n",
       "  background-color: #c6dbef;\n",
       "  color: #000000;\n",
       "}\n",
       "#T_78722_row4_col1, #T_78722_row16_col1, #T_78722_row26_col1 {\n",
       "  background-color: #6aaed6;\n",
       "  color: #f1f1f1;\n",
       "}\n",
       "#T_78722_row6_col1, #T_78722_row10_col1 {\n",
       "  background-color: #2070b4;\n",
       "  color: #f1f1f1;\n",
       "}\n",
       "#T_78722_row29_col1 {\n",
       "  background-color: #08306b;\n",
       "  color: #f1f1f1;\n",
       "}\n",
       "</style>\n",
       "<table id=\"T_78722_\">\n",
       "  <thead>\n",
       "    <tr>\n",
       "      <th class=\"blank level0\" >&nbsp;</th>\n",
       "      <th class=\"col_heading level0 col0\" >Date</th>\n",
       "      <th class=\"col_heading level0 col1\" >Hit</th>\n",
       "    </tr>\n",
       "  </thead>\n",
       "  <tbody>\n",
       "    <tr>\n",
       "      <th id=\"T_78722_level0_row0\" class=\"row_heading level0 row0\" >704</th>\n",
       "      <td id=\"T_78722_row0_col0\" class=\"data row0 col0\" >2023-01-29 00:00:00</td>\n",
       "      <td id=\"T_78722_row0_col1\" class=\"data row0 col1\" >1</td>\n",
       "    </tr>\n",
       "    <tr>\n",
       "      <th id=\"T_78722_level0_row1\" class=\"row_heading level0 row1\" >1783</th>\n",
       "      <td id=\"T_78722_row1_col0\" class=\"data row1 col0\" >2023-02-02 00:00:00</td>\n",
       "      <td id=\"T_78722_row1_col1\" class=\"data row1 col1\" >2</td>\n",
       "    </tr>\n",
       "    <tr>\n",
       "      <th id=\"T_78722_level0_row2\" class=\"row_heading level0 row2\" >1206</th>\n",
       "      <td id=\"T_78722_row2_col0\" class=\"data row2 col0\" >2023-02-06 00:00:00</td>\n",
       "      <td id=\"T_78722_row2_col1\" class=\"data row2 col1\" >1</td>\n",
       "    </tr>\n",
       "    <tr>\n",
       "      <th id=\"T_78722_level0_row3\" class=\"row_heading level0 row3\" >1203</th>\n",
       "      <td id=\"T_78722_row3_col0\" class=\"data row3 col0\" >2023-02-12 00:00:00</td>\n",
       "      <td id=\"T_78722_row3_col1\" class=\"data row3 col1\" >1</td>\n",
       "    </tr>\n",
       "    <tr>\n",
       "      <th id=\"T_78722_level0_row4\" class=\"row_heading level0 row4\" >1906</th>\n",
       "      <td id=\"T_78722_row4_col0\" class=\"data row4 col0\" >2023-02-16 00:00:00</td>\n",
       "      <td id=\"T_78722_row4_col1\" class=\"data row4 col1\" >3</td>\n",
       "    </tr>\n",
       "    <tr>\n",
       "      <th id=\"T_78722_level0_row5\" class=\"row_heading level0 row5\" >465</th>\n",
       "      <td id=\"T_78722_row5_col0\" class=\"data row5 col0\" >2023-02-17 00:00:00</td>\n",
       "      <td id=\"T_78722_row5_col1\" class=\"data row5 col1\" >1</td>\n",
       "    </tr>\n",
       "    <tr>\n",
       "      <th id=\"T_78722_level0_row6\" class=\"row_heading level0 row6\" >2113</th>\n",
       "      <td id=\"T_78722_row6_col0\" class=\"data row6 col0\" >2023-02-18 00:00:00</td>\n",
       "      <td id=\"T_78722_row6_col1\" class=\"data row6 col1\" >4</td>\n",
       "    </tr>\n",
       "    <tr>\n",
       "      <th id=\"T_78722_level0_row7\" class=\"row_heading level0 row7\" >389</th>\n",
       "      <td id=\"T_78722_row7_col0\" class=\"data row7 col0\" >2023-02-21 00:00:00</td>\n",
       "      <td id=\"T_78722_row7_col1\" class=\"data row7 col1\" >1</td>\n",
       "    </tr>\n",
       "    <tr>\n",
       "      <th id=\"T_78722_level0_row8\" class=\"row_heading level0 row8\" >1106</th>\n",
       "      <td id=\"T_78722_row8_col0\" class=\"data row8 col0\" >2023-02-24 00:00:00</td>\n",
       "      <td id=\"T_78722_row8_col1\" class=\"data row8 col1\" >1</td>\n",
       "    </tr>\n",
       "    <tr>\n",
       "      <th id=\"T_78722_level0_row9\" class=\"row_heading level0 row9\" >1272</th>\n",
       "      <td id=\"T_78722_row9_col0\" class=\"data row9 col0\" >2023-02-25 00:00:00</td>\n",
       "      <td id=\"T_78722_row9_col1\" class=\"data row9 col1\" >1</td>\n",
       "    </tr>\n",
       "    <tr>\n",
       "      <th id=\"T_78722_level0_row10\" class=\"row_heading level0 row10\" >2131</th>\n",
       "      <td id=\"T_78722_row10_col0\" class=\"data row10 col0\" >2023-02-27 00:00:00</td>\n",
       "      <td id=\"T_78722_row10_col1\" class=\"data row10 col1\" >4</td>\n",
       "    </tr>\n",
       "    <tr>\n",
       "      <th id=\"T_78722_level0_row11\" class=\"row_heading level0 row11\" >14</th>\n",
       "      <td id=\"T_78722_row11_col0\" class=\"data row11 col0\" >2023-03-02 00:00:00</td>\n",
       "      <td id=\"T_78722_row11_col1\" class=\"data row11 col1\" >1</td>\n",
       "    </tr>\n",
       "    <tr>\n",
       "      <th id=\"T_78722_level0_row12\" class=\"row_heading level0 row12\" >322</th>\n",
       "      <td id=\"T_78722_row12_col0\" class=\"data row12 col0\" >2023-03-03 00:00:00</td>\n",
       "      <td id=\"T_78722_row12_col1\" class=\"data row12 col1\" >1</td>\n",
       "    </tr>\n",
       "    <tr>\n",
       "      <th id=\"T_78722_level0_row13\" class=\"row_heading level0 row13\" >304</th>\n",
       "      <td id=\"T_78722_row13_col0\" class=\"data row13 col0\" >2023-03-14 00:00:00</td>\n",
       "      <td id=\"T_78722_row13_col1\" class=\"data row13 col1\" >1</td>\n",
       "    </tr>\n",
       "    <tr>\n",
       "      <th id=\"T_78722_level0_row14\" class=\"row_heading level0 row14\" >464</th>\n",
       "      <td id=\"T_78722_row14_col0\" class=\"data row14 col0\" >2023-03-15 00:00:00</td>\n",
       "      <td id=\"T_78722_row14_col1\" class=\"data row14 col1\" >1</td>\n",
       "    </tr>\n",
       "    <tr>\n",
       "      <th id=\"T_78722_level0_row15\" class=\"row_heading level0 row15\" >162</th>\n",
       "      <td id=\"T_78722_row15_col0\" class=\"data row15 col0\" >2023-03-16 00:00:00</td>\n",
       "      <td id=\"T_78722_row15_col1\" class=\"data row15 col1\" >1</td>\n",
       "    </tr>\n",
       "    <tr>\n",
       "      <th id=\"T_78722_level0_row16\" class=\"row_heading level0 row16\" >1913</th>\n",
       "      <td id=\"T_78722_row16_col0\" class=\"data row16 col0\" >2023-03-21 00:00:00</td>\n",
       "      <td id=\"T_78722_row16_col1\" class=\"data row16 col1\" >3</td>\n",
       "    </tr>\n",
       "    <tr>\n",
       "      <th id=\"T_78722_level0_row17\" class=\"row_heading level0 row17\" >944</th>\n",
       "      <td id=\"T_78722_row17_col0\" class=\"data row17 col0\" >2023-03-22 00:00:00</td>\n",
       "      <td id=\"T_78722_row17_col1\" class=\"data row17 col1\" >1</td>\n",
       "    </tr>\n",
       "    <tr>\n",
       "      <th id=\"T_78722_level0_row18\" class=\"row_heading level0 row18\" >463</th>\n",
       "      <td id=\"T_78722_row18_col0\" class=\"data row18 col0\" >2023-03-24 00:00:00</td>\n",
       "      <td id=\"T_78722_row18_col1\" class=\"data row18 col1\" >1</td>\n",
       "    </tr>\n",
       "    <tr>\n",
       "      <th id=\"T_78722_level0_row19\" class=\"row_heading level0 row19\" >254</th>\n",
       "      <td id=\"T_78722_row19_col0\" class=\"data row19 col0\" >2023-03-25 00:00:00</td>\n",
       "      <td id=\"T_78722_row19_col1\" class=\"data row19 col1\" >1</td>\n",
       "    </tr>\n",
       "    <tr>\n",
       "      <th id=\"T_78722_level0_row20\" class=\"row_heading level0 row20\" >303</th>\n",
       "      <td id=\"T_78722_row20_col0\" class=\"data row20 col0\" >2023-03-28 00:00:00</td>\n",
       "      <td id=\"T_78722_row20_col1\" class=\"data row20 col1\" >1</td>\n",
       "    </tr>\n",
       "    <tr>\n",
       "      <th id=\"T_78722_level0_row21\" class=\"row_heading level0 row21\" >1105</th>\n",
       "      <td id=\"T_78722_row21_col0\" class=\"data row21 col0\" >2023-03-29 00:00:00</td>\n",
       "      <td id=\"T_78722_row21_col1\" class=\"data row21 col1\" >1</td>\n",
       "    </tr>\n",
       "    <tr>\n",
       "      <th id=\"T_78722_level0_row22\" class=\"row_heading level0 row22\" >1469</th>\n",
       "      <td id=\"T_78722_row22_col0\" class=\"data row22 col0\" >2023-04-01 00:00:00</td>\n",
       "      <td id=\"T_78722_row22_col1\" class=\"data row22 col1\" >2</td>\n",
       "    </tr>\n",
       "    <tr>\n",
       "      <th id=\"T_78722_level0_row23\" class=\"row_heading level0 row23\" >1520</th>\n",
       "      <td id=\"T_78722_row23_col0\" class=\"data row23 col0\" >2023-04-05 00:00:00</td>\n",
       "      <td id=\"T_78722_row23_col1\" class=\"data row23 col1\" >2</td>\n",
       "    </tr>\n",
       "    <tr>\n",
       "      <th id=\"T_78722_level0_row24\" class=\"row_heading level0 row24\" >1186</th>\n",
       "      <td id=\"T_78722_row24_col0\" class=\"data row24 col0\" >2023-04-06 00:00:00</td>\n",
       "      <td id=\"T_78722_row24_col1\" class=\"data row24 col1\" >1</td>\n",
       "    </tr>\n",
       "    <tr>\n",
       "      <th id=\"T_78722_level0_row25\" class=\"row_heading level0 row25\" >1435</th>\n",
       "      <td id=\"T_78722_row25_col0\" class=\"data row25 col0\" >2023-04-09 00:00:00</td>\n",
       "      <td id=\"T_78722_row25_col1\" class=\"data row25 col1\" >2</td>\n",
       "    </tr>\n",
       "    <tr>\n",
       "      <th id=\"T_78722_level0_row26\" class=\"row_heading level0 row26\" >1976</th>\n",
       "      <td id=\"T_78722_row26_col0\" class=\"data row26 col0\" >2023-04-10 00:00:00</td>\n",
       "      <td id=\"T_78722_row26_col1\" class=\"data row26 col1\" >3</td>\n",
       "    </tr>\n",
       "    <tr>\n",
       "      <th id=\"T_78722_level0_row27\" class=\"row_heading level0 row27\" >1584</th>\n",
       "      <td id=\"T_78722_row27_col0\" class=\"data row27 col0\" >2023-04-15 00:00:00</td>\n",
       "      <td id=\"T_78722_row27_col1\" class=\"data row27 col1\" >2</td>\n",
       "    </tr>\n",
       "    <tr>\n",
       "      <th id=\"T_78722_level0_row28\" class=\"row_heading level0 row28\" >565</th>\n",
       "      <td id=\"T_78722_row28_col0\" class=\"data row28 col0\" >2023-04-18 00:00:00</td>\n",
       "      <td id=\"T_78722_row28_col1\" class=\"data row28 col1\" >1</td>\n",
       "    </tr>\n",
       "    <tr>\n",
       "      <th id=\"T_78722_level0_row29\" class=\"row_heading level0 row29\" >2214</th>\n",
       "      <td id=\"T_78722_row29_col0\" class=\"data row29 col0\" >2023-04-23 00:00:00</td>\n",
       "      <td id=\"T_78722_row29_col1\" class=\"data row29 col1\" >5</td>\n",
       "    </tr>\n",
       "    <tr>\n",
       "      <th id=\"T_78722_level0_row30\" class=\"row_heading level0 row30\" >1585</th>\n",
       "      <td id=\"T_78722_row30_col0\" class=\"data row30 col0\" >2023-04-26 00:00:00</td>\n",
       "      <td id=\"T_78722_row30_col1\" class=\"data row30 col1\" >2</td>\n",
       "    </tr>\n",
       "    <tr>\n",
       "      <th id=\"T_78722_level0_row31\" class=\"row_heading level0 row31\" >462</th>\n",
       "      <td id=\"T_78722_row31_col0\" class=\"data row31 col0\" >2023-04-27 00:00:00</td>\n",
       "      <td id=\"T_78722_row31_col1\" class=\"data row31 col1\" >1</td>\n",
       "    </tr>\n",
       "  </tbody>\n",
       "</table>\n"
      ],
      "text/plain": [
       "<pandas.io.formats.style.Styler at 0x21176572ca0>"
      ]
     },
     "execution_count": 85,
     "metadata": {},
     "output_type": "execute_result"
    }
   ],
   "source": [
    "future_dates = pd.concat([fd15, fd30, fd45, fd60, fd72, fd90, fd120, fd144, fd180, fd360, fd720, fd1080, fd1440, fd1800])\n",
    "\n",
    "adpod = future_dates.copy()\n",
    "\n",
    "gfd = adpod[1:].unstack().value_counts(ascending=True)\n",
    "\n",
    "gfd = pd.DataFrame(gfd, columns=['Hit'])\n",
    "\n",
    "gfd = gfd.reset_index()\n",
    "gfd = gfd.rename_axis('E', axis=1)\n",
    "gfd.columns = gfd.columns.str.replace('index', 'Date')\n",
    "gfd = gfd.rename_axis(None, axis=1)\n",
    "\n",
    "gfd.drop(gfd.tail(1).index,inplace=True)\n",
    "\n",
    "\n",
    "gfd['Date'] = pd.to_datetime(gfd['Date'])\n",
    "\n",
    "start_date = t  - timedelta(days = 2)\n",
    "end_date = t + timedelta(days = 90)\n",
    "\n",
    "mask = (gfd['Date'] > start_date) & (gfd['Date'] <= end_date)\n",
    "gfd = gfd.loc[mask]\n",
    "\n",
    "gfd['Date'] = pd.to_datetime(gfd['Date'])\n",
    "\n",
    "# addp_hits.head(50)\n",
    "\n",
    "gfdE = gfd.sort_values(by=['Date'], ascending=True)\n",
    "gfdE.style.background_gradient(cmap='Blues')"
   ]
  },
  {
   "cell_type": "code",
   "execution_count": 86,
   "id": "6f24ddfc",
   "metadata": {},
   "outputs": [
    {
     "data": {
      "text/html": [
       "<div>\n",
       "<style scoped>\n",
       "    .dataframe tbody tr th:only-of-type {\n",
       "        vertical-align: middle;\n",
       "    }\n",
       "\n",
       "    .dataframe tbody tr th {\n",
       "        vertical-align: top;\n",
       "    }\n",
       "\n",
       "    .dataframe thead th {\n",
       "        text-align: right;\n",
       "    }\n",
       "</style>\n",
       "<table border=\"1\" class=\"dataframe\">\n",
       "  <thead>\n",
       "    <tr style=\"text-align: right;\">\n",
       "      <th></th>\n",
       "      <th>Date</th>\n",
       "      <th>Hit</th>\n",
       "    </tr>\n",
       "  </thead>\n",
       "  <tbody>\n",
       "    <tr>\n",
       "      <th>704</th>\n",
       "      <td>2023-01-29 00:00:00</td>\n",
       "      <td>1</td>\n",
       "    </tr>\n",
       "    <tr>\n",
       "      <th>1783</th>\n",
       "      <td>2023-02-02 00:00:00</td>\n",
       "      <td>2</td>\n",
       "    </tr>\n",
       "    <tr>\n",
       "      <th>1206</th>\n",
       "      <td>2023-02-06 00:00:00</td>\n",
       "      <td>1</td>\n",
       "    </tr>\n",
       "    <tr>\n",
       "      <th>1203</th>\n",
       "      <td>2023-02-12 00:00:00</td>\n",
       "      <td>1</td>\n",
       "    </tr>\n",
       "    <tr>\n",
       "      <th>1906</th>\n",
       "      <td>2023-02-16 00:00:00</td>\n",
       "      <td>3</td>\n",
       "    </tr>\n",
       "    <tr>\n",
       "      <th>...</th>\n",
       "      <td>...</td>\n",
       "      <td>...</td>\n",
       "    </tr>\n",
       "    <tr>\n",
       "      <th>131</th>\n",
       "      <td>26/12/2022</td>\n",
       "      <td>0</td>\n",
       "    </tr>\n",
       "    <tr>\n",
       "      <th>132</th>\n",
       "      <td>27/12/2022</td>\n",
       "      <td>0</td>\n",
       "    </tr>\n",
       "    <tr>\n",
       "      <th>133</th>\n",
       "      <td>28/12/2022</td>\n",
       "      <td>0</td>\n",
       "    </tr>\n",
       "    <tr>\n",
       "      <th>134</th>\n",
       "      <td>29/12/2022</td>\n",
       "      <td>0</td>\n",
       "    </tr>\n",
       "    <tr>\n",
       "      <th>135</th>\n",
       "      <td>30/12/2022</td>\n",
       "      <td>0</td>\n",
       "    </tr>\n",
       "  </tbody>\n",
       "</table>\n",
       "<p>168 rows × 2 columns</p>\n",
       "</div>"
      ],
      "text/plain": [
       "                     Date  Hit\n",
       "704   2023-01-29 00:00:00    1\n",
       "1783  2023-02-02 00:00:00    2\n",
       "1206  2023-02-06 00:00:00    1\n",
       "1203  2023-02-12 00:00:00    1\n",
       "1906  2023-02-16 00:00:00    3\n",
       "...                   ...  ...\n",
       "131            26/12/2022    0\n",
       "132            27/12/2022    0\n",
       "133            28/12/2022    0\n",
       "134            29/12/2022    0\n",
       "135            30/12/2022    0\n",
       "\n",
       "[168 rows x 2 columns]"
      ]
     },
     "execution_count": 86,
     "metadata": {},
     "output_type": "execute_result"
    }
   ],
   "source": [
    "lathit = lathit.copy()\n",
    "\n",
    "ex = pd.concat([gfdE, lathit])\n",
    "ex"
   ]
  },
  {
   "cell_type": "code",
   "execution_count": 87,
   "id": "e508beca",
   "metadata": {},
   "outputs": [
    {
     "data": {
      "text/html": [
       "<div>\n",
       "<style scoped>\n",
       "    .dataframe tbody tr th:only-of-type {\n",
       "        vertical-align: middle;\n",
       "    }\n",
       "\n",
       "    .dataframe tbody tr th {\n",
       "        vertical-align: top;\n",
       "    }\n",
       "\n",
       "    .dataframe thead th {\n",
       "        text-align: right;\n",
       "    }\n",
       "</style>\n",
       "<table border=\"1\" class=\"dataframe\">\n",
       "  <thead>\n",
       "    <tr style=\"text-align: right;\">\n",
       "      <th></th>\n",
       "      <th>Date</th>\n",
       "      <th>Hit</th>\n",
       "    </tr>\n",
       "  </thead>\n",
       "  <tbody>\n",
       "    <tr>\n",
       "      <th>704</th>\n",
       "      <td>2023-01-29 00:00:00</td>\n",
       "      <td>1</td>\n",
       "    </tr>\n",
       "    <tr>\n",
       "      <th>1783</th>\n",
       "      <td>2023-02-02 00:00:00</td>\n",
       "      <td>2</td>\n",
       "    </tr>\n",
       "    <tr>\n",
       "      <th>1206</th>\n",
       "      <td>2023-02-06 00:00:00</td>\n",
       "      <td>1</td>\n",
       "    </tr>\n",
       "    <tr>\n",
       "      <th>1203</th>\n",
       "      <td>2023-02-12 00:00:00</td>\n",
       "      <td>1</td>\n",
       "    </tr>\n",
       "    <tr>\n",
       "      <th>1906</th>\n",
       "      <td>2023-02-16 00:00:00</td>\n",
       "      <td>3</td>\n",
       "    </tr>\n",
       "    <tr>\n",
       "      <th>465</th>\n",
       "      <td>2023-02-17 00:00:00</td>\n",
       "      <td>1</td>\n",
       "    </tr>\n",
       "    <tr>\n",
       "      <th>2113</th>\n",
       "      <td>2023-02-18 00:00:00</td>\n",
       "      <td>4</td>\n",
       "    </tr>\n",
       "    <tr>\n",
       "      <th>389</th>\n",
       "      <td>2023-02-21 00:00:00</td>\n",
       "      <td>1</td>\n",
       "    </tr>\n",
       "    <tr>\n",
       "      <th>1106</th>\n",
       "      <td>2023-02-24 00:00:00</td>\n",
       "      <td>1</td>\n",
       "    </tr>\n",
       "    <tr>\n",
       "      <th>1272</th>\n",
       "      <td>2023-02-25 00:00:00</td>\n",
       "      <td>1</td>\n",
       "    </tr>\n",
       "    <tr>\n",
       "      <th>2131</th>\n",
       "      <td>2023-02-27 00:00:00</td>\n",
       "      <td>4</td>\n",
       "    </tr>\n",
       "    <tr>\n",
       "      <th>14</th>\n",
       "      <td>2023-03-02 00:00:00</td>\n",
       "      <td>1</td>\n",
       "    </tr>\n",
       "    <tr>\n",
       "      <th>322</th>\n",
       "      <td>2023-03-03 00:00:00</td>\n",
       "      <td>1</td>\n",
       "    </tr>\n",
       "    <tr>\n",
       "      <th>304</th>\n",
       "      <td>2023-03-14 00:00:00</td>\n",
       "      <td>1</td>\n",
       "    </tr>\n",
       "    <tr>\n",
       "      <th>464</th>\n",
       "      <td>2023-03-15 00:00:00</td>\n",
       "      <td>1</td>\n",
       "    </tr>\n",
       "    <tr>\n",
       "      <th>162</th>\n",
       "      <td>2023-03-16 00:00:00</td>\n",
       "      <td>1</td>\n",
       "    </tr>\n",
       "    <tr>\n",
       "      <th>1913</th>\n",
       "      <td>2023-03-21 00:00:00</td>\n",
       "      <td>3</td>\n",
       "    </tr>\n",
       "    <tr>\n",
       "      <th>944</th>\n",
       "      <td>2023-03-22 00:00:00</td>\n",
       "      <td>1</td>\n",
       "    </tr>\n",
       "    <tr>\n",
       "      <th>463</th>\n",
       "      <td>2023-03-24 00:00:00</td>\n",
       "      <td>1</td>\n",
       "    </tr>\n",
       "    <tr>\n",
       "      <th>254</th>\n",
       "      <td>2023-03-25 00:00:00</td>\n",
       "      <td>1</td>\n",
       "    </tr>\n",
       "    <tr>\n",
       "      <th>303</th>\n",
       "      <td>2023-03-28 00:00:00</td>\n",
       "      <td>1</td>\n",
       "    </tr>\n",
       "    <tr>\n",
       "      <th>1105</th>\n",
       "      <td>2023-03-29 00:00:00</td>\n",
       "      <td>1</td>\n",
       "    </tr>\n",
       "    <tr>\n",
       "      <th>1469</th>\n",
       "      <td>2023-04-01 00:00:00</td>\n",
       "      <td>2</td>\n",
       "    </tr>\n",
       "    <tr>\n",
       "      <th>1520</th>\n",
       "      <td>2023-04-05 00:00:00</td>\n",
       "      <td>2</td>\n",
       "    </tr>\n",
       "    <tr>\n",
       "      <th>1186</th>\n",
       "      <td>2023-04-06 00:00:00</td>\n",
       "      <td>1</td>\n",
       "    </tr>\n",
       "    <tr>\n",
       "      <th>1435</th>\n",
       "      <td>2023-04-09 00:00:00</td>\n",
       "      <td>2</td>\n",
       "    </tr>\n",
       "    <tr>\n",
       "      <th>1976</th>\n",
       "      <td>2023-04-10 00:00:00</td>\n",
       "      <td>3</td>\n",
       "    </tr>\n",
       "    <tr>\n",
       "      <th>1584</th>\n",
       "      <td>2023-04-15 00:00:00</td>\n",
       "      <td>2</td>\n",
       "    </tr>\n",
       "    <tr>\n",
       "      <th>565</th>\n",
       "      <td>2023-04-18 00:00:00</td>\n",
       "      <td>1</td>\n",
       "    </tr>\n",
       "    <tr>\n",
       "      <th>2214</th>\n",
       "      <td>2023-04-23 00:00:00</td>\n",
       "      <td>5</td>\n",
       "    </tr>\n",
       "  </tbody>\n",
       "</table>\n",
       "</div>"
      ],
      "text/plain": [
       "                     Date  Hit\n",
       "704   2023-01-29 00:00:00    1\n",
       "1783  2023-02-02 00:00:00    2\n",
       "1206  2023-02-06 00:00:00    1\n",
       "1203  2023-02-12 00:00:00    1\n",
       "1906  2023-02-16 00:00:00    3\n",
       "465   2023-02-17 00:00:00    1\n",
       "2113  2023-02-18 00:00:00    4\n",
       "389   2023-02-21 00:00:00    1\n",
       "1106  2023-02-24 00:00:00    1\n",
       "1272  2023-02-25 00:00:00    1\n",
       "2131  2023-02-27 00:00:00    4\n",
       "14    2023-03-02 00:00:00    1\n",
       "322   2023-03-03 00:00:00    1\n",
       "304   2023-03-14 00:00:00    1\n",
       "464   2023-03-15 00:00:00    1\n",
       "162   2023-03-16 00:00:00    1\n",
       "1913  2023-03-21 00:00:00    3\n",
       "944   2023-03-22 00:00:00    1\n",
       "463   2023-03-24 00:00:00    1\n",
       "254   2023-03-25 00:00:00    1\n",
       "303   2023-03-28 00:00:00    1\n",
       "1105  2023-03-29 00:00:00    1\n",
       "1469  2023-04-01 00:00:00    2\n",
       "1520  2023-04-05 00:00:00    2\n",
       "1186  2023-04-06 00:00:00    1\n",
       "1435  2023-04-09 00:00:00    2\n",
       "1976  2023-04-10 00:00:00    3\n",
       "1584  2023-04-15 00:00:00    2\n",
       "565   2023-04-18 00:00:00    1\n",
       "2214  2023-04-23 00:00:00    5"
      ]
     },
     "execution_count": 87,
     "metadata": {},
     "output_type": "execute_result"
    }
   ],
   "source": [
    "dz_FD = ex.head(30)\n",
    "dz_FD.to_csv(os.path.join('C://Users//ASUS//Desktop//ASTROTOOL//streamlit//data','FutureDate.csv'), index= False)\n",
    "dz_FD"
   ]
  },
  {
   "cell_type": "markdown",
   "id": "328f931e",
   "metadata": {},
   "source": [
    "## 2. Result"
   ]
  },
  {
   "cell_type": "code",
   "execution_count": 88,
   "id": "3b964fa3",
   "metadata": {},
   "outputs": [
    {
     "data": {
      "application/vnd.plotly.v1+json": {
       "config": {
        "plotlyServerURL": "https://plot.ly"
       },
       "data": [
        {
         "alignmentgroup": "True",
         "hovertemplate": "Date=%{x}<br>Hit=%{y}<extra></extra>",
         "legendgroup": "",
         "marker": {
          "color": "#636efa",
          "pattern": {
           "shape": ""
          }
         },
         "name": "",
         "offsetgroup": "",
         "orientation": "v",
         "showlegend": false,
         "textposition": "auto",
         "type": "bar",
         "x": [
          "2023-01-29T00:00:00",
          "2023-02-02T00:00:00",
          "2023-02-06T00:00:00",
          "2023-02-12T00:00:00",
          "2023-02-16T00:00:00",
          "2023-02-17T00:00:00",
          "2023-02-18T00:00:00",
          "2023-02-21T00:00:00",
          "2023-02-24T00:00:00",
          "2023-02-25T00:00:00",
          "2023-02-27T00:00:00",
          "2023-03-02T00:00:00",
          "2023-03-03T00:00:00",
          "2023-03-14T00:00:00",
          "2023-03-15T00:00:00",
          "2023-03-16T00:00:00",
          "2023-03-21T00:00:00",
          "2023-03-22T00:00:00",
          "2023-03-24T00:00:00",
          "2023-03-25T00:00:00",
          "2023-03-28T00:00:00",
          "2023-03-29T00:00:00",
          "2023-04-01T00:00:00",
          "2023-04-05T00:00:00",
          "2023-04-06T00:00:00",
          "2023-04-09T00:00:00",
          "2023-04-10T00:00:00",
          "2023-04-15T00:00:00",
          "2023-04-18T00:00:00",
          "2023-04-23T00:00:00",
          "2023-04-26T00:00:00",
          "2023-04-27T00:00:00",
          "17/08/2022",
          "18/08/2022",
          "19/08/2022",
          "20/08/2022",
          "21/08/2022",
          "22/08/2022",
          "23/08/2022",
          "24/08/2022",
          "25/08/2022",
          "26/08/2022",
          "27/08/2022",
          "28/08/2022",
          "29/08/2022",
          "30/08/2022",
          "31/08/2022",
          "01/09/2022",
          "02/09/2022",
          "03/09/2022",
          "04/09/2022",
          "05/09/2022",
          "06/09/2022",
          "07/09/2022",
          "08/09/2022",
          "09/09/2022",
          "10/09/2022",
          "11/09/2022",
          "12/09/2022",
          "13/09/2022",
          "14/09/2022",
          "15/09/2022",
          "16/09/2022",
          "17/09/2022",
          "18/09/2022",
          "19/09/2022",
          "20/09/2022",
          "21/09/2022",
          "22/09/2022",
          "23/09/2022",
          "24/09/2022",
          "25/09/2022",
          "26/09/2022",
          "27/09/2022",
          "28/09/2022",
          "29/09/2022",
          "30/09/2022",
          "01/10/2022",
          "02/10/2022",
          "03/10/2022",
          "04/10/2022",
          "05/10/2022",
          "06/10/2022",
          "07/10/2022",
          "08/10/2022",
          "09/10/2022",
          "10/10/2022",
          "11/10/2022",
          "12/10/2022",
          "13/10/2022",
          "14/10/2022",
          "15/10/2022",
          "16/10/2022",
          "17/10/2022",
          "18/10/2022",
          "19/10/2022",
          "20/10/2022",
          "21/10/2022",
          "22/10/2022",
          "23/10/2022",
          "24/10/2022",
          "25/10/2022",
          "26/10/2022",
          "27/10/2022",
          "28/10/2022",
          "29/10/2022",
          "30/10/2022",
          "31/10/2022",
          "01/11/2022",
          "02/11/2022",
          "03/11/2022",
          "04/11/2022",
          "05/11/2022",
          "06/11/2022",
          "07/11/2022",
          "08/11/2022",
          "09/11/2022",
          "10/11/2022",
          "11/11/2022",
          "12/11/2022",
          "13/11/2022",
          "14/11/2022",
          "15/11/2022",
          "16/11/2022",
          "17/11/2022",
          "18/11/2022",
          "19/11/2022",
          "20/11/2022",
          "21/11/2022",
          "22/11/2022",
          "23/11/2022",
          "24/11/2022",
          "25/11/2022",
          "26/11/2022",
          "27/11/2022",
          "28/11/2022",
          "29/11/2022",
          "30/11/2022",
          "01/12/2022",
          "02/12/2022",
          "03/12/2022",
          "04/12/2022",
          "05/12/2022",
          "06/12/2022",
          "07/12/2022",
          "08/12/2022",
          "09/12/2022",
          "10/12/2022",
          "11/12/2022",
          "12/12/2022",
          "13/12/2022",
          "14/12/2022",
          "15/12/2022",
          "16/12/2022",
          "17/12/2022",
          "18/12/2022",
          "19/12/2022",
          "20/12/2022",
          "21/12/2022",
          "22/12/2022",
          "23/12/2022",
          "24/12/2022",
          "25/12/2022",
          "26/12/2022",
          "27/12/2022",
          "28/12/2022",
          "29/12/2022",
          "30/12/2022"
         ],
         "xaxis": "x",
         "y": [
          1,
          2,
          1,
          1,
          3,
          1,
          4,
          1,
          1,
          1,
          4,
          1,
          1,
          1,
          1,
          1,
          3,
          1,
          1,
          1,
          1,
          1,
          2,
          2,
          1,
          2,
          3,
          2,
          1,
          5,
          2,
          1,
          0,
          0,
          0,
          0,
          0,
          0,
          0,
          0,
          0,
          0,
          0,
          0,
          0,
          0,
          0,
          0,
          0,
          0,
          0,
          0,
          0,
          0,
          0,
          0,
          0,
          0,
          0,
          0,
          1,
          0,
          0,
          0,
          0,
          0,
          0,
          0,
          0,
          0,
          0,
          0,
          1,
          0,
          0,
          1,
          0,
          0,
          0,
          0,
          0,
          0,
          0,
          0,
          0,
          0,
          0,
          0,
          0,
          0,
          0,
          0,
          0,
          1,
          0,
          0,
          0,
          0,
          0,
          0,
          0,
          0,
          0,
          0,
          0,
          0,
          0,
          0,
          0,
          0,
          0,
          0,
          0,
          0,
          0,
          0,
          0,
          0,
          0,
          0,
          0,
          0,
          0,
          0,
          0,
          0,
          0,
          0,
          0,
          0,
          0,
          0,
          0,
          0,
          0,
          0,
          0,
          0,
          0,
          0,
          0,
          0,
          0,
          0,
          0,
          0,
          0,
          0,
          1,
          0,
          0,
          0,
          0,
          0,
          0,
          0,
          0,
          0,
          0,
          0,
          0,
          0,
          0,
          0,
          0,
          0,
          0,
          0
         ],
         "yaxis": "y"
        }
       ],
       "layout": {
        "barmode": "relative",
        "legend": {
         "tracegroupgap": 0
        },
        "margin": {
         "t": 60
        },
        "template": {
         "data": {
          "bar": [
           {
            "error_x": {
             "color": "#2a3f5f"
            },
            "error_y": {
             "color": "#2a3f5f"
            },
            "marker": {
             "line": {
              "color": "#E5ECF6",
              "width": 0.5
             },
             "pattern": {
              "fillmode": "overlay",
              "size": 10,
              "solidity": 0.2
             }
            },
            "type": "bar"
           }
          ],
          "barpolar": [
           {
            "marker": {
             "line": {
              "color": "#E5ECF6",
              "width": 0.5
             },
             "pattern": {
              "fillmode": "overlay",
              "size": 10,
              "solidity": 0.2
             }
            },
            "type": "barpolar"
           }
          ],
          "carpet": [
           {
            "aaxis": {
             "endlinecolor": "#2a3f5f",
             "gridcolor": "white",
             "linecolor": "white",
             "minorgridcolor": "white",
             "startlinecolor": "#2a3f5f"
            },
            "baxis": {
             "endlinecolor": "#2a3f5f",
             "gridcolor": "white",
             "linecolor": "white",
             "minorgridcolor": "white",
             "startlinecolor": "#2a3f5f"
            },
            "type": "carpet"
           }
          ],
          "choropleth": [
           {
            "colorbar": {
             "outlinewidth": 0,
             "ticks": ""
            },
            "type": "choropleth"
           }
          ],
          "contour": [
           {
            "colorbar": {
             "outlinewidth": 0,
             "ticks": ""
            },
            "colorscale": [
             [
              0,
              "#0d0887"
             ],
             [
              0.1111111111111111,
              "#46039f"
             ],
             [
              0.2222222222222222,
              "#7201a8"
             ],
             [
              0.3333333333333333,
              "#9c179e"
             ],
             [
              0.4444444444444444,
              "#bd3786"
             ],
             [
              0.5555555555555556,
              "#d8576b"
             ],
             [
              0.6666666666666666,
              "#ed7953"
             ],
             [
              0.7777777777777778,
              "#fb9f3a"
             ],
             [
              0.8888888888888888,
              "#fdca26"
             ],
             [
              1,
              "#f0f921"
             ]
            ],
            "type": "contour"
           }
          ],
          "contourcarpet": [
           {
            "colorbar": {
             "outlinewidth": 0,
             "ticks": ""
            },
            "type": "contourcarpet"
           }
          ],
          "heatmap": [
           {
            "colorbar": {
             "outlinewidth": 0,
             "ticks": ""
            },
            "colorscale": [
             [
              0,
              "#0d0887"
             ],
             [
              0.1111111111111111,
              "#46039f"
             ],
             [
              0.2222222222222222,
              "#7201a8"
             ],
             [
              0.3333333333333333,
              "#9c179e"
             ],
             [
              0.4444444444444444,
              "#bd3786"
             ],
             [
              0.5555555555555556,
              "#d8576b"
             ],
             [
              0.6666666666666666,
              "#ed7953"
             ],
             [
              0.7777777777777778,
              "#fb9f3a"
             ],
             [
              0.8888888888888888,
              "#fdca26"
             ],
             [
              1,
              "#f0f921"
             ]
            ],
            "type": "heatmap"
           }
          ],
          "heatmapgl": [
           {
            "colorbar": {
             "outlinewidth": 0,
             "ticks": ""
            },
            "colorscale": [
             [
              0,
              "#0d0887"
             ],
             [
              0.1111111111111111,
              "#46039f"
             ],
             [
              0.2222222222222222,
              "#7201a8"
             ],
             [
              0.3333333333333333,
              "#9c179e"
             ],
             [
              0.4444444444444444,
              "#bd3786"
             ],
             [
              0.5555555555555556,
              "#d8576b"
             ],
             [
              0.6666666666666666,
              "#ed7953"
             ],
             [
              0.7777777777777778,
              "#fb9f3a"
             ],
             [
              0.8888888888888888,
              "#fdca26"
             ],
             [
              1,
              "#f0f921"
             ]
            ],
            "type": "heatmapgl"
           }
          ],
          "histogram": [
           {
            "marker": {
             "pattern": {
              "fillmode": "overlay",
              "size": 10,
              "solidity": 0.2
             }
            },
            "type": "histogram"
           }
          ],
          "histogram2d": [
           {
            "colorbar": {
             "outlinewidth": 0,
             "ticks": ""
            },
            "colorscale": [
             [
              0,
              "#0d0887"
             ],
             [
              0.1111111111111111,
              "#46039f"
             ],
             [
              0.2222222222222222,
              "#7201a8"
             ],
             [
              0.3333333333333333,
              "#9c179e"
             ],
             [
              0.4444444444444444,
              "#bd3786"
             ],
             [
              0.5555555555555556,
              "#d8576b"
             ],
             [
              0.6666666666666666,
              "#ed7953"
             ],
             [
              0.7777777777777778,
              "#fb9f3a"
             ],
             [
              0.8888888888888888,
              "#fdca26"
             ],
             [
              1,
              "#f0f921"
             ]
            ],
            "type": "histogram2d"
           }
          ],
          "histogram2dcontour": [
           {
            "colorbar": {
             "outlinewidth": 0,
             "ticks": ""
            },
            "colorscale": [
             [
              0,
              "#0d0887"
             ],
             [
              0.1111111111111111,
              "#46039f"
             ],
             [
              0.2222222222222222,
              "#7201a8"
             ],
             [
              0.3333333333333333,
              "#9c179e"
             ],
             [
              0.4444444444444444,
              "#bd3786"
             ],
             [
              0.5555555555555556,
              "#d8576b"
             ],
             [
              0.6666666666666666,
              "#ed7953"
             ],
             [
              0.7777777777777778,
              "#fb9f3a"
             ],
             [
              0.8888888888888888,
              "#fdca26"
             ],
             [
              1,
              "#f0f921"
             ]
            ],
            "type": "histogram2dcontour"
           }
          ],
          "mesh3d": [
           {
            "colorbar": {
             "outlinewidth": 0,
             "ticks": ""
            },
            "type": "mesh3d"
           }
          ],
          "parcoords": [
           {
            "line": {
             "colorbar": {
              "outlinewidth": 0,
              "ticks": ""
             }
            },
            "type": "parcoords"
           }
          ],
          "pie": [
           {
            "automargin": true,
            "type": "pie"
           }
          ],
          "scatter": [
           {
            "marker": {
             "colorbar": {
              "outlinewidth": 0,
              "ticks": ""
             }
            },
            "type": "scatter"
           }
          ],
          "scatter3d": [
           {
            "line": {
             "colorbar": {
              "outlinewidth": 0,
              "ticks": ""
             }
            },
            "marker": {
             "colorbar": {
              "outlinewidth": 0,
              "ticks": ""
             }
            },
            "type": "scatter3d"
           }
          ],
          "scattercarpet": [
           {
            "marker": {
             "colorbar": {
              "outlinewidth": 0,
              "ticks": ""
             }
            },
            "type": "scattercarpet"
           }
          ],
          "scattergeo": [
           {
            "marker": {
             "colorbar": {
              "outlinewidth": 0,
              "ticks": ""
             }
            },
            "type": "scattergeo"
           }
          ],
          "scattergl": [
           {
            "marker": {
             "colorbar": {
              "outlinewidth": 0,
              "ticks": ""
             }
            },
            "type": "scattergl"
           }
          ],
          "scattermapbox": [
           {
            "marker": {
             "colorbar": {
              "outlinewidth": 0,
              "ticks": ""
             }
            },
            "type": "scattermapbox"
           }
          ],
          "scatterpolar": [
           {
            "marker": {
             "colorbar": {
              "outlinewidth": 0,
              "ticks": ""
             }
            },
            "type": "scatterpolar"
           }
          ],
          "scatterpolargl": [
           {
            "marker": {
             "colorbar": {
              "outlinewidth": 0,
              "ticks": ""
             }
            },
            "type": "scatterpolargl"
           }
          ],
          "scatterternary": [
           {
            "marker": {
             "colorbar": {
              "outlinewidth": 0,
              "ticks": ""
             }
            },
            "type": "scatterternary"
           }
          ],
          "surface": [
           {
            "colorbar": {
             "outlinewidth": 0,
             "ticks": ""
            },
            "colorscale": [
             [
              0,
              "#0d0887"
             ],
             [
              0.1111111111111111,
              "#46039f"
             ],
             [
              0.2222222222222222,
              "#7201a8"
             ],
             [
              0.3333333333333333,
              "#9c179e"
             ],
             [
              0.4444444444444444,
              "#bd3786"
             ],
             [
              0.5555555555555556,
              "#d8576b"
             ],
             [
              0.6666666666666666,
              "#ed7953"
             ],
             [
              0.7777777777777778,
              "#fb9f3a"
             ],
             [
              0.8888888888888888,
              "#fdca26"
             ],
             [
              1,
              "#f0f921"
             ]
            ],
            "type": "surface"
           }
          ],
          "table": [
           {
            "cells": {
             "fill": {
              "color": "#EBF0F8"
             },
             "line": {
              "color": "white"
             }
            },
            "header": {
             "fill": {
              "color": "#C8D4E3"
             },
             "line": {
              "color": "white"
             }
            },
            "type": "table"
           }
          ]
         },
         "layout": {
          "annotationdefaults": {
           "arrowcolor": "#2a3f5f",
           "arrowhead": 0,
           "arrowwidth": 1
          },
          "autotypenumbers": "strict",
          "coloraxis": {
           "colorbar": {
            "outlinewidth": 0,
            "ticks": ""
           }
          },
          "colorscale": {
           "diverging": [
            [
             0,
             "#8e0152"
            ],
            [
             0.1,
             "#c51b7d"
            ],
            [
             0.2,
             "#de77ae"
            ],
            [
             0.3,
             "#f1b6da"
            ],
            [
             0.4,
             "#fde0ef"
            ],
            [
             0.5,
             "#f7f7f7"
            ],
            [
             0.6,
             "#e6f5d0"
            ],
            [
             0.7,
             "#b8e186"
            ],
            [
             0.8,
             "#7fbc41"
            ],
            [
             0.9,
             "#4d9221"
            ],
            [
             1,
             "#276419"
            ]
           ],
           "sequential": [
            [
             0,
             "#0d0887"
            ],
            [
             0.1111111111111111,
             "#46039f"
            ],
            [
             0.2222222222222222,
             "#7201a8"
            ],
            [
             0.3333333333333333,
             "#9c179e"
            ],
            [
             0.4444444444444444,
             "#bd3786"
            ],
            [
             0.5555555555555556,
             "#d8576b"
            ],
            [
             0.6666666666666666,
             "#ed7953"
            ],
            [
             0.7777777777777778,
             "#fb9f3a"
            ],
            [
             0.8888888888888888,
             "#fdca26"
            ],
            [
             1,
             "#f0f921"
            ]
           ],
           "sequentialminus": [
            [
             0,
             "#0d0887"
            ],
            [
             0.1111111111111111,
             "#46039f"
            ],
            [
             0.2222222222222222,
             "#7201a8"
            ],
            [
             0.3333333333333333,
             "#9c179e"
            ],
            [
             0.4444444444444444,
             "#bd3786"
            ],
            [
             0.5555555555555556,
             "#d8576b"
            ],
            [
             0.6666666666666666,
             "#ed7953"
            ],
            [
             0.7777777777777778,
             "#fb9f3a"
            ],
            [
             0.8888888888888888,
             "#fdca26"
            ],
            [
             1,
             "#f0f921"
            ]
           ]
          },
          "colorway": [
           "#636efa",
           "#EF553B",
           "#00cc96",
           "#ab63fa",
           "#FFA15A",
           "#19d3f3",
           "#FF6692",
           "#B6E880",
           "#FF97FF",
           "#FECB52"
          ],
          "font": {
           "color": "#2a3f5f"
          },
          "geo": {
           "bgcolor": "white",
           "lakecolor": "white",
           "landcolor": "#E5ECF6",
           "showlakes": true,
           "showland": true,
           "subunitcolor": "white"
          },
          "hoverlabel": {
           "align": "left"
          },
          "hovermode": "closest",
          "mapbox": {
           "style": "light"
          },
          "paper_bgcolor": "white",
          "plot_bgcolor": "#E5ECF6",
          "polar": {
           "angularaxis": {
            "gridcolor": "white",
            "linecolor": "white",
            "ticks": ""
           },
           "bgcolor": "#E5ECF6",
           "radialaxis": {
            "gridcolor": "white",
            "linecolor": "white",
            "ticks": ""
           }
          },
          "scene": {
           "xaxis": {
            "backgroundcolor": "#E5ECF6",
            "gridcolor": "white",
            "gridwidth": 2,
            "linecolor": "white",
            "showbackground": true,
            "ticks": "",
            "zerolinecolor": "white"
           },
           "yaxis": {
            "backgroundcolor": "#E5ECF6",
            "gridcolor": "white",
            "gridwidth": 2,
            "linecolor": "white",
            "showbackground": true,
            "ticks": "",
            "zerolinecolor": "white"
           },
           "zaxis": {
            "backgroundcolor": "#E5ECF6",
            "gridcolor": "white",
            "gridwidth": 2,
            "linecolor": "white",
            "showbackground": true,
            "ticks": "",
            "zerolinecolor": "white"
           }
          },
          "shapedefaults": {
           "line": {
            "color": "#2a3f5f"
           }
          },
          "ternary": {
           "aaxis": {
            "gridcolor": "white",
            "linecolor": "white",
            "ticks": ""
           },
           "baxis": {
            "gridcolor": "white",
            "linecolor": "white",
            "ticks": ""
           },
           "bgcolor": "#E5ECF6",
           "caxis": {
            "gridcolor": "white",
            "linecolor": "white",
            "ticks": ""
           }
          },
          "title": {
           "x": 0.05
          },
          "xaxis": {
           "automargin": true,
           "gridcolor": "white",
           "linecolor": "white",
           "ticks": "",
           "title": {
            "standoff": 15
           },
           "zerolinecolor": "white",
           "zerolinewidth": 2
          },
          "yaxis": {
           "automargin": true,
           "gridcolor": "white",
           "linecolor": "white",
           "ticks": "",
           "title": {
            "standoff": 15
           },
           "zerolinecolor": "white",
           "zerolinewidth": 2
          }
         }
        },
        "xaxis": {
         "anchor": "y",
         "domain": [
          0,
          1
         ],
         "title": {
          "text": "Date"
         }
        },
        "yaxis": {
         "anchor": "x",
         "domain": [
          0,
          1
         ],
         "title": {
          "text": "Hit"
         }
        }
       }
      }
     },
     "metadata": {},
     "output_type": "display_data"
    }
   ],
   "source": [
    "fig = px.bar(ex, x='Date', y='Hit')\n",
    "\n",
    "fig.show()"
   ]
  },
  {
   "cell_type": "markdown",
   "id": "16a435d2",
   "metadata": {},
   "source": [
    "# **XI. Fibs.py**"
   ]
  },
  {
   "cell_type": "markdown",
   "id": "feed3c57",
   "metadata": {},
   "source": [
    "## 1. Code"
   ]
  },
  {
   "cell_type": "code",
   "execution_count": 89,
   "id": "1da366a3",
   "metadata": {},
   "outputs": [
    {
     "name": "stderr",
     "output_type": "stream",
     "text": [
      "C:\\Users\\ASUS\\AppData\\Local\\Temp\\ipykernel_15596\\2587883681.py:25: SettingWithCopyWarning:\n",
      "\n",
      "\n",
      "A value is trying to be set on a copy of a slice from a DataFrame\n",
      "\n",
      "See the caveats in the documentation: https://pandas.pydata.org/pandas-docs/stable/user_guide/indexing.html#returning-a-view-versus-a-copy\n",
      "\n"
     ]
    }
   ],
   "source": [
    "################################################### FIBONNACI METHOD ###################################################\n",
    "########################################################################################################################\n",
    "\n",
    "# Cette méthode à comme input un index de Date importante pivots (61 dates distinctes) du $BTC \n",
    "# les autres input en colonne sont l'ensemble des planètes du système solaire et leur degrés cummulatif correspondant à la date en index...\n",
    "# Par l'ensemble de ce code on cherche remplacé les degrés cumulatif initiale de chaque planètes\n",
    "# à l'aide d'une opération spécifique on transforme ces nouveau degrés cumulatif en date future majeur (on va chercher à savoir ces nouveau degré cumulatif se situent à qu'elle date dans le fichier csv helio_cum...)\n",
    "\n",
    "fbb = pd.DataFrame()\n",
    "helio_cum = helio_cum.copy()\n",
    "fibs = fibs.copy()\n",
    "\n",
    "\n",
    "for col in fibs.columns:\n",
    "    fbb[col] = fibs[col]\n",
    "\n",
    "    if col not in (\"Date\"):\n",
    "        \n",
    "        for row, _ in helio_cum.iterrows():\n",
    "            date = helio_cum[\"Date\"][row]\n",
    "            dates_list = fibs[\"Date\"].to_list()\n",
    "\n",
    "            if date in dates_list:\n",
    "                row_index = dates_list.index(date)\n",
    "                fbb[col][row_index] = helio_cum[col][row]\n",
    "\n",
    "########################################################################################################################"
   ]
  },
  {
   "cell_type": "code",
   "execution_count": 90,
   "id": "8d8f81e7",
   "metadata": {},
   "outputs": [
    {
     "name": "stderr",
     "output_type": "stream",
     "text": [
      "C:\\Users\\ASUS\\AppData\\Local\\Temp\\ipykernel_15596\\3819832262.py:11: SettingWithCopyWarning:\n",
      "\n",
      "\n",
      "A value is trying to be set on a copy of a slice from a DataFrame\n",
      "\n",
      "See the caveats in the documentation: https://pandas.pydata.org/pandas-docs/stable/user_guide/indexing.html#returning-a-view-versus-a-copy\n",
      "\n",
      "C:\\Users\\ASUS\\AppData\\Local\\Temp\\ipykernel_15596\\3819832262.py:12: SettingWithCopyWarning:\n",
      "\n",
      "\n",
      "A value is trying to be set on a copy of a slice from a DataFrame\n",
      "\n",
      "See the caveats in the documentation: https://pandas.pydata.org/pandas-docs/stable/user_guide/indexing.html#returning-a-view-versus-a-copy\n",
      "\n"
     ]
    }
   ],
   "source": [
    "########################################################################################################################\n",
    "\n",
    "dfs = []\n",
    "\n",
    "for i in range(len(fbb[\"Date\"]) - 1): # permet de décliné 1 row pour chacune des 61 liste de dates majeure - notre première liste coontiendras 61 rows et notre dernière liste contiendras donc seulement 2 row de date future...\n",
    "    new_df = fbb.copy()[i:]\n",
    "    for k in new_df:\n",
    "        if k == \"Date\":\n",
    "            continue\n",
    "        for j in range(i + 1, len(fbb[k])): # opération utilisé pour convertir \"=IF(C7=0;0;INT(INDEX(astroData!$A:$A;MATCH(INT(C$5+((C7-C$5)*1,618));astroData!M:M;1))))\"\n",
    "            new_df[k][j] = (float(new_df[k][i]) + ((float(new_df[k][j]) - float(new_df[k][i])) * 1.618)) \n",
    "        new_df[k][i] = 0\n",
    "    dfs.append(new_df)\n",
    "\n",
    "#for df in dfs:\n",
    "#    print(df)\n",
    "\n",
    "########################################################################################################################"
   ]
  },
  {
   "cell_type": "code",
   "execution_count": 91,
   "id": "6f27fab5",
   "metadata": {},
   "outputs": [
    {
     "name": "stderr",
     "output_type": "stream",
     "text": [
      "c:\\Users\\ASUS\\AppData\\Local\\Programs\\Python\\Python39\\lib\\site-packages\\pandas\\core\\indexing.py:1732: SettingWithCopyWarning:\n",
      "\n",
      "\n",
      "A value is trying to be set on a copy of a slice from a DataFrame\n",
      "\n",
      "See the caveats in the documentation: https://pandas.pydata.org/pandas-docs/stable/user_guide/indexing.html#returning-a-view-versus-a-copy\n",
      "\n"
     ]
    }
   ],
   "source": [
    "########################################################################################################################\n",
    "\n",
    "test = pd.concat(dfs)\n",
    "test = test.round()\n",
    "fbb1 = test.copy()\n",
    "\n",
    "# for loop pour récupéré quels degrés sont situés à quelle date dans le futur/passé directement dans notre dataframe helio_cum (cumulatif)\n",
    "\n",
    "for planets in fbb1.columns[1:]:\n",
    "    for num, i in enumerate(fbb1[planets]):\n",
    "        df_copy = helio_cum.round()\n",
    "        target = df_copy[df_copy[planets] == float(i)]\n",
    "        type(planets)\n",
    "        type(df_copy)\n",
    "\n",
    "        Date = []\n",
    "\n",
    "        for date in target['Date']:\n",
    "            Date.append(date)\n",
    "\n",
    "        if len(Date) > 0:\n",
    "            Date_ok = Date[-1]\n",
    "            fbb1[planets].iloc[num] = Date_ok\n",
    "        else:\n",
    "            fbb1[planets].iloc[num] = \" \"\n",
    "\n",
    "########################################################################################################################"
   ]
  },
  {
   "cell_type": "code",
   "execution_count": 92,
   "id": "3a379de2",
   "metadata": {},
   "outputs": [
    {
     "data": {
      "application/vnd.plotly.v1+json": {
       "config": {
        "plotlyServerURL": "https://plot.ly"
       },
       "data": [
        {
         "alignmentgroup": "True",
         "hovertemplate": "Date=%{x}<br>Hit=%{y}<extra></extra>",
         "legendgroup": "",
         "marker": {
          "color": "#636efa",
          "pattern": {
           "shape": ""
          }
         },
         "name": "",
         "offsetgroup": "",
         "orientation": "v",
         "showlegend": false,
         "textposition": "auto",
         "type": "bar",
         "x": [
          "2023-01-28T00:00:00",
          "2023-01-30T00:00:00",
          "2023-01-31T00:00:00",
          "2023-02-01T00:00:00",
          "2023-02-02T00:00:00",
          "2023-02-04T00:00:00",
          "2023-02-06T00:00:00",
          "2023-02-08T00:00:00",
          "2023-02-09T00:00:00",
          "2023-02-10T00:00:00",
          "2023-02-11T00:00:00",
          "2023-02-13T00:00:00",
          "2023-02-14T00:00:00",
          "2023-02-15T00:00:00",
          "2023-02-16T00:00:00",
          "2023-02-17T00:00:00",
          "2023-02-18T00:00:00",
          "2023-02-19T00:00:00",
          "2023-02-20T00:00:00",
          "2023-02-21T00:00:00",
          "2023-02-23T00:00:00",
          "2023-02-25T00:00:00",
          "2023-02-26T00:00:00",
          "2023-02-27T00:00:00",
          "2023-03-01T00:00:00",
          "2023-03-02T00:00:00",
          "2023-03-03T00:00:00",
          "2023-03-04T00:00:00",
          "2023-03-05T00:00:00",
          "2023-03-07T00:00:00",
          "2023-03-10T00:00:00",
          "2023-03-11T00:00:00",
          "2023-03-12T00:00:00",
          "2023-03-14T00:00:00",
          "2023-03-15T00:00:00",
          "2023-03-16T00:00:00",
          "2023-03-17T00:00:00",
          "2023-03-18T00:00:00",
          "2023-03-19T00:00:00",
          "2023-03-21T00:00:00",
          "2023-03-22T00:00:00",
          "2023-03-23T00:00:00",
          "2023-03-24T00:00:00",
          "2023-03-25T00:00:00",
          "2023-03-27T00:00:00",
          "2023-03-28T00:00:00",
          "2023-03-30T00:00:00",
          "2023-03-31T00:00:00",
          "2023-04-01T00:00:00",
          "2023-04-02T00:00:00",
          "2023-04-03T00:00:00",
          "2023-04-04T00:00:00",
          "2023-04-05T00:00:00",
          "2023-04-06T00:00:00",
          "2023-04-07T00:00:00",
          "2023-04-08T00:00:00",
          "2023-04-09T00:00:00",
          "2023-04-10T00:00:00",
          "2023-04-11T00:00:00",
          "2023-04-12T00:00:00",
          "2023-04-13T00:00:00",
          "2023-04-15T00:00:00",
          "2023-04-17T00:00:00",
          "2023-04-18T00:00:00",
          "2023-04-19T00:00:00",
          "2023-04-20T00:00:00",
          "2023-04-21T00:00:00",
          "2023-04-22T00:00:00",
          "2023-04-23T00:00:00",
          "2023-04-24T00:00:00",
          "2023-04-25T00:00:00",
          "2023-04-26T00:00:00",
          "2023-04-27T00:00:00",
          "2023-04-28T00:00:00"
         ],
         "xaxis": "x",
         "y": [
          6,
          6,
          3,
          1,
          1,
          2,
          3,
          7,
          4,
          1,
          1,
          1,
          3,
          1,
          13,
          2,
          23,
          2,
          2,
          2,
          5,
          4,
          1,
          12,
          2,
          3,
          1,
          3,
          6,
          2,
          2,
          2,
          3,
          1,
          4,
          1,
          3,
          2,
          5,
          12,
          30,
          4,
          1,
          2,
          4,
          3,
          1,
          4,
          13,
          1,
          2,
          7,
          12,
          4,
          2,
          1,
          3,
          10,
          6,
          2,
          5,
          3,
          4,
          2,
          4,
          1,
          1,
          3,
          33,
          2,
          2,
          2,
          2,
          4
         ],
         "yaxis": "y"
        }
       ],
       "layout": {
        "barmode": "relative",
        "legend": {
         "tracegroupgap": 0
        },
        "margin": {
         "t": 60
        },
        "template": {
         "data": {
          "bar": [
           {
            "error_x": {
             "color": "#2a3f5f"
            },
            "error_y": {
             "color": "#2a3f5f"
            },
            "marker": {
             "line": {
              "color": "#E5ECF6",
              "width": 0.5
             },
             "pattern": {
              "fillmode": "overlay",
              "size": 10,
              "solidity": 0.2
             }
            },
            "type": "bar"
           }
          ],
          "barpolar": [
           {
            "marker": {
             "line": {
              "color": "#E5ECF6",
              "width": 0.5
             },
             "pattern": {
              "fillmode": "overlay",
              "size": 10,
              "solidity": 0.2
             }
            },
            "type": "barpolar"
           }
          ],
          "carpet": [
           {
            "aaxis": {
             "endlinecolor": "#2a3f5f",
             "gridcolor": "white",
             "linecolor": "white",
             "minorgridcolor": "white",
             "startlinecolor": "#2a3f5f"
            },
            "baxis": {
             "endlinecolor": "#2a3f5f",
             "gridcolor": "white",
             "linecolor": "white",
             "minorgridcolor": "white",
             "startlinecolor": "#2a3f5f"
            },
            "type": "carpet"
           }
          ],
          "choropleth": [
           {
            "colorbar": {
             "outlinewidth": 0,
             "ticks": ""
            },
            "type": "choropleth"
           }
          ],
          "contour": [
           {
            "colorbar": {
             "outlinewidth": 0,
             "ticks": ""
            },
            "colorscale": [
             [
              0,
              "#0d0887"
             ],
             [
              0.1111111111111111,
              "#46039f"
             ],
             [
              0.2222222222222222,
              "#7201a8"
             ],
             [
              0.3333333333333333,
              "#9c179e"
             ],
             [
              0.4444444444444444,
              "#bd3786"
             ],
             [
              0.5555555555555556,
              "#d8576b"
             ],
             [
              0.6666666666666666,
              "#ed7953"
             ],
             [
              0.7777777777777778,
              "#fb9f3a"
             ],
             [
              0.8888888888888888,
              "#fdca26"
             ],
             [
              1,
              "#f0f921"
             ]
            ],
            "type": "contour"
           }
          ],
          "contourcarpet": [
           {
            "colorbar": {
             "outlinewidth": 0,
             "ticks": ""
            },
            "type": "contourcarpet"
           }
          ],
          "heatmap": [
           {
            "colorbar": {
             "outlinewidth": 0,
             "ticks": ""
            },
            "colorscale": [
             [
              0,
              "#0d0887"
             ],
             [
              0.1111111111111111,
              "#46039f"
             ],
             [
              0.2222222222222222,
              "#7201a8"
             ],
             [
              0.3333333333333333,
              "#9c179e"
             ],
             [
              0.4444444444444444,
              "#bd3786"
             ],
             [
              0.5555555555555556,
              "#d8576b"
             ],
             [
              0.6666666666666666,
              "#ed7953"
             ],
             [
              0.7777777777777778,
              "#fb9f3a"
             ],
             [
              0.8888888888888888,
              "#fdca26"
             ],
             [
              1,
              "#f0f921"
             ]
            ],
            "type": "heatmap"
           }
          ],
          "heatmapgl": [
           {
            "colorbar": {
             "outlinewidth": 0,
             "ticks": ""
            },
            "colorscale": [
             [
              0,
              "#0d0887"
             ],
             [
              0.1111111111111111,
              "#46039f"
             ],
             [
              0.2222222222222222,
              "#7201a8"
             ],
             [
              0.3333333333333333,
              "#9c179e"
             ],
             [
              0.4444444444444444,
              "#bd3786"
             ],
             [
              0.5555555555555556,
              "#d8576b"
             ],
             [
              0.6666666666666666,
              "#ed7953"
             ],
             [
              0.7777777777777778,
              "#fb9f3a"
             ],
             [
              0.8888888888888888,
              "#fdca26"
             ],
             [
              1,
              "#f0f921"
             ]
            ],
            "type": "heatmapgl"
           }
          ],
          "histogram": [
           {
            "marker": {
             "pattern": {
              "fillmode": "overlay",
              "size": 10,
              "solidity": 0.2
             }
            },
            "type": "histogram"
           }
          ],
          "histogram2d": [
           {
            "colorbar": {
             "outlinewidth": 0,
             "ticks": ""
            },
            "colorscale": [
             [
              0,
              "#0d0887"
             ],
             [
              0.1111111111111111,
              "#46039f"
             ],
             [
              0.2222222222222222,
              "#7201a8"
             ],
             [
              0.3333333333333333,
              "#9c179e"
             ],
             [
              0.4444444444444444,
              "#bd3786"
             ],
             [
              0.5555555555555556,
              "#d8576b"
             ],
             [
              0.6666666666666666,
              "#ed7953"
             ],
             [
              0.7777777777777778,
              "#fb9f3a"
             ],
             [
              0.8888888888888888,
              "#fdca26"
             ],
             [
              1,
              "#f0f921"
             ]
            ],
            "type": "histogram2d"
           }
          ],
          "histogram2dcontour": [
           {
            "colorbar": {
             "outlinewidth": 0,
             "ticks": ""
            },
            "colorscale": [
             [
              0,
              "#0d0887"
             ],
             [
              0.1111111111111111,
              "#46039f"
             ],
             [
              0.2222222222222222,
              "#7201a8"
             ],
             [
              0.3333333333333333,
              "#9c179e"
             ],
             [
              0.4444444444444444,
              "#bd3786"
             ],
             [
              0.5555555555555556,
              "#d8576b"
             ],
             [
              0.6666666666666666,
              "#ed7953"
             ],
             [
              0.7777777777777778,
              "#fb9f3a"
             ],
             [
              0.8888888888888888,
              "#fdca26"
             ],
             [
              1,
              "#f0f921"
             ]
            ],
            "type": "histogram2dcontour"
           }
          ],
          "mesh3d": [
           {
            "colorbar": {
             "outlinewidth": 0,
             "ticks": ""
            },
            "type": "mesh3d"
           }
          ],
          "parcoords": [
           {
            "line": {
             "colorbar": {
              "outlinewidth": 0,
              "ticks": ""
             }
            },
            "type": "parcoords"
           }
          ],
          "pie": [
           {
            "automargin": true,
            "type": "pie"
           }
          ],
          "scatter": [
           {
            "marker": {
             "colorbar": {
              "outlinewidth": 0,
              "ticks": ""
             }
            },
            "type": "scatter"
           }
          ],
          "scatter3d": [
           {
            "line": {
             "colorbar": {
              "outlinewidth": 0,
              "ticks": ""
             }
            },
            "marker": {
             "colorbar": {
              "outlinewidth": 0,
              "ticks": ""
             }
            },
            "type": "scatter3d"
           }
          ],
          "scattercarpet": [
           {
            "marker": {
             "colorbar": {
              "outlinewidth": 0,
              "ticks": ""
             }
            },
            "type": "scattercarpet"
           }
          ],
          "scattergeo": [
           {
            "marker": {
             "colorbar": {
              "outlinewidth": 0,
              "ticks": ""
             }
            },
            "type": "scattergeo"
           }
          ],
          "scattergl": [
           {
            "marker": {
             "colorbar": {
              "outlinewidth": 0,
              "ticks": ""
             }
            },
            "type": "scattergl"
           }
          ],
          "scattermapbox": [
           {
            "marker": {
             "colorbar": {
              "outlinewidth": 0,
              "ticks": ""
             }
            },
            "type": "scattermapbox"
           }
          ],
          "scatterpolar": [
           {
            "marker": {
             "colorbar": {
              "outlinewidth": 0,
              "ticks": ""
             }
            },
            "type": "scatterpolar"
           }
          ],
          "scatterpolargl": [
           {
            "marker": {
             "colorbar": {
              "outlinewidth": 0,
              "ticks": ""
             }
            },
            "type": "scatterpolargl"
           }
          ],
          "scatterternary": [
           {
            "marker": {
             "colorbar": {
              "outlinewidth": 0,
              "ticks": ""
             }
            },
            "type": "scatterternary"
           }
          ],
          "surface": [
           {
            "colorbar": {
             "outlinewidth": 0,
             "ticks": ""
            },
            "colorscale": [
             [
              0,
              "#0d0887"
             ],
             [
              0.1111111111111111,
              "#46039f"
             ],
             [
              0.2222222222222222,
              "#7201a8"
             ],
             [
              0.3333333333333333,
              "#9c179e"
             ],
             [
              0.4444444444444444,
              "#bd3786"
             ],
             [
              0.5555555555555556,
              "#d8576b"
             ],
             [
              0.6666666666666666,
              "#ed7953"
             ],
             [
              0.7777777777777778,
              "#fb9f3a"
             ],
             [
              0.8888888888888888,
              "#fdca26"
             ],
             [
              1,
              "#f0f921"
             ]
            ],
            "type": "surface"
           }
          ],
          "table": [
           {
            "cells": {
             "fill": {
              "color": "#EBF0F8"
             },
             "line": {
              "color": "white"
             }
            },
            "header": {
             "fill": {
              "color": "#C8D4E3"
             },
             "line": {
              "color": "white"
             }
            },
            "type": "table"
           }
          ]
         },
         "layout": {
          "annotationdefaults": {
           "arrowcolor": "#2a3f5f",
           "arrowhead": 0,
           "arrowwidth": 1
          },
          "autotypenumbers": "strict",
          "coloraxis": {
           "colorbar": {
            "outlinewidth": 0,
            "ticks": ""
           }
          },
          "colorscale": {
           "diverging": [
            [
             0,
             "#8e0152"
            ],
            [
             0.1,
             "#c51b7d"
            ],
            [
             0.2,
             "#de77ae"
            ],
            [
             0.3,
             "#f1b6da"
            ],
            [
             0.4,
             "#fde0ef"
            ],
            [
             0.5,
             "#f7f7f7"
            ],
            [
             0.6,
             "#e6f5d0"
            ],
            [
             0.7,
             "#b8e186"
            ],
            [
             0.8,
             "#7fbc41"
            ],
            [
             0.9,
             "#4d9221"
            ],
            [
             1,
             "#276419"
            ]
           ],
           "sequential": [
            [
             0,
             "#0d0887"
            ],
            [
             0.1111111111111111,
             "#46039f"
            ],
            [
             0.2222222222222222,
             "#7201a8"
            ],
            [
             0.3333333333333333,
             "#9c179e"
            ],
            [
             0.4444444444444444,
             "#bd3786"
            ],
            [
             0.5555555555555556,
             "#d8576b"
            ],
            [
             0.6666666666666666,
             "#ed7953"
            ],
            [
             0.7777777777777778,
             "#fb9f3a"
            ],
            [
             0.8888888888888888,
             "#fdca26"
            ],
            [
             1,
             "#f0f921"
            ]
           ],
           "sequentialminus": [
            [
             0,
             "#0d0887"
            ],
            [
             0.1111111111111111,
             "#46039f"
            ],
            [
             0.2222222222222222,
             "#7201a8"
            ],
            [
             0.3333333333333333,
             "#9c179e"
            ],
            [
             0.4444444444444444,
             "#bd3786"
            ],
            [
             0.5555555555555556,
             "#d8576b"
            ],
            [
             0.6666666666666666,
             "#ed7953"
            ],
            [
             0.7777777777777778,
             "#fb9f3a"
            ],
            [
             0.8888888888888888,
             "#fdca26"
            ],
            [
             1,
             "#f0f921"
            ]
           ]
          },
          "colorway": [
           "#636efa",
           "#EF553B",
           "#00cc96",
           "#ab63fa",
           "#FFA15A",
           "#19d3f3",
           "#FF6692",
           "#B6E880",
           "#FF97FF",
           "#FECB52"
          ],
          "font": {
           "color": "#2a3f5f"
          },
          "geo": {
           "bgcolor": "white",
           "lakecolor": "white",
           "landcolor": "#E5ECF6",
           "showlakes": true,
           "showland": true,
           "subunitcolor": "white"
          },
          "hoverlabel": {
           "align": "left"
          },
          "hovermode": "closest",
          "mapbox": {
           "style": "light"
          },
          "paper_bgcolor": "white",
          "plot_bgcolor": "#E5ECF6",
          "polar": {
           "angularaxis": {
            "gridcolor": "white",
            "linecolor": "white",
            "ticks": ""
           },
           "bgcolor": "#E5ECF6",
           "radialaxis": {
            "gridcolor": "white",
            "linecolor": "white",
            "ticks": ""
           }
          },
          "scene": {
           "xaxis": {
            "backgroundcolor": "#E5ECF6",
            "gridcolor": "white",
            "gridwidth": 2,
            "linecolor": "white",
            "showbackground": true,
            "ticks": "",
            "zerolinecolor": "white"
           },
           "yaxis": {
            "backgroundcolor": "#E5ECF6",
            "gridcolor": "white",
            "gridwidth": 2,
            "linecolor": "white",
            "showbackground": true,
            "ticks": "",
            "zerolinecolor": "white"
           },
           "zaxis": {
            "backgroundcolor": "#E5ECF6",
            "gridcolor": "white",
            "gridwidth": 2,
            "linecolor": "white",
            "showbackground": true,
            "ticks": "",
            "zerolinecolor": "white"
           }
          },
          "shapedefaults": {
           "line": {
            "color": "#2a3f5f"
           }
          },
          "ternary": {
           "aaxis": {
            "gridcolor": "white",
            "linecolor": "white",
            "ticks": ""
           },
           "baxis": {
            "gridcolor": "white",
            "linecolor": "white",
            "ticks": ""
           },
           "bgcolor": "#E5ECF6",
           "caxis": {
            "gridcolor": "white",
            "linecolor": "white",
            "ticks": ""
           }
          },
          "title": {
           "x": 0.05
          },
          "xaxis": {
           "automargin": true,
           "gridcolor": "white",
           "linecolor": "white",
           "ticks": "",
           "title": {
            "standoff": 15
           },
           "zerolinecolor": "white",
           "zerolinewidth": 2
          },
          "yaxis": {
           "automargin": true,
           "gridcolor": "white",
           "linecolor": "white",
           "ticks": "",
           "title": {
            "standoff": 15
           },
           "zerolinecolor": "white",
           "zerolinewidth": 2
          }
         }
        },
        "xaxis": {
         "anchor": "y",
         "domain": [
          0,
          1
         ],
         "title": {
          "text": "Date"
         }
        },
        "yaxis": {
         "anchor": "x",
         "domain": [
          0,
          1
         ],
         "title": {
          "text": "Hit"
         }
        }
       }
      }
     },
     "metadata": {},
     "output_type": "display_data"
    },
    {
     "name": "stdout",
     "output_type": "stream",
     "text": [
      "           Date  Hit\n",
      "2733 2023-01-28    6\n",
      "2713 2023-01-30    6\n",
      "2068 2023-01-31    3\n",
      "168  2023-02-01    1\n",
      "675  2023-02-02    1\n",
      "...         ...  ...\n",
      "1622 2023-04-24    2\n",
      "1933 2023-04-25    2\n",
      "1581 2023-04-26    2\n",
      "1701 2023-04-27    2\n",
      "2437 2023-04-28    4\n",
      "\n",
      "[74 rows x 2 columns]\n"
     ]
    }
   ],
   "source": [
    "########################################################################################################################\n",
    "\n",
    "# Code qui permet d'aggréger l'ensemble de nos résultats en un seul et unique dataframe\n",
    "# Transformation des résultats en un dataframe contenant les dates en index et les hit représentant la somme du nombre de data similaire à la date index...\n",
    "\n",
    "hitz = fbb1.copy()\n",
    "\n",
    "hits = hitz[1:].unstack().value_counts(ascending=True)\n",
    "\n",
    "hits = pd.DataFrame(hits, columns=['Hit'])\n",
    "\n",
    "hits = hits.reset_index()\n",
    "hits = hits.rename_axis('E', axis=1)\n",
    "hits.columns = hits.columns.str.replace('index', 'Date')\n",
    "hits = hits.rename_axis(None, axis=1)\n",
    "\n",
    "hits = hits.sort_values(by=['Date'], ascending=True)\n",
    "hits.drop(hits.head(1).index,inplace=True) # drop first n rows\n",
    "\n",
    "# permet d'actualisé notre dataframe de jours en jours - cette configuration donne les 30 prochaine dates/hit du mois...\n",
    "\n",
    "hits['Date'] = hits['Date'].apply(pd.to_datetime)\n",
    "start_date = t  - timedelta(days = 1)\n",
    "end_date = t + timedelta(days = 90)\n",
    "\n",
    "mask = (hits['Date'] > start_date) & (hits['Date'] <= end_date)\n",
    "final = hits.loc[mask]\n",
    "\n",
    "fib_hits = final.sort_values(by=['Date'], ascending=True)\n",
    "\n",
    "# exporte en .csv ce fichier résultat vers notre fichier data streamlit... \n",
    "\n",
    "csv_Fib = fib_hits.head(30)\n",
    "csv_Fib.to_csv(os.path.join('C://Users//ASUS//Desktop//ASTROTOOL//streamlit//data','Fib.csv'), index= False)\n",
    "\n",
    "fig = px.bar(fib_hits, x='Date', y='Hit')\n",
    "fig.show()\n",
    "\n",
    "print(fib_hits)\n",
    "\n",
    "########################################################################################################################"
   ]
  },
  {
   "cell_type": "markdown",
   "id": "f78f6048",
   "metadata": {},
   "source": [
    "## 2. Result"
   ]
  },
  {
   "cell_type": "code",
   "execution_count": 93,
   "id": "ae7d289b",
   "metadata": {},
   "outputs": [
    {
     "data": {
      "application/vnd.plotly.v1+json": {
       "config": {
        "plotlyServerURL": "https://plot.ly"
       },
       "data": [
        {
         "alignmentgroup": "True",
         "hovertemplate": "Date=%{x}<br>Hit=%{y}<extra></extra>",
         "legendgroup": "",
         "marker": {
          "color": "#636efa",
          "pattern": {
           "shape": ""
          }
         },
         "name": "",
         "offsetgroup": "",
         "orientation": "v",
         "showlegend": false,
         "textposition": "auto",
         "type": "bar",
         "x": [
          "2023-01-28T00:00:00",
          "2023-01-30T00:00:00",
          "2023-01-31T00:00:00",
          "2023-02-01T00:00:00",
          "2023-02-02T00:00:00",
          "2023-02-04T00:00:00",
          "2023-02-06T00:00:00",
          "2023-02-08T00:00:00",
          "2023-02-09T00:00:00",
          "2023-02-10T00:00:00",
          "2023-02-11T00:00:00",
          "2023-02-13T00:00:00",
          "2023-02-14T00:00:00",
          "2023-02-15T00:00:00",
          "2023-02-16T00:00:00",
          "2023-02-17T00:00:00",
          "2023-02-18T00:00:00",
          "2023-02-19T00:00:00",
          "2023-02-20T00:00:00",
          "2023-02-21T00:00:00",
          "2023-02-23T00:00:00",
          "2023-02-25T00:00:00",
          "2023-02-26T00:00:00",
          "2023-02-27T00:00:00",
          "2023-03-01T00:00:00",
          "2023-03-02T00:00:00",
          "2023-03-03T00:00:00",
          "2023-03-04T00:00:00",
          "2023-03-05T00:00:00",
          "2023-03-07T00:00:00",
          "2023-03-10T00:00:00",
          "2023-03-11T00:00:00",
          "2023-03-12T00:00:00",
          "2023-03-14T00:00:00",
          "2023-03-15T00:00:00",
          "2023-03-16T00:00:00",
          "2023-03-17T00:00:00",
          "2023-03-18T00:00:00",
          "2023-03-19T00:00:00",
          "2023-03-21T00:00:00",
          "2023-03-22T00:00:00",
          "2023-03-23T00:00:00",
          "2023-03-24T00:00:00",
          "2023-03-25T00:00:00",
          "2023-03-27T00:00:00",
          "2023-03-28T00:00:00",
          "2023-03-30T00:00:00",
          "2023-03-31T00:00:00",
          "2023-04-01T00:00:00",
          "2023-04-02T00:00:00",
          "2023-04-03T00:00:00",
          "2023-04-04T00:00:00",
          "2023-04-05T00:00:00",
          "2023-04-06T00:00:00",
          "2023-04-07T00:00:00",
          "2023-04-08T00:00:00",
          "2023-04-09T00:00:00",
          "2023-04-10T00:00:00",
          "2023-04-11T00:00:00",
          "2023-04-12T00:00:00",
          "2023-04-13T00:00:00",
          "2023-04-15T00:00:00",
          "2023-04-17T00:00:00",
          "2023-04-18T00:00:00",
          "2023-04-19T00:00:00",
          "2023-04-20T00:00:00",
          "2023-04-21T00:00:00",
          "2023-04-22T00:00:00",
          "2023-04-23T00:00:00",
          "2023-04-24T00:00:00",
          "2023-04-25T00:00:00",
          "2023-04-26T00:00:00",
          "2023-04-27T00:00:00",
          "2023-04-28T00:00:00"
         ],
         "xaxis": "x",
         "y": [
          6,
          6,
          3,
          1,
          1,
          2,
          3,
          7,
          4,
          1,
          1,
          1,
          3,
          1,
          13,
          2,
          23,
          2,
          2,
          2,
          5,
          4,
          1,
          12,
          2,
          3,
          1,
          3,
          6,
          2,
          2,
          2,
          3,
          1,
          4,
          1,
          3,
          2,
          5,
          12,
          30,
          4,
          1,
          2,
          4,
          3,
          1,
          4,
          13,
          1,
          2,
          7,
          12,
          4,
          2,
          1,
          3,
          10,
          6,
          2,
          5,
          3,
          4,
          2,
          4,
          1,
          1,
          3,
          33,
          2,
          2,
          2,
          2,
          4
         ],
         "yaxis": "y"
        }
       ],
       "layout": {
        "barmode": "relative",
        "legend": {
         "tracegroupgap": 0
        },
        "margin": {
         "t": 60
        },
        "template": {
         "data": {
          "bar": [
           {
            "error_x": {
             "color": "#2a3f5f"
            },
            "error_y": {
             "color": "#2a3f5f"
            },
            "marker": {
             "line": {
              "color": "#E5ECF6",
              "width": 0.5
             },
             "pattern": {
              "fillmode": "overlay",
              "size": 10,
              "solidity": 0.2
             }
            },
            "type": "bar"
           }
          ],
          "barpolar": [
           {
            "marker": {
             "line": {
              "color": "#E5ECF6",
              "width": 0.5
             },
             "pattern": {
              "fillmode": "overlay",
              "size": 10,
              "solidity": 0.2
             }
            },
            "type": "barpolar"
           }
          ],
          "carpet": [
           {
            "aaxis": {
             "endlinecolor": "#2a3f5f",
             "gridcolor": "white",
             "linecolor": "white",
             "minorgridcolor": "white",
             "startlinecolor": "#2a3f5f"
            },
            "baxis": {
             "endlinecolor": "#2a3f5f",
             "gridcolor": "white",
             "linecolor": "white",
             "minorgridcolor": "white",
             "startlinecolor": "#2a3f5f"
            },
            "type": "carpet"
           }
          ],
          "choropleth": [
           {
            "colorbar": {
             "outlinewidth": 0,
             "ticks": ""
            },
            "type": "choropleth"
           }
          ],
          "contour": [
           {
            "colorbar": {
             "outlinewidth": 0,
             "ticks": ""
            },
            "colorscale": [
             [
              0,
              "#0d0887"
             ],
             [
              0.1111111111111111,
              "#46039f"
             ],
             [
              0.2222222222222222,
              "#7201a8"
             ],
             [
              0.3333333333333333,
              "#9c179e"
             ],
             [
              0.4444444444444444,
              "#bd3786"
             ],
             [
              0.5555555555555556,
              "#d8576b"
             ],
             [
              0.6666666666666666,
              "#ed7953"
             ],
             [
              0.7777777777777778,
              "#fb9f3a"
             ],
             [
              0.8888888888888888,
              "#fdca26"
             ],
             [
              1,
              "#f0f921"
             ]
            ],
            "type": "contour"
           }
          ],
          "contourcarpet": [
           {
            "colorbar": {
             "outlinewidth": 0,
             "ticks": ""
            },
            "type": "contourcarpet"
           }
          ],
          "heatmap": [
           {
            "colorbar": {
             "outlinewidth": 0,
             "ticks": ""
            },
            "colorscale": [
             [
              0,
              "#0d0887"
             ],
             [
              0.1111111111111111,
              "#46039f"
             ],
             [
              0.2222222222222222,
              "#7201a8"
             ],
             [
              0.3333333333333333,
              "#9c179e"
             ],
             [
              0.4444444444444444,
              "#bd3786"
             ],
             [
              0.5555555555555556,
              "#d8576b"
             ],
             [
              0.6666666666666666,
              "#ed7953"
             ],
             [
              0.7777777777777778,
              "#fb9f3a"
             ],
             [
              0.8888888888888888,
              "#fdca26"
             ],
             [
              1,
              "#f0f921"
             ]
            ],
            "type": "heatmap"
           }
          ],
          "heatmapgl": [
           {
            "colorbar": {
             "outlinewidth": 0,
             "ticks": ""
            },
            "colorscale": [
             [
              0,
              "#0d0887"
             ],
             [
              0.1111111111111111,
              "#46039f"
             ],
             [
              0.2222222222222222,
              "#7201a8"
             ],
             [
              0.3333333333333333,
              "#9c179e"
             ],
             [
              0.4444444444444444,
              "#bd3786"
             ],
             [
              0.5555555555555556,
              "#d8576b"
             ],
             [
              0.6666666666666666,
              "#ed7953"
             ],
             [
              0.7777777777777778,
              "#fb9f3a"
             ],
             [
              0.8888888888888888,
              "#fdca26"
             ],
             [
              1,
              "#f0f921"
             ]
            ],
            "type": "heatmapgl"
           }
          ],
          "histogram": [
           {
            "marker": {
             "pattern": {
              "fillmode": "overlay",
              "size": 10,
              "solidity": 0.2
             }
            },
            "type": "histogram"
           }
          ],
          "histogram2d": [
           {
            "colorbar": {
             "outlinewidth": 0,
             "ticks": ""
            },
            "colorscale": [
             [
              0,
              "#0d0887"
             ],
             [
              0.1111111111111111,
              "#46039f"
             ],
             [
              0.2222222222222222,
              "#7201a8"
             ],
             [
              0.3333333333333333,
              "#9c179e"
             ],
             [
              0.4444444444444444,
              "#bd3786"
             ],
             [
              0.5555555555555556,
              "#d8576b"
             ],
             [
              0.6666666666666666,
              "#ed7953"
             ],
             [
              0.7777777777777778,
              "#fb9f3a"
             ],
             [
              0.8888888888888888,
              "#fdca26"
             ],
             [
              1,
              "#f0f921"
             ]
            ],
            "type": "histogram2d"
           }
          ],
          "histogram2dcontour": [
           {
            "colorbar": {
             "outlinewidth": 0,
             "ticks": ""
            },
            "colorscale": [
             [
              0,
              "#0d0887"
             ],
             [
              0.1111111111111111,
              "#46039f"
             ],
             [
              0.2222222222222222,
              "#7201a8"
             ],
             [
              0.3333333333333333,
              "#9c179e"
             ],
             [
              0.4444444444444444,
              "#bd3786"
             ],
             [
              0.5555555555555556,
              "#d8576b"
             ],
             [
              0.6666666666666666,
              "#ed7953"
             ],
             [
              0.7777777777777778,
              "#fb9f3a"
             ],
             [
              0.8888888888888888,
              "#fdca26"
             ],
             [
              1,
              "#f0f921"
             ]
            ],
            "type": "histogram2dcontour"
           }
          ],
          "mesh3d": [
           {
            "colorbar": {
             "outlinewidth": 0,
             "ticks": ""
            },
            "type": "mesh3d"
           }
          ],
          "parcoords": [
           {
            "line": {
             "colorbar": {
              "outlinewidth": 0,
              "ticks": ""
             }
            },
            "type": "parcoords"
           }
          ],
          "pie": [
           {
            "automargin": true,
            "type": "pie"
           }
          ],
          "scatter": [
           {
            "marker": {
             "colorbar": {
              "outlinewidth": 0,
              "ticks": ""
             }
            },
            "type": "scatter"
           }
          ],
          "scatter3d": [
           {
            "line": {
             "colorbar": {
              "outlinewidth": 0,
              "ticks": ""
             }
            },
            "marker": {
             "colorbar": {
              "outlinewidth": 0,
              "ticks": ""
             }
            },
            "type": "scatter3d"
           }
          ],
          "scattercarpet": [
           {
            "marker": {
             "colorbar": {
              "outlinewidth": 0,
              "ticks": ""
             }
            },
            "type": "scattercarpet"
           }
          ],
          "scattergeo": [
           {
            "marker": {
             "colorbar": {
              "outlinewidth": 0,
              "ticks": ""
             }
            },
            "type": "scattergeo"
           }
          ],
          "scattergl": [
           {
            "marker": {
             "colorbar": {
              "outlinewidth": 0,
              "ticks": ""
             }
            },
            "type": "scattergl"
           }
          ],
          "scattermapbox": [
           {
            "marker": {
             "colorbar": {
              "outlinewidth": 0,
              "ticks": ""
             }
            },
            "type": "scattermapbox"
           }
          ],
          "scatterpolar": [
           {
            "marker": {
             "colorbar": {
              "outlinewidth": 0,
              "ticks": ""
             }
            },
            "type": "scatterpolar"
           }
          ],
          "scatterpolargl": [
           {
            "marker": {
             "colorbar": {
              "outlinewidth": 0,
              "ticks": ""
             }
            },
            "type": "scatterpolargl"
           }
          ],
          "scatterternary": [
           {
            "marker": {
             "colorbar": {
              "outlinewidth": 0,
              "ticks": ""
             }
            },
            "type": "scatterternary"
           }
          ],
          "surface": [
           {
            "colorbar": {
             "outlinewidth": 0,
             "ticks": ""
            },
            "colorscale": [
             [
              0,
              "#0d0887"
             ],
             [
              0.1111111111111111,
              "#46039f"
             ],
             [
              0.2222222222222222,
              "#7201a8"
             ],
             [
              0.3333333333333333,
              "#9c179e"
             ],
             [
              0.4444444444444444,
              "#bd3786"
             ],
             [
              0.5555555555555556,
              "#d8576b"
             ],
             [
              0.6666666666666666,
              "#ed7953"
             ],
             [
              0.7777777777777778,
              "#fb9f3a"
             ],
             [
              0.8888888888888888,
              "#fdca26"
             ],
             [
              1,
              "#f0f921"
             ]
            ],
            "type": "surface"
           }
          ],
          "table": [
           {
            "cells": {
             "fill": {
              "color": "#EBF0F8"
             },
             "line": {
              "color": "white"
             }
            },
            "header": {
             "fill": {
              "color": "#C8D4E3"
             },
             "line": {
              "color": "white"
             }
            },
            "type": "table"
           }
          ]
         },
         "layout": {
          "annotationdefaults": {
           "arrowcolor": "#2a3f5f",
           "arrowhead": 0,
           "arrowwidth": 1
          },
          "autotypenumbers": "strict",
          "coloraxis": {
           "colorbar": {
            "outlinewidth": 0,
            "ticks": ""
           }
          },
          "colorscale": {
           "diverging": [
            [
             0,
             "#8e0152"
            ],
            [
             0.1,
             "#c51b7d"
            ],
            [
             0.2,
             "#de77ae"
            ],
            [
             0.3,
             "#f1b6da"
            ],
            [
             0.4,
             "#fde0ef"
            ],
            [
             0.5,
             "#f7f7f7"
            ],
            [
             0.6,
             "#e6f5d0"
            ],
            [
             0.7,
             "#b8e186"
            ],
            [
             0.8,
             "#7fbc41"
            ],
            [
             0.9,
             "#4d9221"
            ],
            [
             1,
             "#276419"
            ]
           ],
           "sequential": [
            [
             0,
             "#0d0887"
            ],
            [
             0.1111111111111111,
             "#46039f"
            ],
            [
             0.2222222222222222,
             "#7201a8"
            ],
            [
             0.3333333333333333,
             "#9c179e"
            ],
            [
             0.4444444444444444,
             "#bd3786"
            ],
            [
             0.5555555555555556,
             "#d8576b"
            ],
            [
             0.6666666666666666,
             "#ed7953"
            ],
            [
             0.7777777777777778,
             "#fb9f3a"
            ],
            [
             0.8888888888888888,
             "#fdca26"
            ],
            [
             1,
             "#f0f921"
            ]
           ],
           "sequentialminus": [
            [
             0,
             "#0d0887"
            ],
            [
             0.1111111111111111,
             "#46039f"
            ],
            [
             0.2222222222222222,
             "#7201a8"
            ],
            [
             0.3333333333333333,
             "#9c179e"
            ],
            [
             0.4444444444444444,
             "#bd3786"
            ],
            [
             0.5555555555555556,
             "#d8576b"
            ],
            [
             0.6666666666666666,
             "#ed7953"
            ],
            [
             0.7777777777777778,
             "#fb9f3a"
            ],
            [
             0.8888888888888888,
             "#fdca26"
            ],
            [
             1,
             "#f0f921"
            ]
           ]
          },
          "colorway": [
           "#636efa",
           "#EF553B",
           "#00cc96",
           "#ab63fa",
           "#FFA15A",
           "#19d3f3",
           "#FF6692",
           "#B6E880",
           "#FF97FF",
           "#FECB52"
          ],
          "font": {
           "color": "#2a3f5f"
          },
          "geo": {
           "bgcolor": "white",
           "lakecolor": "white",
           "landcolor": "#E5ECF6",
           "showlakes": true,
           "showland": true,
           "subunitcolor": "white"
          },
          "hoverlabel": {
           "align": "left"
          },
          "hovermode": "closest",
          "mapbox": {
           "style": "light"
          },
          "paper_bgcolor": "white",
          "plot_bgcolor": "#E5ECF6",
          "polar": {
           "angularaxis": {
            "gridcolor": "white",
            "linecolor": "white",
            "ticks": ""
           },
           "bgcolor": "#E5ECF6",
           "radialaxis": {
            "gridcolor": "white",
            "linecolor": "white",
            "ticks": ""
           }
          },
          "scene": {
           "xaxis": {
            "backgroundcolor": "#E5ECF6",
            "gridcolor": "white",
            "gridwidth": 2,
            "linecolor": "white",
            "showbackground": true,
            "ticks": "",
            "zerolinecolor": "white"
           },
           "yaxis": {
            "backgroundcolor": "#E5ECF6",
            "gridcolor": "white",
            "gridwidth": 2,
            "linecolor": "white",
            "showbackground": true,
            "ticks": "",
            "zerolinecolor": "white"
           },
           "zaxis": {
            "backgroundcolor": "#E5ECF6",
            "gridcolor": "white",
            "gridwidth": 2,
            "linecolor": "white",
            "showbackground": true,
            "ticks": "",
            "zerolinecolor": "white"
           }
          },
          "shapedefaults": {
           "line": {
            "color": "#2a3f5f"
           }
          },
          "ternary": {
           "aaxis": {
            "gridcolor": "white",
            "linecolor": "white",
            "ticks": ""
           },
           "baxis": {
            "gridcolor": "white",
            "linecolor": "white",
            "ticks": ""
           },
           "bgcolor": "#E5ECF6",
           "caxis": {
            "gridcolor": "white",
            "linecolor": "white",
            "ticks": ""
           }
          },
          "title": {
           "x": 0.05
          },
          "xaxis": {
           "automargin": true,
           "gridcolor": "white",
           "linecolor": "white",
           "ticks": "",
           "title": {
            "standoff": 15
           },
           "zerolinecolor": "white",
           "zerolinewidth": 2
          },
          "yaxis": {
           "automargin": true,
           "gridcolor": "white",
           "linecolor": "white",
           "ticks": "",
           "title": {
            "standoff": 15
           },
           "zerolinecolor": "white",
           "zerolinewidth": 2
          }
         }
        },
        "xaxis": {
         "anchor": "y",
         "domain": [
          0,
          1
         ],
         "title": {
          "text": "Date"
         }
        },
        "yaxis": {
         "anchor": "x",
         "domain": [
          0,
          1
         ],
         "title": {
          "text": "Hit"
         }
        }
       }
      }
     },
     "metadata": {},
     "output_type": "display_data"
    }
   ],
   "source": [
    "fig = px.bar(fib_hits, x='Date', y='Hit')\n",
    "fig.show()"
   ]
  },
  {
   "cell_type": "markdown",
   "id": "72e0828e",
   "metadata": {},
   "source": [
    "# **XII. Retro.py**"
   ]
  },
  {
   "cell_type": "markdown",
   "id": "87e7f125",
   "metadata": {},
   "source": [
    "## 1. Code"
   ]
  },
  {
   "cell_type": "markdown",
   "id": "b0addf9a",
   "metadata": {},
   "source": [
    "*0 = 0 || 1 = True || 2 = Return*"
   ]
  },
  {
   "cell_type": "code",
   "execution_count": 94,
   "id": "1306e711",
   "metadata": {},
   "outputs": [
    {
     "data": {
      "text/html": [
       "<style type=\"text/css\">\n",
       "</style>\n",
       "<table id=\"T_c0129_\">\n",
       "  <thead>\n",
       "    <tr>\n",
       "      <th class=\"blank level0\" >&nbsp;</th>\n",
       "      <th class=\"col_heading level0 col0\" >Date</th>\n",
       "      <th class=\"col_heading level0 col1\" >Hit</th>\n",
       "    </tr>\n",
       "  </thead>\n",
       "  <tbody>\n",
       "  </tbody>\n",
       "</table>\n"
      ],
      "text/plain": [
       "<pandas.io.formats.style.Styler at 0x2117e32a490>"
      ]
     },
     "execution_count": 94,
     "metadata": {},
     "output_type": "execute_result"
    }
   ],
   "source": [
    "r_h = retrohits.copy()\n",
    "r_h = r_h.fillna(0)\n",
    "\n",
    "r_h['Date'] = pd.to_datetime(r_h['Date'])\n",
    "r_h['Hit'] = r_h['Merc'] + r_h['Ven'] + r_h['Mar'] + r_h['Jup'] + r_h['Sat'] + r_h['Ura'] + r_h['Nep'] + r_h['Plu']\n",
    "r_h = r_h.drop(['Merc', 'Ven', 'Mar', 'Jup', 'Sat', 'Ura', 'Nep', 'Plu'], axis=1)\n",
    "\n",
    "r_h['Date'] = pd.to_datetime(r_h['Date'])  \n",
    "\n",
    "start_date = t  - timedelta(days = 2)\n",
    "end_date = t + timedelta(days = 90)\n",
    "\n",
    "mask = (r_h['Date'] > start_date) & (r_h['Date'] <= end_date)\n",
    "\n",
    "rh_hits = r_h.loc[mask]\n",
    "rh_hits = rh_hits.sort_values(by=['Date'], ascending = True)\n",
    "\n",
    "rh_hits.head(15).style.background_gradient(cmap='Blues')"
   ]
  },
  {
   "cell_type": "code",
   "execution_count": 95,
   "id": "d6628ba1",
   "metadata": {},
   "outputs": [
    {
     "data": {
      "text/html": [
       "<div>\n",
       "<style scoped>\n",
       "    .dataframe tbody tr th:only-of-type {\n",
       "        vertical-align: middle;\n",
       "    }\n",
       "\n",
       "    .dataframe tbody tr th {\n",
       "        vertical-align: top;\n",
       "    }\n",
       "\n",
       "    .dataframe thead th {\n",
       "        text-align: right;\n",
       "    }\n",
       "</style>\n",
       "<table border=\"1\" class=\"dataframe\">\n",
       "  <thead>\n",
       "    <tr style=\"text-align: right;\">\n",
       "      <th></th>\n",
       "      <th>Date</th>\n",
       "      <th>Hit</th>\n",
       "    </tr>\n",
       "  </thead>\n",
       "  <tbody>\n",
       "  </tbody>\n",
       "</table>\n",
       "</div>"
      ],
      "text/plain": [
       "Empty DataFrame\n",
       "Columns: [Date, Hit]\n",
       "Index: []"
      ]
     },
     "execution_count": 95,
     "metadata": {},
     "output_type": "execute_result"
    }
   ],
   "source": [
    "dz_Retro = rh_hits.head(30)\n",
    "dz_Retro.to_csv(os.path.join('C://Users//ASUS//Desktop//ASTROTOOL//streamlit//data','Retro.csv'), index= False)\n",
    "dz_Retro"
   ]
  },
  {
   "cell_type": "markdown",
   "id": "77f55dd5",
   "metadata": {},
   "source": [
    "## 2. Result"
   ]
  },
  {
   "cell_type": "code",
   "execution_count": 96,
   "id": "bcde5ccd",
   "metadata": {},
   "outputs": [
    {
     "data": {
      "application/vnd.plotly.v1+json": {
       "config": {
        "plotlyServerURL": "https://plot.ly"
       },
       "data": [],
       "layout": {
        "barmode": "relative",
        "legend": {
         "tracegroupgap": 0
        },
        "margin": {
         "t": 60
        },
        "template": {
         "data": {
          "bar": [
           {
            "error_x": {
             "color": "#2a3f5f"
            },
            "error_y": {
             "color": "#2a3f5f"
            },
            "marker": {
             "line": {
              "color": "#E5ECF6",
              "width": 0.5
             },
             "pattern": {
              "fillmode": "overlay",
              "size": 10,
              "solidity": 0.2
             }
            },
            "type": "bar"
           }
          ],
          "barpolar": [
           {
            "marker": {
             "line": {
              "color": "#E5ECF6",
              "width": 0.5
             },
             "pattern": {
              "fillmode": "overlay",
              "size": 10,
              "solidity": 0.2
             }
            },
            "type": "barpolar"
           }
          ],
          "carpet": [
           {
            "aaxis": {
             "endlinecolor": "#2a3f5f",
             "gridcolor": "white",
             "linecolor": "white",
             "minorgridcolor": "white",
             "startlinecolor": "#2a3f5f"
            },
            "baxis": {
             "endlinecolor": "#2a3f5f",
             "gridcolor": "white",
             "linecolor": "white",
             "minorgridcolor": "white",
             "startlinecolor": "#2a3f5f"
            },
            "type": "carpet"
           }
          ],
          "choropleth": [
           {
            "colorbar": {
             "outlinewidth": 0,
             "ticks": ""
            },
            "type": "choropleth"
           }
          ],
          "contour": [
           {
            "colorbar": {
             "outlinewidth": 0,
             "ticks": ""
            },
            "colorscale": [
             [
              0,
              "#0d0887"
             ],
             [
              0.1111111111111111,
              "#46039f"
             ],
             [
              0.2222222222222222,
              "#7201a8"
             ],
             [
              0.3333333333333333,
              "#9c179e"
             ],
             [
              0.4444444444444444,
              "#bd3786"
             ],
             [
              0.5555555555555556,
              "#d8576b"
             ],
             [
              0.6666666666666666,
              "#ed7953"
             ],
             [
              0.7777777777777778,
              "#fb9f3a"
             ],
             [
              0.8888888888888888,
              "#fdca26"
             ],
             [
              1,
              "#f0f921"
             ]
            ],
            "type": "contour"
           }
          ],
          "contourcarpet": [
           {
            "colorbar": {
             "outlinewidth": 0,
             "ticks": ""
            },
            "type": "contourcarpet"
           }
          ],
          "heatmap": [
           {
            "colorbar": {
             "outlinewidth": 0,
             "ticks": ""
            },
            "colorscale": [
             [
              0,
              "#0d0887"
             ],
             [
              0.1111111111111111,
              "#46039f"
             ],
             [
              0.2222222222222222,
              "#7201a8"
             ],
             [
              0.3333333333333333,
              "#9c179e"
             ],
             [
              0.4444444444444444,
              "#bd3786"
             ],
             [
              0.5555555555555556,
              "#d8576b"
             ],
             [
              0.6666666666666666,
              "#ed7953"
             ],
             [
              0.7777777777777778,
              "#fb9f3a"
             ],
             [
              0.8888888888888888,
              "#fdca26"
             ],
             [
              1,
              "#f0f921"
             ]
            ],
            "type": "heatmap"
           }
          ],
          "heatmapgl": [
           {
            "colorbar": {
             "outlinewidth": 0,
             "ticks": ""
            },
            "colorscale": [
             [
              0,
              "#0d0887"
             ],
             [
              0.1111111111111111,
              "#46039f"
             ],
             [
              0.2222222222222222,
              "#7201a8"
             ],
             [
              0.3333333333333333,
              "#9c179e"
             ],
             [
              0.4444444444444444,
              "#bd3786"
             ],
             [
              0.5555555555555556,
              "#d8576b"
             ],
             [
              0.6666666666666666,
              "#ed7953"
             ],
             [
              0.7777777777777778,
              "#fb9f3a"
             ],
             [
              0.8888888888888888,
              "#fdca26"
             ],
             [
              1,
              "#f0f921"
             ]
            ],
            "type": "heatmapgl"
           }
          ],
          "histogram": [
           {
            "marker": {
             "pattern": {
              "fillmode": "overlay",
              "size": 10,
              "solidity": 0.2
             }
            },
            "type": "histogram"
           }
          ],
          "histogram2d": [
           {
            "colorbar": {
             "outlinewidth": 0,
             "ticks": ""
            },
            "colorscale": [
             [
              0,
              "#0d0887"
             ],
             [
              0.1111111111111111,
              "#46039f"
             ],
             [
              0.2222222222222222,
              "#7201a8"
             ],
             [
              0.3333333333333333,
              "#9c179e"
             ],
             [
              0.4444444444444444,
              "#bd3786"
             ],
             [
              0.5555555555555556,
              "#d8576b"
             ],
             [
              0.6666666666666666,
              "#ed7953"
             ],
             [
              0.7777777777777778,
              "#fb9f3a"
             ],
             [
              0.8888888888888888,
              "#fdca26"
             ],
             [
              1,
              "#f0f921"
             ]
            ],
            "type": "histogram2d"
           }
          ],
          "histogram2dcontour": [
           {
            "colorbar": {
             "outlinewidth": 0,
             "ticks": ""
            },
            "colorscale": [
             [
              0,
              "#0d0887"
             ],
             [
              0.1111111111111111,
              "#46039f"
             ],
             [
              0.2222222222222222,
              "#7201a8"
             ],
             [
              0.3333333333333333,
              "#9c179e"
             ],
             [
              0.4444444444444444,
              "#bd3786"
             ],
             [
              0.5555555555555556,
              "#d8576b"
             ],
             [
              0.6666666666666666,
              "#ed7953"
             ],
             [
              0.7777777777777778,
              "#fb9f3a"
             ],
             [
              0.8888888888888888,
              "#fdca26"
             ],
             [
              1,
              "#f0f921"
             ]
            ],
            "type": "histogram2dcontour"
           }
          ],
          "mesh3d": [
           {
            "colorbar": {
             "outlinewidth": 0,
             "ticks": ""
            },
            "type": "mesh3d"
           }
          ],
          "parcoords": [
           {
            "line": {
             "colorbar": {
              "outlinewidth": 0,
              "ticks": ""
             }
            },
            "type": "parcoords"
           }
          ],
          "pie": [
           {
            "automargin": true,
            "type": "pie"
           }
          ],
          "scatter": [
           {
            "marker": {
             "colorbar": {
              "outlinewidth": 0,
              "ticks": ""
             }
            },
            "type": "scatter"
           }
          ],
          "scatter3d": [
           {
            "line": {
             "colorbar": {
              "outlinewidth": 0,
              "ticks": ""
             }
            },
            "marker": {
             "colorbar": {
              "outlinewidth": 0,
              "ticks": ""
             }
            },
            "type": "scatter3d"
           }
          ],
          "scattercarpet": [
           {
            "marker": {
             "colorbar": {
              "outlinewidth": 0,
              "ticks": ""
             }
            },
            "type": "scattercarpet"
           }
          ],
          "scattergeo": [
           {
            "marker": {
             "colorbar": {
              "outlinewidth": 0,
              "ticks": ""
             }
            },
            "type": "scattergeo"
           }
          ],
          "scattergl": [
           {
            "marker": {
             "colorbar": {
              "outlinewidth": 0,
              "ticks": ""
             }
            },
            "type": "scattergl"
           }
          ],
          "scattermapbox": [
           {
            "marker": {
             "colorbar": {
              "outlinewidth": 0,
              "ticks": ""
             }
            },
            "type": "scattermapbox"
           }
          ],
          "scatterpolar": [
           {
            "marker": {
             "colorbar": {
              "outlinewidth": 0,
              "ticks": ""
             }
            },
            "type": "scatterpolar"
           }
          ],
          "scatterpolargl": [
           {
            "marker": {
             "colorbar": {
              "outlinewidth": 0,
              "ticks": ""
             }
            },
            "type": "scatterpolargl"
           }
          ],
          "scatterternary": [
           {
            "marker": {
             "colorbar": {
              "outlinewidth": 0,
              "ticks": ""
             }
            },
            "type": "scatterternary"
           }
          ],
          "surface": [
           {
            "colorbar": {
             "outlinewidth": 0,
             "ticks": ""
            },
            "colorscale": [
             [
              0,
              "#0d0887"
             ],
             [
              0.1111111111111111,
              "#46039f"
             ],
             [
              0.2222222222222222,
              "#7201a8"
             ],
             [
              0.3333333333333333,
              "#9c179e"
             ],
             [
              0.4444444444444444,
              "#bd3786"
             ],
             [
              0.5555555555555556,
              "#d8576b"
             ],
             [
              0.6666666666666666,
              "#ed7953"
             ],
             [
              0.7777777777777778,
              "#fb9f3a"
             ],
             [
              0.8888888888888888,
              "#fdca26"
             ],
             [
              1,
              "#f0f921"
             ]
            ],
            "type": "surface"
           }
          ],
          "table": [
           {
            "cells": {
             "fill": {
              "color": "#EBF0F8"
             },
             "line": {
              "color": "white"
             }
            },
            "header": {
             "fill": {
              "color": "#C8D4E3"
             },
             "line": {
              "color": "white"
             }
            },
            "type": "table"
           }
          ]
         },
         "layout": {
          "annotationdefaults": {
           "arrowcolor": "#2a3f5f",
           "arrowhead": 0,
           "arrowwidth": 1
          },
          "autotypenumbers": "strict",
          "coloraxis": {
           "colorbar": {
            "outlinewidth": 0,
            "ticks": ""
           }
          },
          "colorscale": {
           "diverging": [
            [
             0,
             "#8e0152"
            ],
            [
             0.1,
             "#c51b7d"
            ],
            [
             0.2,
             "#de77ae"
            ],
            [
             0.3,
             "#f1b6da"
            ],
            [
             0.4,
             "#fde0ef"
            ],
            [
             0.5,
             "#f7f7f7"
            ],
            [
             0.6,
             "#e6f5d0"
            ],
            [
             0.7,
             "#b8e186"
            ],
            [
             0.8,
             "#7fbc41"
            ],
            [
             0.9,
             "#4d9221"
            ],
            [
             1,
             "#276419"
            ]
           ],
           "sequential": [
            [
             0,
             "#0d0887"
            ],
            [
             0.1111111111111111,
             "#46039f"
            ],
            [
             0.2222222222222222,
             "#7201a8"
            ],
            [
             0.3333333333333333,
             "#9c179e"
            ],
            [
             0.4444444444444444,
             "#bd3786"
            ],
            [
             0.5555555555555556,
             "#d8576b"
            ],
            [
             0.6666666666666666,
             "#ed7953"
            ],
            [
             0.7777777777777778,
             "#fb9f3a"
            ],
            [
             0.8888888888888888,
             "#fdca26"
            ],
            [
             1,
             "#f0f921"
            ]
           ],
           "sequentialminus": [
            [
             0,
             "#0d0887"
            ],
            [
             0.1111111111111111,
             "#46039f"
            ],
            [
             0.2222222222222222,
             "#7201a8"
            ],
            [
             0.3333333333333333,
             "#9c179e"
            ],
            [
             0.4444444444444444,
             "#bd3786"
            ],
            [
             0.5555555555555556,
             "#d8576b"
            ],
            [
             0.6666666666666666,
             "#ed7953"
            ],
            [
             0.7777777777777778,
             "#fb9f3a"
            ],
            [
             0.8888888888888888,
             "#fdca26"
            ],
            [
             1,
             "#f0f921"
            ]
           ]
          },
          "colorway": [
           "#636efa",
           "#EF553B",
           "#00cc96",
           "#ab63fa",
           "#FFA15A",
           "#19d3f3",
           "#FF6692",
           "#B6E880",
           "#FF97FF",
           "#FECB52"
          ],
          "font": {
           "color": "#2a3f5f"
          },
          "geo": {
           "bgcolor": "white",
           "lakecolor": "white",
           "landcolor": "#E5ECF6",
           "showlakes": true,
           "showland": true,
           "subunitcolor": "white"
          },
          "hoverlabel": {
           "align": "left"
          },
          "hovermode": "closest",
          "mapbox": {
           "style": "light"
          },
          "paper_bgcolor": "white",
          "plot_bgcolor": "#E5ECF6",
          "polar": {
           "angularaxis": {
            "gridcolor": "white",
            "linecolor": "white",
            "ticks": ""
           },
           "bgcolor": "#E5ECF6",
           "radialaxis": {
            "gridcolor": "white",
            "linecolor": "white",
            "ticks": ""
           }
          },
          "scene": {
           "xaxis": {
            "backgroundcolor": "#E5ECF6",
            "gridcolor": "white",
            "gridwidth": 2,
            "linecolor": "white",
            "showbackground": true,
            "ticks": "",
            "zerolinecolor": "white"
           },
           "yaxis": {
            "backgroundcolor": "#E5ECF6",
            "gridcolor": "white",
            "gridwidth": 2,
            "linecolor": "white",
            "showbackground": true,
            "ticks": "",
            "zerolinecolor": "white"
           },
           "zaxis": {
            "backgroundcolor": "#E5ECF6",
            "gridcolor": "white",
            "gridwidth": 2,
            "linecolor": "white",
            "showbackground": true,
            "ticks": "",
            "zerolinecolor": "white"
           }
          },
          "shapedefaults": {
           "line": {
            "color": "#2a3f5f"
           }
          },
          "ternary": {
           "aaxis": {
            "gridcolor": "white",
            "linecolor": "white",
            "ticks": ""
           },
           "baxis": {
            "gridcolor": "white",
            "linecolor": "white",
            "ticks": ""
           },
           "bgcolor": "#E5ECF6",
           "caxis": {
            "gridcolor": "white",
            "linecolor": "white",
            "ticks": ""
           }
          },
          "title": {
           "x": 0.05
          },
          "xaxis": {
           "automargin": true,
           "gridcolor": "white",
           "linecolor": "white",
           "ticks": "",
           "title": {
            "standoff": 15
           },
           "zerolinecolor": "white",
           "zerolinewidth": 2
          },
          "yaxis": {
           "automargin": true,
           "gridcolor": "white",
           "linecolor": "white",
           "ticks": "",
           "title": {
            "standoff": 15
           },
           "zerolinecolor": "white",
           "zerolinewidth": 2
          }
         }
        },
        "xaxis": {
         "anchor": "y",
         "domain": [
          0,
          1
         ],
         "title": {
          "text": "Date"
         }
        },
        "yaxis": {
         "anchor": "x",
         "domain": [
          0,
          1
         ],
         "title": {
          "text": "Hit"
         }
        }
       }
      }
     },
     "metadata": {},
     "output_type": "display_data"
    }
   ],
   "source": [
    "fig = px.bar(rh_hits, x='Date', y='Hit')\n",
    "fig.show()"
   ]
  },
  {
   "cell_type": "markdown",
   "id": "649c6d9f",
   "metadata": {},
   "source": [
    "# **XIII. PriceTime.py**"
   ]
  },
  {
   "cell_type": "markdown",
   "id": "78e60ebc",
   "metadata": {},
   "source": [
    "## 1. Code"
   ]
  },
  {
   "cell_type": "code",
   "execution_count": 97,
   "id": "6b3498f6",
   "metadata": {},
   "outputs": [],
   "source": [
    "from datetime import datetime\n",
    "\n",
    "p_t = nega.copy()\n",
    "\n",
    "p_t['Date'] = d = pd.to_datetime(p_t['Date'])\n",
    "p_t['Date'] = p_t['Date'].dt.strftime('%Y/%m/%d')\n",
    "\n",
    "twoday = datetime.strftime(datetime.now(), \"%Y/%m/%d\")\n",
    "t = pd.to_datetime(twoday)\n",
    "\n",
    "p_t['Elapsed'] = t - d\n",
    "p_t['Elapsed'] = p_t['Elapsed'].dt.days.to_numpy()\n",
    "\n",
    "p_t['Sqrt'] = p_t['Elapsed'] ** (1/2)\n",
    "p_t['Sqrt'] = p_t['Sqrt'].round(2)\n",
    "sq = p_t['Sqrt']"
   ]
  },
  {
   "cell_type": "code",
   "execution_count": 98,
   "id": "7ad684c1",
   "metadata": {},
   "outputs": [
    {
     "data": {
      "text/html": [
       "<div>\n",
       "<style scoped>\n",
       "    .dataframe tbody tr th:only-of-type {\n",
       "        vertical-align: middle;\n",
       "    }\n",
       "\n",
       "    .dataframe tbody tr th {\n",
       "        vertical-align: top;\n",
       "    }\n",
       "\n",
       "    .dataframe thead th {\n",
       "        text-align: right;\n",
       "    }\n",
       "</style>\n",
       "<table border=\"1\" class=\"dataframe\">\n",
       "  <thead>\n",
       "    <tr style=\"text-align: right;\">\n",
       "      <th></th>\n",
       "      <th>1</th>\n",
       "      <th>2</th>\n",
       "      <th>3</th>\n",
       "      <th>4</th>\n",
       "      <th>5</th>\n",
       "      <th>6</th>\n",
       "      <th>7</th>\n",
       "      <th>8</th>\n",
       "      <th>9</th>\n",
       "      <th>10</th>\n",
       "      <th>...</th>\n",
       "      <th>12</th>\n",
       "      <th>13</th>\n",
       "      <th>14</th>\n",
       "      <th>15</th>\n",
       "      <th>16</th>\n",
       "      <th>17</th>\n",
       "      <th>18</th>\n",
       "      <th>19</th>\n",
       "      <th>20</th>\n",
       "      <th>21</th>\n",
       "    </tr>\n",
       "  </thead>\n",
       "  <tbody>\n",
       "    <tr>\n",
       "      <th>0</th>\n",
       "      <td>2008/12/12</td>\n",
       "      <td>2008/12/26</td>\n",
       "      <td>2009/01/12</td>\n",
       "      <td>2009/01/30</td>\n",
       "      <td>2009/02/19</td>\n",
       "      <td>2009/03/13</td>\n",
       "      <td>2009/04/06</td>\n",
       "      <td>2009/05/02</td>\n",
       "      <td>2009/05/30</td>\n",
       "      <td>2009/06/29</td>\n",
       "      <td>...</td>\n",
       "      <td>2009/09/03</td>\n",
       "      <td>2009/10/10</td>\n",
       "      <td>2009/11/17</td>\n",
       "      <td>2009/12/27</td>\n",
       "      <td>2010/02/07</td>\n",
       "      <td>2010/03/23</td>\n",
       "      <td>2010/05/08</td>\n",
       "      <td>2010/06/25</td>\n",
       "      <td>2010/08/14</td>\n",
       "      <td>2010/10/05</td>\n",
       "    </tr>\n",
       "    <tr>\n",
       "      <th>1</th>\n",
       "      <td>2009/02/14</td>\n",
       "      <td>2009/02/28</td>\n",
       "      <td>2009/03/16</td>\n",
       "      <td>2009/04/03</td>\n",
       "      <td>2009/04/23</td>\n",
       "      <td>2009/05/15</td>\n",
       "      <td>2009/06/08</td>\n",
       "      <td>2009/07/04</td>\n",
       "      <td>2009/08/01</td>\n",
       "      <td>2009/08/31</td>\n",
       "      <td>...</td>\n",
       "      <td>2009/11/05</td>\n",
       "      <td>2009/12/11</td>\n",
       "      <td>2010/01/18</td>\n",
       "      <td>2010/02/27</td>\n",
       "      <td>2010/04/10</td>\n",
       "      <td>2010/05/24</td>\n",
       "      <td>2010/07/09</td>\n",
       "      <td>2010/08/26</td>\n",
       "      <td>2010/10/15</td>\n",
       "      <td>2010/12/06</td>\n",
       "    </tr>\n",
       "    <tr>\n",
       "      <th>2</th>\n",
       "      <td>2013/05/11</td>\n",
       "      <td>2013/05/23</td>\n",
       "      <td>2013/06/06</td>\n",
       "      <td>2013/06/22</td>\n",
       "      <td>2013/07/11</td>\n",
       "      <td>2013/07/31</td>\n",
       "      <td>2013/08/22</td>\n",
       "      <td>2013/09/15</td>\n",
       "      <td>2013/10/12</td>\n",
       "      <td>2013/11/09</td>\n",
       "      <td>...</td>\n",
       "      <td>2014/01/10</td>\n",
       "      <td>2014/02/13</td>\n",
       "      <td>2014/03/22</td>\n",
       "      <td>2014/04/29</td>\n",
       "      <td>2014/06/08</td>\n",
       "      <td>2014/07/20</td>\n",
       "      <td>2014/09/02</td>\n",
       "      <td>2014/10/19</td>\n",
       "      <td>2014/12/06</td>\n",
       "      <td>2015/01/25</td>\n",
       "    </tr>\n",
       "    <tr>\n",
       "      <th>3</th>\n",
       "      <td>2013/08/02</td>\n",
       "      <td>2013/08/14</td>\n",
       "      <td>2013/08/28</td>\n",
       "      <td>2013/09/14</td>\n",
       "      <td>2013/10/02</td>\n",
       "      <td>2013/10/22</td>\n",
       "      <td>2013/11/13</td>\n",
       "      <td>2013/12/07</td>\n",
       "      <td>2014/01/02</td>\n",
       "      <td>2014/01/30</td>\n",
       "      <td>...</td>\n",
       "      <td>2014/04/02</td>\n",
       "      <td>2014/05/06</td>\n",
       "      <td>2014/06/12</td>\n",
       "      <td>2014/07/20</td>\n",
       "      <td>2014/08/29</td>\n",
       "      <td>2014/10/10</td>\n",
       "      <td>2014/11/23</td>\n",
       "      <td>2015/01/08</td>\n",
       "      <td>2015/02/25</td>\n",
       "      <td>2015/04/16</td>\n",
       "    </tr>\n",
       "    <tr>\n",
       "      <th>4</th>\n",
       "      <td>2013/11/04</td>\n",
       "      <td>2013/11/16</td>\n",
       "      <td>2013/11/30</td>\n",
       "      <td>2013/12/16</td>\n",
       "      <td>2014/01/03</td>\n",
       "      <td>2014/01/22</td>\n",
       "      <td>2014/02/13</td>\n",
       "      <td>2014/03/09</td>\n",
       "      <td>2014/04/04</td>\n",
       "      <td>2014/05/02</td>\n",
       "      <td>...</td>\n",
       "      <td>2014/07/03</td>\n",
       "      <td>2014/08/06</td>\n",
       "      <td>2014/09/11</td>\n",
       "      <td>2014/10/19</td>\n",
       "      <td>2014/11/28</td>\n",
       "      <td>2015/01/09</td>\n",
       "      <td>2015/02/22</td>\n",
       "      <td>2015/04/09</td>\n",
       "      <td>2015/05/27</td>\n",
       "      <td>2015/07/16</td>\n",
       "    </tr>\n",
       "    <tr>\n",
       "      <th>...</th>\n",
       "      <td>...</td>\n",
       "      <td>...</td>\n",
       "      <td>...</td>\n",
       "      <td>...</td>\n",
       "      <td>...</td>\n",
       "      <td>...</td>\n",
       "      <td>...</td>\n",
       "      <td>...</td>\n",
       "      <td>...</td>\n",
       "      <td>...</td>\n",
       "      <td>...</td>\n",
       "      <td>...</td>\n",
       "      <td>...</td>\n",
       "      <td>...</td>\n",
       "      <td>...</td>\n",
       "      <td>...</td>\n",
       "      <td>...</td>\n",
       "      <td>...</td>\n",
       "      <td>...</td>\n",
       "      <td>...</td>\n",
       "      <td>...</td>\n",
       "    </tr>\n",
       "    <tr>\n",
       "      <th>57</th>\n",
       "      <td>2022/01/02</td>\n",
       "      <td>2022/01/08</td>\n",
       "      <td>2022/01/16</td>\n",
       "      <td>2022/01/26</td>\n",
       "      <td>2022/02/07</td>\n",
       "      <td>2022/02/21</td>\n",
       "      <td>2022/03/09</td>\n",
       "      <td>2022/03/27</td>\n",
       "      <td>2022/04/16</td>\n",
       "      <td>2022/05/08</td>\n",
       "      <td>...</td>\n",
       "      <td>2022/06/28</td>\n",
       "      <td>2022/07/26</td>\n",
       "      <td>2022/08/25</td>\n",
       "      <td>2022/09/26</td>\n",
       "      <td>2022/10/30</td>\n",
       "      <td>2022/12/05</td>\n",
       "      <td>2023/01/12</td>\n",
       "      <td>2023/02/21</td>\n",
       "      <td>2023/04/04</td>\n",
       "      <td>2023/05/18</td>\n",
       "    </tr>\n",
       "    <tr>\n",
       "      <th>58</th>\n",
       "      <td>2022/01/30</td>\n",
       "      <td>2022/02/05</td>\n",
       "      <td>2022/02/13</td>\n",
       "      <td>2022/02/23</td>\n",
       "      <td>2022/03/06</td>\n",
       "      <td>2022/03/20</td>\n",
       "      <td>2022/04/05</td>\n",
       "      <td>2022/04/23</td>\n",
       "      <td>2022/05/13</td>\n",
       "      <td>2022/06/04</td>\n",
       "      <td>...</td>\n",
       "      <td>2022/07/24</td>\n",
       "      <td>2022/08/21</td>\n",
       "      <td>2022/09/20</td>\n",
       "      <td>2022/10/22</td>\n",
       "      <td>2022/11/25</td>\n",
       "      <td>2022/12/31</td>\n",
       "      <td>2023/02/07</td>\n",
       "      <td>2023/03/19</td>\n",
       "      <td>2023/04/30</td>\n",
       "      <td>2023/06/13</td>\n",
       "    </tr>\n",
       "    <tr>\n",
       "      <th>59</th>\n",
       "      <td>2022/03/01</td>\n",
       "      <td>2022/03/07</td>\n",
       "      <td>2022/03/15</td>\n",
       "      <td>2022/03/25</td>\n",
       "      <td>2022/04/06</td>\n",
       "      <td>2022/04/19</td>\n",
       "      <td>2022/05/05</td>\n",
       "      <td>2022/05/23</td>\n",
       "      <td>2022/06/12</td>\n",
       "      <td>2022/07/04</td>\n",
       "      <td>...</td>\n",
       "      <td>2022/08/22</td>\n",
       "      <td>2022/09/19</td>\n",
       "      <td>2022/10/19</td>\n",
       "      <td>2022/11/20</td>\n",
       "      <td>2022/12/24</td>\n",
       "      <td>2023/01/29</td>\n",
       "      <td>2023/03/07</td>\n",
       "      <td>2023/04/16</td>\n",
       "      <td>2023/05/28</td>\n",
       "      <td>2023/07/11</td>\n",
       "    </tr>\n",
       "    <tr>\n",
       "      <th>60</th>\n",
       "      <td>2022/04/03</td>\n",
       "      <td>2022/04/09</td>\n",
       "      <td>2022/04/16</td>\n",
       "      <td>2022/04/26</td>\n",
       "      <td>2022/05/08</td>\n",
       "      <td>2022/05/21</td>\n",
       "      <td>2022/06/06</td>\n",
       "      <td>2022/06/24</td>\n",
       "      <td>2022/07/13</td>\n",
       "      <td>2022/08/04</td>\n",
       "      <td>...</td>\n",
       "      <td>2022/09/23</td>\n",
       "      <td>2022/10/20</td>\n",
       "      <td>2022/11/19</td>\n",
       "      <td>2022/12/21</td>\n",
       "      <td>2023/01/23</td>\n",
       "      <td>2023/02/28</td>\n",
       "      <td>2023/04/07</td>\n",
       "      <td>2023/05/16</td>\n",
       "      <td>2023/06/27</td>\n",
       "      <td>2023/08/10</td>\n",
       "    </tr>\n",
       "    <tr>\n",
       "      <th>61</th>\n",
       "      <td>2022/06/22</td>\n",
       "      <td>2022/06/27</td>\n",
       "      <td>2022/07/05</td>\n",
       "      <td>2022/07/14</td>\n",
       "      <td>2022/07/25</td>\n",
       "      <td>2022/08/08</td>\n",
       "      <td>2022/08/23</td>\n",
       "      <td>2022/09/09</td>\n",
       "      <td>2022/09/29</td>\n",
       "      <td>2022/10/20</td>\n",
       "      <td>...</td>\n",
       "      <td>2022/12/07</td>\n",
       "      <td>2023/01/04</td>\n",
       "      <td>2023/02/02</td>\n",
       "      <td>2023/03/05</td>\n",
       "      <td>2023/04/08</td>\n",
       "      <td>2023/05/13</td>\n",
       "      <td>2023/06/19</td>\n",
       "      <td>2023/07/29</td>\n",
       "      <td>2023/09/08</td>\n",
       "      <td>2023/10/21</td>\n",
       "    </tr>\n",
       "  </tbody>\n",
       "</table>\n",
       "<p>62 rows × 21 columns</p>\n",
       "</div>"
      ],
      "text/plain": [
       "             1           2           3           4           5           6  \\\n",
       "0   2008/12/12  2008/12/26  2009/01/12  2009/01/30  2009/02/19  2009/03/13   \n",
       "1   2009/02/14  2009/02/28  2009/03/16  2009/04/03  2009/04/23  2009/05/15   \n",
       "2   2013/05/11  2013/05/23  2013/06/06  2013/06/22  2013/07/11  2013/07/31   \n",
       "3   2013/08/02  2013/08/14  2013/08/28  2013/09/14  2013/10/02  2013/10/22   \n",
       "4   2013/11/04  2013/11/16  2013/11/30  2013/12/16  2014/01/03  2014/01/22   \n",
       "..         ...         ...         ...         ...         ...         ...   \n",
       "57  2022/01/02  2022/01/08  2022/01/16  2022/01/26  2022/02/07  2022/02/21   \n",
       "58  2022/01/30  2022/02/05  2022/02/13  2022/02/23  2022/03/06  2022/03/20   \n",
       "59  2022/03/01  2022/03/07  2022/03/15  2022/03/25  2022/04/06  2022/04/19   \n",
       "60  2022/04/03  2022/04/09  2022/04/16  2022/04/26  2022/05/08  2022/05/21   \n",
       "61  2022/06/22  2022/06/27  2022/07/05  2022/07/14  2022/07/25  2022/08/08   \n",
       "\n",
       "             7           8           9          10  ...          12  \\\n",
       "0   2009/04/06  2009/05/02  2009/05/30  2009/06/29  ...  2009/09/03   \n",
       "1   2009/06/08  2009/07/04  2009/08/01  2009/08/31  ...  2009/11/05   \n",
       "2   2013/08/22  2013/09/15  2013/10/12  2013/11/09  ...  2014/01/10   \n",
       "3   2013/11/13  2013/12/07  2014/01/02  2014/01/30  ...  2014/04/02   \n",
       "4   2014/02/13  2014/03/09  2014/04/04  2014/05/02  ...  2014/07/03   \n",
       "..         ...         ...         ...         ...  ...         ...   \n",
       "57  2022/03/09  2022/03/27  2022/04/16  2022/05/08  ...  2022/06/28   \n",
       "58  2022/04/05  2022/04/23  2022/05/13  2022/06/04  ...  2022/07/24   \n",
       "59  2022/05/05  2022/05/23  2022/06/12  2022/07/04  ...  2022/08/22   \n",
       "60  2022/06/06  2022/06/24  2022/07/13  2022/08/04  ...  2022/09/23   \n",
       "61  2022/08/23  2022/09/09  2022/09/29  2022/10/20  ...  2022/12/07   \n",
       "\n",
       "            13          14          15          16          17          18  \\\n",
       "0   2009/10/10  2009/11/17  2009/12/27  2010/02/07  2010/03/23  2010/05/08   \n",
       "1   2009/12/11  2010/01/18  2010/02/27  2010/04/10  2010/05/24  2010/07/09   \n",
       "2   2014/02/13  2014/03/22  2014/04/29  2014/06/08  2014/07/20  2014/09/02   \n",
       "3   2014/05/06  2014/06/12  2014/07/20  2014/08/29  2014/10/10  2014/11/23   \n",
       "4   2014/08/06  2014/09/11  2014/10/19  2014/11/28  2015/01/09  2015/02/22   \n",
       "..         ...         ...         ...         ...         ...         ...   \n",
       "57  2022/07/26  2022/08/25  2022/09/26  2022/10/30  2022/12/05  2023/01/12   \n",
       "58  2022/08/21  2022/09/20  2022/10/22  2022/11/25  2022/12/31  2023/02/07   \n",
       "59  2022/09/19  2022/10/19  2022/11/20  2022/12/24  2023/01/29  2023/03/07   \n",
       "60  2022/10/20  2022/11/19  2022/12/21  2023/01/23  2023/02/28  2023/04/07   \n",
       "61  2023/01/04  2023/02/02  2023/03/05  2023/04/08  2023/05/13  2023/06/19   \n",
       "\n",
       "            19          20          21  \n",
       "0   2010/06/25  2010/08/14  2010/10/05  \n",
       "1   2010/08/26  2010/10/15  2010/12/06  \n",
       "2   2014/10/19  2014/12/06  2015/01/25  \n",
       "3   2015/01/08  2015/02/25  2015/04/16  \n",
       "4   2015/04/09  2015/05/27  2015/07/16  \n",
       "..         ...         ...         ...  \n",
       "57  2023/02/21  2023/04/04  2023/05/18  \n",
       "58  2023/03/19  2023/04/30  2023/06/13  \n",
       "59  2023/04/16  2023/05/28  2023/07/11  \n",
       "60  2023/05/16  2023/06/27  2023/08/10  \n",
       "61  2023/07/29  2023/09/08  2023/10/21  \n",
       "\n",
       "[62 rows x 21 columns]"
      ]
     },
     "execution_count": 98,
     "metadata": {},
     "output_type": "execute_result"
    }
   ],
   "source": [
    "op13 = (((sq / 13).to_numpy().reshape(-1, 1) + (np.arange(1, 22)).reshape(1, -1)) ** 2)\n",
    "pt13 = op13.astype('timedelta64[D]') + d.to_numpy().reshape(-1, 1)\n",
    "\n",
    "pt13 = pd.DataFrame(pt13, columns=['1', '2', '3', '4', '5','6','7','8','9', '10', '11', '12', '13', '14', '15', '16', '17', '18', '19', '20', '21'])\n",
    "\n",
    "pt13['1'] = pt13['1'].dt.strftime('%Y/%m/%d')\n",
    "pt13['2'] = pt13['2'].dt.strftime('%Y/%m/%d')\n",
    "pt13['3'] = pt13['3'].dt.strftime('%Y/%m/%d')\n",
    "pt13['4'] = pt13['4'].dt.strftime('%Y/%m/%d')\n",
    "pt13['5'] = pt13['5'].dt.strftime('%Y/%m/%d')\n",
    "pt13['6'] = pt13['6'].dt.strftime('%Y/%m/%d')\n",
    "pt13['7'] = pt13['7'].dt.strftime('%Y/%m/%d')\n",
    "pt13['8'] = pt13['8'].dt.strftime('%Y/%m/%d')\n",
    "pt13['9'] = pt13['9'].dt.strftime('%Y/%m/%d')\n",
    "pt13['10'] = pt13['10'].dt.strftime('%Y/%m/%d')\n",
    "pt13['11'] = pt13['11'].dt.strftime('%Y/%m/%d')\n",
    "pt13['12'] = pt13['12'].dt.strftime('%Y/%m/%d')\n",
    "pt13['13'] = pt13['13'].dt.strftime('%Y/%m/%d')\n",
    "pt13['14'] = pt13['14'].dt.strftime('%Y/%m/%d')\n",
    "pt13['15'] = pt13['15'].dt.strftime('%Y/%m/%d')\n",
    "pt13['16'] = pt13['16'].dt.strftime('%Y/%m/%d')\n",
    "pt13['17'] = pt13['17'].dt.strftime('%Y/%m/%d')\n",
    "pt13['18'] = pt13['18'].dt.strftime('%Y/%m/%d')\n",
    "pt13['19'] = pt13['19'].dt.strftime('%Y/%m/%d')\n",
    "pt13['20'] = pt13['20'].dt.strftime('%Y/%m/%d')\n",
    "pt13['21'] = pt13['21'].dt.strftime('%Y/%m/%d')\n",
    "\n",
    "pt13"
   ]
  },
  {
   "cell_type": "code",
   "execution_count": 99,
   "id": "cf72ef0d",
   "metadata": {},
   "outputs": [],
   "source": [
    "op21 = (((sq / 21).to_numpy().reshape(-1, 1) + (np.arange(1, 22)).reshape(1, -1)) ** 2)\n",
    "pt21 = op21.astype('timedelta64[D]') + d.to_numpy().reshape(-1, 1)\n",
    "\n",
    "pt21 = pd.DataFrame(pt21, columns=['1', '2', '3', '4', '5','6','7','8','9', '10', '11', '12', '13', '14', '15', '16', '17', '18', '19', '20', '21'])\n",
    "pt21['1'] = pt21['1'].dt.strftime('%Y/%m/%d')\n",
    "pt21['2'] = pt21['2'].dt.strftime('%Y/%m/%d')\n",
    "pt21['3'] = pt21['3'].dt.strftime('%Y/%m/%d')\n",
    "pt21['4'] = pt21['4'].dt.strftime('%Y/%m/%d')\n",
    "pt21['5'] = pt21['5'].dt.strftime('%Y/%m/%d')\n",
    "pt21['6'] = pt21['6'].dt.strftime('%Y/%m/%d')\n",
    "pt21['7'] = pt21['7'].dt.strftime('%Y/%m/%d')\n",
    "pt21['8'] = pt21['8'].dt.strftime('%Y/%m/%d')\n",
    "pt21['9'] = pt21['9'].dt.strftime('%Y/%m/%d')\n",
    "pt21['10'] = pt21['10'].dt.strftime('%Y/%m/%d')\n",
    "pt21['11'] = pt21['11'].dt.strftime('%Y/%m/%d')\n",
    "pt21['12'] = pt21['12'].dt.strftime('%Y/%m/%d')\n",
    "pt21['13'] = pt21['13'].dt.strftime('%Y/%m/%d')\n",
    "pt21['14'] = pt21['14'].dt.strftime('%Y/%m/%d')\n",
    "pt21['15'] = pt21['15'].dt.strftime('%Y/%m/%d')\n",
    "pt21['16'] = pt21['16'].dt.strftime('%Y/%m/%d')\n",
    "pt21['17'] = pt21['17'].dt.strftime('%Y/%m/%d')\n",
    "pt21['18'] = pt21['18'].dt.strftime('%Y/%m/%d')\n",
    "pt21['19'] = pt21['19'].dt.strftime('%Y/%m/%d')\n",
    "pt21['20'] = pt21['20'].dt.strftime('%Y/%m/%d')\n",
    "pt21['21'] = pt21['21'].dt.strftime('%Y/%m/%d')"
   ]
  },
  {
   "cell_type": "code",
   "execution_count": 100,
   "id": "d2455cfa",
   "metadata": {},
   "outputs": [],
   "source": [
    "op34 = (((sq / 34).to_numpy().reshape(-1, 1) + (np.arange(1, 22)).reshape(1, -1)) ** 2)\n",
    "pt34 = op34.astype('timedelta64[D]') + d.to_numpy().reshape(-1, 1)\n",
    "\n",
    "pt34 = pd.DataFrame(pt34, columns=['1', '2', '3', '4', '5','6','7','8','9', '10', '11', '12', '13', '14', '15', '16', '17', '18', '19', '20', '21'])\n",
    "pt34['1'] = pt34['1'].dt.strftime('%Y/%m/%d')\n",
    "pt34['2'] = pt34['2'].dt.strftime('%Y/%m/%d')\n",
    "pt34['3'] = pt34['3'].dt.strftime('%Y/%m/%d')\n",
    "pt34['4'] = pt34['4'].dt.strftime('%Y/%m/%d')\n",
    "pt34['5'] = pt34['5'].dt.strftime('%Y/%m/%d')\n",
    "pt34['6'] = pt34['6'].dt.strftime('%Y/%m/%d')\n",
    "pt34['7'] = pt34['7'].dt.strftime('%Y/%m/%d')\n",
    "pt34['8'] = pt34['8'].dt.strftime('%Y/%m/%d')\n",
    "pt34['9'] = pt34['9'].dt.strftime('%Y/%m/%d')\n",
    "pt34['10'] = pt34['10'].dt.strftime('%Y/%m/%d')\n",
    "pt34['11'] = pt34['11'].dt.strftime('%Y/%m/%d')\n",
    "pt34['12'] = pt34['12'].dt.strftime('%Y/%m/%d')\n",
    "pt34['13'] = pt34['13'].dt.strftime('%Y/%m/%d')\n",
    "pt34['14'] = pt34['14'].dt.strftime('%Y/%m/%d')\n",
    "pt34['15'] = pt34['15'].dt.strftime('%Y/%m/%d')\n",
    "pt34['16'] = pt34['16'].dt.strftime('%Y/%m/%d')\n",
    "pt34['17'] = pt34['17'].dt.strftime('%Y/%m/%d')\n",
    "pt34['18'] = pt34['18'].dt.strftime('%Y/%m/%d')\n",
    "pt34['19'] = pt34['19'].dt.strftime('%Y/%m/%d')\n",
    "pt34['20'] = pt34['20'].dt.strftime('%Y/%m/%d')\n",
    "pt34['21'] = pt34['21'].dt.strftime('%Y/%m/%d')"
   ]
  },
  {
   "cell_type": "code",
   "execution_count": 101,
   "id": "7dafecf3",
   "metadata": {},
   "outputs": [],
   "source": [
    "op55 = (((sq / 55).to_numpy().reshape(-1, 1) + (np.arange(1, 22)).reshape(1, -1)) ** 2)\n",
    "pt55 = op55.astype('timedelta64[D]') + d.to_numpy().reshape(-1, 1)\n",
    "\n",
    "pt55 = pd.DataFrame(pt55, columns=['1', '2', '3', '4', '5','6','7','8','9', '10', '11', '12', '13', '14', '15', '16', '17', '18', '19', '20', '21'])\n",
    "pt55['1'] = pt55['1'].dt.strftime('%Y/%m/%d')\n",
    "pt55['2'] = pt55['2'].dt.strftime('%Y/%m/%d')\n",
    "pt55['3'] = pt55['3'].dt.strftime('%Y/%m/%d')\n",
    "pt55['4'] = pt55['4'].dt.strftime('%Y/%m/%d')\n",
    "pt55['5'] = pt55['5'].dt.strftime('%Y/%m/%d')\n",
    "pt55['6'] = pt55['6'].dt.strftime('%Y/%m/%d')\n",
    "pt55['7'] = pt55['7'].dt.strftime('%Y/%m/%d')\n",
    "pt55['8'] = pt55['8'].dt.strftime('%Y/%m/%d')\n",
    "pt55['9'] = pt55['9'].dt.strftime('%Y/%m/%d')\n",
    "pt55['10'] = pt55['10'].dt.strftime('%Y/%m/%d')\n",
    "pt55['11'] = pt55['11'].dt.strftime('%Y/%m/%d')\n",
    "pt55['12'] = pt55['12'].dt.strftime('%Y/%m/%d')\n",
    "pt55['13'] = pt55['13'].dt.strftime('%Y/%m/%d')\n",
    "pt55['14'] = pt55['14'].dt.strftime('%Y/%m/%d')\n",
    "pt55['15'] = pt55['15'].dt.strftime('%Y/%m/%d')\n",
    "pt55['16'] = pt55['16'].dt.strftime('%Y/%m/%d')\n",
    "pt55['17'] = pt55['17'].dt.strftime('%Y/%m/%d')\n",
    "pt55['18'] = pt55['18'].dt.strftime('%Y/%m/%d')\n",
    "pt55['19'] = pt55['19'].dt.strftime('%Y/%m/%d')\n",
    "pt55['20'] = pt55['20'].dt.strftime('%Y/%m/%d')\n",
    "pt55['21'] = pt55['21'].dt.strftime('%Y/%m/%d')"
   ]
  },
  {
   "cell_type": "code",
   "execution_count": 102,
   "id": "6f403d8d",
   "metadata": {},
   "outputs": [],
   "source": [
    "op89 = (((sq / 89).to_numpy().reshape(-1, 1) + (np.arange(1, 22)).reshape(1, -1)) ** 2)\n",
    "pt89 = op89.astype('timedelta64[D]') + d.to_numpy().reshape(-1, 1)\n",
    "\n",
    "pt89 = pd.DataFrame(pt89, columns=['1', '2', '3', '4', '5','6','7','8','9', '10', '11', '12', '13', '14', '15', '16', '17', '18', '19', '20', '21'])\n",
    "pt89['1'] = pt89['1'].dt.strftime('%Y/%m/%d')\n",
    "pt89['2'] = pt89['2'].dt.strftime('%Y/%m/%d')\n",
    "pt89['3'] = pt89['3'].dt.strftime('%Y/%m/%d')\n",
    "pt89['4'] = pt89['4'].dt.strftime('%Y/%m/%d')\n",
    "pt89['5'] = pt89['5'].dt.strftime('%Y/%m/%d')\n",
    "pt89['6'] = pt89['6'].dt.strftime('%Y/%m/%d')\n",
    "pt89['7'] = pt89['7'].dt.strftime('%Y/%m/%d')\n",
    "pt89['8'] = pt89['8'].dt.strftime('%Y/%m/%d')\n",
    "pt89['9'] = pt89['9'].dt.strftime('%Y/%m/%d')\n",
    "pt89['10'] = pt89['10'].dt.strftime('%Y/%m/%d')\n",
    "pt89['11'] = pt89['11'].dt.strftime('%Y/%m/%d')\n",
    "pt89['12'] = pt89['12'].dt.strftime('%Y/%m/%d')\n",
    "pt89['13'] = pt89['13'].dt.strftime('%Y/%m/%d')\n",
    "pt89['14'] = pt89['14'].dt.strftime('%Y/%m/%d')\n",
    "pt89['15'] = pt89['15'].dt.strftime('%Y/%m/%d')\n",
    "pt89['16'] = pt89['16'].dt.strftime('%Y/%m/%d')\n",
    "pt89['17'] = pt89['17'].dt.strftime('%Y/%m/%d')\n",
    "pt89['18'] = pt89['18'].dt.strftime('%Y/%m/%d')\n",
    "pt89['19'] = pt89['19'].dt.strftime('%Y/%m/%d')\n",
    "pt89['20'] = pt89['20'].dt.strftime('%Y/%m/%d')\n",
    "pt89['21'] = pt89['21'].dt.strftime('%Y/%m/%d')"
   ]
  },
  {
   "cell_type": "code",
   "execution_count": 103,
   "id": "8bfc0230",
   "metadata": {},
   "outputs": [
    {
     "data": {
      "text/html": [
       "<style type=\"text/css\">\n",
       "#T_ce318_row0_col1, #T_ce318_row1_col1, #T_ce318_row3_col1, #T_ce318_row7_col1, #T_ce318_row8_col1, #T_ce318_row14_col1 {\n",
       "  background-color: #6aaed6;\n",
       "  color: #f1f1f1;\n",
       "}\n",
       "#T_ce318_row2_col1 {\n",
       "  background-color: #08306b;\n",
       "  color: #f1f1f1;\n",
       "}\n",
       "#T_ce318_row4_col1, #T_ce318_row5_col1, #T_ce318_row6_col1, #T_ce318_row9_col1, #T_ce318_row10_col1, #T_ce318_row11_col1, #T_ce318_row12_col1, #T_ce318_row13_col1 {\n",
       "  background-color: #f7fbff;\n",
       "  color: #000000;\n",
       "}\n",
       "</style>\n",
       "<table id=\"T_ce318_\">\n",
       "  <thead>\n",
       "    <tr>\n",
       "      <th class=\"blank level0\" >&nbsp;</th>\n",
       "      <th class=\"col_heading level0 col0\" >Date</th>\n",
       "      <th class=\"col_heading level0 col1\" >Hit</th>\n",
       "    </tr>\n",
       "  </thead>\n",
       "  <tbody>\n",
       "    <tr>\n",
       "      <th id=\"T_ce318_level0_row0\" class=\"row_heading level0 row0\" >1453</th>\n",
       "      <td id=\"T_ce318_row0_col0\" class=\"data row0 col0\" >2023-01-28 00:00:00</td>\n",
       "      <td id=\"T_ce318_row0_col1\" class=\"data row0 col1\" >2</td>\n",
       "    </tr>\n",
       "    <tr>\n",
       "      <th id=\"T_ce318_level0_row1\" class=\"row_heading level0 row1\" >1493</th>\n",
       "      <td id=\"T_ce318_row1_col0\" class=\"data row1 col0\" >2023-01-29 00:00:00</td>\n",
       "      <td id=\"T_ce318_row1_col1\" class=\"data row1 col1\" >2</td>\n",
       "    </tr>\n",
       "    <tr>\n",
       "      <th id=\"T_ce318_level0_row2\" class=\"row_heading level0 row2\" >2613</th>\n",
       "      <td id=\"T_ce318_row2_col0\" class=\"data row2 col0\" >2023-02-02 00:00:00</td>\n",
       "      <td id=\"T_ce318_row2_col1\" class=\"data row2 col1\" >3</td>\n",
       "    </tr>\n",
       "    <tr>\n",
       "      <th id=\"T_ce318_level0_row3\" class=\"row_heading level0 row3\" >1386</th>\n",
       "      <td id=\"T_ce318_row3_col0\" class=\"data row3 col0\" >2023-02-03 00:00:00</td>\n",
       "      <td id=\"T_ce318_row3_col1\" class=\"data row3 col1\" >2</td>\n",
       "    </tr>\n",
       "    <tr>\n",
       "      <th id=\"T_ce318_level0_row4\" class=\"row_heading level0 row4\" >954</th>\n",
       "      <td id=\"T_ce318_row4_col0\" class=\"data row4 col0\" >2023-02-05 00:00:00</td>\n",
       "      <td id=\"T_ce318_row4_col1\" class=\"data row4 col1\" >1</td>\n",
       "    </tr>\n",
       "    <tr>\n",
       "      <th id=\"T_ce318_level0_row5\" class=\"row_heading level0 row5\" >216</th>\n",
       "      <td id=\"T_ce318_row5_col0\" class=\"data row5 col0\" >2023-02-06 00:00:00</td>\n",
       "      <td id=\"T_ce318_row5_col1\" class=\"data row5 col1\" >1</td>\n",
       "    </tr>\n",
       "    <tr>\n",
       "      <th id=\"T_ce318_level0_row6\" class=\"row_heading level0 row6\" >1221</th>\n",
       "      <td id=\"T_ce318_row6_col0\" class=\"data row6 col0\" >2023-02-07 00:00:00</td>\n",
       "      <td id=\"T_ce318_row6_col1\" class=\"data row6 col1\" >1</td>\n",
       "    </tr>\n",
       "    <tr>\n",
       "      <th id=\"T_ce318_level0_row7\" class=\"row_heading level0 row7\" >1500</th>\n",
       "      <td id=\"T_ce318_row7_col0\" class=\"data row7 col0\" >2023-02-09 00:00:00</td>\n",
       "      <td id=\"T_ce318_row7_col1\" class=\"data row7 col1\" >2</td>\n",
       "    </tr>\n",
       "    <tr>\n",
       "      <th id=\"T_ce318_level0_row8\" class=\"row_heading level0 row8\" >1448</th>\n",
       "      <td id=\"T_ce318_row8_col0\" class=\"data row8 col0\" >2023-02-10 00:00:00</td>\n",
       "      <td id=\"T_ce318_row8_col1\" class=\"data row8 col1\" >2</td>\n",
       "    </tr>\n",
       "    <tr>\n",
       "      <th id=\"T_ce318_level0_row9\" class=\"row_heading level0 row9\" >179</th>\n",
       "      <td id=\"T_ce318_row9_col0\" class=\"data row9 col0\" >2023-02-11 00:00:00</td>\n",
       "      <td id=\"T_ce318_row9_col1\" class=\"data row9 col1\" >1</td>\n",
       "    </tr>\n",
       "    <tr>\n",
       "      <th id=\"T_ce318_level0_row10\" class=\"row_heading level0 row10\" >994</th>\n",
       "      <td id=\"T_ce318_row10_col0\" class=\"data row10 col0\" >2023-02-14 00:00:00</td>\n",
       "      <td id=\"T_ce318_row10_col1\" class=\"data row10 col1\" >1</td>\n",
       "    </tr>\n",
       "    <tr>\n",
       "      <th id=\"T_ce318_level0_row11\" class=\"row_heading level0 row11\" >1203</th>\n",
       "      <td id=\"T_ce318_row11_col0\" class=\"data row11 col0\" >2023-02-15 00:00:00</td>\n",
       "      <td id=\"T_ce318_row11_col1\" class=\"data row11 col1\" >1</td>\n",
       "    </tr>\n",
       "    <tr>\n",
       "      <th id=\"T_ce318_level0_row12\" class=\"row_heading level0 row12\" >913</th>\n",
       "      <td id=\"T_ce318_row12_col0\" class=\"data row12 col0\" >2023-02-18 00:00:00</td>\n",
       "      <td id=\"T_ce318_row12_col1\" class=\"data row12 col1\" >1</td>\n",
       "    </tr>\n",
       "    <tr>\n",
       "      <th id=\"T_ce318_level0_row13\" class=\"row_heading level0 row13\" >200</th>\n",
       "      <td id=\"T_ce318_row13_col0\" class=\"data row13 col0\" >2023-02-19 00:00:00</td>\n",
       "      <td id=\"T_ce318_row13_col1\" class=\"data row13 col1\" >1</td>\n",
       "    </tr>\n",
       "    <tr>\n",
       "      <th id=\"T_ce318_level0_row14\" class=\"row_heading level0 row14\" >1479</th>\n",
       "      <td id=\"T_ce318_row14_col0\" class=\"data row14 col0\" >2023-02-20 00:00:00</td>\n",
       "      <td id=\"T_ce318_row14_col1\" class=\"data row14 col1\" >2</td>\n",
       "    </tr>\n",
       "  </tbody>\n",
       "</table>\n"
      ],
      "text/plain": [
       "<pandas.io.formats.style.Styler at 0x21101228a00>"
      ]
     },
     "execution_count": 103,
     "metadata": {},
     "output_type": "execute_result"
    }
   ],
   "source": [
    "pt_hits = pd.concat([pt13, pt21, pt34, pt55, pt89])\n",
    "\n",
    "adpod = pt_hits.copy()\n",
    "\n",
    "dzea2 = adpod[1:].unstack().value_counts(ascending=True)\n",
    "\n",
    "dzea2 = pd.DataFrame(dzea2, columns=['Hit'])\n",
    "\n",
    "dzea2 = dzea2.reset_index()\n",
    "dzea2 = dzea2.rename_axis('E', axis=1)\n",
    "dzea2.columns = dzea2.columns.str.replace('index', 'Date')\n",
    "dzea2 = dzea2.rename_axis(None, axis=1)\n",
    "\n",
    "start_date = \"10/08/2022\"\n",
    "end_date = \"31/12/2022\"\n",
    "\n",
    "mask = (dzea2['Date'] > start_date) & (dzea2['Date'] <= end_date)\n",
    "dzea2 = dzea2.loc[mask]\n",
    "\n",
    "# addp_hits.head(50)\n",
    "\n",
    "dzea2 = dzea2.sort_values(by=['Date'], ascending=True)\n",
    "\n",
    "dzea2['Date'] = dzea2['Date'].apply(pd.to_datetime)\n",
    "\n",
    "start_date = t  - timedelta(days = 2)\n",
    "end_date = t + timedelta(days = 90)\n",
    "\n",
    "mask = (dzea2['Date'] > start_date) & (dzea2['Date'] <= end_date)\n",
    "dzea2 = dzea2.loc[mask]\n",
    "\n",
    "# addp_hits.head(50)\n",
    "\n",
    "pt_hit = dzea2.sort_values(by=['Date'], ascending=True)\n",
    "pt_hit.head(15).style.background_gradient(cmap='Blues')"
   ]
  },
  {
   "cell_type": "code",
   "execution_count": 104,
   "id": "7b6635c4",
   "metadata": {},
   "outputs": [
    {
     "data": {
      "text/html": [
       "<div>\n",
       "<style scoped>\n",
       "    .dataframe tbody tr th:only-of-type {\n",
       "        vertical-align: middle;\n",
       "    }\n",
       "\n",
       "    .dataframe tbody tr th {\n",
       "        vertical-align: top;\n",
       "    }\n",
       "\n",
       "    .dataframe thead th {\n",
       "        text-align: right;\n",
       "    }\n",
       "</style>\n",
       "<table border=\"1\" class=\"dataframe\">\n",
       "  <thead>\n",
       "    <tr style=\"text-align: right;\">\n",
       "      <th></th>\n",
       "      <th>Date</th>\n",
       "      <th>Hit</th>\n",
       "    </tr>\n",
       "  </thead>\n",
       "  <tbody>\n",
       "    <tr>\n",
       "      <th>1453</th>\n",
       "      <td>2023-01-28</td>\n",
       "      <td>2</td>\n",
       "    </tr>\n",
       "    <tr>\n",
       "      <th>1493</th>\n",
       "      <td>2023-01-29</td>\n",
       "      <td>2</td>\n",
       "    </tr>\n",
       "    <tr>\n",
       "      <th>2613</th>\n",
       "      <td>2023-02-02</td>\n",
       "      <td>3</td>\n",
       "    </tr>\n",
       "    <tr>\n",
       "      <th>1386</th>\n",
       "      <td>2023-02-03</td>\n",
       "      <td>2</td>\n",
       "    </tr>\n",
       "    <tr>\n",
       "      <th>954</th>\n",
       "      <td>2023-02-05</td>\n",
       "      <td>1</td>\n",
       "    </tr>\n",
       "    <tr>\n",
       "      <th>216</th>\n",
       "      <td>2023-02-06</td>\n",
       "      <td>1</td>\n",
       "    </tr>\n",
       "    <tr>\n",
       "      <th>1221</th>\n",
       "      <td>2023-02-07</td>\n",
       "      <td>1</td>\n",
       "    </tr>\n",
       "    <tr>\n",
       "      <th>1500</th>\n",
       "      <td>2023-02-09</td>\n",
       "      <td>2</td>\n",
       "    </tr>\n",
       "    <tr>\n",
       "      <th>1448</th>\n",
       "      <td>2023-02-10</td>\n",
       "      <td>2</td>\n",
       "    </tr>\n",
       "    <tr>\n",
       "      <th>179</th>\n",
       "      <td>2023-02-11</td>\n",
       "      <td>1</td>\n",
       "    </tr>\n",
       "    <tr>\n",
       "      <th>994</th>\n",
       "      <td>2023-02-14</td>\n",
       "      <td>1</td>\n",
       "    </tr>\n",
       "    <tr>\n",
       "      <th>1203</th>\n",
       "      <td>2023-02-15</td>\n",
       "      <td>1</td>\n",
       "    </tr>\n",
       "    <tr>\n",
       "      <th>913</th>\n",
       "      <td>2023-02-18</td>\n",
       "      <td>1</td>\n",
       "    </tr>\n",
       "    <tr>\n",
       "      <th>200</th>\n",
       "      <td>2023-02-19</td>\n",
       "      <td>1</td>\n",
       "    </tr>\n",
       "    <tr>\n",
       "      <th>1479</th>\n",
       "      <td>2023-02-20</td>\n",
       "      <td>2</td>\n",
       "    </tr>\n",
       "    <tr>\n",
       "      <th>810</th>\n",
       "      <td>2023-02-21</td>\n",
       "      <td>1</td>\n",
       "    </tr>\n",
       "    <tr>\n",
       "      <th>1460</th>\n",
       "      <td>2023-02-23</td>\n",
       "      <td>2</td>\n",
       "    </tr>\n",
       "    <tr>\n",
       "      <th>800</th>\n",
       "      <td>2023-02-24</td>\n",
       "      <td>1</td>\n",
       "    </tr>\n",
       "    <tr>\n",
       "      <th>1484</th>\n",
       "      <td>2023-02-27</td>\n",
       "      <td>2</td>\n",
       "    </tr>\n",
       "    <tr>\n",
       "      <th>1071</th>\n",
       "      <td>2023-02-28</td>\n",
       "      <td>1</td>\n",
       "    </tr>\n",
       "    <tr>\n",
       "      <th>679</th>\n",
       "      <td>2023-03-04</td>\n",
       "      <td>1</td>\n",
       "    </tr>\n",
       "    <tr>\n",
       "      <th>306</th>\n",
       "      <td>2023-03-05</td>\n",
       "      <td>1</td>\n",
       "    </tr>\n",
       "    <tr>\n",
       "      <th>1447</th>\n",
       "      <td>2023-03-06</td>\n",
       "      <td>2</td>\n",
       "    </tr>\n",
       "    <tr>\n",
       "      <th>1222</th>\n",
       "      <td>2023-03-07</td>\n",
       "      <td>1</td>\n",
       "    </tr>\n",
       "    <tr>\n",
       "      <th>964</th>\n",
       "      <td>2023-03-08</td>\n",
       "      <td>1</td>\n",
       "    </tr>\n",
       "    <tr>\n",
       "      <th>1393</th>\n",
       "      <td>2023-03-09</td>\n",
       "      <td>2</td>\n",
       "    </tr>\n",
       "    <tr>\n",
       "      <th>919</th>\n",
       "      <td>2023-03-10</td>\n",
       "      <td>1</td>\n",
       "    </tr>\n",
       "    <tr>\n",
       "      <th>663</th>\n",
       "      <td>2023-03-12</td>\n",
       "      <td>1</td>\n",
       "    </tr>\n",
       "    <tr>\n",
       "      <th>977</th>\n",
       "      <td>2023-03-14</td>\n",
       "      <td>1</td>\n",
       "    </tr>\n",
       "    <tr>\n",
       "      <th>1136</th>\n",
       "      <td>2023-03-15</td>\n",
       "      <td>1</td>\n",
       "    </tr>\n",
       "  </tbody>\n",
       "</table>\n",
       "</div>"
      ],
      "text/plain": [
       "           Date  Hit\n",
       "1453 2023-01-28    2\n",
       "1493 2023-01-29    2\n",
       "2613 2023-02-02    3\n",
       "1386 2023-02-03    2\n",
       "954  2023-02-05    1\n",
       "216  2023-02-06    1\n",
       "1221 2023-02-07    1\n",
       "1500 2023-02-09    2\n",
       "1448 2023-02-10    2\n",
       "179  2023-02-11    1\n",
       "994  2023-02-14    1\n",
       "1203 2023-02-15    1\n",
       "913  2023-02-18    1\n",
       "200  2023-02-19    1\n",
       "1479 2023-02-20    2\n",
       "810  2023-02-21    1\n",
       "1460 2023-02-23    2\n",
       "800  2023-02-24    1\n",
       "1484 2023-02-27    2\n",
       "1071 2023-02-28    1\n",
       "679  2023-03-04    1\n",
       "306  2023-03-05    1\n",
       "1447 2023-03-06    2\n",
       "1222 2023-03-07    1\n",
       "964  2023-03-08    1\n",
       "1393 2023-03-09    2\n",
       "919  2023-03-10    1\n",
       "663  2023-03-12    1\n",
       "977  2023-03-14    1\n",
       "1136 2023-03-15    1"
      ]
     },
     "execution_count": 104,
     "metadata": {},
     "output_type": "execute_result"
    }
   ],
   "source": [
    "dz_Pt = pt_hit.head(30)\n",
    "dz_Pt.to_csv(os.path.join('C://Users//ASUS//Desktop//ASTROTOOL//streamlit//data','PriceTime.csv'), index= False)\n",
    "dz_Pt"
   ]
  },
  {
   "cell_type": "markdown",
   "id": "f86fcbeb",
   "metadata": {},
   "source": [
    "## 2. Result"
   ]
  },
  {
   "cell_type": "code",
   "execution_count": 105,
   "id": "016fdaf4",
   "metadata": {},
   "outputs": [
    {
     "data": {
      "application/vnd.plotly.v1+json": {
       "config": {
        "plotlyServerURL": "https://plot.ly"
       },
       "data": [
        {
         "alignmentgroup": "True",
         "hovertemplate": "Date=%{x}<br>Hit=%{y}<extra></extra>",
         "legendgroup": "",
         "marker": {
          "color": "#636efa",
          "pattern": {
           "shape": ""
          }
         },
         "name": "",
         "offsetgroup": "",
         "orientation": "v",
         "showlegend": false,
         "textposition": "auto",
         "type": "bar",
         "x": [
          "2023-01-28T00:00:00",
          "2023-01-29T00:00:00",
          "2023-02-02T00:00:00",
          "2023-02-03T00:00:00",
          "2023-02-05T00:00:00",
          "2023-02-06T00:00:00",
          "2023-02-07T00:00:00",
          "2023-02-09T00:00:00",
          "2023-02-10T00:00:00",
          "2023-02-11T00:00:00",
          "2023-02-14T00:00:00",
          "2023-02-15T00:00:00",
          "2023-02-18T00:00:00",
          "2023-02-19T00:00:00",
          "2023-02-20T00:00:00",
          "2023-02-21T00:00:00",
          "2023-02-23T00:00:00",
          "2023-02-24T00:00:00",
          "2023-02-27T00:00:00",
          "2023-02-28T00:00:00",
          "2023-03-04T00:00:00",
          "2023-03-05T00:00:00",
          "2023-03-06T00:00:00",
          "2023-03-07T00:00:00",
          "2023-03-08T00:00:00",
          "2023-03-09T00:00:00",
          "2023-03-10T00:00:00",
          "2023-03-12T00:00:00",
          "2023-03-14T00:00:00",
          "2023-03-15T00:00:00",
          "2023-03-18T00:00:00",
          "2023-03-19T00:00:00",
          "2023-03-22T00:00:00",
          "2023-03-24T00:00:00",
          "2023-03-26T00:00:00",
          "2023-03-28T00:00:00",
          "2023-04-01T00:00:00",
          "2023-04-04T00:00:00",
          "2023-04-05T00:00:00",
          "2023-04-06T00:00:00",
          "2023-04-07T00:00:00",
          "2023-04-08T00:00:00",
          "2023-04-12T00:00:00",
          "2023-04-13T00:00:00",
          "2023-04-16T00:00:00",
          "2023-04-18T00:00:00",
          "2023-04-19T00:00:00",
          "2023-04-21T00:00:00",
          "2023-04-22T00:00:00",
          "2023-04-24T00:00:00",
          "2023-04-26T00:00:00",
          "2023-04-27T00:00:00"
         ],
         "xaxis": "x",
         "y": [
          2,
          2,
          3,
          2,
          1,
          1,
          1,
          2,
          2,
          1,
          1,
          1,
          1,
          1,
          2,
          1,
          2,
          1,
          2,
          1,
          1,
          1,
          2,
          1,
          1,
          2,
          1,
          1,
          1,
          1,
          1,
          1,
          2,
          1,
          1,
          1,
          1,
          1,
          1,
          3,
          1,
          3,
          1,
          2,
          1,
          1,
          1,
          1,
          1,
          1,
          1,
          1
         ],
         "yaxis": "y"
        }
       ],
       "layout": {
        "barmode": "relative",
        "legend": {
         "tracegroupgap": 0
        },
        "margin": {
         "t": 60
        },
        "template": {
         "data": {
          "bar": [
           {
            "error_x": {
             "color": "#2a3f5f"
            },
            "error_y": {
             "color": "#2a3f5f"
            },
            "marker": {
             "line": {
              "color": "#E5ECF6",
              "width": 0.5
             },
             "pattern": {
              "fillmode": "overlay",
              "size": 10,
              "solidity": 0.2
             }
            },
            "type": "bar"
           }
          ],
          "barpolar": [
           {
            "marker": {
             "line": {
              "color": "#E5ECF6",
              "width": 0.5
             },
             "pattern": {
              "fillmode": "overlay",
              "size": 10,
              "solidity": 0.2
             }
            },
            "type": "barpolar"
           }
          ],
          "carpet": [
           {
            "aaxis": {
             "endlinecolor": "#2a3f5f",
             "gridcolor": "white",
             "linecolor": "white",
             "minorgridcolor": "white",
             "startlinecolor": "#2a3f5f"
            },
            "baxis": {
             "endlinecolor": "#2a3f5f",
             "gridcolor": "white",
             "linecolor": "white",
             "minorgridcolor": "white",
             "startlinecolor": "#2a3f5f"
            },
            "type": "carpet"
           }
          ],
          "choropleth": [
           {
            "colorbar": {
             "outlinewidth": 0,
             "ticks": ""
            },
            "type": "choropleth"
           }
          ],
          "contour": [
           {
            "colorbar": {
             "outlinewidth": 0,
             "ticks": ""
            },
            "colorscale": [
             [
              0,
              "#0d0887"
             ],
             [
              0.1111111111111111,
              "#46039f"
             ],
             [
              0.2222222222222222,
              "#7201a8"
             ],
             [
              0.3333333333333333,
              "#9c179e"
             ],
             [
              0.4444444444444444,
              "#bd3786"
             ],
             [
              0.5555555555555556,
              "#d8576b"
             ],
             [
              0.6666666666666666,
              "#ed7953"
             ],
             [
              0.7777777777777778,
              "#fb9f3a"
             ],
             [
              0.8888888888888888,
              "#fdca26"
             ],
             [
              1,
              "#f0f921"
             ]
            ],
            "type": "contour"
           }
          ],
          "contourcarpet": [
           {
            "colorbar": {
             "outlinewidth": 0,
             "ticks": ""
            },
            "type": "contourcarpet"
           }
          ],
          "heatmap": [
           {
            "colorbar": {
             "outlinewidth": 0,
             "ticks": ""
            },
            "colorscale": [
             [
              0,
              "#0d0887"
             ],
             [
              0.1111111111111111,
              "#46039f"
             ],
             [
              0.2222222222222222,
              "#7201a8"
             ],
             [
              0.3333333333333333,
              "#9c179e"
             ],
             [
              0.4444444444444444,
              "#bd3786"
             ],
             [
              0.5555555555555556,
              "#d8576b"
             ],
             [
              0.6666666666666666,
              "#ed7953"
             ],
             [
              0.7777777777777778,
              "#fb9f3a"
             ],
             [
              0.8888888888888888,
              "#fdca26"
             ],
             [
              1,
              "#f0f921"
             ]
            ],
            "type": "heatmap"
           }
          ],
          "heatmapgl": [
           {
            "colorbar": {
             "outlinewidth": 0,
             "ticks": ""
            },
            "colorscale": [
             [
              0,
              "#0d0887"
             ],
             [
              0.1111111111111111,
              "#46039f"
             ],
             [
              0.2222222222222222,
              "#7201a8"
             ],
             [
              0.3333333333333333,
              "#9c179e"
             ],
             [
              0.4444444444444444,
              "#bd3786"
             ],
             [
              0.5555555555555556,
              "#d8576b"
             ],
             [
              0.6666666666666666,
              "#ed7953"
             ],
             [
              0.7777777777777778,
              "#fb9f3a"
             ],
             [
              0.8888888888888888,
              "#fdca26"
             ],
             [
              1,
              "#f0f921"
             ]
            ],
            "type": "heatmapgl"
           }
          ],
          "histogram": [
           {
            "marker": {
             "pattern": {
              "fillmode": "overlay",
              "size": 10,
              "solidity": 0.2
             }
            },
            "type": "histogram"
           }
          ],
          "histogram2d": [
           {
            "colorbar": {
             "outlinewidth": 0,
             "ticks": ""
            },
            "colorscale": [
             [
              0,
              "#0d0887"
             ],
             [
              0.1111111111111111,
              "#46039f"
             ],
             [
              0.2222222222222222,
              "#7201a8"
             ],
             [
              0.3333333333333333,
              "#9c179e"
             ],
             [
              0.4444444444444444,
              "#bd3786"
             ],
             [
              0.5555555555555556,
              "#d8576b"
             ],
             [
              0.6666666666666666,
              "#ed7953"
             ],
             [
              0.7777777777777778,
              "#fb9f3a"
             ],
             [
              0.8888888888888888,
              "#fdca26"
             ],
             [
              1,
              "#f0f921"
             ]
            ],
            "type": "histogram2d"
           }
          ],
          "histogram2dcontour": [
           {
            "colorbar": {
             "outlinewidth": 0,
             "ticks": ""
            },
            "colorscale": [
             [
              0,
              "#0d0887"
             ],
             [
              0.1111111111111111,
              "#46039f"
             ],
             [
              0.2222222222222222,
              "#7201a8"
             ],
             [
              0.3333333333333333,
              "#9c179e"
             ],
             [
              0.4444444444444444,
              "#bd3786"
             ],
             [
              0.5555555555555556,
              "#d8576b"
             ],
             [
              0.6666666666666666,
              "#ed7953"
             ],
             [
              0.7777777777777778,
              "#fb9f3a"
             ],
             [
              0.8888888888888888,
              "#fdca26"
             ],
             [
              1,
              "#f0f921"
             ]
            ],
            "type": "histogram2dcontour"
           }
          ],
          "mesh3d": [
           {
            "colorbar": {
             "outlinewidth": 0,
             "ticks": ""
            },
            "type": "mesh3d"
           }
          ],
          "parcoords": [
           {
            "line": {
             "colorbar": {
              "outlinewidth": 0,
              "ticks": ""
             }
            },
            "type": "parcoords"
           }
          ],
          "pie": [
           {
            "automargin": true,
            "type": "pie"
           }
          ],
          "scatter": [
           {
            "marker": {
             "colorbar": {
              "outlinewidth": 0,
              "ticks": ""
             }
            },
            "type": "scatter"
           }
          ],
          "scatter3d": [
           {
            "line": {
             "colorbar": {
              "outlinewidth": 0,
              "ticks": ""
             }
            },
            "marker": {
             "colorbar": {
              "outlinewidth": 0,
              "ticks": ""
             }
            },
            "type": "scatter3d"
           }
          ],
          "scattercarpet": [
           {
            "marker": {
             "colorbar": {
              "outlinewidth": 0,
              "ticks": ""
             }
            },
            "type": "scattercarpet"
           }
          ],
          "scattergeo": [
           {
            "marker": {
             "colorbar": {
              "outlinewidth": 0,
              "ticks": ""
             }
            },
            "type": "scattergeo"
           }
          ],
          "scattergl": [
           {
            "marker": {
             "colorbar": {
              "outlinewidth": 0,
              "ticks": ""
             }
            },
            "type": "scattergl"
           }
          ],
          "scattermapbox": [
           {
            "marker": {
             "colorbar": {
              "outlinewidth": 0,
              "ticks": ""
             }
            },
            "type": "scattermapbox"
           }
          ],
          "scatterpolar": [
           {
            "marker": {
             "colorbar": {
              "outlinewidth": 0,
              "ticks": ""
             }
            },
            "type": "scatterpolar"
           }
          ],
          "scatterpolargl": [
           {
            "marker": {
             "colorbar": {
              "outlinewidth": 0,
              "ticks": ""
             }
            },
            "type": "scatterpolargl"
           }
          ],
          "scatterternary": [
           {
            "marker": {
             "colorbar": {
              "outlinewidth": 0,
              "ticks": ""
             }
            },
            "type": "scatterternary"
           }
          ],
          "surface": [
           {
            "colorbar": {
             "outlinewidth": 0,
             "ticks": ""
            },
            "colorscale": [
             [
              0,
              "#0d0887"
             ],
             [
              0.1111111111111111,
              "#46039f"
             ],
             [
              0.2222222222222222,
              "#7201a8"
             ],
             [
              0.3333333333333333,
              "#9c179e"
             ],
             [
              0.4444444444444444,
              "#bd3786"
             ],
             [
              0.5555555555555556,
              "#d8576b"
             ],
             [
              0.6666666666666666,
              "#ed7953"
             ],
             [
              0.7777777777777778,
              "#fb9f3a"
             ],
             [
              0.8888888888888888,
              "#fdca26"
             ],
             [
              1,
              "#f0f921"
             ]
            ],
            "type": "surface"
           }
          ],
          "table": [
           {
            "cells": {
             "fill": {
              "color": "#EBF0F8"
             },
             "line": {
              "color": "white"
             }
            },
            "header": {
             "fill": {
              "color": "#C8D4E3"
             },
             "line": {
              "color": "white"
             }
            },
            "type": "table"
           }
          ]
         },
         "layout": {
          "annotationdefaults": {
           "arrowcolor": "#2a3f5f",
           "arrowhead": 0,
           "arrowwidth": 1
          },
          "autotypenumbers": "strict",
          "coloraxis": {
           "colorbar": {
            "outlinewidth": 0,
            "ticks": ""
           }
          },
          "colorscale": {
           "diverging": [
            [
             0,
             "#8e0152"
            ],
            [
             0.1,
             "#c51b7d"
            ],
            [
             0.2,
             "#de77ae"
            ],
            [
             0.3,
             "#f1b6da"
            ],
            [
             0.4,
             "#fde0ef"
            ],
            [
             0.5,
             "#f7f7f7"
            ],
            [
             0.6,
             "#e6f5d0"
            ],
            [
             0.7,
             "#b8e186"
            ],
            [
             0.8,
             "#7fbc41"
            ],
            [
             0.9,
             "#4d9221"
            ],
            [
             1,
             "#276419"
            ]
           ],
           "sequential": [
            [
             0,
             "#0d0887"
            ],
            [
             0.1111111111111111,
             "#46039f"
            ],
            [
             0.2222222222222222,
             "#7201a8"
            ],
            [
             0.3333333333333333,
             "#9c179e"
            ],
            [
             0.4444444444444444,
             "#bd3786"
            ],
            [
             0.5555555555555556,
             "#d8576b"
            ],
            [
             0.6666666666666666,
             "#ed7953"
            ],
            [
             0.7777777777777778,
             "#fb9f3a"
            ],
            [
             0.8888888888888888,
             "#fdca26"
            ],
            [
             1,
             "#f0f921"
            ]
           ],
           "sequentialminus": [
            [
             0,
             "#0d0887"
            ],
            [
             0.1111111111111111,
             "#46039f"
            ],
            [
             0.2222222222222222,
             "#7201a8"
            ],
            [
             0.3333333333333333,
             "#9c179e"
            ],
            [
             0.4444444444444444,
             "#bd3786"
            ],
            [
             0.5555555555555556,
             "#d8576b"
            ],
            [
             0.6666666666666666,
             "#ed7953"
            ],
            [
             0.7777777777777778,
             "#fb9f3a"
            ],
            [
             0.8888888888888888,
             "#fdca26"
            ],
            [
             1,
             "#f0f921"
            ]
           ]
          },
          "colorway": [
           "#636efa",
           "#EF553B",
           "#00cc96",
           "#ab63fa",
           "#FFA15A",
           "#19d3f3",
           "#FF6692",
           "#B6E880",
           "#FF97FF",
           "#FECB52"
          ],
          "font": {
           "color": "#2a3f5f"
          },
          "geo": {
           "bgcolor": "white",
           "lakecolor": "white",
           "landcolor": "#E5ECF6",
           "showlakes": true,
           "showland": true,
           "subunitcolor": "white"
          },
          "hoverlabel": {
           "align": "left"
          },
          "hovermode": "closest",
          "mapbox": {
           "style": "light"
          },
          "paper_bgcolor": "white",
          "plot_bgcolor": "#E5ECF6",
          "polar": {
           "angularaxis": {
            "gridcolor": "white",
            "linecolor": "white",
            "ticks": ""
           },
           "bgcolor": "#E5ECF6",
           "radialaxis": {
            "gridcolor": "white",
            "linecolor": "white",
            "ticks": ""
           }
          },
          "scene": {
           "xaxis": {
            "backgroundcolor": "#E5ECF6",
            "gridcolor": "white",
            "gridwidth": 2,
            "linecolor": "white",
            "showbackground": true,
            "ticks": "",
            "zerolinecolor": "white"
           },
           "yaxis": {
            "backgroundcolor": "#E5ECF6",
            "gridcolor": "white",
            "gridwidth": 2,
            "linecolor": "white",
            "showbackground": true,
            "ticks": "",
            "zerolinecolor": "white"
           },
           "zaxis": {
            "backgroundcolor": "#E5ECF6",
            "gridcolor": "white",
            "gridwidth": 2,
            "linecolor": "white",
            "showbackground": true,
            "ticks": "",
            "zerolinecolor": "white"
           }
          },
          "shapedefaults": {
           "line": {
            "color": "#2a3f5f"
           }
          },
          "ternary": {
           "aaxis": {
            "gridcolor": "white",
            "linecolor": "white",
            "ticks": ""
           },
           "baxis": {
            "gridcolor": "white",
            "linecolor": "white",
            "ticks": ""
           },
           "bgcolor": "#E5ECF6",
           "caxis": {
            "gridcolor": "white",
            "linecolor": "white",
            "ticks": ""
           }
          },
          "title": {
           "x": 0.05
          },
          "xaxis": {
           "automargin": true,
           "gridcolor": "white",
           "linecolor": "white",
           "ticks": "",
           "title": {
            "standoff": 15
           },
           "zerolinecolor": "white",
           "zerolinewidth": 2
          },
          "yaxis": {
           "automargin": true,
           "gridcolor": "white",
           "linecolor": "white",
           "ticks": "",
           "title": {
            "standoff": 15
           },
           "zerolinecolor": "white",
           "zerolinewidth": 2
          }
         }
        },
        "xaxis": {
         "anchor": "y",
         "domain": [
          0,
          1
         ],
         "title": {
          "text": "Date"
         }
        },
        "yaxis": {
         "anchor": "x",
         "domain": [
          0,
          1
         ],
         "title": {
          "text": "Hit"
         }
        }
       }
      }
     },
     "metadata": {},
     "output_type": "display_data"
    }
   ],
   "source": [
    "fig = px.bar(pt_hit, x='Date', y='Hit')\n",
    "fig.show()"
   ]
  },
  {
   "cell_type": "markdown",
   "id": "4ee688d3",
   "metadata": {},
   "source": [
    "# **XIV. Sq9**"
   ]
  },
  {
   "cell_type": "markdown",
   "id": "785013ef",
   "metadata": {},
   "source": [
    "## 1. Code"
   ]
  },
  {
   "cell_type": "code",
   "execution_count": 106,
   "id": "3156a0cc",
   "metadata": {},
   "outputs": [
    {
     "data": {
      "text/html": [
       "<div>\n",
       "<style scoped>\n",
       "    .dataframe tbody tr th:only-of-type {\n",
       "        vertical-align: middle;\n",
       "    }\n",
       "\n",
       "    .dataframe tbody tr th {\n",
       "        vertical-align: top;\n",
       "    }\n",
       "\n",
       "    .dataframe thead th {\n",
       "        text-align: right;\n",
       "    }\n",
       "</style>\n",
       "<table border=\"1\" class=\"dataframe\">\n",
       "  <thead>\n",
       "    <tr style=\"text-align: right;\">\n",
       "      <th></th>\n",
       "      <th>45</th>\n",
       "      <th>90</th>\n",
       "      <th>135</th>\n",
       "      <th>180</th>\n",
       "      <th>225</th>\n",
       "      <th>270</th>\n",
       "      <th>315</th>\n",
       "    </tr>\n",
       "  </thead>\n",
       "  <tbody>\n",
       "    <tr>\n",
       "      <th>0</th>\n",
       "      <td>2023-01-13</td>\n",
       "      <td>2023-02-18</td>\n",
       "      <td>2023-03-26</td>\n",
       "      <td>2023-05-01</td>\n",
       "      <td>2023-06-06</td>\n",
       "      <td>2023-07-12</td>\n",
       "      <td>2023-08-17</td>\n",
       "    </tr>\n",
       "    <tr>\n",
       "      <th>1</th>\n",
       "      <td>2022-06-04</td>\n",
       "      <td>2022-07-09</td>\n",
       "      <td>2022-08-13</td>\n",
       "      <td>2022-09-17</td>\n",
       "      <td>2022-10-22</td>\n",
       "      <td>2022-11-26</td>\n",
       "      <td>2022-12-31</td>\n",
       "    </tr>\n",
       "    <tr>\n",
       "      <th>2</th>\n",
       "      <td>2022-06-18</td>\n",
       "      <td>2022-07-17</td>\n",
       "      <td>2022-08-15</td>\n",
       "      <td>2022-09-13</td>\n",
       "      <td>2022-10-12</td>\n",
       "      <td>2022-11-10</td>\n",
       "      <td>2022-12-09</td>\n",
       "    </tr>\n",
       "    <tr>\n",
       "      <th>3</th>\n",
       "      <td>2022-09-10</td>\n",
       "      <td>2022-10-09</td>\n",
       "      <td>2022-11-07</td>\n",
       "      <td>2022-12-06</td>\n",
       "      <td>2023-01-04</td>\n",
       "      <td>2023-02-02</td>\n",
       "      <td>2023-03-03</td>\n",
       "    </tr>\n",
       "    <tr>\n",
       "      <th>4</th>\n",
       "      <td>2022-04-23</td>\n",
       "      <td>2022-05-21</td>\n",
       "      <td>2022-06-18</td>\n",
       "      <td>2022-07-16</td>\n",
       "      <td>2022-08-13</td>\n",
       "      <td>2022-09-10</td>\n",
       "      <td>2022-10-08</td>\n",
       "    </tr>\n",
       "    <tr>\n",
       "      <th>...</th>\n",
       "      <td>...</td>\n",
       "      <td>...</td>\n",
       "      <td>...</td>\n",
       "      <td>...</td>\n",
       "      <td>...</td>\n",
       "      <td>...</td>\n",
       "      <td>...</td>\n",
       "    </tr>\n",
       "    <tr>\n",
       "      <th>57</th>\n",
       "      <td>2022-08-30</td>\n",
       "      <td>2022-09-07</td>\n",
       "      <td>2022-09-15</td>\n",
       "      <td>2022-09-23</td>\n",
       "      <td>2022-10-01</td>\n",
       "      <td>2022-10-09</td>\n",
       "      <td>2022-10-17</td>\n",
       "    </tr>\n",
       "    <tr>\n",
       "      <th>58</th>\n",
       "      <td>2022-07-30</td>\n",
       "      <td>2022-08-06</td>\n",
       "      <td>2022-08-13</td>\n",
       "      <td>2022-08-20</td>\n",
       "      <td>2022-08-27</td>\n",
       "      <td>2022-09-03</td>\n",
       "      <td>2022-09-10</td>\n",
       "    </tr>\n",
       "    <tr>\n",
       "      <th>59</th>\n",
       "      <td>2022-09-01</td>\n",
       "      <td>2022-09-08</td>\n",
       "      <td>2022-09-15</td>\n",
       "      <td>2022-09-22</td>\n",
       "      <td>2022-09-29</td>\n",
       "      <td>2022-10-06</td>\n",
       "      <td>2022-10-13</td>\n",
       "    </tr>\n",
       "    <tr>\n",
       "      <th>60</th>\n",
       "      <td>2022-08-14</td>\n",
       "      <td>2022-08-20</td>\n",
       "      <td>2022-08-26</td>\n",
       "      <td>2022-09-01</td>\n",
       "      <td>2022-09-07</td>\n",
       "      <td>2022-09-13</td>\n",
       "      <td>2022-09-19</td>\n",
       "    </tr>\n",
       "    <tr>\n",
       "      <th>61</th>\n",
       "      <td>2022-08-17</td>\n",
       "      <td>2022-08-21</td>\n",
       "      <td>2022-08-25</td>\n",
       "      <td>2022-08-29</td>\n",
       "      <td>2022-09-02</td>\n",
       "      <td>2022-09-06</td>\n",
       "      <td>2022-09-10</td>\n",
       "    </tr>\n",
       "  </tbody>\n",
       "</table>\n",
       "<p>62 rows × 7 columns</p>\n",
       "</div>"
      ],
      "text/plain": [
       "           45         90        135        180        225        270  \\\n",
       "0  2023-01-13 2023-02-18 2023-03-26 2023-05-01 2023-06-06 2023-07-12   \n",
       "1  2022-06-04 2022-07-09 2022-08-13 2022-09-17 2022-10-22 2022-11-26   \n",
       "2  2022-06-18 2022-07-17 2022-08-15 2022-09-13 2022-10-12 2022-11-10   \n",
       "3  2022-09-10 2022-10-09 2022-11-07 2022-12-06 2023-01-04 2023-02-02   \n",
       "4  2022-04-23 2022-05-21 2022-06-18 2022-07-16 2022-08-13 2022-09-10   \n",
       "..        ...        ...        ...        ...        ...        ...   \n",
       "57 2022-08-30 2022-09-07 2022-09-15 2022-09-23 2022-10-01 2022-10-09   \n",
       "58 2022-07-30 2022-08-06 2022-08-13 2022-08-20 2022-08-27 2022-09-03   \n",
       "59 2022-09-01 2022-09-08 2022-09-15 2022-09-22 2022-09-29 2022-10-06   \n",
       "60 2022-08-14 2022-08-20 2022-08-26 2022-09-01 2022-09-07 2022-09-13   \n",
       "61 2022-08-17 2022-08-21 2022-08-25 2022-08-29 2022-09-02 2022-09-06   \n",
       "\n",
       "          315  \n",
       "0  2023-08-17  \n",
       "1  2022-12-31  \n",
       "2  2022-12-09  \n",
       "3  2023-03-03  \n",
       "4  2022-10-08  \n",
       "..        ...  \n",
       "57 2022-10-17  \n",
       "58 2022-09-10  \n",
       "59 2022-10-13  \n",
       "60 2022-09-19  \n",
       "61 2022-09-10  \n",
       "\n",
       "[62 rows x 7 columns]"
      ]
     },
     "execution_count": 106,
     "metadata": {},
     "output_type": "execute_result"
    }
   ],
   "source": [
    "sq9 = SQ9.copy()\n",
    "\n",
    "q = sq9['Sq9']\n",
    "sq9['0'] = d = pd.to_datetime(sq9['0'])\n",
    "op1 = ((q).to_numpy().reshape(-1, 1) * (np.arange(1, 8)).reshape(1, -1))\n",
    "sq9g = op1.astype('timedelta64[D]') + d.to_numpy().reshape(-1, 1)\n",
    "sq9g = pd.DataFrame(sq9g, columns=['45', '90', '135', '180', '225','270','315'])\n",
    "\n",
    "sq9g"
   ]
  },
  {
   "cell_type": "code",
   "execution_count": 107,
   "id": "f7a64b15",
   "metadata": {},
   "outputs": [
    {
     "data": {
      "text/html": [
       "<style type=\"text/css\">\n",
       "#T_34440_row0_col1, #T_34440_row1_col1, #T_34440_row3_col1, #T_34440_row4_col1, #T_34440_row5_col1, #T_34440_row6_col1, #T_34440_row8_col1, #T_34440_row9_col1 {\n",
       "  background-color: #f7fbff;\n",
       "  color: #000000;\n",
       "}\n",
       "#T_34440_row2_col1, #T_34440_row7_col1 {\n",
       "  background-color: #08306b;\n",
       "  color: #f1f1f1;\n",
       "}\n",
       "</style>\n",
       "<table id=\"T_34440_\">\n",
       "  <thead>\n",
       "    <tr>\n",
       "      <th class=\"blank level0\" >&nbsp;</th>\n",
       "      <th class=\"col_heading level0 col0\" >Date</th>\n",
       "      <th class=\"col_heading level0 col1\" >Hit</th>\n",
       "    </tr>\n",
       "  </thead>\n",
       "  <tbody>\n",
       "    <tr>\n",
       "      <th id=\"T_34440_level0_row0\" class=\"row_heading level0 row0\" >12</th>\n",
       "      <td id=\"T_34440_row0_col0\" class=\"data row0 col0\" >2023-01-28 00:00:00</td>\n",
       "      <td id=\"T_34440_row0_col1\" class=\"data row0 col1\" >1</td>\n",
       "    </tr>\n",
       "    <tr>\n",
       "      <th id=\"T_34440_level0_row1\" class=\"row_heading level0 row1\" >58</th>\n",
       "      <td id=\"T_34440_row1_col0\" class=\"data row1 col0\" >2023-02-02 00:00:00</td>\n",
       "      <td id=\"T_34440_row1_col1\" class=\"data row1 col1\" >1</td>\n",
       "    </tr>\n",
       "    <tr>\n",
       "      <th id=\"T_34440_level0_row2\" class=\"row_heading level0 row2\" >106</th>\n",
       "      <td id=\"T_34440_row2_col0\" class=\"data row2 col0\" >2023-02-04 00:00:00</td>\n",
       "      <td id=\"T_34440_row2_col1\" class=\"data row2 col1\" >2</td>\n",
       "    </tr>\n",
       "    <tr>\n",
       "      <th id=\"T_34440_level0_row3\" class=\"row_heading level0 row3\" >52</th>\n",
       "      <td id=\"T_34440_row3_col0\" class=\"data row3 col0\" >2023-02-08 00:00:00</td>\n",
       "      <td id=\"T_34440_row3_col1\" class=\"data row3 col1\" >1</td>\n",
       "    </tr>\n",
       "    <tr>\n",
       "      <th id=\"T_34440_level0_row4\" class=\"row_heading level0 row4\" >53</th>\n",
       "      <td id=\"T_34440_row4_col0\" class=\"data row4 col0\" >2023-02-09 00:00:00</td>\n",
       "      <td id=\"T_34440_row4_col1\" class=\"data row4 col1\" >1</td>\n",
       "    </tr>\n",
       "    <tr>\n",
       "      <th id=\"T_34440_level0_row5\" class=\"row_heading level0 row5\" >41</th>\n",
       "      <td id=\"T_34440_row5_col0\" class=\"data row5 col0\" >2023-02-18 00:00:00</td>\n",
       "      <td id=\"T_34440_row5_col1\" class=\"data row5 col1\" >1</td>\n",
       "    </tr>\n",
       "    <tr>\n",
       "      <th id=\"T_34440_level0_row6\" class=\"row_heading level0 row6\" >46</th>\n",
       "      <td id=\"T_34440_row6_col0\" class=\"data row6 col0\" >2023-02-19 00:00:00</td>\n",
       "      <td id=\"T_34440_row6_col1\" class=\"data row6 col1\" >1</td>\n",
       "    </tr>\n",
       "    <tr>\n",
       "      <th id=\"T_34440_level0_row7\" class=\"row_heading level0 row7\" >92</th>\n",
       "      <td id=\"T_34440_row7_col0\" class=\"data row7 col0\" >2023-02-25 00:00:00</td>\n",
       "      <td id=\"T_34440_row7_col1\" class=\"data row7 col1\" >2</td>\n",
       "    </tr>\n",
       "    <tr>\n",
       "      <th id=\"T_34440_level0_row8\" class=\"row_heading level0 row8\" >38</th>\n",
       "      <td id=\"T_34440_row8_col0\" class=\"data row8 col0\" >2023-03-02 00:00:00</td>\n",
       "      <td id=\"T_34440_row8_col1\" class=\"data row8 col1\" >1</td>\n",
       "    </tr>\n",
       "    <tr>\n",
       "      <th id=\"T_34440_level0_row9\" class=\"row_heading level0 row9\" >47</th>\n",
       "      <td id=\"T_34440_row9_col0\" class=\"data row9 col0\" >2023-03-03 00:00:00</td>\n",
       "      <td id=\"T_34440_row9_col1\" class=\"data row9 col1\" >1</td>\n",
       "    </tr>\n",
       "  </tbody>\n",
       "</table>\n"
      ],
      "text/plain": [
       "<pandas.io.formats.style.Styler at 0x2110122c310>"
      ]
     },
     "execution_count": 107,
     "metadata": {},
     "output_type": "execute_result"
    }
   ],
   "source": [
    "adpod = sq9g.copy()\n",
    "\n",
    "dzea2 = adpod[1:].unstack().value_counts(ascending=True)\n",
    "\n",
    "dzea2 = pd.DataFrame(dzea2, columns=['Hit'])\n",
    "\n",
    "dzea2 = dzea2.reset_index()\n",
    "dzea2 = dzea2.rename_axis('E', axis=1)\n",
    "dzea2.columns = dzea2.columns.str.replace('index', 'Date')\n",
    "dzea2 = dzea2.rename_axis(None, axis=1)\n",
    "\n",
    "dzea2 = dzea2.sort_values(by=['Date'], ascending=True)\n",
    "\n",
    "dzea2['Date'] = dzea2['Date'].apply(pd.to_datetime)\n",
    "\n",
    "start_date = t  - timedelta(days = 2)\n",
    "end_date = t + timedelta(days = 90)\n",
    "\n",
    "mask = (dzea2['Date'] > start_date) & (dzea2['Date'] <= end_date)\n",
    "dzea2 = dzea2.loc[mask]\n",
    "\n",
    "# addp_hits.head(50)\n",
    "\n",
    "ggggg = dzea2.sort_values(by=['Date'], ascending=True)\n",
    "ggggg.head(10).style.background_gradient(cmap='Blues')"
   ]
  },
  {
   "cell_type": "code",
   "execution_count": 108,
   "id": "cc70b06f",
   "metadata": {},
   "outputs": [
    {
     "data": {
      "text/html": [
       "<div>\n",
       "<style scoped>\n",
       "    .dataframe tbody tr th:only-of-type {\n",
       "        vertical-align: middle;\n",
       "    }\n",
       "\n",
       "    .dataframe tbody tr th {\n",
       "        vertical-align: top;\n",
       "    }\n",
       "\n",
       "    .dataframe thead th {\n",
       "        text-align: right;\n",
       "    }\n",
       "</style>\n",
       "<table border=\"1\" class=\"dataframe\">\n",
       "  <thead>\n",
       "    <tr style=\"text-align: right;\">\n",
       "      <th></th>\n",
       "      <th>Date</th>\n",
       "      <th>Hit</th>\n",
       "    </tr>\n",
       "  </thead>\n",
       "  <tbody>\n",
       "    <tr>\n",
       "      <th>0</th>\n",
       "      <td>18/09/2022</td>\n",
       "      <td>8</td>\n",
       "    </tr>\n",
       "    <tr>\n",
       "      <th>1</th>\n",
       "      <td>19/09/2022</td>\n",
       "      <td>9</td>\n",
       "    </tr>\n",
       "    <tr>\n",
       "      <th>2</th>\n",
       "      <td>20/09/2022</td>\n",
       "      <td>9</td>\n",
       "    </tr>\n",
       "    <tr>\n",
       "      <th>3</th>\n",
       "      <td>21/09/2022</td>\n",
       "      <td>6</td>\n",
       "    </tr>\n",
       "    <tr>\n",
       "      <th>4</th>\n",
       "      <td>22/09/2022</td>\n",
       "      <td>12</td>\n",
       "    </tr>\n",
       "    <tr>\n",
       "      <th>...</th>\n",
       "      <td>...</td>\n",
       "      <td>...</td>\n",
       "    </tr>\n",
       "    <tr>\n",
       "      <th>100</th>\n",
       "      <td>27/12/2022</td>\n",
       "      <td>3</td>\n",
       "    </tr>\n",
       "    <tr>\n",
       "      <th>101</th>\n",
       "      <td>28/12/2022</td>\n",
       "      <td>1</td>\n",
       "    </tr>\n",
       "    <tr>\n",
       "      <th>102</th>\n",
       "      <td>29/12/2022</td>\n",
       "      <td>0</td>\n",
       "    </tr>\n",
       "    <tr>\n",
       "      <th>103</th>\n",
       "      <td>30/12/2022</td>\n",
       "      <td>1</td>\n",
       "    </tr>\n",
       "    <tr>\n",
       "      <th>104</th>\n",
       "      <td>31/12/2022</td>\n",
       "      <td>2</td>\n",
       "    </tr>\n",
       "  </tbody>\n",
       "</table>\n",
       "<p>105 rows × 2 columns</p>\n",
       "</div>"
      ],
      "text/plain": [
       "           Date  Hit\n",
       "0    18/09/2022    8\n",
       "1    19/09/2022    9\n",
       "2    20/09/2022    9\n",
       "3    21/09/2022    6\n",
       "4    22/09/2022   12\n",
       "..          ...  ...\n",
       "100  27/12/2022    3\n",
       "101  28/12/2022    1\n",
       "102  29/12/2022    0\n",
       "103  30/12/2022    1\n",
       "104  31/12/2022    2\n",
       "\n",
       "[105 rows x 2 columns]"
      ]
     },
     "execution_count": 108,
     "metadata": {},
     "output_type": "execute_result"
    }
   ],
   "source": [
    "dz_Sq9 = square.copy()\n",
    "\n",
    "dz_Sq9.to_csv(os.path.join('C://Users//ASUS//Desktop//ASTROTOOL//streamlit//data','Sq9.csv'), index= False)\n",
    "dz_Sq9"
   ]
  },
  {
   "cell_type": "code",
   "execution_count": null,
   "id": "37bdbdea",
   "metadata": {},
   "outputs": [],
   "source": []
  },
  {
   "cell_type": "code",
   "execution_count": 109,
   "id": "1db29936",
   "metadata": {},
   "outputs": [
    {
     "ename": "FileNotFoundError",
     "evalue": "[Errno 2] No such file or directory: 'helio.csv'",
     "output_type": "error",
     "traceback": [
      "\u001b[1;31m---------------------------------------------------------------------------\u001b[0m",
      "\u001b[1;31mFileNotFoundError\u001b[0m                         Traceback (most recent call last)",
      "\u001b[1;32mc:\\Users\\ASUS\\Desktop\\ASTROTOOL\\MEMOIREPROPRE\\notebook.ipynb Cell 169\u001b[0m in \u001b[0;36m<cell line: 4>\u001b[1;34m()\u001b[0m\n\u001b[0;32m      <a href='vscode-notebook-cell:/c%3A/Users/ASUS/Desktop/ASTROTOOL/MEMOIREPROPRE/notebook.ipynb#Y330sZmlsZQ%3D%3D?line=0'>1</a>\u001b[0m \u001b[39mfrom\u001b[39;00m \u001b[39mdatetime\u001b[39;00m \u001b[39mimport\u001b[39;00m date\n\u001b[0;32m      <a href='vscode-notebook-cell:/c%3A/Users/ASUS/Desktop/ASTROTOOL/MEMOIREPROPRE/notebook.ipynb#Y330sZmlsZQ%3D%3D?line=2'>3</a>\u001b[0m \u001b[39m# Import Data\u001b[39;00m\n\u001b[1;32m----> <a href='vscode-notebook-cell:/c%3A/Users/ASUS/Desktop/ASTROTOOL/MEMOIREPROPRE/notebook.ipynb#Y330sZmlsZQ%3D%3D?line=3'>4</a>\u001b[0m helio \u001b[39m=\u001b[39m pd\u001b[39m.\u001b[39;49mread_csv(\u001b[39m\"\u001b[39;49m\u001b[39mhelio.csv\u001b[39;49m\u001b[39m\"\u001b[39;49m, index_col\u001b[39m=\u001b[39;49m\u001b[39m0\u001b[39;49m)\n\u001b[0;32m      <a href='vscode-notebook-cell:/c%3A/Users/ASUS/Desktop/ASTROTOOL/MEMOIREPROPRE/notebook.ipynb#Y330sZmlsZQ%3D%3D?line=4'>5</a>\u001b[0m geo \u001b[39m=\u001b[39m pd\u001b[39m.\u001b[39mread_csv(\u001b[39m\"\u001b[39m\u001b[39mgeo.csv\u001b[39m\u001b[39m\"\u001b[39m, index_col\u001b[39m=\u001b[39m\u001b[39m0\u001b[39m)\n\u001b[0;32m      <a href='vscode-notebook-cell:/c%3A/Users/ASUS/Desktop/ASTROTOOL/MEMOIREPROPRE/notebook.ipynb#Y330sZmlsZQ%3D%3D?line=6'>7</a>\u001b[0m \u001b[39m# Find Planet Entry Using Today's Date\u001b[39;00m\n",
      "File \u001b[1;32mc:\\Users\\ASUS\\AppData\\Local\\Programs\\Python\\Python39\\lib\\site-packages\\pandas\\util\\_decorators.py:311\u001b[0m, in \u001b[0;36mdeprecate_nonkeyword_arguments.<locals>.decorate.<locals>.wrapper\u001b[1;34m(*args, **kwargs)\u001b[0m\n\u001b[0;32m    305\u001b[0m \u001b[39mif\u001b[39;00m \u001b[39mlen\u001b[39m(args) \u001b[39m>\u001b[39m num_allow_args:\n\u001b[0;32m    306\u001b[0m     warnings\u001b[39m.\u001b[39mwarn(\n\u001b[0;32m    307\u001b[0m         msg\u001b[39m.\u001b[39mformat(arguments\u001b[39m=\u001b[39marguments),\n\u001b[0;32m    308\u001b[0m         \u001b[39mFutureWarning\u001b[39;00m,\n\u001b[0;32m    309\u001b[0m         stacklevel\u001b[39m=\u001b[39mstacklevel,\n\u001b[0;32m    310\u001b[0m     )\n\u001b[1;32m--> 311\u001b[0m \u001b[39mreturn\u001b[39;00m func(\u001b[39m*\u001b[39margs, \u001b[39m*\u001b[39m\u001b[39m*\u001b[39mkwargs)\n",
      "File \u001b[1;32mc:\\Users\\ASUS\\AppData\\Local\\Programs\\Python\\Python39\\lib\\site-packages\\pandas\\io\\parsers\\readers.py:586\u001b[0m, in \u001b[0;36mread_csv\u001b[1;34m(filepath_or_buffer, sep, delimiter, header, names, index_col, usecols, squeeze, prefix, mangle_dupe_cols, dtype, engine, converters, true_values, false_values, skipinitialspace, skiprows, skipfooter, nrows, na_values, keep_default_na, na_filter, verbose, skip_blank_lines, parse_dates, infer_datetime_format, keep_date_col, date_parser, dayfirst, cache_dates, iterator, chunksize, compression, thousands, decimal, lineterminator, quotechar, quoting, doublequote, escapechar, comment, encoding, encoding_errors, dialect, error_bad_lines, warn_bad_lines, on_bad_lines, delim_whitespace, low_memory, memory_map, float_precision, storage_options)\u001b[0m\n\u001b[0;32m    571\u001b[0m kwds_defaults \u001b[39m=\u001b[39m _refine_defaults_read(\n\u001b[0;32m    572\u001b[0m     dialect,\n\u001b[0;32m    573\u001b[0m     delimiter,\n\u001b[1;32m   (...)\u001b[0m\n\u001b[0;32m    582\u001b[0m     defaults\u001b[39m=\u001b[39m{\u001b[39m\"\u001b[39m\u001b[39mdelimiter\u001b[39m\u001b[39m\"\u001b[39m: \u001b[39m\"\u001b[39m\u001b[39m,\u001b[39m\u001b[39m\"\u001b[39m},\n\u001b[0;32m    583\u001b[0m )\n\u001b[0;32m    584\u001b[0m kwds\u001b[39m.\u001b[39mupdate(kwds_defaults)\n\u001b[1;32m--> 586\u001b[0m \u001b[39mreturn\u001b[39;00m _read(filepath_or_buffer, kwds)\n",
      "File \u001b[1;32mc:\\Users\\ASUS\\AppData\\Local\\Programs\\Python\\Python39\\lib\\site-packages\\pandas\\io\\parsers\\readers.py:482\u001b[0m, in \u001b[0;36m_read\u001b[1;34m(filepath_or_buffer, kwds)\u001b[0m\n\u001b[0;32m    479\u001b[0m _validate_names(kwds\u001b[39m.\u001b[39mget(\u001b[39m\"\u001b[39m\u001b[39mnames\u001b[39m\u001b[39m\"\u001b[39m, \u001b[39mNone\u001b[39;00m))\n\u001b[0;32m    481\u001b[0m \u001b[39m# Create the parser.\u001b[39;00m\n\u001b[1;32m--> 482\u001b[0m parser \u001b[39m=\u001b[39m TextFileReader(filepath_or_buffer, \u001b[39m*\u001b[39m\u001b[39m*\u001b[39mkwds)\n\u001b[0;32m    484\u001b[0m \u001b[39mif\u001b[39;00m chunksize \u001b[39mor\u001b[39;00m iterator:\n\u001b[0;32m    485\u001b[0m     \u001b[39mreturn\u001b[39;00m parser\n",
      "File \u001b[1;32mc:\\Users\\ASUS\\AppData\\Local\\Programs\\Python\\Python39\\lib\\site-packages\\pandas\\io\\parsers\\readers.py:811\u001b[0m, in \u001b[0;36mTextFileReader.__init__\u001b[1;34m(self, f, engine, **kwds)\u001b[0m\n\u001b[0;32m    808\u001b[0m \u001b[39mif\u001b[39;00m \u001b[39m\"\u001b[39m\u001b[39mhas_index_names\u001b[39m\u001b[39m\"\u001b[39m \u001b[39min\u001b[39;00m kwds:\n\u001b[0;32m    809\u001b[0m     \u001b[39mself\u001b[39m\u001b[39m.\u001b[39moptions[\u001b[39m\"\u001b[39m\u001b[39mhas_index_names\u001b[39m\u001b[39m\"\u001b[39m] \u001b[39m=\u001b[39m kwds[\u001b[39m\"\u001b[39m\u001b[39mhas_index_names\u001b[39m\u001b[39m\"\u001b[39m]\n\u001b[1;32m--> 811\u001b[0m \u001b[39mself\u001b[39m\u001b[39m.\u001b[39m_engine \u001b[39m=\u001b[39m \u001b[39mself\u001b[39;49m\u001b[39m.\u001b[39;49m_make_engine(\u001b[39mself\u001b[39;49m\u001b[39m.\u001b[39;49mengine)\n",
      "File \u001b[1;32mc:\\Users\\ASUS\\AppData\\Local\\Programs\\Python\\Python39\\lib\\site-packages\\pandas\\io\\parsers\\readers.py:1040\u001b[0m, in \u001b[0;36mTextFileReader._make_engine\u001b[1;34m(self, engine)\u001b[0m\n\u001b[0;32m   1036\u001b[0m     \u001b[39mraise\u001b[39;00m \u001b[39mValueError\u001b[39;00m(\n\u001b[0;32m   1037\u001b[0m         \u001b[39mf\u001b[39m\u001b[39m\"\u001b[39m\u001b[39mUnknown engine: \u001b[39m\u001b[39m{\u001b[39;00mengine\u001b[39m}\u001b[39;00m\u001b[39m (valid options are \u001b[39m\u001b[39m{\u001b[39;00mmapping\u001b[39m.\u001b[39mkeys()\u001b[39m}\u001b[39;00m\u001b[39m)\u001b[39m\u001b[39m\"\u001b[39m\n\u001b[0;32m   1038\u001b[0m     )\n\u001b[0;32m   1039\u001b[0m \u001b[39m# error: Too many arguments for \"ParserBase\"\u001b[39;00m\n\u001b[1;32m-> 1040\u001b[0m \u001b[39mreturn\u001b[39;00m mapping[engine](\u001b[39mself\u001b[39m\u001b[39m.\u001b[39mf, \u001b[39m*\u001b[39m\u001b[39m*\u001b[39m\u001b[39mself\u001b[39m\u001b[39m.\u001b[39moptions)\n",
      "File \u001b[1;32mc:\\Users\\ASUS\\AppData\\Local\\Programs\\Python\\Python39\\lib\\site-packages\\pandas\\io\\parsers\\c_parser_wrapper.py:51\u001b[0m, in \u001b[0;36mCParserWrapper.__init__\u001b[1;34m(self, src, **kwds)\u001b[0m\n\u001b[0;32m     48\u001b[0m kwds[\u001b[39m\"\u001b[39m\u001b[39musecols\u001b[39m\u001b[39m\"\u001b[39m] \u001b[39m=\u001b[39m \u001b[39mself\u001b[39m\u001b[39m.\u001b[39musecols\n\u001b[0;32m     50\u001b[0m \u001b[39m# open handles\u001b[39;00m\n\u001b[1;32m---> 51\u001b[0m \u001b[39mself\u001b[39;49m\u001b[39m.\u001b[39;49m_open_handles(src, kwds)\n\u001b[0;32m     52\u001b[0m \u001b[39massert\u001b[39;00m \u001b[39mself\u001b[39m\u001b[39m.\u001b[39mhandles \u001b[39mis\u001b[39;00m \u001b[39mnot\u001b[39;00m \u001b[39mNone\u001b[39;00m\n\u001b[0;32m     54\u001b[0m \u001b[39m# Have to pass int, would break tests using TextReader directly otherwise :(\u001b[39;00m\n",
      "File \u001b[1;32mc:\\Users\\ASUS\\AppData\\Local\\Programs\\Python\\Python39\\lib\\site-packages\\pandas\\io\\parsers\\base_parser.py:222\u001b[0m, in \u001b[0;36mParserBase._open_handles\u001b[1;34m(self, src, kwds)\u001b[0m\n\u001b[0;32m    218\u001b[0m \u001b[39mdef\u001b[39;00m \u001b[39m_open_handles\u001b[39m(\u001b[39mself\u001b[39m, src: FilePathOrBuffer, kwds: \u001b[39mdict\u001b[39m[\u001b[39mstr\u001b[39m, Any]) \u001b[39m-\u001b[39m\u001b[39m>\u001b[39m \u001b[39mNone\u001b[39;00m:\n\u001b[0;32m    219\u001b[0m     \u001b[39m\"\"\"\u001b[39;00m\n\u001b[0;32m    220\u001b[0m \u001b[39m    Let the readers open IOHandles after they are done with their potential raises.\u001b[39;00m\n\u001b[0;32m    221\u001b[0m \u001b[39m    \"\"\"\u001b[39;00m\n\u001b[1;32m--> 222\u001b[0m     \u001b[39mself\u001b[39m\u001b[39m.\u001b[39mhandles \u001b[39m=\u001b[39m get_handle(\n\u001b[0;32m    223\u001b[0m         src,\n\u001b[0;32m    224\u001b[0m         \u001b[39m\"\u001b[39;49m\u001b[39mr\u001b[39;49m\u001b[39m\"\u001b[39;49m,\n\u001b[0;32m    225\u001b[0m         encoding\u001b[39m=\u001b[39;49mkwds\u001b[39m.\u001b[39;49mget(\u001b[39m\"\u001b[39;49m\u001b[39mencoding\u001b[39;49m\u001b[39m\"\u001b[39;49m, \u001b[39mNone\u001b[39;49;00m),\n\u001b[0;32m    226\u001b[0m         compression\u001b[39m=\u001b[39;49mkwds\u001b[39m.\u001b[39;49mget(\u001b[39m\"\u001b[39;49m\u001b[39mcompression\u001b[39;49m\u001b[39m\"\u001b[39;49m, \u001b[39mNone\u001b[39;49;00m),\n\u001b[0;32m    227\u001b[0m         memory_map\u001b[39m=\u001b[39;49mkwds\u001b[39m.\u001b[39;49mget(\u001b[39m\"\u001b[39;49m\u001b[39mmemory_map\u001b[39;49m\u001b[39m\"\u001b[39;49m, \u001b[39mFalse\u001b[39;49;00m),\n\u001b[0;32m    228\u001b[0m         storage_options\u001b[39m=\u001b[39;49mkwds\u001b[39m.\u001b[39;49mget(\u001b[39m\"\u001b[39;49m\u001b[39mstorage_options\u001b[39;49m\u001b[39m\"\u001b[39;49m, \u001b[39mNone\u001b[39;49;00m),\n\u001b[0;32m    229\u001b[0m         errors\u001b[39m=\u001b[39;49mkwds\u001b[39m.\u001b[39;49mget(\u001b[39m\"\u001b[39;49m\u001b[39mencoding_errors\u001b[39;49m\u001b[39m\"\u001b[39;49m, \u001b[39m\"\u001b[39;49m\u001b[39mstrict\u001b[39;49m\u001b[39m\"\u001b[39;49m),\n\u001b[0;32m    230\u001b[0m     )\n",
      "File \u001b[1;32mc:\\Users\\ASUS\\AppData\\Local\\Programs\\Python\\Python39\\lib\\site-packages\\pandas\\io\\common.py:702\u001b[0m, in \u001b[0;36mget_handle\u001b[1;34m(path_or_buf, mode, encoding, compression, memory_map, is_text, errors, storage_options)\u001b[0m\n\u001b[0;32m    697\u001b[0m \u001b[39melif\u001b[39;00m \u001b[39misinstance\u001b[39m(handle, \u001b[39mstr\u001b[39m):\n\u001b[0;32m    698\u001b[0m     \u001b[39m# Check whether the filename is to be opened in binary mode.\u001b[39;00m\n\u001b[0;32m    699\u001b[0m     \u001b[39m# Binary mode does not support 'encoding' and 'newline'.\u001b[39;00m\n\u001b[0;32m    700\u001b[0m     \u001b[39mif\u001b[39;00m ioargs\u001b[39m.\u001b[39mencoding \u001b[39mand\u001b[39;00m \u001b[39m\"\u001b[39m\u001b[39mb\u001b[39m\u001b[39m\"\u001b[39m \u001b[39mnot\u001b[39;00m \u001b[39min\u001b[39;00m ioargs\u001b[39m.\u001b[39mmode:\n\u001b[0;32m    701\u001b[0m         \u001b[39m# Encoding\u001b[39;00m\n\u001b[1;32m--> 702\u001b[0m         handle \u001b[39m=\u001b[39m \u001b[39mopen\u001b[39;49m(\n\u001b[0;32m    703\u001b[0m             handle,\n\u001b[0;32m    704\u001b[0m             ioargs\u001b[39m.\u001b[39;49mmode,\n\u001b[0;32m    705\u001b[0m             encoding\u001b[39m=\u001b[39;49mioargs\u001b[39m.\u001b[39;49mencoding,\n\u001b[0;32m    706\u001b[0m             errors\u001b[39m=\u001b[39;49merrors,\n\u001b[0;32m    707\u001b[0m             newline\u001b[39m=\u001b[39;49m\u001b[39m\"\u001b[39;49m\u001b[39m\"\u001b[39;49m,\n\u001b[0;32m    708\u001b[0m         )\n\u001b[0;32m    709\u001b[0m     \u001b[39melse\u001b[39;00m:\n\u001b[0;32m    710\u001b[0m         \u001b[39m# Binary mode\u001b[39;00m\n\u001b[0;32m    711\u001b[0m         handle \u001b[39m=\u001b[39m \u001b[39mopen\u001b[39m(handle, ioargs\u001b[39m.\u001b[39mmode)\n",
      "\u001b[1;31mFileNotFoundError\u001b[0m: [Errno 2] No such file or directory: 'helio.csv'"
     ]
    }
   ],
   "source": [
    "from datetime import date\n",
    "\n",
    "# Import Data\n",
    "helio = pd.read_csv(\"helio.csv\", index_col=0)\n",
    "geo = pd.read_csv(\"geo.csv\", index_col=0)\n",
    "\n",
    "# Find Planet Entry Using Today's Date\n",
    "today = date.today().strftime(\"%d/%m/%Y\")\n",
    "\n",
    "entry = helio.loc[today]\n",
    "entry2 = geo.loc[today]\n",
    "\n",
    "# Map Degrees to Planet Names In Dictionary\n",
    "degrees = {}\n",
    "planet_names = [\"Ear_H\", \"Mer_H\", \"Ven_H\", \"Mar_H\", \"Jup_H\", \"Sat_H\", \"Ura_H\", \"Nep_H\", \"Plu_H\"]\n",
    "\n",
    "degrees1 = {}\n",
    "planet_names1 = [\"Moon_G\", \"Sun_G\", \"Mer_G\", \"Ven_G\", \"Mar_G\", \"Jup_G\", \"Sat_G\", \"Ura_G\", \"Nep_G\", \"Plu_G\"]\n",
    "\n",
    "for idx, degree in enumerate(entry):\n",
    "    degrees.update({int(degree): planet_names[idx]})\n",
    "\n",
    "for idx, degree1 in enumerate(entry2):\n",
    "    degrees1.update({int(degree1): planet_names1[idx]})\n",
    "\n",
    "# Define Spiral Parameters\n",
    "MASTER_WIDTH    = 19\n",
    "MASTER_HEIGHT   = 19\n",
    "\n",
    "# CONTINUED\n",
    "\n",
    "matrix = \\\n",
    "    [\n",
    "    [307,308,309,310,311,312,313,314,315,316,317,318,319,320,321,322,323,324,325],\n",
    "    [306,241,242,243,244,245,246,247,248,249,250,251,252,253,254,255,256,257,326],\n",
    "    [305,240,183,184,185,186,187,188,189,190,191,192,193,194,195,196, 197,258,327],\n",
    "    [304,239,182,133,134,135,136,137,138,139,140,141,142,143,144,145,198,259,328],\n",
    "    [303,238,181,132,91,92,93,94,95,96,97,98,99,100,101,146,199,260,329],\n",
    "    [302,237,180,131,90,57,58,59,60,61,62,63,64,65,102,147,200,261,330],\n",
    "    [301,236,179,130,89,56,31,32,33,34,35,36,37,66,103,148,201,262,331],\n",
    "    [300,235,178,129,88,55,30,13,14,15,16,17,38,67,104,149,202,263,332],\n",
    "    [299,234,177,128,87,54,29,12,3,4,5,18,39,68,105,150,203,264,333],\n",
    "    [298,233,176,127,86,53,28,11,2,1,6,19,40,69,106,151,204,265,334],\n",
    "    [297,232,175,126,85,52,27,10,9,8,7,20,41,70,107,152,205,266,335],\n",
    "    [296,231,174,125,84,51,26,25,24,23,22,21,42,71,108,153,206,267,336],\n",
    "    [295,230,173,124,83,50,49,48,47,46,45,44,43,72,109,154,207,268,337],\n",
    "    [294,229,172,123,82,81,80,79,78,77,76,75,74,73,110,155,208,269,338],\n",
    "    [293,228,171,122,121,120,119,118,117,116,115,114,113,112,111,156,209,270,339],\n",
    "    [292,227,170,169,168,167,166,165,164,163,162,161,160,159,158,157,210,271,340],\n",
    "    [291,226,225,224,223,222,221,220,219,218,217,216,215,214,213,212,211,272,341],\n",
    "    [290,289,288,287,286,285,284,283,282,281,280,279,278,277,276,275,274,273,342],\n",
    "    [361,360,359,358,357,356,355,354,353,352,351,350,349,348,347,346,345,344,343]\n",
    "    ]\n",
    "\n",
    "# Add Planet Names to Matrix\n",
    "\n",
    "# H\n",
    "\n",
    "degrees_to_replace = list(degrees.keys())\n",
    "for i, row in enumerate(matrix):\n",
    "    for j, degree in enumerate(row):\n",
    "        if degree in degrees_to_replace:\n",
    "            matrix[i][j] = str(degrees[degree])\n",
    "            \n",
    "# G\n",
    "\n",
    "degrees_to_replace1 = list(degrees1.keys())\n",
    "for i, row in enumerate(matrix):\n",
    "    for j, degree1 in enumerate(row):\n",
    "        if degree1 in degrees_to_replace1:\n",
    "            matrix[i][j] = str(degrees1[degree1])\n",
    "\n",
    "\n",
    "# Print Matrix\n",
    "out_mat = matrix\n",
    "\n",
    "cell_text = []\n",
    "cell_colours = []\n",
    "for i in range(MASTER_HEIGHT):\n",
    "    cell_text.append([])\n",
    "    cell_colours.append([])\n",
    "    for j in range(MASTER_WIDTH):\n",
    "        cell_text[i].append(str(out_mat[i][j]))\n",
    "        \n",
    "        if not str(out_mat[i][j]).isdigit():\n",
    "            if \"_G\" in str(out_mat[i][j]):\n",
    "                cell_colours[i].append(\"#4285F4\")\n",
    "            else:                                \n",
    "                cell_colours[i].append(\"#f5567b\")\n",
    "                \n",
    "        elif  i == j \\\n",
    "            or i == (18-j) \\\n",
    "            or j == (MASTER_WIDTH // 2) \\\n",
    "            or i == (MASTER_HEIGHT // 2):\n",
    "            cell_colours[i].append(\"#fff700\")\n",
    "        else:\n",
    "            cell_colours[i].append(\"w\")\n",
    "\n",
    "cell_colours[9][9] = \"w\"\n",
    "fig, ax = plt.subplots()\n",
    "fig.set_size_inches(18.5, 18.5, forward=True)\n",
    "\n",
    "ax.get_xaxis().set_visible(False)\n",
    "ax.get_yaxis().set_visible(False)\n",
    "ax.axes.spines[\"left\"].set_color(None)\n",
    "ax.axes.spines[\"right\"].set_color(None)\n",
    "ax.axes.spines[\"top\"].set_color(None)\n",
    "ax.axes.spines[\"bottom\"].set_color(None)\n",
    "ax.set_aspect(\"equal\")\n",
    "\n",
    "table = plt.table(cellText=cell_text, cellColours=cell_colours, cellLoc=\"center\", bbox=[0, 0, 1, 1])\n",
    "\n",
    "for k, v in table._cells.items():\n",
    "    v.set_edgecolor((0.7, 0.7, 0.7))\n",
    "\n",
    "#plt.show()\n",
    "plt.savefig('C://Users//ASUS//Desktop//ASTROTOOL//streamlit//images//sq9.png', dpi=300)"
   ]
  },
  {
   "cell_type": "code",
   "execution_count": null,
   "id": "af64ad62",
   "metadata": {},
   "outputs": [],
   "source": [
    "helio.loc['14/04/2021']"
   ]
  },
  {
   "cell_type": "code",
   "execution_count": null,
   "id": "61c2f4c7",
   "metadata": {},
   "outputs": [],
   "source": [
    "degrees"
   ]
  },
  {
   "cell_type": "markdown",
   "id": "9abaf764",
   "metadata": {},
   "source": [
    "## 2. Result"
   ]
  },
  {
   "cell_type": "code",
   "execution_count": null,
   "id": "3392f814",
   "metadata": {},
   "outputs": [],
   "source": [
    "fig = px.bar(ggggg, x='Date', y='Hit')\n",
    "fig.show()"
   ]
  },
  {
   "cell_type": "markdown",
   "id": "c866ca9d",
   "metadata": {},
   "source": [
    "# **XV. Natal**"
   ]
  },
  {
   "cell_type": "markdown",
   "id": "4346dccd",
   "metadata": {},
   "source": [
    "## 1. Code"
   ]
  },
  {
   "cell_type": "markdown",
   "id": "700669a0",
   "metadata": {},
   "source": [
    "### NATAL"
   ]
  },
  {
   "cell_type": "code",
   "execution_count": null,
   "id": "76d77231",
   "metadata": {},
   "outputs": [],
   "source": [
    "helio"
   ]
  },
  {
   "cell_type": "code",
   "execution_count": null,
   "id": "17ee8e8d",
   "metadata": {},
   "outputs": [],
   "source": [
    "# 31/10/2008\n",
    "\n",
    "helcunn = helio_cum.copy() # DF WHERE I GET THE DATES (df_2)\n",
    "helcunn = helcunn.round()\n",
    "\n",
    "helcunn['Date'] = pd.to_datetime(helcunn['Date'])\n",
    "date_filter = \"2000/01/01\"\n",
    "date_filter = pd.to_datetime(date_filter)\n",
    "\n",
    "helcunn = helcunn[helcunn['Date'] > date_filter]\n",
    "\n",
    "s_d = \"31/10/2008\"\n",
    "nat = natal.copy()\n",
    "nat_h = nat.copy()\n",
    "\n",
    "nat_h.Degrees = nat_h.Planets.map(helio.loc[s_d])\n",
    "nat_h.Start_Date = nat_h.Planets.map(helio_cum.set_index(\"Date\").loc[s_d])\n",
    "nat_h.Now = nat_h.Planets.map(helio_cum.set_index(\"Date\").loc[today])\n",
    "nat_h.Cycles = (nat_h.Now - nat_h.Start_Date) / nat_h.Degrees\n",
    "\n",
    "nat_h['Cycles'] = nat_h['Cycles'].iloc[::].apply(np.floor)\n",
    "\n",
    "nat_h['0'] = (nat_h.Cycles * nat_h.Degrees) + nat_h.Start_Date\n",
    "nat_h['1'] = ((nat_h.Cycles + 1) * (nat_h.Degrees)) + nat_h.Start_Date\n",
    "nat_h['2'] = ((nat_h.Cycles + 2) * (nat_h.Degrees)) + nat_h.Start_Date\n",
    "nat_h['3'] = ((nat_h.Cycles + 3) * (nat_h.Degrees)) + nat_h.Start_Date\n",
    "nat_h['4'] = ((nat_h.Cycles + 4) * (nat_h.Degrees)) + nat_h.Start_Date\n",
    "nat_h['5'] = ((nat_h.Cycles + 5) * (nat_h.Degrees)) + nat_h.Start_Date\n",
    "nat_h['6'] = ((nat_h.Cycles + 6) * (nat_h.Degrees)) + nat_h.Start_Date\n",
    "nat_h['7'] = ((nat_h.Cycles + 7) * (nat_h.Degrees)) + nat_h.Start_Date\n",
    "nat_h['8'] = ((nat_h.Cycles + 8) * (nat_h.Degrees)) + nat_h.Start_Date\n",
    "nat_h['9'] = ((nat_h.Cycles + 9) * (nat_h.Degrees)) + nat_h.Start_Date\n",
    "\n",
    "nat_h['0'] = nat_h['0'].round()\n",
    "nat_h['1'] = nat_h['1'].round()\n",
    "nat_h['2'] = nat_h['2'].round()\n",
    "nat_h['3'] = nat_h['3'].round()\n",
    "nat_h['4'] = nat_h['4'].round()\n",
    "nat_h['5'] = nat_h['5'].round()\n",
    "nat_h['6'] = nat_h['6'].round()\n",
    "nat_h['7'] = nat_h['7'].round()\n",
    "nat_h['8'] = nat_h['8'].round()\n",
    "nat_h['9'] = nat_h['9'].round()\n",
    "\n",
    "nat_test = nat_h.copy() # DF WHERE I WANT TO REPLACE DEGREES VALUES BY THEIR CORRESPONDING DATES (df_1)\n",
    "\n",
    "dates              = helcunn.melt(id_vars=\"Date\", var_name=\"Planets\")\n",
    "numeric_cols       = nat_test.columns[nat_test.columns.str.fullmatch(\"\\d+\")]\n",
    "pairs              = nat_test.set_index(\"Planets\").filter(numeric_cols).stack().droplevel(-1).reset_index(name=\"value\")\n",
    "mapper             = pd.merge_asof(pairs.astype({\"value\": float}).sort_values(\"value\"),\n",
    "                                   dates.astype({\"value\": float}).sort_values(\"value\"),\n",
    "                                   on=\"value\",\n",
    "                                   direction=\"forward\").set_index(\"value\")[\"Date\"]\n",
    "\n",
    "nat_test[numeric_cols] = nat_test[numeric_cols].replace(mapper)\n",
    "\n",
    "nat_test"
   ]
  },
  {
   "cell_type": "code",
   "execution_count": null,
   "id": "56c82a49",
   "metadata": {},
   "outputs": [],
   "source": [
    "# 03/01/2009\n",
    "\n",
    "helcunn = helio_cum.copy() # DF WHERE I GET THE DATES (df_2)\n",
    "helcunn = helcunn.round()\n",
    "\n",
    "helcunn['Date'] = pd.to_datetime(helcunn['Date'])\n",
    "date_filter = \"2000/01/01\"\n",
    "date_filter = pd.to_datetime(date_filter)\n",
    "\n",
    "helcunn = helcunn[helcunn['Date'] > date_filter]\n",
    "\n",
    "s_d1 = \"03/01/2009\"\n",
    "nat = natal.copy()\n",
    "nat_2 = nat.copy()\n",
    "\n",
    "nat_2.Degrees = nat_2.Planets.map(helio.loc[s_d1])\n",
    "nat_2.Start_Date = nat_2.Planets.map(helio_cum.set_index(\"Date\").loc[s_d1])\n",
    "nat_2.Now = nat_2.Planets.map(helio_cum.set_index(\"Date\").loc[today])\n",
    "nat_2.Cycles = (nat_2.Now - nat_2.Start_Date) / nat_2.Degrees\n",
    "\n",
    "nat_2['Cycles'] = nat_2['Cycles'].iloc[::].apply(np.floor)\n",
    "\n",
    "nat_2['0'] = (nat_2.Cycles * nat_2.Degrees) + nat_2.Start_Date\n",
    "nat_2['1'] = ((nat_2.Cycles + 1) * (nat_2.Degrees)) + nat_2.Start_Date\n",
    "nat_2['2'] = ((nat_2.Cycles + 2) * (nat_2.Degrees)) + nat_2.Start_Date\n",
    "nat_2['3'] = ((nat_2.Cycles + 3) * (nat_2.Degrees)) + nat_2.Start_Date\n",
    "nat_2['4'] = ((nat_2.Cycles + 4) * (nat_2.Degrees)) + nat_2.Start_Date\n",
    "nat_2['5'] = ((nat_2.Cycles + 5) * (nat_2.Degrees)) + nat_2.Start_Date\n",
    "nat_2['6'] = ((nat_2.Cycles + 6) * (nat_2.Degrees)) + nat_2.Start_Date\n",
    "nat_2['7'] = ((nat_2.Cycles + 7) * (nat_2.Degrees)) + nat_2.Start_Date\n",
    "nat_2['8'] = ((nat_2.Cycles + 8) * (nat_2.Degrees)) + nat_2.Start_Date\n",
    "nat_2['9'] = ((nat_2.Cycles + 9) * (nat_2.Degrees)) + nat_2.Start_Date\n",
    "\n",
    "nat_2['0'] = nat_2['0'].round()\n",
    "nat_2['1'] = nat_2['1'].round()\n",
    "nat_2['2'] = nat_2['2'].round()\n",
    "nat_2['3'] = nat_2['3'].round()\n",
    "nat_2['4'] = nat_2['4'].round()\n",
    "nat_2['5'] = nat_2['5'].round()\n",
    "nat_2['6'] = nat_2['6'].round()\n",
    "nat_2['7'] = nat_2['7'].round()\n",
    "nat_2['8'] = nat_2['8'].round()\n",
    "nat_2['9'] = nat_2['9'].round()\n",
    "\n",
    "nat_test2 = nat_2.copy() # DF WHERE I WANT TO REPLACE DEGREES VALUES BY THEIR CORRESPONDING DATES (df_1)\n",
    "\n",
    "dates              = helcunn.melt(id_vars=\"Date\", var_name=\"Planets\")\n",
    "numeric_cols       = nat_test2.columns[nat_test2.columns.str.fullmatch(\"\\d+\")]\n",
    "pairs              = nat_test2.set_index(\"Planets\").filter(numeric_cols).stack().droplevel(-1).reset_index(name=\"value\")\n",
    "mapper             = pd.merge_asof(pairs.astype({\"value\": float}).sort_values(\"value\"),\n",
    "                                   dates.astype({\"value\": float}).sort_values(\"value\"),\n",
    "                                   on=\"value\",\n",
    "                                   direction=\"forward\").set_index(\"value\")[\"Date\"]\n",
    "\n",
    "nat_test2[numeric_cols] = nat_test2[numeric_cols].replace(mapper)\n",
    "\n",
    "nat_test2"
   ]
  },
  {
   "cell_type": "code",
   "execution_count": null,
   "id": "bdfc61f2",
   "metadata": {},
   "outputs": [],
   "source": [
    "# 22/05/2010\n",
    "\n",
    "helcunn = helio_cum.copy() # DF WHERE I GET THE DATES (df_2)\n",
    "helcunn = helcunn.round()\n",
    "\n",
    "helcunn['Date'] = pd.to_datetime(helcunn['Date'])\n",
    "date_filter = \"2000/01/01\"\n",
    "date_filter = pd.to_datetime(date_filter)\n",
    "\n",
    "helcunn = helcunn[helcunn['Date'] > date_filter]\n",
    "\n",
    "s_d2 = \"22/05/2010\"\n",
    "nat = natal.copy()\n",
    "nat_3 = nat.copy()\n",
    "\n",
    "nat_3.Degrees = nat_3.Planets.map(helio.loc[s_d2])\n",
    "nat_3.Start_Date = nat_3.Planets.map(helio_cum.set_index(\"Date\").loc[s_d2])\n",
    "nat_3.Now = nat_3.Planets.map(helio_cum.set_index(\"Date\").loc[today])\n",
    "nat_3.Cycles = (nat_3.Now - nat_3.Start_Date) / nat_3.Degrees\n",
    "\n",
    "nat_3['Cycles'] = nat_3['Cycles'].iloc[::].apply(np.floor)\n",
    "\n",
    "nat_3['0'] = (nat_3.Cycles * nat_3.Degrees) + nat_3.Start_Date\n",
    "nat_3['1'] = ((nat_3.Cycles + 1) * (nat_3.Degrees)) + nat_3.Start_Date\n",
    "nat_3['2'] = ((nat_3.Cycles + 2) * (nat_3.Degrees)) + nat_3.Start_Date\n",
    "nat_3['3'] = ((nat_3.Cycles + 3) * (nat_3.Degrees)) + nat_3.Start_Date\n",
    "nat_3['4'] = ((nat_3.Cycles + 4) * (nat_3.Degrees)) + nat_3.Start_Date\n",
    "nat_3['5'] = ((nat_3.Cycles + 5) * (nat_3.Degrees)) + nat_3.Start_Date\n",
    "nat_3['6'] = ((nat_3.Cycles + 6) * (nat_3.Degrees)) + nat_3.Start_Date\n",
    "nat_3['7'] = ((nat_3.Cycles + 7) * (nat_3.Degrees)) + nat_3.Start_Date\n",
    "nat_3['8'] = ((nat_3.Cycles + 8) * (nat_3.Degrees)) + nat_3.Start_Date\n",
    "nat_3['9'] = ((nat_3.Cycles + 9) * (nat_3.Degrees)) + nat_3.Start_Date\n",
    "\n",
    "nat_3['0'] = nat_3['0'].round()\n",
    "nat_3['1'] = nat_3['1'].round()\n",
    "nat_3['2'] = nat_3['2'].round()\n",
    "nat_3['3'] = nat_3['3'].round()\n",
    "nat_3['4'] = nat_3['4'].round()\n",
    "nat_3['5'] = nat_3['5'].round()\n",
    "nat_3['6'] = nat_3['6'].round()\n",
    "nat_3['7'] = nat_3['7'].round()\n",
    "nat_3['8'] = nat_3['8'].round()\n",
    "nat_3['9'] = nat_3['9'].round()\n",
    "\n",
    "nat_test3 = nat_3.copy() # DF WHERE I WANT TO REPLACE DEGREES VALUES BY THEIR CORRESPONDING DATES (df_1)\n",
    "\n",
    "dates              = helcunn.melt(id_vars=\"Date\", var_name=\"Planets\")\n",
    "numeric_cols       = nat_test3.columns[nat_test3.columns.str.fullmatch(\"\\d+\")]\n",
    "pairs              = nat_test3.set_index(\"Planets\").filter(numeric_cols).stack().droplevel(-1).reset_index(name=\"value\")\n",
    "mapper             = pd.merge_asof(pairs.astype({\"value\": float}).sort_values(\"value\"),\n",
    "                                   dates.astype({\"value\": float}).sort_values(\"value\"),\n",
    "                                   on=\"value\",\n",
    "                                   direction=\"forward\").set_index(\"value\")[\"Date\"]\n",
    "\n",
    "nat_test3[numeric_cols] = nat_test3[numeric_cols].replace(mapper)\n",
    "\n",
    "nat_test3"
   ]
  },
  {
   "cell_type": "code",
   "execution_count": null,
   "id": "7aea94d0",
   "metadata": {},
   "outputs": [],
   "source": [
    "# 17/12/2017\n",
    "\n",
    "helcunn = helio_cum.copy() # DF WHERE I GET THE DATES (df_2)\n",
    "helcunn = helcunn.round()\n",
    "\n",
    "helcunn['Date'] = pd.to_datetime(helcunn['Date'])\n",
    "date_filter = \"2000/01/01\"\n",
    "date_filter = pd.to_datetime(date_filter)\n",
    "\n",
    "helcunn = helcunn[helcunn['Date'] > date_filter]\n",
    "\n",
    "s_d3 = \"17/12/2017\"\n",
    "nat = natal.copy()\n",
    "nat_4 = nat.copy()\n",
    "\n",
    "nat_4.Degrees = nat_4.Planets.map(helio.loc[s_d3])\n",
    "nat_4.Start_Date = nat_4.Planets.map(helio_cum.set_index(\"Date\").loc[s_d3])\n",
    "nat_4.Now = nat_4.Planets.map(helio_cum.set_index(\"Date\").loc[today])\n",
    "nat_4.Cycles = (nat_4.Now - nat_4.Start_Date) / nat_4.Degrees\n",
    "\n",
    "nat_4['Cycles'] = nat_4['Cycles'].iloc[::].apply(np.floor)\n",
    "\n",
    "nat_4['0'] = (nat_4.Cycles * nat_4.Degrees) + nat_4.Start_Date\n",
    "nat_4['1'] = ((nat_4.Cycles + 1) * (nat_4.Degrees)) + nat_4.Start_Date\n",
    "nat_4['2'] = ((nat_4.Cycles + 2) * (nat_4.Degrees)) + nat_4.Start_Date\n",
    "nat_4['3'] = ((nat_4.Cycles + 3) * (nat_4.Degrees)) + nat_4.Start_Date\n",
    "nat_4['4'] = ((nat_4.Cycles + 4) * (nat_4.Degrees)) + nat_4.Start_Date\n",
    "nat_4['5'] = ((nat_4.Cycles + 5) * (nat_4.Degrees)) + nat_4.Start_Date\n",
    "nat_4['6'] = ((nat_4.Cycles + 6) * (nat_4.Degrees)) + nat_4.Start_Date\n",
    "nat_4['7'] = ((nat_4.Cycles + 7) * (nat_4.Degrees)) + nat_4.Start_Date\n",
    "nat_4['8'] = ((nat_4.Cycles + 8) * (nat_4.Degrees)) + nat_4.Start_Date\n",
    "nat_4['9'] = ((nat_4.Cycles + 9) * (nat_4.Degrees)) + nat_4.Start_Date\n",
    "\n",
    "nat_4['0'] = nat_4['0'].round()\n",
    "nat_4['1'] = nat_4['1'].round()\n",
    "nat_4['2'] = nat_4['2'].round()\n",
    "nat_4['3'] = nat_4['3'].round()\n",
    "nat_4['4'] = nat_4['4'].round()\n",
    "nat_4['5'] = nat_4['5'].round()\n",
    "nat_4['6'] = nat_4['6'].round()\n",
    "nat_4['7'] = nat_4['7'].round()\n",
    "nat_4['8'] = nat_4['8'].round()\n",
    "nat_4['9'] = nat_4['9'].round()\n",
    "\n",
    "nat_test4 = nat_4.copy() # DF WHERE I WANT TO REPLACE DEGREES VALUES BY THEIR CORRESPONDING DATES (df_1)\n",
    "\n",
    "dates              = helcunn.melt(id_vars=\"Date\", var_name=\"Planets\")\n",
    "numeric_cols       = nat_test4.columns[nat_test4.columns.str.fullmatch(\"\\d+\")]\n",
    "pairs              = nat_test4.set_index(\"Planets\").filter(numeric_cols).stack().droplevel(-1).reset_index(name=\"value\")\n",
    "mapper             = pd.merge_asof(pairs.astype({\"value\": float}).sort_values(\"value\"),\n",
    "                                   dates.astype({\"value\": float}).sort_values(\"value\"),\n",
    "                                   on=\"value\",\n",
    "                                   direction=\"forward\").set_index(\"value\")[\"Date\"]\n",
    "\n",
    "nat_test4[numeric_cols] = nat_test4[numeric_cols].replace(mapper)\n",
    "\n",
    "nat_test4"
   ]
  },
  {
   "cell_type": "code",
   "execution_count": null,
   "id": "b3d989da",
   "metadata": {},
   "outputs": [],
   "source": [
    "# 12/03/2020\n",
    "\n",
    "helcunn = helio_cum.copy() # DF WHERE I GET THE DATES (df_2)\n",
    "helcunn = helcunn.round()\n",
    "\n",
    "helcunn['Date'] = pd.to_datetime(helcunn['Date'])\n",
    "date_filter = \"2000/01/01\"\n",
    "date_filter = pd.to_datetime(date_filter)\n",
    "\n",
    "helcunn = helcunn[helcunn['Date'] > date_filter]\n",
    "\n",
    "s_d4 = \"12/03/2020\"\n",
    "nat = natal.copy()\n",
    "nat_5 = nat.copy()\n",
    "\n",
    "nat_5.Degrees = nat_5.Planets.map(helio.loc[s_d4])\n",
    "nat_5.Start_Date = nat_5.Planets.map(helio_cum.set_index(\"Date\").loc[s_d4])\n",
    "nat_5.Now = nat_5.Planets.map(helio_cum.set_index(\"Date\").loc[today])\n",
    "nat_5.Cycles = (nat_5.Now - nat_5.Start_Date) / nat_5.Degrees\n",
    "\n",
    "nat_5['Cycles'] = nat_5['Cycles'].iloc[::].apply(np.floor)\n",
    "\n",
    "nat_5['0'] = (nat_5.Cycles * nat_5.Degrees) + nat_5.Start_Date\n",
    "nat_5['1'] = ((nat_5.Cycles + 1) * (nat_5.Degrees)) + nat_5.Start_Date\n",
    "nat_5['2'] = ((nat_5.Cycles + 2) * (nat_5.Degrees)) + nat_5.Start_Date\n",
    "nat_5['3'] = ((nat_5.Cycles + 3) * (nat_5.Degrees)) + nat_5.Start_Date\n",
    "nat_5['4'] = ((nat_5.Cycles + 4) * (nat_5.Degrees)) + nat_5.Start_Date\n",
    "nat_5['5'] = ((nat_5.Cycles + 5) * (nat_5.Degrees)) + nat_5.Start_Date\n",
    "nat_5['6'] = ((nat_5.Cycles + 6) * (nat_5.Degrees)) + nat_5.Start_Date\n",
    "nat_5['7'] = ((nat_5.Cycles + 7) * (nat_5.Degrees)) + nat_5.Start_Date\n",
    "nat_5['8'] = ((nat_5.Cycles + 8) * (nat_5.Degrees)) + nat_5.Start_Date\n",
    "nat_5['9'] = ((nat_5.Cycles + 9) * (nat_5.Degrees)) + nat_5.Start_Date\n",
    "\n",
    "nat_5['0'] = nat_5['0'].round()\n",
    "nat_5['1'] = nat_5['1'].round()\n",
    "nat_5['2'] = nat_5['2'].round()\n",
    "nat_5['3'] = nat_5['3'].round()\n",
    "nat_5['4'] = nat_5['4'].round()\n",
    "nat_5['5'] = nat_5['5'].round()\n",
    "nat_5['6'] = nat_5['6'].round()\n",
    "nat_5['7'] = nat_5['7'].round()\n",
    "nat_5['8'] = nat_5['8'].round()\n",
    "nat_5['9'] = nat_5['9'].round()\n",
    "\n",
    "nat_test5 = nat_5.copy() # DF WHERE I WANT TO REPLACE DEGREES VALUES BY THEIR CORRESPONDING DATES (df_1)\n",
    "\n",
    "dates              = helcunn.melt(id_vars=\"Date\", var_name=\"Planets\")\n",
    "numeric_cols       = nat_test5.columns[nat_test5.columns.str.fullmatch(\"\\d+\")]\n",
    "pairs              = nat_test5.set_index(\"Planets\").filter(numeric_cols).stack().droplevel(-1).reset_index(name=\"value\")\n",
    "mapper             = pd.merge_asof(pairs.astype({\"value\": float}).sort_values(\"value\"),\n",
    "                                   dates.astype({\"value\": float}).sort_values(\"value\"),\n",
    "                                   on=\"value\",\n",
    "                                   direction=\"forward\").set_index(\"value\")[\"Date\"]\n",
    "\n",
    "nat_test5[numeric_cols] = nat_test5[numeric_cols].replace(mapper)\n",
    "\n",
    "nat_test5"
   ]
  },
  {
   "cell_type": "code",
   "execution_count": null,
   "id": "6fb6b9cf",
   "metadata": {},
   "outputs": [],
   "source": [
    "# 25/04/2021\n",
    "\n",
    "helcunn = helio_cum.copy() # DF WHERE I GET THE DATES (df_2)\n",
    "helcunn = helcunn.round()\n",
    "\n",
    "helcunn['Date'] = pd.to_datetime(helcunn['Date'])\n",
    "date_filter = \"2000/01/01\"\n",
    "date_filter = pd.to_datetime(date_filter)\n",
    "\n",
    "helcunn = helcunn[helcunn['Date'] > date_filter]\n",
    "\n",
    "s_d5 = \"25/04/2021\"\n",
    "nat = natal.copy()\n",
    "nat_6 = nat.copy()\n",
    "\n",
    "nat_6.Degrees = nat_6.Planets.map(helio.loc[s_d5])\n",
    "nat_6.Start_Date = nat_6.Planets.map(helio_cum.set_index(\"Date\").loc[s_d5])\n",
    "nat_6.Now = nat_6.Planets.map(helio_cum.set_index(\"Date\").loc[today])\n",
    "nat_6.Cycles = (nat_6.Now - nat_6.Start_Date) / nat_6.Degrees\n",
    "\n",
    "nat_6['Cycles'] = nat_6['Cycles'].iloc[::].apply(np.floor)\n",
    "\n",
    "nat_6['0'] = (nat_6.Cycles * nat_6.Degrees) + nat_6.Start_Date\n",
    "nat_6['1'] = ((nat_6.Cycles + 1) * (nat_6.Degrees)) + nat_6.Start_Date\n",
    "nat_6['2'] = ((nat_6.Cycles + 2) * (nat_6.Degrees)) + nat_6.Start_Date\n",
    "nat_6['3'] = ((nat_6.Cycles + 3) * (nat_6.Degrees)) + nat_6.Start_Date\n",
    "nat_6['4'] = ((nat_6.Cycles + 4) * (nat_6.Degrees)) + nat_6.Start_Date\n",
    "nat_6['5'] = ((nat_6.Cycles + 5) * (nat_6.Degrees)) + nat_6.Start_Date\n",
    "nat_6['6'] = ((nat_6.Cycles + 6) * (nat_6.Degrees)) + nat_6.Start_Date\n",
    "nat_6['7'] = ((nat_6.Cycles + 7) * (nat_6.Degrees)) + nat_6.Start_Date\n",
    "nat_6['8'] = ((nat_6.Cycles + 8) * (nat_6.Degrees)) + nat_6.Start_Date\n",
    "nat_6['9'] = ((nat_6.Cycles + 9) * (nat_6.Degrees)) + nat_6.Start_Date\n",
    "\n",
    "nat_6['0'] = nat_6['0'].round()\n",
    "nat_6['1'] = nat_6['1'].round()\n",
    "nat_6['2'] = nat_6['2'].round()\n",
    "nat_6['3'] = nat_6['3'].round()\n",
    "nat_6['4'] = nat_6['4'].round()\n",
    "nat_6['5'] = nat_6['5'].round()\n",
    "nat_6['6'] = nat_6['6'].round()\n",
    "nat_6['7'] = nat_6['7'].round()\n",
    "nat_6['8'] = nat_6['8'].round()\n",
    "nat_6['9'] = nat_6['9'].round()\n",
    "\n",
    "nat_test6 = nat_6.copy() # DF WHERE I WANT TO REPLACE DEGREES VALUES BY THEIR CORRESPONDING DATES (df_1)\n",
    "\n",
    "dates              = helcunn.melt(id_vars=\"Date\", var_name=\"Planets\")\n",
    "numeric_cols       = nat_test6.columns[nat_test6.columns.str.fullmatch(\"\\d+\")]\n",
    "pairs              = nat_test6.set_index(\"Planets\").filter(numeric_cols).stack().droplevel(-1).reset_index(name=\"value\")\n",
    "mapper             = pd.merge_asof(pairs.astype({\"value\": float}).sort_values(\"value\"),\n",
    "                                   dates.astype({\"value\": float}).sort_values(\"value\"),\n",
    "                                   on=\"value\",\n",
    "                                   direction=\"forward\").set_index(\"value\")[\"Date\"]\n",
    "\n",
    "nat_test6[numeric_cols] = nat_test6[numeric_cols].replace(mapper)\n",
    "\n",
    "nat_test6"
   ]
  },
  {
   "cell_type": "code",
   "execution_count": null,
   "id": "9d02f13e",
   "metadata": {},
   "outputs": [],
   "source": [
    "# 10/11/2021\n",
    "\n",
    "helcunn = helio_cum.copy() # DF WHERE I GET THE DATES (df_2)\n",
    "helcunn = helcunn.round()\n",
    "\n",
    "helcunn['Date'] = pd.to_datetime(helcunn['Date'])\n",
    "date_filter = \"2000/01/01\"\n",
    "date_filter = pd.to_datetime(date_filter)\n",
    "\n",
    "helcunn = helcunn[helcunn['Date'] > date_filter]\n",
    "\n",
    "s_d6 = \"10/11/2021\"\n",
    "nat = natal.copy()\n",
    "nat_7 = nat.copy()\n",
    "\n",
    "nat_7.Degrees = nat_7.Planets.map(helio.loc[s_d6])\n",
    "nat_7.Start_Date = nat_7.Planets.map(helio_cum.set_index(\"Date\").loc[s_d6])\n",
    "nat_7.Now = nat_7.Planets.map(helio_cum.set_index(\"Date\").loc[today])\n",
    "nat_7.Cycles = (nat_7.Now - nat_7.Start_Date) / nat_7.Degrees\n",
    "\n",
    "nat_7['Cycles'] = nat_7['Cycles'].iloc[::].apply(np.floor)\n",
    "\n",
    "nat_7['0'] = (nat_7.Cycles * nat_7.Degrees) + nat_7.Start_Date\n",
    "nat_7['1'] = ((nat_7.Cycles + 1) * (nat_7.Degrees)) + nat_7.Start_Date\n",
    "nat_7['2'] = ((nat_7.Cycles + 2) * (nat_7.Degrees)) + nat_7.Start_Date\n",
    "nat_7['3'] = ((nat_7.Cycles + 3) * (nat_7.Degrees)) + nat_7.Start_Date\n",
    "nat_7['4'] = ((nat_7.Cycles + 4) * (nat_7.Degrees)) + nat_7.Start_Date\n",
    "nat_7['5'] = ((nat_7.Cycles + 5) * (nat_7.Degrees)) + nat_7.Start_Date\n",
    "nat_7['6'] = ((nat_7.Cycles + 6) * (nat_7.Degrees)) + nat_7.Start_Date\n",
    "nat_7['7'] = ((nat_7.Cycles + 7) * (nat_7.Degrees)) + nat_7.Start_Date\n",
    "nat_7['8'] = ((nat_7.Cycles + 8) * (nat_7.Degrees)) + nat_7.Start_Date\n",
    "nat_7['9'] = ((nat_7.Cycles + 9) * (nat_7.Degrees)) + nat_7.Start_Date\n",
    "\n",
    "nat_7['0'] = nat_7['0'].round()\n",
    "nat_7['1'] = nat_7['1'].round()\n",
    "nat_7['2'] = nat_7['2'].round()\n",
    "nat_7['3'] = nat_7['3'].round()\n",
    "nat_7['4'] = nat_7['4'].round()\n",
    "nat_7['5'] = nat_7['5'].round()\n",
    "nat_7['6'] = nat_7['6'].round()\n",
    "nat_7['7'] = nat_7['7'].round()\n",
    "nat_7['8'] = nat_7['8'].round()\n",
    "nat_7['9'] = nat_7['9'].round()\n",
    "\n",
    "nat_test7 = nat_7.copy() # DF WHERE I WANT TO REPLACE DEGREES VALUES BY THEIR CORRESPONDING DATES (df_1)\n",
    "\n",
    "dates              = helcunn.melt(id_vars=\"Date\", var_name=\"Planets\")\n",
    "numeric_cols       = nat_test7.columns[nat_test7.columns.str.fullmatch(\"\\d+\")]\n",
    "pairs              = nat_test7.set_index(\"Planets\").filter(numeric_cols).stack().droplevel(-1).reset_index(name=\"value\")\n",
    "mapper             = pd.merge_asof(pairs.astype({\"value\": float}).sort_values(\"value\"),\n",
    "                                   dates.astype({\"value\": float}).sort_values(\"value\"),\n",
    "                                   on=\"value\",\n",
    "                                   direction=\"forward\").set_index(\"value\")[\"Date\"]\n",
    "\n",
    "nat_test7[numeric_cols] = nat_test7[numeric_cols].replace(mapper)\n",
    "\n",
    "nat_test7"
   ]
  },
  {
   "cell_type": "code",
   "execution_count": null,
   "id": "91e82bd8",
   "metadata": {},
   "outputs": [],
   "source": [
    "# 18/06/2022\n",
    "\n",
    "helcunn = helio_cum.copy() # DF WHERE I GET THE DATES (df_2)\n",
    "helcunn = helcunn.round()\n",
    "\n",
    "helcunn['Date'] = pd.to_datetime(helcunn['Date'])\n",
    "date_filter = \"2000/01/01\"\n",
    "date_filter = pd.to_datetime(date_filter)\n",
    "\n",
    "helcunn = helcunn[helcunn['Date'] > date_filter]\n",
    "\n",
    "s_d7 = \"18/06/2022\"\n",
    "nat = natal.copy()\n",
    "nat_8 = nat.copy()\n",
    "\n",
    "nat_8.Degrees = nat_8.Planets.map(helio.loc[s_d7])\n",
    "nat_8.Start_Date = nat_8.Planets.map(helio_cum.set_index(\"Date\").loc[s_d7])\n",
    "nat_8.Now = nat_8.Planets.map(helio_cum.set_index(\"Date\").loc[today])\n",
    "nat_8.Cycles = (nat_8.Now - nat_8.Start_Date) / nat_8.Degrees\n",
    "\n",
    "nat_8['Cycles'] = nat_8['Cycles'].iloc[::].apply(np.floor)\n",
    "\n",
    "nat_8['0'] = (nat_8.Cycles * nat_8.Degrees) + nat_8.Start_Date\n",
    "nat_8['1'] = ((nat_8.Cycles + 1) * (nat_8.Degrees)) + nat_8.Start_Date\n",
    "nat_8['2'] = ((nat_8.Cycles + 2) * (nat_8.Degrees)) + nat_8.Start_Date\n",
    "nat_8['3'] = ((nat_8.Cycles + 3) * (nat_8.Degrees)) + nat_8.Start_Date\n",
    "nat_8['4'] = ((nat_8.Cycles + 4) * (nat_8.Degrees)) + nat_8.Start_Date\n",
    "nat_8['5'] = ((nat_8.Cycles + 5) * (nat_8.Degrees)) + nat_8.Start_Date\n",
    "nat_8['6'] = ((nat_8.Cycles + 6) * (nat_8.Degrees)) + nat_8.Start_Date\n",
    "nat_8['7'] = ((nat_8.Cycles + 7) * (nat_8.Degrees)) + nat_8.Start_Date\n",
    "nat_8['8'] = ((nat_8.Cycles + 8) * (nat_8.Degrees)) + nat_8.Start_Date\n",
    "nat_8['9'] = ((nat_8.Cycles + 9) * (nat_8.Degrees)) + nat_8.Start_Date\n",
    "\n",
    "nat_8['0'] = nat_8['0'].round()\n",
    "nat_8['1'] = nat_8['1'].round()\n",
    "nat_8['2'] = nat_8['2'].round()\n",
    "nat_8['3'] = nat_8['3'].round()\n",
    "nat_8['4'] = nat_8['4'].round()\n",
    "nat_8['5'] = nat_8['5'].round()\n",
    "nat_8['6'] = nat_8['6'].round()\n",
    "nat_8['7'] = nat_8['7'].round()\n",
    "nat_8['8'] = nat_8['8'].round()\n",
    "nat_8['9'] = nat_8['9'].round()\n",
    "\n",
    "nat_test8 = nat_8.copy() # DF WHERE I WANT TO REPLACE DEGREES VALUES BY THEIR CORRESPONDING DATES (df_1)\n",
    "\n",
    "dates              = helcunn.melt(id_vars=\"Date\", var_name=\"Planets\")\n",
    "numeric_cols       = nat_test8.columns[nat_test8.columns.str.fullmatch(\"\\d+\")]\n",
    "pairs              = nat_test8.set_index(\"Planets\").filter(numeric_cols).stack().droplevel(-1).reset_index(name=\"value\")\n",
    "mapper             = pd.merge_asof(pairs.astype({\"value\": float}).sort_values(\"value\"),\n",
    "                                   dates.astype({\"value\": float}).sort_values(\"value\"),\n",
    "                                   on=\"value\",\n",
    "                                   direction=\"forward\").set_index(\"value\")[\"Date\"]\n",
    "\n",
    "nat_test8[numeric_cols] = nat_test8[numeric_cols].replace(mapper)\n",
    "\n",
    "nat_test8"
   ]
  },
  {
   "cell_type": "code",
   "execution_count": null,
   "id": "50df6613",
   "metadata": {},
   "outputs": [],
   "source": [
    "nat = pd.concat([nat_test, nat_test2, nat_test3, nat_test4, nat_test5, nat_test6, nat_test7, nat_test8])\n",
    "nat = nat.drop(columns=['Planets', 'Degrees', 'Start_Date', 'Now', 'Cycles'])"
   ]
  },
  {
   "cell_type": "markdown",
   "id": "a748d06a",
   "metadata": {},
   "source": [
    "### Revs"
   ]
  },
  {
   "cell_type": "code",
   "execution_count": null,
   "id": "1afd40cf",
   "metadata": {},
   "outputs": [],
   "source": [
    "# revgui = revgui.drop(columns=['Sat', 'Ura', 'Nep', 'Plu'])"
   ]
  },
  {
   "cell_type": "code",
   "execution_count": null,
   "id": "44dc7362",
   "metadata": {},
   "outputs": [],
   "source": [
    "revgui = revgui.iloc[1: , :]\n",
    "revgui"
   ]
  },
  {
   "cell_type": "code",
   "execution_count": null,
   "id": "699152f5",
   "metadata": {},
   "outputs": [],
   "source": [
    "# 31/10/2008\n",
    "\n",
    "import datetime\n",
    "\n",
    "starting_date = datetime.datetime.strptime(\"31/10/2008\", \"%d/%m/%Y\")\n",
    "\n",
    "input1 = pd.DataFrame({\"Planets\": [\"Earth\", \"Mer\", \"Ven\", \"Mar\", \"Jup\"],\n",
    "                       \"Days\": [365.2425, 88, 225, 687, 4330.6],\n",
    "                       \"Rev\": [13, 57, 22, 7, 1],\n",
    "                       \"0\": \"\",\n",
    "                       \"1\": \"\",\n",
    "                       \"2\": \"\",\n",
    "                       \"3\": \"\"\n",
    "                       })\n",
    "                       \n",
    "output1 = pd.DataFrame()\n",
    "\n",
    "for col in input1.columns[0:3]:\n",
    "    output1[col] = input1[col]\n",
    "\n",
    "for col in input1.columns[3:]:\n",
    "    output1[col] = input1[col]\n",
    "    for row, _ in input1.iterrows():\n",
    "        delta = f'{int(input1[\"Days\"][row] * (input1[\"Rev\"][row] + int(col)))} days'\n",
    "        output1[col][row] = (starting_date + pd.to_timedelta(delta)).strftime('%d/%m/%Y')\n",
    "\n",
    "output1"
   ]
  },
  {
   "cell_type": "code",
   "execution_count": null,
   "id": "0919cfeb",
   "metadata": {},
   "outputs": [],
   "source": [
    "# 03/01/2009\n",
    "\n",
    "import datetime\n",
    "\n",
    "starting_date = datetime.datetime.strptime(\"03/01/2009\", \"%d/%m/%Y\")\n",
    "\n",
    "input2 = pd.DataFrame({\"Planets\": [\"Earth\", \"Mer\", \"Ven\", \"Mar\", \"Jup\"],\n",
    "                       \"Days\": [365.2425, 88, 225, 687, 4330.6],\n",
    "                       \"Rev\": [13, 56, 22, 7, 1],\n",
    "                       \"0\": \"\",\n",
    "                       \"1\": \"\",\n",
    "                       \"2\": \"\",\n",
    "                       \"3\": \"\"\n",
    "                       })\n",
    "                       \n",
    "output2 = pd.DataFrame()\n",
    "\n",
    "for col in input2.columns[0:3]:\n",
    "    output2[col] = input2[col]\n",
    "\n",
    "for col in input2.columns[3:]:\n",
    "    output2[col] = input2[col]\n",
    "    for row, _ in input2.iterrows():\n",
    "        delta = f'{int(input2[\"Days\"][row] * (input2[\"Rev\"][row] + int(col)))} days'\n",
    "        output2[col][row] = (starting_date + pd.to_timedelta(delta)).strftime('%d/%m/%Y')\n",
    "\n",
    "output2"
   ]
  },
  {
   "cell_type": "code",
   "execution_count": null,
   "id": "fe90a276",
   "metadata": {},
   "outputs": [],
   "source": [
    "# 22/05/2010\n",
    "\n",
    "import datetime\n",
    "\n",
    "starting_date = datetime.datetime.strptime(\"22/05/2010\", \"%d/%m/%Y\")\n",
    "\n",
    "input3 = pd.DataFrame({\"Planets\": [\"Earth\", \"Mer\", \"Ven\", \"Mar\", \"Jup\"],\n",
    "                       \"Days\": [365.2425, 88, 225, 687, 4330.6],\n",
    "                       \"Rev\": [12, 51, 20, 6, 1],\n",
    "                       \"0\": \"\",\n",
    "                       \"1\": \"\",\n",
    "                       \"2\": \"\",\n",
    "                       \"3\": \"\"\n",
    "                       })\n",
    "                       \n",
    "output3 = pd.DataFrame()\n",
    "\n",
    "for col in input3.columns[0:3]:\n",
    "    output3[col] = input3[col]\n",
    "\n",
    "for col in input3.columns[3:]:\n",
    "    output3[col] = input3[col]\n",
    "    for row, _ in input3.iterrows():\n",
    "        delta = f'{int(input3[\"Days\"][row] * (input3[\"Rev\"][row] + int(col)))} days'\n",
    "        output3[col][row] = (starting_date + pd.to_timedelta(delta)).strftime('%d/%m/%Y')\n",
    "\n",
    "output3"
   ]
  },
  {
   "cell_type": "code",
   "execution_count": null,
   "id": "eebda94d",
   "metadata": {},
   "outputs": [],
   "source": [
    "# 29/11/2013\n",
    "\n",
    "import datetime\n",
    "\n",
    "starting_date = datetime.datetime.strptime(\"29/11/2013\", \"%d/%m/%Y\")\n",
    "\n",
    "input4 = pd.DataFrame({\"Planets\": [\"Earth\", \"Mer\", \"Ven\", \"Mar\", \"Jup\"],\n",
    "                       \"Days\": [365.2425, 88, 225, 687, 4330.6],\n",
    "                       \"Rev\": [8, 36, 14, 4, 0.72],\n",
    "                       \"0\": \"\",\n",
    "                       \"1\": \"\",\n",
    "                       \"2\": \"\",\n",
    "                       \"3\": \"\"\n",
    "                       })\n",
    "                       \n",
    "output4 = pd.DataFrame()\n",
    "\n",
    "for col in input4.columns[0:3]:\n",
    "    output4[col] = input4[col]\n",
    "\n",
    "for col in input4.columns[3:]:\n",
    "    output4[col] = input4[col]\n",
    "    for row, _ in input4.iterrows():\n",
    "        delta = f'{int(input4[\"Days\"][row] * (input4[\"Rev\"][row] + int(col)))} days'\n",
    "        output4[col][row] = (starting_date + pd.to_timedelta(delta)).strftime('%d/%m/%Y')\n",
    "\n",
    "output4"
   ]
  },
  {
   "cell_type": "code",
   "execution_count": null,
   "id": "6b42cb1a",
   "metadata": {},
   "outputs": [],
   "source": [
    "# 29/11/2013\n",
    "\n",
    "import datetime\n",
    "\n",
    "starting_date = datetime.datetime.strptime(\"29/11/2013\", \"%d/%m/%Y\")\n",
    "\n",
    "input4 = pd.DataFrame({\"Planets\": [\"Earth\", \"Mer\", \"Ven\", \"Mar\", \"Jup\"],\n",
    "                       \"Days\": [365.2425, 88, 225, 687, 4330.6],\n",
    "                       \"Rev\": [8, 36, 14, 4, 0.72],\n",
    "                       \"0\": \"\",\n",
    "                       \"1\": \"\",\n",
    "                       \"2\": \"\",\n",
    "                       \"3\": \"\"\n",
    "                       })\n",
    "                       \n",
    "output4 = pd.DataFrame()\n",
    "\n",
    "for col in input4.columns[0:3]:\n",
    "    output4[col] = input4[col]\n",
    "\n",
    "for col in input4.columns[3:]:\n",
    "    output4[col] = input4[col]\n",
    "    for row, _ in input4.iterrows():\n",
    "        delta = f'{int(input4[\"Days\"][row] * (input4[\"Rev\"][row] + int(col)))} days'\n",
    "        output4[col][row] = (starting_date + pd.to_timedelta(delta)).strftime('%d/%m/%Y')\n",
    "\n",
    "output4"
   ]
  },
  {
   "cell_type": "code",
   "execution_count": null,
   "id": "fc5eb6af",
   "metadata": {},
   "outputs": [],
   "source": [
    "# 17/12/2017\n",
    "\n",
    "import datetime\n",
    "\n",
    "starting_date = datetime.datetime.strptime(\"17/12/2017\", \"%d/%m/%Y\")\n",
    "\n",
    "input5 = pd.DataFrame({\"Planets\": [\"Earth\", \"Mer\", \"Ven\", \"Mar\", \"Jup\"],\n",
    "                       \"Days\": [365.2425, 88, 225, 687, 4330.6],\n",
    "                       \"Rev\": [4, 19, 7, 2, 0.40],\n",
    "                       \"0\": \"\",\n",
    "                       \"1\": \"\",\n",
    "                       \"2\": \"\",\n",
    "                       \"3\": \"\"\n",
    "                       })\n",
    "                       \n",
    "output5 = pd.DataFrame()\n",
    "\n",
    "for col in input5.columns[0:3]:\n",
    "    output5[col] = input5[col]\n",
    "\n",
    "for col in input5.columns[3:]:\n",
    "    output5[col] = input5[col]\n",
    "    for row, _ in input5.iterrows():\n",
    "        delta = f'{int(input5[\"Days\"][row] * (input5[\"Rev\"][row] + int(col)))} days'\n",
    "        output5[col][row] = (starting_date + pd.to_timedelta(delta)).strftime('%d/%m/%Y')\n",
    "\n",
    "output5"
   ]
  },
  {
   "cell_type": "code",
   "execution_count": null,
   "id": "950c5517",
   "metadata": {},
   "outputs": [],
   "source": [
    "# 15/12/2018\n",
    "\n",
    "import datetime\n",
    "\n",
    "starting_date = datetime.datetime.strptime(\"15/12/2018\", \"%d/%m/%Y\")\n",
    "\n",
    "input6 = pd.DataFrame({\"Planets\": [\"Earth\", \"Mer\", \"Ven\", \"Mar\", \"Jup\"],\n",
    "                       \"Days\": [365.2425, 88, 225, 687, 4330.6],\n",
    "                       \"Rev\": [3, 15, 6, 2, 0.32],\n",
    "                       \"0\": \"\",\n",
    "                       \"1\": \"\",\n",
    "                       \"2\": \"\",\n",
    "                       \"3\": \"\"\n",
    "                       })\n",
    "                       \n",
    "output6 = pd.DataFrame()\n",
    "\n",
    "for col in input6.columns[0:3]:\n",
    "    output6[col] = input6[col]\n",
    "\n",
    "for col in input6.columns[3:]:\n",
    "    output6[col] = input6[col]\n",
    "    for row, _ in input6.iterrows():\n",
    "        delta = f'{int(input6[\"Days\"][row] * (input6[\"Rev\"][row] + int(col)))} days'\n",
    "        output6[col][row] = (starting_date + pd.to_timedelta(delta)).strftime('%d/%m/%Y')\n",
    "\n",
    "output6"
   ]
  },
  {
   "cell_type": "code",
   "execution_count": null,
   "id": "09e06416",
   "metadata": {},
   "outputs": [],
   "source": [
    "# 26/06/2019\n",
    "\n",
    "import datetime\n",
    "\n",
    "starting_date = datetime.datetime.strptime(\"26/06/2019\", \"%d/%m/%Y\")\n",
    "\n",
    "input7 = pd.DataFrame({\"Planets\": [\"Earth\", \"Mer\", \"Ven\", \"Mar\", \"Jup\"],\n",
    "                       \"Days\": [365.2425, 88, 225, 687, 4330.6],\n",
    "                       \"Rev\": [3, 13, 5, 1.71, 0.28],\n",
    "                       \"0\": \"\",\n",
    "                       \"1\": \"\",\n",
    "                       \"2\": \"\",\n",
    "                       \"3\": \"\"\n",
    "                       })\n",
    "                       \n",
    "output7 = pd.DataFrame()\n",
    "\n",
    "for col in input7.columns[0:3]:\n",
    "    output7[col] = input7[col]\n",
    "\n",
    "for col in input7.columns[3:]:\n",
    "    output7[col] = input7[col]\n",
    "    for row, _ in input7.iterrows():\n",
    "        delta = f'{int(input7[\"Days\"][row] * (input7[\"Rev\"][row] + int(col)))} days'\n",
    "        output7[col][row] = (starting_date + pd.to_timedelta(delta)).strftime('%d/%m/%Y')\n",
    "\n",
    "output7"
   ]
  },
  {
   "cell_type": "code",
   "execution_count": null,
   "id": "aaec382e",
   "metadata": {},
   "outputs": [],
   "source": [
    "# 12/03/2020\n",
    "\n",
    "import datetime\n",
    "\n",
    "starting_date = datetime.datetime.strptime(\"12/03/2020\", \"%d/%m/%Y\")\n",
    "\n",
    "input8 = pd.DataFrame({\"Planets\": [\"Earth\", \"Mer\", \"Ven\", \"Mar\", \"Jup\"],\n",
    "                       \"Days\": [365.2425, 88, 225, 687, 4330.6],\n",
    "                       \"Rev\": [2, 10, 4, 1.38, 0.22],\n",
    "                       \"0\": \"\",\n",
    "                       \"1\": \"\",\n",
    "                       \"2\": \"\",\n",
    "                       \"3\": \"\"\n",
    "                       })\n",
    "                       \n",
    "output8 = pd.DataFrame()\n",
    "\n",
    "for col in input8.columns[0:3]:\n",
    "    output8[col] = input8[col]\n",
    "\n",
    "for col in input8.columns[3:]:\n",
    "    output8[col] = input8[col]\n",
    "    for row, _ in input8.iterrows():\n",
    "        delta = f'{int(input8[\"Days\"][row] * (input8[\"Rev\"][row] + int(col)))} days'\n",
    "        output8[col][row] = (starting_date + pd.to_timedelta(delta)).strftime('%d/%m/%Y')\n",
    "\n",
    "output8"
   ]
  },
  {
   "cell_type": "code",
   "execution_count": null,
   "id": "5d454d7e",
   "metadata": {},
   "outputs": [],
   "source": [
    "# 25/04/2021\n",
    "\n",
    "import datetime\n",
    "\n",
    "starting_date = datetime.datetime.strptime(\"25/04/2021\", \"%d/%m/%Y\")\n",
    "\n",
    "input9 = pd.DataFrame({\"Planets\": [\"Earth\", \"Mer\", \"Ven\", \"Mar\", \"Jup\"],\n",
    "                       \"Days\": [365.2425, 88, 225, 687, 4330.6],\n",
    "                       \"Rev\": [1, 5, 2, 0.73, 0.12],\n",
    "                       \"0\": \"\",\n",
    "                       \"1\": \"\",\n",
    "                       \"2\": \"\",\n",
    "                       \"3\": \"\"\n",
    "                       })\n",
    "                       \n",
    "output9 = pd.DataFrame()\n",
    "\n",
    "for col in input9.columns[0:3]:\n",
    "    output9[col] = input9[col]\n",
    "\n",
    "for col in input9.columns[3:]:\n",
    "    output9[col] = input9[col]\n",
    "    for row, _ in input9.iterrows():\n",
    "        delta = f'{int(input9[\"Days\"][row] * (input9[\"Rev\"][row] + int(col)))} days'\n",
    "        output9[col][row] = (starting_date + pd.to_timedelta(delta)).strftime('%d/%m/%Y')\n",
    "\n",
    "output9"
   ]
  },
  {
   "cell_type": "code",
   "execution_count": null,
   "id": "d8ecbd71",
   "metadata": {},
   "outputs": [],
   "source": [
    "# 20/07/2021\n",
    "\n",
    "import datetime\n",
    "\n",
    "starting_date = datetime.datetime.strptime(\"20/07/2021\", \"%d/%m/%Y\")\n",
    "\n",
    "input10 = pd.DataFrame({\"Planets\": [\"Earth\", \"Mer\", \"Ven\", \"Mar\", \"Jup\"],\n",
    "                       \"Days\": [365.2425, 88, 225, 687, 4330.6],\n",
    "                       \"Rev\": [1, 4, 1.85, 0.63, 0.10],\n",
    "                       \"0\": \"\",\n",
    "                       \"1\": \"\",\n",
    "                       \"2\": \"\",\n",
    "                       \"3\": \"\"\n",
    "                       })\n",
    "                       \n",
    "output10 = pd.DataFrame()\n",
    "\n",
    "for col in input10.columns[0:3]:\n",
    "    output10[col] = input10[col]\n",
    "\n",
    "for col in input10.columns[3:]:\n",
    "    output10[col] = input10[col]\n",
    "    for row, _ in input10.iterrows():\n",
    "        delta = f'{int(input10[\"Days\"][row] * (input10[\"Rev\"][row] + int(col)))} days'\n",
    "        output10[col][row] = (starting_date + pd.to_timedelta(delta)).strftime('%d/%m/%Y')\n",
    "\n",
    "output10"
   ]
  },
  {
   "cell_type": "code",
   "execution_count": null,
   "id": "6094e0eb",
   "metadata": {},
   "outputs": [],
   "source": [
    "# 20/10/2021\n",
    "\n",
    "import datetime\n",
    "\n",
    "starting_date = datetime.datetime.strptime(\"20/10/2021\", \"%d/%m/%Y\")\n",
    "\n",
    "input11 = pd.DataFrame({\"Planets\": [\"Earth\", \"Mer\", \"Ven\", \"Mar\", \"Jup\"],\n",
    "                       \"Days\": [365.2425, 88, 225, 687, 4330.6],\n",
    "                       \"Rev\": [1, 3.64, 1.45, 0.52, 0.08],\n",
    "                       \"0\": \"\",\n",
    "                       \"1\": \"\",\n",
    "                       \"2\": \"\",\n",
    "                       \"3\": \"\"\n",
    "                       })\n",
    "                       \n",
    "output11 = pd.DataFrame()\n",
    "\n",
    "for col in input11.columns[0:3]:\n",
    "    output11[col] = input11[col]\n",
    "\n",
    "for col in input11.columns[3:]:\n",
    "    output11[col] = input11[col]\n",
    "    for row, _ in input11.iterrows():\n",
    "        delta = f'{int(input11[\"Days\"][row] * (input11[\"Rev\"][row] + int(col)))} days'\n",
    "        output11[col][row] = (starting_date + pd.to_timedelta(delta)).strftime('%d/%m/%Y')\n",
    "\n",
    "output11"
   ]
  },
  {
   "cell_type": "code",
   "execution_count": null,
   "id": "5ebb6372",
   "metadata": {},
   "outputs": [],
   "source": [
    "# 10/11/2021\n",
    "\n",
    "import datetime\n",
    "\n",
    "starting_date = datetime.datetime.strptime(\"10/11/2021\", \"%d/%m/%Y\")\n",
    "\n",
    "input12 = pd.DataFrame({\"Planets\": [\"Earth\", \"Mer\", \"Ven\", \"Mar\", \"Jup\"],\n",
    "                       \"Days\": [365.2425, 88, 225, 687, 4330.6],\n",
    "                       \"Rev\": [1, 3.34, 1.35, 0.49, 0.07],\n",
    "                       \"0\": \"\",\n",
    "                       \"1\": \"\",\n",
    "                       \"2\": \"\",\n",
    "                       \"3\": \"\"\n",
    "                       })\n",
    "                       \n",
    "output12 = pd.DataFrame()\n",
    "\n",
    "for col in input12.columns[0:3]:\n",
    "    output12[col] = input12[col]\n",
    "\n",
    "for col in input12.columns[3:]:\n",
    "    output12[col] = input12[col]\n",
    "    for row, _ in input12.iterrows():\n",
    "        delta = f'{int(input12[\"Days\"][row] * (input12[\"Rev\"][row] + int(col)))} days'\n",
    "        output12[col][row] = (starting_date + pd.to_timedelta(delta)).strftime('%d/%m/%Y')\n",
    "\n",
    "output12"
   ]
  },
  {
   "cell_type": "code",
   "execution_count": null,
   "id": "7f286bba",
   "metadata": {},
   "outputs": [],
   "source": [
    "# 18/06/2022\n",
    "\n",
    "import datetime\n",
    "\n",
    "starting_date = datetime.datetime.strptime(\"18/06/2022\", \"%d/%m/%Y\")\n",
    "\n",
    "input13 = pd.DataFrame({\"Planets\": [\"Earth\", \"Mer\", \"Ven\", \"Mar\", \"Jup\"],\n",
    "                       \"Days\": [365.2425, 88, 225, 687, 4330.6],\n",
    "                       \"Rev\": [1, 0.97, 0.38, 0.14, 0.02],\n",
    "                       \"0\": \"\",\n",
    "                       \"1\": \"\",\n",
    "                       \"2\": \"\",\n",
    "                       \"3\": \"\"\n",
    "                       })\n",
    "                       \n",
    "output13 = pd.DataFrame()\n",
    "\n",
    "for col in input13.columns[0:3]:\n",
    "    output13[col] = input13[col]\n",
    "\n",
    "for col in input13.columns[3:]:\n",
    "    output13[col] = input13[col]\n",
    "    for row, _ in input13.iterrows():\n",
    "        delta = f'{int(input13[\"Days\"][row] * (input13[\"Rev\"][row] + int(col)))} days'\n",
    "        output13[col][row] = (starting_date + pd.to_timedelta(delta)).strftime('%d/%m/%Y')\n",
    "\n",
    "output13"
   ]
  },
  {
   "cell_type": "code",
   "execution_count": null,
   "id": "33da4bb8",
   "metadata": {},
   "outputs": [],
   "source": [
    "revgood = pd.concat([output1, output2, output3, output4, output5, output6, output7, output8, output9, output10, output11, output12, output13])\n",
    "revgood = revgood.drop(columns=['Planets', 'Days', 'Rev'])\n",
    "naters = pd.concat([nat, revgood])\n",
    "\n",
    "flugg1 = naters.copy()\n",
    "\n",
    "gdeg2 = flugg1.unstack().value_counts(ascending=True)\n",
    "\n",
    "gdeg2 = pd.DataFrame(gdeg2, columns=['Hit'])\n",
    "\n",
    "gdeg2 = gdeg2.reset_index()\n",
    "gdeg2 = gdeg2.rename_axis('E', axis=1)\n",
    "gdeg2.columns = gdeg2.columns.str.replace('index', 'Date')\n",
    "gdeg2 = gdeg2.rename_axis(None, axis=1)\n",
    "\n",
    "#deg = gdeg2.sort_values(by=['Date'], ascending=True)\n",
    "gdeg2.drop(gdeg2.head(1).index,inplace=True) # drop first n rows\n",
    "\n",
    "gdeg2['Date'] = gdeg2['Date'].apply(pd.to_datetime, format = \"%d/%m/%Y\")\n",
    "\n",
    "start_date = t  - timedelta(days = 2)\n",
    "end_date = t + timedelta(days = 90)\n",
    "\n",
    "mask = (gdeg2['Date'] > start_date) & (gdeg2['Date'] <= end_date)\n",
    "gdeg2 = gdeg2.loc[mask]\n",
    "\n",
    "naters_hits = gdeg2.sort_values(by=['Date'], ascending=True)"
   ]
  },
  {
   "cell_type": "code",
   "execution_count": null,
   "id": "6e83d0f7",
   "metadata": {},
   "outputs": [],
   "source": [
    "dz_Natal = naters_hits.head(30)\n",
    "dz_Natal.to_csv(os.path.join('C://Users//ASUS//Desktop//ASTROTOOL//streamlit//data','Natal.csv'), index= False)\n",
    "dz_Natal"
   ]
  },
  {
   "cell_type": "markdown",
   "id": "a52b8a05",
   "metadata": {},
   "source": [
    "## 2. Result"
   ]
  },
  {
   "cell_type": "code",
   "execution_count": null,
   "id": "2b0bbd5f",
   "metadata": {},
   "outputs": [],
   "source": [
    "fig = px.bar(naters_hits, x='Date', y='Hit')\n",
    "fig.show()"
   ]
  },
  {
   "cell_type": "markdown",
   "id": "566da18f",
   "metadata": {},
   "source": [
    "# **FINAL CHART.py**"
   ]
  },
  {
   "cell_type": "code",
   "execution_count": null,
   "id": "50c7789a",
   "metadata": {},
   "outputs": [],
   "source": [
    "###################################################################################################################################################################\n",
    "######################################################################## WEIGHTED MATRIX ##########################################################################\n",
    "###################################################################################################################################################################\n",
    "\n",
    "# Multiplier\n",
    "\n",
    "maxlat = maxlat.copy()\n",
    "maxlat = maxlat.rename(columns={'Hit': 'maxlat'})\n",
    "maxlat['maxlat'] = maxlat['maxlat'] * 25\n",
    "\n",
    "adddegrees = adddegrees.copy()\n",
    "adddegrees = adddegrees.rename(columns={'Hit': 'adddegrees'})\n",
    "adddegrees['adddegrees'] = adddegrees['adddegrees'] * 2\n",
    "\n",
    "numerology = numerology.copy()\n",
    "numerology = numerology.rename(columns={'Hit': 'numerology'})\n",
    "numerology['numerology'] = numerology['numerology'] * 1\n",
    "\n",
    "NatSqq = NatSq_hits.copy()\n",
    "NatSqq = NatSqq.rename(columns={'Hit': 'NatSq'})\n",
    "NatSqq['NatSq'] = NatSqq['NatSq'] * 3\n",
    "\n",
    "Spiralss = Spiral_hits.copy()\n",
    "Spiralss = Spiralss.rename(columns={'Hit': 'Spirals'})\n",
    "Spiralss['Spirals'] = Spiralss['Spirals'] * 5\n",
    "\n",
    "addPricee = good.copy()\n",
    "addPricee = addPricee.rename(columns={'Hit': 'addPrice'})\n",
    "addPricee['addPrice'] = addPricee['addPrice'] * 10\n",
    "\n",
    "TrNaaa = x_hi.copy()\n",
    "TrNaaa = TrNaaa.rename(columns={'Hit': 'TrNa'})\n",
    "TrNaaa['TrNa'] = TrNaaa['TrNa'] * 1\n",
    "\n",
    "TrTrrr = xxxx.copy()\n",
    "TrTrrr = TrTrrr.rename(columns={'Hit': 'TrTr'})\n",
    "TrTrrr['TrTr'] = TrTrrr['TrTr'] * 1\n",
    "\n",
    "Multtt = mult_hits.copy()\n",
    "Multtt = Multtt.rename(columns={'Hit': 'Mult'})\n",
    "Multtt['Mult'] = Multtt['Mult'] * 3\n",
    "\n",
    "Futureee = ex.copy()\n",
    "Futureee = Futureee.rename(columns={'Hit': 'Future'})\n",
    "Futureee['Future'] = Futureee['Future'] * 5\n",
    "\n",
    "Fibbb = fib_hits.copy()\n",
    "Fibbb = Fibbb.rename(columns={'Hit': 'Fibs'})\n",
    "Fibbb['Fibs'] = Fibbb['Fibs'] * 3\n",
    "\n",
    "Retrooo = rh_hits.copy()\n",
    "Retrooo = Retrooo.rename(columns={'Hit': 'Retro'})\n",
    "Retrooo['Retro'] = Retrooo['Retro'] * 0.5\n",
    "\n",
    "PriceTimeee = pt_hit.copy()\n",
    "PriceTimeee = PriceTimeee.rename(columns={'Hit': 'PriceTime'})\n",
    "PriceTimeee['PriceTime'] = PriceTimeee['PriceTime'] * 5\n",
    "\n",
    "Sq999 = dz_Sq9.copy()\n",
    "Sq999 = Sq999.rename(columns={'Hit': 'Sq9'})\n",
    "Sq999['Sq9'] = Sq999['Sq9'] * 2\n",
    "\n",
    "Nattt = naters_hits.copy()\n",
    "Nattt = Nattt.rename(columns={'Hit': 'Nat'})\n",
    "Nattt['Nat'] = Nattt['Nat'] * 3\n",
    "\n",
    "################################################################################################################################################################\n",
    "###############   ####################   #####################   ##############   ##############   ####################   #####################   ##############\n",
    "################################################################################################################################################################"
   ]
  },
  {
   "cell_type": "code",
   "execution_count": null,
   "id": "8e6c307c",
   "metadata": {},
   "outputs": [],
   "source": [
    "# mettre toutes les dates sous le même format en STR ('%d/%m%Y')\n",
    "# df['Date'] = df['Date'].astype(str)\n",
    "# faire un merge ou on va mettre nvx df (df_news = pd.merge(tous les dfs, on = \"Date\"))\n",
    "# fillna(0)\n",
    "# dataframe propre après\n",
    "\n",
    "maxlat['Date'] = maxlat['Date'].astype(str)\n",
    "\n",
    "adddegrees['Date'] = adddegrees['Date'].astype(str)\n",
    "\n",
    "numerology['Date'] = numerology['Date'].astype(str)\n",
    "\n",
    "NatSqq['Date'] = (pd.to_datetime(NatSqq['Date']).dt.strftime('%d/%m/%Y'))\n",
    "NatSqq['Date'] = NatSqq['Date'].astype(str)\n",
    "\n",
    "Spiralss['Date'] = (pd.to_datetime(Spiralss['Date']).dt.strftime('%d/%m/%Y'))\n",
    "Spiralss['Date'] = Spiralss['Date'].astype(str)\n",
    "\n",
    "addPricee['Date'] = (pd.to_datetime(addPricee['Date']).dt.strftime('%d/%m/%Y'))\n",
    "addPricee['Date'] = addPricee['Date'].astype(str)\n",
    "\n",
    "TrNaaa['Date'] = (pd.to_datetime(TrNaaa['Date']).dt.strftime('%d/%m/%Y'))\n",
    "TrNaaa['Date'] = TrNaaa['Date'].astype(str)\n",
    "\n",
    "TrTrrr = TrTrrr.reset_index(inplace=False)\n",
    "TrTrrr['Date'] = (pd.to_datetime(TrTrrr['Date']).dt.strftime('%d/%m/%Y'))\n",
    "TrTrrr['Date'] = TrTrrr['Date'].astype(str)\n",
    "\n",
    "Multtt['Date'] = (pd.to_datetime(Multtt['Date']).dt.strftime('%d/%m/%Y'))\n",
    "Multtt['Date'] = Multtt['Date'].astype(str)\n",
    "\n",
    "Futureee['Date'] = (pd.to_datetime(Futureee['Date']).dt.strftime('%d/%m/%Y'))\n",
    "Futureee['Date'] = Futureee['Date'].astype(str)\n",
    "\n",
    "Fibbb['Date'] = (pd.to_datetime(Fibbb['Date']).dt.strftime('%d/%m/%Y'))\n",
    "Fibbb['Date'] = Fibbb['Date'].astype(str)\n",
    "\n",
    "Retrooo['Date'] = (pd.to_datetime(Retrooo['Date']).dt.strftime('%d/%m/%Y'))\n",
    "Retrooo['Date'] = Retrooo['Date'].astype(str)\n",
    "\n",
    "PriceTimeee['Date'] = (pd.to_datetime(PriceTimeee['Date']).dt.strftime('%d/%m/%Y'))\n",
    "PriceTimeee['Date'] = PriceTimeee['Date'].astype(str)\n",
    "\n",
    "Sq999['Date'] = (pd.to_datetime(Sq999['Date']).dt.strftime('%d/%m/%Y'))\n",
    "Sq999['Date'] = Sq999['Date'].astype(str)\n",
    "\n",
    "Nattt['Date'] = (pd.to_datetime(Nattt['Date']).dt.strftime('%d/%m/%Y'))\n",
    "Nattt['Date'] = Nattt['Date'].astype(str)"
   ]
  },
  {
   "cell_type": "code",
   "execution_count": null,
   "id": "e6df1a24",
   "metadata": {},
   "outputs": [],
   "source": [
    "#eeee = pd.concat([maxlat, adddegrees , numerology, NatSqq, Spiralss , addPricee , TrNaaa , TrTrrr , Multtt , Futureee , Fibbb , Retrooo , PriceTimeee , Sq999 , Nattt])\n",
    "\n",
    "df_list = [maxlat, adddegrees , numerology, NatSqq, Spiralss , addPricee , TrNaaa , TrTrrr , Multtt , Futureee , Fibbb , Retrooo , PriceTimeee , Sq999 , Nattt]\n",
    "df_merged = reduce(lambda  left,right: pd.merge(left,right,on=['Date'],\n",
    "                                            how='outer'), df_list).fillna(0)\n",
    "\n",
    "df_merged['Total'] = df_merged.sum(axis=1)\n",
    "df_merged = df_merged.drop_duplicates()\n",
    "df_merged['Date'] = df_merged['Date'].drop_duplicates()\n",
    "df_merged = df_merged.dropna()\n",
    "df_merged = df_merged.reset_index()\n",
    "\n",
    "df_merged.head(15)"
   ]
  },
  {
   "cell_type": "code",
   "execution_count": null,
   "id": "ba8fa446",
   "metadata": {},
   "outputs": [],
   "source": [
    "for index, i in enumerate(df_merged['Total']):\n",
    "    if index == 8:\n",
    "        break\n",
    "    list = []\n",
    "    list.append(df_merged['Total'][index])\n",
    "    list.append(df_merged['Total'][index + 1])\n",
    "    list.append(df_merged['Total'][index + 2])\n",
    "\n",
    "print(list)"
   ]
  },
  {
   "cell_type": "code",
   "execution_count": null,
   "id": "9ece9a19",
   "metadata": {},
   "outputs": [],
   "source": [
    "m = fluchart.copy()\n",
    "\n",
    "figui = px.bar(m, x=\"Date\", y=\"Magnitude\", hover_data=['Date', 'Magnitude'], color='Magnitude', color_continuous_scale=px.colors.sequential.Cividis,\n",
    "             height=618).update_layout(xaxis={\"rangeslider\":{\"visible\":True}})\n",
    "figui.show()"
   ]
  }
 ],
 "metadata": {
  "kernelspec": {
   "display_name": "Python 3",
   "language": "python",
   "name": "python3"
  },
  "language_info": {
   "codemirror_mode": {
    "name": "ipython",
    "version": 3
   },
   "file_extension": ".py",
   "mimetype": "text/x-python",
   "name": "python",
   "nbconvert_exporter": "python",
   "pygments_lexer": "ipython3",
   "version": "3.9.8"
  },
  "vscode": {
   "interpreter": {
    "hash": "14958d3aee5f1cad06795f787e54b96185c25fb40dfec723a5be941f3a531b8c"
   }
  }
 },
 "nbformat": 4,
 "nbformat_minor": 5
}
